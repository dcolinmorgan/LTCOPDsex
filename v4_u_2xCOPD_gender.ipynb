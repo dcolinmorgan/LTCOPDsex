{
  "nbformat": 4,
  "nbformat_minor": 0,
  "metadata": {
    "colab": {
      "name": "v4_u_2xCOPD_gender",
      "provenance": [],
      "collapsed_sections": [
        "s__pesv2DbAt",
        "ZE7LZlKhENto",
        "T3jSwAJVRT71"
      ],
      "toc_visible": true,
      "machine_shape": "hm",
      "include_colab_link": true
    },
    "kernelspec": {
      "display_name": "Python 3",
      "name": "python3"
    },
    "accelerator": "GPU"
  },
  "cells": [
    {
      "cell_type": "markdown",
      "metadata": {
        "id": "view-in-github",
        "colab_type": "text"
      },
      "source": [
        "<a href=\"https://colab.research.google.com/github/dcolinmorgan/LTCOPDsex/blob/master/v4_u_2xCOPD_gender.ipynb\" target=\"_parent\"><img src=\"https://colab.research.google.com/assets/colab-badge.svg\" alt=\"Open In Colab\"/></a>"
      ]
    },
    {
      "cell_type": "code",
      "metadata": {
        "id": "tqU5e6cD0X1i"
      },
      "source": [
        "# !pip install s3fs\n",
        "import os,time\n",
        "# import s3fs\n",
        "import pandas as pd\n",
        "import numpy as np\n",
        "from psutil import *\n",
        "import matplotlib.pyplot as plt\n",
        "import gc\n",
        "import random\n",
        "from scipy import stats\n",
        "import seaborn as sns\n",
        "from IPython.display import Image\n",
        "from scipy.stats import zscore\n",
        "timestr = time.strftime(\"%Y%m%d\")\n",
        "import requests \n",
        "import json"
      ],
      "execution_count": null,
      "outputs": []
    },
    {
      "cell_type": "code",
      "metadata": {
        "id": "QVqEHJuQ0bOd",
        "colab": {
          "base_uri": "https://localhost:8080/"
        },
        "outputId": "c8ce8855-6a1a-413e-9bbd-45d52fddf1e3"
      },
      "source": [
        "from google.colab import drive\n",
        "drive.mount('/content/drive')"
      ],
      "execution_count": null,
      "outputs": [
        {
          "output_type": "stream",
          "text": [
            "Mounted at /content/drive\n"
          ],
          "name": "stdout"
        }
      ]
    },
    {
      "cell_type": "code",
      "metadata": {
        "id": "BP_2NmhEC-xH"
      },
      "source": [
        "# data=np.load('/content/drive/MyDrive/LARGE_PANDA/LTRCcase.npy')\n",
        "# plt.hist(data.flatten())"
      ],
      "execution_count": null,
      "outputs": []
    },
    {
      "cell_type": "code",
      "metadata": {
        "id": "OxqvrbnT0bFB"
      },
      "source": [
        "# !git clone https://github.com/netZoo/netZooPy.git\n",
        "!git clone --single-branch --branch devel https://github.com/netZoo/netZooPy.git\n",
        "os.chdir('netZooPy')\n",
        "!pip install -e ./"
      ],
      "execution_count": null,
      "outputs": []
    },
    {
      "cell_type": "code",
      "metadata": {
        "id": "dVVyHKaL0bIX"
      },
      "source": [
        "import netZooPy\n",
        "from netZooPy.panda import Panda\n",
        "from netZooPy.lioness import Lioness\n",
        "# from netZooPy import condor\n",
        "os.chdir('..')"
      ],
      "execution_count": null,
      "outputs": []
    },
    {
      "cell_type": "code",
      "metadata": {
        "id": "iX09NjiD0bKc"
      },
      "source": [
        "!pip install GEOparse\n",
        "# !pip install pycombat"
      ],
      "execution_count": null,
      "outputs": []
    },
    {
      "cell_type": "code",
      "metadata": {
        "id": "a2nb5HDJ0bMV"
      },
      "source": [
        "import GEOparse\n",
        "gse = GEOparse.get_GEO(geo=\"GSE76925\", destdir=\"./\")"
      ],
      "execution_count": null,
      "outputs": []
    },
    {
      "cell_type": "code",
      "metadata": {
        "id": "2pExQ9Pu0let"
      },
      "source": [
        "ww=pd.unique(gse.gpls['GPL10558'].table['Chromosome'])"
      ],
      "execution_count": null,
      "outputs": []
    },
    {
      "cell_type": "code",
      "metadata": {
        "id": "vuY6eiMogl4x"
      },
      "source": [
        "gene2chr=gse.gpls['GPL10558'].table[['ILMN_Gene','Chromosome']]"
      ],
      "execution_count": null,
      "outputs": []
    },
    {
      "cell_type": "code",
      "metadata": {
        "id": "l28nDQImS5zk"
      },
      "source": [
        "data1=pd.read_csv('drive/My Drive/Colab Notebooks/GSE76925.txt',sep='\\t',index_col=0)"
      ],
      "execution_count": null,
      "outputs": []
    },
    {
      "cell_type": "code",
      "metadata": {
        "id": "ddOON1xsaGBw"
      },
      "source": [
        "# largeCOPD=pd.read_csv('drive/My Drive/Colab Notebooks/LARGE_COPD_crossLTCOPD.txt',sep='\\t',index_col=0)"
      ],
      "execution_count": null,
      "outputs": []
    },
    {
      "cell_type": "markdown",
      "metadata": {
        "id": "s__pesv2DbAt"
      },
      "source": [
        "###this data is same as clean expression per Jarrett"
      ]
    },
    {
      "cell_type": "code",
      "metadata": {
        "id": "GCWOMJFkXtZw"
      },
      "source": [
        "del data1['loc']\n",
        "plot=pd.melt(data1)['value']\n",
        "# plot=np.array(plot.astype(float))\n",
        "plt.hist(plot,bins=26)"
      ],
      "execution_count": null,
      "outputs": []
    },
    {
      "cell_type": "code",
      "metadata": {
        "id": "UrKxN_VGhZND"
      },
      "source": [
        "Image(filename='drive/My Drive/Colab Notebooks/clean_LTCOPD.png',width=500)"
      ],
      "execution_count": null,
      "outputs": []
    },
    {
      "cell_type": "code",
      "metadata": {
        "id": "AXHRAdABeyRv"
      },
      "source": [
        "plt.rcParams.update(plt.rcParamsDefault)\n",
        "cc=plt.hist(np.log(data1.values.flatten()),bins=100)"
      ],
      "execution_count": null,
      "outputs": []
    },
    {
      "cell_type": "markdown",
      "metadata": {
        "id": "ZE7LZlKhENto"
      },
      "source": [
        "##test merged lung tissue datasets in PCA and heirarchical clustering"
      ]
    },
    {
      "cell_type": "code",
      "metadata": {
        "id": "eaDQb-c8EU-x"
      },
      "source": [
        "X=largeCOPD#.merge(data1,left_index=True, right_index=True)\n",
        "X=X.T\n",
        "y=(pd.DataFrame(np.zeros(largeCOPD.shape[1]))).astype('int').to_numpy().flatten()\n",
        "# from sklearn.cluster import AgglomerativeClustering\n",
        "X.fillna(0, inplace=True)\n",
        "# model = AgglomerativeClustering(distance_threshold=0, n_clusters=None)\n",
        "from sklearn.decomposition import PCA\n",
        "lw = 2\n",
        "pca = PCA(n_components=lw)\n",
        "X_r=pca.fit(X).transform(X)\n",
        "# model = model.fit(data1)\n",
        "from sklearn import datasets\n",
        "iris = datasets.load_iris()\n",
        "target_names = ['large','small']#iris.target_names\n",
        "\n",
        "plt.figure(figsize=(20, 4))\n",
        "\n",
        "colors = ['turquoise', 'darkorange']\n",
        "\n",
        "\n",
        "for color, i, target_name in zip(colors, [0, 1], target_names):\n",
        "    plt.scatter(X_r[y == i, 0], X_r[y == i, 1], color=color, alpha=.8, lw=lw,\n",
        "                label=target_name)\n",
        "plt.legend(loc='best', shadow=False, scatterpoints=1)\n",
        "plt.title('PCA of LT-RC datasets')"
      ],
      "execution_count": null,
      "outputs": []
    },
    {
      "cell_type": "code",
      "metadata": {
        "id": "Uw_agMGsFcyA"
      },
      "source": [
        "X=data1#,left_index=True, right_index=True)\n",
        "X=X.T\n",
        "y=(pd.DataFrame(np.zeros(data1.shape[1]))).astype('int').to_numpy().flatten()\n",
        "# from sklearn.cluster import AgglomerativeClustering\n",
        "X.fillna(0, inplace=True)\n",
        "# model = AgglomerativeClustering(distance_threshold=0, n_clusters=None)\n",
        "from sklearn.decomposition import PCA\n",
        "lw = 2\n",
        "pca = PCA(n_components=lw)\n",
        "X_r=pca.fit(X).transform(X)\n",
        "# model = model.fit(data1)\n",
        "from sklearn import datasets\n",
        "iris = datasets.load_iris()\n",
        "target_names = ['large','small']#iris.target_names\n",
        "\n",
        "plt.figure(figsize=(20, 4))\n",
        "\n",
        "colors = ['turquoise', 'darkorange']\n",
        "\n",
        "\n",
        "for color, i, target_name in zip(colors, [0, 1], target_names):\n",
        "    plt.scatter(X_r[y == i, 0], X_r[y == i, 1], color=color, alpha=.8, lw=lw,\n",
        "                label=target_name)\n",
        "plt.legend(loc='best', shadow=False, scatterpoints=1)\n",
        "plt.title('PCA of LT-RC datasets')"
      ],
      "execution_count": null,
      "outputs": []
    },
    {
      "cell_type": "code",
      "metadata": {
        "id": "uMgIa5N0dq32"
      },
      "source": [
        "X=largeCOPD.merge(data1,left_index=True, right_index=True)\n",
        "X=X.T\n",
        "y=(pd.DataFrame(np.zeros(largeCOPD.shape[1])).append(pd.DataFrame(np.ones(data1.shape[1])))).astype('int').to_numpy().flatten()\n",
        "# from sklearn.cluster import AgglomerativeClustering\n",
        "X.fillna(0, inplace=True)\n",
        "# model = AgglomerativeClustering(distance_threshold=0, n_clusters=None)\n",
        "from sklearn.decomposition import PCA\n",
        "lw = 2\n",
        "pca = PCA(n_components=lw)\n",
        "X_r=pca.fit(X).transform(X)\n",
        "# model = model.fit(data1)\n",
        "from sklearn import datasets\n",
        "iris = datasets.load_iris()\n",
        "target_names = ['large','small']#iris.target_names\n",
        "\n",
        "plt.figure(figsize=(20, 20))\n",
        "\n",
        "colors = ['turquoise', 'darkorange']\n",
        "\n",
        "\n",
        "for color, i, target_name in zip(colors, [0, 1], target_names):\n",
        "    plt.scatter(X_r[y == i, 0], X_r[y == i, 1], color=color, alpha=.5, lw=lw,\n",
        "                label=target_name, )\n",
        "plt.legend(loc='best', shadow=False, scatterpoints=1)\n",
        "plt.title('PCA of LT-RC and LT-COPD datasets')"
      ],
      "execution_count": null,
      "outputs": []
    },
    {
      "cell_type": "code",
      "metadata": {
        "id": "wDzY3Lyok3mg"
      },
      "source": [
        "from scipy.cluster.hierarchy import dendrogram\n",
        "def plot_dendrogram(model, **kwargs):\n",
        "    # Create linkage matrix and then plot the dendrogram\n",
        "\n",
        "    # create the counts of samples under each node\n",
        "    counts = np.zeros(model.children_.shape[0])\n",
        "    n_samples = len(model.labels_)\n",
        "    for i, merge in enumerate(model.children_):\n",
        "        current_count = 0\n",
        "        for child_idx in merge:\n",
        "            if child_idx < n_samples:\n",
        "                current_count += 1  # leaf node\n",
        "            else:\n",
        "                current_count += counts[child_idx - n_samples]\n",
        "        counts[i] = current_count\n",
        "\n",
        "    linkage_matrix = np.column_stack([model.children_, model.distances_,\n",
        "                                      counts]).astype(float)\n",
        "\n",
        "    # Plot the corresponding dendrogram\n",
        "    dendrogram(linkage_matrix, **kwargs)\n"
      ],
      "execution_count": null,
      "outputs": []
    },
    {
      "cell_type": "code",
      "metadata": {
        "id": "rAlxMoO7kfqp"
      },
      "source": [
        "plt.figure(figsize=(20, 4))\n",
        "plt.title('Hierarchical Clustering Dendrogram')\n",
        "# plot the top three levels of the dendrogram\n",
        "plot_dendrogram(model, truncate_mode='level', p=3,)\n",
        "plt.xlabel(\"Number of points in node (or index of point if no parenthesis).\")\n",
        "plt.show()"
      ],
      "execution_count": null,
      "outputs": []
    },
    {
      "cell_type": "code",
      "metadata": {
        "id": "cfBn-tUXqUeI"
      },
      "source": [
        "plt.xkcd();\n",
        "from scipy import stats, spatial, cluster\n",
        "Z = cluster.hierarchy.linkage(cc, \"complete\")"
      ],
      "execution_count": null,
      "outputs": []
    },
    {
      "cell_type": "code",
      "metadata": {
        "id": "W9Ydp2TgvVlI"
      },
      "source": [
        "plt.style.use('classic')\n",
        "plt.figure(figsize=(70, 4))\n",
        "plt.title(\"Here's a dendrogram of our hierarchical clustering\")\n",
        "cluster.hierarchy.dendrogram(Z);"
      ],
      "execution_count": null,
      "outputs": []
    },
    {
      "cell_type": "markdown",
      "metadata": {
        "id": "-IwHRfXWMGpi"
      },
      "source": [
        "#create and run PANDA"
      ]
    },
    {
      "cell_type": "code",
      "metadata": {
        "id": "3rjHBE15Tqes"
      },
      "source": [
        "gse.pivot_samples\n"
      ],
      "execution_count": null,
      "outputs": []
    },
    {
      "cell_type": "code",
      "metadata": {
        "id": "hJ92A0TC0lht"
      },
      "source": [
        "expression1 = gse.pivot_samples('VALUE')\n",
        "gpl = gse.gpls[next(iter(gse.gpls))]\n",
        "data = gse.pivot_samples(values=\"VALUE\")#, gpl=gpl, annotation_column=\"Symbol\")\n",
        "pheno=gse.phenotype_data.rename(columns={'characteristics_ch1.0.age': 'age',\"characteristics_ch1.1.Sex\":\"sex\",\"characteristics_ch1.3.bmi\":\"bmi\",\"characteristics_ch1.6.fev1.pp\":\"fev1\",\"characteristics_ch1.4.packyears\":\"PY\"})\n",
        "pheno[['age',\"sex\",\"bmi\",\"fev1\",\"PY\"]].to_csv('pheno_data.txt',sep='\\t',index=True,header=True)\n",
        "\n",
        "names=pd.DataFrame([gse.gpls['GPL10558'].table['ID'],gse.gpls['GPL10558'].table['ILMN_Gene']]).transpose()\n",
        "data1=pd.merge(expression1,names,left_index=True,right_on='ID')\n",
        "\n",
        "data1['loc']=gse.gpls['GPL10558'].table['Chromosome']\n",
        "\n",
        "data1.index=data1['ILMN_Gene']\n",
        "data1=data1.dropna(how='any')\n",
        "del data1['ID'], data1['ILMN_Gene']\n",
        "\n",
        "# data1.to_csv('drive/My Drive/Colab Notebooks/GSE76925.txt',sep='\\t')"
      ],
      "execution_count": null,
      "outputs": []
    },
    {
      "cell_type": "code",
      "metadata": {
        "id": "wl4G2MG2UkUx"
      },
      "source": [
        "jeff=(data1)\n",
        "cc=jeff[jeff['loc']=='Y'].index"
      ],
      "execution_count": null,
      "outputs": []
    },
    {
      "cell_type": "code",
      "metadata": {
        "id": "Fp0Hi228cVy-"
      },
      "source": [
        "ltrc_genes=pd.read_csv('drive/My Drive/Colab Notebooks/LTRC_genes_chr.txt',sep='\\t')\n",
        "data2=data1.merge(ltrc_genes,left_index=True,right_on='gene')"
      ],
      "execution_count": null,
      "outputs": []
    },
    {
      "cell_type": "code",
      "metadata": {
        "colab": {
          "base_uri": "https://localhost:8080/"
        },
        "id": "Z1rdvcsWc1Cc",
        "outputId": "b80653de-681d-43dc-ed4f-dd9e5901205c"
      },
      "source": [
        "pd.unique(data2.gene).shape"
      ],
      "execution_count": null,
      "outputs": [
        {
          "output_type": "execute_result",
          "data": {
            "text/plain": [
              "(14212,)"
            ]
          },
          "metadata": {
            "tags": []
          },
          "execution_count": 15
        }
      ]
    },
    {
      "cell_type": "code",
      "metadata": {
        "id": "ATyuL5NK8txw"
      },
      "source": [
        "dd=pd.unique(data2['gene'][data2['chr']=='chrY'].tolist())"
      ],
      "execution_count": null,
      "outputs": []
    },
    {
      "cell_type": "code",
      "metadata": {
        "id": "9ospROvRBNRu"
      },
      "source": [
        "data2.index=data2.gene\n",
        "data2=data2.groupby(data2.index).mean()\n",
        "del data2['GSM2040941'],data2['GSM2040942'] ##remove rather than combat adjusting, only two samples from seperate batch\n",
        "# combat.fit(Y=data2, b=b, X=X, C=C)"
      ],
      "execution_count": null,
      "outputs": []
    },
    {
      "cell_type": "code",
      "metadata": {
        "id": "VCJz6JJ-ZfkQ"
      },
      "source": [
        "pd.DataFrame(data2.index).to_csv('drive/My Drive/Colab Notebooks/LTCOPD_genes.txt',index=False,header=False,sep='\\t')"
      ],
      "execution_count": null,
      "outputs": []
    },
    {
      "cell_type": "code",
      "metadata": {
        "id": "Nu6tHmPo0q5I",
        "colab": {
          "base_uri": "https://localhost:8080/"
        },
        "outputId": "4c50f5da-d8a9-4c21-e183-93a99db6abed"
      },
      "source": [
        "# data3=data1data1[data1['loc']!='Y']\n",
        "\n",
        "# del data2['loc'], data2['ensg'], data2['gene'], data2['chr']\n",
        "\n",
        "data2.columns=[gse.phenotype_data['characteristics_ch1.1.Sex'][:-2]+gse.phenotype_data['characteristics_ch1.5.copd'][:-2]]\n",
        "data2.loc[:,'Fcase'].to_csv('drive/My Drive/harvard/Fcase.txt',sep='\\t',index=True,header=False)\n",
        "data2.loc[:,'Fcont'].to_csv('drive/My Drive/harvard/Fcont.txt',sep='\\t',index=True,header=False)\n",
        "print([data2.loc[:,'Fcase'].shape,data2.loc[:,'Fcont'].shape])\n",
        "\n",
        "# data4=data1 #pd.DataFrame(np.copy(data1)) #data4[data4['loc']!='Y']\n",
        "# del data4['loc']\n",
        "# data2.columns=[gse.phenotype_data['characteristics_ch1.1.Sex']+gse.phenotype_data['characteristics_ch1.5.copd']]\n",
        "data2.loc[:,'Mcase'].to_csv('drive/My Drive/harvard/Mcase.txt',sep='\\t',index=True,header=False)\n",
        "data2.loc[:,'Mcont'].to_csv('drive/My Drive/harvard/Mcont.txt',sep='\\t',index=True,header=False)\n",
        "print([data2.loc[:,'Mcase'].shape,data2.loc[:,'Mcont'].shape])"
      ],
      "execution_count": null,
      "outputs": [
        {
          "output_type": "stream",
          "text": [
            "[(14212, 57), (14212, 25)]\n",
            "[(14212, 52), (14212, 15)]\n"
          ],
          "name": "stdout"
        }
      ]
    },
    {
      "cell_type": "code",
      "metadata": {
        "id": "MP5s05AN0q7Z"
      },
      "source": [
        "# LCL_ppi=pd.read_csv('https://granddb.s3.amazonaws.com/optPANDA/ppi/ppi_complete.txt',sep='\\t',header=None)\n",
        "# LCL_ppi.to_csv('drive/My Drive/Colab Notebooks/ppi_complete.txt',sep='\\t',index=False,header=False)\n",
        "\n",
        "coding_LCL_motif=pd.read_csv('https://granddb.s3.amazonaws.com/optPANDA/motifs/Hugo_motifCellLine.txt',sep='\\t',header=None)\n",
        "coding_LCL_motif=coding_LCL_motif.reset_index().rename(columns={0:'source',1:'target', 2:'weight'})\n",
        "del coding_LCL_motif['index']\n",
        "# coding_LCL_motif.to_csv('drive/My Drive/Colab Notebooks/coding_LCL_motif.txt',sep='\\t',index=False,header=False)\n",
        "# !curl -O https://cmapreg.s3.us-east-2.amazonaws.com/regMatBin1thr005.csv\n",
        "motif_dataBin1=pd.read_csv('https://cmapreg.s3.us-east-2.amazonaws.com/regMatBin1thr005.csv',sep=',',header=0,index_col=0)\n",
        "full_motif=motif_dataBin1.stack().reset_index().rename(columns={'level_0':'source','level_1':'target', 0:'weight'})\n",
        "# full_motif.to_csv('drive/My Drive/Colab Notebooks/full_LCL_motif.txt',sep='\\t',index=False,header=False)\n",
        "\n",
        "full_motif=full_motif.merge(coding_LCL_motif,on=['source','target'],how='left')\n",
        "full_motif.loc[full_motif[\"weight_y\"].isnull(),'weight_y'] = full_motif['weight_x']\n",
        "full_motif=full_motif[['source','target','weight_y']]\n",
        "full_motif=full_motif.rename(columns={'source':'source','target':'target', 'weight_y':'weight'})\n",
        "full_motif = full_motif[full_motif['source'].isin(coding_LCL_motif['source'])]\n",
        "full_motif[['source','target','weight']].to_csv('drive/My Drive/Colab Notebooks/coding_full_LCL_motif.txt',sep='\\t',index=False,header=False)\n",
        "\n",
        "motif_data='drive/My Drive/Colab Notebooks/coding_full_LCL_motif.txt' ##coding_LCL_motif.txt\n",
        "ppi_data='drive/My Drive/Colab Notebooks/ppi_complete.txt'\n",
        "F_motif_data='drive/My Drive/Colab Notebooks/F_coding_full_LCL_motif.txt' ##F_coding_LCL_motif.txt"
      ],
      "execution_count": null,
      "outputs": []
    },
    {
      "cell_type": "code",
      "metadata": {
        "id": "Ga3_ySlaVWvB"
      },
      "source": [
        "# full_motif=full_motif[['source','target','weight']]\n",
        "full_motif.columns=['TF','gene','W']\n",
        "aa=full_motif[~full_motif['TF'].isin(cc)]\n",
        "bb=full_motif[full_motif['TF'].isin(cc)]\n",
        "bb['W']=0\n",
        "full_motif=aa.append(bb)\n",
        "\n",
        "aa=full_motif[~full_motif['gene'].isin(cc)]\n",
        "bb=full_motif[full_motif['gene'].isin(cc)]\n",
        "bb['W']=0\n",
        "full_motif=aa.append(bb)\n",
        "full_motif.to_csv('drive/My Drive/Colab Notebooks/F_coding_full_LCL_motif.txt',sep='\\t',index=False,header=False)\n",
        "# F_motif_data='drive/My Drive/Colab Notebooks/F_full_motif.txt'"
      ],
      "execution_count": null,
      "outputs": []
    },
    {
      "cell_type": "code",
      "metadata": {
        "colab": {
          "base_uri": "https://localhost:8080/"
        },
        "id": "WrhpZk84wUtl",
        "outputId": "0847e633-f3b2-4b96-8c3d-5e5b5080c80c"
      },
      "source": [
        "len(pd.unique(full_motif.gene))"
      ],
      "execution_count": null,
      "outputs": [
        {
          "output_type": "execute_result",
          "data": {
            "text/plain": [
              "38723"
            ]
          },
          "metadata": {
            "tags": []
          },
          "execution_count": 89
        }
      ]
    },
    {
      "cell_type": "code",
      "metadata": {
        "id": "vh0eSqHB0q95",
        "colab": {
          "base_uri": "https://localhost:8080/"
        },
        "outputId": "b6590886-1c2b-4ea1-a27b-f18680e3b807"
      },
      "source": [
        "# panda_obj1 = Panda('drive/My Drive/harvard/Fcase.txt', F_motif_data, ppi_data,computing='gpu',precision='single',save_tmp=False,save_memory = False, remove_missing=False, keep_expression_matrix = False,modeProcess = 'intersection')\n",
        "# np.save('drive/My Drive/Colab Notebooks/model_output/Panda_F0case_full.npy',panda_obj1.export_panda_results)\n",
        "# del panda_obj1\n",
        "panda_obj2 = Panda('drive/My Drive/harvard/Mcase.txt', motif_data, ppi_data,computing='gpu',precision='single',save_tmp=False,save_memory = False, remove_missing=False, keep_expression_matrix = False,modeProcess = 'intersection')\n",
        "np.save('drive/My Drive/Colab Notebooks/model_output/Panda_Mcase_full.npy',panda_obj2.export_panda_results)\n",
        "del panda_obj2\n",
        "panda_obj3 = Panda('drive/My Drive/harvard/Fcont.txt', F_motif_data, ppi_data,computing='gpu',precision='single',save_tmp=False,save_memory = False, remove_missing=False, keep_expression_matrix = False,modeProcess = 'intersection')\n",
        "np.save('drive/My Drive/Colab Notebooks/model_output/Panda_F0cont_full.npy',panda_obj3.export_panda_results)\n",
        "del panda_obj3\n",
        "panda_obj4 = Panda('drive/My Drive/harvard/Mcont.txt', motif_data, ppi_data,computing='gpu',precision='single',save_tmp=False,save_memory = False, remove_missing=False, keep_expression_matrix = False,modeProcess = 'intersection')\n",
        "np.save('drive/My Drive/Colab Notebooks/model_output/Panda_Mcont_full.npy',panda_obj4.export_panda_results)\n",
        "del panda_obj4"
      ],
      "execution_count": null,
      "outputs": [
        {
          "output_type": "stream",
          "text": [
            "Loading motif data ...\n",
            "  Elapsed time: 14.53 sec.\n",
            "Loading expression data ...\n",
            "  Elapsed time: 0.17 sec.\n",
            "Loading PPI data ...\n",
            "Number of PPIs: 2569609\n",
            "  Elapsed time: 1.19 sec.\n",
            "Calculating coexpression network ...\n",
            "  Elapsed time: 4.20 sec.\n",
            "Creating motif network ...\n",
            "  Elapsed time: 18.59 sec.\n",
            "Creating PPI network ...\n",
            "  Elapsed time: 2.14 sec.\n",
            "Normalizing networks ...\n",
            "  Elapsed time: 21.19 sec.\n",
            "Running PANDA algorithm ...\n",
            "step: 0, hamming: 1.9138686656951904\n",
            "step: 1, hamming: 0.565604567527771\n",
            "step: 2, hamming: 0.39795562624931335\n",
            "step: 3, hamming: 0.33227166533470154\n",
            "step: 4, hamming: 0.2914929687976837\n",
            "step: 5, hamming: 0.2593408524990082\n",
            "step: 6, hamming: 0.2310386598110199\n",
            "step: 7, hamming: 0.20507489144802094\n",
            "step: 8, hamming: 0.18102507293224335\n",
            "step: 9, hamming: 0.15883007645606995\n",
            "step: 10, hamming: 0.13852469623088837\n",
            "step: 11, hamming: 0.12013554573059082\n",
            "step: 12, hamming: 0.103647880256176\n",
            "step: 13, hamming: 0.0890015959739685\n",
            "step: 14, hamming: 0.07609938830137253\n",
            "step: 15, hamming: 0.06481742113828659\n",
            "step: 16, hamming: 0.05501668527722359\n",
            "step: 17, hamming: 0.046551644802093506\n",
            "step: 18, hamming: 0.03927744925022125\n",
            "step: 19, hamming: 0.03305473178625107\n",
            "step: 20, hamming: 0.027752859517931938\n",
            "step: 21, hamming: 0.023251743987202644\n",
            "step: 22, hamming: 0.019442735239863396\n",
            "step: 23, hamming: 0.016228748485445976\n",
            "step: 24, hamming: 0.013523943722248077\n",
            "step: 25, hamming: 0.011253073811531067\n",
            "step: 26, hamming: 0.009350640699267387\n",
            "step: 27, hamming: 0.007760002743452787\n",
            "step: 28, hamming: 0.0064324322156608105\n",
            "step: 29, hamming: 0.005326215643435717\n",
            "step: 30, hamming: 0.004405805841088295\n",
            "step: 31, hamming: 0.0036409918684512377\n",
            "step: 32, hamming: 0.0030061514116823673\n",
            "step: 33, hamming: 0.0024797404184937477\n",
            "step: 34, hamming: 0.002043702406808734\n",
            "step: 35, hamming: 0.0016827919753268361\n",
            "step: 36, hamming: 0.0013841678155586123\n",
            "step: 37, hamming: 0.0011373352026566863\n",
            "step: 38, hamming: 0.0009335234644822776\n",
            "Running panda took: 5.85 seconds!\n",
            "Loading motif data ...\n",
            "  Elapsed time: 15.88 sec.\n",
            "Loading expression data ...\n",
            "  Elapsed time: 0.09 sec.\n",
            "Loading PPI data ...\n",
            "Number of PPIs: 2569609\n",
            "  Elapsed time: 1.25 sec.\n",
            "Calculating coexpression network ...\n",
            "  Elapsed time: 3.45 sec.\n",
            "Creating motif network ...\n",
            "  Elapsed time: 17.88 sec.\n",
            "Creating PPI network ...\n",
            "  Elapsed time: 2.13 sec.\n",
            "Normalizing networks ...\n",
            "  Elapsed time: 19.78 sec.\n",
            "Running PANDA algorithm ...\n",
            "step: 0, hamming: 2.081310272216797\n",
            "step: 1, hamming: 0.7047430276870728\n",
            "step: 2, hamming: 0.4839595556259155\n",
            "step: 3, hamming: 0.39743831753730774\n",
            "step: 4, hamming: 0.3457188308238983\n",
            "step: 5, hamming: 0.30633965134620667\n",
            "step: 6, hamming: 0.2724263072013855\n",
            "step: 7, hamming: 0.24166567623615265\n",
            "step: 8, hamming: 0.21332363784313202\n",
            "step: 9, hamming: 0.18722431361675262\n",
            "step: 10, hamming: 0.16336138546466827\n",
            "step: 11, hamming: 0.14174722135066986\n",
            "step: 12, hamming: 0.12235842645168304\n",
            "step: 13, hamming: 0.10512425750494003\n",
            "step: 14, hamming: 0.089931920170784\n",
            "step: 15, hamming: 0.07663845270872116\n",
            "step: 16, hamming: 0.06508263200521469\n",
            "step: 17, hamming: 0.0550953671336174\n",
            "step: 18, hamming: 0.04650785028934479\n",
            "step: 19, hamming: 0.03915736451745033\n",
            "step: 20, hamming: 0.03289105370640755\n",
            "step: 21, hamming: 0.027568260207772255\n",
            "step: 22, hamming: 0.023061521351337433\n",
            "step: 23, hamming: 0.019256867468357086\n",
            "step: 24, hamming: 0.016053378582000732\n",
            "step: 25, hamming: 0.013362526893615723\n",
            "step: 26, hamming: 0.011107213795185089\n",
            "step: 27, hamming: 0.009220684878528118\n",
            "step: 28, hamming: 0.007645473349839449\n",
            "step: 29, hamming: 0.006332390941679478\n",
            "step: 30, hamming: 0.005239473190158606\n",
            "step: 31, hamming: 0.004330937284976244\n",
            "step: 32, hamming: 0.00357657833956182\n",
            "step: 33, hamming: 0.0029510054737329483\n",
            "step: 34, hamming: 0.0024326432030647993\n",
            "step: 35, hamming: 0.0020031523890793324\n",
            "step: 36, hamming: 0.00164781603962183\n",
            "step: 37, hamming: 0.0013542480301111937\n",
            "step: 38, hamming: 0.001111223828047514\n",
            "step: 39, hamming: 0.0009100607712753117\n",
            "Running panda took: 5.91 seconds!\n",
            "Loading motif data ...\n",
            "  Elapsed time: 14.40 sec.\n",
            "Loading expression data ...\n",
            "  Elapsed time: 0.07 sec.\n",
            "Loading PPI data ...\n",
            "Number of PPIs: 2569609\n",
            "  Elapsed time: 1.22 sec.\n",
            "Calculating coexpression network ...\n",
            "  Elapsed time: 3.45 sec.\n",
            "Creating motif network ...\n",
            "  Elapsed time: 18.08 sec.\n",
            "Creating PPI network ...\n",
            "  Elapsed time: 2.11 sec.\n",
            "Normalizing networks ...\n",
            "  Elapsed time: 18.17 sec.\n",
            "Running PANDA algorithm ...\n",
            "step: 0, hamming: 1.9118930101394653\n",
            "step: 1, hamming: 0.6193782687187195\n",
            "step: 2, hamming: 0.4284836947917938\n",
            "step: 3, hamming: 0.35294967889785767\n",
            "step: 4, hamming: 0.30717864632606506\n",
            "step: 5, hamming: 0.27205604314804077\n",
            "step: 6, hamming: 0.24173937737941742\n",
            "step: 7, hamming: 0.21425634622573853\n",
            "step: 8, hamming: 0.18897314369678497\n",
            "step: 9, hamming: 0.16573038697242737\n",
            "step: 10, hamming: 0.14451296627521515\n",
            "step: 11, hamming: 0.12532120943069458\n",
            "step: 12, hamming: 0.10812532156705856\n",
            "step: 13, hamming: 0.09285489469766617\n",
            "step: 14, hamming: 0.07940437644720078\n",
            "step: 15, hamming: 0.067642942070961\n",
            "step: 16, hamming: 0.057424720376729965\n",
            "step: 17, hamming: 0.04859788343310356\n",
            "step: 18, hamming: 0.0410115085542202\n",
            "step: 19, hamming: 0.03452049195766449\n",
            "step: 20, hamming: 0.02898889034986496\n",
            "step: 21, hamming: 0.024291755631566048\n",
            "step: 22, hamming: 0.020316025242209435\n",
            "step: 23, hamming: 0.016960633918642998\n",
            "step: 24, hamming: 0.014136231504380703\n",
            "step: 25, hamming: 0.011764442548155785\n",
            "step: 26, hamming: 0.009777047671377659\n",
            "step: 27, hamming: 0.008115032687783241\n",
            "step: 28, hamming: 0.006727614905685186\n",
            "step: 29, hamming: 0.005571271292865276\n",
            "step: 30, hamming: 0.0046089873649179935\n",
            "step: 31, hamming: 0.003809259971603751\n",
            "step: 32, hamming: 0.0031452986877411604\n",
            "step: 33, hamming: 0.0025945943780243397\n",
            "step: 34, hamming: 0.0021384020801633596\n",
            "step: 35, hamming: 0.0017607740592211485\n",
            "step: 36, hamming: 0.0014481781981885433\n",
            "step: 37, hamming: 0.0011898139491677284\n",
            "step: 38, hamming: 0.0009765609866008162\n",
            "Running panda took: 5.77 seconds!\n"
          ],
          "name": "stdout"
        }
      ]
    },
    {
      "cell_type": "markdown",
      "metadata": {
        "id": "t-GfiKxM14s1"
      },
      "source": [
        "##Load Panda nets"
      ]
    },
    {
      "cell_type": "code",
      "metadata": {
        "id": "6AFg-bA00loh"
      },
      "source": [
        "# Panda_Fcase=np.load('drive/My Drive/Colab Notebooks dcm/Panda_Fcase.npy',allow_pickle=True)#,sep='\\t',index_col=0,header=None,names=['loc','symbol'])\n",
        "# Panda_Fcont=np.load('drive/My Drive/Colab Notebooks dcm/Panda_Fcont.npy',allow_pickle=True)#,sep='\\t',index_col=0,header=None,names=['loc','symbol'])\n",
        "# Panda_Fcont=pd.DataFrame(Panda_Fcont)\n",
        "# Panda_Fcont.columns=['tf','gene','motif','force']\n",
        "# Panda_Fcase=pd.DataFrame(Panda_Fcase)\n",
        "# Panda_Fcase.columns=['tf','gene','motif','force']\n",
        "\n",
        "Panda_Mcase=np.load('drive/My Drive/Colab Notebooks/model_output/Panda_Mcase_full.npy',allow_pickle=True)#,sep='\\t',index_col=0,header=None,names=['loc','symbol'])\n",
        "Panda_Mcont=np.load('drive/My Drive/Colab Notebooks/model_output/Panda_Mcont_full.npy',allow_pickle=True)#,sep='\\t',index_col=0,header=None,names=['loc','symbol'])\n",
        "Panda_Mcont=pd.DataFrame(Panda_Mcont)\n",
        "Panda_Mcont.columns=['tf','gene','motif','force']\n",
        "Panda_Mcase=pd.DataFrame(Panda_Mcase)\n",
        "Panda_Mcase.columns=['tf','gene','motif','force']\n",
        "## process F and M one at a time now to save memory\n",
        "\n",
        "Panda_FcaseFULL=np.load('drive/My Drive/Colab Notebooks/model_output/Panda_F0case_full.npy',allow_pickle=True)#,sep='\\t',index_col=0,header=None,names=['loc','symbol'])\n",
        "Panda_FcontFULL=np.load('drive/My Drive/Colab Notebooks/model_output/Panda_F0cont_full.npy',allow_pickle=True)#,sep='\\t',index_col=0,header=None,names=['loc','symbol'])\n",
        "Panda_FcontFULL=pd.DataFrame(Panda_FcontFULL)\n",
        "Panda_FcontFULL.columns=['tf','gene','motif','force']\n",
        "Panda_FcaseFULL=pd.DataFrame(Panda_FcaseFULL)\n",
        "Panda_FcaseFULL.columns=['tf','gene','motif','force']\n"
      ],
      "execution_count": null,
      "outputs": []
    },
    {
      "cell_type": "markdown",
      "metadata": {
        "id": "Uif2YCiRPfgI"
      },
      "source": [
        "##TF and gene specific zscore diff F\n",
        "\n"
      ]
    },
    {
      "cell_type": "code",
      "metadata": {
        "id": "HYHlMqcwOJ8y"
      },
      "source": [
        "##control minus case\n",
        "from scipy.stats import zscore\n",
        "# Panda_nullA.panda_results = pd.DataFrame(Panda_nullA.export_panda_results, columns=['tf','gene','motif','force'])\n",
        "subset_panda_results3 = Panda_FcontFULL.sort_values(by=['force'], ascending=False)\n",
        "# subset_panda_results3['merge']=subset_panda_results3.tf+'-'+subset_panda_results3.gene\n",
        "\n",
        "# Panda_nullB.panda_results = pd.DataFrame(Panda_nullB.export_panda_results, columns=['tf','gene','motif','force'])\n",
        "subset_panda_results1 = Panda_FcaseFULL.sort_values(by=['force'], ascending=False)\n",
        "# subset_panda_results1['merge']=subset_panda_results1.tf+'-'+subset_panda_results1.gene\n",
        "del subset_panda_results3['motif'],subset_panda_results1['motif']\n",
        "TFsum_3=subset_panda_results3.groupby(['tf']).agg({'force':sum})\n",
        "TFsum_1=subset_panda_results1.groupby(['tf']).agg({'force':sum})\n",
        "TFsum_1['force']=zscore(TFsum_1['force'])\n",
        "TFsum_3['force']=zscore(TFsum_3['force']) ##reduces range from 1500 to 3\n",
        "\n",
        "geneSum_3=subset_panda_results3.groupby(['gene']).agg({'force':sum})\n",
        "geneSum_1=subset_panda_results1.groupby(['gene']).agg({'force':sum})\n",
        "geneSum_3['force']=zscore(geneSum_3['force'])\n",
        "geneSum_1['force']=zscore(geneSum_1['force'])\n",
        "\n",
        "mmm=TFsum_3.merge(TFsum_1, left_on=['tf'], right_on=['tf'])\n",
        "mmmm=geneSum_3.merge(geneSum_1, left_on=['gene'], right_on=['gene'])\n",
        "\n",
        "del [[subset_panda_results3, subset_panda_results1,Panda_FcontFULL,Panda_FcaseFULL]]\n",
        "gc.collect()\n",
        "subset_panda_results3=pd.DataFrame()\n",
        "subset_panda_results1=pd.DataFrame()\n",
        "Panda_FcontFULL=pd.DataFrame()\n",
        "Panda_FcontFULL=pd.DataFrame()\n",
        "\n",
        "\n",
        "mmm['diff']=mmm.force_x-mmm.force_y\n",
        "mmm = mmm.sort_values(by ='diff' )\n",
        "\n",
        "\n",
        "mmmm['diff']=mmmm.force_x-mmmm.force_y\n",
        "mmmm = mmmm.sort_values(by ='diff' )\n",
        "mmm.to_csv('drive/My Drive/TF_zscore_F_u.txt',sep='\\t')\n",
        "mmmm.to_csv('drive/My Drive/gene_zscore_F_u.txt',sep='\\t')"
      ],
      "execution_count": null,
      "outputs": []
    },
    {
      "cell_type": "markdown",
      "metadata": {
        "id": "MjWLN5s8P_00"
      },
      "source": [
        "##TF and gene specific zscore diff M"
      ]
    },
    {
      "cell_type": "code",
      "metadata": {
        "id": "jDy-eg-IPuGE"
      },
      "source": [
        "# Panda_nullA.panda_results = pd.DataFrame(Panda_nullA.export_panda_results, columns=['tf','gene','motif','force'])\n",
        "subset_panda_results3 = Panda_Mcont.sort_values(by=['force'], ascending=False)\n",
        "# subset_panda_results3['merge']=subset_panda_results3.tf+'-'+subset_panda_results3.gene\n",
        "\n",
        "# Panda_nullB.panda_results = pd.DataFrame(Panda_nullB.export_panda_results, columns=['tf','gene','motif','force'])\n",
        "subset_panda_results1 = Panda_Mcase.sort_values(by=['force'], ascending=False)\n",
        "# subset_panda_results1['merge']=subset_panda_results1.tf+'-'+subset_panda_results1.gene\n",
        "del subset_panda_results3['motif'],subset_panda_results1['motif']\n",
        "TFsum_3=subset_panda_results3.groupby(['tf']).agg({'force':sum})\n",
        "TFsum_1=subset_panda_results1.groupby(['tf']).agg({'force':sum})\n",
        "TFsum_1['force']=zscore(TFsum_1['force'])\n",
        "TFsum_3['force']=zscore(TFsum_3['force'])\n",
        "\n",
        "geneSum_3=subset_panda_results3.groupby(['gene']).agg({'force':sum})\n",
        "geneSum_1=subset_panda_results1.groupby(['gene']).agg({'force':sum})\n",
        "geneSum_3['force']=zscore(geneSum_3['force'])\n",
        "geneSum_1['force']=zscore(geneSum_1['force'])\n",
        "\n",
        "nnn=TFsum_3.merge(TFsum_1, left_on=['tf'], right_on=['tf'])\n",
        "nnnn=geneSum_3.merge(geneSum_1, left_on=['gene'], right_on=['gene'])\n",
        "\n",
        "del [[subset_panda_results3, subset_panda_results1,Panda_Mcont,Panda_Mcase]]\n",
        "gc.collect()\n",
        "subset_panda_results3=pd.DataFrame()\n",
        "subset_panda_results1=pd.DataFrame()\n",
        "Panda_Mcont=pd.DataFrame()\n",
        "Panda_Mcase=pd.DataFrame()\n",
        "\n",
        "nnn['diff']=nnn.force_x-nnn.force_y\n",
        "nnn = nnn.sort_values(by ='diff' )\n",
        "\n",
        "nnnn['diff']=nnnn.force_x-nnnn.force_y\n",
        "nnnn = nnnn.sort_values(by ='diff' )\n",
        "nnn.to_csv('drive/My Drive/TF_zscore_M_u.txt',sep='\\t')\n",
        "nnnn.to_csv('drive/My Drive/gene_zscore_M_u.txt',sep='\\t')"
      ],
      "execution_count": null,
      "outputs": []
    },
    {
      "cell_type": "code",
      "metadata": {
        "id": "zpinAPt6XgjN",
        "colab": {
          "base_uri": "https://localhost:8080/",
          "height": 299
        },
        "outputId": "6d563f49-1b04-4193-fda4-06e095b88e3c"
      },
      "source": [
        "sex_tf_diff=mmm.merge(nnn,on='tf')\n",
        "a=plt.hist(sex_tf_diff['diff_x'],bins=100,label='male',alpha=.75)\n",
        "b=plt.hist(sex_tf_diff['diff_y'],bins=100,label='female',alpha=.5)\n",
        "plt.title('Sex-specific Ca-Co TF degree diff')\n",
        "plt.legend(loc=\"best\")"
      ],
      "execution_count": null,
      "outputs": [
        {
          "output_type": "execute_result",
          "data": {
            "text/plain": [
              "<matplotlib.legend.Legend at 0x7fc89ae85050>"
            ]
          },
          "metadata": {
            "tags": []
          },
          "execution_count": 94
        },
        {
          "output_type": "display_data",
          "data": {
            "image/png": "[encoded data removed]",
            "text/plain": [
              "<Figure size 432x288 with 1 Axes>"
            ]
          },
          "metadata": {
            "tags": [],
            "needs_background": "light"
          }
        }
      ]
    },
    {
      "cell_type": "code",
      "metadata": {
        "colab": {
          "base_uri": "https://localhost:8080/"
        },
        "id": "6o_WFyXK_jOR",
        "outputId": "02a88f70-43fd-40df-9f48-dbec1fe394c1"
      },
      "source": [
        "[sex_tf_diff[(sex_tf_diff['diff_y'])>.4].index.values,sex_tf_diff[(sex_tf_diff['diff_y'])<-0.5].index.values] #,sex_tf_diff[np.abs(sex_tf_diff['diff_y'])>.4].tf]"
      ],
      "execution_count": null,
      "outputs": [
        {
          "output_type": "execute_result",
          "data": {
            "text/plain": [
              "[array(['ZNF32', 'MSX2', 'DMRT2', 'HOXD9', 'DMRTC2', 'LIN54', 'POU2F2',\n",
              "        'ZFHX3', 'MSX1', 'HOXD10', 'POU1F1', 'FOXB1', 'BARX1', 'LHX3',\n",
              "        'POU3F1', 'POU3F3', 'POU3F2', 'MEF2A', 'FOXD2', 'LHX1', 'TBPL2',\n",
              "        'HMG20B', 'POU4F3', 'POU4F1', 'NKX6-1'], dtype=object),\n",
              " array(['SMAD1', 'KLF1', 'KLF4', 'PURA'], dtype=object)]"
            ]
          },
          "metadata": {
            "tags": []
          },
          "execution_count": 95
        }
      ]
    },
    {
      "cell_type": "code",
      "metadata": {
        "id": "6bJVKb2CX1VJ",
        "colab": {
          "base_uri": "https://localhost:8080/",
          "height": 299
        },
        "outputId": "82a75811-9ff0-438f-87f7-9566cc0b5d74"
      },
      "source": [
        "sex_gene_diff=mmmm.merge(nnnn,on='gene')\n",
        "a=plt.hist(sex_gene_diff['diff_x'],bins=100,label='male')\n",
        "b=plt.hist(sex_gene_diff['diff_y'],bins=100,label='female')\n",
        "plt.title('Sex-specific Ca-Co gene degree diff')\n",
        "plt.legend(loc=\"best\")"
      ],
      "execution_count": null,
      "outputs": [
        {
          "output_type": "execute_result",
          "data": {
            "text/plain": [
              "<matplotlib.legend.Legend at 0x7fc63ecd7ed0>"
            ]
          },
          "metadata": {
            "tags": []
          },
          "execution_count": 96
        },
        {
          "output_type": "display_data",
          "data": {
            "image/png": "[encoded data removed]",
            "text/plain": [
              "<Figure size 432x288 with 1 Axes>"
            ]
          },
          "metadata": {
            "tags": [],
            "needs_background": "light"
          }
        }
      ]
    },
    {
      "cell_type": "code",
      "metadata": {
        "id": "5OVnHA9AnxI9",
        "colab": {
          "base_uri": "https://localhost:8080/"
        },
        "outputId": "53a2ac3a-3d08-4237-f675-6d1843ce0015"
      },
      "source": [
        "[sex_gene_diff[(sex_gene_diff['diff_y'])>1].index.values,sex_gene_diff[(sex_gene_diff['diff_y'])<-1].index.values] #,sex_tf_diff[np.abs(sex_tf_diff['diff_y'])>.4].tf]"
      ],
      "execution_count": null,
      "outputs": [
        {
          "output_type": "execute_result",
          "data": {
            "text/plain": [
              "[array(['ASTN2', 'DEFA4', 'SYT13', 'EFR3B', 'SV2B', 'ULK4', 'CPLX2',\n",
              "        'NKRF', 'GRM5', 'ZNF256', 'PTPRN2', 'RAVER2', 'ZBTB32', 'PCDHA1',\n",
              "        'SCARNA5', 'BBS12', 'PDPN', 'RDH8', 'TCEAL2', 'POTEG', 'TNP1',\n",
              "        'SNRNP25', 'CST6', 'SNORA12', 'NOB1', 'TNNC1', 'CRIPT', 'SERP2',\n",
              "        'HIRIP3', 'ANG', 'TMEM159', 'CLN5', 'EDA', 'TMSB4Y', 'PSMG3',\n",
              "        'CHRNB4', 'SYCE1L', 'ADRB2', 'TMEM9', 'ZNF706', 'NR6A1', 'TMEM18',\n",
              "        'KRTCAP3', 'TMEM30B', 'CEP70', 'MUL1', 'SYN2', 'RNF121', 'CHRNB3',\n",
              "        'BTBD9', 'TSPAN31', 'FBXO2', 'ISCA2', 'ZFP37', 'PPP1R8', 'RPS19',\n",
              "        'HIST1H4C', 'MRPS36', 'PIN4', 'BCDIN3D', 'SNAPIN', 'COL9A3',\n",
              "        'PLEKHN1', 'ZNF484', 'DEFB1', 'MRPL52', 'CAMP', 'TMEM11', 'CENPL',\n",
              "        'BEX5', 'AMIGO1', 'RNF34', 'PLA2G12B', 'RBP2', 'TCL6', 'CXCR1',\n",
              "        'CEACAM3', 'FKBP1B', 'HNRNPF', 'PDYN', 'OR51F1', 'SNIP1',\n",
              "        'LOH12CR2', 'TP53RK', 'NLRC3', 'SNORD53', 'TAAR1', 'GZMM',\n",
              "        'FBXL21', 'SLC5A10', 'GZMA', 'ARHGEF3', 'TMSB4X', 'KPNA4', 'FETUB',\n",
              "        'STBD1', 'RNF115', 'CCR9', 'CARD6'], dtype=object),\n",
              " array(['PLGLB1', 'OGT', 'OR10H4', 'SNORD123', 'C8A', 'TBC1D3', 'BBS1',\n",
              "        'GABRE', 'SNORD36C', 'F2', 'ATF4', 'BTAF1', 'ZMAT3', 'HNRNPA2B1',\n",
              "        'SNORD14A', 'SNORA6', 'DNAJC5B', 'ZNF549', 'SNORD52', 'FCRL4',\n",
              "        'FGD2', 'AGTR2', 'NBPF10', 'SNORD14B', 'MECP2', 'HEATR3', 'AGPAT4',\n",
              "        'YBX1', 'KIF11', 'RFT1', 'OLAH', 'GREM1', 'ETFDH', 'SNORD114-2',\n",
              "        'SCARNA4', 'CD4', 'PI4KAP1', 'CENPO', 'CYBB', 'ADAP2', 'SFXN3',\n",
              "        'MIF4GD', 'BTN2A1', 'TSTD2', 'ACO2', 'ZNF804A', 'SNORD10', 'CCR4',\n",
              "        'SH2B3', 'MED1', 'ZNF280C', 'CD37', 'RFX5', 'CD74', 'NCF1B'],\n",
              "       dtype=object)]"
            ]
          },
          "metadata": {
            "tags": []
          },
          "execution_count": 97
        }
      ]
    },
    {
      "cell_type": "code",
      "metadata": {
        "id": "UGv0ho-UzZCg"
      },
      "source": [
        ""
      ],
      "execution_count": null,
      "outputs": []
    },
    {
      "cell_type": "markdown",
      "metadata": {
        "id": "li6B2LG0UJeH"
      },
      "source": [
        "#Run larger COPD panda nets"
      ]
    },
    {
      "cell_type": "code",
      "metadata": {
        "id": "yD18G0Igjoyk"
      },
      "source": [
        "# LTRC_exp=pd.read_csv('drive/MyDrive/harvard/LARGE_COPD/LTRC_XXX_060521.txt',sep='\\t',index_col=0)\n",
        "# LTRC_exp_key=pd.read_csv('drive/MyDrive/harvard/LARGE_COPD/LTRC_XXXkey_060521.txt',sep='\\t',index_col=0)\n",
        "# data=np.multiply(LTRC_exp,LTRC_exp_key)\n",
        "# LTRC_exp=pd.read_csv('drive/MyDrive/harvard/LARGE_COPD/LTRC_qsmooth_combat.txt',sep='\\t',index_col=0)\n",
        "LTRC_exp=pd.read_csv('drive/MyDrive/harvard/LARGE_COPD/LTRC_qs_log2_removebatch.txt',sep='\\t',index_col=0)\n",
        "\n",
        "ltrc_genes=pd.read_csv('drive/My Drive/Colab Notebooks/LTRC_genes_chr.txt',sep='\\t')\n",
        "LTRC_exp.index=LTRC_exp.index.str.split('.').str[0].tolist()\n",
        "data1=LTRC_exp.merge(ltrc_genes,left_index=True,right_on='ensg')\n",
        "data1.index=data1['gene']\n",
        "del data1['ensg'], data1['chr']\n",
        "data1=data1.groupby(data1.index).mean()"
      ],
      "execution_count": null,
      "outputs": []
    },
    {
      "cell_type": "code",
      "metadata": {
        "id": "1YXUi3ZaYTog"
      },
      "source": [
        "LTCOPD_genes=pd.read_csv('drive/My Drive/Colab Notebooks/LTCOPD_genes.txt',index_col=None,header=None,sep='\\t')\n",
        "# data1=np.log2(data1.dropna(how='all')+1)\n",
        "data1=data1.merge(LTCOPD_genes,left_index=True,right_on=0)\n",
        "data1.index=data1[0]\n",
        "data1.replace([np.inf, -np.inf], np.nan,inplace=True)\n",
        "data1.replace(np.nan, 0,inplace=True)"
      ],
      "execution_count": null,
      "outputs": []
    },
    {
      "cell_type": "code",
      "metadata": {
        "id": "Kfhq5q8IlVwM"
      },
      "source": [
        "# gene2chr[gene2chr['ILMN_Gene']=='GATA1']"
      ],
      "execution_count": null,
      "outputs": []
    },
    {
      "cell_type": "code",
      "metadata": {
        "id": "Y36NrKkdlrRR"
      },
      "source": [
        "# data1[data1.index=='GATA1'] "
      ],
      "execution_count": null,
      "outputs": []
    },
    {
      "cell_type": "code",
      "metadata": {
        "id": "pUvd71qkNT4f"
      },
      "source": [
        "# data1.to_csv('LTRC_qs_com_exp.txt',sep='\\t',index=True,header=True)"
      ],
      "execution_count": null,
      "outputs": []
    },
    {
      "cell_type": "code",
      "metadata": {
        "colab": {
          "base_uri": "https://localhost:8080/"
        },
        "id": "WwUF5dWjWckC",
        "outputId": "ae79f7d3-af1b-4474-aff5-e4c8faf41f5a"
      },
      "source": [
        "del data1[0]\n",
        "FC=data1.iloc[:,data1.columns.str.contains('_0_1')]\n",
        "FNC=data1.iloc[:,data1.columns.str.contains('_0_0')]\n",
        "MC=data1.iloc[:,data1.columns.str.contains('_1_1')]\n",
        "MNC=data1.iloc[:,data1.columns.str.contains('_1_0')]\n",
        "print([FC.shape,FNC.shape,MC.shape,MNC.shape])\n",
        "FC.to_csv('drive/My Drive/harvard/LARGE_COPD/FC_exp.txt',sep='\\t',index=True,header=False)\n",
        "FNC.to_csv('drive/My Drive/harvard/LARGE_COPD/FNC_exp.txt',sep='\\t',index=True,header=False)\n",
        "MC.to_csv('drive/My Drive/harvard/LARGE_COPD/MC_exp.txt',sep='\\t',index=True,header=False)\n",
        "MNC.to_csv('drive/My Drive/harvard/LARGE_COPD/MNC_exp.txt',sep='\\t',index=True,header=False)"
      ],
      "execution_count": null,
      "outputs": [
        {
          "output_type": "stream",
          "text": [
            "[(14212, 176), (14212, 162), (14212, 201), (14212, 105)]\n"
          ],
          "name": "stdout"
        }
      ]
    },
    {
      "cell_type": "code",
      "metadata": {
        "id": "tP0h3_dK4wd8"
      },
      "source": [
        "# LCL_ppi=pd.read_csv('https://granddb.s3.amazonaws.com/optPANDA/ppi/ppi_complete.txt',sep='\\t',header=None)\n",
        "# LCL_ppi.to_csv('drive/My Drive/Colab Notebooks/ppi_complete.txt',sep='\\t',index=False,header=False)\n",
        "\n",
        "# coding_LCL_motif=pd.read_csv('https://granddb.s3.amazonaws.com/optPANDA/motifs/Hugo_motifCellLine.txt',sep='\\t',header=None)\n",
        "# coding_LCL_motif.to_csv('drive/My Drive/Colab Notebooks/coding_LCL_motif.txt',sep='\\t',index=False,header=False)\n",
        "\n",
        "# drive/My Drive/Colab Notebooks/coding_LCL_motif.txt\n",
        "motif_data='drive/My Drive/Colab Notebooks/coding_full_LCL_motif.txt'\n",
        "ppi_data='drive/My Drive/Colab Notebooks/ppi_complete.txt'\n",
        "F_motif_data='drive/My Drive/Colab Notebooks/F_coding_full_LCL_motif.txt'"
      ],
      "execution_count": null,
      "outputs": []
    },
    {
      "cell_type": "code",
      "metadata": {
        "id": "YpwuKCutUNYk",
        "colab": {
          "base_uri": "https://localhost:8080/"
        },
        "outputId": "dedffd14-ac60-47e8-a99e-2ede3950d713"
      },
      "source": [
        "panda_obj1 = Panda('drive/My Drive/harvard/LARGE_COPD/FC_exp.txt', F_motif_data, ppi_data,computing='gpu',precision='single',save_tmp=False,save_memory = False, remove_missing=False, keep_expression_matrix = False,modeProcess = 'intersection')\n",
        "np.save('drive/My Drive/Colab Notebooks/model_output/FC_LTRC_rmb1.npy',np.round(panda_obj1.export_panda_results,decimals=3))\n",
        "del panda_obj1\n",
        "panda_obj2 = Panda('drive/My Drive/harvard/LARGE_COPD/MC_exp.txt', motif_data, ppi_data,computing='gpu',precision='single',save_tmp=False,save_memory = False, remove_missing=False, keep_expression_matrix = False,modeProcess = 'intersection')\n",
        "np.save('drive/My Drive/Colab Notebooks/model_output/MC_LTRC_rmb1.npy',np.round(panda_obj2.export_panda_results,decimals=3))\n",
        "del panda_obj2\n",
        "panda_obj3 = Panda('drive/My Drive/harvard/LARGE_COPD/FNC_exp.txt', F_motif_data, ppi_data,computing='gpu',precision='single',save_tmp=False,save_memory = False, remove_missing=False, keep_expression_matrix = False,modeProcess = 'intersection')\n",
        "np.save('drive/My Drive/Colab Notebooks/model_output/FNC_LTRC_rmb1.npy',np.round(panda_obj3.export_panda_results,decimals=3))\n",
        "del panda_obj3\n",
        "panda_obj4 = Panda('drive/My Drive/harvard/LARGE_COPD/MNC_exp.txt', motif_data, ppi_data,computing='gpu',precision='single',save_tmp=False,save_memory = False, remove_missing=False, keep_expression_matrix = False,modeProcess = 'intersection')\n",
        "np.save('drive/My Drive/Colab Notebooks/model_output/MNC_LTRC_rmb1.npy',np.round(panda_obj4.export_panda_results,decimals=3))\n",
        "del panda_obj4\n",
        "# panda_obj5 = Panda('FcaseFULL.txt', motif_data, ppi_data,computing='gpu',precision='single',save_tmp=False,save_memory = False, remove_missing=False, keep_expression_matrix = True,modeProcess = 'intersection')\n",
        "# np.save('drive/My Drive/Panda_FcaseFULL.npy',panda_obj5.export_panda_results)\n",
        "# del panda_obj5\n",
        "# panda_obj6 = Panda('FcontFULL.txt', motif_data, ppi_data,computing='gpu',precision='single',save_tmp=False,save_memory = False, remove_missing=False, keep_expression_matrix = True,modeProcess = 'intersection')\n",
        "# np.save('drive/My Drive/Panda_FcontFULL.npy',panda_obj6.export_panda_results)\n",
        "# del panda_obj6\n"
      ],
      "execution_count": null,
      "outputs": [
        {
          "output_type": "stream",
          "text": [
            "Loading motif data ...\n",
            "  Elapsed time: 14.13 sec.\n",
            "Loading expression data ...\n",
            "  Elapsed time: 0.42 sec.\n",
            "Loading PPI data ...\n",
            "Number of PPIs: 2569609\n",
            "  Elapsed time: 1.25 sec.\n",
            "Calculating coexpression network ...\n",
            "  Elapsed time: 4.69 sec.\n",
            "Creating motif network ...\n",
            "  Elapsed time: 18.24 sec.\n",
            "Creating PPI network ...\n",
            "  Elapsed time: 2.21 sec.\n",
            "Normalizing networks ...\n",
            "  Elapsed time: 21.65 sec.\n",
            "Running PANDA algorithm ...\n",
            "step: 0, hamming: 2.1479897499084473\n",
            "step: 1, hamming: 0.5740736126899719\n",
            "step: 2, hamming: 0.42989087104797363\n",
            "step: 3, hamming: 0.3743654787540436\n",
            "step: 4, hamming: 0.3373662531375885\n",
            "step: 5, hamming: 0.3055858612060547\n",
            "step: 6, hamming: 0.2756649851799011\n",
            "step: 7, hamming: 0.24690113961696625\n",
            "step: 8, hamming: 0.21940019726753235\n",
            "step: 9, hamming: 0.19346578419208527\n",
            "step: 10, hamming: 0.1693810224533081\n",
            "step: 11, hamming: 0.14733654260635376\n",
            "step: 12, hamming: 0.12741902470588684\n",
            "step: 13, hamming: 0.1096254512667656\n",
            "step: 14, hamming: 0.09388337284326553\n",
            "step: 15, hamming: 0.08007261157035828\n",
            "step: 16, hamming: 0.06804363429546356\n",
            "step: 17, hamming: 0.05763211101293564\n",
            "step: 18, hamming: 0.048669688403606415\n",
            "step: 19, hamming: 0.04099158197641373\n",
            "step: 20, hamming: 0.034441497176885605\n",
            "step: 21, hamming: 0.02887459099292755\n",
            "step: 22, hamming: 0.024159103631973267\n",
            "step: 23, hamming: 0.02017677202820778\n",
            "step: 24, hamming: 0.01682269386947155\n",
            "step: 25, hamming: 0.014004659838974476\n",
            "step: 26, hamming: 0.01164224836975336\n",
            "step: 27, hamming: 0.009665782563388348\n",
            "step: 28, hamming: 0.008015257306396961\n",
            "step: 29, hamming: 0.006639228202402592\n",
            "step: 30, hamming: 0.005493703298270702\n",
            "step: 31, hamming: 0.004541343078017235\n",
            "step: 32, hamming: 0.0037506555672734976\n",
            "step: 33, hamming: 0.0030948491767048836\n",
            "step: 34, hamming: 0.0025512371212244034\n",
            "step: 35, hamming: 0.0021011552307754755\n",
            "step: 36, hamming: 0.0017289288807660341\n",
            "step: 37, hamming: 0.0014209961518645287\n",
            "step: 38, hamming: 0.0011664696503430605\n",
            "step: 39, hamming: 0.0009566096705384552\n",
            "Running panda took: 5.91 seconds!\n",
            "Loading motif data ...\n",
            "  Elapsed time: 15.29 sec.\n",
            "Loading expression data ...\n",
            "  Elapsed time: 0.60 sec.\n",
            "Loading PPI data ...\n",
            "Number of PPIs: 2569609\n",
            "  Elapsed time: 1.25 sec.\n",
            "Calculating coexpression network ...\n",
            "  Elapsed time: 4.90 sec.\n",
            "Creating motif network ...\n",
            "  Elapsed time: 18.28 sec.\n",
            "Creating PPI network ...\n",
            "  Elapsed time: 2.16 sec.\n",
            "Normalizing networks ...\n",
            "  Elapsed time: 20.83 sec.\n",
            "Running PANDA algorithm ...\n",
            "step: 0, hamming: 2.1978261470794678\n",
            "step: 1, hamming: 0.6027361750602722\n",
            "step: 2, hamming: 0.4448637068271637\n",
            "step: 3, hamming: 0.3845091164112091\n",
            "step: 4, hamming: 0.3451499044895172\n",
            "step: 5, hamming: 0.3119450509548187\n",
            "step: 6, hamming: 0.2810256779193878\n",
            "step: 7, hamming: 0.25149181485176086\n",
            "step: 8, hamming: 0.2233588546514511\n",
            "step: 9, hamming: 0.19688548147678375\n",
            "step: 10, hamming: 0.1723325401544571\n",
            "step: 11, hamming: 0.14987799525260925\n",
            "step: 12, hamming: 0.12960077822208405\n",
            "step: 13, hamming: 0.11149216443300247\n",
            "step: 14, hamming: 0.0954752117395401\n",
            "step: 15, hamming: 0.08142585307359695\n",
            "step: 16, hamming: 0.06919071078300476\n",
            "step: 17, hamming: 0.058601826429367065\n",
            "step: 18, hamming: 0.04948744177818298\n",
            "step: 19, hamming: 0.041679613292217255\n",
            "step: 20, hamming: 0.035019151866436005\n",
            "step: 21, hamming: 0.029358630999922752\n",
            "step: 22, hamming: 0.024563968181610107\n",
            "step: 23, hamming: 0.020514847710728645\n",
            "step: 24, hamming: 0.01710456609725952\n",
            "step: 25, hamming: 0.014239328913390636\n",
            "step: 26, hamming: 0.01183735579252243\n",
            "step: 27, hamming: 0.009827783331274986\n",
            "step: 28, hamming: 0.008149608969688416\n",
            "step: 29, hamming: 0.006750533822923899\n",
            "step: 30, hamming: 0.005585835315287113\n",
            "step: 31, hamming: 0.004617554601281881\n",
            "step: 32, hamming: 0.0038136460352689028\n",
            "step: 33, hamming: 0.0031468684319406748\n",
            "step: 34, hamming: 0.0025941624771803617\n",
            "step: 35, hamming: 0.0021365624852478504\n",
            "step: 36, hamming: 0.0017580923158675432\n",
            "step: 37, hamming: 0.0014449774753302336\n",
            "step: 38, hamming: 0.0011861658422276378\n",
            "step: 39, hamming: 0.0009727102005854249\n",
            "Running panda took: 5.90 seconds!\n",
            "Loading motif data ...\n",
            "  Elapsed time: 14.92 sec.\n",
            "Loading expression data ...\n",
            "  Elapsed time: 0.43 sec.\n",
            "Loading PPI data ...\n",
            "Number of PPIs: 2569609\n",
            "  Elapsed time: 1.21 sec.\n",
            "Calculating coexpression network ...\n",
            "  Elapsed time: 4.90 sec.\n",
            "Creating motif network ...\n",
            "  Elapsed time: 18.42 sec.\n",
            "Creating PPI network ...\n",
            "  Elapsed time: 2.23 sec.\n",
            "Normalizing networks ...\n",
            "  Elapsed time: 21.09 sec.\n",
            "Running PANDA algorithm ...\n",
            "step: 0, hamming: 2.4660229682922363\n",
            "step: 1, hamming: 0.6491023302078247\n",
            "step: 2, hamming: 0.4871295094490051\n",
            "step: 3, hamming: 0.4250550866127014\n",
            "step: 4, hamming: 0.38342079520225525\n",
            "step: 5, hamming: 0.3474239408969879\n",
            "step: 6, hamming: 0.3134014904499054\n",
            "step: 7, hamming: 0.2806410491466522\n",
            "step: 8, hamming: 0.24930579960346222\n",
            "step: 9, hamming: 0.21976181864738464\n",
            "step: 10, hamming: 0.1923387348651886\n",
            "step: 11, hamming: 0.16725382208824158\n",
            "step: 12, hamming: 0.1446027308702469\n",
            "step: 13, hamming: 0.12437799572944641\n",
            "step: 14, hamming: 0.10649369657039642\n",
            "step: 15, hamming: 0.09081033617258072\n",
            "step: 16, hamming: 0.07715552300214767\n",
            "step: 17, hamming: 0.06534059345722198\n",
            "step: 18, hamming: 0.0551728792488575\n",
            "step: 19, hamming: 0.046464208513498306\n",
            "step: 20, hamming: 0.03903639689087868\n",
            "step: 21, hamming: 0.03272454813122749\n",
            "step: 22, hamming: 0.027378782629966736\n",
            "step: 23, hamming: 0.022864673286676407\n",
            "step: 24, hamming: 0.019063053652644157\n",
            "step: 25, hamming: 0.015869244933128357\n",
            "step: 26, hamming: 0.01319196354597807\n",
            "step: 27, hamming: 0.010952193289995193\n",
            "step: 28, hamming: 0.009081864729523659\n",
            "step: 29, hamming: 0.007522569969296455\n",
            "step: 30, hamming: 0.006224497687071562\n",
            "step: 31, hamming: 0.005145462695509195\n",
            "step: 32, hamming: 0.004249584395438433\n",
            "step: 33, hamming: 0.0035064073745161295\n",
            "step: 34, hamming: 0.002890614327043295\n",
            "step: 35, hamming: 0.0023809047415852547\n",
            "step: 36, hamming: 0.0019590742886066437\n",
            "step: 37, hamming: 0.0016100775683298707\n",
            "step: 38, hamming: 0.001321914722211659\n",
            "step: 39, hamming: 0.001084095099940896\n",
            "step: 40, hamming: 0.0008875623461790383\n",
            "Running panda took: 6.06 seconds!\n",
            "Loading motif data ...\n",
            "  Elapsed time: 15.14 sec.\n",
            "Loading expression data ...\n",
            "  Elapsed time: 0.30 sec.\n",
            "Loading PPI data ...\n",
            "Number of PPIs: 2569609\n",
            "  Elapsed time: 1.25 sec.\n",
            "Calculating coexpression network ...\n",
            "  Elapsed time: 4.59 sec.\n",
            "Creating motif network ...\n",
            "  Elapsed time: 18.35 sec.\n",
            "Creating PPI network ...\n",
            "  Elapsed time: 2.23 sec.\n",
            "Normalizing networks ...\n",
            "  Elapsed time: 21.04 sec.\n",
            "Running PANDA algorithm ...\n",
            "step: 0, hamming: 2.3292407989501953\n",
            "step: 1, hamming: 0.6372252702713013\n",
            "step: 2, hamming: 0.4683736562728882\n",
            "step: 3, hamming: 0.4039425551891327\n",
            "step: 4, hamming: 0.36212384700775146\n",
            "step: 5, hamming: 0.3270145356655121\n",
            "step: 6, hamming: 0.2944370210170746\n",
            "step: 7, hamming: 0.26338839530944824\n",
            "step: 8, hamming: 0.23385325074195862\n",
            "step: 9, hamming: 0.20608672499656677\n",
            "step: 10, hamming: 0.18035152554512024\n",
            "step: 11, hamming: 0.1568269431591034\n",
            "step: 12, hamming: 0.13559143245220184\n",
            "step: 13, hamming: 0.1166328564286232\n",
            "step: 14, hamming: 0.09986814856529236\n",
            "step: 15, hamming: 0.0851655900478363\n",
            "step: 16, hamming: 0.07236360013484955\n",
            "step: 17, hamming: 0.0612855888903141\n",
            "step: 18, hamming: 0.05175124853849411\n",
            "step: 19, hamming: 0.04358438402414322\n",
            "step: 20, hamming: 0.036618173122406006\n",
            "step: 21, hamming: 0.030698196962475777\n",
            "step: 22, hamming: 0.025684045627713203\n",
            "step: 23, hamming: 0.02144976519048214\n",
            "step: 24, hamming: 0.017883671447634697\n",
            "step: 25, hamming: 0.014887631870806217\n",
            "step: 26, hamming: 0.012376084923744202\n",
            "step: 27, hamming: 0.010274910368025303\n",
            "step: 28, hamming: 0.008520293980836868\n",
            "step: 29, hamming: 0.00705751683562994\n",
            "step: 30, hamming: 0.0058398060500621796\n",
            "step: 31, hamming: 0.004827525001019239\n",
            "step: 32, hamming: 0.003987116739153862\n",
            "step: 33, hamming: 0.003290029941126704\n",
            "step: 34, hamming: 0.0027122413739562035\n",
            "step: 35, hamming: 0.0022339324932545424\n",
            "step: 36, hamming: 0.0018382816342636943\n",
            "step: 37, hamming: 0.0015108309453353286\n",
            "step: 38, hamming: 0.0012402129359543324\n",
            "step: 39, hamming: 0.0010170344030484557\n",
            "step: 40, hamming: 0.0008328606490977108\n",
            "Running panda took: 6.05 seconds!\n"
          ],
          "name": "stdout"
        }
      ]
    },
    {
      "cell_type": "markdown",
      "metadata": {
        "id": "Zxe3WSTC1-DT"
      },
      "source": [
        "##MALE"
      ]
    },
    {
      "cell_type": "code",
      "metadata": {
        "id": "vHJnKTZs18US"
      },
      "source": [
        "from scipy.stats import zscore"
      ],
      "execution_count": null,
      "outputs": []
    },
    {
      "cell_type": "code",
      "metadata": {
        "id": "ip6P12IlHUL1"
      },
      "source": [
        "MC=np.load('drive/My Drive/Colab Notebooks/model_output/MC_LTRC_rmb1.npy',allow_pickle=True)#,sep='\\t',index_col=0,header=None,names=['loc','symbol'])\n",
        "MNC=np.load('drive/My Drive/Colab Notebooks/model_output/MNC_LTRC_rmb1.npy',allow_pickle=True)#,sep='\\t',index_col=0,header=None,names=['loc','symbol'])\n",
        "MNC=pd.DataFrame(MNC)\n",
        "MNC.columns=['tf','gene','motif','force']\n",
        "MC=pd.DataFrame(MC)\n",
        "MC.columns=['tf','gene','motif','force']"
      ],
      "execution_count": null,
      "outputs": []
    },
    {
      "cell_type": "code",
      "metadata": {
        "id": "nOv-FpbWQHzp"
      },
      "source": [
        "# len(pd.unique(MC.gene))#\n",
        "# MC['gene']=='TSPAN6']"
      ],
      "execution_count": null,
      "outputs": []
    },
    {
      "cell_type": "code",
      "metadata": {
        "id": "DXFIZO3XhVmt"
      },
      "source": [
        "# MC_chr=MC.merge(gene2chr,left_on='tf',right_on='ILMN_Gene')\n",
        "# pd.unique(MC_chr[MC_chr['Chromosome']=='X'].tf)"
      ],
      "execution_count": null,
      "outputs": []
    },
    {
      "cell_type": "code",
      "metadata": {
        "id": "gl6kKS_sq5XH"
      },
      "source": [
        "# MC_chr[MC_chr['gene']=='GATA1']\n",
        "# coding_LCL_motif[coding_LCL_motif[0]=='GATA1']"
      ],
      "execution_count": null,
      "outputs": []
    },
    {
      "cell_type": "code",
      "metadata": {
        "id": "PJ0AF5Yk18Wv"
      },
      "source": [
        "## case minus control\n",
        "TFsum_3=MC.groupby(['tf']).agg({'force':sum})\n",
        "TFsum_1=MNC.groupby(['tf']).agg({'force':sum})\n",
        "TFsum_1['force']=zscore(TFsum_1['force'])\n",
        "TFsum_3['force']=zscore(TFsum_3['force']) ##reduces range from 1500 to 3\n",
        "\n",
        "geneSum_3=MC.groupby(['gene']).agg({'force':sum})\n",
        "geneSum_1=MNC.groupby(['gene']).agg({'force':sum})\n",
        "geneSum_3['force']=zscore(geneSum_3['force'])\n",
        "geneSum_1['force']=zscore(geneSum_1['force']) ## perhaps try  qnorm rather than zscore\n",
        "\n",
        "mmm=TFsum_3.merge(TFsum_1, left_on=['tf'], right_on=['tf'])\n",
        "mmmm=geneSum_3.merge(geneSum_1, left_on=['gene'], right_on=['gene'])\n",
        "\n",
        "# del [[MC, MNC]]\n",
        "# gc.collect()\n",
        "MC=pd.DataFrame()\n",
        "MNC=pd.DataFrame()\n",
        "# Panda_FcontFULL=pd.DataFrame()\n",
        "# Panda_FcontFULL=pd.DataFrame()\n",
        "\n",
        "\n",
        "mmm['diff']=mmm.force_x-mmm.force_y\n",
        "mmm = mmm.sort_values(by ='diff' )\n",
        "\n",
        "\n",
        "mmmm['diff']=mmmm.force_x-mmmm.force_y\n",
        "mmmm = mmmm.sort_values(by ='diff' )\n",
        "mmm.to_csv('drive/My Drive/TF_zscore_M_large_u.txt',sep='\\t')\n",
        "mmmm.to_csv('drive/My Drive/gene_zscore_M_large_u.txt',sep='\\t')"
      ],
      "execution_count": null,
      "outputs": []
    },
    {
      "cell_type": "markdown",
      "metadata": {
        "id": "YuTypM6n2O4m"
      },
      "source": [
        "##FEMALE"
      ]
    },
    {
      "cell_type": "code",
      "metadata": {
        "id": "0I2e9ghc2NxO"
      },
      "source": [
        "FC=np.load('drive/My Drive/Colab Notebooks/model_output/FC_LTRC_rmb1.npy',allow_pickle=True)#,sep='\\t',index_col=0,header=None,names=['loc','symbol'])\n",
        "FNC=np.load('drive/My Drive/Colab Notebooks/model_output/FNC_LTRC_rmb1.npy',allow_pickle=True)#,sep='\\t',index_col=0,header=None,names=['loc','symbol'])\n",
        "FNC=pd.DataFrame(FNC)\n",
        "FNC.columns=['tf','gene','motif','force']\n",
        "FC=pd.DataFrame(FC)\n",
        "FC.columns=['tf','gene','motif','force']"
      ],
      "execution_count": null,
      "outputs": []
    },
    {
      "cell_type": "code",
      "metadata": {
        "id": "j8RTpBG718ZT"
      },
      "source": [
        "TFsum_4=FC.groupby(['tf']).agg({'force':sum})\n",
        "TFsum_2=FNC.groupby(['tf']).agg({'force':sum})\n",
        "TFsum_2['force']=zscore(TFsum_2['force'])\n",
        "TFsum_4['force']=zscore(TFsum_4['force']) ##reduces range from 2500 to 4\n",
        "\n",
        "geneSum_4=FC.groupby(['gene']).agg({'force':sum})\n",
        "geneSum_2=FNC.groupby(['gene']).agg({'force':sum})\n",
        "geneSum_4['force']=zscore(geneSum_4['force'])\n",
        "geneSum_2['force']=zscore(geneSum_2['force'])\n",
        "\n",
        "nnn=TFsum_4.merge(TFsum_2, left_on=['tf'], right_on=['tf'])\n",
        "nnnn=geneSum_4.merge(geneSum_2, left_on=['gene'], right_on=['gene'])\n",
        "\n",
        "# del [[FC, FNC]]\n",
        "# gc.collect()\n",
        "FC=pd.DataFrame()\n",
        "FNC=pd.DataFrame()\n",
        "Panda_FcontFULL=pd.DataFrame()\n",
        "Panda_FcontFULL=pd.DataFrame()\n",
        "\n",
        "\n",
        "nnn['diff']=nnn.force_x-nnn.force_y\n",
        "nnn = nnn.sort_values(by ='diff' )\n",
        "\n",
        "\n",
        "nnnn['diff']=mmmm.force_x-nnnn.force_y\n",
        "nnnn = nnnn.sort_values(by ='diff' )\n",
        "nnn.to_csv('drive/My Drive/TF_zscore_F_large_u.txt',sep='\\t')\n",
        "nnnn.to_csv('drive/My Drive/gene_zscore_F_large_u.txt',sep='\\t')"
      ],
      "execution_count": null,
      "outputs": []
    },
    {
      "cell_type": "code",
      "metadata": {
        "id": "bj0tf2reKzMb"
      },
      "source": [
        "# ## subtract link weights between case and control, then zscore then take degree\n",
        "\n",
        "# MC=np.load('drive/My Drive/Colab Notebooks/model_output/MC_LTRC.npy',allow_pickle=True)#,sep='\\t',index_col=0,header=None,names=['loc','symbol'])\n",
        "# MNC=np.load('drive/My Drive/Colab Notebooks/model_output/MNC_LTRC.npy',allow_pickle=True)#,sep='\\t',index_col=0,header=None,names=['loc','symbol'])\n",
        "# MNC=pd.DataFrame(MNC)\n",
        "# MNC.columns=['tf','gene','motif','force']\n",
        "# MC=pd.DataFrame(MC)\n",
        "# MC.columns=['tf','gene','motif','force']\n",
        "\n",
        "# FC=np.load('drive/My Drive/Colab Notebooks/model_output/FC_LTRC.npy',allow_pickle=True)#,sep='\\t',index_col=0,header=None,names=['loc','symbol'])\n",
        "# FNC=np.load('drive/My Drive/Colab Notebooks/model_output/FNC_LTRC.npy',allow_pickle=True)#,sep='\\t',index_col=0,header=None,names=['loc','symbol'])\n",
        "# FNC=pd.DataFrame(FNC)\n",
        "# FNC.columns=['tf','gene','motif','force']\n",
        "# FC=pd.DataFrame(FC)\n",
        "# FC.columns=['tf','gene','motif','force']\n",
        "\n",
        "# FC['Ca-Co_diff']=zscore(pd.to_numeric(FC.force-FNC.force))\n",
        "# FeAtf=FC.groupby(['tf']).agg({'force':sum})\n",
        "# FeAg=FC.groupby(['gene']).agg({'Ca-Co_diff':sum})\n",
        "# MC['Ca-Co_diff']=zscore(pd.to_numeric(MC.force-MNC.force))\n",
        "# MaAtf=MC.groupby(['tf']).agg({'force':sum})\n",
        "# MaAg=MC.groupby(['tf']).agg({'Ca-Co_diff':sum})\n",
        "\n",
        "# # FC['Ca-Co_diff']=zscore(pd.to_numeric(FC.force-FNC.force))\n",
        "# # FeDiffA=FC.groupby(['tf']).agg({'Ca-Co_diff':sum})\n",
        "# # MC['Ca-Co_diff']=zscore(pd.to_numeric(MC.force-MNC.force))#\n",
        "# # MaDiffA=MC.groupby(['tf']).agg({'Ca-Co_diff':sum})\n",
        "\n",
        "# del FC, FNC, MC, MNC\n",
        "\n",
        "# Panda_Mcase=np.load('drive/My Drive/Colab Notebooks/model_output/MC_LTCOPD.npy',allow_pickle=True)#,sep='\\t',index_col=0,header=None,names=['loc','symbol'])\n",
        "# Panda_Mcont=np.load('drive/My Drive/Colab Notebooks/model_output/MNC_LTCOPD.npy',allow_pickle=True)#,sep='\\t',index_col=0,header=None,names=['loc','symbol'])\n",
        "# Panda_Mcont=pd.DataFrame(Panda_Mcont)\n",
        "# Panda_Mcont.columns=['tf','gene','motif','force']\n",
        "# Panda_Mcase=pd.DataFrame(Panda_Mcase)\n",
        "# Panda_Mcase.columns=['tf','gene','motif','force']\n",
        "\n",
        "# Panda_FcaseFULL=np.load('drive/My Drive/Colab Notebooks/model_output/FC_LTCOPD.npy',allow_pickle=True)#,sep='\\t',index_col=0,header=None,names=['loc','symbol'])\n",
        "# Panda_FcontFULL=np.load('drive/My Drive/Colab Notebooks/model_output/FNC_LTCOPD.npy',allow_pickle=True)#,sep='\\t',index_col=0,header=None,names=['loc','symbol'])\n",
        "# Panda_FcontFULL=pd.DataFrame(Panda_FcontFULL)\n",
        "# Panda_FcontFULL.columns=['tf','gene','motif','force']\n",
        "# Panda_FcaseFULL=pd.DataFrame(Panda_FcaseFULL)\n",
        "# Panda_FcaseFULL.columns=['tf','gene','motif','force']\n",
        "\n",
        "# Panda_FcaseFULL['Ca-Co_diff']=zscore(pd.to_numeric(Panda_FcaseFULL.force-Panda_FcontFULL.force))\n",
        "# FeBtf=Panda_FcaseFULL.groupby(['tf']).agg({'force':sum})\n",
        "# FeBg=Panda_FcaseFULL.groupby(['gene']).agg({'Ca-Co_diff':sum})\n",
        "# Panda_Mcase['Ca-Co_diff']=zscore(pd.to_numeric(Panda_Mcase.force-Panda_Mcont.force))\n",
        "# MaBtf=Panda_Mcase.groupby(['tf']).agg({'force':sum})\n",
        "# MaBg=Panda_Mcase.groupby(['gene']).agg({'Ca-Co_diff':sum})\n",
        "\n",
        "# # Panda_FcaseFULL['Ca-Co_diff']=zscore(pd.to_numeric(Panda_FcaseFULL.force-Panda_FcontFULL.force))\n",
        "# # FeDiffB=Panda_FcaseFULL.groupby(['tf']).agg({'Ca-Co_diff':sum})\n",
        "# # Panda_Mcase['Ca-Co_diff']=zscore(pd.to_numeric(Panda_Mcase.force-Panda_Mcont.force))#\n",
        "# # MaDiffB=Panda_Mcase.groupby(['tf']).agg({'Ca-Co_diff':sum})\n",
        "\n",
        "# del Panda_FcaseFULL, Panda_FcontFULL, Panda_Mcase, Panda_Mcont\n",
        "\n",
        "# plt.figure(figsize=(8, 5))\n",
        "\n",
        "# p1=plt.scatter(MaBtf,MaAtf,alpha=.5) ## minus because one is case-control, other control-case!!\n",
        "# p2=plt.scatter(FeBtf,FeAtf,alpha=.25)\n",
        "# plt.ylabel('LTRC case-control TF targeting diff')\n",
        "# plt.xlabel('LTCOPD case-control TF targeting diff')\n",
        "# plt.legend((p1, p2),('Male','Female'))\n",
        "# plt.savefig(\"fig.png\",dpi=300,bbox_inches = \"tight\")"
      ],
      "execution_count": null,
      "outputs": []
    },
    {
      "cell_type": "code",
      "metadata": {
        "id": "BOLmKnGwlhY2"
      },
      "source": [
        "# rhoM, pvalM = np.corrcoef(MaBtf['Ca-Co_diff'], MaAtf['Ca-Co_diff'])\n",
        "# # pvalM\n",
        "# rhoF, pvalF = np.corrcoef(FeBtf['Ca-Co_diff'], FeAtf['Ca-Co_diff'])\n",
        "# # pvalF\n",
        "# print([rhoM[1],rhoF[1]])\n",
        "\n",
        "# rhoM, pvalM = stats.spearmanr(MaBtf['Ca-Co_diff'], MaAtf['Ca-Co_diff'])\n",
        "# # pvalM\n",
        "# rhoF, pvalF = stats.spearmanr(FeBtf['Ca-Co_diff'], FeAtf['Ca-Co_diff'])\n",
        "# # pvalF\n",
        "# print([rhoM,rhoF])"
      ],
      "execution_count": null,
      "outputs": []
    },
    {
      "cell_type": "code",
      "metadata": {
        "id": "bfFKgwg3nq98"
      },
      "source": [
        ""
      ],
      "execution_count": null,
      "outputs": []
    },
    {
      "cell_type": "code",
      "metadata": {
        "id": "2g0iRzwEai3O"
      },
      "source": [
        "# Ma=MaBg.merge(MaAg,left_index=True,right_index=True)\n",
        "# Fe=FeBg.merge(FeAg,left_index=True,right_index=True)\n",
        "# p1=plt.scatter(Ma['Ca-Co_diff_x'],Ma['Ca-Co_diff_y'],alpha=.5) ## minus because one is case-control, other control-case!!\n",
        "# p2=plt.scatter(Fe['Ca-Co_diff_x'],Fe['Ca-Co_diff_y'],alpha=.25)\n",
        "# plt.ylabel('LTRC case-control TF targeting diff')\n",
        "# plt.xlabel('LTCOPD case-control TF targeting diff')\n",
        "# plt.legend((p1, p2),('Male','Female'))\n",
        "# plt.savefig(\"fig.png\",dpi=300,bbox_inches = \"tight\")"
      ],
      "execution_count": null,
      "outputs": []
    },
    {
      "cell_type": "code",
      "metadata": {
        "id": "cnEwtXxmoP2H"
      },
      "source": [
        ""
      ],
      "execution_count": null,
      "outputs": []
    },
    {
      "cell_type": "code",
      "metadata": {
        "colab": {
          "base_uri": "https://localhost:8080/",
          "height": 299
        },
        "id": "yfzCpS_Vh-8i",
        "outputId": "40be8760-fe2a-4a91-defc-6476f625cf1d"
      },
      "source": [
        "sex_tf_diff=mmm.merge(nnn,on='tf')\n",
        "a=plt.hist(sex_tf_diff['diff_x'],bins=100,label='male')\n",
        "b=plt.hist(sex_tf_diff['diff_y'],bins=100,label='female')\n",
        "plt.title('Sex-specific Ca-Co TF degree diff')\n",
        "plt.legend(loc=\"best\")"
      ],
      "execution_count": null,
      "outputs": [
        {
          "output_type": "execute_result",
          "data": {
            "text/plain": [
              "<matplotlib.legend.Legend at 0x7fc682b0e150>"
            ]
          },
          "metadata": {
            "tags": []
          },
          "execution_count": 117
        },
        {
          "output_type": "display_data",
          "data": {
            "image/png": "[encoded data removed]",
            "text/plain": [
              "<Figure size 432x288 with 1 Axes>"
            ]
          },
          "metadata": {
            "tags": [],
            "needs_background": "light"
          }
        }
      ]
    },
    {
      "cell_type": "code",
      "metadata": {
        "colab": {
          "base_uri": "https://localhost:8080/"
        },
        "id": "iKttBxA2inFY",
        "outputId": "1b0852ae-3a69-4ef4-8b40-bb0f673c5e03"
      },
      "source": [
        "[sex_tf_diff[(sex_tf_diff['diff_y'])>.15].index.values,sex_tf_diff[(sex_tf_diff['diff_y'])<-0.15].index.values] #,sex_tf_diff[np.abs(sex_tf_diff['diff_y'])>.4].tf]"
      ],
      "execution_count": null,
      "outputs": [
        {
          "output_type": "execute_result",
          "data": {
            "text/plain": [
              "[array(['YY1'], dtype=object), array([], dtype=object)]"
            ]
          },
          "metadata": {
            "tags": []
          },
          "execution_count": 118
        }
      ]
    },
    {
      "cell_type": "code",
      "metadata": {
        "colab": {
          "base_uri": "https://localhost:8080/",
          "height": 299
        },
        "id": "aF1WWreTiv0q",
        "outputId": "7f9cc407-8fe8-45b2-f650-f806bbf2e509"
      },
      "source": [
        "sex_gene_diff=mmmm.merge(nnnn,on='gene')\n",
        "a=plt.hist(sex_gene_diff['diff_x'],bins=100,label='male')\n",
        "b=plt.hist(sex_gene_diff['diff_y'],bins=100,label='female')\n",
        "plt.title('Sex-specific Ca-Co gene degree diff')\n",
        "# plt.xlim(.1,-0.1)\n",
        "plt.legend(loc=\"best\")"
      ],
      "execution_count": null,
      "outputs": [
        {
          "output_type": "execute_result",
          "data": {
            "text/plain": [
              "<matplotlib.legend.Legend at 0x7fc56543b850>"
            ]
          },
          "metadata": {
            "tags": []
          },
          "execution_count": 119
        },
        {
          "output_type": "display_data",
          "data": {
            "image/png": "[encoded data removed]",
            "text/plain": [
              "<Figure size 432x288 with 1 Axes>"
            ]
          },
          "metadata": {
            "tags": [],
            "needs_background": "light"
          }
        }
      ]
    },
    {
      "cell_type": "code",
      "metadata": {
        "colab": {
          "base_uri": "https://localhost:8080/"
        },
        "id": "ghzaypLjiv3d",
        "outputId": "cadcde02-c188-4289-9f90-c6b21eb8ffad"
      },
      "source": [
        "[sex_gene_diff[(sex_gene_diff['diff_y'])>1].index.values,sex_gene_diff[(sex_gene_diff['diff_y'])<-1].index.values] #,sex_tf_diff[np.abs(sex_tf_diff['diff_y'])>.4].tf]"
      ],
      "execution_count": null,
      "outputs": [
        {
          "output_type": "execute_result",
          "data": {
            "text/plain": [
              "[array(['TTTY14', 'RBMY1E', 'CRLF2', 'ZFY', 'ZNF232', 'USP9Y', 'PRY2',\n",
              "        'GTPBP6', 'SPRY3', 'SHC3', 'TTTY10', 'ANKRD27', 'PRKY', 'DHRSX',\n",
              "        'ASMTL', 'UTY', 'TSPY1', 'SNRPD3', 'HSFY1', 'PPP2R3B', 'ART1',\n",
              "        'ZBED1', 'DDX3Y', 'RBMY1J', 'CD99', 'MYOZ3', 'TSPY3', 'MRGPRD',\n",
              "        'HIST1H3A', 'SERPINA9', 'TTTY4B', 'TSPY2', 'TMEM43', 'IL20RB',\n",
              "        'PHF2', 'SOX30', 'TTTY5', 'NLGN4Y', 'ANP32C', 'BICD2', 'GRK1',\n",
              "        'PRDM9', 'OPRK1', 'GNG11', 'RPS4Y2', 'NBPF3', 'SPACA1', 'LY6G6C',\n",
              "        'MMP21', 'KRTAP5-11', 'OR2T11', 'CST4', 'NPSR1'], dtype=object),\n",
              " array(['CATSPER2P1', 'GABRA6', 'UBQLN3', 'F9', 'CCDC144NL', 'FAM19A4',\n",
              "        'SPRYD4', 'LGALS14', 'ACTRT1', 'GCLM', 'GSTM1', 'IL22', 'OR10AD1',\n",
              "        'CLEC5A', 'ABCC8', 'SIGLEC12', 'KRT85', 'IFT20', 'GSG1', 'LDHC',\n",
              "        'MYH7', 'S100Z', 'DGCR9', 'RHBDL3', 'OR2A14', 'HIST1H2BJ',\n",
              "        'NLRP10', 'OR2B2', 'SAA2', 'SCARNA18', 'OR8B12', 'TMEM202',\n",
              "        'LRRC10', 'MLN', 'MCHR2', 'LHX4', 'CRP', 'SLC25A31', 'SNORA63',\n",
              "        'PADI1', 'SMPX', 'DCX'], dtype=object)]"
            ]
          },
          "metadata": {
            "tags": []
          },
          "execution_count": 120
        }
      ]
    },
    {
      "cell_type": "code",
      "metadata": {
        "id": "BYBNb5uC18b9"
      },
      "source": [
        "ff=pd.read_csv('drive/My Drive/TF_zscore_F_large_u.txt',sep='\\t',header=0)\n",
        "fff=pd.read_csv('drive/My Drive/gene_zscore_F_large_u.txt',sep='\\t',header=0)\n",
        "mm=pd.read_csv('drive/My Drive/TF_zscore_M_large_u.txt',sep='\\t',header=0)\n",
        "mmm=pd.read_csv('drive/My Drive/gene_zscore_M_large_u.txt',sep='\\t',header=0)\n",
        "sex_tf_diff=ff.merge(mm,on='tf')\n",
        "\n",
        "# a=plt.hist(sex_tf_diff['diff_x'],bins=100,label='female')\n",
        "# b=plt.hist(sex_tf_diff['diff_y'],bins=100,label='male')\n",
        "# plt.title('LTRC Sex-specific Ca-Co TF degree diff')\n",
        "# plt.legend(loc=\"best\")\n",
        "\n",
        "# [sex_tf_diff[(sex_tf_diff['diff_y'])>.1].TF.values,sex_tf_diff[(sex_tf_diff['diff_y'])<-0.1].TF.values] #,sex_tf_diff[np.abs(sex_tf_diff['diff_y'])>.4].tf]\n",
        "\n",
        "sex_tf_diff.columns=['TF','F_case','F_cont','Fdiff','M_case','M_cont','Mdiff']\n",
        "sex_tf_diff.to_csv('drive/My Drive/TF_sex_diff.txt',sep='\\t',index=0)\n",
        "\n",
        "\n",
        "sex_gene_diff=fff.merge(mmm,on='gene')\n",
        "sex_gene_diff.columns=['gene','F_case','F_cont','Fdiff','M_case','M_cont','Mdiff']\n",
        "sex_gene_diff.to_csv('drive/My Drive/gene_sex_diff.txt',sep='\\t',index=0)\n"
      ],
      "execution_count": null,
      "outputs": []
    },
    {
      "cell_type": "markdown",
      "metadata": {
        "id": "GVU9Aj9nKFMi"
      },
      "source": [
        "##Compare All"
      ]
    },
    {
      "cell_type": "code",
      "metadata": {
        "id": "C48pnadvmaSn"
      },
      "source": [
        "ff=pd.read_csv('drive/My Drive/TF_zscore_F_u.txt',sep='\\t',header=0)\n",
        "fff=pd.read_csv('drive/My Drive/gene_zscore_F_u.txt',sep='\\t',header=0)\n",
        "mm=pd.read_csv('drive/My Drive/TF_zscore_M_u.txt',sep='\\t',header=0)\n",
        "mmm=pd.read_csv('drive/My Drive/gene_zscore_M_u.txt',sep='\\t',header=0)\n",
        "\n",
        "sex_tf_diffB=ff.merge(mm,on='tf')\n",
        "sex_tf_diffB.columns=['TF','F_case','F_cont','Fdiff','M_case','M_cont','Mdiff']\n",
        "# sex_tf_diffB.to_csv('drive/My Drive/TF_sex_diff.txt',sep='\\t',index=0)\n",
        "\n",
        "\n",
        "sex_gene_diffB=fff.merge(mmm,on='gene')\n",
        "sex_gene_diffB.columns=['gene','F_case','F_cont','Fdiff','M_case','M_cont','Mdiff']\n",
        "# sex_gene_diffB.to_csv('drive/My Drive/gene_sex_diff.txt',sep='\\t',index=0)"
      ],
      "execution_count": null,
      "outputs": []
    },
    {
      "cell_type": "code",
      "metadata": {
        "id": "NveSiy0iPzrV"
      },
      "source": [
        "ff=pd.read_csv('drive/My Drive/TF_zscore_F_large_u.txt',sep='\\t',header=0)\n",
        "fff=pd.read_csv('drive/My Drive/gene_zscore_F_large_u.txt',sep='\\t',header=0)\n",
        "mm=pd.read_csv('drive/My Drive/TF_zscore_M_large_u.txt',sep='\\t',header=0)\n",
        "mmm=pd.read_csv('drive/My Drive/gene_zscore_M_large_u.txt',sep='\\t',header=0)\n",
        "\n",
        "sex_tf_diffA=ff.merge(mm,on='tf')\n",
        "sex_tf_diffA.columns=['TF','F_case','F_cont','Fdiff','M_case','M_cont','Mdiff']\n",
        "# sex_tf_diffA.to_csv('drive/My Drive/TF_sex_diff.txt',sep='\\t',index=0)\n",
        "\n",
        "\n",
        "sex_gene_diffA=fff.merge(mmm,on='gene')\n",
        "sex_gene_diffA.columns=['gene','F_case','F_cont','Fdiff','M_case','M_cont','Mdiff']\n",
        "# sex_gene_diffA.to_csv('drive/My Drive/gene_sex_diff.txt',sep='\\t',index=0)"
      ],
      "execution_count": null,
      "outputs": []
    },
    {
      "cell_type": "code",
      "metadata": {
        "colab": {
          "base_uri": "https://localhost:8080/",
          "height": 297
        },
        "id": "lXVCTRcduaI-",
        "outputId": "ce905bbf-9a52-475f-e5b5-ace03111e654"
      },
      "source": [
        "steve=sex_gene_diffB.merge(sex_gene_diffA,on='gene')\n",
        "c=steve[(steve['Mdiff_x']>.4)&(steve['Mdiff_y']>.4)].gene.dropna().astype(object)\n",
        "# c\n",
        "genes_str='\\n'.join(c)\n",
        "ENRICHR_URL = 'http://maayanlab.cloud/Enrichr/addList'\n",
        "query_string = '?userListId=%s&backgroundType=%s'\n",
        "\n",
        "description = 'Example gene list'\n",
        "payload = {\n",
        "    'list': (None, genes_str),\n",
        "    'description': (None, description)\n",
        "}\n",
        "\n",
        "response = requests.post(ENRICHR_URL, files=payload)\n",
        "if not response.ok:\n",
        "    raise Exception('Error analyzing gene list')\n",
        "\n",
        "data = json.loads(response.text)\n",
        "\n",
        "user_list_id = data['userListId']\n",
        "gene_set_library = 'GO_Biological_Process_2018'\n",
        "ENRICHR_URL = 'http://maayanlab.cloud/Enrichr/enrich'\n",
        "response = requests.get(\n",
        "    ENRICHR_URL + query_string % (user_list_id, gene_set_library)\n",
        "  )\n",
        "if not response.ok:\n",
        "    raise Exception('Error fetching enrichment results')\n",
        "\n",
        "data = json.loads(response.text);\n",
        "processBio=[]\n",
        "pvals=[]\n",
        "for i in range(1,10):\n",
        "    processBio.append(data['GO_Biological_Process_2018'][i][1])\n",
        "    pvals.append(data['GO_Biological_Process_2018'][i][2])\n",
        "plt.figure()\n",
        "y_pos = np.arange(len(processBio))\n",
        "plt.barh(y_pos, -np.log10(pvals))\n",
        "plt.yticks(ticks=y_pos,labels=processBio);\n",
        "plt.gca().invert_yaxis()  \n",
        "plt.xlabel('-log(p-value)')"
      ],
      "execution_count": null,
      "outputs": [
        {
          "output_type": "execute_result",
          "data": {
            "text/plain": [
              "Text(0.5, 0, '-log(p-value)')"
            ]
          },
          "metadata": {
            "tags": []
          },
          "execution_count": 124
        },
        {
          "output_type": "display_data",
          "data": {
            "image/png": "[encoded data removed]",
            "text/plain": [
              "<Figure size 432x288 with 1 Axes>"
            ]
          },
          "metadata": {
            "tags": [],
            "needs_background": "light"
          }
        }
      ]
    },
    {
      "cell_type": "code",
      "metadata": {
        "colab": {
          "base_uri": "https://localhost:8080/",
          "height": 297
        },
        "id": "2XEVdQ9gwXy6",
        "outputId": "bf572936-7181-47f1-97ff-c2544dcd08df"
      },
      "source": [
        "steve=sex_gene_diffB.merge(sex_gene_diffA,on='gene')\n",
        "c=steve[(steve['Fdiff_x']>.4)&(steve['Fdiff_y']>.4)].gene.dropna().astype(object)\n",
        "# c\n",
        "genes_str='\\n'.join(c)\n",
        "ENRICHR_URL = 'http://maayanlab.cloud/Enrichr/addList'\n",
        "query_string = '?userListId=%s&backgroundType=%s'\n",
        "\n",
        "description = 'Example gene list'\n",
        "payload = {\n",
        "    'list': (None, genes_str),\n",
        "    'description': (None, description)\n",
        "}\n",
        "\n",
        "response = requests.post(ENRICHR_URL, files=payload)\n",
        "if not response.ok:\n",
        "    raise Exception('Error analyzing gene list')\n",
        "\n",
        "data = json.loads(response.text)\n",
        "\n",
        "user_list_id = data['userListId']\n",
        "gene_set_library = 'GO_Biological_Process_2018'\n",
        "ENRICHR_URL = 'http://maayanlab.cloud/Enrichr/enrich'\n",
        "response = requests.get(\n",
        "    ENRICHR_URL + query_string % (user_list_id, gene_set_library)\n",
        "  )\n",
        "if not response.ok:\n",
        "    raise Exception('Error fetching enrichment results')\n",
        "\n",
        "data = json.loads(response.text);\n",
        "processBio=[]\n",
        "pvals=[]\n",
        "for i in range(1,10):\n",
        "    processBio.append(data['GO_Biological_Process_2018'][i][1])\n",
        "    pvals.append(data['GO_Biological_Process_2018'][i][2])\n",
        "plt.figure()\n",
        "y_pos = np.arange(len(processBio))\n",
        "plt.barh(y_pos, -np.log10(pvals))\n",
        "plt.yticks(ticks=y_pos,labels=processBio);\n",
        "plt.gca().invert_yaxis()  \n",
        "plt.xlabel('-log(p-value)')"
      ],
      "execution_count": null,
      "outputs": [
        {
          "output_type": "execute_result",
          "data": {
            "text/plain": [
              "Text(0.5, 0, '-log(p-value)')"
            ]
          },
          "metadata": {
            "tags": []
          },
          "execution_count": 125
        },
        {
          "output_type": "display_data",
          "data": {
            "image/png": "[encoded data removed]",
            "text/plain": [
              "<Figure size 432x288 with 1 Axes>"
            ]
          },
          "metadata": {
            "tags": [],
            "needs_background": "light"
          }
        }
      ]
    },
    {
      "cell_type": "code",
      "metadata": {
        "id": "RfMTLa5oSOWb"
      },
      "source": [
        "sex_tf_diffA=sex_tf_diffA.sort_values('TF')\n",
        "sex_tf_diffB=sex_tf_diffB.sort_values('TF')\n",
        "sex_gene_diffA=sex_gene_diffA.sort_values('gene')\n",
        "sex_gene_diffB=sex_gene_diffB.sort_values('gene')"
      ],
      "execution_count": null,
      "outputs": []
    },
    {
      "cell_type": "code",
      "metadata": {
        "colab": {
          "base_uri": "https://localhost:8080/",
          "height": 419
        },
        "id": "KTtFuGhKRGIg",
        "outputId": "c739f51a-551d-4e23-b14c-b1e375c41b3e"
      },
      "source": [
        "sex_tf_diffA"
      ],
      "execution_count": null,
      "outputs": [
        {
          "output_type": "execute_result",
          "data": {
            "text/html": [
              "<div>\n",
              "<style scoped>\n",
              "    .dataframe tbody tr th:only-of-type {\n",
              "        vertical-align: middle;\n",
              "    }\n",
              "\n",
              "    .dataframe tbody tr th {\n",
              "        vertical-align: top;\n",
              "    }\n",
              "\n",
              "    .dataframe thead th {\n",
              "        text-align: right;\n",
              "    }\n",
              "</style>\n",
              "<table border=\"1\" class=\"dataframe\">\n",
              "  <thead>\n",
              "    <tr style=\"text-align: right;\">\n",
              "      <th></th>\n",
              "      <th>TF</th>\n",
              "      <th>F_case</th>\n",
              "      <th>F_cont</th>\n",
              "      <th>Fdiff</th>\n",
              "      <th>M_case</th>\n",
              "      <th>M_cont</th>\n",
              "      <th>Mdiff</th>\n",
              "    </tr>\n",
              "  </thead>\n",
              "  <tbody>\n",
              "    <tr>\n",
              "      <th>372</th>\n",
              "      <td>AHR</td>\n",
              "      <td>-2.071462</td>\n",
              "      <td>-2.074379</td>\n",
              "      <td>0.002918</td>\n",
              "      <td>-0.176397</td>\n",
              "      <td>-0.160248</td>\n",
              "      <td>-0.016148</td>\n",
              "    </tr>\n",
              "    <tr>\n",
              "      <th>308</th>\n",
              "      <td>AIRE</td>\n",
              "      <td>0.462125</td>\n",
              "      <td>0.466403</td>\n",
              "      <td>-0.004277</td>\n",
              "      <td>0.418241</td>\n",
              "      <td>0.433078</td>\n",
              "      <td>-0.014838</td>\n",
              "    </tr>\n",
              "    <tr>\n",
              "      <th>181</th>\n",
              "      <td>ALX1</td>\n",
              "      <td>0.245842</td>\n",
              "      <td>0.263653</td>\n",
              "      <td>-0.017811</td>\n",
              "      <td>0.184138</td>\n",
              "      <td>0.207864</td>\n",
              "      <td>-0.023726</td>\n",
              "    </tr>\n",
              "    <tr>\n",
              "      <th>87</th>\n",
              "      <td>ALX3</td>\n",
              "      <td>0.118431</td>\n",
              "      <td>0.149349</td>\n",
              "      <td>-0.030918</td>\n",
              "      <td>0.058990</td>\n",
              "      <td>0.087180</td>\n",
              "      <td>-0.028190</td>\n",
              "    </tr>\n",
              "    <tr>\n",
              "      <th>100</th>\n",
              "      <td>ALX4</td>\n",
              "      <td>0.080155</td>\n",
              "      <td>0.109645</td>\n",
              "      <td>-0.029490</td>\n",
              "      <td>0.023192</td>\n",
              "      <td>0.050276</td>\n",
              "      <td>-0.027084</td>\n",
              "    </tr>\n",
              "    <tr>\n",
              "      <th>...</th>\n",
              "      <td>...</td>\n",
              "      <td>...</td>\n",
              "      <td>...</td>\n",
              "      <td>...</td>\n",
              "      <td>...</td>\n",
              "      <td>...</td>\n",
              "      <td>...</td>\n",
              "    </tr>\n",
              "    <tr>\n",
              "      <th>600</th>\n",
              "      <td>ZNF75A</td>\n",
              "      <td>0.467540</td>\n",
              "      <td>0.406066</td>\n",
              "      <td>0.061474</td>\n",
              "      <td>0.445739</td>\n",
              "      <td>0.416417</td>\n",
              "      <td>0.029322</td>\n",
              "    </tr>\n",
              "    <tr>\n",
              "      <th>311</th>\n",
              "      <td>ZNF784</td>\n",
              "      <td>-0.528957</td>\n",
              "      <td>-0.525164</td>\n",
              "      <td>-0.003793</td>\n",
              "      <td>-0.525327</td>\n",
              "      <td>-0.527967</td>\n",
              "      <td>0.002640</td>\n",
              "    </tr>\n",
              "    <tr>\n",
              "      <th>356</th>\n",
              "      <td>ZSCAN10</td>\n",
              "      <td>-0.300346</td>\n",
              "      <td>-0.301139</td>\n",
              "      <td>0.000793</td>\n",
              "      <td>-0.289744</td>\n",
              "      <td>-0.311145</td>\n",
              "      <td>0.021400</td>\n",
              "    </tr>\n",
              "    <tr>\n",
              "      <th>60</th>\n",
              "      <td>ZSCAN16</td>\n",
              "      <td>0.169356</td>\n",
              "      <td>0.205220</td>\n",
              "      <td>-0.035863</td>\n",
              "      <td>0.138877</td>\n",
              "      <td>0.156377</td>\n",
              "      <td>-0.017499</td>\n",
              "    </tr>\n",
              "    <tr>\n",
              "      <th>609</th>\n",
              "      <td>ZSCAN4</td>\n",
              "      <td>0.099613</td>\n",
              "      <td>0.031018</td>\n",
              "      <td>0.068595</td>\n",
              "      <td>0.094858</td>\n",
              "      <td>0.082459</td>\n",
              "      <td>0.012399</td>\n",
              "    </tr>\n",
              "  </tbody>\n",
              "</table>\n",
              "<p>631 rows × 7 columns</p>\n",
              "</div>"
            ],
            "text/plain": [
              "          TF    F_case    F_cont     Fdiff    M_case    M_cont     Mdiff\n",
              "372      AHR -2.071462 -2.074379  0.002918 -0.176397 -0.160248 -0.016148\n",
              "308     AIRE  0.462125  0.466403 -0.004277  0.418241  0.433078 -0.014838\n",
              "181     ALX1  0.245842  0.263653 -0.017811  0.184138  0.207864 -0.023726\n",
              "87      ALX3  0.118431  0.149349 -0.030918  0.058990  0.087180 -0.028190\n",
              "100     ALX4  0.080155  0.109645 -0.029490  0.023192  0.050276 -0.027084\n",
              "..       ...       ...       ...       ...       ...       ...       ...\n",
              "600   ZNF75A  0.467540  0.406066  0.061474  0.445739  0.416417  0.029322\n",
              "311   ZNF784 -0.528957 -0.525164 -0.003793 -0.525327 -0.527967  0.002640\n",
              "356  ZSCAN10 -0.300346 -0.301139  0.000793 -0.289744 -0.311145  0.021400\n",
              "60   ZSCAN16  0.169356  0.205220 -0.035863  0.138877  0.156377 -0.017499\n",
              "609   ZSCAN4  0.099613  0.031018  0.068595  0.094858  0.082459  0.012399\n",
              "\n",
              "[631 rows x 7 columns]"
            ]
          },
          "metadata": {
            "tags": []
          },
          "execution_count": 127
        }
      ]
    },
    {
      "cell_type": "code",
      "metadata": {
        "id": "UuHf6a_xRWiH",
        "colab": {
          "base_uri": "https://localhost:8080/",
          "height": 497
        },
        "outputId": "3d652e86-a30e-4114-e339-4f4ebf30345b"
      },
      "source": [
        "plt.figure(figsize=(8, 8))\n",
        "# p1=plt.bar(sex_tf_diffB.index,sex_tf_diffB['Mdiff'])\n",
        "# p2=plt.bar(sex_tf_diffA.index,sex_tf_diffA['Mdiff'],bottom=sex_tf_diffB['Mdiff']) \n",
        "# p3=plt.bar(sex_tf_diffB.index,sex_tf_diffB['Fdiff'])\n",
        "# p4=plt.bar(sex_tf_diffA.index,sex_tf_diffA['Fdiff'],bottom=sex_tf_diffB['Fdiff'])\n",
        "# plt.legend((p1[0], p2[0],p3[0],p4[0]), ('smallMen', 'largeMen','smallWomen','largeWomen'))\n",
        "\n",
        "p1=plt.scatter(sex_tf_diffB['Mdiff'],-sex_tf_diffA['Mdiff'],alpha=.25) ## minus because one is case-control, other control-case!!\n",
        "p2=plt.scatter(sex_tf_diffB['Fdiff'],-sex_tf_diffA['Fdiff'],alpha=.25)\n",
        "# p3=plt.scatter(sex_tf_diffA['Mdiff'],sex_tf_diffA['Fdiff'],alpha=.25) ## minus because one is case-control, other control-case!!\n",
        "# p4=plt.scatter(sex_tf_diffB['Mdiff'],sex_tf_diffB['Fdiff'],alpha=.25)\n",
        "plt.ylabel('LTRC case-control TF targeting diff')\n",
        "plt.xlabel('LTCOPD case-control TF targeting diff')\n",
        "plt.legend((p1, p2),('Male','Female'))#,p3,p4),('Male','Female','LTRC','LTCOPD'))\n",
        "plt.savefig(\"fig.png\",dpi=300,bbox_inches = \"tight\")\n"
      ],
      "execution_count": null,
      "outputs": [
        {
          "output_type": "display_data",
          "data": {
            "image/png": "[encoded data removed]",
            "text/plain": [
              "<Figure size 576x576 with 1 Axes>"
            ]
          },
          "metadata": {
            "tags": [],
            "needs_background": "light"
          }
        }
      ]
    },
    {
      "cell_type": "code",
      "metadata": {
        "id": "W3hk1uI371MZ"
      },
      "source": [
        "# from scipy.stats import spearmanr\n",
        "# from scipy.stats import zscore"
      ],
      "execution_count": null,
      "outputs": []
    },
    {
      "cell_type": "code",
      "metadata": {
        "colab": {
          "base_uri": "https://localhost:8080/"
        },
        "id": "Isfn3xR68MG5",
        "outputId": "b6370f4e-859d-41cd-f61f-62d614638ff6"
      },
      "source": [
        "rhoM, pvalM = np.corrcoef(sex_tf_diffB['Mdiff'], -sex_tf_diffA['Mdiff'])\n",
        "# pvalM\n",
        "rhoF, pvalF = np.corrcoef(sex_tf_diffB['Fdiff'], -sex_tf_diffA['Fdiff'])\n",
        "# pvalF\n",
        "print([rhoM[1],rhoF[1]])\n",
        "\n",
        "rhoM, pvalM = stats.spearmanr(sex_tf_diffB['Mdiff'], -sex_tf_diffA['Mdiff'])\n",
        "# pvalM\n",
        "rhoF, pvalF = stats.spearmanr(sex_tf_diffB['Fdiff'], -sex_tf_diffA['Fdiff'])\n",
        "# pvalF\n",
        "print([rhoM,rhoF])\n",
        "\n",
        "# rhoM, pvalM = stats.spearmanr(sex_tf_diffA['Mdiff'], sex_tf_diffA['Fdiff'])\n",
        "# # pvalM\n",
        "# rhoF, pvalF = stats.spearmanr(sex_tf_diffA['Mdiff'], sex_tf_diffA['Fdiff'])\n",
        "# # pvalF\n",
        "# print([rhoM,rhoF])\n",
        "\n",
        "# rhoM, pvalM = stats.spearmanr(sex_tf_diffB['Mdiff'], sex_tf_diffB['Fdiff'])\n",
        "# # pvalM\n",
        "# rhoF, pvalF = stats.spearmanr(sex_tf_diffB['Mdiff'], sex_tf_diffB['Fdiff'])\n",
        "# # pval\n",
        "# print([rhoM,rhoF])"
      ],
      "execution_count": null,
      "outputs": [
        {
          "output_type": "stream",
          "text": [
            "[0.7612602613181356, 0.12821030509233577]\n",
            "[0.7752524528838998, 0.06125642296879433]\n"
          ],
          "name": "stdout"
        }
      ]
    },
    {
      "cell_type": "code",
      "metadata": {
        "id": "SQXje4J4hhg-",
        "colab": {
          "base_uri": "https://localhost:8080/",
          "height": 1000
        },
        "outputId": "826013cd-451d-4615-e297-0b66e3e9993f"
      },
      "source": [
        "jeff=pd.DataFrame([sex_tf_diffA.sort_values(by='Fdiff')['TF'].values[0:50],\n",
        "sex_tf_diffA.sort_values(by='Fdiff')['TF'].values[586:636],\n",
        "sex_tf_diffA.sort_values(by='Mdiff')['TF'].values[0:50],\n",
        "sex_tf_diffA.sort_values(by='Mdiff')['TF'].values[586:636],\n",
        "sex_tf_diffB.sort_values(by='Fdiff')['TF'].values[0:50],\n",
        "sex_tf_diffB.sort_values(by='Fdiff')['TF'].values[586:636],\n",
        "sex_tf_diffB.sort_values(by='Mdiff')['TF'].values[0:50],\n",
        "sex_tf_diffB.sort_values(by='Mdiff')['TF'].values[586:636]])\n",
        "\n",
        "jeff.T"
      ],
      "execution_count": null,
      "outputs": [
        {
          "output_type": "execute_result",
          "data": {
            "text/html": [
              "<div>\n",
              "<style scoped>\n",
              "    .dataframe tbody tr th:only-of-type {\n",
              "        vertical-align: middle;\n",
              "    }\n",
              "\n",
              "    .dataframe tbody tr th {\n",
              "        vertical-align: top;\n",
              "    }\n",
              "\n",
              "    .dataframe thead th {\n",
              "        text-align: right;\n",
              "    }\n",
              "</style>\n",
              "<table border=\"1\" class=\"dataframe\">\n",
              "  <thead>\n",
              "    <tr style=\"text-align: right;\">\n",
              "      <th></th>\n",
              "      <th>0</th>\n",
              "      <th>1</th>\n",
              "      <th>2</th>\n",
              "      <th>3</th>\n",
              "      <th>4</th>\n",
              "      <th>5</th>\n",
              "      <th>6</th>\n",
              "      <th>7</th>\n",
              "    </tr>\n",
              "  </thead>\n",
              "  <tbody>\n",
              "    <tr>\n",
              "      <th>0</th>\n",
              "      <td>ARID3A</td>\n",
              "      <td>TOPORS</td>\n",
              "      <td>ARID3A</td>\n",
              "      <td>HIC2</td>\n",
              "      <td>KMT2A</td>\n",
              "      <td>POU3F1</td>\n",
              "      <td>KLF1</td>\n",
              "      <td>SOX3</td>\n",
              "    </tr>\n",
              "    <tr>\n",
              "      <th>1</th>\n",
              "      <td>E2F7</td>\n",
              "      <td>HNF4A</td>\n",
              "      <td>MYBL2</td>\n",
              "      <td>MESP1</td>\n",
              "      <td>AHR</td>\n",
              "      <td>ONECUT3</td>\n",
              "      <td>PURA</td>\n",
              "      <td>CDC5L</td>\n",
              "    </tr>\n",
              "    <tr>\n",
              "      <th>2</th>\n",
              "      <td>TERF2</td>\n",
              "      <td>TBX5</td>\n",
              "      <td>HMG20B</td>\n",
              "      <td>REST</td>\n",
              "      <td>ZBED1</td>\n",
              "      <td>POU3F3</td>\n",
              "      <td>KLF4</td>\n",
              "      <td>NKX3-1</td>\n",
              "    </tr>\n",
              "    <tr>\n",
              "      <th>3</th>\n",
              "      <td>TP63</td>\n",
              "      <td>NR2C1</td>\n",
              "      <td>TBPL2</td>\n",
              "      <td>SMAD4</td>\n",
              "      <td>ZNF282</td>\n",
              "      <td>MEF2B</td>\n",
              "      <td>SMAD1</td>\n",
              "      <td>DMRTA2</td>\n",
              "    </tr>\n",
              "    <tr>\n",
              "      <th>4</th>\n",
              "      <td>MYBL2</td>\n",
              "      <td>PPARD</td>\n",
              "      <td>POU3F3</td>\n",
              "      <td>ZNF281</td>\n",
              "      <td>TP73</td>\n",
              "      <td>POU3F2</td>\n",
              "      <td>KLF15</td>\n",
              "      <td>POU5F1B</td>\n",
              "    </tr>\n",
              "    <tr>\n",
              "      <th>5</th>\n",
              "      <td>FOXP4</td>\n",
              "      <td>RXRB</td>\n",
              "      <td>LHX1</td>\n",
              "      <td>NR1H2</td>\n",
              "      <td>NAIF1</td>\n",
              "      <td>MEF2A</td>\n",
              "      <td>KLF5</td>\n",
              "      <td>ARX</td>\n",
              "    </tr>\n",
              "    <tr>\n",
              "      <th>6</th>\n",
              "      <td>KDM2B</td>\n",
              "      <td>TWIST1</td>\n",
              "      <td>ONECUT2</td>\n",
              "      <td>HOXA1</td>\n",
              "      <td>ATOH8</td>\n",
              "      <td>BCL11A</td>\n",
              "      <td>ZFX</td>\n",
              "      <td>FOXF2</td>\n",
              "    </tr>\n",
              "    <tr>\n",
              "      <th>7</th>\n",
              "      <td>FOXP1</td>\n",
              "      <td>NR4A3</td>\n",
              "      <td>LHX3</td>\n",
              "      <td>ESR2</td>\n",
              "      <td>GMEB1</td>\n",
              "      <td>FOXD2</td>\n",
              "      <td>ZEB1</td>\n",
              "      <td>NKX1-2</td>\n",
              "    </tr>\n",
              "    <tr>\n",
              "      <th>8</th>\n",
              "      <td>FOXK1</td>\n",
              "      <td>NR2F1</td>\n",
              "      <td>DMRT2</td>\n",
              "      <td>PATZ1</td>\n",
              "      <td>HIC2</td>\n",
              "      <td>WT1</td>\n",
              "      <td>TCF3</td>\n",
              "      <td>PROP1</td>\n",
              "    </tr>\n",
              "    <tr>\n",
              "      <th>9</th>\n",
              "      <td>BPTF</td>\n",
              "      <td>MYOD1</td>\n",
              "      <td>RFX2</td>\n",
              "      <td>INSM1</td>\n",
              "      <td>THRB</td>\n",
              "      <td>LHX1</td>\n",
              "      <td>TWIST1</td>\n",
              "      <td>BARHL2</td>\n",
              "    </tr>\n",
              "    <tr>\n",
              "      <th>10</th>\n",
              "      <td>THRA</td>\n",
              "      <td>TCF3</td>\n",
              "      <td>FOXL1</td>\n",
              "      <td>ZBTB18</td>\n",
              "      <td>GMEB2</td>\n",
              "      <td>HOXC6</td>\n",
              "      <td>PLAG1</td>\n",
              "      <td>PDX1</td>\n",
              "    </tr>\n",
              "    <tr>\n",
              "      <th>11</th>\n",
              "      <td>DPRX</td>\n",
              "      <td>NKX2-3</td>\n",
              "      <td>FOXD2</td>\n",
              "      <td>NR2C1</td>\n",
              "      <td>ZBTB1</td>\n",
              "      <td>TBPL2</td>\n",
              "      <td>NEUROD1</td>\n",
              "      <td>FOXL1</td>\n",
              "    </tr>\n",
              "    <tr>\n",
              "      <th>12</th>\n",
              "      <td>ZNF35</td>\n",
              "      <td>IKZF1</td>\n",
              "      <td>POU3F2</td>\n",
              "      <td>ELK3</td>\n",
              "      <td>PLAGL1</td>\n",
              "      <td>HMG20B</td>\n",
              "      <td>ZNF281</td>\n",
              "      <td>ARID3A</td>\n",
              "    </tr>\n",
              "    <tr>\n",
              "      <th>13</th>\n",
              "      <td>ATF1</td>\n",
              "      <td>REST</td>\n",
              "      <td>POU4F1</td>\n",
              "      <td>NR5A2</td>\n",
              "      <td>EBF1</td>\n",
              "      <td>MEF2D</td>\n",
              "      <td>REST</td>\n",
              "      <td>BARX2</td>\n",
              "    </tr>\n",
              "    <tr>\n",
              "      <th>14</th>\n",
              "      <td>ATF4</td>\n",
              "      <td>ZNF75A</td>\n",
              "      <td>ATF2</td>\n",
              "      <td>NR2F1</td>\n",
              "      <td>MYBL1</td>\n",
              "      <td>STAT2</td>\n",
              "      <td>ZNF263</td>\n",
              "      <td>FOXP3</td>\n",
              "    </tr>\n",
              "    <tr>\n",
              "      <th>15</th>\n",
              "      <td>ATF7</td>\n",
              "      <td>SMAD4</td>\n",
              "      <td>GSC</td>\n",
              "      <td>NEUROD1</td>\n",
              "      <td>CEBPE</td>\n",
              "      <td>POU4F3</td>\n",
              "      <td>MYOG</td>\n",
              "      <td>HOXC6</td>\n",
              "    </tr>\n",
              "    <tr>\n",
              "      <th>16</th>\n",
              "      <td>CREB5</td>\n",
              "      <td>ASCL1</td>\n",
              "      <td>FOXA2</td>\n",
              "      <td>RBPJ</td>\n",
              "      <td>ESR2</td>\n",
              "      <td>POU4F1</td>\n",
              "      <td>ZNF148</td>\n",
              "      <td>POU4F2</td>\n",
              "    </tr>\n",
              "    <tr>\n",
              "      <th>17</th>\n",
              "      <td>OTX1</td>\n",
              "      <td>WT1</td>\n",
              "      <td>MXI1</td>\n",
              "      <td>PPARD</td>\n",
              "      <td>CEBPD</td>\n",
              "      <td>NR2E3</td>\n",
              "      <td>MAZ</td>\n",
              "      <td>GATA5</td>\n",
              "    </tr>\n",
              "    <tr>\n",
              "      <th>18</th>\n",
              "      <td>STAT3</td>\n",
              "      <td>NR2F6</td>\n",
              "      <td>POU1F1</td>\n",
              "      <td>TCF12</td>\n",
              "      <td>NR2C1</td>\n",
              "      <td>CPEB1</td>\n",
              "      <td>RREB1</td>\n",
              "      <td>ONECUT2</td>\n",
              "    </tr>\n",
              "    <tr>\n",
              "      <th>19</th>\n",
              "      <td>E2F2</td>\n",
              "      <td>MAFA</td>\n",
              "      <td>FOXF1</td>\n",
              "      <td>TWIST1</td>\n",
              "      <td>BHLHE41</td>\n",
              "      <td>NKX6-1</td>\n",
              "      <td>KLF3</td>\n",
              "      <td>POU2F1</td>\n",
              "    </tr>\n",
              "    <tr>\n",
              "      <th>20</th>\n",
              "      <td>TBX21</td>\n",
              "      <td>NR5A1</td>\n",
              "      <td>POU4F3</td>\n",
              "      <td>NR2C2</td>\n",
              "      <td>ZNF423</td>\n",
              "      <td>FOXA3</td>\n",
              "      <td>PLAGL1</td>\n",
              "      <td>HOXD10</td>\n",
              "    </tr>\n",
              "    <tr>\n",
              "      <th>21</th>\n",
              "      <td>JUND</td>\n",
              "      <td>NR2C2</td>\n",
              "      <td>OSR1</td>\n",
              "      <td>HNF4A</td>\n",
              "      <td>SP2</td>\n",
              "      <td>PITX2</td>\n",
              "      <td>KLF16</td>\n",
              "      <td>POU4F3</td>\n",
              "    </tr>\n",
              "    <tr>\n",
              "      <th>22</th>\n",
              "      <td>POU3F3</td>\n",
              "      <td>NR6A1</td>\n",
              "      <td>UNCX</td>\n",
              "      <td>TCF4</td>\n",
              "      <td>KLF13</td>\n",
              "      <td>FOXG1</td>\n",
              "      <td>NR2C1</td>\n",
              "      <td>ZFHX3</td>\n",
              "    </tr>\n",
              "    <tr>\n",
              "      <th>23</th>\n",
              "      <td>E4F1</td>\n",
              "      <td>ZSCAN4</td>\n",
              "      <td>LIN54</td>\n",
              "      <td>KLF15</td>\n",
              "      <td>CEBPG</td>\n",
              "      <td>ONECUT2</td>\n",
              "      <td>NHLH1</td>\n",
              "      <td>POU4F1</td>\n",
              "    </tr>\n",
              "    <tr>\n",
              "      <th>24</th>\n",
              "      <td>MYF6</td>\n",
              "      <td>KLF1</td>\n",
              "      <td>HOXD10</td>\n",
              "      <td>MAZ</td>\n",
              "      <td>RHOXF1</td>\n",
              "      <td>MEF2C</td>\n",
              "      <td>KLF2</td>\n",
              "      <td>POU3F2</td>\n",
              "    </tr>\n",
              "    <tr>\n",
              "      <th>25</th>\n",
              "      <td>HOXA3</td>\n",
              "      <td>RXRA</td>\n",
              "      <td>NKX6-1</td>\n",
              "      <td>NR1I3</td>\n",
              "      <td>HEYL</td>\n",
              "      <td>FOXD3</td>\n",
              "      <td>TCF4</td>\n",
              "      <td>POU1F1</td>\n",
              "    </tr>\n",
              "    <tr>\n",
              "      <th>26</th>\n",
              "      <td>JDP2</td>\n",
              "      <td>NR5A2</td>\n",
              "      <td>DMRTC2</td>\n",
              "      <td>RXRB</td>\n",
              "      <td>ARNT2</td>\n",
              "      <td>FOXF1</td>\n",
              "      <td>SP4</td>\n",
              "      <td>HOXD9</td>\n",
              "    </tr>\n",
              "    <tr>\n",
              "      <th>27</th>\n",
              "      <td>ATF2</td>\n",
              "      <td>PPARA</td>\n",
              "      <td>ISX</td>\n",
              "      <td>EPAS1</td>\n",
              "      <td>ZNF524</td>\n",
              "      <td>FOXJ2</td>\n",
              "      <td>INSM1</td>\n",
              "      <td>ZNF32</td>\n",
              "    </tr>\n",
              "    <tr>\n",
              "      <th>28</th>\n",
              "      <td>ELK4</td>\n",
              "      <td>MYOG</td>\n",
              "      <td>HOXC6</td>\n",
              "      <td>NHLH2</td>\n",
              "      <td>ZNF350</td>\n",
              "      <td>FOXA2</td>\n",
              "      <td>MZF1</td>\n",
              "      <td>MEF2A</td>\n",
              "    </tr>\n",
              "    <tr>\n",
              "      <th>29</th>\n",
              "      <td>TET1</td>\n",
              "      <td>PURA</td>\n",
              "      <td>ZNF32</td>\n",
              "      <td>MAFA</td>\n",
              "      <td>HSF1</td>\n",
              "      <td>FOXL1</td>\n",
              "      <td>TFAP4</td>\n",
              "      <td>LIN54</td>\n",
              "    </tr>\n",
              "    <tr>\n",
              "      <th>30</th>\n",
              "      <td>HMG20B</td>\n",
              "      <td>SMAD1</td>\n",
              "      <td>CPEB1</td>\n",
              "      <td>RXRG</td>\n",
              "      <td>TP63</td>\n",
              "      <td>FOXM1</td>\n",
              "      <td>KLF8</td>\n",
              "      <td>MSX2</td>\n",
              "    </tr>\n",
              "    <tr>\n",
              "      <th>31</th>\n",
              "      <td>ZNF384</td>\n",
              "      <td>PTF1A</td>\n",
              "      <td>RFX3</td>\n",
              "      <td>RXRA</td>\n",
              "      <td>ZBTB4</td>\n",
              "      <td>IRF5</td>\n",
              "      <td>MXI1</td>\n",
              "      <td>LHX3</td>\n",
              "    </tr>\n",
              "    <tr>\n",
              "      <th>32</th>\n",
              "      <td>ONECUT2</td>\n",
              "      <td>ZEB1</td>\n",
              "      <td>ZNF35</td>\n",
              "      <td>PURA</td>\n",
              "      <td>HIVEP2</td>\n",
              "      <td>PAX4</td>\n",
              "      <td>TFAP2C</td>\n",
              "      <td>POU2F2</td>\n",
              "    </tr>\n",
              "    <tr>\n",
              "      <th>33</th>\n",
              "      <td>POU3F1</td>\n",
              "      <td>SMAD5</td>\n",
              "      <td>NKX1-2</td>\n",
              "      <td>MYOG</td>\n",
              "      <td>KLF8</td>\n",
              "      <td>ZNF281</td>\n",
              "      <td>ESR2</td>\n",
              "      <td>MSX1</td>\n",
              "    </tr>\n",
              "    <tr>\n",
              "      <th>34</th>\n",
              "      <td>POU1F1</td>\n",
              "      <td>RREB1</td>\n",
              "      <td>BARX1</td>\n",
              "      <td>MZF1</td>\n",
              "      <td>NR4A3</td>\n",
              "      <td>BPTF</td>\n",
              "      <td>TFAP2A</td>\n",
              "      <td>DMRT2</td>\n",
              "    </tr>\n",
              "    <tr>\n",
              "      <th>35</th>\n",
              "      <td>PAX5</td>\n",
              "      <td>MZF1</td>\n",
              "      <td>FOXP1</td>\n",
              "      <td>HOXB1</td>\n",
              "      <td>ELF4</td>\n",
              "      <td>ZBTB7B</td>\n",
              "      <td>NHLH2</td>\n",
              "      <td>POU3F1</td>\n",
              "    </tr>\n",
              "    <tr>\n",
              "      <th>36</th>\n",
              "      <td>FLI1</td>\n",
              "      <td>ESRRB</td>\n",
              "      <td>HOXD9</td>\n",
              "      <td>RREB1</td>\n",
              "      <td>MGA</td>\n",
              "      <td>ZNF148</td>\n",
              "      <td>TFAP2B</td>\n",
              "      <td>NKX6-1</td>\n",
              "    </tr>\n",
              "    <tr>\n",
              "      <th>37</th>\n",
              "      <td>CREB3</td>\n",
              "      <td>NR2F2</td>\n",
              "      <td>GATA5</td>\n",
              "      <td>SMAD1</td>\n",
              "      <td>E2F5</td>\n",
              "      <td>ZNF263</td>\n",
              "      <td>KLF14</td>\n",
              "      <td>FOXB1</td>\n",
              "    </tr>\n",
              "    <tr>\n",
              "      <th>38</th>\n",
              "      <td>CREM</td>\n",
              "      <td>TLX1</td>\n",
              "      <td>PROP1</td>\n",
              "      <td>ZEB1</td>\n",
              "      <td>NFKB2</td>\n",
              "      <td>ZNF35</td>\n",
              "      <td>MYC</td>\n",
              "      <td>LHX1</td>\n",
              "    </tr>\n",
              "    <tr>\n",
              "      <th>39</th>\n",
              "      <td>DBP</td>\n",
              "      <td>RFX5</td>\n",
              "      <td>MSX2</td>\n",
              "      <td>KLF1</td>\n",
              "      <td>DMBX1</td>\n",
              "      <td>MAZ</td>\n",
              "      <td>NR5A1</td>\n",
              "      <td>DMRTC2</td>\n",
              "    </tr>\n",
              "    <tr>\n",
              "      <th>40</th>\n",
              "      <td>TLX2</td>\n",
              "      <td>TCF4</td>\n",
              "      <td>FOXG1</td>\n",
              "      <td>NR2F2</td>\n",
              "      <td>CENPB</td>\n",
              "      <td>FOXP4</td>\n",
              "      <td>SP8</td>\n",
              "      <td>FOXD2</td>\n",
              "    </tr>\n",
              "    <tr>\n",
              "      <th>41</th>\n",
              "      <td>DMRTC2</td>\n",
              "      <td>RBPJ</td>\n",
              "      <td>FOXB1</td>\n",
              "      <td>TCF3</td>\n",
              "      <td>TFCP2L1</td>\n",
              "      <td>FOXP1</td>\n",
              "      <td>ELK3</td>\n",
              "      <td>BARX1</td>\n",
              "    </tr>\n",
              "    <tr>\n",
              "      <th>42</th>\n",
              "      <td>BARX1</td>\n",
              "      <td>NR1I3</td>\n",
              "      <td>BCL6</td>\n",
              "      <td>WT1</td>\n",
              "      <td>ZBTB49</td>\n",
              "      <td>ARID3A</td>\n",
              "      <td>HIC2</td>\n",
              "      <td>POU3F3</td>\n",
              "    </tr>\n",
              "    <tr>\n",
              "      <th>43</th>\n",
              "      <td>EGR2</td>\n",
              "      <td>MXI1</td>\n",
              "      <td>MNX1</td>\n",
              "      <td>PTF1A</td>\n",
              "      <td>EGR3</td>\n",
              "      <td>SP1</td>\n",
              "      <td>ETS2</td>\n",
              "      <td>HMG20B</td>\n",
              "    </tr>\n",
              "    <tr>\n",
              "      <th>44</th>\n",
              "      <td>DMRT2</td>\n",
              "      <td>YY1</td>\n",
              "      <td>CREB3L2</td>\n",
              "      <td>SMAD5</td>\n",
              "      <td>MYBL2</td>\n",
              "      <td>SP3</td>\n",
              "      <td>NR4A3</td>\n",
              "      <td>TBPL2</td>\n",
              "    </tr>\n",
              "    <tr>\n",
              "      <th>45</th>\n",
              "      <td>ZBTB7A</td>\n",
              "      <td>None</td>\n",
              "      <td>FOXO6</td>\n",
              "      <td>None</td>\n",
              "      <td>ZBTB6</td>\n",
              "      <td>None</td>\n",
              "      <td>ARNT2</td>\n",
              "      <td>None</td>\n",
              "    </tr>\n",
              "    <tr>\n",
              "      <th>46</th>\n",
              "      <td>HOXC12</td>\n",
              "      <td>None</td>\n",
              "      <td>ARX</td>\n",
              "      <td>None</td>\n",
              "      <td>GRHL1</td>\n",
              "      <td>None</td>\n",
              "      <td>HNF4G</td>\n",
              "      <td>None</td>\n",
              "    </tr>\n",
              "    <tr>\n",
              "      <th>47</th>\n",
              "      <td>ELK1</td>\n",
              "      <td>None</td>\n",
              "      <td>POU4F2</td>\n",
              "      <td>None</td>\n",
              "      <td>IRF6</td>\n",
              "      <td>None</td>\n",
              "      <td>PATZ1</td>\n",
              "      <td>None</td>\n",
              "    </tr>\n",
              "    <tr>\n",
              "      <th>48</th>\n",
              "      <td>LHX2</td>\n",
              "      <td>None</td>\n",
              "      <td>JUND</td>\n",
              "      <td>None</td>\n",
              "      <td>E2F4</td>\n",
              "      <td>None</td>\n",
              "      <td>ZBTB4</td>\n",
              "      <td>None</td>\n",
              "    </tr>\n",
              "    <tr>\n",
              "      <th>49</th>\n",
              "      <td>SRF</td>\n",
              "      <td>None</td>\n",
              "      <td>FOXO1</td>\n",
              "      <td>None</td>\n",
              "      <td>BATF3</td>\n",
              "      <td>None</td>\n",
              "      <td>SP1</td>\n",
              "      <td>None</td>\n",
              "    </tr>\n",
              "  </tbody>\n",
              "</table>\n",
              "</div>"
            ],
            "text/plain": [
              "          0       1        2        3        4        5        6        7\n",
              "0    ARID3A  TOPORS   ARID3A     HIC2    KMT2A   POU3F1     KLF1     SOX3\n",
              "1      E2F7   HNF4A    MYBL2    MESP1      AHR  ONECUT3     PURA    CDC5L\n",
              "2     TERF2    TBX5   HMG20B     REST    ZBED1   POU3F3     KLF4   NKX3-1\n",
              "3      TP63   NR2C1    TBPL2    SMAD4   ZNF282    MEF2B    SMAD1   DMRTA2\n",
              "4     MYBL2   PPARD   POU3F3   ZNF281     TP73   POU3F2    KLF15  POU5F1B\n",
              "5     FOXP4    RXRB     LHX1    NR1H2    NAIF1    MEF2A     KLF5      ARX\n",
              "6     KDM2B  TWIST1  ONECUT2    HOXA1    ATOH8   BCL11A      ZFX    FOXF2\n",
              "7     FOXP1   NR4A3     LHX3     ESR2    GMEB1    FOXD2     ZEB1   NKX1-2\n",
              "8     FOXK1   NR2F1    DMRT2    PATZ1     HIC2      WT1     TCF3    PROP1\n",
              "9      BPTF   MYOD1     RFX2    INSM1     THRB     LHX1   TWIST1   BARHL2\n",
              "10     THRA    TCF3    FOXL1   ZBTB18    GMEB2    HOXC6    PLAG1     PDX1\n",
              "11     DPRX  NKX2-3    FOXD2    NR2C1    ZBTB1    TBPL2  NEUROD1    FOXL1\n",
              "12    ZNF35   IKZF1   POU3F2     ELK3   PLAGL1   HMG20B   ZNF281   ARID3A\n",
              "13     ATF1    REST   POU4F1    NR5A2     EBF1    MEF2D     REST    BARX2\n",
              "14     ATF4  ZNF75A     ATF2    NR2F1    MYBL1    STAT2   ZNF263    FOXP3\n",
              "15     ATF7   SMAD4      GSC  NEUROD1    CEBPE   POU4F3     MYOG    HOXC6\n",
              "16    CREB5   ASCL1    FOXA2     RBPJ     ESR2   POU4F1   ZNF148   POU4F2\n",
              "17     OTX1     WT1     MXI1    PPARD    CEBPD    NR2E3      MAZ    GATA5\n",
              "18    STAT3   NR2F6   POU1F1    TCF12    NR2C1    CPEB1    RREB1  ONECUT2\n",
              "19     E2F2    MAFA    FOXF1   TWIST1  BHLHE41   NKX6-1     KLF3   POU2F1\n",
              "20    TBX21   NR5A1   POU4F3    NR2C2   ZNF423    FOXA3   PLAGL1   HOXD10\n",
              "21     JUND   NR2C2     OSR1    HNF4A      SP2    PITX2    KLF16   POU4F3\n",
              "22   POU3F3   NR6A1     UNCX     TCF4    KLF13    FOXG1    NR2C1    ZFHX3\n",
              "23     E4F1  ZSCAN4    LIN54    KLF15    CEBPG  ONECUT2    NHLH1   POU4F1\n",
              "24     MYF6    KLF1   HOXD10      MAZ   RHOXF1    MEF2C     KLF2   POU3F2\n",
              "25    HOXA3    RXRA   NKX6-1    NR1I3     HEYL    FOXD3     TCF4   POU1F1\n",
              "26     JDP2   NR5A2   DMRTC2     RXRB    ARNT2    FOXF1      SP4    HOXD9\n",
              "27     ATF2   PPARA      ISX    EPAS1   ZNF524    FOXJ2    INSM1    ZNF32\n",
              "28     ELK4    MYOG    HOXC6    NHLH2   ZNF350    FOXA2     MZF1    MEF2A\n",
              "29     TET1    PURA    ZNF32     MAFA     HSF1    FOXL1    TFAP4    LIN54\n",
              "30   HMG20B   SMAD1    CPEB1     RXRG     TP63    FOXM1     KLF8     MSX2\n",
              "31   ZNF384   PTF1A     RFX3     RXRA    ZBTB4     IRF5     MXI1     LHX3\n",
              "32  ONECUT2    ZEB1    ZNF35     PURA   HIVEP2     PAX4   TFAP2C   POU2F2\n",
              "33   POU3F1   SMAD5   NKX1-2     MYOG     KLF8   ZNF281     ESR2     MSX1\n",
              "34   POU1F1   RREB1    BARX1     MZF1    NR4A3     BPTF   TFAP2A    DMRT2\n",
              "35     PAX5    MZF1    FOXP1    HOXB1     ELF4   ZBTB7B    NHLH2   POU3F1\n",
              "36     FLI1   ESRRB    HOXD9    RREB1      MGA   ZNF148   TFAP2B   NKX6-1\n",
              "37    CREB3   NR2F2    GATA5    SMAD1     E2F5   ZNF263    KLF14    FOXB1\n",
              "38     CREM    TLX1    PROP1     ZEB1    NFKB2    ZNF35      MYC     LHX1\n",
              "39      DBP    RFX5     MSX2     KLF1    DMBX1      MAZ    NR5A1   DMRTC2\n",
              "40     TLX2    TCF4    FOXG1    NR2F2    CENPB    FOXP4      SP8    FOXD2\n",
              "41   DMRTC2    RBPJ    FOXB1     TCF3  TFCP2L1    FOXP1     ELK3    BARX1\n",
              "42    BARX1   NR1I3     BCL6      WT1   ZBTB49   ARID3A     HIC2   POU3F3\n",
              "43     EGR2    MXI1     MNX1    PTF1A     EGR3      SP1     ETS2   HMG20B\n",
              "44    DMRT2     YY1  CREB3L2    SMAD5    MYBL2      SP3    NR4A3    TBPL2\n",
              "45   ZBTB7A    None    FOXO6     None    ZBTB6     None    ARNT2     None\n",
              "46   HOXC12    None      ARX     None    GRHL1     None    HNF4G     None\n",
              "47     ELK1    None   POU4F2     None     IRF6     None    PATZ1     None\n",
              "48     LHX2    None     JUND     None     E2F4     None    ZBTB4     None\n",
              "49      SRF    None    FOXO1     None    BATF3     None      SP1     None"
            ]
          },
          "metadata": {
            "tags": []
          },
          "execution_count": 131
        }
      ]
    },
    {
      "cell_type": "code",
      "metadata": {
        "id": "oNAjy8pCRoQh",
        "colab": {
          "base_uri": "https://localhost:8080/"
        },
        "outputId": "d6720aff-6282-4215-a30a-ea537e3f6f80"
      },
      "source": [
        "pp=jeff.iloc[2].tolist()\n",
        "\n",
        "print(*pp, sep='\\n')"
      ],
      "execution_count": null,
      "outputs": [
        {
          "output_type": "stream",
          "text": [
            "ARID3A\n",
            "MYBL2\n",
            "HMG20B\n",
            "TBPL2\n",
            "POU3F3\n",
            "LHX1\n",
            "ONECUT2\n",
            "LHX3\n",
            "DMRT2\n",
            "RFX2\n",
            "FOXL1\n",
            "FOXD2\n",
            "POU3F2\n",
            "POU4F1\n",
            "ATF2\n",
            "GSC\n",
            "FOXA2\n",
            "MXI1\n",
            "POU1F1\n",
            "FOXF1\n",
            "POU4F3\n",
            "OSR1\n",
            "UNCX\n",
            "LIN54\n",
            "HOXD10\n",
            "NKX6-1\n",
            "DMRTC2\n",
            "ISX\n",
            "HOXC6\n",
            "ZNF32\n",
            "CPEB1\n",
            "RFX3\n",
            "ZNF35\n",
            "NKX1-2\n",
            "BARX1\n",
            "FOXP1\n",
            "HOXD9\n",
            "GATA5\n",
            "PROP1\n",
            "MSX2\n",
            "FOXG1\n",
            "FOXB1\n",
            "BCL6\n",
            "MNX1\n",
            "CREB3L2\n",
            "FOXO6\n",
            "ARX\n",
            "POU4F2\n",
            "JUND\n",
            "FOXO1\n"
          ],
          "name": "stdout"
        }
      ]
    },
    {
      "cell_type": "code",
      "metadata": {
        "id": "Bb1nkHAEyjef"
      },
      "source": [
        "jeff=[set(sex_tf_diffA.sort_values(by='Fdiff')['TF'].values[0:50]),\n",
        "set(sex_tf_diffA.sort_values(by='Fdiff')['TF'].values[586:636]),\n",
        "set(sex_tf_diffA.sort_values(by='Mdiff')['TF'].values[0:50]),\n",
        "set(sex_tf_diffA.sort_values(by='Mdiff')['TF'].values[586:636]),\n",
        "set(sex_tf_diffB.sort_values(by='Fdiff')['TF'].values[0:50]),\n",
        "set(sex_tf_diffB.sort_values(by='Fdiff')['TF'].values[586:636]),\n",
        "set(sex_tf_diffB.sort_values(by='Mdiff')['TF'].values[0:50]),\n",
        "set(sex_tf_diffB.sort_values(by='Mdiff')['TF'].values[586:636])]"
      ],
      "execution_count": null,
      "outputs": []
    },
    {
      "cell_type": "markdown",
      "metadata": {
        "id": "TWqkz16pdchq"
      },
      "source": [
        "https://github.com/gecko984/supervenn:\n",
        "> The numbers at the bottom show the sizes (cardinalities) of all intersections, which we will call chunks. The sizes of sets and their intersections (chunks) are up to proportion, but the order of elements is not preserved\n"
      ]
    },
    {
      "cell_type": "code",
      "metadata": {
        "id": "CUtD_ORFTedr",
        "colab": {
          "base_uri": "https://localhost:8080/"
        },
        "outputId": "dc3ae3b9-9e7c-488b-d2b4-0d6ff6c257ec"
      },
      "source": [
        "!pip install supervenn\n",
        "from supervenn import supervenn"
      ],
      "execution_count": null,
      "outputs": [
        {
          "output_type": "stream",
          "text": [
            "Requirement already satisfied: supervenn in /usr/local/lib/python3.7/dist-packages (0.4.1)\n",
            "Requirement already satisfied: matplotlib>=2.2.5 in /usr/local/lib/python3.7/dist-packages (from supervenn) (3.2.2)\n",
            "Requirement already satisfied: numpy in /usr/local/lib/python3.7/dist-packages (from supervenn) (1.19.5)\n",
            "Requirement already satisfied: pyparsing!=2.0.4,!=2.1.2,!=2.1.6,>=2.0.1 in /usr/local/lib/python3.7/dist-packages (from matplotlib>=2.2.5->supervenn) (2.4.7)\n",
            "Requirement already satisfied: cycler>=0.10 in /usr/local/lib/python3.7/dist-packages (from matplotlib>=2.2.5->supervenn) (0.10.0)\n",
            "Requirement already satisfied: python-dateutil>=2.1 in /usr/local/lib/python3.7/dist-packages (from matplotlib>=2.2.5->supervenn) (2.8.1)\n",
            "Requirement already satisfied: kiwisolver>=1.0.1 in /usr/local/lib/python3.7/dist-packages (from matplotlib>=2.2.5->supervenn) (1.3.1)\n",
            "Requirement already satisfied: six in /usr/local/lib/python3.7/dist-packages (from cycler>=0.10->matplotlib>=2.2.5->supervenn) (1.15.0)\n"
          ],
          "name": "stdout"
        }
      ]
    },
    {
      "cell_type": "code",
      "metadata": {
        "colab": {
          "base_uri": "https://localhost:8080/",
          "height": 559
        },
        "id": "_Xr8Qs3vXgxM",
        "outputId": "8fc4e560-aa71-4307-98d5-d6e51e7bef46"
      },
      "source": [
        "plt.figure(figsize=(20, 10))\n",
        "species_names=['LTRC_Fdiff_up','LTRC_Fdiff_down','LTRC_Mdiff_up','LTRC_Mdiff_down',\n",
        "      'LTCOPD_Fdiff_up','LTCOPD_Fdiff_down','LTCOPD_Mdiff_up','LTCOPD_Mdiff_down']\n",
        "\n",
        "aa=supervenn(jeff, species_names, rotate_col_annotations=True)#,\n",
        "          # col_annotations_area_height=1.2, sets_ordering='minimize gaps',\n",
        "          # min_width_for_annotation=180)"
      ],
      "execution_count": null,
      "outputs": [
        {
          "output_type": "display_data",
          "data": {
            "image/png": "[encoded data removed]",
            "text/plain": [
              "<Figure size 1440x720 with 5 Axes>"
            ]
          },
          "metadata": {
            "tags": [],
            "needs_background": "light"
          }
        }
      ]
    },
    {
      "cell_type": "code",
      "metadata": {
        "colab": {
          "base_uri": "https://localhost:8080/"
        },
        "id": "Q2oiutnaxLzA",
        "outputId": "4dec2462-3298-49c9-c955-4de05d995170"
      },
      "source": [
        "#A=LTCOPD, cont-case\n",
        "pp=set(sex_tf_diffA.sort_values(by='Mdiff')['TF'].values[0:50]).difference(set(sex_tf_diffA.sort_values(by='Fdiff')['TF'].values[0:50]))\n",
        "print(*pp, sep='\\n')\n",
        "print('\\n')\n",
        "pp=set(sex_tf_diffA.sort_values(by='Mdiff')['TF'].values[586:636]).difference(set(sex_tf_diffA.sort_values(by='Fdiff')['TF'].values[586:636]))\n",
        "print(*pp, sep='\\n')"
      ],
      "execution_count": null,
      "outputs": [
        {
          "output_type": "stream",
          "text": [
            "HOXD10\n",
            "FOXF1\n",
            "RFX2\n",
            "GSC\n",
            "BCL6\n",
            "FOXL1\n",
            "POU4F3\n",
            "MNX1\n",
            "ISX\n",
            "FOXD2\n",
            "MSX2\n",
            "POU4F2\n",
            "OSR1\n",
            "FOXO1\n",
            "HOXD9\n",
            "LHX3\n",
            "FOXG1\n",
            "ARX\n",
            "ZNF32\n",
            "RFX3\n",
            "POU3F2\n",
            "POU4F1\n",
            "CREB3L2\n",
            "UNCX\n",
            "NKX6-1\n",
            "LHX1\n",
            "GATA5\n",
            "FOXO6\n",
            "CPEB1\n",
            "NKX1-2\n",
            "HOXC6\n",
            "LIN54\n",
            "FOXA2\n",
            "PROP1\n",
            "FOXB1\n",
            "TBPL2\n",
            "MXI1\n",
            "\n",
            "\n",
            "EPAS1\n",
            "NR1H2\n",
            "MAZ\n",
            "PATZ1\n",
            "RXRG\n",
            "HOXA1\n",
            "ELK3\n",
            "HOXB1\n",
            "ESR2\n",
            "ZBTB18\n",
            "NEUROD1\n",
            "INSM1\n",
            "TCF12\n",
            "KLF15\n",
            "ZNF281\n",
            "NHLH2\n",
            "HIC2\n",
            "MESP1\n"
          ],
          "name": "stdout"
        }
      ]
    },
    {
      "cell_type": "code",
      "metadata": {
        "colab": {
          "base_uri": "https://localhost:8080/"
        },
        "id": "DCemJG721J4u",
        "outputId": "630f80e6-7304-4efe-f0f1-31da76c0accf"
      },
      "source": [
        "pp=set(sex_tf_diffA.sort_values(by='Fdiff')['TF'].values[0:50]).difference(set(sex_tf_diffA.sort_values(by='Mdiff')['TF'].values[0:50]))\n",
        "print(*pp, sep='\\n')\n",
        "print('\\n')\n",
        "pp=set(sex_tf_diffA.sort_values(by='Fdiff')['TF'].values[586:636]).difference(set(sex_tf_diffA.sort_values(by='Mdiff')['TF'].values[586:636]))\n",
        "print(*pp, sep='\\n')"
      ],
      "execution_count": null,
      "outputs": [
        {
          "output_type": "stream",
          "text": [
            "FOXP4\n",
            "HOXC12\n",
            "KDM2B\n",
            "LHX2\n",
            "TLX2\n",
            "ATF4\n",
            "ELK4\n",
            "TP63\n",
            "FOXK1\n",
            "FLI1\n",
            "EGR2\n",
            "ATF7\n",
            "E2F7\n",
            "ATF1\n",
            "E4F1\n",
            "POU3F1\n",
            "TERF2\n",
            "TET1\n",
            "HOXA3\n",
            "CREB5\n",
            "ELK1\n",
            "THRA\n",
            "DPRX\n",
            "TBX21\n",
            "CREM\n",
            "ZNF384\n",
            "STAT3\n",
            "CREB3\n",
            "ZBTB7A\n",
            "OTX1\n",
            "SRF\n",
            "JDP2\n",
            "E2F2\n",
            "PAX5\n",
            "MYF6\n",
            "BPTF\n",
            "DBP\n",
            "\n",
            "\n",
            "YY1\n",
            "NR6A1\n",
            "TBX5\n",
            "RFX5\n",
            "NKX2-3\n",
            "PPARA\n",
            "IKZF1\n",
            "ZSCAN4\n",
            "ZNF75A\n",
            "NR2F6\n",
            "NR4A3\n",
            "NR5A1\n",
            "ESRRB\n",
            "ASCL1\n",
            "TLX1\n",
            "MYOD1\n",
            "MXI1\n",
            "TOPORS\n"
          ],
          "name": "stdout"
        }
      ]
    },
    {
      "cell_type": "code",
      "metadata": {
        "colab": {
          "base_uri": "https://localhost:8080/"
        },
        "id": "n48SrLP30lg4",
        "outputId": "6c11223a-2417-4a52-8cae-e8939af57f94"
      },
      "source": [
        "pp=set(sex_tf_diffB.sort_values(by='Mdiff')['TF'].values[0:50]).difference(set(sex_tf_diffB.sort_values(by='Fdiff')['TF'].values[0:50]))\n",
        "print(*pp, sep='\\n')\n",
        "print('\\n')\n",
        "pp=set(sex_tf_diffB.sort_values(by='Mdiff')['TF'].values[586:636]).difference(set(sex_tf_diffB.sort_values(by='Fdiff')['TF'].values[586:636]))\n",
        "print(*pp, sep='\\n')"
      ],
      "execution_count": null,
      "outputs": [
        {
          "output_type": "stream",
          "text": [
            "MYOG\n",
            "PATZ1\n",
            "RREB1\n",
            "PURA\n",
            "SP4\n",
            "KLF14\n",
            "NEUROD1\n",
            "ZNF263\n",
            "KLF4\n",
            "NHLH1\n",
            "KLF1\n",
            "TCF3\n",
            "TFAP2C\n",
            "KLF15\n",
            "ZFX\n",
            "REST\n",
            "TWIST1\n",
            "MYC\n",
            "MAZ\n",
            "ELK3\n",
            "KLF2\n",
            "SP1\n",
            "KLF16\n",
            "ZEB1\n",
            "TFAP2B\n",
            "NHLH2\n",
            "KLF5\n",
            "KLF3\n",
            "SP8\n",
            "ZNF281\n",
            "ZNF148\n",
            "HNF4G\n",
            "ETS2\n",
            "TCF4\n",
            "TFAP4\n",
            "MZF1\n",
            "SMAD1\n",
            "PLAG1\n",
            "TFAP2A\n",
            "INSM1\n",
            "NR5A1\n",
            "MXI1\n",
            "\n",
            "\n",
            "HOXD10\n",
            "CDC5L\n",
            "NKX3-1\n",
            "DMRTC2\n",
            "DMRT2\n",
            "PDX1\n",
            "MSX2\n",
            "FOXF2\n",
            "BARX1\n",
            "POU4F2\n",
            "SOX3\n",
            "HOXD9\n",
            "POU1F1\n",
            "BARHL2\n",
            "LHX3\n",
            "POU2F2\n",
            "ARX\n",
            "ZNF32\n",
            "POU2F1\n",
            "FOXP3\n",
            "GATA5\n",
            "ZFHX3\n",
            "DMRTA2\n",
            "MSX1\n",
            "NKX1-2\n",
            "LIN54\n",
            "POU5F1B\n",
            "PROP1\n",
            "FOXB1\n",
            "BARX2\n"
          ],
          "name": "stdout"
        }
      ]
    },
    {
      "cell_type": "code",
      "metadata": {
        "colab": {
          "base_uri": "https://localhost:8080/"
        },
        "id": "N72NQAtP3Jd8",
        "outputId": "28e27e5e-d7e1-4446-c5b4-85f5c910f327"
      },
      "source": [
        "pp=set(sex_tf_diffB.sort_values(by='Fdiff')['TF'].values[0:50]).difference(set(sex_tf_diffB.sort_values(by='Mdiff')['TF'].values[0:50]))\n",
        "print(*pp, sep='\\n')\n",
        "print('\\n')\n",
        "pp=set(sex_tf_diffB.sort_values(by='Fdiff')['TF'].values[586:636]).difference(set(sex_tf_diffB.sort_values(by='Mdiff')['TF'].values[586:636]))\n",
        "print(*pp, sep='\\n')"
      ],
      "execution_count": null,
      "outputs": [
        {
          "output_type": "stream",
          "text": [
            "ELF4\n",
            "MYBL1\n",
            "MGA\n",
            "GMEB2\n",
            "MYBL2\n",
            "EBF1\n",
            "TP73\n",
            "ZNF423\n",
            "CEBPD\n",
            "TP63\n",
            "NAIF1\n",
            "HSF1\n",
            "DMBX1\n",
            "NFKB2\n",
            "GRHL1\n",
            "THRB\n",
            "ZNF350\n",
            "KLF13\n",
            "E2F5\n",
            "ZBTB49\n",
            "CEBPG\n",
            "ZNF282\n",
            "E2F4\n",
            "ATOH8\n",
            "KMT2A\n",
            "CENPB\n",
            "SP2\n",
            "GMEB1\n",
            "RHOXF1\n",
            "ZBTB1\n",
            "HEYL\n",
            "CEBPE\n",
            "AHR\n",
            "ZNF524\n",
            "IRF6\n",
            "ZBTB6\n",
            "EGR3\n",
            "BHLHE41\n",
            "TFCP2L1\n",
            "HIVEP2\n",
            "ZBED1\n",
            "BATF3\n",
            "\n",
            "\n",
            "FOXP4\n",
            "FOXF1\n",
            "ZNF263\n",
            "PITX2\n",
            "MAZ\n",
            "FOXJ2\n",
            "SP1\n",
            "FOXD3\n",
            "FOXM1\n",
            "MEF2C\n",
            "FOXA3\n",
            "STAT2\n",
            "ZBTB7B\n",
            "FOXG1\n",
            "NR2E3\n",
            "BCL11A\n",
            "IRF5\n",
            "MEF2B\n",
            "ZNF281\n",
            "ZNF148\n",
            "WT1\n",
            "SP3\n",
            "ONECUT3\n",
            "CPEB1\n",
            "PAX4\n",
            "MEF2D\n",
            "BPTF\n",
            "FOXA2\n",
            "FOXP1\n",
            "ZNF35\n"
          ],
          "name": "stdout"
        }
      ]
    },
    {
      "cell_type": "code",
      "metadata": {
        "id": "BX-fd7LAWKqu"
      },
      "source": [
        "plt.figure(figsize=(8, 8))\n",
        " \n",
        "p1=plt.scatter(bb['Mdiff_x'],bb['Mdiff_y'],alpha=.5)\n",
        "p2=plt.scatter(bb['Fdiff_x'],bb['Fdiff_y'],alpha=.25)\n",
        "plt.ylabel('LTRC control-case gene targeting diff')\n",
        "plt.xlabel('LTCOPD control-case gene targeting diff')\n",
        "plt.legend((p1, p2),('Male','Female'))"
      ],
      "execution_count": null,
      "outputs": []
    },
    {
      "cell_type": "code",
      "metadata": {
        "id": "XBDa5yjhfTGx"
      },
      "source": [
        "rhoM, pvalM = np.corrcoef(bb['Mdiff_x'], bb['Mdiff_y'])\n",
        "# pvalM\n",
        "rhoF, pvalF = np.corrcoef(bb['Fdiff_x'], bb['Fdiff_y'])\n",
        "# pvalF\n",
        "print([rhoM[1],rhoF[1]])\n",
        "\n",
        "rhoM, pvalM = stats.spearmanr(bb['Mdiff_x'], bb['Mdiff_y'])\n",
        "# pvalM\n",
        "rhoF, pvalF = stats.spearmanr(bb['Fdiff_x'], bb['Fdiff_y'])\n",
        "# pvalF\n",
        "print([rhoM,rhoF])"
      ],
      "execution_count": null,
      "outputs": []
    },
    {
      "cell_type": "code",
      "metadata": {
        "id": "y3LI9WQkiSZB"
      },
      "source": [
        "jeff=pd.DataFrame([sex_gene_diffA.sort_values(by='Fdiff')['gene'].values[0:100],\n",
        "sex_gene_diffA.sort_values(by='Fdiff')['gene'].values[(len(sex_gene_diffA.Fdiff)-100):len(sex_gene_diffA.Fdiff)],\n",
        "sex_gene_diffA.sort_values(by='Mdiff')['gene'].values[0:100],\n",
        "sex_gene_diffA.sort_values(by='Mdiff')['gene'].values[(len(sex_gene_diffA.Mdiff)-100):len(sex_gene_diffA.Mdiff)],\n",
        "sex_gene_diffB.sort_values(by='Fdiff')['gene'].values[0:100],\n",
        "sex_gene_diffB.sort_values(by='Fdiff')['gene'].values[(len(sex_gene_diffB.Fdiff)-100):len(sex_gene_diffB.Fdiff)],\n",
        "sex_gene_diffB.sort_values(by='Mdiff')['gene'].values[0:100],\n",
        "sex_gene_diffB.sort_values(by='Mdiff')['gene'].values[(len(sex_gene_diffB.Mdiff)-100):len(sex_gene_diffB.Mdiff)]])\n",
        "\n",
        "# jeff=jeff.T\n"
      ],
      "execution_count": null,
      "outputs": []
    },
    {
      "cell_type": "code",
      "metadata": {
        "id": "FlQwWRjGjRyH"
      },
      "source": [
        "\n",
        "pp=jeff[1].tolist()\n",
        "\n",
        "print(*pp, sep='\\n')"
      ],
      "execution_count": null,
      "outputs": []
    },
    {
      "cell_type": "code",
      "metadata": {
        "id": "kA_QyAPTd0HN"
      },
      "source": [
        "jeff2=[set(sex_gene_diffA.sort_values(by='Fdiff')['gene'].values[0:100]),\n",
        "set(sex_gene_diffA.sort_values(by='Fdiff')['gene'].values[(len(sex_gene_diffA.Fdiff)-100):len(sex_gene_diffA.Fdiff)]),\n",
        "set(sex_gene_diffA.sort_values(by='Mdiff')['gene'].values[0:100]),\n",
        "set(sex_gene_diffA.sort_values(by='Mdiff')['gene'].values[(len(sex_gene_diffA.Mdiff)-100):len(sex_gene_diffA.Mdiff)]),\n",
        "set(sex_gene_diffB.sort_values(by='Fdiff')['gene'].values[0:100]),\n",
        "set(sex_gene_diffB.sort_values(by='Fdiff')['gene'].values[(len(sex_gene_diffB.Fdiff)-100):len(sex_gene_diffB.Fdiff)]),\n",
        "set(sex_gene_diffB.sort_values(by='Mdiff')['gene'].values[0:100]),\n",
        "set(sex_gene_diffB.sort_values(by='Mdiff')['gene'].values[(len(sex_gene_diffB.Mdiff)-100):len(sex_gene_diffB.Mdiff)])]"
      ],
      "execution_count": null,
      "outputs": []
    },
    {
      "cell_type": "code",
      "metadata": {
        "id": "h08HzXajeJtU"
      },
      "source": [
        "plt.figure(figsize=(20, 10))\n",
        "species_names=['large_Fdiff_up','large_Fdiff_down','large_Mdiff_up','large_Mdiff_down',\n",
        "      'Fdiff_up','Fdiff_down','Mdiff_up','Mdiff_down']\n",
        "\n",
        "supervenn(jeff2, species_names, rotate_col_annotations=True)#,\n",
        "          # col_annotations_area_height=1.2, sets_ordering='minimize gaps',\n",
        "          # min_width_for_annotation=180)"
      ],
      "execution_count": null,
      "outputs": []
    },
    {
      "cell_type": "markdown",
      "metadata": {
        "id": "z6adI-dq2nLT"
      },
      "source": [
        "##MALE V FEMALE CASE"
      ]
    },
    {
      "cell_type": "code",
      "metadata": {
        "id": "3c1UpZUA2r6I"
      },
      "source": [
        "MC=pd.read_csv('drive/My Drive/LARGE_sex_panda/MC_LTRC.txt',names=['TF','gene','motif','force'],sep=' ')\n",
        "FC=pd.read_csv('drive/My Drive/LARGE_sex_panda/FC_LTRC.txt',names=['TF','gene','motif','force'],sep='\\t')\n"
      ],
      "execution_count": null,
      "outputs": []
    },
    {
      "cell_type": "code",
      "metadata": {
        "id": "naPwoh9u2r8y"
      },
      "source": [
        "TFsum_3=MC.groupby(['TF']).agg({'force':sum})\n",
        "TFsum_1=FC.groupby(['TF']).agg({'force':sum})\n",
        "TFsum_1['force']=zscore(TFsum_1['force'])\n",
        "TFsum_3['force']=zscore(TFsum_3['force']) ##reduces range from 1500 to 3\n",
        "\n",
        "geneSum_3=MC.groupby(['gene']).agg({'force':sum})\n",
        "geneSum_1=FC.groupby(['gene']).agg({'force':sum})\n",
        "geneSum_3['force']=zscore(geneSum_3['force'])\n",
        "geneSum_1['force']=zscore(geneSum_1['force'])\n",
        "\n",
        "mmm=TFsum_3.merge(TFsum_1, left_on=['TF'], right_on=['TF'])\n",
        "mmmm=geneSum_3.merge(geneSum_1, left_on=['gene'], right_on=['gene'])\n",
        "\n",
        "# del [[MC, MNC]]\n",
        "# gc.collect()\n",
        "MC=pd.DataFrame()\n",
        "MNC=pd.DataFrame()\n",
        "Panda_FcontFULL=pd.DataFrame()\n",
        "Panda_FcontFULL=pd.DataFrame()\n",
        "\n",
        "\n",
        "mmm['diff']=mmm.force_x-mmm.force_y\n",
        "mmm = mmm.sort_values(by ='diff' )\n",
        "\n",
        "\n",
        "mmmm['diff']=mmmm.force_x-mmmm.force_y\n",
        "mmmm = mmmm.sort_values(by ='diff' )\n",
        "mmm.to_csv('drive/My Drive/LARGE_sex_panda/TF_zscore_Case.txt',sep='\\t')\n",
        "mmmm.to_csv('drive/My Drive/LARGE_sex_panda/gene_zscore_Case.txt',sep='\\t',index=0)"
      ],
      "execution_count": null,
      "outputs": []
    },
    {
      "cell_type": "markdown",
      "metadata": {
        "id": "IXHNorl32sG4"
      },
      "source": [
        "##MALE V FEMALE CONTROL\n"
      ]
    },
    {
      "cell_type": "code",
      "metadata": {
        "id": "-oQfUjiA2uK_"
      },
      "source": [
        "MNC=pd.read_csv('data/LTRC/sex/MNC_LTRC.txt',names=['TF','gene','motif','force'],sep=' ')\n",
        "FNC=pd.read_csv('data/LTRC/sex/FNC_LTRC.txt',names=['TF','gene','motif','force'],sep=' ')"
      ],
      "execution_count": null,
      "outputs": []
    },
    {
      "cell_type": "code",
      "metadata": {
        "id": "PgMYW-dG2uNz"
      },
      "source": [
        "TFsum_4=MNC.groupby(['TF']).agg({'force':sum})\n",
        "TFsum_2=FNC.groupby(['TF']).agg({'force':sum})\n",
        "TFsum_2['force']=zscore(TFsum_2['force'])\n",
        "TFsum_4['force']=zscore(TFsum_4['force']) ##reduces range from 2500 to 4\n",
        "\n",
        "geneSum_4=FNC.groupby(['gene']).agg({'force':sum})\n",
        "geneSum_2=MNC.groupby(['gene']).agg({'force':sum})\n",
        "geneSum_4['force']=zscore(geneSum_4['force'])\n",
        "geneSum_2['force']=zscore(geneSum_2['force'])\n",
        "\n",
        "mmm=TFsum_4.merge(TFsum_2, left_on=['TF'], right_on=['TF'])\n",
        "mmmm=geneSum_4.merge(geneSum_2, left_on=['gene'], right_on=['gene'])\n",
        "\n",
        "# del [[FC, FNC]]\n",
        "# gc.collect()\n",
        "FC=pd.DataFrame()\n",
        "FNC=pd.DataFrame()\n",
        "Panda_FcontFULL=pd.DataFrame()\n",
        "Panda_FcontFULL=pd.DataFrame()\n",
        "\n",
        "\n",
        "mmm['diff']=mmm.force_x-mmm.force_y\n",
        "mmm = mmm.sort_values(by ='diff' )\n",
        "\n",
        "\n",
        "mmmm['diff']=mmmm.force_x-mmmm.force_y\n",
        "mmmm = mmmm.sort_values(by ='diff' )\n",
        "mmm.to_csv('drive/My Drive/LARGE_sex_panda/TF_zscore_Control.txt',sep='\\t')\n",
        "mmmm.to_csv('drive/My Drive/LARGE_sex_panda/gene_zscore_Control.txt',sep='\\t',index=0)"
      ],
      "execution_count": null,
      "outputs": []
    },
    {
      "cell_type": "code",
      "metadata": {
        "id": "TND_Ihrg20_e"
      },
      "source": [
        "ff=pd.read_csv('data/LTRC/sex/TF_zscore_Case.txt',sep='\\t',header=0)\n",
        "fff=pd.read_csv('data/LTRC/sex/gene_zscore_Case.txt',sep='\\t',header=0)\n",
        "mm=pd.read_csv('data/LTRC/sex/TF_zscore_Control.txt',sep='\\t',header=0)\n",
        "mmm=pd.read_csv('data/LTRC/sex/gene_zscore_Control.txt',sep='\\t',header=0)\n",
        "sex_tf_diff=ff.merge(mm,on='TF')\n",
        "\n",
        "a=plt.hist(sex_tf_diff['diff_x'],bins=100,label='Case')\n",
        "b=plt.hist(sex_tf_diff['diff_y'],bins=100,label='Control')\n",
        "plt.title('LTRC Sex-specific Male-Female TF degree diff')\n",
        "plt.legend(loc=\"best\")\n"
      ],
      "execution_count": null,
      "outputs": []
    },
    {
      "cell_type": "code",
      "metadata": {
        "id": "aS_zESgI21Bl"
      },
      "source": [
        ""
      ],
      "execution_count": null,
      "outputs": []
    },
    {
      "cell_type": "markdown",
      "metadata": {
        "id": "O2i3O_AeS-ht"
      },
      "source": [
        "#negative control\n",
        "create 4 randomly chosen subsets to test difference of differences between panda nets\n",
        "\n",
        "use other colab for more memory:\n",
        "https://colab.research.google.com/drive/1ebLeRX6Gwywgs1Yn_gcL8TYufgkfbchX#scrollTo=wS_rwFkacl74\n",
        "\n",
        "\n",
        "\n",
        "\n"
      ]
    },
    {
      "cell_type": "code",
      "metadata": {
        "id": "voahkf1Mxs26"
      },
      "source": [
        "# !pip install GEOparse\n",
        "# import GEOparse\n",
        "# gse = GEOparse.get_GEO(geo=\"GSE76925\", destdir=\"./\")\n",
        "# illumina_labels=pd.read_csv('drive/My Drive/Colab Notebooks dcm/GPL10558_illumina_prb_loc.txt',sep='\\t',index_col=0,header=None,names=['loc','symbol'])\n",
        "\n",
        "# gpl = gse.gpls[next(iter(gse.gpls))]\n",
        "# data = gse.pivot_samples(values=\"VALUE\")#, gpl=gpl, annotation_column=\"Symbol\")\n",
        "# data.sort_index\n",
        "\n",
        "LCL_ppi=pd.read_csv('https://granddb.s3.amazonaws.com/optPANDA/ppi/ppi_complete.txt',sep='\\t',header=None)\n",
        "LCL_ppi.to_csv('drive/My Drive/ppi_complete.txt',sep='\\t',index=False,header=False)\n",
        "\n",
        "coding_LCL_motif=pd.read_csv('https://granddb.s3.amazonaws.com/optPANDA/motifs/Hugo_motifCellLine.txt',sep='\\t',header=None)\n",
        "coding_LCL_motif.to_csv('drive/My Drive/coding_LCL_motif.txt',sep='\\t',index=False,header=False)\n",
        "\n",
        "motif_data='drive/My Drive/Colab Notebooks/coding_LCL_motif.txt'\n",
        "ppi_data='drive/My Drive/Colab Notebooks/ppi_complete.txt'\n",
        "\n",
        "# plt.hist(nullA.values.flatten(),alpha=.5,log=True)\n",
        "# plt.hist(nullB.values.flatten(),alpha=.5,log=True)\n",
        "# plt.hist(nullC.values.flatten(),alpha=.5,log=True)\n",
        "# plt.hist(nullD.values.flatten(),alpha=.5,log=True)\n",
        "# plt.xlabel('test')\n"
      ],
      "execution_count": null,
      "outputs": []
    },
    {
      "cell_type": "code",
      "metadata": {
        "id": "id-MeAb2xupv"
      },
      "source": [
        "null=data.merge(illumina_labels,left_index=True,right_index=True)\n",
        "null.index=null['symbol']\n",
        "del null['loc'], null['symbol']"
      ],
      "execution_count": null,
      "outputs": []
    },
    {
      "cell_type": "code",
      "metadata": {
        "id": "XE4_CjD6xw33"
      },
      "source": [
        "def negCont(nullA,nullB,i):\n",
        "  panda_nullA = Panda(nullA, motif_data, ppi_data,computing='gpu',precision='single',save_tmp=False,save_memory = True, remove_missing=False, keep_expression_matrix = False,modeProcess = 'intersection')\n",
        "  # np.save('drive/My Drive/Panda_nullA.npy',panda_nullA.export_panda_results)\n",
        "  panda_nullB = Panda(nullB, motif_data, ppi_data,computing='gpu',precision='single',save_tmp=False,save_memory = True, remove_missing=False, keep_expression_matrix = False,modeProcess = 'intersection')\n",
        "  # np.save('drive/My Drive/Panda_nullB.npy',panda_nullB.export_panda_results)\n",
        "\n",
        "  subset_panda_results3 = panda_nullA.export_panda_results.sort_values(by=['force'], ascending=False)\n",
        "  subset_panda_results1 = panda_nullB.export_panda_results.sort_values(by=['force'], ascending=False)\n",
        "  del subset_panda_results3['motif'],subset_panda_results1['motif']\n",
        "  del panda_nullA, panda_nullB\n",
        "\n",
        "  ##aggregate TF link sum and zscore\n",
        "  TFsum_3=subset_panda_results3.groupby(['tf']).agg({'force':sum})\n",
        "  TFsum_1=subset_panda_results1.groupby(['tf']).agg({'force':sum})\n",
        "  TFsum_1['force']=zscore(TFsum_1['force'])\n",
        "  TFsum_3['force']=zscore(TFsum_3['force'])\n",
        "\n",
        "  ##aggregate gene link sum and zscore\n",
        "  geneSum_3=subset_panda_results3.groupby(['gene']).agg({'force':sum})\n",
        "  geneSum_1=subset_panda_results1.groupby(['gene']).agg({'force':sum})\n",
        "  geneSum_3['force']=zscore(geneSum_3['force'])\n",
        "  geneSum_1['force']=zscore(geneSum_1['force'])\n",
        "\n",
        "  ##merge\n",
        "  nnn=TFsum_3.merge(TFsum_1, left_on=['tf'], right_on=['tf'])\n",
        "  nnnn=geneSum_3.merge(geneSum_1, left_on=['gene'], right_on=['gene'])\n",
        "\n",
        "  del [[subset_panda_results3, subset_panda_results1]]\n",
        "  gc.collect()\n",
        "  subset_panda_results3=pd.DataFrame()\n",
        "  subset_panda_results1=pd.DataFrame()\n",
        "\n",
        "  ##diff\n",
        "  nnn['diff']=nnn.force_x-nnn.force_y\n",
        "  # nnn = nnn.sort_values(by ='diff' )\n",
        "  del nnn['force_x'], nnn['force_y']\n",
        "  nnn=nnn.sort_index(axis=0)\n",
        "  nnn=nnn.T\n",
        "  nnnn['diff']=nnnn.force_x-nnnn.force_y\n",
        "  # nnnn = nnnn.sort_values(by ='diff' )\n",
        "  del nnnn['force_x'], nnnn['force_y']\n",
        "  nnnn=nnnn.sort_index(axis=0)\n",
        "  nnnn=nnnn.T\n",
        "  if i==1:\n",
        "    nnn.to_csv('drive/My Drive/Colab Notebooks/model_output/TF_zscore_rand_CLE.txt',sep='\\t',header=True,index=None)\n",
        "    nnnn.to_csv('drive/My Drive/Colab Notebooks/model_output/gene_zscore_rand_CLE.txt',sep='\\t',header=True,index=None)\n",
        "  elif i!=1:\n",
        "    nnn.to_csv('drive/My Drive/Colab Notebooks/model_output/TF_zscore_rand_CLE.txt',sep='\\t',header=None,index=None,mode='a')\n",
        "    nnnn.to_csv('drive/My Drive/Colab Notebooks/model_output/gene_zscore_rand_CLE.txt',sep='\\t',header=None,index=None,mode='a')\n",
        "  \n",
        "  del nnn, nnnn\n",
        "  gc.collect()\n",
        "\n"
      ],
      "execution_count": null,
      "outputs": []
    },
    {
      "cell_type": "code",
      "metadata": {
        "id": "nJzX1xvI3FrZ"
      },
      "source": [
        "for i in range(1,10):\n",
        "  ## four random group exact same size as LTCOPD cases and controls\n",
        "  null=data.merge(illumina_labels,left_index=True,right_index=True)\n",
        "  null.index=null['symbol']\n",
        "  del null['loc'], null['symbol']\n",
        "  j=np.random.choice(151, size=(67, ),replace=False) ##67 total males\n",
        "  nullA=null.iloc[:,j.tolist()] ##reduce to random 68\n",
        "  null2=null.drop(nullA.columns,axis=1) ## create second group without these 68\n",
        "\n",
        "  k=np.random.choice(j,15,replace=False) ##15 male controls\n",
        "  nullB=null.iloc[:,k.tolist()] ##take 15 of 68 for male control random\n",
        "  nullA=nullA.drop(nullB.columns,axis=1) ## remove these 15 from male cases\n",
        "\n",
        "  l=np.random.choice(null2.shape[1], size=(84, ),replace=False) ##84 total females\n",
        "  nullC=null2.iloc[:,l.tolist()] ##subset leftover from first null to 85\n",
        "  m=np.random.choice(l[l<85],25,replace=False) ##25 controls\n",
        "  nullD=nullC.iloc[:,m.tolist()] ##take 25 for female random control\n",
        "  nullC=nullC.drop(nullD.columns,axis=1)\n",
        "\n",
        "  negCont(nullA,nullB,i)\n",
        "  negCont(nullC,nullD,i+1)\n",
        "\n",
        "  print('saved iteration='+str(i))"
      ],
      "execution_count": null,
      "outputs": []
    },
    {
      "cell_type": "code",
      "metadata": {
        "id": "4BcUH_ZJF1sB"
      },
      "source": [
        "TF_diffNull=pd.read_csv('drive/My Drive/Colab Notebooks/model_output/TF_zscore_rand_CLE.txt',sep='\\t')\n",
        "gene_diffNull=pd.read_csv('drive/My Drive/Colab Notebooks/model_output/gene_zscore_rand_CLE.txt',sep='\\t')\n",
        "TF_diffNull=TF_diffNull.T\n",
        "gene_diffNull=gene_diffNull.T"
      ],
      "execution_count": null,
      "outputs": []
    },
    {
      "cell_type": "code",
      "metadata": {
        "id": "0nmbS0NsHL6r"
      },
      "source": [
        "for i, col in enumerate(TF_diffNull.columns):\n",
        "    # plt.figure(i)\n",
        "    tmp=sns.kdeplot(TF_diffNull[col])"
      ],
      "execution_count": null,
      "outputs": []
    },
    {
      "cell_type": "code",
      "metadata": {
        "id": "1Q31dYw5QqbE"
      },
      "source": [
        "for i, col in enumerate(gene_diffNull.columns):\n",
        "    # plt.figure(i)\n",
        "    tmp=sns.kdeplot(gene_diffNull[col])"
      ],
      "execution_count": null,
      "outputs": []
    },
    {
      "cell_type": "markdown",
      "metadata": {
        "id": "oW_96Huk4uxJ"
      },
      "source": [
        "# LTRC negCont"
      ]
    },
    {
      "cell_type": "code",
      "metadata": {
        "id": "liaGW2Oi4uAd"
      },
      "source": [
        "LTRC_exp=pd.read_csv('drive/My Drive/harvard/LARGE_COPD/age_sex_LTRC_XXX.txt',sep='\\t',index_col=0)\n",
        "LTRC_exp_key=pd.read_csv('drive/My Drive/harvard/LARGE_COPD/age_sex_LTRC_XXXkey.txt',sep='\\t')\n",
        "data=np.divide(LTRC_exp,LTRC_exp_key)\n",
        "data=data.groupby(data.index).mean()\n",
        "\n",
        "motif_data='drive/My Drive/coding_LCL_motif.txt'\n",
        "ppi_data='drive/My Drive/ppi_complete.txt'\n",
        "\n",
        "LTCOPD_genes=pd.read_csv('drive/My Drive/Colab Notebooks/LTCOPD_genes.txt',index_col=None,header=None,sep='\\t')\n",
        "data1=np.log2(data.dropna(how='all'))\n",
        "data1=data1.merge(LTCOPD_genes,left_index=True,right_on=0)\n",
        "data1.index=data1[0]\n",
        "data1.replace([np.inf, -np.inf], np.nan,inplace=True)\n",
        "data1.replace(np.nan, 0,inplace=True)\n",
        "del data1[0]"
      ],
      "execution_count": null,
      "outputs": []
    },
    {
      "cell_type": "code",
      "metadata": {
        "id": "Q1cVpQUL9t4m"
      },
      "source": [
        "FC=data1.iloc[:,data1.columns.str.contains('_0_1')]\n",
        "FNC=data1.iloc[:,data1.columns.str.contains('_0_0')]\n",
        "MC=data1.iloc[:,data1.columns.str.contains('_1_1')]\n",
        "MNC=data1.iloc[:,data1.columns.str.contains('_1_0')]"
      ],
      "execution_count": null,
      "outputs": []
    },
    {
      "cell_type": "code",
      "metadata": {
        "id": "Uogxf4Fv-SKg"
      },
      "source": [
        "def negCont(nullA,nullB,i,timestr,motif_data,ppi_data):\n",
        "  panda_nullA = Panda(nullA, motif_data, ppi_data,computing='gpu',precision='single',save_tmp=False,save_memory = True, remove_missing=True, keep_expression_matrix = False,modeProcess = 'intersection')\n",
        "  # np.save('drive/My Drive/Panda_nullA.npy',panda_nullA.export_panda_results)\n",
        "  gc.collect()\n",
        "  panda_nullB = Panda(nullB, motif_data, ppi_data,computing='gpu',precision='single',save_tmp=False,save_memory = True, remove_missing=True, keep_expression_matrix = False,modeProcess = 'intersection')\n",
        "  # np.save('drive/My Drive/Panda_nullB.npy',panda_nullB.export_panda_results)\n",
        "  uniq_tfs=np.intersect1d(panda_nullA.ppi_tfs,panda_nullA.motif_tfs)\n",
        "  uniq_genes=np.intersect1d(panda_nullA.motif_genes,panda_nullA.expression_genes)\n",
        "  tfs = np.tile(uniq_tfs, (len(uniq_genes), 1)).flatten()\n",
        "  genes = np.repeat(uniq_genes,panda_nullA.num_tfs)\n",
        "  forceA = panda_nullA.motif_matrix.flatten(order='F')\n",
        "  forceB = panda_nullB.motif_matrix.flatten(order='F')\n",
        "  export_panda_results = pd.DataFrame({'tf':tfs, 'gene': genes,'forceA': forceA,'forceB': forceB})#.sort_values(by=['force'], ascending=False)\n",
        "\n",
        "  # subset_panda_resultsA = panda_nullA.export_panda_results.sort_values(by=['force'], ascending=False)\n",
        "  # subset_panda_resultsB = panda_nullB.export_panda_results.sort_values(by=['force'], ascending=False)\n",
        "  # del subset_panda_resultsA['motif'],subset_panda_resultsB['motif']\n",
        "  del panda_nullA, panda_nullB, forceA, forceB\n",
        "\n",
        "  ##aggregate TF link sum and zscore\n",
        "  TFsum_A=export_panda_results.groupby(['tf']).agg({'forceA':sum})\n",
        "  TFsum_B=export_panda_results.groupby(['tf']).agg({'forceB':sum})\n",
        "  TFsum_B['force']=zscore(TFsum_B['forceB'])\n",
        "  TFsum_A['force']=zscore(TFsum_A['forceA'])\n",
        "\n",
        "  ##aggregate gene link sum and zscore\n",
        "  geneSum_A=export_panda_results.groupby(['gene']).agg({'forceA':sum})\n",
        "  geneSum_B=export_panda_results.groupby(['gene']).agg({'forceB':sum})\n",
        "  geneSum_A['force']=zscore(geneSum_A['forceA'])\n",
        "  geneSum_B['force']=zscore(geneSum_B['forceB'])\n",
        "\n",
        "  ##merge\n",
        "  sumTFdiff=TFsum_A.merge(TFsum_B, left_on=['tf'], right_on=['tf'])\n",
        "  sumGenediff=geneSum_A.merge(geneSum_B, left_on=['gene'], right_on=['gene'])\n",
        "\n",
        "  del export_panda_results, tfs, genes,forceA,forceB #[[subset_panda_resultsA, subset_panda_resultsB]]\n",
        "  gc.collect()\n",
        "  export_panda_results=pd.DataFrame()\n",
        "  # subset_panda_resultsA=pd.DataFrame()\n",
        "  # subset_panda_resultsB=pd.DataFrame()\n",
        "\n",
        "  ##diff\n",
        "  sumTFdiff['diff']=sumTFdiff.force_x-sumTFdiff.force_y\n",
        "  # sumTFdiff = sumTFdiff.sort_values(by ='diff' )\n",
        "  del sumTFdiff['force_x'], sumTFdiff['force_y']\n",
        "  sumTFdiff=sumTFdiff.sort_index(axis=0)\n",
        "  sumTFdiff=sumTFdiff.T\n",
        "  sumGenediff['diff']=sumGenediff.force_x-sumGenediff.force_y\n",
        "  # sumGenediff = sumGenediff.sort_values(by ='diff' )\n",
        "  del sumGenediff['force_x'], sumGenediff['force_y']\n",
        "  sumGenediff=sumGenediff.sort_index(axis=0)\n",
        "  sumGenediff=sumGenediff.T\n",
        "  if i==1:\n",
        "    sumTFdiff.to_csv('drive/My Drive/Colab Notebooks/model_output/null/TF_zscore_rand_'+timestr+'.txt',sep='\\t',header=True,index=None)\n",
        "    sumGenediff.to_csv('drive/My Drive/Colab Notebooks/model_output/null/gene_zscore_rand_'+timestr+'.txt',sep='\\t',header=True,index=None)\n",
        "  elif i!=1:\n",
        "    sumTFdiff.to_csv('drive/My Drive/Colab Notebooks/model_output/null/TF_zscore_rand_'+timestr+'.txt',sep='\\t',header=None,index=None,mode='a')\n",
        "    sumGenediff.to_csv('drive/My Drive/Colab Notebooks/model_output/null/gene_zscore_rand_'+timestr+'.txt',sep='\\t',header=None,index=None,mode='a')\n",
        "  del sumTFdiff, sumGenediff\n",
        "  gc.collect()"
      ],
      "execution_count": null,
      "outputs": []
    },
    {
      "cell_type": "code",
      "metadata": {
        "id": "eYBdSOZO3GPN"
      },
      "source": [
        "inits=100\n",
        "for i in range(1,inits):\n",
        "    ## form two random groups of exact size as initial cases and controls\n",
        "    # data=pd.read_csv(expression_file,sep='\\t',index_col=0)\n",
        "    j=np.random.choice(data1.shape[1], size=(MC.shape[1]+MNC.shape[1], ),replace=False) ## total males\n",
        "    nullA=data1.iloc[:,j.tolist()] ##reduce to random set\n",
        "    # null2=data.drop(nullA.columns,axis=1) ## create second group without these\n",
        "\n",
        "    k=np.random.choice(j,MNC.shape[1],replace=False) ## male controls\n",
        "    nullB=data1.iloc[:,k.tolist()] ##remove controls from male pop\n",
        "    nullA=nullA.drop(nullB.columns,axis=1) ## remove these from male cases\n",
        "\n",
        "    # l=np.random.choice(null2.shape[1], size=(FC.shape[1]+FNC.shape[1], ),replace=False) ##84 total females\n",
        "    # nullC=null2.iloc[:,l.tolist()] ##subset leftover from first null to 85\n",
        "    # m=np.random.choice(l[l<FC.shape[1]+1+FNC.shape[1]],FNC.shape[1],replace=False) ##25 controls\n",
        "    # nullD=nullC.iloc[:,m.tolist()] ##take 25 for female random control\n",
        "    # nullC=nullC.drop(nullD.columns,axis=1)\n",
        "\n",
        "    sumTFdiff,sumGenediff=negCont(nullA,nullB,i,timestr,motif_data,ppi_data)\n",
        "    # negCont(nullC,nullD,i+1)\n",
        "\n",
        "    print('saved iteration='+str(i))"
      ],
      "execution_count": null,
      "outputs": []
    },
    {
      "cell_type": "code",
      "metadata": {
        "id": "sQQgwB91DgX5"
      },
      "source": [
        "\n",
        "# f_pval =[]\n",
        "# m_pval = []#pd.DataFrame()\n",
        "# f_pval = np.array(f_pval, dtype = np.float32)\n",
        "# m_pval = np.array(m_pval, dtype = np.float32)\n",
        "\n",
        "# for i, col in enumerate(TF_diffNull.columns):\n",
        "#   t0f, p0f=stats.ttest_ind(mmm['diff'],TF_diffNull[col],nan_policy='omit',equal_var=False)\n",
        "#   t0m, p0m=stats.ttest_ind(nnn['diff'],TF_diffNull[col],nan_policy='omit',equal_var=False)\n",
        "#   f_pval=np.append(f_pval,p0f)\n",
        "#   m_pval=np.append(m_pval,p0m)\n",
        "# plt.hist([m_pval])"
      ],
      "execution_count": null,
      "outputs": []
    },
    {
      "cell_type": "code",
      "metadata": {
        "id": "wDIiYfRYbt9W"
      },
      "source": [
        ""
      ],
      "execution_count": null,
      "outputs": []
    },
    {
      "cell_type": "code",
      "metadata": {
        "id": "pQ4gbUvU1M9b"
      },
      "source": [
        "TF_diffNull=pd.read_csv('drive/My Drive/Colab Notebooks/model_output/TF_zscore_rand_1000.txt',sep='\\t',header=0)\n",
        "gene_diffNull=pd.read_csv('drive/My Drive/Colab Notebooks/model_output/gene_zscore_rand_1000.txt',sep='\\t',header=0)\n",
        "TF_diffNull=TF_diffNull.T\n",
        "gene_diffNull=gene_diffNull.T\n",
        "gene_diffNull.shape\n",
        "\n",
        "# TF_diffNull=pd.read_csv('drive/My Drive/TF_zscore_rand_camb.txt',sep='\\t',header=0)\n",
        "# gene_diffNull=pd.read_csv('drive/My Drive/gene_zscore_rand_camb.txt',sep='\\t',header=0)\n",
        "# TF_diffNull=TF_diffNull.T\n",
        "# gene_diffNull=gene_diffNull.T\n",
        "# gene_diffNull.shape"
      ],
      "execution_count": null,
      "outputs": []
    },
    {
      "cell_type": "code",
      "metadata": {
        "id": "eqenM27mA42h"
      },
      "source": [
        "male=pd.DataFrame()\n",
        "for i in range(0,200,2):\n",
        "  xx=pd.DataFrame([TF_diffNull[TF_diffNull[i]>.5].index,TF_diffNull[TF_diffNull[i]<-.5].index])\n",
        "  if not xx.empty:\n",
        "    print(xx)\n",
        "    male=np.append(male,xx)"
      ],
      "execution_count": null,
      "outputs": []
    },
    {
      "cell_type": "code",
      "metadata": {
        "id": "76h18hrGGunV"
      },
      "source": [
        "male"
      ],
      "execution_count": null,
      "outputs": []
    },
    {
      "cell_type": "code",
      "metadata": {
        "id": "Zs3xPwYTcNuZ"
      },
      "source": [
        "for i in range(1,201,2):\n",
        "  xx=pd.DataFrame([TF_diffNull[TF_diffNull[i]>.5][0],TF_diffNull[TF_diffNull[i]<-.5][0]])\n",
        "  if not xx.empty:\n",
        "    print(i)"
      ],
      "execution_count": null,
      "outputs": []
    },
    {
      "cell_type": "code",
      "metadata": {
        "id": "naQsEEwR_4Ju"
      },
      "source": [
        "TF_diffNull"
      ],
      "execution_count": null,
      "outputs": []
    },
    {
      "cell_type": "code",
      "metadata": {
        "id": "87hASlQ_1Bbw"
      },
      "source": [
        "[sex_tf_diff[(sex_tf_diff['diff_y'])>.4].tf.values,sex_tf_diff[(sex_tf_diff['diff_y'])<-0.4].tf.values] #,sex_tf_diff[np.abs(sex_tf_diff['diff_y'])>.4].tf]"
      ],
      "execution_count": null,
      "outputs": []
    },
    {
      "cell_type": "code",
      "metadata": {
        "id": "IfA5aKCmEBgc"
      },
      "source": [
        "for i, col in enumerate(TF_diffNull.columns):\n",
        "    # plt.figure(i)\n",
        "    tmp=sns.distplot(TF_diffNull[col])"
      ],
      "execution_count": null,
      "outputs": []
    },
    {
      "cell_type": "code",
      "metadata": {
        "id": "E7aaqYvZAu2e"
      },
      "source": [
        "for i, col in enumerate(gene_diffNull.columns):\n",
        "    # plt.figure(i)\n",
        "    tmp=sns.distplot(gene_diffNull[col])"
      ],
      "execution_count": null,
      "outputs": []
    },
    {
      "cell_type": "code",
      "metadata": {
        "id": "4nQRblCiCPlS"
      },
      "source": [
        "hist=np.histogram(np.array(TF_diffNull).flatten())#,log=False)\n",
        "stats.rv_histogram(hist)"
      ],
      "execution_count": null,
      "outputs": []
    },
    {
      "cell_type": "code",
      "metadata": {
        "id": "sqNqvYuZ3wMG"
      },
      "source": [
        "plt.hist(TF_diffNull.unstack(),log=True)"
      ],
      "execution_count": null,
      "outputs": []
    },
    {
      "cell_type": "code",
      "metadata": {
        "id": "-CeKcgiv39wk"
      },
      "source": [
        "plt.hist(TF_diffNull.unstack())"
      ],
      "execution_count": null,
      "outputs": []
    },
    {
      "cell_type": "code",
      "metadata": {
        "id": "aDKhmWpVEML9"
      },
      "source": [
        "sns.distplot(np.median(TF_diffNull,axis=1))\n",
        "sns.distplot(np.mean(TF_diffNull,axis=1))"
      ],
      "execution_count": null,
      "outputs": []
    },
    {
      "cell_type": "code",
      "metadata": {
        "id": "JpEgv6Rbt1LF"
      },
      "source": [
        ""
      ],
      "execution_count": null,
      "outputs": []
    },
    {
      "cell_type": "code",
      "metadata": {
        "id": "7ciWDHa9ockC"
      },
      "source": [
        "hist=np.histogram(np.array(TF_diffNull).flatten(),100)#,log=False)\n",
        "TF_dNull=stats.rv_histogram(hist)\n",
        "sampled_list = random.sample(set(mmm['diff']), 100)\n",
        "stat2, pvalue2 = stats.kstest(sampled_list, cdf=TF_dNull.cdf)#,args=(weight1, mean1, stdv1, mean2, stdv2))\n",
        "pvalue2"
      ],
      "execution_count": null,
      "outputs": []
    },
    {
      "cell_type": "code",
      "metadata": {
        "id": "ZVC3Qd7xzL8y"
      },
      "source": [
        "TFpvalue=pd.DataFrame()\n",
        "for i, col in enumerate(TF_diffNull.columns):\n",
        "  hist=np.histogram(np.array(TF_diffNull[col]))#.flatten())#,log=False)\n",
        "  TF_dNull=stats.rv_histogram(hist)\n",
        "  sampled_list = random.sample(set(mmm['diff']), 100)\n",
        "  stat2, pvalue2 = stats.kstest(sampled_list, cdf=TF_dNull.cdf)#,args=(weight1, mean1, stdv1, mean2, stdv2))\n",
        "  TFpvalue[i+1]=[pvalue2] #np.concatenate([pvalue,pvalue2],axis=0)\n",
        "TFpvalue=TFpvalue.T\n",
        "print(TFpvalue)"
      ],
      "execution_count": null,
      "outputs": []
    },
    {
      "cell_type": "code",
      "metadata": {
        "id": "hkEQPcqx2Eep"
      },
      "source": [
        "TFpvalue[TFpvalue<.005].dropna()"
      ],
      "execution_count": null,
      "outputs": []
    },
    {
      "cell_type": "code",
      "metadata": {
        "id": "4hbX_mwJ3vBH"
      },
      "source": [
        "Gpvalue=pd.DataFrame()\n",
        "for i, col in enumerate(gene_diffNull.columns):\n",
        "  hist=np.histogram(np.array(gene_diffNull[col]))#.flatten())#,log=False)\n",
        "  gene_dNull=stats.rv_histogram(hist)\n",
        "  sampled_list = random.sample(set(mmmm['diff']), 100)\n",
        "  stat2, pvalue2 = stats.kstest(sampled_list, cdf=gene_dNull.cdf)#,args=(weight1, mean1, stdv1, mean2, stdv2))\n",
        "  Gpvalue[i+1]=[pvalue2] #np.concatenate([pvalue,pvalue2],axis=0)\n",
        "Gpvalue=Gpvalue.T\n",
        "print(Gpvalue)"
      ],
      "execution_count": null,
      "outputs": []
    },
    {
      "cell_type": "code",
      "metadata": {
        "id": "OGbvrnEW6-C2"
      },
      "source": [
        "Gpvalue[Gpvalue<.005].dropna()"
      ],
      "execution_count": null,
      "outputs": []
    },
    {
      "cell_type": "markdown",
      "metadata": {
        "id": "dX4Ud-HNLTSV"
      },
      "source": [
        "#Age case v control (65yo)"
      ]
    },
    {
      "cell_type": "code",
      "metadata": {
        "id": "XFchVEvpMNto"
      },
      "source": [
        "# del data1['loc']\n",
        "# Age=(gse.phenotype_data['characteristics_ch1.0.age'].values).astype('float')>64\n",
        "# len(Age.astype('str'))\n",
        "# data1=pd.read_csv('drive/My Drive/Colab Notebooks/GSE76925.txt',sep='\\t',index_col=0)\n",
        "# data1\n",
        "# data1.columns=[Age.astype('str')+gse.phenotype_data['characteristics_ch1.5.copd'].values]\n",
        "\n",
        "# data1.loc[:,'Truecase'].to_csv('OldCase.txt',sep='\\t',index=True,header=False)\n",
        "# data1.loc[:,'Truecont'].to_csv('OldCont.txt',sep='\\t',index=True,header=False)\n",
        "[data1.loc[:,'Truecase'].shape,#.to_csv('OldCase.txt',sep='\\t',index=True,header=False)\n",
        "data1.loc[:,'Truecont'].shape,\n",
        "\n",
        "# # data4=data1[data1['age']<=65]\n",
        "# # del  data4['loc']\n",
        "# # data4.columns=[gse.phenotype_data['characteristics_ch1.1.Sex']+gse.phenotype_data['characteristics_ch1.5.copd']]\n",
        "# data1.loc[:,'Falsecase'].to_csv('YoungCase.txt',sep='\\t',index=True,header=False)\n",
        "# data1.loc[:,'Falsecont'].to_csv('YoungCont.txt',sep='\\t',index=True,header=False)\n",
        "data1.loc[:,'Falsecase'].shape,#.to_csv('YoungCase.txt',sep='\\t',index=True,header=False)\n",
        "data1.loc[:,'Falsecont'].shape]"
      ],
      "execution_count": null,
      "outputs": []
    },
    {
      "cell_type": "code",
      "metadata": {
        "id": "gzNNCvGPMRWh"
      },
      "source": [
        "LCL_ppi=pd.read_csv('https://granddb.s3.amazonaws.com/optPANDA/ppi/ppi_complete.txt',sep='\\t',header=None)\n",
        "LCL_ppi.to_csv('ppi_complete.txt',sep='\\t',index=False,header=False)\n",
        "\n",
        "coding_LCL_motif=pd.read_csv('https://granddb.s3.amazonaws.com/optPANDA/motifs/Hugo_motifCellLine.txt',sep='\\t',header=None)\n",
        "coding_LCL_motif.to_csv('coding_LCL_motif.txt',sep='\\t',index=False,header=False)\n",
        "\n",
        "motif_data='coding_LCL_motif.txt'\n",
        "ppi_data='ppi_complete.txt'"
      ],
      "execution_count": null,
      "outputs": []
    },
    {
      "cell_type": "code",
      "metadata": {
        "id": "PU39axBX7Q77"
      },
      "source": [
        "panda_obj1 = Panda('OldCase.txt', motif_data, ppi_data,computing='gpu',precision='single',save_tmp=False,save_memory = False, remove_missing=False, keep_expression_matrix = True,modeProcess = 'intersection')\n",
        "np.save('drive/My Drive/Panda_OldCase.npy',panda_obj1.export_panda_results)\n",
        "del panda_obj1\n",
        "panda_obj2 = Panda('OldCont.txt', motif_data, ppi_data,computing='gpu',precision='single',save_tmp=False,save_memory = False, remove_missing=False, keep_expression_matrix = True,modeProcess = 'intersection')\n",
        "np.save('drive/My Drive/Panda_OldCont.npy',panda_obj2.export_panda_results)\n",
        "del panda_obj2\n",
        "panda_obj3 = Panda('YoungCase.txt', motif_data, ppi_data,computing='gpu',precision='single',save_tmp=False,save_memory = False, remove_missing=False, keep_expression_matrix = True,modeProcess = 'intersection')\n",
        "np.save('drive/My Drive/Panda_YoungCase.npy',panda_obj3.export_panda_results)\n",
        "del panda_obj3\n",
        "panda_obj4 = Panda('YoungCont.txt', motif_data, ppi_data,computing='gpu',precision='single',save_tmp=False,save_memory = False, remove_missing=False, keep_expression_matrix = True,modeProcess = 'intersection')\n",
        "np.save('drive/My Drive/Panda_YoungCont.npy',panda_obj4.export_panda_results)\n",
        "del panda_obj4\n"
      ],
      "execution_count": null,
      "outputs": []
    },
    {
      "cell_type": "code",
      "metadata": {
        "id": "EmA2YJXYTFcM"
      },
      "source": [
        "Panda_OldCase=np.load('drive/My Drive/Colab Notebooks/Panda_OldCase.npy',allow_pickle=True)#,sep='\\t',index_col=0,header=None,names=['loc','symbol'])\n",
        "Panda_OldCont=np.load('drive/My Drive/Colab Notebooks/Panda_OldCont.npy',allow_pickle=True)#,sep='\\t',index_col=0,header=None,names=['loc','symbol'])\n",
        "Panda_OldCont=pd.DataFrame(Panda_OldCont)\n",
        "Panda_OldCont.columns=['tf','gene','motif','force']\n",
        "Panda_OldCase=pd.DataFrame(Panda_OldCase)\n",
        "Panda_OldCase.columns=['tf','gene','motif','force']\n",
        "\n",
        "Panda_YoungCase=np.load('drive/My Drive/Colab Notebooks/Panda_YoungCase.npy',allow_pickle=True)#,sep='\\t',index_col=0,header=None,names=['loc','symbol'])\n",
        "Panda_YoungCont=np.load('drive/My Drive/Colab Notebooks/Panda_YoungCont.npy',allow_pickle=True)#,sep='\\t',index_col=0,header=None,names=['loc','symbol'])\n",
        "Panda_YoungCont=pd.DataFrame(Panda_YoungCont)\n",
        "Panda_YoungCont.columns=['tf','gene','motif','force']\n",
        "Panda_YoungCase=pd.DataFrame(Panda_YoungCase)\n",
        "Panda_YoungCase.columns=['tf','gene','motif','force']"
      ],
      "execution_count": null,
      "outputs": []
    },
    {
      "cell_type": "markdown",
      "metadata": {
        "id": "T3jSwAJVRT71"
      },
      "source": [
        "#TF and gene specific zscore diff OLD, YOUNG"
      ]
    },
    {
      "cell_type": "code",
      "metadata": {
        "id": "d5KtPm3PQ6UR"
      },
      "source": [
        "from scipy.stats import zscore\n",
        "# Panda_nullA.panda_results = pd.DataFrame(Panda_nullA.export_panda_results, columns=['tf','gene','motif','force'])\n",
        "subset_panda_results3 = Panda_OldCase.sort_values(by=['force'], ascending=False)\n",
        "# subset_panda_results3['merge']=subset_panda_results3.tf+'-'+subset_panda_results3.gene\n",
        "\n",
        "# Panda_nullB.panda_results = pd.DataFrame(Panda_nullB.export_panda_results, columns=['tf','gene','motif','force'])\n",
        "subset_panda_results1 = Panda_OldCont.sort_values(by=['force'], ascending=False)\n",
        "# subset_panda_results1['merge']=subset_panda_results1.tf+'-'+subset_panda_results1.gene\n",
        "del subset_panda_results3['motif'],subset_panda_results1['motif']\n",
        "TFsum_3=subset_panda_results3.groupby(['tf']).agg({'force':sum})\n",
        "TFsum_1=subset_panda_results1.groupby(['tf']).agg({'force':sum})\n",
        "TFsum_1['force']=zscore(TFsum_1['force'])\n",
        "TFsum_3['force']=zscore(TFsum_3['force']) ##reduces range from 1500 to 3\n",
        "\n",
        "geneSum_3=subset_panda_results3.groupby(['gene']).agg({'force':sum})\n",
        "geneSum_1=subset_panda_results1.groupby(['gene']).agg({'force':sum})\n",
        "geneSum_3['force']=zscore(geneSum_3['force'])\n",
        "geneSum_1['force']=zscore(geneSum_1['force'])\n",
        "\n",
        "mmm=TFsum_3.merge(TFsum_1, left_on=['tf'], right_on=['tf'])\n",
        "mmmm=geneSum_3.merge(geneSum_1, left_on=['gene'], right_on=['gene'])\n",
        "\n",
        "del [[subset_panda_results3, subset_panda_results1,Panda_OldCont,Panda_OldCase]]\n",
        "gc.collect()\n",
        "subset_panda_results3=pd.DataFrame()\n",
        "subset_panda_results1=pd.DataFrame()\n",
        "Panda_FcontFULL=pd.DataFrame()\n",
        "Panda_FcontFULL=pd.DataFrame()\n",
        "\n",
        "\n",
        "mmm['diff']=mmm.force_x-mmm.force_y\n",
        "mmm = mmm.sort_values(by ='diff' )\n",
        "\n",
        "\n",
        "mmmm['diff']=mmmm.force_x-mmmm.force_y\n",
        "mmmm = mmmm.sort_values(by ='diff' )\n",
        "mmm.to_csv('drive/My Drive/TF_zscore_O.txt',sep='\\t')\n",
        "mmmm.to_csv('drive/My Drive/gene_zscore_O.txt',sep='\\t',index=0)"
      ],
      "execution_count": null,
      "outputs": []
    },
    {
      "cell_type": "code",
      "metadata": {
        "id": "a5I7BBWARcjJ"
      },
      "source": [
        "\n",
        "# Panda_nullA.panda_results = pd.DataFrame(Panda_nullA.export_panda_results, columns=['tf','gene','motif','force'])\n",
        "subset_panda_results3 = Panda_YoungCase.sort_values(by=['force'], ascending=False)\n",
        "# subset_panda_results3['merge']=subset_panda_results3.tf+'-'+subset_panda_results3.gene\n",
        "\n",
        "# Panda_nullB.panda_results = pd.DataFrame(Panda_nullB.export_panda_results, columns=['tf','gene','motif','force'])\n",
        "subset_panda_results1 = Panda_YoungCont.sort_values(by=['force'], ascending=False)\n",
        "# subset_panda_results1['merge']=subset_panda_results1.tf+'-'+subset_panda_results1.gene\n",
        "del subset_panda_results3['motif'],subset_panda_results1['motif']\n",
        "TFsum_3=subset_panda_results3.groupby(['tf']).agg({'force':sum})\n",
        "TFsum_1=subset_panda_results1.groupby(['tf']).agg({'force':sum})\n",
        "TFsum_1['force']=zscore(TFsum_1['force'])\n",
        "TFsum_3['force']=zscore(TFsum_3['force'])\n",
        "\n",
        "geneSum_3=subset_panda_results3.groupby(['gene']).agg({'force':sum})\n",
        "geneSum_1=subset_panda_results1.groupby(['gene']).agg({'force':sum})\n",
        "geneSum_3['force']=zscore(geneSum_3['force'])\n",
        "geneSum_1['force']=zscore(geneSum_1['force'])\n",
        "\n",
        "nnn=TFsum_3.merge(TFsum_1, left_on=['tf'], right_on=['tf'])\n",
        "nnnn=geneSum_3.merge(geneSum_1, left_on=['gene'], right_on=['gene'])\n",
        "\n",
        "del [[subset_panda_results3, subset_panda_results1,Panda_YoungCase,Panda_YoungCont]]\n",
        "gc.collect()\n",
        "subset_panda_results3=pd.DataFrame()\n",
        "subset_panda_results1=pd.DataFrame()\n",
        "Panda_Mcont=pd.DataFrame()\n",
        "Panda_Mcase=pd.DataFrame()\n",
        "\n",
        "\n",
        "nnn['diff']=nnn.force_x-nnn.force_y\n",
        "nnn = nnn.sort_values(by ='diff' )\n",
        "\n",
        "\n",
        "nnnn['diff']=nnnn.force_x-nnnn.force_y\n",
        "nnnn = nnnn.sort_values(by ='diff' )\n",
        "nnn.to_csv('drive/My Drive/TF_zscore_Y.txt',sep='\\t')\n",
        "nnnn.to_csv('drive/My Drive/gene_zscore_Y.txt',sep='\\t')\n"
      ],
      "execution_count": null,
      "outputs": []
    },
    {
      "cell_type": "code",
      "metadata": {
        "id": "84sc0fr-VVJh"
      },
      "source": [
        "ff=pd.read_csv('drive/My Drive/TF_zscore_O.txt',sep='\\t',header=0)\n",
        "fff=pd.read_csv('drive/My Drive/gene_zscore_O.txt',sep='\\t',header=0)\n",
        "mm=pd.read_csv('drive/My Drive/TF_zscore_Y.txt',sep='\\t',header=0)\n",
        "mmm=pd.read_csv('drive/My Drive/gene_zscore_Y.txt',sep='\\t',header=0)\n",
        "sex_tf_diff=ff.merge(mm,on='tf')\n",
        "# sex_gene_diff=fff.merge(mmm,on='gene')\n",
        " \n",
        "plt.figure(figsize=(15,6))\n",
        "sex_tf_diff['sexdiff']=sex_tf_diff['diff_x']-sex_tf_diff['diff_y']\n",
        "# sex_tf_diff=sex_tf_diff.sort_values(by=['sexdiff'])\n",
        "sex_tf_diff=sex_tf_diff.sort_values(by=['tf'])\n",
        "sns.barplot(data=sex_tf_diff,y='sexdiff',x='tf')"
      ],
      "execution_count": null,
      "outputs": []
    },
    {
      "cell_type": "code",
      "metadata": {
        "id": "zLMHwaMBRsmc"
      },
      "source": [
        "a=plt.hist(sex_tf_diff['diff_x'],bins=100,label='<65',color='c')\n",
        "b=plt.hist(sex_tf_diff['diff_y'],bins=100,label='>=65',color='m')\n",
        "plt.title('Age-specific Ca-Co TF degree diff')\n",
        "plt.legend(loc=\"best\")"
      ],
      "execution_count": null,
      "outputs": []
    },
    {
      "cell_type": "code",
      "metadata": {
        "id": "5RCpdCYeUPg-"
      },
      "source": [
        "# [sex_tf_diff[np.abs(sex_tf_diff['diff_x'])>.4].tf,\n",
        "sex_tf_diff#[np.abs(sex_tf_diff['diff_y'])>.4].tf]"
      ],
      "execution_count": null,
      "outputs": []
    },
    {
      "cell_type": "markdown",
      "metadata": {
        "id": "GPFgR6DHv4zS"
      },
      "source": [
        "#LTCOPD combat"
      ]
    },
    {
      "cell_type": "code",
      "metadata": {
        "id": "YnTeKi6Qv3_B"
      },
      "source": [
        "LTCOPD_exp=pd.read_csv('drive/MyDrive/harvard/LARGE_COPD/LTCOPD_combat.txt',sep='\\t',index_col=0)\n",
        "# LTRC_exp=pd.read_csv('drive/MyDrive/harvard/LARGE_COPD/LTRC_qsmooth_combat.txt',sep='\\t',index_col=0)\n",
        "LTCOPD_exp=LTCOPD_exp.reset_index().dropna().set_index('index')\n",
        "dd=pd.read_csv('drive/MyDrive/harvard/LARGE_COPD/LTCOPD_genes.txt',sep='\\t',index_col=0)\n",
        "LTCOPD_exp.index=dd['x']"
      ],
      "execution_count": null,
      "outputs": []
    },
    {
      "cell_type": "code",
      "metadata": {
        "id": "2saG3_e1cVsg"
      },
      "source": [
        "# LTCOPD_genes=pd.read_csv('drive/My Drive/Colab Notebooks/LTCOPD_genes.txt',index_col=None,header=None,sep='\\t')\n",
        "LTCOPD_exp=(LTCOPD_exp.dropna(how='all'))\n",
        "data2=LTCOPD_exp.merge(pd.DataFrame(data1.index.tolist()),left_index=True,right_on=0)\n",
        "data2.index=data2[0]\n",
        "data2.replace([np.inf, -np.inf], np.nan,inplace=True)\n",
        "data2.replace(np.nan, 0,inplace=True)\n",
        "data2=data2.groupby(data2.index).mean()"
      ],
      "execution_count": null,
      "outputs": []
    },
    {
      "cell_type": "code",
      "metadata": {
        "id": "P9x9Kp94wlY1"
      },
      "source": [
        "\n",
        "FC=data2.iloc[:,data2.columns.str.contains('_F_case')]\n",
        "FNC=data2.iloc[:,data2.columns.str.contains('_F_cont')]\n",
        "MC=data2.iloc[:,data2.columns.str.contains('_M_case')]\n",
        "MNC=data2.iloc[:,data2.columns.str.contains('_M_cont')]\n",
        "print([FC.shape,FNC.shape,MC.shape,MNC.shape])\n",
        "\n",
        "FC.to_csv('Fcase.txt',sep='\\t',index=True,header=False)\n",
        "FNC.to_csv('Fcont.txt',sep='\\t',index=True,header=False)\n",
        "MC.to_csv('Mcase.txt',sep='\\t',index=True,header=False)\n",
        "MNC.to_csv('Mcont.txt',sep='\\t',index=True,header=False)"
      ],
      "execution_count": null,
      "outputs": []
    },
    {
      "cell_type": "code",
      "metadata": {
        "id": "U2F-vxR2ALZf"
      },
      "source": [
        "panda_obj1 = Panda('Fcase.txt', F_motif_data, ppi_data,computing='gpu',precision='single',save_tmp=False,save_memory = False, remove_missing=False, keep_expression_matrix = False,modeProcess = 'intersection')\n",
        "np.save('drive/My Drive/Colab Notebooks/model_output/FC_LTCOPD.npy',np.round(panda_obj1.export_panda_results,decimals=3))\n",
        "del panda_obj1\n",
        "panda_obj2 = Panda('Mcase.txt', motif_data, ppi_data,computing='gpu',precision='single',save_tmp=False,save_memory = False, remove_missing=False, keep_expression_matrix = False,modeProcess = 'intersection')\n",
        "np.save('drive/My Drive/Colab Notebooks/model_output/MC_LTCOPD.npy',np.round(panda_obj2.export_panda_results,decimals=3))\n",
        "del panda_obj2\n",
        "panda_obj3 = Panda('Fcont.txt', F_motif_data, ppi_data,computing='gpu',precision='single',save_tmp=False,save_memory = False, remove_missing=False, keep_expression_matrix = False,modeProcess = 'intersection')\n",
        "np.save('drive/My Drive/Colab Notebooks/model_output/FNC_LTCOPD.npy',np.round(panda_obj3.export_panda_results,decimals=3))\n",
        "del panda_obj3\n",
        "panda_obj4 = Panda('Mcont.txt', motif_data, ppi_data,computing='gpu',precision='single',save_tmp=False,save_memory = False, remove_missing=False, keep_expression_matrix = False,modeProcess = 'intersection')\n",
        "np.save('drive/My Drive/Colab Notebooks/model_output/MNC_LTCOPD.npy',np.round(panda_obj4.export_panda_results,decimals=3))\n",
        "del panda_obj4\n",
        "# panda_obj5 = Panda('FcaseFULL.txt', motif_data, ppi_data,computing='gpu',precision='single',save_tmp=False,save_memory = False, remove_missing=False, keep_expression_matrix = True,modeProcess = 'intersection')\n",
        "# np.save('drive/My Drive/Panda_FcaseFULL.npy',panda_obj5.export_panda_results)\n",
        "# del panda_obj5\n",
        "# panda_obj6 = Panda('FcontFULL.txt', motif_data, ppi_data,computing='gpu',precision='single',save_tmp=False,save_memory = False, remove_missing=False, keep_expression_matrix = True,modeProcess = 'intersection')\n",
        "# np.save('drive/My Drive/Panda_FcontFULL.npy',panda_obj6.export_panda_results)\n",
        "# del panda_obj6\n"
      ],
      "execution_count": null,
      "outputs": []
    },
    {
      "cell_type": "code",
      "metadata": {
        "id": "dGd2D_24BEDu"
      },
      "source": [
        "MC=np.load('drive/My Drive/Colab Notebooks/model_output/MC_LTCOPD.npy',allow_pickle=True)#,sep='\\t',index_col=0,header=None,names=['loc','symbol'])\n",
        "MNC=np.load('drive/My Drive/Colab Notebooks/model_output/MNC_LTCOPD.npy',allow_pickle=True)#,sep='\\t',index_col=0,header=None,names=['loc','symbol'])\n",
        "MNC=pd.DataFrame(MNC)\n",
        "MNC.columns=['tf','gene','motif','force']\n",
        "MC=pd.DataFrame(MC)\n",
        "MC.columns=['tf','gene','motif','force']\n",
        "\n",
        "TFsum_3=MC.groupby(['tf']).agg({'force':sum})\n",
        "TFsum_1=MNC.groupby(['tf']).agg({'force':sum})\n",
        "TFsum_1['force']=zscore(TFsum_1['force'])\n",
        "TFsum_3['force']=zscore(TFsum_3['force']) ##reduces range from 1500 to 3\n",
        "\n",
        "geneSum_3=MC.groupby(['gene']).agg({'force':sum})\n",
        "geneSum_1=MNC.groupby(['gene']).agg({'force':sum})\n",
        "geneSum_3['force']=zscore(geneSum_3['force'])\n",
        "geneSum_1['force']=zscore(geneSum_1['force'])\n",
        "\n",
        "mmm=TFsum_3.merge(TFsum_1, left_on=['tf'], right_on=['tf'])\n",
        "mmmm=geneSum_3.merge(geneSum_1, left_on=['gene'], right_on=['gene'])\n",
        "\n",
        "# del [[MC, MNC]]\n",
        "# gc.collect()\n",
        "MC=pd.DataFrame()\n",
        "MNC=pd.DataFrame()\n",
        "# Panda_FcontFULL=pd.DataFrame()\n",
        "# Panda_FcontFULL=pd.DataFrame()\n",
        "\n",
        "\n",
        "mmm['diff']=mmm.force_x-mmm.force_y\n",
        "mmm = mmm.sort_values(by ='diff' )\n",
        "\n",
        "\n",
        "mmmm['diff']=mmmm.force_x-mmmm.force_y\n",
        "mmmm = mmmm.sort_values(by ='diff' )\n",
        "mmm.to_csv('drive/My Drive/TF_zscore_M.txt',sep='\\t')\n",
        "mmmm.to_csv('drive/My Drive/gene_zscore_M.txt',sep='\\t')"
      ],
      "execution_count": null,
      "outputs": []
    },
    {
      "cell_type": "code",
      "metadata": {
        "id": "m2FxW2_mDWgc"
      },
      "source": [
        "FC=np.load('drive/My Drive/Colab Notebooks/model_output/FC_LTCOPD.npy',allow_pickle=True)#,sep='\\t',index_col=0,header=None,names=['loc','symbol'])\n",
        "FNC=np.load('drive/My Drive/Colab Notebooks/model_output/FNC_LTCOPD.npy',allow_pickle=True)#,sep='\\t',index_col=0,header=None,names=['loc','symbol'])\n",
        "FNC=pd.DataFrame(FNC)\n",
        "FNC.columns=['tf','gene','motif','force']\n",
        "FC=pd.DataFrame(FC)\n",
        "FC.columns=['tf','gene','motif','force']\n",
        "\n",
        "TFsum_4=FC.groupby(['tf']).agg({'force':sum})\n",
        "TFsum_2=FNC.groupby(['tf']).agg({'force':sum})\n",
        "TFsum_2['force']=zscore(TFsum_2['force'])\n",
        "TFsum_4['force']=zscore(TFsum_4['force']) ##reduces range from 2500 to 4\n",
        "\n",
        "geneSum_4=FC.groupby(['gene']).agg({'force':sum})\n",
        "geneSum_2=FNC.groupby(['gene']).agg({'force':sum})\n",
        "geneSum_4['force']=zscore(geneSum_4['force'])\n",
        "geneSum_2['force']=zscore(geneSum_2['force'])\n",
        "\n",
        "nnn=TFsum_4.merge(TFsum_2, left_on=['tf'], right_on=['tf'])\n",
        "nnnn=geneSum_4.merge(geneSum_2, left_on=['gene'], right_on=['gene'])\n",
        "\n",
        "# del [[FC, FNC]]\n",
        "# gc.collect()\n",
        "FC=pd.DataFrame()\n",
        "FNC=pd.DataFrame()\n",
        "Panda_FcontFULL=pd.DataFrame()\n",
        "Panda_FcontFULL=pd.DataFrame()\n",
        "\n",
        "\n",
        "nnn['diff']=nnn.force_x-nnn.force_y\n",
        "nnn = nnn.sort_values(by ='diff' )\n",
        "\n",
        "\n",
        "nnnn['diff']=mmmm.force_x-nnnn.force_y\n",
        "nnnn = nnnn.sort_values(by ='diff' )\n",
        "nnn.to_csv('drive/My Drive/TF_zscore_F.txt',sep='\\t')\n",
        "nnnn.to_csv('drive/My Drive/gene_zscore_F.txt',sep='\\t')"
      ],
      "execution_count": null,
      "outputs": []
    },
    {
      "cell_type": "markdown",
      "metadata": {
        "id": "BqkpNZ_qZmzL"
      },
      "source": [
        "###load and compare Clue-Reg results"
      ]
    },
    {
      "cell_type": "code",
      "metadata": {
        "id": "EdUTYAZ8b0Y3"
      },
      "source": [
        "LTRC_male=pd.read_csv('drive/My Drive/harvard/LARGE_COPD/LTRC_Monly_clueReg.csv',header=0)\n",
        "LTRC_female=pd.read_csv('drive/My Drive/harvard/LARGE_COPD/LTRC_Fonly_clueReg.csv',header=0)\n",
        "LTCOPD_male=pd.read_csv('drive/My Drive/harvard/LARGE_COPD/LTCOPD_Monly_clueReg.csv',header=0)\n",
        "LTCOPD_female=pd.read_csv('drive/My Drive/harvard/LARGE_COPD/LTCOPD_Fonly_clueReg.csv',header=0)\n",
        "\n",
        "female=LTRC_female[['Drug','Overlap','Cosine','P-value']].merge(LTCOPD_female[['Drug','Overlap','Cosine','P-value']],right_on='Drug',left_on='Drug')\n",
        "male=LTRC_male[['Drug','Overlap','Cosine','P-value']].merge(LTCOPD_male[['Drug','Overlap','Cosine','P-value']],right_on='Drug',left_on='Drug')\n",
        "\n",
        "LTRC_rx=LTRC_female[['Drug','Overlap','Cosine','P-value']].merge(LTRC_male[['Drug','Overlap','Cosine','P-value']],right_on='Drug',left_on='Drug')\n",
        "LTCOPD_rx=LTCOPD_female[['Drug','Overlap','Cosine','P-value']].merge(LTCOPD_male[['Drug','Overlap','Cosine','P-value']],right_on='Drug',left_on='Drug')\n",
        "\n",
        "plt.figure(figsize=(8,8))\n",
        "\n",
        "plt.scatter(male.Cosine_x,male.Cosine_y,label='male'),\n",
        "plt.scatter(female.Cosine_x,female.Cosine_y,label='female')\n",
        "\n",
        "# plt.scatter(LTRC_rx.Cosine_x,LTRC_rx.Cosine_y,label='LTRC'),\n",
        "# plt.scatter(LTCOPD_rx.Cosine_x,LTCOPD_rx.Cosine_y,label='LTCOPD')\n",
        "\n",
        "plt.legend(loc='best')\n",
        "# plt.ylim(-.4,0)\n",
        "# plt.xlim(-.4,0)\n",
        "# plt.plot([-1, 0], [-1, 0], 'k--')\n",
        "plt.xlabel('LTRC cosine')\n",
        "plt.ylabel('LTCOPD cosine')\n",
        "\n",
        "rhoM, pvalM = np.corrcoef(female.Cosine_x,female.Cosine_y)\n",
        "# pvalM\n",
        "rhoF, pvalF = np.corrcoef(male.Cosine_x,male.Cosine_y)\n",
        "# pvalF\n",
        "print([rhoM[1],rhoF[1]])\n",
        "\n",
        "rhoM, pvalM = stats.spearmanr(female.Cosine_x,female.Cosine_y)\n",
        "# pvalM\n",
        "rhoF, pvalF = stats.spearmanr(male.Cosine_x,male.Cosine_y)\n",
        "# pvalF\n",
        "print([rhoM,rhoF])\n",
        "\n",
        "# rhoM, pvalM = stats.spearmanr(LTRC_rx.Cosine_x,LTRC_rx.Cosine_y)\n",
        "# # pvalM\n",
        "# rhoF, pvalF = stats.spearmanr(LTCOPD_rx.Cosine_x,LTCOPD_rx.Cosine_y)\n",
        "# # pvalF\n",
        "# print([rhoM,rhoF])\n",
        "\n",
        "# rhoM, pvalM = stats.spearmanr(LTRC_rx.Cosine_x,LTRC_rx.Cosine_y)\n",
        "# # pvalM\n",
        "# rhoF, pvalF = stats.spearmanr(LTCOPD_rx.Cosine_x,LTCOPD_rx.Cosine_y)\n",
        "# # pval\n",
        "# print([rhoM,rhoF])"
      ],
      "execution_count": null,
      "outputs": []
    },
    {
      "cell_type": "code",
      "metadata": {
        "id": "UvSmURQR4oz8"
      },
      "source": [
        ""
      ],
      "execution_count": null,
      "outputs": []
    },
    {
      "cell_type": "code",
      "metadata": {
        "id": "3ki3KNwAR8Ns"
      },
      "source": [
        "!pip install chart_studio\n",
        "import chart_studio.plotly as py\n",
        "import plotly.graph_objects as go\n",
        "\n",
        "import plotly.io as pio\n",
        "pio.renderers.default='notebook'\n",
        "\n",
        "\n",
        "trace_men = go.Scatter(x=male['Cosine_x'],\n",
        "                  y=male['Cosine_y'],text=male['Drug'],\n",
        "                  name='male',mode='markers',\n",
        "                  marker=dict(color='#A2D5F2'))\n",
        "\n",
        "trace_women = go.Scatter(x=female['Cosine_x'],\n",
        "                y=female['Cosine_y'],text=female['Drug'],\n",
        "                name='female',mode='markers',\n",
        "                marker=dict(color='#ffcdd2'))\n",
        "\n",
        "trace_ltrc = go.Scatter(x=LTRC_rx['Cosine_x'],\n",
        "                y=LTRC_rx['Cosine_y'],text=LTRC_rx['Drug'],\n",
        "                name='LTRC_rx',mode='markers')#,\n",
        "                # marker=dict(color='#ffcdd2'))\n",
        "\n",
        "trace_ltcopd = go.Scatter(x=LTCOPD_rx['Cosine_x'],\n",
        "                y=LTCOPD_rx['Cosine_y'],text=LTCOPD_rx['Drug'],\n",
        "                name='LTCOPD_rx',mode='markers')#,\n",
        "                # marker=dict(color='#ffcdd2'))\n",
        "\n",
        "data = [trace_men, trace_women,trace_ltrc,trace_ltcopd]\n",
        "\n",
        "layout = go.Layout(title=\"cosine\",\n",
        "                xaxis=dict(title='cosine'),\n",
        "                yaxis=dict(title='cosine'))\n",
        "\n",
        "fig = go.Figure(data=data, layout=layout,layout_yaxis_range=[-.6,0],layout_xaxis_range=[-.6,0])\n",
        "fig.add_trace(go.Scatter(\n",
        "    x=[-1,0,],\n",
        "    y=[-1,0],name='',\n",
        "))\n",
        "fig.update_layout(\n",
        "    autosize=False,\n",
        "    width=500,\n",
        "    height=500)\n",
        "fig.show(renderer=\"colab\")"
      ],
      "execution_count": null,
      "outputs": []
    },
    {
      "cell_type": "code",
      "metadata": {
        "id": "1pGSODnG4o2q"
      },
      "source": [
        "LTRC_male=pd.read_csv('drive/My Drive/harvard/LARGE_COPD/LTRC_Monly_clueReg.csv',header=0)\n",
        "LTRC_female=pd.read_csv('drive/My Drive/harvard/LARGE_COPD/LTRC_Fonly_clueReg.csv',header=0)\n",
        "LTCOPD_male=pd.read_csv('drive/My Drive/harvard/LARGE_COPD/LTCOPD_Monly_clueReg.csv',header=0)\n",
        "LTCOPD_female=pd.read_csv('drive/My Drive/harvard/LARGE_COPD/LTCOPD_Fonly_clueReg.csv',header=0)\n",
        "\n",
        "female=LTRC_female[['Drug','Overlap','Cosine','P-value']].merge(LTCOPD_female[['Drug','Overlap','Cosine','P-value']],right_on='Drug',left_on='Drug')\n",
        "male=LTRC_male[['Drug','Overlap','Cosine','P-value']].merge(LTCOPD_male[['Drug','Overlap','Cosine','P-value']],right_on='Drug',left_on='Drug')\n",
        "\n",
        "LTRC_rx=LTRC_female[['Drug','Overlap','Cosine','P-value']].merge(LTRC_male[['Drug','Overlap','Cosine','P-value']],right_on='Drug',left_on='Drug')\n",
        "LTCOPD_rx=LTCOPD_female[['Drug','Overlap','Cosine','P-value']].merge(LTCOPD_male[['Drug','Overlap','Cosine','P-value']],right_on='Drug',left_on='Drug')\n",
        "\n",
        "plt.figure(figsize=(8,8))\n",
        "\n",
        "plt.scatter(male.Cosine_x,male.Cosine_y,label='male'),\n",
        "plt.scatter(female.Cosine_x,female.Cosine_y,label='female')\n",
        "\n",
        "plt.scatter(LTRC_rx.Cosine_x,LTRC_rx.Cosine_y,label='LTRC'),\n",
        "plt.scatter(LTCOPD_rx.Cosine_x,LTCOPD_rx.Cosine_y,label='LTCOPD')\n",
        "\n",
        "plt.legend(loc='best')\n",
        "# plt.ylim(-.4,0)\n",
        "# plt.xlim(-.4,0)\n",
        "# plt.plot([-1, 0], [-1, 0], 'k--')\n",
        "plt.xlabel('LTRC cosine')\n",
        "plt.ylabel('LTCOPD cosine')\n",
        "\n",
        "rhoM, pvalM = np.corrcoef(female.Cosine_x,female.Cosine_y)\n",
        "# pvalM\n",
        "rhoF, pvalF = np.corrcoef(male.Cosine_x,male.Cosine_y)\n",
        "# pvalF\n",
        "print([rhoM[1],rhoF[1]])\n",
        "\n",
        "rhoM, pvalM = stats.spearmanr(female.Cosine_x,female.Cosine_y)\n",
        "# pvalM\n",
        "rhoF, pvalF = stats.spearmanr(male.Cosine_x,male.Cosine_y)\n",
        "# pvalF\n",
        "print([rhoM,rhoF])\n",
        "\n",
        "rhoM, pvalM = stats.spearmanr(LTRC_rx.Cosine_x,LTRC_rx.Cosine_y)\n",
        "# pvalM\n",
        "rhoF, pvalF = stats.spearmanr(LTCOPD_rx.Cosine_x,LTCOPD_rx.Cosine_y)\n",
        "# pvalF\n",
        "print([rhoM,rhoF])\n",
        "\n",
        "rhoM, pvalM = stats.spearmanr(LTRC_rx.Cosine_x,LTRC_rx.Cosine_y)\n",
        "# pvalM\n",
        "rhoF, pvalF = stats.spearmanr(LTCOPD_rx.Cosine_x,LTCOPD_rx.Cosine_y)\n",
        "# pval\n",
        "print([rhoM,rhoF])"
      ],
      "execution_count": null,
      "outputs": []
    },
    {
      "cell_type": "code",
      "metadata": {
        "id": "PTC2jalo4o9X"
      },
      "source": [
        "!pip install chart_studio\n",
        "import chart_studio.plotly as py\n",
        "import plotly.graph_objects as go\n",
        "\n",
        "import plotly.io as pio\n",
        "pio.renderers.default='notebook'\n",
        "\n",
        "\n",
        "trace_men = go.Scatter(x=male['Cosine_x'],\n",
        "                  y=male['Cosine_y'],text=male['Drug'],\n",
        "                  name='male',mode='markers',\n",
        "                  marker=dict(color='#A2D5F2'))\n",
        "\n",
        "trace_women = go.Scatter(x=female['Cosine_x'],\n",
        "                y=female['Cosine_y'],text=female['Drug'],\n",
        "                name='female',mode='markers',\n",
        "                marker=dict(color='#ffcdd2'))\n",
        "\n",
        "trace_ltrc = go.Scatter(x=LTRC_rx['Cosine_x'],\n",
        "                y=LTRC_rx['Cosine_y'],text=LTRC_rx['Drug'],\n",
        "                name='LTRC_rx',mode='markers')#,\n",
        "                # marker=dict(color='#ffcdd2'))\n",
        "\n",
        "trace_ltcopd = go.Scatter(x=LTCOPD_rx['Cosine_x'],\n",
        "                y=LTCOPD_rx['Cosine_y'],text=LTCOPD_rx['Drug'],\n",
        "                name='LTCOPD_rx',mode='markers')#,\n",
        "                # marker=dict(color='#ffcdd2'))\n",
        "\n",
        "data = [trace_men, trace_women,trace_ltrc,trace_ltcopd]\n",
        "\n",
        "layout = go.Layout(title=\"cosine\",\n",
        "                xaxis=dict(title='cosine'),\n",
        "                yaxis=dict(title='cosine'))\n",
        "\n",
        "fig = go.Figure(data=data, layout=layout,layout_yaxis_range=[-.4,0],layout_xaxis_range=[-.4,0])\n",
        "fig.add_trace(go.Scatter(\n",
        "    x=[-1,0,],\n",
        "    y=[-1,0],name='',\n",
        "))\n",
        "fig.update_layout(\n",
        "    autosize=False,\n",
        "    width=500,\n",
        "    height=500)\n",
        "fig.show(renderer=\"colab\")"
      ],
      "execution_count": null,
      "outputs": []
    },
    {
      "cell_type": "code",
      "metadata": {
        "id": "XbAZWxry4o_3"
      },
      "source": [
        ""
      ],
      "execution_count": null,
      "outputs": []
    },
    {
      "cell_type": "code",
      "metadata": {
        "id": "UE-053h2Lpj-"
      },
      "source": [
        ""
      ],
      "execution_count": null,
      "outputs": []
    },
    {
      "cell_type": "code",
      "metadata": {
        "id": "fg51UNwqOaQT"
      },
      "source": [
        "\n",
        "LTRC_male=pd.read_csv('drive/My Drive/harvard/LARGE_COPD/ltrc_M_copd_io.txt',header=0,sep='\\t')\n",
        "LTRC_female=pd.read_csv('drive/My Drive/harvard/LARGE_COPD/ltrc_F_copd_io.txt',header=0,sep='\\t')\n",
        "LTCOPD_male=pd.read_csv('drive/My Drive/harvard/LARGE_COPD/ltcopd_M_copd_io.txt',header=0,sep='\\t')\n",
        "LTCOPD_female=pd.read_csv('drive/My Drive/harvard/LARGE_COPD/ltcopd_F_copd_io.txt',header=0,sep='\\t')\n",
        "\n",
        "female=LTRC_female.merge(LTCOPD_female,right_on='Name',left_on='Name')\n",
        "male=LTRC_male.merge(LTCOPD_male,right_on='Name',left_on='Name')\n",
        "\n",
        "LTRC_rx=LTRC_female.merge(LTRC_male,right_on='Name',left_on='Name')\n",
        "LTCOPD_rx=LTCOPD_female.merge(LTCOPD_male,right_on='Name',left_on='Name')\n",
        "\n"
      ],
      "execution_count": null,
      "outputs": []
    },
    {
      "cell_type": "code",
      "metadata": {
        "id": "Qzrx7JCwqs7G"
      },
      "source": [
        "jeff11=[set(LTRC_female.Name),\n",
        "set(LTRC_male.Name),\n",
        "set(LTCOPD_female.Name),\n",
        "set(LTCOPD_male.Name)]\n",
        "\n",
        "plt.figure(figsize=(20, 10))\n",
        "species_names=['LTRC_F','LTRC_M','LTCOPD_F','LTCOPD_M']\n",
        "\n",
        "supervenn(jeff11, species_names, rotate_col_annotations=True)#,\n",
        "          # col_annotations_area_height=1.2, sets_ordering='minimize gaps',\n",
        "          # min_width_for_annotation=180)"
      ],
      "execution_count": null,
      "outputs": []
    },
    {
      "cell_type": "code",
      "metadata": {
        "id": "1GVK1YNZtyss"
      },
      "source": [
        "jeff33=[set(LTRC_female.Name),\n",
        "set(LTRC_male.Name),\n",
        "set(LTCOPD_female.Name),\n",
        "set(LTCOPD_male.Name),\n",
        "set(sex_tf_diffA.sort_values(by='Fdiff')['TF'].values[0:50]),\n",
        "set(sex_tf_diffA.sort_values(by='Fdiff')['TF'].values[586:636]),\n",
        "set(sex_tf_diffA.sort_values(by='Mdiff')['TF'].values[0:50]),\n",
        "set(sex_tf_diffA.sort_values(by='Mdiff')['TF'].values[586:636]),\n",
        "set(sex_tf_diffB.sort_values(by='Fdiff')['TF'].values[0:50]),\n",
        "set(sex_tf_diffB.sort_values(by='Fdiff')['TF'].values[586:636]),\n",
        "set(sex_tf_diffB.sort_values(by='Mdiff')['TF'].values[0:50]),\n",
        "set(sex_tf_diffB.sort_values(by='Mdiff')['TF'].values[586:636])]"
      ],
      "execution_count": null,
      "outputs": []
    },
    {
      "cell_type": "code",
      "metadata": {
        "id": "hU0DVKVb-RZA"
      },
      "source": [
        "plt.figure(figsize=(20, 10))\n",
        "species_names=['LTRC_F_io','LTRC_M_io','LTCOPD_F_io','LTCOPD_M_io',\n",
        "               'LTCOPD_F_up','LTCOPD_F_down','LTCOPD_M_up','LTCOPD_M_down',\n",
        "               'LTRC_F_down','LTRC_F_up','LTCOPD_M_down','LTRC_M_up',]\n",
        "\n",
        "supervenn(jeff33, species_names, rotate_col_annotations=True)#,\n",
        "          # col_annotations_area_height=1.2, sets_ordering='minimize gaps',\n",
        "          # min_width_for_annotation=180)"
      ],
      "execution_count": null,
      "outputs": []
    },
    {
      "cell_type": "markdown",
      "metadata": {
        "id": "VhN6EZrY8PyV"
      },
      "source": [
        "#Diff Exp"
      ]
    },
    {
      "cell_type": "code",
      "metadata": {
        "id": "Zzhk7VQzEGIC"
      },
      "source": [
        "ltrc_F_copd=pd.read_csv('drive/My Drive/harvard/LARGE_COPD/F_LTRC_de_061821.txt',sep='\\t')#,names=['ensemble','AveExpr','logFC','P.Value','adj.P.Val'],skiprows=1)\n",
        "ltrc_M_copd=pd.read_csv('drive/My Drive/harvard/LARGE_COPD/M_LTRC_de_061821.txt',sep='\\t')#,names=['ensemble','AveExpr','logFC','P.Value','adj.P.Val'],skiprows=1)\n",
        "ltrc_genes=pd.read_csv('drive/My Drive/harvard/LARGE_COPD/LTRC_genes_chr.txt',sep='\\t',names=['ensemble','ID','chr'],skiprows=1)\n",
        "ltrc_F_copd.index=(ltrc_F_copd.index).str.split('.').str[0].tolist()\n",
        "ltrc_M_copd.index=(ltrc_M_copd.index).str.split('.').str[0].tolist()\n",
        "ltrc_F_copd=ltrc_F_copd.merge(ltrc_genes,left_index=True,right_on='ensemble')\n",
        "ltrc_M_copd=ltrc_M_copd.merge(ltrc_genes,left_index=True,right_on='ensemble')\n",
        "# ltrc_F_copd['ID']=ltrc_F_copd.index\n",
        "# ltrc_M_copd['ID']=ltrc_M_copd.index\n",
        "\n",
        "\n",
        "ltcopd_F_copd=pd.read_csv('drive/My Drive/harvard/LARGE_COPD/F_LTCOPD_de_062221.txt',sep='\\t')\n",
        "ltcopd_M_copd=pd.read_csv('drive/My Drive/harvard/LARGE_COPD/M_LTCOPD_de_062221.txt',sep='\\t')#,nrows=1500"
      ],
      "execution_count": null,
      "outputs": []
    },
    {
      "cell_type": "code",
      "metadata": {
        "id": "-844Av5t-IE1"
      },
      "source": [
        "from natsort import index_natsorted\n",
        "plt.figure(figsize=(20,5))\n",
        "# print(len(ltrc_M_copd.chr[ltrc_M_copd['adj.P.Val']<0.01]))\n",
        "# ltrc_M_copd['chrm']=ltrc_M_copd.chr.str.split('chr').str[1].tolist()\n",
        "cc=(ltrc_M_copd[ltrc_M_copd['adj.P.Val']<0.01])\n",
        "cc=cc.sort_values(by=\"chr\",key=lambda x: np.argsort(index_natsorted(cc[\"chr\"])))\n",
        "# cc.sort(lambda x,y: x-y, key=lambda x: Set_Chr_Nr_(x))#_values()\n",
        "print(len(cc))\n",
        "pp=len(np.unique(cc.chr))\n",
        "zz=plt.hist(cc.chr,bins=pp)"
      ],
      "execution_count": null,
      "outputs": []
    },
    {
      "cell_type": "code",
      "metadata": {
        "id": "jxwBcmoQ9y7y"
      },
      "source": [
        "# from natsort import index_natsorted\n",
        "plt.figure(figsize=(20,5))\n",
        "# print(len(ltrc_M_copd.chr[ltrc_M_copd['adj.P.Val']<0.01]))\n",
        "# ltrc_M_copd['chrm']=ltrc_M_copd.chr.str.split('chr').str[1].tolist()\n",
        "cc=(ltrc_F_copd[ltrc_F_copd['adj.P.Val']<0.01])\n",
        "cc=cc.sort_values(by=\"chr\",key=lambda x: np.argsort(index_natsorted(cc[\"chr\"])))\n",
        "# cc.sort(lambda x,y: x-y, key=lambda x: Set_Chr_Nr_(x))#_values()\n",
        "print(len(cc))\n",
        "pp=len(np.unique(cc.chr))\n",
        "zz=plt.hist(cc.chr,bins=pp)"
      ],
      "execution_count": null,
      "outputs": []
    },
    {
      "cell_type": "code",
      "metadata": {
        "id": "607g8IXvCwLd"
      },
      "source": [
        "cc"
      ],
      "execution_count": null,
      "outputs": []
    },
    {
      "cell_type": "code",
      "metadata": {
        "id": "BVTtKsphB0Iq"
      },
      "source": [
        "from natsort import index_natsorted\n",
        "plt.figure(figsize=(20,5))\n",
        "# print(len(ltrc_M_copd.chr[ltrc_M_copd['adj.P.Val']<0.01]))\n",
        "# ltrc_M_copd['chrm']=ltrc_M_copd.chr.str.split('chr').str[1].tolist()\n",
        "cc=(ltcopd_F_copd[ltcopd_F_copd['adj.P.Val']<0.05])\n",
        "# cc=cc.sort_values(by=\"chr\",key=lambda x: np.argsort(index_natsorted(cc[\"chr\"])))\n",
        "# cc.sort(lambda x,y: x-y, key=lambda x: Set_Chr_Nr_(x))#_values()\n",
        "print(len(cc))\n",
        "# pp=len(np.unique(cc.chr))\n",
        "zz=plt.hist(cc['adj.P.Val'],bins=50)"
      ],
      "execution_count": null,
      "outputs": []
    },
    {
      "cell_type": "code",
      "metadata": {
        "id": "0I5XDue7B0Nm"
      },
      "source": [
        "from natsort import index_natsorted\n",
        "plt.figure(figsize=(20,5))\n",
        "# print(len(ltrc_M_copd.chr[ltrc_M_copd['adj.P.Val']<0.01]))\n",
        "# ltrc_M_copd['chrm']=ltrc_M_copd.chr.str.split('chr').str[1].tolist()\n",
        "cc=(ltcopd_M_copd[ltcopd_M_copd['adj.P.Val']<0.05])\n",
        "# cc=cc.sort_values(by=\"chr\",key=lambda x: np.argsort(index_natsorted(cc[\"chr\"])))\n",
        "# cc.sort(lambda x,y: x-y, key=lambda x: Set_Chr_Nr_(x))#_values()\n",
        "print(len(cc))\n",
        "# pp=len(np.unique(cc.chr))\n",
        "zz=plt.hist(cc['adj.P.Val'],bins=50)"
      ],
      "execution_count": null,
      "outputs": []
    },
    {
      "cell_type": "code",
      "metadata": {
        "id": "ViusNN8D9B--"
      },
      "source": [
        "female_DE=ltrc_F_copd.merge(ltcopd_F_copd,on='ID')\n",
        "male_DE=ltrc_M_copd.merge(ltcopd_M_copd,on='ID')\n",
        "female_DE=female_DE.dropna()\n",
        "male_DE=male_DE.dropna()\n",
        "[len(male_DE),len(female_DE)]"
      ],
      "execution_count": null,
      "outputs": []
    },
    {
      "cell_type": "code",
      "metadata": {
        "id": "Cg_wHr3I7XeA"
      },
      "source": [
        "!pip install chart_studio\n",
        "import chart_studio.plotly as py\n",
        "import plotly.graph_objects as go\n",
        "\n",
        "import plotly.io as pio\n",
        "pio.renderers.default='notebook'\n",
        "import plotly"
      ],
      "execution_count": null,
      "outputs": []
    },
    {
      "cell_type": "code",
      "metadata": {
        "id": "b026LkmbgHEC"
      },
      "source": [
        "plt.figure(figsize=(5,5))\n",
        "plt.scatter(male_DE['AveExpr_x'],male_DE['AveExpr_y'],label='male'),\n",
        "plt.scatter(female_DE['AveExpr_x'],female_DE['AveExpr_y'],label='female')\n",
        "plt.legend(loc='best')\n",
        "plt.ylim(0,14)\n",
        "plt.xlim(0,14)\n",
        "# plt.ylim(-.4,0)\n",
        "# plt.xlim(-.4,0)\n",
        "plt.plot([0, 14], [0, 14], 'k--')\n",
        "plt.xlabel('LTRC Avg_Expr')\n",
        "plt.ylabel('LTCOPD Avg_Expr')"
      ],
      "execution_count": null,
      "outputs": []
    },
    {
      "cell_type": "code",
      "metadata": {
        "id": "t-0KHK0jSgpc"
      },
      "source": [
        "trace_men = go.Scatter(x=male_DE['AveExpr_x'],\n",
        "                  y=male_DE['AveExpr_y'],text=male_DE['ID'],\n",
        "                  name='male',mode='markers',\n",
        "                  marker=dict(color='#A2D5F2'))\n",
        "\n",
        "trace_women = go.Scatter(x=female_DE['AveExpr_x'],\n",
        "                y=female_DE['AveExpr_y'],text=female_DE['ID'],\n",
        "                name='female',mode='markers',\n",
        "                marker=dict(color='#ffcdd2'))\n",
        "\n",
        "data = [trace_men, trace_women]\n",
        "\n",
        "layout = go.Layout(title=\"avg_exp\",\n",
        "                xaxis=dict(title='LTRC avg_exp'),\n",
        "                yaxis=dict(title='LTCOPD avg_exp'))\n",
        "\n",
        "fig = go.Figure(data=data, layout=layout,layout_yaxis_range=[0,14],layout_xaxis_range=[0,14])\n",
        "fig.add_trace(go.Scatter(\n",
        "    x=[0, 14],\n",
        "    y=[0, 14],name='',\n",
        "))\n",
        "fig.update_layout(\n",
        "    autosize=False,\n",
        "    width=500,\n",
        "    height=500)\n",
        "fig.show(renderer=\"colab\")"
      ],
      "execution_count": null,
      "outputs": []
    },
    {
      "cell_type": "code",
      "metadata": {
        "id": "jqflOBXwkLR8"
      },
      "source": [
        "plt.figure(figsize=(5,5))\n",
        "plt.scatter(male_DE['P.Value_x'],male_DE['P.Value_y'],label='male'),\n",
        "plt.scatter(female_DE['P.Value_x'],female_DE['P.Value_y'],label='female')\n",
        "plt.legend(loc='best')\n",
        "\n",
        "plt.plot([0, 0.02], [0, .02], 'k--')\n",
        "plt.ylim(0,.025)\n",
        "plt.xlim(0,.0015)\n",
        "plt.xlabel('LTRC P.val')\n",
        "plt.ylabel('LTCOPD P.val')"
      ],
      "execution_count": null,
      "outputs": []
    },
    {
      "cell_type": "code",
      "metadata": {
        "id": "3j9zQ3XtkSeh"
      },
      "source": [
        "plt.figure(figsize=(5,5))\n",
        "plt.scatter(male_DE['adj.P.Val_x'],male_DE['adj.P.Val_y'],label='male'),\n",
        "plt.scatter(female_DE['adj.P.Val_x'],female_DE['adj.P.Val_y'],label='female')\n",
        "plt.legend(loc='best')\n",
        "# plt.ylim(0,14)\n",
        "# plt.xlim(0,14)\n",
        "plt.plot([0, .5], [0, .5], 'k--')\n",
        "plt.xlabel('LTRC adj.p.val')\n",
        "plt.ylabel('LTCOPD adj.p.val')"
      ],
      "execution_count": null,
      "outputs": []
    },
    {
      "cell_type": "code",
      "metadata": {
        "id": "0Kb21Pe2gHJg"
      },
      "source": [
        "plt.figure(figsize=(5,5))\n",
        "plt.scatter(male_DE['t_x'],male_DE['t_y'],label='male'),\n",
        "plt.scatter(female_DE['t_x'],female_DE['t_y'],label='female')\n",
        "plt.legend(loc='best')\n",
        "# plt.ylim(-.4,0)\n",
        "# plt.xlim(-.4,0)\n",
        "plt.plot([-6, 6], [-6, 6], 'k--')\n",
        "plt.xlabel('LTRC direction of effect (t)')\n",
        "plt.ylabel('LTCOPD direction of effect (t)')"
      ],
      "execution_count": null,
      "outputs": []
    },
    {
      "cell_type": "code",
      "metadata": {
        "id": "Um7BJT-s3i-5"
      },
      "source": [
        ""
      ],
      "execution_count": null,
      "outputs": []
    },
    {
      "cell_type": "code",
      "metadata": {
        "id": "RH2cK4dSS8Xp"
      },
      "source": [
        "trace_men = go.Scatter(x=male_DE['t_x'],\n",
        "                  y=-male_DE['t_y'],text=male_DE['ID'],\n",
        "                  name='male',mode='markers',\n",
        "                  marker=dict(color='#A2D5F2',size=np.abs(np.log((male_DE['adj.P.Val_x']*male_DE['adj.P.Val_y'])))))\n",
        "\n",
        "trace_women = go.Scatter(x=female_DE['t_x'],\n",
        "                y=-female_DE['t_y'],text=female_DE['ID'],\n",
        "                name='female',mode='markers',\n",
        "                marker=dict(color='#ffcdd2',size=np.abs(np.log(female_DE['adj.P.Val_x']*female_DE['adj.P.Val_y']))))\n",
        "\n",
        "data = [trace_men, trace_women]\n",
        "\n",
        "layout = go.Layout(title=\"direction & magnitude of effect \",\n",
        "                xaxis=dict(title='LTRC t'),\n",
        "                yaxis=dict(title='LTCOPD t'))\n",
        "\n",
        "fig = go.Figure(data=data, layout=layout,layout_yaxis_range=[-6,6],layout_xaxis_range=[-6,6])\n",
        "fig.add_trace(go.Scatter(\n",
        "    x=[-6, 6],\n",
        "    y=[-6, 6],name='',\n",
        "))\n",
        "fig.update_layout(#title={ 'xanchor': 'center'},#'text': 'direction & magnitude of effect '},#\\n (size=abs(log(male p-val * female p-val)'},\n",
        "    autosize=False,\n",
        "    width=500,\n",
        "    height=500)\n",
        "fig.show(renderer=\"colab\")"
      ],
      "execution_count": null,
      "outputs": []
    },
    {
      "cell_type": "code",
      "metadata": {
        "id": "KG6AaaC8-9VH"
      },
      "source": [
        "LTRC_men = go.Scatter(x=male_DE['B_x'],\n",
        "                  y=male_DE['P.Value_x'],text=male_DE['ID'],\n",
        "                  name='LTRC male',mode='markers',\n",
        "                  marker=dict(color='#A2D5F2'),yaxis='y2')#,size=np.abs(np.log(male_DE['adj.P.Val_x']))),yaxis='y2')\n",
        "\n",
        "LTRC_women = go.Scatter(x=female_DE['B_x'],\n",
        "                y=female_DE['P.Value_x'],text=female_DE['ID'],\n",
        "                name='LTRC female',mode='markers',\n",
        "                marker=dict(color='#ffcdd2'),yaxis='y2')#,size=np.abs(np.log(female_DE['adj.P.Val_x']))))\n",
        "\n",
        "\n",
        "LTCOPD_men = go.Scatter(x=male_DE['B_y'],\n",
        "                  y=male_DE['P.Value_y'],text=male_DE['ID'],\n",
        "                  name='LTCOPD male',mode='markers',\n",
        "                  marker=dict(color='#A2D5F2',symbol='square-dot'))#,size=(male_DE['adj.P.Val_y'])))\n",
        "\n",
        "LTCOPD_women = go.Scatter(x=female_DE['B_y'],\n",
        "                y=female_DE['P.Value_y'],text=female_DE['ID'],\n",
        "                name='LTCOPD female',mode='markers',\n",
        "                marker=dict(color='#ffcdd2',symbol='square-dot'))#,size=(female_DE['adj.P.Val_y']))))\n",
        "\n",
        "\n",
        "\n",
        "data = [LTRC_men, LTRC_women,LTCOPD_men,LTCOPD_women]\n",
        "\n",
        "layout = go.Layout(title=\"avg_exp\",\n",
        "                xaxis=dict(title='direcion of effect (t)'),\n",
        "                yaxis=dict(title='p-val'),\n",
        "                yaxis2=dict(title='log p-val',type='log',overlaying='y',side='right'))\n",
        "\n",
        "fig = go.Figure(data=data, layout=layout)#,layout_yaxis_range=[-6,6],layout_xaxis_range=[-6,6])\n",
        "# fig.add_trace(go.Scatter(\n",
        "#     x=[-6, 6],\n",
        "#     y=[-6, 6],name='',\n",
        "# ))\n",
        "fig.update_layout(\n",
        "    autosize=False,\n",
        "    width=500,\n",
        "    height=500)\n",
        "fig.show(renderer=\"colab\")\n",
        "\n",
        "# plotly.sign_in('dcolinmorgan', 'nAZ6TvqQqkrkAN7lpV6v')\n",
        "# plot_url = plotly.plotly.plot(fig)"
      ],
      "execution_count": null,
      "outputs": []
    },
    {
      "cell_type": "code",
      "metadata": {
        "id": "9iwVMgPlEfRT"
      },
      "source": [
        "trace_men = go.Scatter(x=male_DE['P.Value_x'],\n",
        "                  y=male_DE['P.Value_y'],text=male_DE['ID'],\n",
        "                  name='male',mode='markers',\n",
        "                  marker=dict(color='#A2D5F2',symbol=((male_DE['t_x']*male_DE['t_y'])>1)))\n",
        "\n",
        "trace_women = go.Scatter(x=female_DE['P.Value_x'],\n",
        "                y=female_DE['P.Value_y'],text=female_DE['ID'],\n",
        "                name='female',mode='markers',\n",
        "                marker=dict(color='#ffcdd2',symbol=((female_DE['t_x']*female_DE['t_y'])>1)))\n",
        "\n",
        "data = [trace_men, trace_women]\n",
        "\n",
        "layout = go.Layout(title=\"direction & magnitude of effect \",\n",
        "                xaxis=dict(title='LTRC p-val'),\n",
        "                yaxis=dict(title='LTCOPD p-val'))\n",
        "\n",
        "fig = go.Figure(data=data, layout=layout)#,layout_yaxis_range=[-6,6],layout_xaxis_range=[-6,6])\n",
        "# fig.add_trace(go.Scatter(\n",
        "#     x=[-6, 6],\n",
        "#     y=[-6, 6],name='',\n",
        "# ))\n",
        "fig.update_layout(#title={ 'xanchor': 'center'},#'text': 'direction & magnitude of effect '},#\\n (size=abs(log(male p-val * female p-val)'},\n",
        "    autosize=False,\n",
        "    width=500,\n",
        "    height=500)\n",
        "fig.show(renderer=\"colab\")"
      ],
      "execution_count": null,
      "outputs": []
    },
    {
      "cell_type": "code",
      "metadata": {
        "id": "I_EalmlKOFZR"
      },
      "source": [
        "jeff3=[set(ltcopd_F_copd['ID']),\n",
        "set(ltcopd_M_copd['ID']),\n",
        "set(ltrc_F_copd['ID']),\n",
        "set(ltrc_M_copd['ID'])]"
      ],
      "execution_count": null,
      "outputs": []
    },
    {
      "cell_type": "code",
      "metadata": {
        "id": "int0xYXxOs5U"
      },
      "source": [
        "plt.figure(figsize=(20, 10))\n",
        "species_names=['ltcopd_Fdiff','ltcopd_Mdiff','ltrc_Fdiff','ltrc_Mdiff']\n",
        "\n",
        "supervenn(jeff3, species_names, rotate_col_annotations=True)#,\n",
        "          # col_annotations_area_height=1.2, sets_ordering='minimize gaps',\n",
        "          # min_width_for_annotation=180)"
      ],
      "execution_count": null,
      "outputs": []
    },
    {
      "cell_type": "code",
      "metadata": {
        "id": "q9rS-EORYq6j"
      },
      "source": [
        "jeff4=pd.DataFrame([ltcopd_F_copd.sort_values('P.Value')['ID'].values[0:100],\n",
        "                    ltcopd_M_copd.sort_values('P.Value')['ID'].values[0:100],\n",
        "                    ltrc_F_copd.sort_values('P.Value')['ID'].values[0:100],\n",
        "                    ltrc_M_copd.sort_values('P.Value')['ID'].values[0:100]])\n",
        "\n",
        "jeff4.T"
      ],
      "execution_count": null,
      "outputs": []
    },
    {
      "cell_type": "code",
      "metadata": {
        "id": "c6bTbuflZJMD"
      },
      "source": [
        "\n",
        "pp=jeff4.iloc[3].dropna().tolist()\n",
        "\n",
        "print(*pp, sep='\\n')"
      ],
      "execution_count": null,
      "outputs": []
    },
    {
      "cell_type": "code",
      "metadata": {
        "id": "Qw3TTOszZllD"
      },
      "source": [
        "jeff22=[set(LTRC_female.Name),\n",
        "set(LTRC_male.Name),\n",
        "set(LTCOPD_female.Name),\n",
        "set(LTCOPD_male.Name),\n",
        "\n",
        "set(ltcopd_F_copd['ID'][1:100]),\n",
        "set(ltcopd_M_copd['ID'][1:100]),\n",
        "set(ltrc_F_copd['ID'][1:100]),\n",
        "set(ltrc_M_copd['ID'][1:100])]"
      ],
      "execution_count": null,
      "outputs": []
    },
    {
      "cell_type": "code",
      "metadata": {
        "id": "RIlB8f8ruCq6"
      },
      "source": [
        "plt.figure(figsize=(20, 10))\n",
        "species_names=['reg_LTRC_F','reg_LTRC_M','reg_LTCOPD_F','reg_LTCOPD_M','io_ltcopd_F','io_ltcopd_F','io_ltrc_large_M','io_ltrc_M',]\n",
        "supervenn(jeff22, species_names, rotate_col_annotations=True)#,\n",
        "          # col_annotations_area_height=1.2, sets_ordering='minimize gaps',\n",
        "          # min_width_for_annotation=180)"
      ],
      "execution_count": null,
      "outputs": []
    },
    {
      "cell_type": "code",
      "metadata": {
        "id": "dB4RPTfQuxIt"
      },
      "source": [
        "j=-1\n",
        "jeff=pd.DataFrame()\n",
        "# titleArray=['Binary network 100 genes','Continous network 1 100 genes','Continous network 2 100 genes','Continous network 3 100 genes']\n",
        "# traces= glob.glob('drive/My Drive/harvard/LARGE_COPD/*_de_061821.txt')\n",
        "# traces=np.sort(traces)\n",
        "for j in range(0,4):\n",
        "\n",
        "\n",
        "    # for net in #[KRCCNetBin1,KRCCNetCont1,KRCCNetCont2,KRCCNetCont3]:\n",
        "    # j=j+1\n",
        "    # if '.txt' in(file):\n",
        "        # net=pd.read_csv(file,sep='\\t',usecols=[3,8,9])\n",
        "    # else:\n",
        "    #     net=pd.read_csv(file,sep=',',usecols=[3,8,9])\n",
        "    # net=net.sort_values('adj.P.Val').dropna()[0:500]\n",
        "    # c=net['GencodeBasicV12_NAME'].dropna().astype(object)\n",
        "    c=jeff4.T[j].dropna().astype(object)\n",
        "    genes_str='\\n'.join(c)\n",
        "    ENRICHR_URL = 'http://maayanlab.cloud/Enrichr/addList'\n",
        "    query_string = '?userListId=%s&backgroundType=%s'\n",
        "\n",
        "    description = 'Example gene list'\n",
        "    payload = {\n",
        "        'list': (None, genes_str),\n",
        "        'description': (None, description)\n",
        "    }\n",
        "\n",
        "    response = requests.post(ENRICHR_URL, files=payload)\n",
        "    if not response.ok:\n",
        "        raise Exception('Error analyzing gene list')\n",
        "\n",
        "    data = json.loads(response.text)\n",
        "\n",
        "    user_list_id = data['userListId']\n",
        "    gene_set_library = 'GO_Biological_Process_2018'\n",
        "    ENRICHR_URL = 'http://maayanlab.cloud/Enrichr/enrich'\n",
        "    response = requests.get(\n",
        "        ENRICHR_URL + query_string % (user_list_id, gene_set_library)\n",
        "     )\n",
        "    if not response.ok:\n",
        "        raise Exception('Error fetching enrichment results')\n",
        "\n",
        "    data = json.loads(response.text);\n",
        "    processBio=[]\n",
        "    pvals=[]\n",
        "    for i in range(1,10):\n",
        "        processBio.append(data['GO_Biological_Process_2018'][i][1])\n",
        "        pvals.append(data['GO_Biological_Process_2018'][i][2])\n",
        "    plt.figure()\n",
        "    y_pos = np.arange(len(processBio))\n",
        "    plt.barh(y_pos, -np.log10(pvals))\n",
        "    plt.yticks(ticks=y_pos,labels=processBio);\n",
        "    plt.gca().invert_yaxis()  \n",
        "    plt.xlabel('-log(p-value)')\n",
        "#     plt.title(file.split('/')[3])\n",
        "#     pd.DataFrame(processBio).to_csv('~/analyses/LTRC/bench/GEO/'+file.split('/')[3])\n",
        "# #     except ValueError:\n",
        "# #         pass\n",
        "\n",
        "#     jeff=jeff.append(['~/analyses/LTRC/bench/GEO/'+file.split('/')[3]])\n",
        "#     jeff=jeff.append(pd.DataFrame(processBio))\n",
        "# jeff.to_csv('~/analyses/LTRC/bench/overall_enrich.txt',sep='\\t')\n"
      ],
      "execution_count": null,
      "outputs": []
    },
    {
      "cell_type": "code",
      "metadata": {
        "id": "AMPbEKzXt-4g"
      },
      "source": [
        ""
      ],
      "execution_count": null,
      "outputs": []
    }
  ]
}