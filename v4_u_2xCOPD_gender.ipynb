{
  "nbformat": 4,
  "nbformat_minor": 0,
  "metadata": {
    "colab": {
      "name": "v4_u_2xCOPD_gender",
      "provenance": [],
      "collapsed_sections": [
        "s__pesv2DbAt",
        "ZE7LZlKhENto",
        "T3jSwAJVRT71"
      ],
      "machine_shape": "hm",
      "include_colab_link": true
    },
    "kernelspec": {
      "display_name": "Python 3",
      "name": "python3"
    },
    "accelerator": "GPU"
  },
  "cells": [
    {
      "cell_type": "markdown",
      "metadata": {
        "id": "view-in-github",
        "colab_type": "text"
      },
      "source": [
        "<a href=\"https://colab.research.google.com/github/dcolinmorgan/LTCOPDsex/blob/master/v4_u_2xCOPD_gender.ipynb\" target=\"_parent\"><img src=\"https://colab.research.google.com/assets/colab-badge.svg\" alt=\"Open In Colab\"/></a>"
      ]
    },
    {
      "cell_type": "code",
      "metadata": {
        "id": "tqU5e6cD0X1i"
      },
      "source": [
        "# !pip install s3fs\n",
        "import os,time\n",
        "# import s3fs\n",
        "import pandas as pd\n",
        "import numpy as np\n",
        "from psutil import *\n",
        "import matplotlib.pyplot as plt\n",
        "import gc\n",
        "import random\n",
        "from scipy import stats\n",
        "import seaborn as sns\n",
        "from IPython.display import Image\n",
        "from scipy.stats import zscore\n",
        "timestr = time.strftime(\"%Y%m%d\")\n",
        "import requests \n",
        "import json"
      ],
      "execution_count": 1,
      "outputs": []
    },
    {
      "cell_type": "code",
      "metadata": {
        "id": "QVqEHJuQ0bOd",
        "colab": {
          "base_uri": "https://localhost:8080/"
        },
        "outputId": "c8ce8855-6a1a-413e-9bbd-45d52fddf1e3"
      },
      "source": [
        "from google.colab import drive\n",
        "drive.mount('/content/drive')"
      ],
      "execution_count": 2,
      "outputs": [
        {
          "output_type": "stream",
          "text": [
            "Mounted at /content/drive\n"
          ],
          "name": "stdout"
        }
      ]
    },
    {
      "cell_type": "code",
      "metadata": {
        "id": "BP_2NmhEC-xH"
      },
      "source": [
        "# data=np.load('/content/drive/MyDrive/LARGE_PANDA/LTRCcase.npy')\n",
        "# plt.hist(data.flatten())"
      ],
      "execution_count": null,
      "outputs": []
    },
    {
      "cell_type": "code",
      "metadata": {
        "id": "OxqvrbnT0bFB",
        "colab": {
          "base_uri": "https://localhost:8080/"
        },
        "outputId": "0edf1550-c733-474d-8c0f-7faa4f6e3dda"
      },
      "source": [
        "# !git clone https://github.com/netZoo/netZooPy.git\n",
        "!git clone --single-branch --branch devel https://github.com/netZoo/netZooPy.git\n",
        "os.chdir('netZooPy')\n",
        "!pip install -e ./"
      ],
      "execution_count": 3,
      "outputs": [
        {
          "output_type": "stream",
          "text": [
            "Cloning into 'netZooPy'...\n",
            "remote: Enumerating objects: 4599, done.\u001b[K\n",
            "remote: Counting objects: 100% (392/392), done.\u001b[K\n",
            "remote: Compressing objects: 100% (231/231), done.\u001b[K\n",
            "remote: Total 4599 (delta 251), reused 261 (delta 146), pack-reused 4207\u001b[K\n",
            "Receiving objects: 100% (4599/4599), 123.82 MiB | 26.58 MiB/s, done.\n",
            "Resolving deltas: 100% (2249/2249), done.\n",
            "Obtaining file:///content/netZooPy\n",
            "Requirement already satisfied: pandas in /usr/local/lib/python3.7/dist-packages (from netZooPy==0.8) (1.1.5)\n",
            "Requirement already satisfied: numpy in /usr/local/lib/python3.7/dist-packages (from netZooPy==0.8) (1.19.5)\n",
            "Requirement already satisfied: networkx in /usr/local/lib/python3.7/dist-packages (from netZooPy==0.8) (2.5.1)\n",
            "Requirement already satisfied: matplotlib in /usr/local/lib/python3.7/dist-packages (from netZooPy==0.8) (3.2.2)\n",
            "Requirement already satisfied: scipy in /usr/local/lib/python3.7/dist-packages (from netZooPy==0.8) (1.4.1)\n",
            "Collecting python-igraph\n",
            "\u001b[?25l  Downloading https://files.pythonhosted.org/packages/67/aa/2c1056725193acda9608f8a9e036aa7bfbc705f881764457cf463648f4a5/python_igraph-0.9.6-cp37-cp37m-manylinux2010_x86_64.whl (3.2MB)\n",
            "\u001b[K     |████████████████████████████████| 3.2MB 7.8MB/s \n",
            "\u001b[?25hRequirement already satisfied: joblib in /usr/local/lib/python3.7/dist-packages (from netZooPy==0.8) (1.0.1)\n",
            "Requirement already satisfied: statsmodels in /usr/local/lib/python3.7/dist-packages (from netZooPy==0.8) (0.10.2)\n",
            "Requirement already satisfied: pytz>=2017.2 in /usr/local/lib/python3.7/dist-packages (from pandas->netZooPy==0.8) (2018.9)\n",
            "Requirement already satisfied: python-dateutil>=2.7.3 in /usr/local/lib/python3.7/dist-packages (from pandas->netZooPy==0.8) (2.8.1)\n",
            "Requirement already satisfied: decorator<5,>=4.3 in /usr/local/lib/python3.7/dist-packages (from networkx->netZooPy==0.8) (4.4.2)\n",
            "Requirement already satisfied: cycler>=0.10 in /usr/local/lib/python3.7/dist-packages (from matplotlib->netZooPy==0.8) (0.10.0)\n",
            "Requirement already satisfied: pyparsing!=2.0.4,!=2.1.2,!=2.1.6,>=2.0.1 in /usr/local/lib/python3.7/dist-packages (from matplotlib->netZooPy==0.8) (2.4.7)\n",
            "Requirement already satisfied: kiwisolver>=1.0.1 in /usr/local/lib/python3.7/dist-packages (from matplotlib->netZooPy==0.8) (1.3.1)\n",
            "Collecting texttable>=1.6.2\n",
            "  Downloading https://files.pythonhosted.org/packages/75/23/8170868d04b153b1b9ed1bb84348212bb4a08f31b292ef9d7f6ea648fd49/texttable-1.6.4-py2.py3-none-any.whl\n",
            "Requirement already satisfied: patsy>=0.4.0 in /usr/local/lib/python3.7/dist-packages (from statsmodels->netZooPy==0.8) (0.5.1)\n",
            "Requirement already satisfied: six>=1.5 in /usr/local/lib/python3.7/dist-packages (from python-dateutil>=2.7.3->pandas->netZooPy==0.8) (1.15.0)\n",
            "Installing collected packages: texttable, python-igraph, netZooPy\n",
            "  Running setup.py develop for netZooPy\n",
            "Successfully installed netZooPy python-igraph-0.9.6 texttable-1.6.4\n"
          ],
          "name": "stdout"
        }
      ]
    },
    {
      "cell_type": "code",
      "metadata": {
        "id": "dVVyHKaL0bIX"
      },
      "source": [
        "import netZooPy\n",
        "from netZooPy.panda import Panda\n",
        "from netZooPy.lioness import Lioness\n",
        "# from netZooPy import condor\n",
        "os.chdir('..')"
      ],
      "execution_count": 4,
      "outputs": []
    },
    {
      "cell_type": "code",
      "metadata": {
        "id": "iX09NjiD0bKc",
        "colab": {
          "base_uri": "https://localhost:8080/"
        },
        "outputId": "78fda7e3-11b3-49b9-b94f-b09c54e261ef"
      },
      "source": [
        "!pip install GEOparse\n",
        "# !pip install pycombat"
      ],
      "execution_count": 5,
      "outputs": [
        {
          "output_type": "stream",
          "text": [
            "Collecting GEOparse\n",
            "\u001b[?25l  Downloading https://files.pythonhosted.org/packages/8b/28/e2e4e3bb168b6d6494c3cee264e351d9b9f8cb3b27a70f4f475a76d90275/GEOparse-2.0.3.tar.gz (278kB)\n",
            "\r\u001b[K     |█▏                              | 10kB 18.2MB/s eta 0:00:01\r\u001b[K     |██▍                             | 20kB 16.4MB/s eta 0:00:01\r\u001b[K     |███▌                            | 30kB 13.4MB/s eta 0:00:01\r\u001b[K     |████▊                           | 40kB 12.7MB/s eta 0:00:01\r\u001b[K     |█████▉                          | 51kB 8.4MB/s eta 0:00:01\r\u001b[K     |███████                         | 61kB 8.6MB/s eta 0:00:01\r\u001b[K     |████████▎                       | 71kB 9.0MB/s eta 0:00:01\r\u001b[K     |█████████▍                      | 81kB 9.8MB/s eta 0:00:01\r\u001b[K     |██████████▋                     | 92kB 9.2MB/s eta 0:00:01\r\u001b[K     |███████████▊                    | 102kB 8.1MB/s eta 0:00:01\r\u001b[K     |█████████████                   | 112kB 8.1MB/s eta 0:00:01\r\u001b[K     |██████████████▏                 | 122kB 8.1MB/s eta 0:00:01\r\u001b[K     |███████████████▎                | 133kB 8.1MB/s eta 0:00:01\r\u001b[K     |████████████████▌               | 143kB 8.1MB/s eta 0:00:01\r\u001b[K     |█████████████████▋              | 153kB 8.1MB/s eta 0:00:01\r\u001b[K     |██████████████████▉             | 163kB 8.1MB/s eta 0:00:01\r\u001b[K     |████████████████████            | 174kB 8.1MB/s eta 0:00:01\r\u001b[K     |█████████████████████▏          | 184kB 8.1MB/s eta 0:00:01\r\u001b[K     |██████████████████████▍         | 194kB 8.1MB/s eta 0:00:01\r\u001b[K     |███████████████████████▌        | 204kB 8.1MB/s eta 0:00:01\r\u001b[K     |████████████████████████▊       | 215kB 8.1MB/s eta 0:00:01\r\u001b[K     |█████████████████████████▉      | 225kB 8.1MB/s eta 0:00:01\r\u001b[K     |███████████████████████████     | 235kB 8.1MB/s eta 0:00:01\r\u001b[K     |████████████████████████████▎   | 245kB 8.1MB/s eta 0:00:01\r\u001b[K     |█████████████████████████████▍  | 256kB 8.1MB/s eta 0:00:01\r\u001b[K     |██████████████████████████████▋ | 266kB 8.1MB/s eta 0:00:01\r\u001b[K     |███████████████████████████████▊| 276kB 8.1MB/s eta 0:00:01\r\u001b[K     |████████████████████████████████| 286kB 8.1MB/s \n",
            "\u001b[?25hRequirement already satisfied: numpy>=1.7 in /usr/local/lib/python3.7/dist-packages (from GEOparse) (1.19.5)\n",
            "Requirement already satisfied: pandas>=0.17 in /usr/local/lib/python3.7/dist-packages (from GEOparse) (1.1.5)\n",
            "Requirement already satisfied: requests>=2.21.0 in /usr/local/lib/python3.7/dist-packages (from GEOparse) (2.23.0)\n",
            "Requirement already satisfied: tqdm>=4.31.1 in /usr/local/lib/python3.7/dist-packages (from GEOparse) (4.41.1)\n",
            "Requirement already satisfied: pytz>=2017.2 in /usr/local/lib/python3.7/dist-packages (from pandas>=0.17->GEOparse) (2018.9)\n",
            "Requirement already satisfied: python-dateutil>=2.7.3 in /usr/local/lib/python3.7/dist-packages (from pandas>=0.17->GEOparse) (2.8.1)\n",
            "Requirement already satisfied: chardet<4,>=3.0.2 in /usr/local/lib/python3.7/dist-packages (from requests>=2.21.0->GEOparse) (3.0.4)\n",
            "Requirement already satisfied: idna<3,>=2.5 in /usr/local/lib/python3.7/dist-packages (from requests>=2.21.0->GEOparse) (2.10)\n",
            "Requirement already satisfied: urllib3!=1.25.0,!=1.25.1,<1.26,>=1.21.1 in /usr/local/lib/python3.7/dist-packages (from requests>=2.21.0->GEOparse) (1.24.3)\n",
            "Requirement already satisfied: certifi>=2017.4.17 in /usr/local/lib/python3.7/dist-packages (from requests>=2.21.0->GEOparse) (2021.5.30)\n",
            "Requirement already satisfied: six>=1.5 in /usr/local/lib/python3.7/dist-packages (from python-dateutil>=2.7.3->pandas>=0.17->GEOparse) (1.15.0)\n",
            "Building wheels for collected packages: GEOparse\n",
            "  Building wheel for GEOparse (setup.py) ... \u001b[?25l\u001b[?25hdone\n",
            "  Created wheel for GEOparse: filename=GEOparse-2.0.3-cp37-none-any.whl size=29066 sha256=5237fbdf87bb4944151565a789f28c2d1ff59adfa5057eb5a0fde0e58a52a916\n",
            "  Stored in directory: /root/.cache/pip/wheels/c6/5e/b4/7109a7b8e8046bd8586349a6ac1a76ef8190d12a61a7b4cf0d\n",
            "Successfully built GEOparse\n",
            "Installing collected packages: GEOparse\n",
            "Successfully installed GEOparse-2.0.3\n"
          ],
          "name": "stdout"
        }
      ]
    },
    {
      "cell_type": "code",
      "metadata": {
        "id": "a2nb5HDJ0bMV",
        "colab": {
          "base_uri": "https://localhost:8080/"
        },
        "outputId": "567f4610-19b2-49a9-af73-9418c6adf0a7"
      },
      "source": [
        "import GEOparse\n",
        "gse = GEOparse.get_GEO(geo=\"GSE76925\", destdir=\"./\")"
      ],
      "execution_count": null,
      "outputs": [
        {
          "output_type": "stream",
          "text": [
            "14-Jul-2021 11:01:36 DEBUG utils - Directory ./ already exists. Skipping.\n",
            "14-Jul-2021 11:01:36 INFO GEOparse - Downloading ftp://ftp.ncbi.nlm.nih.gov/geo/series/GSE76nnn/GSE76925/soft/GSE76925_family.soft.gz to ./GSE76925_family.soft.gz\n",
            "100%|██████████| 70.3M/70.3M [00:02<00:00, 30.0MB/s]\n",
            "14-Jul-2021 11:01:40 DEBUG downloader - Size validation passed\n",
            "14-Jul-2021 11:01:40 DEBUG downloader - Moving /tmp/tmpuqe4_e76 to /content/GSE76925_family.soft.gz\n",
            "14-Jul-2021 11:01:40 DEBUG downloader - Successfully downloaded ftp://ftp.ncbi.nlm.nih.gov/geo/series/GSE76nnn/GSE76925/soft/GSE76925_family.soft.gz\n",
            "14-Jul-2021 11:01:40 INFO GEOparse - Parsing ./GSE76925_family.soft.gz: \n",
            "14-Jul-2021 11:01:40 DEBUG GEOparse - DATABASE: GeoMiame\n",
            "14-Jul-2021 11:01:40 DEBUG GEOparse - SERIES: GSE76925\n",
            "14-Jul-2021 11:01:40 DEBUG GEOparse - PLATFORM: GPL10558\n",
            "14-Jul-2021 11:01:42 DEBUG GEOparse - SAMPLE: GSM2040792\n",
            "14-Jul-2021 11:01:42 DEBUG GEOparse - SAMPLE: GSM2040793\n",
            "14-Jul-2021 11:01:42 DEBUG GEOparse - SAMPLE: GSM2040794\n",
            "14-Jul-2021 11:01:42 DEBUG GEOparse - SAMPLE: GSM2040795\n",
            "14-Jul-2021 11:01:42 DEBUG GEOparse - SAMPLE: GSM2040796\n",
            "14-Jul-2021 11:01:42 DEBUG GEOparse - SAMPLE: GSM2040797\n",
            "14-Jul-2021 11:01:42 DEBUG GEOparse - SAMPLE: GSM2040798\n",
            "14-Jul-2021 11:01:42 DEBUG GEOparse - SAMPLE: GSM2040799\n",
            "14-Jul-2021 11:01:42 DEBUG GEOparse - SAMPLE: GSM2040800\n",
            "14-Jul-2021 11:01:42 DEBUG GEOparse - SAMPLE: GSM2040801\n",
            "14-Jul-2021 11:01:43 DEBUG GEOparse - SAMPLE: GSM2040802\n",
            "14-Jul-2021 11:01:43 DEBUG GEOparse - SAMPLE: GSM2040803\n",
            "14-Jul-2021 11:01:43 DEBUG GEOparse - SAMPLE: GSM2040804\n",
            "14-Jul-2021 11:01:43 DEBUG GEOparse - SAMPLE: GSM2040805\n",
            "14-Jul-2021 11:01:43 DEBUG GEOparse - SAMPLE: GSM2040806\n",
            "14-Jul-2021 11:01:43 DEBUG GEOparse - SAMPLE: GSM2040807\n",
            "14-Jul-2021 11:01:43 DEBUG GEOparse - SAMPLE: GSM2040808\n",
            "14-Jul-2021 11:01:43 DEBUG GEOparse - SAMPLE: GSM2040809\n",
            "14-Jul-2021 11:01:43 DEBUG GEOparse - SAMPLE: GSM2040810\n",
            "14-Jul-2021 11:01:43 DEBUG GEOparse - SAMPLE: GSM2040811\n",
            "14-Jul-2021 11:01:44 DEBUG GEOparse - SAMPLE: GSM2040812\n",
            "14-Jul-2021 11:01:44 DEBUG GEOparse - SAMPLE: GSM2040813\n",
            "14-Jul-2021 11:01:44 DEBUG GEOparse - SAMPLE: GSM2040814\n",
            "14-Jul-2021 11:01:44 DEBUG GEOparse - SAMPLE: GSM2040815\n",
            "14-Jul-2021 11:01:44 DEBUG GEOparse - SAMPLE: GSM2040816\n",
            "14-Jul-2021 11:01:44 DEBUG GEOparse - SAMPLE: GSM2040817\n",
            "14-Jul-2021 11:01:44 DEBUG GEOparse - SAMPLE: GSM2040818\n",
            "14-Jul-2021 11:01:44 DEBUG GEOparse - SAMPLE: GSM2040819\n",
            "14-Jul-2021 11:01:44 DEBUG GEOparse - SAMPLE: GSM2040820\n",
            "14-Jul-2021 11:01:44 DEBUG GEOparse - SAMPLE: GSM2040821\n",
            "14-Jul-2021 11:01:44 DEBUG GEOparse - SAMPLE: GSM2040822\n",
            "14-Jul-2021 11:01:45 DEBUG GEOparse - SAMPLE: GSM2040823\n",
            "14-Jul-2021 11:01:45 DEBUG GEOparse - SAMPLE: GSM2040824\n",
            "14-Jul-2021 11:01:45 DEBUG GEOparse - SAMPLE: GSM2040825\n",
            "14-Jul-2021 11:01:45 DEBUG GEOparse - SAMPLE: GSM2040826\n",
            "14-Jul-2021 11:01:45 DEBUG GEOparse - SAMPLE: GSM2040827\n",
            "14-Jul-2021 11:01:45 DEBUG GEOparse - SAMPLE: GSM2040828\n",
            "14-Jul-2021 11:01:45 DEBUG GEOparse - SAMPLE: GSM2040829\n",
            "14-Jul-2021 11:01:45 DEBUG GEOparse - SAMPLE: GSM2040830\n",
            "14-Jul-2021 11:01:45 DEBUG GEOparse - SAMPLE: GSM2040831\n",
            "14-Jul-2021 11:01:45 DEBUG GEOparse - SAMPLE: GSM2040832\n",
            "14-Jul-2021 11:01:46 DEBUG GEOparse - SAMPLE: GSM2040833\n",
            "14-Jul-2021 11:01:46 DEBUG GEOparse - SAMPLE: GSM2040834\n",
            "14-Jul-2021 11:01:46 DEBUG GEOparse - SAMPLE: GSM2040835\n",
            "14-Jul-2021 11:01:46 DEBUG GEOparse - SAMPLE: GSM2040836\n",
            "14-Jul-2021 11:01:46 DEBUG GEOparse - SAMPLE: GSM2040837\n",
            "14-Jul-2021 11:01:46 DEBUG GEOparse - SAMPLE: GSM2040838\n",
            "14-Jul-2021 11:01:46 DEBUG GEOparse - SAMPLE: GSM2040839\n",
            "14-Jul-2021 11:01:46 DEBUG GEOparse - SAMPLE: GSM2040840\n",
            "14-Jul-2021 11:01:46 DEBUG GEOparse - SAMPLE: GSM2040841\n",
            "14-Jul-2021 11:01:46 DEBUG GEOparse - SAMPLE: GSM2040842\n",
            "14-Jul-2021 11:01:46 DEBUG GEOparse - SAMPLE: GSM2040843\n",
            "14-Jul-2021 11:01:47 DEBUG GEOparse - SAMPLE: GSM2040844\n",
            "14-Jul-2021 11:01:47 DEBUG GEOparse - SAMPLE: GSM2040845\n",
            "14-Jul-2021 11:01:47 DEBUG GEOparse - SAMPLE: GSM2040846\n",
            "14-Jul-2021 11:01:47 DEBUG GEOparse - SAMPLE: GSM2040847\n",
            "14-Jul-2021 11:01:47 DEBUG GEOparse - SAMPLE: GSM2040848\n",
            "14-Jul-2021 11:01:47 DEBUG GEOparse - SAMPLE: GSM2040849\n"
          ],
          "name": "stderr"
        }
      ]
    },
    {
      "cell_type": "code",
      "metadata": {
        "id": "2pExQ9Pu0let"
      },
      "source": [
        "ww=pd.unique(gse.gpls['GPL10558'].table['Chromosome'])"
      ],
      "execution_count": null,
      "outputs": []
    },
    {
      "cell_type": "code",
      "metadata": {
        "id": "vuY6eiMogl4x"
      },
      "source": [
        "gene2chr=gse.gpls['GPL10558'].table[['ILMN_Gene','Chromosome']]"
      ],
      "execution_count": null,
      "outputs": []
    },
    {
      "cell_type": "code",
      "metadata": {
        "id": "l28nDQImS5zk"
      },
      "source": [
        "# data1=pd.read_csv('drive/My Drive/Colab Notebooks/GSE76925.txt',sep='\\t',index_col=0)"
      ],
      "execution_count": null,
      "outputs": []
    },
    {
      "cell_type": "code",
      "metadata": {
        "id": "ddOON1xsaGBw"
      },
      "source": [
        "# largeCOPD=pd.read_csv('drive/My Drive/Colab Notebooks/LARGE_COPD_crossLTCOPD.txt',sep='\\t',index_col=0)"
      ],
      "execution_count": null,
      "outputs": []
    },
    {
      "cell_type": "markdown",
      "metadata": {
        "id": "s__pesv2DbAt"
      },
      "source": [
        "###this data is same as clean expression per Jarrett"
      ]
    },
    {
      "cell_type": "code",
      "metadata": {
        "id": "GCWOMJFkXtZw"
      },
      "source": [
        "del data1['loc']\n",
        "plot=pd.melt(data1)['value']\n",
        "# plot=np.array(plot.astype(float))\n",
        "plt.hist(plot,bins=26)"
      ],
      "execution_count": null,
      "outputs": []
    },
    {
      "cell_type": "code",
      "metadata": {
        "id": "UrKxN_VGhZND"
      },
      "source": [
        "Image(filename='drive/My Drive/Colab Notebooks/clean_LTCOPD.png',width=500)"
      ],
      "execution_count": null,
      "outputs": []
    },
    {
      "cell_type": "code",
      "metadata": {
        "id": "AXHRAdABeyRv"
      },
      "source": [
        "plt.rcParams.update(plt.rcParamsDefault)\n",
        "cc=plt.hist(np.log(data1.values.flatten()),bins=100)"
      ],
      "execution_count": null,
      "outputs": []
    },
    {
      "cell_type": "markdown",
      "metadata": {
        "id": "ZE7LZlKhENto"
      },
      "source": [
        "##test merged lung tissue datasets in PCA and heirarchical clustering"
      ]
    },
    {
      "cell_type": "code",
      "metadata": {
        "id": "eaDQb-c8EU-x"
      },
      "source": [
        "X=largeCOPD#.merge(data1,left_index=True, right_index=True)\n",
        "X=X.T\n",
        "y=(pd.DataFrame(np.zeros(largeCOPD.shape[1]))).astype('int').to_numpy().flatten()\n",
        "# from sklearn.cluster import AgglomerativeClustering\n",
        "X.fillna(0, inplace=True)\n",
        "# model = AgglomerativeClustering(distance_threshold=0, n_clusters=None)\n",
        "from sklearn.decomposition import PCA\n",
        "lw = 2\n",
        "pca = PCA(n_components=lw)\n",
        "X_r=pca.fit(X).transform(X)\n",
        "# model = model.fit(data1)\n",
        "from sklearn import datasets\n",
        "iris = datasets.load_iris()\n",
        "target_names = ['large','small']#iris.target_names\n",
        "\n",
        "plt.figure(figsize=(20, 4))\n",
        "\n",
        "colors = ['turquoise', 'darkorange']\n",
        "\n",
        "\n",
        "for color, i, target_name in zip(colors, [0, 1], target_names):\n",
        "    plt.scatter(X_r[y == i, 0], X_r[y == i, 1], color=color, alpha=.8, lw=lw,\n",
        "                label=target_name)\n",
        "plt.legend(loc='best', shadow=False, scatterpoints=1)\n",
        "plt.title('PCA of LT-RC datasets')"
      ],
      "execution_count": null,
      "outputs": []
    },
    {
      "cell_type": "code",
      "metadata": {
        "id": "Uw_agMGsFcyA"
      },
      "source": [
        "X=data1#,left_index=True, right_index=True)\n",
        "X=X.T\n",
        "y=(pd.DataFrame(np.zeros(data1.shape[1]))).astype('int').to_numpy().flatten()\n",
        "# from sklearn.cluster import AgglomerativeClustering\n",
        "X.fillna(0, inplace=True)\n",
        "# model = AgglomerativeClustering(distance_threshold=0, n_clusters=None)\n",
        "from sklearn.decomposition import PCA\n",
        "lw = 2\n",
        "pca = PCA(n_components=lw)\n",
        "X_r=pca.fit(X).transform(X)\n",
        "# model = model.fit(data1)\n",
        "from sklearn import datasets\n",
        "iris = datasets.load_iris()\n",
        "target_names = ['large','small']#iris.target_names\n",
        "\n",
        "plt.figure(figsize=(20, 4))\n",
        "\n",
        "colors = ['turquoise', 'darkorange']\n",
        "\n",
        "\n",
        "for color, i, target_name in zip(colors, [0, 1], target_names):\n",
        "    plt.scatter(X_r[y == i, 0], X_r[y == i, 1], color=color, alpha=.8, lw=lw,\n",
        "                label=target_name)\n",
        "plt.legend(loc='best', shadow=False, scatterpoints=1)\n",
        "plt.title('PCA of LT-RC datasets')"
      ],
      "execution_count": null,
      "outputs": []
    },
    {
      "cell_type": "code",
      "metadata": {
        "id": "uMgIa5N0dq32"
      },
      "source": [
        "X=largeCOPD.merge(data1,left_index=True, right_index=True)\n",
        "X=X.T\n",
        "y=(pd.DataFrame(np.zeros(largeCOPD.shape[1])).append(pd.DataFrame(np.ones(data1.shape[1])))).astype('int').to_numpy().flatten()\n",
        "# from sklearn.cluster import AgglomerativeClustering\n",
        "X.fillna(0, inplace=True)\n",
        "# model = AgglomerativeClustering(distance_threshold=0, n_clusters=None)\n",
        "from sklearn.decomposition import PCA\n",
        "lw = 2\n",
        "pca = PCA(n_components=lw)\n",
        "X_r=pca.fit(X).transform(X)\n",
        "# model = model.fit(data1)\n",
        "from sklearn import datasets\n",
        "iris = datasets.load_iris()\n",
        "target_names = ['large','small']#iris.target_names\n",
        "\n",
        "plt.figure(figsize=(20, 20))\n",
        "\n",
        "colors = ['turquoise', 'darkorange']\n",
        "\n",
        "\n",
        "for color, i, target_name in zip(colors, [0, 1], target_names):\n",
        "    plt.scatter(X_r[y == i, 0], X_r[y == i, 1], color=color, alpha=.5, lw=lw,\n",
        "                label=target_name, )\n",
        "plt.legend(loc='best', shadow=False, scatterpoints=1)\n",
        "plt.title('PCA of LT-RC and LT-COPD datasets')"
      ],
      "execution_count": null,
      "outputs": []
    },
    {
      "cell_type": "code",
      "metadata": {
        "id": "wDzY3Lyok3mg"
      },
      "source": [
        "from scipy.cluster.hierarchy import dendrogram\n",
        "def plot_dendrogram(model, **kwargs):\n",
        "    # Create linkage matrix and then plot the dendrogram\n",
        "\n",
        "    # create the counts of samples under each node\n",
        "    counts = np.zeros(model.children_.shape[0])\n",
        "    n_samples = len(model.labels_)\n",
        "    for i, merge in enumerate(model.children_):\n",
        "        current_count = 0\n",
        "        for child_idx in merge:\n",
        "            if child_idx < n_samples:\n",
        "                current_count += 1  # leaf node\n",
        "            else:\n",
        "                current_count += counts[child_idx - n_samples]\n",
        "        counts[i] = current_count\n",
        "\n",
        "    linkage_matrix = np.column_stack([model.children_, model.distances_,\n",
        "                                      counts]).astype(float)\n",
        "\n",
        "    # Plot the corresponding dendrogram\n",
        "    dendrogram(linkage_matrix, **kwargs)\n"
      ],
      "execution_count": null,
      "outputs": []
    },
    {
      "cell_type": "code",
      "metadata": {
        "id": "rAlxMoO7kfqp"
      },
      "source": [
        "plt.figure(figsize=(20, 4))\n",
        "plt.title('Hierarchical Clustering Dendrogram')\n",
        "# plot the top three levels of the dendrogram\n",
        "plot_dendrogram(model, truncate_mode='level', p=3,)\n",
        "plt.xlabel(\"Number of points in node (or index of point if no parenthesis).\")\n",
        "plt.show()"
      ],
      "execution_count": null,
      "outputs": []
    },
    {
      "cell_type": "code",
      "metadata": {
        "id": "cfBn-tUXqUeI"
      },
      "source": [
        "plt.xkcd();\n",
        "from scipy import stats, spatial, cluster\n",
        "Z = cluster.hierarchy.linkage(cc, \"complete\")"
      ],
      "execution_count": null,
      "outputs": []
    },
    {
      "cell_type": "code",
      "metadata": {
        "id": "W9Ydp2TgvVlI"
      },
      "source": [
        "plt.style.use('classic')\n",
        "plt.figure(figsize=(70, 4))\n",
        "plt.title(\"Here's a dendrogram of our hierarchical clustering\")\n",
        "cluster.hierarchy.dendrogram(Z);"
      ],
      "execution_count": null,
      "outputs": []
    },
    {
      "cell_type": "markdown",
      "metadata": {
        "id": "-IwHRfXWMGpi"
      },
      "source": [
        "#create and run PANDA"
      ]
    },
    {
      "cell_type": "code",
      "metadata": {
        "id": "3rjHBE15Tqes"
      },
      "source": [
        "gse.pivot_samples\n"
      ],
      "execution_count": null,
      "outputs": []
    },
    {
      "cell_type": "code",
      "metadata": {
        "id": "hJ92A0TC0lht"
      },
      "source": [
        "expression1 = gse.pivot_samples('VALUE')\n",
        "gpl = gse.gpls[next(iter(gse.gpls))]\n",
        "data = gse.pivot_samples(values=\"VALUE\")#, gpl=gpl, annotation_column=\"Symbol\")\n",
        "pheno=gse.phenotype_data.rename(columns={'characteristics_ch1.0.age': 'age',\"characteristics_ch1.1.Sex\":\"sex\",\"characteristics_ch1.3.bmi\":\"bmi\",\"characteristics_ch1.6.fev1.pp\":\"fev1\",\"characteristics_ch1.4.packyears\":\"PY\"})\n",
        "pheno[['age',\"sex\",\"bmi\",\"fev1\",\"PY\"]].to_csv('pheno_data.txt',sep='\\t',index=True,header=True)\n",
        "\n",
        "names=pd.DataFrame([gse.gpls['GPL10558'].table['ID'],gse.gpls['GPL10558'].table['ILMN_Gene']]).transpose()\n",
        "data1=pd.merge(expression1,names,left_index=True,right_on='ID')\n",
        "\n",
        "data1['loc']=gse.gpls['GPL10558'].table['Chromosome']\n",
        "\n",
        "data1.index=data1['ILMN_Gene']\n",
        "data1=data1.dropna(how='any')\n",
        "del data1['ID'], data1['ILMN_Gene']\n",
        "\n",
        "# data1.to_csv('drive/My Drive/Colab Notebooks/GSE76925.txt',sep='\\t')"
      ],
      "execution_count": null,
      "outputs": []
    },
    {
      "cell_type": "code",
      "metadata": {
        "id": "wl4G2MG2UkUx"
      },
      "source": [
        "jeff=(data1)\n",
        "cc=jeff[jeff['loc']=='Y'].index"
      ],
      "execution_count": null,
      "outputs": []
    },
    {
      "cell_type": "code",
      "metadata": {
        "id": "Fp0Hi228cVy-"
      },
      "source": [
        "ltrc_genes=pd.read_csv('drive/My Drive/Colab Notebooks/LTRC_genes_chr.txt',sep='\\t')\n",
        "data2=data1.merge(ltrc_genes,left_index=True,right_on='gene')"
      ],
      "execution_count": null,
      "outputs": []
    },
    {
      "cell_type": "code",
      "metadata": {
        "id": "Z1rdvcsWc1Cc"
      },
      "source": [
        "pd.unique(data2.gene).shape"
      ],
      "execution_count": null,
      "outputs": []
    },
    {
      "cell_type": "code",
      "metadata": {
        "id": "ATyuL5NK8txw"
      },
      "source": [
        "dd=pd.unique(data2['gene'][data2['chr']=='chrY'].tolist())"
      ],
      "execution_count": null,
      "outputs": []
    },
    {
      "cell_type": "code",
      "metadata": {
        "id": "9ospROvRBNRu"
      },
      "source": [
        "data2.index=data2.gene\n",
        "data2=data2.groupby(data2.index).mean()\n",
        "del data2['GSM2040941'],data2['GSM2040942'] ##remove rather than combat adjusting, only two samples from seperate batch\n",
        "# combat.fit(Y=data2, b=b, X=X, C=C)"
      ],
      "execution_count": null,
      "outputs": []
    },
    {
      "cell_type": "code",
      "metadata": {
        "id": "VCJz6JJ-ZfkQ"
      },
      "source": [
        "pd.DataFrame(data2.index).to_csv('drive/My Drive/Colab Notebooks/LTCOPD_genes.txt',index=False,header=False,sep='\\t')"
      ],
      "execution_count": null,
      "outputs": []
    },
    {
      "cell_type": "code",
      "metadata": {
        "id": "Nu6tHmPo0q5I"
      },
      "source": [
        "# data3=data1data1[data1['loc']!='Y']\n",
        "\n",
        "# del data2['loc'], data2['ensg'], data2['gene'], data2['chr']\n",
        "\n",
        "data2.columns=[gse.phenotype_data['characteristics_ch1.1.Sex'][:-2]+gse.phenotype_data['characteristics_ch1.5.copd'][:-2]]\n",
        "data2.loc[:,'Fcase'].to_csv('drive/My Drive/harvard/Fcase.txt',sep='\\t',index=True,header=False)\n",
        "data2.loc[:,'Fcont'].to_csv('drive/My Drive/harvard/Fcont.txt',sep='\\t',index=True,header=False)\n",
        "print([data2.loc[:,'Fcase'].shape,data2.loc[:,'Fcont'].shape])\n",
        "\n",
        "# data4=data1 #pd.DataFrame(np.copy(data1)) #data4[data4['loc']!='Y']\n",
        "# del data4['loc']\n",
        "# data2.columns=[gse.phenotype_data['characteristics_ch1.1.Sex']+gse.phenotype_data['characteristics_ch1.5.copd']]\n",
        "data2.loc[:,'Mcase'].to_csv('drive/My Drive/harvard/Mcase.txt',sep='\\t',index=True,header=False)\n",
        "data2.loc[:,'Mcont'].to_csv('drive/My Drive/harvard/Mcont.txt',sep='\\t',index=True,header=False)\n",
        "print([data2.loc[:,'Mcase'].shape,data2.loc[:,'Mcont'].shape])"
      ],
      "execution_count": null,
      "outputs": []
    },
    {
      "cell_type": "code",
      "metadata": {
        "id": "MP5s05AN0q7Z"
      },
      "source": [
        "# LCL_ppi=pd.read_csv('https://granddb.s3.amazonaws.com/optPANDA/ppi/ppi_complete.txt',sep='\\t',header=None)\n",
        "# LCL_ppi.to_csv('drive/My Drive/Colab Notebooks/ppi_complete.txt',sep='\\t',index=False,header=False)\n",
        "\n",
        "coding_LCL_motif=pd.read_csv('https://granddb.s3.amazonaws.com/optPANDA/motifs/Hugo_motifCellLine.txt',sep='\\t',header=None)\n",
        "coding_LCL_motif=coding_LCL_motif.reset_index().rename(columns={0:'source',1:'target', 2:'weight'})\n",
        "del coding_LCL_motif['index']\n",
        "# coding_LCL_motif.to_csv('drive/My Drive/Colab Notebooks/coding_LCL_motif.txt',sep='\\t',index=False,header=False)\n",
        "# !curl -O https://cmapreg.s3.us-east-2.amazonaws.com/regMatBin1thr005.csv\n",
        "motif_dataBin1=pd.read_csv('https://cmapreg.s3.us-east-2.amazonaws.com/regMatBin1thr005.csv',sep=',',header=0,index_col=0)\n",
        "full_motif=motif_dataBin1.stack().reset_index().rename(columns={'level_0':'source','level_1':'target', 0:'weight'})\n",
        "# full_motif.to_csv('drive/My Drive/Colab Notebooks/full_LCL_motif.txt',sep='\\t',index=False,header=False)\n",
        "\n",
        "full_motif=full_motif.merge(coding_LCL_motif,on=['source','target'],how='left')\n",
        "full_motif.loc[full_motif[\"weight_y\"].isnull(),'weight_y'] = full_motif['weight_x']\n",
        "full_motif=full_motif[['source','target','weight_y']]\n",
        "full_motif=full_motif.rename(columns={'source':'source','target':'target', 'weight_y':'weight'})\n",
        "full_motif = full_motif[~full_motif['source'].isin(coding_LCL_motif['source'])]\n",
        "full_motif[['source','target','weight']].to_csv('drive/My Drive/Colab Notebooks/coding_full_LCL_motif.txt',sep='\\t',index=False,header=False)\n",
        "\n",
        "motif_data='drive/My Drive/Colab Notebooks/coding_full_LCL_motif.txt' ##coding_LCL_motif.txt\n",
        "ppi_data='drive/My Drive/Colab Notebooks/ppi_complete.txt'\n",
        "F_motif_data='drive/My Drive/Colab Notebooks/F_coding_full_LCL_motif.txt' ##F_coding_LCL_motif.txt"
      ],
      "execution_count": null,
      "outputs": []
    },
    {
      "cell_type": "code",
      "metadata": {
        "id": "Ga3_ySlaVWvB"
      },
      "source": [
        "# full_motif=full_motif[['source','target','weight']]\n",
        "full_motif.columns=['TF','gene','W']\n",
        "aa=full_motif[~full_motif['TF'].isin(cc)]\n",
        "bb=full_motif[full_motif['TF'].isin(cc)]\n",
        "bb['W']=0\n",
        "full_motif=aa.append(bb)\n",
        "\n",
        "aa=full_motif[~full_motif['gene'].isin(cc)]\n",
        "bb=full_motif[full_motif['gene'].isin(cc)]\n",
        "bb['W']=0\n",
        "full_motif=aa.append(bb)\n",
        "full_motif.to_csv('drive/My Drive/Colab Notebooks/F_coding_full_LCL_motif.txt',sep='\\t',index=False,header=False)\n",
        "# F_motif_data='drive/My Drive/Colab Notebooks/F_full_motif.txt'"
      ],
      "execution_count": null,
      "outputs": []
    },
    {
      "cell_type": "code",
      "metadata": {
        "id": "vh0eSqHB0q95"
      },
      "source": [
        "# panda_obj1 = Panda('drive/My Drive/harvard/Fcase.txt', F_motif_data, ppi_data,computing='gpu',precision='single',save_tmp=False,save_memory = False, remove_missing=False, keep_expression_matrix = False,modeProcess = 'intersection')\n",
        "# np.save('drive/My Drive/Colab Notebooks/model_output/Panda_F0case_full.npy',panda_obj1.export_panda_results)\n",
        "# del panda_obj1\n",
        "panda_obj2 = Panda('drive/My Drive/harvard/Mcase.txt', motif_data, ppi_data,computing='gpu',precision='single',save_tmp=False,save_memory = False, remove_missing=False, keep_expression_matrix = False,modeProcess = 'intersection')\n",
        "np.save('drive/My Drive/Colab Notebooks/model_output/Panda_Mcase_full.npy',panda_obj2.export_panda_results)\n",
        "del panda_obj2\n",
        "panda_obj3 = Panda('drive/My Drive/harvard/Fcont.txt', F_motif_data, ppi_data,computing='gpu',precision='single',save_tmp=False,save_memory = False, remove_missing=False, keep_expression_matrix = False,modeProcess = 'intersection')\n",
        "np.save('drive/My Drive/Colab Notebooks/model_output/Panda_F0cont_full.npy',panda_obj3.export_panda_results)\n",
        "del panda_obj3\n",
        "panda_obj4 = Panda('drive/My Drive/harvard/Mcont.txt', motif_data, ppi_data,computing='gpu',precision='single',save_tmp=False,save_memory = False, remove_missing=False, keep_expression_matrix = False,modeProcess = 'intersection')\n",
        "np.save('drive/My Drive/Colab Notebooks/model_output/Panda_Mcont_full.npy',panda_obj4.export_panda_results)\n",
        "del panda_obj4"
      ],
      "execution_count": null,
      "outputs": []
    },
    {
      "cell_type": "markdown",
      "metadata": {
        "id": "t-GfiKxM14s1"
      },
      "source": [
        "##Load Panda nets"
      ]
    },
    {
      "cell_type": "code",
      "metadata": {
        "id": "6AFg-bA00loh"
      },
      "source": [
        "# Panda_Fcase=np.load('drive/My Drive/Colab Notebooks dcm/Panda_Fcase.npy',allow_pickle=True)#,sep='\\t',index_col=0,header=None,names=['loc','symbol'])\n",
        "# Panda_Fcont=np.load('drive/My Drive/Colab Notebooks dcm/Panda_Fcont.npy',allow_pickle=True)#,sep='\\t',index_col=0,header=None,names=['loc','symbol'])\n",
        "# Panda_Fcont=pd.DataFrame(Panda_Fcont)\n",
        "# Panda_Fcont.columns=['tf','gene','motif','force']\n",
        "# Panda_Fcase=pd.DataFrame(Panda_Fcase)\n",
        "# Panda_Fcase.columns=['tf','gene','motif','force']\n",
        "\n",
        "Panda_Mcase=np.load('drive/My Drive/Colab Notebooks/model_output/Panda_Mcase_full.npy',allow_pickle=True)#,sep='\\t',index_col=0,header=None,names=['loc','symbol'])\n",
        "Panda_Mcont=np.load('drive/My Drive/Colab Notebooks/model_output/Panda_Mcont_full.npy',allow_pickle=True)#,sep='\\t',index_col=0,header=None,names=['loc','symbol'])\n",
        "Panda_Mcont=pd.DataFrame(Panda_Mcont)\n",
        "Panda_Mcont.columns=['tf','gene','motif','force']\n",
        "Panda_Mcase=pd.DataFrame(Panda_Mcase)\n",
        "Panda_Mcase.columns=['tf','gene','motif','force']\n",
        "## process F and M one at a time now to save memory\n",
        "\n",
        "Panda_FcaseFULL=np.load('drive/My Drive/Colab Notebooks/model_output/Panda_F0case_full.npy',allow_pickle=True)#,sep='\\t',index_col=0,header=None,names=['loc','symbol'])\n",
        "Panda_FcontFULL=np.load('drive/My Drive/Colab Notebooks/model_output/Panda_F0cont_full.npy',allow_pickle=True)#,sep='\\t',index_col=0,header=None,names=['loc','symbol'])\n",
        "Panda_FcontFULL=pd.DataFrame(Panda_FcontFULL)\n",
        "Panda_FcontFULL.columns=['tf','gene','motif','force']\n",
        "Panda_FcaseFULL=pd.DataFrame(Panda_FcaseFULL)\n",
        "Panda_FcaseFULL.columns=['tf','gene','motif','force']\n"
      ],
      "execution_count": null,
      "outputs": []
    },
    {
      "cell_type": "markdown",
      "metadata": {
        "id": "Uif2YCiRPfgI"
      },
      "source": [
        "##TF and gene specific zscore diff F\n",
        "\n"
      ]
    },
    {
      "cell_type": "code",
      "metadata": {
        "id": "HYHlMqcwOJ8y"
      },
      "source": [
        "##control minus case\n",
        "from scipy.stats import zscore\n",
        "# Panda_nullA.panda_results = pd.DataFrame(Panda_nullA.export_panda_results, columns=['tf','gene','motif','force'])\n",
        "subset_panda_results3 = Panda_FcontFULL.sort_values(by=['force'], ascending=False)\n",
        "# subset_panda_results3['merge']=subset_panda_results3.tf+'-'+subset_panda_results3.gene\n",
        "\n",
        "# Panda_nullB.panda_results = pd.DataFrame(Panda_nullB.export_panda_results, columns=['tf','gene','motif','force'])\n",
        "subset_panda_results1 = Panda_FcaseFULL.sort_values(by=['force'], ascending=False)\n",
        "# subset_panda_results1['merge']=subset_panda_results1.tf+'-'+subset_panda_results1.gene\n",
        "del subset_panda_results3['motif'],subset_panda_results1['motif']\n",
        "TFsum_3=subset_panda_results3.groupby(['tf']).agg({'force':sum})\n",
        "TFsum_1=subset_panda_results1.groupby(['tf']).agg({'force':sum})\n",
        "TFsum_1['force']=zscore(TFsum_1['force'])\n",
        "TFsum_3['force']=zscore(TFsum_3['force']) ##reduces range from 1500 to 3\n",
        "\n",
        "geneSum_3=subset_panda_results3.groupby(['gene']).agg({'force':sum})\n",
        "geneSum_1=subset_panda_results1.groupby(['gene']).agg({'force':sum})\n",
        "geneSum_3['force']=zscore(geneSum_3['force'])\n",
        "geneSum_1['force']=zscore(geneSum_1['force'])\n",
        "\n",
        "mmm=TFsum_3.merge(TFsum_1, left_on=['tf'], right_on=['tf'])\n",
        "mmmm=geneSum_3.merge(geneSum_1, left_on=['gene'], right_on=['gene'])\n",
        "\n",
        "del [[subset_panda_results3, subset_panda_results1,Panda_FcontFULL,Panda_FcaseFULL]]\n",
        "gc.collect()\n",
        "subset_panda_results3=pd.DataFrame()\n",
        "subset_panda_results1=pd.DataFrame()\n",
        "Panda_FcontFULL=pd.DataFrame()\n",
        "Panda_FcontFULL=pd.DataFrame()\n",
        "\n",
        "\n",
        "mmm['diff']=mmm.force_x-mmm.force_y\n",
        "mmm = mmm.sort_values(by ='diff' )\n",
        "\n",
        "\n",
        "mmmm['diff']=mmmm.force_x-mmmm.force_y\n",
        "mmmm = mmmm.sort_values(by ='diff' )\n",
        "mmm.to_csv('drive/My Drive/TF_zscore_F_u.txt',sep='\\t')\n",
        "mmmm.to_csv('drive/My Drive/gene_zscore_F_u.txt',sep='\\t')"
      ],
      "execution_count": null,
      "outputs": []
    },
    {
      "cell_type": "markdown",
      "metadata": {
        "id": "MjWLN5s8P_00"
      },
      "source": [
        "##TF and gene specific zscore diff M"
      ]
    },
    {
      "cell_type": "code",
      "metadata": {
        "id": "jDy-eg-IPuGE"
      },
      "source": [
        "# Panda_nullA.panda_results = pd.DataFrame(Panda_nullA.export_panda_results, columns=['tf','gene','motif','force'])\n",
        "subset_panda_results3 = Panda_Mcont.sort_values(by=['force'], ascending=False)\n",
        "# subset_panda_results3['merge']=subset_panda_results3.tf+'-'+subset_panda_results3.gene\n",
        "\n",
        "# Panda_nullB.panda_results = pd.DataFrame(Panda_nullB.export_panda_results, columns=['tf','gene','motif','force'])\n",
        "subset_panda_results1 = Panda_Mcase.sort_values(by=['force'], ascending=False)\n",
        "# subset_panda_results1['merge']=subset_panda_results1.tf+'-'+subset_panda_results1.gene\n",
        "del subset_panda_results3['motif'],subset_panda_results1['motif']\n",
        "TFsum_3=subset_panda_results3.groupby(['tf']).agg({'force':sum})\n",
        "TFsum_1=subset_panda_results1.groupby(['tf']).agg({'force':sum})\n",
        "TFsum_1['force']=zscore(TFsum_1['force'])\n",
        "TFsum_3['force']=zscore(TFsum_3['force'])\n",
        "\n",
        "geneSum_3=subset_panda_results3.groupby(['gene']).agg({'force':sum})\n",
        "geneSum_1=subset_panda_results1.groupby(['gene']).agg({'force':sum})\n",
        "geneSum_3['force']=zscore(geneSum_3['force'])\n",
        "geneSum_1['force']=zscore(geneSum_1['force'])\n",
        "\n",
        "nnn=TFsum_3.merge(TFsum_1, left_on=['tf'], right_on=['tf'])\n",
        "nnnn=geneSum_3.merge(geneSum_1, left_on=['gene'], right_on=['gene'])\n",
        "\n",
        "del [[subset_panda_results3, subset_panda_results1,Panda_Mcont,Panda_Mcase]]\n",
        "gc.collect()\n",
        "subset_panda_results3=pd.DataFrame()\n",
        "subset_panda_results1=pd.DataFrame()\n",
        "Panda_Mcont=pd.DataFrame()\n",
        "Panda_Mcase=pd.DataFrame()\n",
        "\n",
        "nnn['diff']=nnn.force_x-nnn.force_y\n",
        "nnn = nnn.sort_values(by ='diff' )\n",
        "\n",
        "nnnn['diff']=nnnn.force_x-nnnn.force_y\n",
        "nnnn = nnnn.sort_values(by ='diff' )\n",
        "nnn.to_csv('drive/My Drive/TF_zscore_M_u.txt',sep='\\t')\n",
        "nnnn.to_csv('drive/My Drive/gene_zscore_M_u.txt',sep='\\t')"
      ],
      "execution_count": null,
      "outputs": []
    },
    {
      "cell_type": "code",
      "metadata": {
        "id": "zpinAPt6XgjN"
      },
      "source": [
        "sex_tf_diff=mmm.merge(nnn,on='tf')\n",
        "a=plt.hist(sex_tf_diff['diff_x'],bins=100,label='male',alpha=.75)\n",
        "b=plt.hist(sex_tf_diff['diff_y'],bins=100,label='female',alpha=.5)\n",
        "plt.title('Sex-specific Ca-Co TF degree diff')\n",
        "plt.legend(loc=\"best\")"
      ],
      "execution_count": null,
      "outputs": []
    },
    {
      "cell_type": "code",
      "metadata": {
        "id": "6o_WFyXK_jOR"
      },
      "source": [
        "[sex_tf_diff[(sex_tf_diff['diff_y'])>.4].index.values,sex_tf_diff[(sex_tf_diff['diff_y'])<-0.5].index.values] #,sex_tf_diff[np.abs(sex_tf_diff['diff_y'])>.4].tf]"
      ],
      "execution_count": null,
      "outputs": []
    },
    {
      "cell_type": "code",
      "metadata": {
        "id": "6bJVKb2CX1VJ"
      },
      "source": [
        "sex_gene_diff=mmmm.merge(nnnn,on='gene')\n",
        "a=plt.hist(sex_gene_diff['diff_x'],bins=100,label='male')\n",
        "b=plt.hist(sex_gene_diff['diff_y'],bins=100,label='female')\n",
        "plt.title('Sex-specific Ca-Co gene degree diff')\n",
        "plt.legend(loc=\"best\")"
      ],
      "execution_count": null,
      "outputs": []
    },
    {
      "cell_type": "code",
      "metadata": {
        "id": "5OVnHA9AnxI9"
      },
      "source": [
        "[sex_gene_diff[(sex_gene_diff['diff_y'])>1].index.values,sex_gene_diff[(sex_gene_diff['diff_y'])<-1].index.values] #,sex_tf_diff[np.abs(sex_tf_diff['diff_y'])>.4].tf]"
      ],
      "execution_count": null,
      "outputs": []
    },
    {
      "cell_type": "code",
      "metadata": {
        "id": "UGv0ho-UzZCg"
      },
      "source": [
        ""
      ],
      "execution_count": null,
      "outputs": []
    },
    {
      "cell_type": "markdown",
      "metadata": {
        "id": "li6B2LG0UJeH"
      },
      "source": [
        "#Run larger COPD panda nets"
      ]
    },
    {
      "cell_type": "code",
      "metadata": {
        "id": "yD18G0Igjoyk"
      },
      "source": [
        "# LTRC_exp=pd.read_csv('drive/MyDrive/harvard/LARGE_COPD/LTRC_XXX_060521.txt',sep='\\t',index_col=0)\n",
        "# LTRC_exp_key=pd.read_csv('drive/MyDrive/harvard/LARGE_COPD/LTRC_XXXkey_060521.txt',sep='\\t',index_col=0)\n",
        "# data=np.multiply(LTRC_exp,LTRC_exp_key)\n",
        "# LTRC_exp=pd.read_csv('drive/MyDrive/harvard/LARGE_COPD/LTRC_qsmooth_combat.txt',sep='\\t',index_col=0)\n",
        "LTRC_exp=pd.read_csv('drive/MyDrive/harvard/LARGE_COPD/LTRC_qs_log2_removebatch.txt',sep='\\t',index_col=0)\n",
        "\n",
        "ltrc_genes=pd.read_csv('drive/My Drive/Colab Notebooks/LTRC_genes_chr.txt',sep='\\t')\n",
        "LTRC_exp.index=LTRC_exp.index.str.split('.').str[0].tolist()\n",
        "data1=LTRC_exp.merge(ltrc_genes,left_index=True,right_on='ensg')\n",
        "data1.index=data1['gene']\n",
        "del data1['ensg'], data1['chr']\n",
        "data1=data1.groupby(data1.index).mean()"
      ],
      "execution_count": null,
      "outputs": []
    },
    {
      "cell_type": "code",
      "metadata": {
        "id": "1YXUi3ZaYTog"
      },
      "source": [
        "LTCOPD_genes=pd.read_csv('drive/My Drive/Colab Notebooks/LTCOPD_genes.txt',index_col=None,header=None,sep='\\t')\n",
        "# data1=np.log2(data1.dropna(how='all')+1)\n",
        "data1=data1.merge(LTCOPD_genes,left_index=True,right_on=0)\n",
        "data1.index=data1[0]\n",
        "data1.replace([np.inf, -np.inf], np.nan,inplace=True)\n",
        "data1.replace(np.nan, 0,inplace=True)"
      ],
      "execution_count": null,
      "outputs": []
    },
    {
      "cell_type": "code",
      "metadata": {
        "id": "Kfhq5q8IlVwM"
      },
      "source": [
        "# gene2chr[gene2chr['ILMN_Gene']=='GATA1']"
      ],
      "execution_count": null,
      "outputs": []
    },
    {
      "cell_type": "code",
      "metadata": {
        "id": "Y36NrKkdlrRR"
      },
      "source": [
        "# data1[data1.index=='GATA1'] "
      ],
      "execution_count": null,
      "outputs": []
    },
    {
      "cell_type": "code",
      "metadata": {
        "id": "pUvd71qkNT4f"
      },
      "source": [
        "# data1.to_csv('LTRC_qs_com_exp.txt',sep='\\t',index=True,header=True)"
      ],
      "execution_count": null,
      "outputs": []
    },
    {
      "cell_type": "code",
      "metadata": {
        "id": "WwUF5dWjWckC"
      },
      "source": [
        "del data1[0]\n",
        "FC=data1.iloc[:,data1.columns.str.contains('_0_1')]\n",
        "FNC=data1.iloc[:,data1.columns.str.contains('_0_0')]\n",
        "MC=data1.iloc[:,data1.columns.str.contains('_1_1')]\n",
        "MNC=data1.iloc[:,data1.columns.str.contains('_1_0')]\n",
        "print([FC.shape,FNC.shape,MC.shape,MNC.shape])\n",
        "FC.to_csv('drive/My Drive/harvard/LARGE_COPD/FC_exp.txt',sep='\\t',index=True,header=False)\n",
        "FNC.to_csv('drive/My Drive/harvard/LARGE_COPD/FNC_exp.txt',sep='\\t',index=True,header=False)\n",
        "MC.to_csv('drive/My Drive/harvard/LARGE_COPD/MC_exp.txt',sep='\\t',index=True,header=False)\n",
        "MNC.to_csv('drive/My Drive/harvard/LARGE_COPD/MNC_exp.txt',sep='\\t',index=True,header=False)"
      ],
      "execution_count": null,
      "outputs": []
    },
    {
      "cell_type": "code",
      "metadata": {
        "id": "tP0h3_dK4wd8"
      },
      "source": [
        "# LCL_ppi=pd.read_csv('https://granddb.s3.amazonaws.com/optPANDA/ppi/ppi_complete.txt',sep='\\t',header=None)\n",
        "# LCL_ppi.to_csv('drive/My Drive/Colab Notebooks/ppi_complete.txt',sep='\\t',index=False,header=False)\n",
        "\n",
        "# coding_LCL_motif=pd.read_csv('https://granddb.s3.amazonaws.com/optPANDA/motifs/Hugo_motifCellLine.txt',sep='\\t',header=None)\n",
        "# coding_LCL_motif.to_csv('drive/My Drive/Colab Notebooks/coding_LCL_motif.txt',sep='\\t',index=False,header=False)\n",
        "\n",
        "# drive/My Drive/Colab Notebooks/coding_LCL_motif.txt\n",
        "motif_data='drive/My Drive/Colab Notebooks/coding_full_LCL_motif.txt'\n",
        "ppi_data='drive/My Drive/Colab Notebooks/ppi_complete.txt'\n",
        "F_motif_data='drive/My Drive/Colab Notebooks/F_coding_full_LCL_motif.txt'"
      ],
      "execution_count": null,
      "outputs": []
    },
    {
      "cell_type": "code",
      "metadata": {
        "id": "YpwuKCutUNYk"
      },
      "source": [
        "panda_obj1 = Panda('drive/My Drive/harvard/LARGE_COPD/FC_exp.txt', F_motif_data, ppi_data,computing='gpu',precision='single',save_tmp=False,save_memory = False, remove_missing=False, keep_expression_matrix = False,modeProcess = 'intersection')\n",
        "np.save('drive/My Drive/Colab Notebooks/model_output/FC_LTRC_rmb1.npy',np.round(panda_obj1.export_panda_results,decimals=3))\n",
        "del panda_obj1\n",
        "panda_obj2 = Panda('drive/My Drive/harvard/LARGE_COPD/MC_exp.txt', motif_data, ppi_data,computing='gpu',precision='single',save_tmp=False,save_memory = False, remove_missing=False, keep_expression_matrix = False,modeProcess = 'intersection')\n",
        "np.save('drive/My Drive/Colab Notebooks/model_output/MC_LTRC_rmb1.npy',np.round(panda_obj2.export_panda_results,decimals=3))\n",
        "del panda_obj2\n",
        "panda_obj3 = Panda('drive/My Drive/harvard/LARGE_COPD/FNC_exp.txt', F_motif_data, ppi_data,computing='gpu',precision='single',save_tmp=False,save_memory = False, remove_missing=False, keep_expression_matrix = False,modeProcess = 'intersection')\n",
        "np.save('drive/My Drive/Colab Notebooks/model_output/FNC_LTRC_rmb1.npy',np.round(panda_obj3.export_panda_results,decimals=3))\n",
        "del panda_obj3\n",
        "panda_obj4 = Panda('drive/My Drive/harvard/LARGE_COPD/MNC_exp.txt', motif_data, ppi_data,computing='gpu',precision='single',save_tmp=False,save_memory = False, remove_missing=False, keep_expression_matrix = False,modeProcess = 'intersection')\n",
        "np.save('drive/My Drive/Colab Notebooks/model_output/MNC_LTRC_rmb1.npy',np.round(panda_obj4.export_panda_results,decimals=3))\n",
        "del panda_obj4\n",
        "# panda_obj5 = Panda('FcaseFULL.txt', motif_data, ppi_data,computing='gpu',precision='single',save_tmp=False,save_memory = False, remove_missing=False, keep_expression_matrix = True,modeProcess = 'intersection')\n",
        "# np.save('drive/My Drive/Panda_FcaseFULL.npy',panda_obj5.export_panda_results)\n",
        "# del panda_obj5\n",
        "# panda_obj6 = Panda('FcontFULL.txt', motif_data, ppi_data,computing='gpu',precision='single',save_tmp=False,save_memory = False, remove_missing=False, keep_expression_matrix = True,modeProcess = 'intersection')\n",
        "# np.save('drive/My Drive/Panda_FcontFULL.npy',panda_obj6.export_panda_results)\n",
        "# del panda_obj6\n"
      ],
      "execution_count": null,
      "outputs": []
    },
    {
      "cell_type": "markdown",
      "metadata": {
        "id": "Zxe3WSTC1-DT"
      },
      "source": [
        "##MALE"
      ]
    },
    {
      "cell_type": "code",
      "metadata": {
        "id": "vHJnKTZs18US"
      },
      "source": [
        "from scipy.stats import zscore"
      ],
      "execution_count": null,
      "outputs": []
    },
    {
      "cell_type": "code",
      "metadata": {
        "id": "ip6P12IlHUL1"
      },
      "source": [
        "MC=np.load('drive/My Drive/Colab Notebooks/model_output/MC_LTRC_rmb1.npy',allow_pickle=True)#,sep='\\t',index_col=0,header=None,names=['loc','symbol'])\n",
        "MNC=np.load('drive/My Drive/Colab Notebooks/model_output/MNC_LTRC_rmb1.npy',allow_pickle=True)#,sep='\\t',index_col=0,header=None,names=['loc','symbol'])\n",
        "MNC=pd.DataFrame(MNC)\n",
        "MNC.columns=['tf','gene','motif','force']\n",
        "MC=pd.DataFrame(MC)\n",
        "MC.columns=['tf','gene','motif','force']"
      ],
      "execution_count": null,
      "outputs": []
    },
    {
      "cell_type": "code",
      "metadata": {
        "id": "nOv-FpbWQHzp"
      },
      "source": [
        "# len(pd.unique(MC.gene))#\n",
        "# MC['gene']=='TSPAN6']"
      ],
      "execution_count": null,
      "outputs": []
    },
    {
      "cell_type": "code",
      "metadata": {
        "id": "DXFIZO3XhVmt"
      },
      "source": [
        "# MC_chr=MC.merge(gene2chr,left_on='tf',right_on='ILMN_Gene')\n",
        "# pd.unique(MC_chr[MC_chr['Chromosome']=='X'].tf)"
      ],
      "execution_count": null,
      "outputs": []
    },
    {
      "cell_type": "code",
      "metadata": {
        "id": "gl6kKS_sq5XH"
      },
      "source": [
        "# MC_chr[MC_chr['gene']=='GATA1']\n",
        "# coding_LCL_motif[coding_LCL_motif[0]=='GATA1']"
      ],
      "execution_count": null,
      "outputs": []
    },
    {
      "cell_type": "code",
      "metadata": {
        "id": "PJ0AF5Yk18Wv"
      },
      "source": [
        "## case minus control\n",
        "TFsum_3=MC.groupby(['tf']).agg({'force':sum})\n",
        "TFsum_1=MNC.groupby(['tf']).agg({'force':sum})\n",
        "TFsum_1['force']=zscore(TFsum_1['force'])\n",
        "TFsum_3['force']=zscore(TFsum_3['force']) ##reduces range from 1500 to 3\n",
        "\n",
        "geneSum_3=MC.groupby(['gene']).agg({'force':sum})\n",
        "geneSum_1=MNC.groupby(['gene']).agg({'force':sum})\n",
        "geneSum_3['force']=zscore(geneSum_3['force'])\n",
        "geneSum_1['force']=zscore(geneSum_1['force']) ## perhaps try  qnorm rather than zscore\n",
        "\n",
        "mmm=TFsum_3.merge(TFsum_1, left_on=['tf'], right_on=['tf'])\n",
        "mmmm=geneSum_3.merge(geneSum_1, left_on=['gene'], right_on=['gene'])\n",
        "\n",
        "# del [[MC, MNC]]\n",
        "# gc.collect()\n",
        "MC=pd.DataFrame()\n",
        "MNC=pd.DataFrame()\n",
        "# Panda_FcontFULL=pd.DataFrame()\n",
        "# Panda_FcontFULL=pd.DataFrame()\n",
        "\n",
        "\n",
        "mmm['diff']=mmm.force_x-mmm.force_y\n",
        "mmm = mmm.sort_values(by ='diff' )\n",
        "\n",
        "\n",
        "mmmm['diff']=mmmm.force_x-mmmm.force_y\n",
        "mmmm = mmmm.sort_values(by ='diff' )\n",
        "mmm.to_csv('drive/My Drive/TF_zscore_M_large_u.txt',sep='\\t')\n",
        "mmmm.to_csv('drive/My Drive/gene_zscore_M_large_u.txt',sep='\\t')"
      ],
      "execution_count": null,
      "outputs": []
    },
    {
      "cell_type": "markdown",
      "metadata": {
        "id": "YuTypM6n2O4m"
      },
      "source": [
        "##FEMALE"
      ]
    },
    {
      "cell_type": "code",
      "metadata": {
        "id": "0I2e9ghc2NxO"
      },
      "source": [
        "FC=np.load('drive/My Drive/Colab Notebooks/model_output/FC_LTRC_rmb1.npy',allow_pickle=True)#,sep='\\t',index_col=0,header=None,names=['loc','symbol'])\n",
        "FNC=np.load('drive/My Drive/Colab Notebooks/model_output/FNC_LTRC_rmb1.npy',allow_pickle=True)#,sep='\\t',index_col=0,header=None,names=['loc','symbol'])\n",
        "FNC=pd.DataFrame(FNC)\n",
        "FNC.columns=['tf','gene','motif','force']\n",
        "FC=pd.DataFrame(FC)\n",
        "FC.columns=['tf','gene','motif','force']"
      ],
      "execution_count": null,
      "outputs": []
    },
    {
      "cell_type": "code",
      "metadata": {
        "id": "j8RTpBG718ZT"
      },
      "source": [
        "TFsum_4=FC.groupby(['tf']).agg({'force':sum})\n",
        "TFsum_2=FNC.groupby(['tf']).agg({'force':sum})\n",
        "TFsum_2['force']=zscore(TFsum_2['force'])\n",
        "TFsum_4['force']=zscore(TFsum_4['force']) ##reduces range from 2500 to 4\n",
        "\n",
        "geneSum_4=FC.groupby(['gene']).agg({'force':sum})\n",
        "geneSum_2=FNC.groupby(['gene']).agg({'force':sum})\n",
        "geneSum_4['force']=zscore(geneSum_4['force'])\n",
        "geneSum_2['force']=zscore(geneSum_2['force'])\n",
        "\n",
        "nnn=TFsum_4.merge(TFsum_2, left_on=['tf'], right_on=['tf'])\n",
        "nnnn=geneSum_4.merge(geneSum_2, left_on=['gene'], right_on=['gene'])\n",
        "\n",
        "# del [[FC, FNC]]\n",
        "# gc.collect()\n",
        "FC=pd.DataFrame()\n",
        "FNC=pd.DataFrame()\n",
        "Panda_FcontFULL=pd.DataFrame()\n",
        "Panda_FcontFULL=pd.DataFrame()\n",
        "\n",
        "\n",
        "nnn['diff']=nnn.force_x-nnn.force_y\n",
        "nnn = nnn.sort_values(by ='diff' )\n",
        "\n",
        "\n",
        "nnnn['diff']=mmmm.force_x-nnnn.force_y\n",
        "nnnn = nnnn.sort_values(by ='diff' )\n",
        "nnn.to_csv('drive/My Drive/TF_zscore_F_large_u.txt',sep='\\t')\n",
        "nnnn.to_csv('drive/My Drive/gene_zscore_F_large_u.txt',sep='\\t')"
      ],
      "execution_count": null,
      "outputs": []
    },
    {
      "cell_type": "code",
      "metadata": {
        "id": "bj0tf2reKzMb"
      },
      "source": [
        "# ## subtract link weights between case and control, then zscore then take degree\n",
        "\n",
        "# MC=np.load('drive/My Drive/Colab Notebooks/model_output/MC_LTRC.npy',allow_pickle=True)#,sep='\\t',index_col=0,header=None,names=['loc','symbol'])\n",
        "# MNC=np.load('drive/My Drive/Colab Notebooks/model_output/MNC_LTRC.npy',allow_pickle=True)#,sep='\\t',index_col=0,header=None,names=['loc','symbol'])\n",
        "# MNC=pd.DataFrame(MNC)\n",
        "# MNC.columns=['tf','gene','motif','force']\n",
        "# MC=pd.DataFrame(MC)\n",
        "# MC.columns=['tf','gene','motif','force']\n",
        "\n",
        "# FC=np.load('drive/My Drive/Colab Notebooks/model_output/FC_LTRC.npy',allow_pickle=True)#,sep='\\t',index_col=0,header=None,names=['loc','symbol'])\n",
        "# FNC=np.load('drive/My Drive/Colab Notebooks/model_output/FNC_LTRC.npy',allow_pickle=True)#,sep='\\t',index_col=0,header=None,names=['loc','symbol'])\n",
        "# FNC=pd.DataFrame(FNC)\n",
        "# FNC.columns=['tf','gene','motif','force']\n",
        "# FC=pd.DataFrame(FC)\n",
        "# FC.columns=['tf','gene','motif','force']\n",
        "\n",
        "# FC['Ca-Co_diff']=zscore(pd.to_numeric(FC.force-FNC.force))\n",
        "# FeAtf=FC.groupby(['tf']).agg({'force':sum})\n",
        "# FeAg=FC.groupby(['gene']).agg({'Ca-Co_diff':sum})\n",
        "# MC['Ca-Co_diff']=zscore(pd.to_numeric(MC.force-MNC.force))\n",
        "# MaAtf=MC.groupby(['tf']).agg({'force':sum})\n",
        "# MaAg=MC.groupby(['tf']).agg({'Ca-Co_diff':sum})\n",
        "\n",
        "# # FC['Ca-Co_diff']=zscore(pd.to_numeric(FC.force-FNC.force))\n",
        "# # FeDiffA=FC.groupby(['tf']).agg({'Ca-Co_diff':sum})\n",
        "# # MC['Ca-Co_diff']=zscore(pd.to_numeric(MC.force-MNC.force))#\n",
        "# # MaDiffA=MC.groupby(['tf']).agg({'Ca-Co_diff':sum})\n",
        "\n",
        "# del FC, FNC, MC, MNC\n",
        "\n",
        "# Panda_Mcase=np.load('drive/My Drive/Colab Notebooks/model_output/MC_LTCOPD.npy',allow_pickle=True)#,sep='\\t',index_col=0,header=None,names=['loc','symbol'])\n",
        "# Panda_Mcont=np.load('drive/My Drive/Colab Notebooks/model_output/MNC_LTCOPD.npy',allow_pickle=True)#,sep='\\t',index_col=0,header=None,names=['loc','symbol'])\n",
        "# Panda_Mcont=pd.DataFrame(Panda_Mcont)\n",
        "# Panda_Mcont.columns=['tf','gene','motif','force']\n",
        "# Panda_Mcase=pd.DataFrame(Panda_Mcase)\n",
        "# Panda_Mcase.columns=['tf','gene','motif','force']\n",
        "\n",
        "# Panda_FcaseFULL=np.load('drive/My Drive/Colab Notebooks/model_output/FC_LTCOPD.npy',allow_pickle=True)#,sep='\\t',index_col=0,header=None,names=['loc','symbol'])\n",
        "# Panda_FcontFULL=np.load('drive/My Drive/Colab Notebooks/model_output/FNC_LTCOPD.npy',allow_pickle=True)#,sep='\\t',index_col=0,header=None,names=['loc','symbol'])\n",
        "# Panda_FcontFULL=pd.DataFrame(Panda_FcontFULL)\n",
        "# Panda_FcontFULL.columns=['tf','gene','motif','force']\n",
        "# Panda_FcaseFULL=pd.DataFrame(Panda_FcaseFULL)\n",
        "# Panda_FcaseFULL.columns=['tf','gene','motif','force']\n",
        "\n",
        "# Panda_FcaseFULL['Ca-Co_diff']=zscore(pd.to_numeric(Panda_FcaseFULL.force-Panda_FcontFULL.force))\n",
        "# FeBtf=Panda_FcaseFULL.groupby(['tf']).agg({'force':sum})\n",
        "# FeBg=Panda_FcaseFULL.groupby(['gene']).agg({'Ca-Co_diff':sum})\n",
        "# Panda_Mcase['Ca-Co_diff']=zscore(pd.to_numeric(Panda_Mcase.force-Panda_Mcont.force))\n",
        "# MaBtf=Panda_Mcase.groupby(['tf']).agg({'force':sum})\n",
        "# MaBg=Panda_Mcase.groupby(['gene']).agg({'Ca-Co_diff':sum})\n",
        "\n",
        "# # Panda_FcaseFULL['Ca-Co_diff']=zscore(pd.to_numeric(Panda_FcaseFULL.force-Panda_FcontFULL.force))\n",
        "# # FeDiffB=Panda_FcaseFULL.groupby(['tf']).agg({'Ca-Co_diff':sum})\n",
        "# # Panda_Mcase['Ca-Co_diff']=zscore(pd.to_numeric(Panda_Mcase.force-Panda_Mcont.force))#\n",
        "# # MaDiffB=Panda_Mcase.groupby(['tf']).agg({'Ca-Co_diff':sum})\n",
        "\n",
        "# del Panda_FcaseFULL, Panda_FcontFULL, Panda_Mcase, Panda_Mcont\n",
        "\n",
        "# plt.figure(figsize=(8, 5))\n",
        "\n",
        "# p1=plt.scatter(MaBtf,MaAtf,alpha=.5) ## minus because one is case-control, other control-case!!\n",
        "# p2=plt.scatter(FeBtf,FeAtf,alpha=.25)\n",
        "# plt.ylabel('LTRC case-control TF targeting diff')\n",
        "# plt.xlabel('LTCOPD case-control TF targeting diff')\n",
        "# plt.legend((p1, p2),('Male','Female'))\n",
        "# plt.savefig(\"fig.png\",dpi=300,bbox_inches = \"tight\")"
      ],
      "execution_count": null,
      "outputs": []
    },
    {
      "cell_type": "code",
      "metadata": {
        "id": "BOLmKnGwlhY2"
      },
      "source": [
        "# rhoM, pvalM = np.corrcoef(MaBtf['Ca-Co_diff'], MaAtf['Ca-Co_diff'])\n",
        "# # pvalM\n",
        "# rhoF, pvalF = np.corrcoef(FeBtf['Ca-Co_diff'], FeAtf['Ca-Co_diff'])\n",
        "# # pvalF\n",
        "# print([rhoM[1],rhoF[1]])\n",
        "\n",
        "# rhoM, pvalM = stats.spearmanr(MaBtf['Ca-Co_diff'], MaAtf['Ca-Co_diff'])\n",
        "# # pvalM\n",
        "# rhoF, pvalF = stats.spearmanr(FeBtf['Ca-Co_diff'], FeAtf['Ca-Co_diff'])\n",
        "# # pvalF\n",
        "# print([rhoM,rhoF])"
      ],
      "execution_count": null,
      "outputs": []
    },
    {
      "cell_type": "code",
      "metadata": {
        "id": "bfFKgwg3nq98"
      },
      "source": [
        ""
      ],
      "execution_count": null,
      "outputs": []
    },
    {
      "cell_type": "code",
      "metadata": {
        "id": "2g0iRzwEai3O"
      },
      "source": [
        "# Ma=MaBg.merge(MaAg,left_index=True,right_index=True)\n",
        "# Fe=FeBg.merge(FeAg,left_index=True,right_index=True)\n",
        "# p1=plt.scatter(Ma['Ca-Co_diff_x'],Ma['Ca-Co_diff_y'],alpha=.5) ## minus because one is case-control, other control-case!!\n",
        "# p2=plt.scatter(Fe['Ca-Co_diff_x'],Fe['Ca-Co_diff_y'],alpha=.25)\n",
        "# plt.ylabel('LTRC case-control TF targeting diff')\n",
        "# plt.xlabel('LTCOPD case-control TF targeting diff')\n",
        "# plt.legend((p1, p2),('Male','Female'))\n",
        "# plt.savefig(\"fig.png\",dpi=300,bbox_inches = \"tight\")"
      ],
      "execution_count": null,
      "outputs": []
    },
    {
      "cell_type": "code",
      "metadata": {
        "id": "cnEwtXxmoP2H"
      },
      "source": [
        ""
      ],
      "execution_count": null,
      "outputs": []
    },
    {
      "cell_type": "code",
      "metadata": {
        "id": "yfzCpS_Vh-8i"
      },
      "source": [
        "sex_tf_diff=mmm.merge(nnn,on='tf')\n",
        "a=plt.hist(sex_tf_diff['diff_x'],bins=100,label='male')\n",
        "b=plt.hist(sex_tf_diff['diff_y'],bins=100,label='female')\n",
        "plt.title('Sex-specific Ca-Co TF degree diff')\n",
        "plt.legend(loc=\"best\")"
      ],
      "execution_count": null,
      "outputs": []
    },
    {
      "cell_type": "code",
      "metadata": {
        "id": "iKttBxA2inFY"
      },
      "source": [
        "[sex_tf_diff[(sex_tf_diff['diff_y'])>.15].index.values,sex_tf_diff[(sex_tf_diff['diff_y'])<-0.15].index.values] #,sex_tf_diff[np.abs(sex_tf_diff['diff_y'])>.4].tf]"
      ],
      "execution_count": null,
      "outputs": []
    },
    {
      "cell_type": "code",
      "metadata": {
        "id": "aF1WWreTiv0q"
      },
      "source": [
        "sex_gene_diff=mmmm.merge(nnnn,on='gene')\n",
        "a=plt.hist(sex_gene_diff['diff_x'],bins=100,label='male')\n",
        "b=plt.hist(sex_gene_diff['diff_y'],bins=100,label='female')\n",
        "plt.title('Sex-specific Ca-Co gene degree diff')\n",
        "# plt.xlim(.1,-0.1)\n",
        "plt.legend(loc=\"best\")"
      ],
      "execution_count": null,
      "outputs": []
    },
    {
      "cell_type": "code",
      "metadata": {
        "id": "ghzaypLjiv3d"
      },
      "source": [
        "[sex_gene_diff[(sex_gene_diff['diff_y'])>1].index.values,sex_gene_diff[(sex_gene_diff['diff_y'])<-1].index.values] #,sex_tf_diff[np.abs(sex_tf_diff['diff_y'])>.4].tf]"
      ],
      "execution_count": null,
      "outputs": []
    },
    {
      "cell_type": "code",
      "metadata": {
        "id": "BYBNb5uC18b9"
      },
      "source": [
        "ff=pd.read_csv('drive/My Drive/TF_zscore_F_large_u.txt',sep='\\t',header=0)\n",
        "fff=pd.read_csv('drive/My Drive/gene_zscore_F_large_u.txt',sep='\\t',header=0)\n",
        "mm=pd.read_csv('drive/My Drive/TF_zscore_M_large_u.txt',sep='\\t',header=0)\n",
        "mmm=pd.read_csv('drive/My Drive/gene_zscore_M_large_u.txt',sep='\\t',header=0)\n",
        "sex_tf_diff=ff.merge(mm,on='tf')\n",
        "\n",
        "# a=plt.hist(sex_tf_diff['diff_x'],bins=100,label='female')\n",
        "# b=plt.hist(sex_tf_diff['diff_y'],bins=100,label='male')\n",
        "# plt.title('LTRC Sex-specific Ca-Co TF degree diff')\n",
        "# plt.legend(loc=\"best\")\n",
        "\n",
        "# [sex_tf_diff[(sex_tf_diff['diff_y'])>.1].TF.values,sex_tf_diff[(sex_tf_diff['diff_y'])<-0.1].TF.values] #,sex_tf_diff[np.abs(sex_tf_diff['diff_y'])>.4].tf]\n",
        "\n",
        "sex_tf_diff.columns=['TF','F_case','F_cont','Fdiff','M_case','M_cont','Mdiff']\n",
        "sex_tf_diff.to_csv('drive/My Drive/TF_sex_diff.txt',sep='\\t',index=0)\n",
        "\n",
        "\n",
        "sex_gene_diff=fff.merge(mmm,on='gene')\n",
        "sex_gene_diff.columns=['gene','F_case','F_cont','Fdiff','M_case','M_cont','Mdiff']\n",
        "sex_gene_diff.to_csv('drive/My Drive/gene_sex_diff.txt',sep='\\t',index=0)\n"
      ],
      "execution_count": null,
      "outputs": []
    },
    {
      "cell_type": "markdown",
      "metadata": {
        "id": "GVU9Aj9nKFMi"
      },
      "source": [
        "##Compare All"
      ]
    },
    {
      "cell_type": "code",
      "metadata": {
        "id": "C48pnadvmaSn"
      },
      "source": [
        "ff=pd.read_csv('drive/My Drive/TF_zscore_F_u.txt',sep='\\t',header=0)\n",
        "fff=pd.read_csv('drive/My Drive/gene_zscore_F_u.txt',sep='\\t',header=0)\n",
        "mm=pd.read_csv('drive/My Drive/TF_zscore_M_u.txt',sep='\\t',header=0)\n",
        "mmm=pd.read_csv('drive/My Drive/gene_zscore_M_u.txt',sep='\\t',header=0)\n",
        "\n",
        "sex_tf_diffB=ff.merge(mm,on='tf')\n",
        "sex_tf_diffB.columns=['TF','F_case','F_cont','Fdiff','M_case','M_cont','Mdiff']\n",
        "# sex_tf_diffB.to_csv('drive/My Drive/TF_sex_diff.txt',sep='\\t',index=0)\n",
        "\n",
        "\n",
        "sex_gene_diffB=fff.merge(mmm,on='gene')\n",
        "sex_gene_diffB.columns=['gene','F_case','F_cont','Fdiff','M_case','M_cont','Mdiff']\n",
        "# sex_gene_diffB.to_csv('drive/My Drive/gene_sex_diff.txt',sep='\\t',index=0)"
      ],
      "execution_count": null,
      "outputs": []
    },
    {
      "cell_type": "code",
      "metadata": {
        "id": "NveSiy0iPzrV"
      },
      "source": [
        "ff=pd.read_csv('drive/My Drive/TF_zscore_F_large_u.txt',sep='\\t',header=0)\n",
        "fff=pd.read_csv('drive/My Drive/gene_zscore_F_large_u.txt',sep='\\t',header=0)\n",
        "mm=pd.read_csv('drive/My Drive/TF_zscore_M_large_u.txt',sep='\\t',header=0)\n",
        "mmm=pd.read_csv('drive/My Drive/gene_zscore_M_large_u.txt',sep='\\t',header=0)\n",
        "\n",
        "sex_tf_diffA=ff.merge(mm,on='tf')\n",
        "sex_tf_diffA.columns=['TF','F_case','F_cont','Fdiff','M_case','M_cont','Mdiff']\n",
        "# sex_tf_diffA.to_csv('drive/My Drive/TF_sex_diff.txt',sep='\\t',index=0)\n",
        "\n",
        "\n",
        "sex_gene_diffA=fff.merge(mmm,on='gene')\n",
        "sex_gene_diffA.columns=['gene','F_case','F_cont','Fdiff','M_case','M_cont','Mdiff']\n",
        "# sex_gene_diffA.to_csv('drive/My Drive/gene_sex_diff.txt',sep='\\t',index=0)"
      ],
      "execution_count": null,
      "outputs": []
    },
    {
      "cell_type": "code",
      "metadata": {
        "id": "lXVCTRcduaI-"
      },
      "source": [
        "steve=sex_gene_diffB.merge(sex_gene_diffA,on='gene')\n",
        "c=steve[(steve['Mdiff_x']>.4)&(steve['Mdiff_y']>.4)].gene.dropna().astype(object)\n",
        "# c\n",
        "genes_str='\\n'.join(c)\n",
        "ENRICHR_URL = 'http://maayanlab.cloud/Enrichr/addList'\n",
        "query_string = '?userListId=%s&backgroundType=%s'\n",
        "\n",
        "description = 'Example gene list'\n",
        "payload = {\n",
        "    'list': (None, genes_str),\n",
        "    'description': (None, description)\n",
        "}\n",
        "\n",
        "response = requests.post(ENRICHR_URL, files=payload)\n",
        "if not response.ok:\n",
        "    raise Exception('Error analyzing gene list')\n",
        "\n",
        "data = json.loads(response.text)\n",
        "\n",
        "user_list_id = data['userListId']\n",
        "gene_set_library = 'GO_Biological_Process_2018'\n",
        "ENRICHR_URL = 'http://maayanlab.cloud/Enrichr/enrich'\n",
        "response = requests.get(\n",
        "    ENRICHR_URL + query_string % (user_list_id, gene_set_library)\n",
        "  )\n",
        "if not response.ok:\n",
        "    raise Exception('Error fetching enrichment results')\n",
        "\n",
        "data = json.loads(response.text);\n",
        "processBio=[]\n",
        "pvals=[]\n",
        "for i in range(1,10):\n",
        "    processBio.append(data['GO_Biological_Process_2018'][i][1])\n",
        "    pvals.append(data['GO_Biological_Process_2018'][i][2])\n",
        "plt.figure()\n",
        "y_pos = np.arange(len(processBio))\n",
        "plt.barh(y_pos, -np.log10(pvals))\n",
        "plt.yticks(ticks=y_pos,labels=processBio);\n",
        "plt.gca().invert_yaxis()  \n",
        "plt.xlabel('-log(p-value)')"
      ],
      "execution_count": null,
      "outputs": []
    },
    {
      "cell_type": "code",
      "metadata": {
        "id": "2XEVdQ9gwXy6"
      },
      "source": [
        "steve=sex_gene_diffB.merge(sex_gene_diffA,on='gene')\n",
        "c=steve[(steve['Fdiff_x']>.4)&(steve['Fdiff_y']>.4)].gene.dropna().astype(object)\n",
        "# c\n",
        "genes_str='\\n'.join(c)\n",
        "ENRICHR_URL = 'http://maayanlab.cloud/Enrichr/addList'\n",
        "query_string = '?userListId=%s&backgroundType=%s'\n",
        "\n",
        "description = 'Example gene list'\n",
        "payload = {\n",
        "    'list': (None, genes_str),\n",
        "    'description': (None, description)\n",
        "}\n",
        "\n",
        "response = requests.post(ENRICHR_URL, files=payload)\n",
        "if not response.ok:\n",
        "    raise Exception('Error analyzing gene list')\n",
        "\n",
        "data = json.loads(response.text)\n",
        "\n",
        "user_list_id = data['userListId']\n",
        "gene_set_library = 'GO_Biological_Process_2018'\n",
        "ENRICHR_URL = 'http://maayanlab.cloud/Enrichr/enrich'\n",
        "response = requests.get(\n",
        "    ENRICHR_URL + query_string % (user_list_id, gene_set_library)\n",
        "  )\n",
        "if not response.ok:\n",
        "    raise Exception('Error fetching enrichment results')\n",
        "\n",
        "data = json.loads(response.text);\n",
        "processBio=[]\n",
        "pvals=[]\n",
        "for i in range(1,10):\n",
        "    processBio.append(data['GO_Biological_Process_2018'][i][1])\n",
        "    pvals.append(data['GO_Biological_Process_2018'][i][2])\n",
        "plt.figure()\n",
        "y_pos = np.arange(len(processBio))\n",
        "plt.barh(y_pos, -np.log10(pvals))\n",
        "plt.yticks(ticks=y_pos,labels=processBio);\n",
        "plt.gca().invert_yaxis()  \n",
        "plt.xlabel('-log(p-value)')"
      ],
      "execution_count": null,
      "outputs": []
    },
    {
      "cell_type": "code",
      "metadata": {
        "id": "RfMTLa5oSOWb"
      },
      "source": [
        "sex_tf_diffA=sex_tf_diffA.sort_values('TF')\n",
        "sex_tf_diffB=sex_tf_diffB.sort_values('TF')\n",
        "sex_gene_diffA=sex_gene_diffA.sort_values('gene')\n",
        "sex_gene_diffB=sex_gene_diffB.sort_values('gene')"
      ],
      "execution_count": null,
      "outputs": []
    },
    {
      "cell_type": "code",
      "metadata": {
        "id": "KTtFuGhKRGIg"
      },
      "source": [
        "sex_tf_diffA"
      ],
      "execution_count": null,
      "outputs": []
    },
    {
      "cell_type": "code",
      "metadata": {
        "id": "UuHf6a_xRWiH"
      },
      "source": [
        "plt.figure(figsize=(8, 8))\n",
        "# p1=plt.bar(sex_tf_diffB.index,sex_tf_diffB['Mdiff'])\n",
        "# p2=plt.bar(sex_tf_diffA.index,sex_tf_diffA['Mdiff'],bottom=sex_tf_diffB['Mdiff']) \n",
        "# p3=plt.bar(sex_tf_diffB.index,sex_tf_diffB['Fdiff'])\n",
        "# p4=plt.bar(sex_tf_diffA.index,sex_tf_diffA['Fdiff'],bottom=sex_tf_diffB['Fdiff'])\n",
        "# plt.legend((p1[0], p2[0],p3[0],p4[0]), ('smallMen', 'largeMen','smallWomen','largeWomen'))\n",
        "\n",
        "p1=plt.scatter(sex_tf_diffB['Mdiff'],-sex_tf_diffA['Mdiff'],alpha=.25) ## minus because one is case-control, other control-case!!\n",
        "p2=plt.scatter(sex_tf_diffB['Fdiff'],-sex_tf_diffA['Fdiff'],alpha=.25)\n",
        "# p3=plt.scatter(sex_tf_diffA['Mdiff'],sex_tf_diffA['Fdiff'],alpha=.25) ## minus because one is case-control, other control-case!!\n",
        "# p4=plt.scatter(sex_tf_diffB['Mdiff'],sex_tf_diffB['Fdiff'],alpha=.25)\n",
        "plt.ylabel('LTRC case-control TF targeting diff')\n",
        "plt.xlabel('LTCOPD case-control TF targeting diff')\n",
        "plt.legend((p1, p2),('Male','Female'))#,p3,p4),('Male','Female','LTRC','LTCOPD'))\n",
        "plt.savefig(\"fig.png\",dpi=300,bbox_inches = \"tight\")\n"
      ],
      "execution_count": null,
      "outputs": []
    },
    {
      "cell_type": "code",
      "metadata": {
        "id": "W3hk1uI371MZ"
      },
      "source": [
        "# from scipy.stats import spearmanr\n",
        "# from scipy.stats import zscore"
      ],
      "execution_count": null,
      "outputs": []
    },
    {
      "cell_type": "code",
      "metadata": {
        "id": "Isfn3xR68MG5"
      },
      "source": [
        "rhoM, pvalM = np.corrcoef(sex_tf_diffB['Mdiff'], -sex_tf_diffA['Mdiff'])\n",
        "# pvalM\n",
        "rhoF, pvalF = np.corrcoef(sex_tf_diffB['Fdiff'], -sex_tf_diffA['Fdiff'])\n",
        "# pvalF\n",
        "print([rhoM[1],rhoF[1]])\n",
        "\n",
        "rhoM, pvalM = stats.spearmanr(sex_tf_diffB['Mdiff'], -sex_tf_diffA['Mdiff'])\n",
        "# pvalM\n",
        "rhoF, pvalF = stats.spearmanr(sex_tf_diffB['Fdiff'], -sex_tf_diffA['Fdiff'])\n",
        "# pvalF\n",
        "print([rhoM,rhoF])\n",
        "\n",
        "# rhoM, pvalM = stats.spearmanr(sex_tf_diffA['Mdiff'], sex_tf_diffA['Fdiff'])\n",
        "# # pvalM\n",
        "# rhoF, pvalF = stats.spearmanr(sex_tf_diffA['Mdiff'], sex_tf_diffA['Fdiff'])\n",
        "# # pvalF\n",
        "# print([rhoM,rhoF])\n",
        "\n",
        "# rhoM, pvalM = stats.spearmanr(sex_tf_diffB['Mdiff'], sex_tf_diffB['Fdiff'])\n",
        "# # pvalM\n",
        "# rhoF, pvalF = stats.spearmanr(sex_tf_diffB['Mdiff'], sex_tf_diffB['Fdiff'])\n",
        "# # pval\n",
        "# print([rhoM,rhoF])"
      ],
      "execution_count": null,
      "outputs": []
    },
    {
      "cell_type": "code",
      "metadata": {
        "id": "SQXje4J4hhg-"
      },
      "source": [
        "jeff=pd.DataFrame([sex_tf_diffA.sort_values(by='Fdiff')['TF'].values[0:50],\n",
        "sex_tf_diffA.sort_values(by='Fdiff')['TF'].values[586:636],\n",
        "sex_tf_diffA.sort_values(by='Mdiff')['TF'].values[0:50],\n",
        "sex_tf_diffA.sort_values(by='Mdiff')['TF'].values[586:636],\n",
        "sex_tf_diffB.sort_values(by='Fdiff')['TF'].values[0:50],\n",
        "sex_tf_diffB.sort_values(by='Fdiff')['TF'].values[586:636],\n",
        "sex_tf_diffB.sort_values(by='Mdiff')['TF'].values[0:50],\n",
        "sex_tf_diffB.sort_values(by='Mdiff')['TF'].values[586:636]])\n",
        "\n",
        "jeff.T"
      ],
      "execution_count": null,
      "outputs": []
    },
    {
      "cell_type": "code",
      "metadata": {
        "id": "oNAjy8pCRoQh"
      },
      "source": [
        "pp=jeff.iloc[2].tolist()\n",
        "\n",
        "print(*pp, sep='\\n')"
      ],
      "execution_count": null,
      "outputs": []
    },
    {
      "cell_type": "code",
      "metadata": {
        "id": "Bb1nkHAEyjef"
      },
      "source": [
        "jeff=[set(sex_tf_diffA.sort_values(by='Fdiff')['TF'].values[0:50]),\n",
        "set(sex_tf_diffA.sort_values(by='Fdiff')['TF'].values[586:636]),\n",
        "set(sex_tf_diffA.sort_values(by='Mdiff')['TF'].values[0:50]),\n",
        "set(sex_tf_diffA.sort_values(by='Mdiff')['TF'].values[586:636]),\n",
        "set(sex_tf_diffB.sort_values(by='Fdiff')['TF'].values[0:50]),\n",
        "set(sex_tf_diffB.sort_values(by='Fdiff')['TF'].values[586:636]),\n",
        "set(sex_tf_diffB.sort_values(by='Mdiff')['TF'].values[0:50]),\n",
        "set(sex_tf_diffB.sort_values(by='Mdiff')['TF'].values[586:636])]"
      ],
      "execution_count": null,
      "outputs": []
    },
    {
      "cell_type": "markdown",
      "metadata": {
        "id": "TWqkz16pdchq"
      },
      "source": [
        "https://github.com/gecko984/supervenn:\n",
        "> The numbers at the bottom show the sizes (cardinalities) of all intersections, which we will call chunks. The sizes of sets and their intersections (chunks) are up to proportion, but the order of elements is not preserved\n"
      ]
    },
    {
      "cell_type": "code",
      "metadata": {
        "id": "CUtD_ORFTedr"
      },
      "source": [
        "!pip install supervenn\n",
        "from supervenn import supervenn"
      ],
      "execution_count": null,
      "outputs": []
    },
    {
      "cell_type": "code",
      "metadata": {
        "id": "_Xr8Qs3vXgxM"
      },
      "source": [
        "plt.figure(figsize=(20, 10))\n",
        "species_names=['LTRC_Fdiff_up','LTRC_Fdiff_down','LTRC_Mdiff_up','LTRC_Mdiff_down',\n",
        "      'LTCOPD_Fdiff_up','LTCOPD_Fdiff_down','LTCOPD_Mdiff_up','LTCOPD_Mdiff_down']\n",
        "\n",
        "cc=supervenn(jeff, species_names, rotate_col_annotations=True)#,\n",
        "          # col_annotations_area_height=1.2, sets_ordering='minimize gaps',\n",
        "          # min_width_for_annotation=180)"
      ],
      "execution_count": null,
      "outputs": []
    },
    {
      "cell_type": "code",
      "metadata": {
        "id": "Q2oiutnaxLzA"
      },
      "source": [
        "#A=LTCOPD, cont-case\n",
        "pp=set(sex_tf_diffA.sort_values(by='Mdiff')['TF'].values[0:50]).difference(set(sex_tf_diffA.sort_values(by='Fdiff')['TF'].values[0:50]))\n",
        "print(*pp, sep='\\n')\n",
        "print('\\n')\n",
        "pp=set(sex_tf_diffA.sort_values(by='Mdiff')['TF'].values[586:636]).difference(set(sex_tf_diffA.sort_values(by='Fdiff')['TF'].values[586:636]))\n",
        "print(*pp, sep='\\n')"
      ],
      "execution_count": null,
      "outputs": []
    },
    {
      "cell_type": "code",
      "metadata": {
        "id": "DCemJG721J4u"
      },
      "source": [
        "pp=set(sex_tf_diffA.sort_values(by='Fdiff')['TF'].values[0:50]).difference(set(sex_tf_diffA.sort_values(by='Mdiff')['TF'].values[0:50]))\n",
        "print(*pp, sep='\\n')\n",
        "print('\\n')\n",
        "pp=set(sex_tf_diffA.sort_values(by='Fdiff')['TF'].values[586:636]).difference(set(sex_tf_diffA.sort_values(by='Mdiff')['TF'].values[586:636]))\n",
        "print(*pp, sep='\\n')"
      ],
      "execution_count": null,
      "outputs": []
    },
    {
      "cell_type": "code",
      "metadata": {
        "id": "n48SrLP30lg4"
      },
      "source": [
        "pp=set(sex_tf_diffB.sort_values(by='Mdiff')['TF'].values[0:50]).difference(set(sex_tf_diffB.sort_values(by='Fdiff')['TF'].values[0:50]))\n",
        "print(*pp, sep='\\n')\n",
        "print('\\n')\n",
        "pp=set(sex_tf_diffB.sort_values(by='Mdiff')['TF'].values[586:636]).difference(set(sex_tf_diffB.sort_values(by='Fdiff')['TF'].values[586:636]))\n",
        "print(*pp, sep='\\n')"
      ],
      "execution_count": null,
      "outputs": []
    },
    {
      "cell_type": "code",
      "metadata": {
        "id": "N72NQAtP3Jd8"
      },
      "source": [
        "pp=set(sex_tf_diffB.sort_values(by='Fdiff')['TF'].values[0:50]).difference(set(sex_tf_diffB.sort_values(by='Mdiff')['TF'].values[0:50]))\n",
        "print(*pp, sep='\\n')\n",
        "print('\\n')\n",
        "pp=set(sex_tf_diffB.sort_values(by='Fdiff')['TF'].values[586:636]).difference(set(sex_tf_diffB.sort_values(by='Mdiff')['TF'].values[586:636]))\n",
        "print(*pp, sep='\\n')"
      ],
      "execution_count": null,
      "outputs": []
    },
    {
      "cell_type": "code",
      "metadata": {
        "id": "BX-fd7LAWKqu"
      },
      "source": [
        "plt.figure(figsize=(8, 8))\n",
        "\n",
        "p1=plt.scatter(bb['Mdiff_x'],bb['Mdiff_y'],alpha=.5)\n",
        "p2=plt.scatter(bb['Fdiff_x'],bb['Fdiff_y'],alpha=.25)\n",
        "plt.ylabel('LTRC control-case gene targeting diff')\n",
        "plt.xlabel('LTCOPD control-case gene targeting diff')\n",
        "plt.legend((p1, p2),('Male','Female'))"
      ],
      "execution_count": null,
      "outputs": []
    },
    {
      "cell_type": "code",
      "metadata": {
        "id": "XBDa5yjhfTGx"
      },
      "source": [
        "rhoM, pvalM = np.corrcoef(bb['Mdiff_x'], bb['Mdiff_y'])\n",
        "# pvalM\n",
        "rhoF, pvalF = np.corrcoef(bb['Fdiff_x'], bb['Fdiff_y'])\n",
        "# pvalF\n",
        "print([rhoM[1],rhoF[1]])\n",
        "\n",
        "rhoM, pvalM = stats.spearmanr(bb['Mdiff_x'], bb['Mdiff_y'])\n",
        "# pvalM\n",
        "rhoF, pvalF = stats.spearmanr(bb['Fdiff_x'], bb['Fdiff_y'])\n",
        "# pvalF\n",
        "print([rhoM,rhoF])"
      ],
      "execution_count": null,
      "outputs": []
    },
    {
      "cell_type": "code",
      "metadata": {
        "id": "y3LI9WQkiSZB"
      },
      "source": [
        "jeff=pd.DataFrame([sex_gene_diffA.sort_values(by='Fdiff')['gene'].values[0:100],\n",
        "sex_gene_diffA.sort_values(by='Fdiff')['gene'].values[(len(sex_gene_diffA.Fdiff)-100):len(sex_gene_diffA.Fdiff)],\n",
        "sex_gene_diffA.sort_values(by='Mdiff')['gene'].values[0:100],\n",
        "sex_gene_diffA.sort_values(by='Mdiff')['gene'].values[(len(sex_gene_diffA.Mdiff)-100):len(sex_gene_diffA.Mdiff)],\n",
        "sex_gene_diffB.sort_values(by='Fdiff')['gene'].values[0:100],\n",
        "sex_gene_diffB.sort_values(by='Fdiff')['gene'].values[(len(sex_gene_diffB.Fdiff)-100):len(sex_gene_diffB.Fdiff)],\n",
        "sex_gene_diffB.sort_values(by='Mdiff')['gene'].values[0:100],\n",
        "sex_gene_diffB.sort_values(by='Mdiff')['gene'].values[(len(sex_gene_diffB.Mdiff)-100):len(sex_gene_diffB.Mdiff)]])\n",
        "\n",
        "# jeff=jeff.T\n"
      ],
      "execution_count": null,
      "outputs": []
    },
    {
      "cell_type": "code",
      "metadata": {
        "id": "FlQwWRjGjRyH"
      },
      "source": [
        "\n",
        "pp=jeff[1].tolist()\n",
        "\n",
        "print(*pp, sep='\\n')"
      ],
      "execution_count": null,
      "outputs": []
    },
    {
      "cell_type": "code",
      "metadata": {
        "id": "kA_QyAPTd0HN"
      },
      "source": [
        "jeff2=[set(sex_gene_diffA.sort_values(by='Fdiff')['gene'].values[0:100]),\n",
        "set(sex_gene_diffA.sort_values(by='Fdiff')['gene'].values[(len(sex_gene_diffA.Fdiff)-100):len(sex_gene_diffA.Fdiff)]),\n",
        "set(sex_gene_diffA.sort_values(by='Mdiff')['gene'].values[0:100]),\n",
        "set(sex_gene_diffA.sort_values(by='Mdiff')['gene'].values[(len(sex_gene_diffA.Mdiff)-100):len(sex_gene_diffA.Mdiff)]),\n",
        "set(sex_gene_diffB.sort_values(by='Fdiff')['gene'].values[0:100]),\n",
        "set(sex_gene_diffB.sort_values(by='Fdiff')['gene'].values[(len(sex_gene_diffB.Fdiff)-100):len(sex_gene_diffB.Fdiff)]),\n",
        "set(sex_gene_diffB.sort_values(by='Mdiff')['gene'].values[0:100]),\n",
        "set(sex_gene_diffB.sort_values(by='Mdiff')['gene'].values[(len(sex_gene_diffB.Mdiff)-100):len(sex_gene_diffB.Mdiff)])]"
      ],
      "execution_count": null,
      "outputs": []
    },
    {
      "cell_type": "code",
      "metadata": {
        "id": "h08HzXajeJtU"
      },
      "source": [
        "plt.figure(figsize=(20, 10))\n",
        "species_names=['large_Fdiff_up','large_Fdiff_down','large_Mdiff_up','large_Mdiff_down',\n",
        "      'Fdiff_up','Fdiff_down','Mdiff_up','Mdiff_down']\n",
        "\n",
        "supervenn(jeff2, species_names, rotate_col_annotations=True)#,\n",
        "          # col_annotations_area_height=1.2, sets_ordering='minimize gaps',\n",
        "          # min_width_for_annotation=180)"
      ],
      "execution_count": null,
      "outputs": []
    },
    {
      "cell_type": "markdown",
      "metadata": {
        "id": "z6adI-dq2nLT"
      },
      "source": [
        "##MALE V FEMALE CASE"
      ]
    },
    {
      "cell_type": "code",
      "metadata": {
        "id": "3c1UpZUA2r6I"
      },
      "source": [
        "MC=pd.read_csv('drive/My Drive/LARGE_sex_panda/MC_LTRC.txt',names=['TF','gene','motif','force'],sep=' ')\n",
        "FC=pd.read_csv('drive/My Drive/LARGE_sex_panda/FC_LTRC.txt',names=['TF','gene','motif','force'],sep='\\t')\n"
      ],
      "execution_count": null,
      "outputs": []
    },
    {
      "cell_type": "code",
      "metadata": {
        "id": "naPwoh9u2r8y"
      },
      "source": [
        "TFsum_3=MC.groupby(['TF']).agg({'force':sum})\n",
        "TFsum_1=FC.groupby(['TF']).agg({'force':sum})\n",
        "TFsum_1['force']=zscore(TFsum_1['force'])\n",
        "TFsum_3['force']=zscore(TFsum_3['force']) ##reduces range from 1500 to 3\n",
        "\n",
        "geneSum_3=MC.groupby(['gene']).agg({'force':sum})\n",
        "geneSum_1=FC.groupby(['gene']).agg({'force':sum})\n",
        "geneSum_3['force']=zscore(geneSum_3['force'])\n",
        "geneSum_1['force']=zscore(geneSum_1['force'])\n",
        "\n",
        "mmm=TFsum_3.merge(TFsum_1, left_on=['TF'], right_on=['TF'])\n",
        "mmmm=geneSum_3.merge(geneSum_1, left_on=['gene'], right_on=['gene'])\n",
        "\n",
        "# del [[MC, MNC]]\n",
        "# gc.collect()\n",
        "MC=pd.DataFrame()\n",
        "MNC=pd.DataFrame()\n",
        "Panda_FcontFULL=pd.DataFrame()\n",
        "Panda_FcontFULL=pd.DataFrame()\n",
        "\n",
        "\n",
        "mmm['diff']=mmm.force_x-mmm.force_y\n",
        "mmm = mmm.sort_values(by ='diff' )\n",
        "\n",
        "\n",
        "mmmm['diff']=mmmm.force_x-mmmm.force_y\n",
        "mmmm = mmmm.sort_values(by ='diff' )\n",
        "mmm.to_csv('drive/My Drive/LARGE_sex_panda/TF_zscore_Case.txt',sep='\\t')\n",
        "mmmm.to_csv('drive/My Drive/LARGE_sex_panda/gene_zscore_Case.txt',sep='\\t',index=0)"
      ],
      "execution_count": null,
      "outputs": []
    },
    {
      "cell_type": "markdown",
      "metadata": {
        "id": "IXHNorl32sG4"
      },
      "source": [
        "##MALE V FEMALE CONTROL\n"
      ]
    },
    {
      "cell_type": "code",
      "metadata": {
        "id": "-oQfUjiA2uK_"
      },
      "source": [
        "MNC=pd.read_csv('data/LTRC/sex/MNC_LTRC.txt',names=['TF','gene','motif','force'],sep=' ')\n",
        "FNC=pd.read_csv('data/LTRC/sex/FNC_LTRC.txt',names=['TF','gene','motif','force'],sep=' ')"
      ],
      "execution_count": null,
      "outputs": []
    },
    {
      "cell_type": "code",
      "metadata": {
        "id": "PgMYW-dG2uNz"
      },
      "source": [
        "TFsum_4=MNC.groupby(['TF']).agg({'force':sum})\n",
        "TFsum_2=FNC.groupby(['TF']).agg({'force':sum})\n",
        "TFsum_2['force']=zscore(TFsum_2['force'])\n",
        "TFsum_4['force']=zscore(TFsum_4['force']) ##reduces range from 2500 to 4\n",
        "\n",
        "geneSum_4=FNC.groupby(['gene']).agg({'force':sum})\n",
        "geneSum_2=MNC.groupby(['gene']).agg({'force':sum})\n",
        "geneSum_4['force']=zscore(geneSum_4['force'])\n",
        "geneSum_2['force']=zscore(geneSum_2['force'])\n",
        "\n",
        "mmm=TFsum_4.merge(TFsum_2, left_on=['TF'], right_on=['TF'])\n",
        "mmmm=geneSum_4.merge(geneSum_2, left_on=['gene'], right_on=['gene'])\n",
        "\n",
        "# del [[FC, FNC]]\n",
        "# gc.collect()\n",
        "FC=pd.DataFrame()\n",
        "FNC=pd.DataFrame()\n",
        "Panda_FcontFULL=pd.DataFrame()\n",
        "Panda_FcontFULL=pd.DataFrame()\n",
        "\n",
        "\n",
        "mmm['diff']=mmm.force_x-mmm.force_y\n",
        "mmm = mmm.sort_values(by ='diff' )\n",
        "\n",
        "\n",
        "mmmm['diff']=mmmm.force_x-mmmm.force_y\n",
        "mmmm = mmmm.sort_values(by ='diff' )\n",
        "mmm.to_csv('drive/My Drive/LARGE_sex_panda/TF_zscore_Control.txt',sep='\\t')\n",
        "mmmm.to_csv('drive/My Drive/LARGE_sex_panda/gene_zscore_Control.txt',sep='\\t',index=0)"
      ],
      "execution_count": null,
      "outputs": []
    },
    {
      "cell_type": "code",
      "metadata": {
        "id": "TND_Ihrg20_e"
      },
      "source": [
        "ff=pd.read_csv('data/LTRC/sex/TF_zscore_Case.txt',sep='\\t',header=0)\n",
        "fff=pd.read_csv('data/LTRC/sex/gene_zscore_Case.txt',sep='\\t',header=0)\n",
        "mm=pd.read_csv('data/LTRC/sex/TF_zscore_Control.txt',sep='\\t',header=0)\n",
        "mmm=pd.read_csv('data/LTRC/sex/gene_zscore_Control.txt',sep='\\t',header=0)\n",
        "sex_tf_diff=ff.merge(mm,on='TF')\n",
        "\n",
        "a=plt.hist(sex_tf_diff['diff_x'],bins=100,label='Case')\n",
        "b=plt.hist(sex_tf_diff['diff_y'],bins=100,label='Control')\n",
        "plt.title('LTRC Sex-specific Male-Female TF degree diff')\n",
        "plt.legend(loc=\"best\")\n"
      ],
      "execution_count": null,
      "outputs": []
    },
    {
      "cell_type": "code",
      "metadata": {
        "id": "aS_zESgI21Bl"
      },
      "source": [
        ""
      ],
      "execution_count": null,
      "outputs": []
    },
    {
      "cell_type": "markdown",
      "metadata": {
        "id": "O2i3O_AeS-ht"
      },
      "source": [
        "#negative control\n",
        "create 4 randomly chosen subsets to test difference of differences between panda nets\n",
        "\n",
        "use other colab for more memory:\n",
        "https://colab.research.google.com/drive/1ebLeRX6Gwywgs1Yn_gcL8TYufgkfbchX#scrollTo=wS_rwFkacl74\n",
        "\n",
        "\n",
        "\n",
        "\n"
      ]
    },
    {
      "cell_type": "code",
      "metadata": {
        "id": "voahkf1Mxs26"
      },
      "source": [
        "# !pip install GEOparse\n",
        "# import GEOparse\n",
        "# gse = GEOparse.get_GEO(geo=\"GSE76925\", destdir=\"./\")\n",
        "# illumina_labels=pd.read_csv('drive/My Drive/Colab Notebooks dcm/GPL10558_illumina_prb_loc.txt',sep='\\t',index_col=0,header=None,names=['loc','symbol'])\n",
        "\n",
        "# gpl = gse.gpls[next(iter(gse.gpls))]\n",
        "# data = gse.pivot_samples(values=\"VALUE\")#, gpl=gpl, annotation_column=\"Symbol\")\n",
        "# data.sort_index\n",
        "\n",
        "LCL_ppi=pd.read_csv('https://granddb.s3.amazonaws.com/optPANDA/ppi/ppi_complete.txt',sep='\\t',header=None)\n",
        "LCL_ppi.to_csv('drive/My Drive/ppi_complete.txt',sep='\\t',index=False,header=False)\n",
        "\n",
        "coding_LCL_motif=pd.read_csv('https://granddb.s3.amazonaws.com/optPANDA/motifs/Hugo_motifCellLine.txt',sep='\\t',header=None)\n",
        "coding_LCL_motif.to_csv('drive/My Drive/coding_LCL_motif.txt',sep='\\t',index=False,header=False)\n",
        "\n",
        "motif_data='drive/My Drive/Colab Notebooks/coding_LCL_motif.txt'\n",
        "ppi_data='drive/My Drive/Colab Notebooks/ppi_complete.txt'\n",
        "\n",
        "# plt.hist(nullA.values.flatten(),alpha=.5,log=True)\n",
        "# plt.hist(nullB.values.flatten(),alpha=.5,log=True)\n",
        "# plt.hist(nullC.values.flatten(),alpha=.5,log=True)\n",
        "# plt.hist(nullD.values.flatten(),alpha=.5,log=True)\n",
        "# plt.xlabel('test')\n"
      ],
      "execution_count": null,
      "outputs": []
    },
    {
      "cell_type": "code",
      "metadata": {
        "id": "id-MeAb2xupv"
      },
      "source": [
        "null=data.merge(illumina_labels,left_index=True,right_index=True)\n",
        "null.index=null['symbol']\n",
        "del null['loc'], null['symbol']"
      ],
      "execution_count": null,
      "outputs": []
    },
    {
      "cell_type": "code",
      "metadata": {
        "id": "XE4_CjD6xw33"
      },
      "source": [
        "def negCont(nullA,nullB,i):\n",
        "  panda_nullA = Panda(nullA, motif_data, ppi_data,computing='gpu',precision='single',save_tmp=False,save_memory = True, remove_missing=False, keep_expression_matrix = False,modeProcess = 'intersection')\n",
        "  # np.save('drive/My Drive/Panda_nullA.npy',panda_nullA.export_panda_results)\n",
        "  panda_nullB = Panda(nullB, motif_data, ppi_data,computing='gpu',precision='single',save_tmp=False,save_memory = True, remove_missing=False, keep_expression_matrix = False,modeProcess = 'intersection')\n",
        "  # np.save('drive/My Drive/Panda_nullB.npy',panda_nullB.export_panda_results)\n",
        "\n",
        "  subset_panda_results3 = panda_nullA.export_panda_results.sort_values(by=['force'], ascending=False)\n",
        "  subset_panda_results1 = panda_nullB.export_panda_results.sort_values(by=['force'], ascending=False)\n",
        "  del subset_panda_results3['motif'],subset_panda_results1['motif']\n",
        "  del panda_nullA, panda_nullB\n",
        "\n",
        "  ##aggregate TF link sum and zscore\n",
        "  TFsum_3=subset_panda_results3.groupby(['tf']).agg({'force':sum})\n",
        "  TFsum_1=subset_panda_results1.groupby(['tf']).agg({'force':sum})\n",
        "  TFsum_1['force']=zscore(TFsum_1['force'])\n",
        "  TFsum_3['force']=zscore(TFsum_3['force'])\n",
        "\n",
        "  ##aggregate gene link sum and zscore\n",
        "  geneSum_3=subset_panda_results3.groupby(['gene']).agg({'force':sum})\n",
        "  geneSum_1=subset_panda_results1.groupby(['gene']).agg({'force':sum})\n",
        "  geneSum_3['force']=zscore(geneSum_3['force'])\n",
        "  geneSum_1['force']=zscore(geneSum_1['force'])\n",
        "\n",
        "  ##merge\n",
        "  nnn=TFsum_3.merge(TFsum_1, left_on=['tf'], right_on=['tf'])\n",
        "  nnnn=geneSum_3.merge(geneSum_1, left_on=['gene'], right_on=['gene'])\n",
        "\n",
        "  del [[subset_panda_results3, subset_panda_results1]]\n",
        "  gc.collect()\n",
        "  subset_panda_results3=pd.DataFrame()\n",
        "  subset_panda_results1=pd.DataFrame()\n",
        "\n",
        "  ##diff\n",
        "  nnn['diff']=nnn.force_x-nnn.force_y\n",
        "  # nnn = nnn.sort_values(by ='diff' )\n",
        "  del nnn['force_x'], nnn['force_y']\n",
        "  nnn=nnn.sort_index(axis=0)\n",
        "  nnn=nnn.T\n",
        "  nnnn['diff']=nnnn.force_x-nnnn.force_y\n",
        "  # nnnn = nnnn.sort_values(by ='diff' )\n",
        "  del nnnn['force_x'], nnnn['force_y']\n",
        "  nnnn=nnnn.sort_index(axis=0)\n",
        "  nnnn=nnnn.T\n",
        "  if i==1:\n",
        "    nnn.to_csv('drive/My Drive/Colab Notebooks/model_output/TF_zscore_rand_CLE.txt',sep='\\t',header=True,index=None)\n",
        "    nnnn.to_csv('drive/My Drive/Colab Notebooks/model_output/gene_zscore_rand_CLE.txt',sep='\\t',header=True,index=None)\n",
        "  elif i!=1:\n",
        "    nnn.to_csv('drive/My Drive/Colab Notebooks/model_output/TF_zscore_rand_CLE.txt',sep='\\t',header=None,index=None,mode='a')\n",
        "    nnnn.to_csv('drive/My Drive/Colab Notebooks/model_output/gene_zscore_rand_CLE.txt',sep='\\t',header=None,index=None,mode='a')\n",
        "  \n",
        "  del nnn, nnnn\n",
        "  gc.collect()\n",
        "\n"
      ],
      "execution_count": null,
      "outputs": []
    },
    {
      "cell_type": "code",
      "metadata": {
        "id": "nJzX1xvI3FrZ"
      },
      "source": [
        "for i in range(1,10):\n",
        "  ## four random group exact same size as LTCOPD cases and controls\n",
        "  null=data.merge(illumina_labels,left_index=True,right_index=True)\n",
        "  null.index=null['symbol']\n",
        "  del null['loc'], null['symbol']\n",
        "  j=np.random.choice(151, size=(67, ),replace=False) ##67 total males\n",
        "  nullA=null.iloc[:,j.tolist()] ##reduce to random 68\n",
        "  null2=null.drop(nullA.columns,axis=1) ## create second group without these 68\n",
        "\n",
        "  k=np.random.choice(j,15,replace=False) ##15 male controls\n",
        "  nullB=null.iloc[:,k.tolist()] ##take 15 of 68 for male control random\n",
        "  nullA=nullA.drop(nullB.columns,axis=1) ## remove these 15 from male cases\n",
        "\n",
        "  l=np.random.choice(null2.shape[1], size=(84, ),replace=False) ##84 total females\n",
        "  nullC=null2.iloc[:,l.tolist()] ##subset leftover from first null to 85\n",
        "  m=np.random.choice(l[l<85],25,replace=False) ##25 controls\n",
        "  nullD=nullC.iloc[:,m.tolist()] ##take 25 for female random control\n",
        "  nullC=nullC.drop(nullD.columns,axis=1)\n",
        "\n",
        "  negCont(nullA,nullB,i)\n",
        "  negCont(nullC,nullD,i+1)\n",
        "\n",
        "  print('saved iteration='+str(i))"
      ],
      "execution_count": null,
      "outputs": []
    },
    {
      "cell_type": "code",
      "metadata": {
        "id": "4BcUH_ZJF1sB"
      },
      "source": [
        "TF_diffNull=pd.read_csv('drive/My Drive/Colab Notebooks/model_output/TF_zscore_rand_CLE.txt',sep='\\t')\n",
        "gene_diffNull=pd.read_csv('drive/My Drive/Colab Notebooks/model_output/gene_zscore_rand_CLE.txt',sep='\\t')\n",
        "TF_diffNull=TF_diffNull.T\n",
        "gene_diffNull=gene_diffNull.T"
      ],
      "execution_count": null,
      "outputs": []
    },
    {
      "cell_type": "code",
      "metadata": {
        "id": "0nmbS0NsHL6r"
      },
      "source": [
        "for i, col in enumerate(TF_diffNull.columns):\n",
        "    # plt.figure(i)\n",
        "    tmp=sns.kdeplot(TF_diffNull[col])"
      ],
      "execution_count": null,
      "outputs": []
    },
    {
      "cell_type": "code",
      "metadata": {
        "id": "1Q31dYw5QqbE"
      },
      "source": [
        "for i, col in enumerate(gene_diffNull.columns):\n",
        "    # plt.figure(i)\n",
        "    tmp=sns.kdeplot(gene_diffNull[col])"
      ],
      "execution_count": null,
      "outputs": []
    },
    {
      "cell_type": "markdown",
      "metadata": {
        "id": "oW_96Huk4uxJ"
      },
      "source": [
        "# LTRC negCont"
      ]
    },
    {
      "cell_type": "code",
      "metadata": {
        "id": "liaGW2Oi4uAd"
      },
      "source": [
        "LTRC_exp=pd.read_csv('drive/My Drive/harvard/LARGE_COPD/age_sex_LTRC_XXX.txt',sep='\\t',index_col=0)\n",
        "LTRC_exp_key=pd.read_csv('drive/My Drive/harvard/LARGE_COPD/age_sex_LTRC_XXXkey.txt',sep='\\t')\n",
        "data=np.divide(LTRC_exp,LTRC_exp_key)\n",
        "data=data.groupby(data.index).mean()\n",
        "\n",
        "motif_data='drive/My Drive/coding_LCL_motif.txt'\n",
        "ppi_data='drive/My Drive/ppi_complete.txt'\n",
        "\n",
        "LTCOPD_genes=pd.read_csv('drive/My Drive/Colab Notebooks/LTCOPD_genes.txt',index_col=None,header=None,sep='\\t')\n",
        "data1=np.log2(data.dropna(how='all'))\n",
        "data1=data1.merge(LTCOPD_genes,left_index=True,right_on=0)\n",
        "data1.index=data1[0]\n",
        "data1.replace([np.inf, -np.inf], np.nan,inplace=True)\n",
        "data1.replace(np.nan, 0,inplace=True)\n",
        "del data1[0]"
      ],
      "execution_count": null,
      "outputs": []
    },
    {
      "cell_type": "code",
      "metadata": {
        "id": "Q1cVpQUL9t4m"
      },
      "source": [
        "FC=data1.iloc[:,data1.columns.str.contains('_0_1')]\n",
        "FNC=data1.iloc[:,data1.columns.str.contains('_0_0')]\n",
        "MC=data1.iloc[:,data1.columns.str.contains('_1_1')]\n",
        "MNC=data1.iloc[:,data1.columns.str.contains('_1_0')]"
      ],
      "execution_count": null,
      "outputs": []
    },
    {
      "cell_type": "code",
      "metadata": {
        "id": "Uogxf4Fv-SKg"
      },
      "source": [
        "def negCont(nullA,nullB,i,timestr,motif_data,ppi_data):\n",
        "  panda_nullA = Panda(nullA, motif_data, ppi_data,computing='gpu',precision='single',save_tmp=False,save_memory = True, remove_missing=True, keep_expression_matrix = False,modeProcess = 'intersection')\n",
        "  # np.save('drive/My Drive/Panda_nullA.npy',panda_nullA.export_panda_results)\n",
        "  gc.collect()\n",
        "  panda_nullB = Panda(nullB, motif_data, ppi_data,computing='gpu',precision='single',save_tmp=False,save_memory = True, remove_missing=True, keep_expression_matrix = False,modeProcess = 'intersection')\n",
        "  # np.save('drive/My Drive/Panda_nullB.npy',panda_nullB.export_panda_results)\n",
        "  uniq_tfs=np.intersect1d(panda_nullA.ppi_tfs,panda_nullA.motif_tfs)\n",
        "  uniq_genes=np.intersect1d(panda_nullA.motif_genes,panda_nullA.expression_genes)\n",
        "  tfs = np.tile(uniq_tfs, (len(uniq_genes), 1)).flatten()\n",
        "  genes = np.repeat(uniq_genes,panda_nullA.num_tfs)\n",
        "  forceA = panda_nullA.motif_matrix.flatten(order='F')\n",
        "  forceB = panda_nullB.motif_matrix.flatten(order='F')\n",
        "  export_panda_results = pd.DataFrame({'tf':tfs, 'gene': genes,'forceA': forceA,'forceB': forceB})#.sort_values(by=['force'], ascending=False)\n",
        "\n",
        "  # subset_panda_resultsA = panda_nullA.export_panda_results.sort_values(by=['force'], ascending=False)\n",
        "  # subset_panda_resultsB = panda_nullB.export_panda_results.sort_values(by=['force'], ascending=False)\n",
        "  # del subset_panda_resultsA['motif'],subset_panda_resultsB['motif']\n",
        "  del panda_nullA, panda_nullB, forceA, forceB\n",
        "\n",
        "  ##aggregate TF link sum and zscore\n",
        "  TFsum_A=export_panda_results.groupby(['tf']).agg({'forceA':sum})\n",
        "  TFsum_B=export_panda_results.groupby(['tf']).agg({'forceB':sum})\n",
        "  TFsum_B['force']=zscore(TFsum_B['forceB'])\n",
        "  TFsum_A['force']=zscore(TFsum_A['forceA'])\n",
        "\n",
        "  ##aggregate gene link sum and zscore\n",
        "  geneSum_A=export_panda_results.groupby(['gene']).agg({'forceA':sum})\n",
        "  geneSum_B=export_panda_results.groupby(['gene']).agg({'forceB':sum})\n",
        "  geneSum_A['force']=zscore(geneSum_A['forceA'])\n",
        "  geneSum_B['force']=zscore(geneSum_B['forceB'])\n",
        "\n",
        "  ##merge\n",
        "  sumTFdiff=TFsum_A.merge(TFsum_B, left_on=['tf'], right_on=['tf'])\n",
        "  sumGenediff=geneSum_A.merge(geneSum_B, left_on=['gene'], right_on=['gene'])\n",
        "\n",
        "  del export_panda_results, tfs, genes,forceA,forceB #[[subset_panda_resultsA, subset_panda_resultsB]]\n",
        "  gc.collect()\n",
        "  export_panda_results=pd.DataFrame()\n",
        "  # subset_panda_resultsA=pd.DataFrame()\n",
        "  # subset_panda_resultsB=pd.DataFrame()\n",
        "\n",
        "  ##diff\n",
        "  sumTFdiff['diff']=sumTFdiff.force_x-sumTFdiff.force_y\n",
        "  # sumTFdiff = sumTFdiff.sort_values(by ='diff' )\n",
        "  del sumTFdiff['force_x'], sumTFdiff['force_y']\n",
        "  sumTFdiff=sumTFdiff.sort_index(axis=0)\n",
        "  sumTFdiff=sumTFdiff.T\n",
        "  sumGenediff['diff']=sumGenediff.force_x-sumGenediff.force_y\n",
        "  # sumGenediff = sumGenediff.sort_values(by ='diff' )\n",
        "  del sumGenediff['force_x'], sumGenediff['force_y']\n",
        "  sumGenediff=sumGenediff.sort_index(axis=0)\n",
        "  sumGenediff=sumGenediff.T\n",
        "  if i==1:\n",
        "    sumTFdiff.to_csv('drive/My Drive/Colab Notebooks/model_output/null/TF_zscore_rand_'+timestr+'.txt',sep='\\t',header=True,index=None)\n",
        "    sumGenediff.to_csv('drive/My Drive/Colab Notebooks/model_output/null/gene_zscore_rand_'+timestr+'.txt',sep='\\t',header=True,index=None)\n",
        "  elif i!=1:\n",
        "    sumTFdiff.to_csv('drive/My Drive/Colab Notebooks/model_output/null/TF_zscore_rand_'+timestr+'.txt',sep='\\t',header=None,index=None,mode='a')\n",
        "    sumGenediff.to_csv('drive/My Drive/Colab Notebooks/model_output/null/gene_zscore_rand_'+timestr+'.txt',sep='\\t',header=None,index=None,mode='a')\n",
        "  del sumTFdiff, sumGenediff\n",
        "  gc.collect()"
      ],
      "execution_count": null,
      "outputs": []
    },
    {
      "cell_type": "code",
      "metadata": {
        "id": "eYBdSOZO3GPN"
      },
      "source": [
        "inits=100\n",
        "for i in range(1,inits):\n",
        "    ## form two random groups of exact size as initial cases and controls\n",
        "    # data=pd.read_csv(expression_file,sep='\\t',index_col=0)\n",
        "    j=np.random.choice(data1.shape[1], size=(MC.shape[1]+MNC.shape[1], ),replace=False) ## total males\n",
        "    nullA=data1.iloc[:,j.tolist()] ##reduce to random set\n",
        "    # null2=data.drop(nullA.columns,axis=1) ## create second group without these\n",
        "\n",
        "    k=np.random.choice(j,MNC.shape[1],replace=False) ## male controls\n",
        "    nullB=data1.iloc[:,k.tolist()] ##remove controls from male pop\n",
        "    nullA=nullA.drop(nullB.columns,axis=1) ## remove these from male cases\n",
        "\n",
        "    # l=np.random.choice(null2.shape[1], size=(FC.shape[1]+FNC.shape[1], ),replace=False) ##84 total females\n",
        "    # nullC=null2.iloc[:,l.tolist()] ##subset leftover from first null to 85\n",
        "    # m=np.random.choice(l[l<FC.shape[1]+1+FNC.shape[1]],FNC.shape[1],replace=False) ##25 controls\n",
        "    # nullD=nullC.iloc[:,m.tolist()] ##take 25 for female random control\n",
        "    # nullC=nullC.drop(nullD.columns,axis=1)\n",
        "\n",
        "    sumTFdiff,sumGenediff=negCont(nullA,nullB,i,timestr,motif_data,ppi_data)\n",
        "    # negCont(nullC,nullD,i+1)\n",
        "\n",
        "    print('saved iteration='+str(i))"
      ],
      "execution_count": null,
      "outputs": []
    },
    {
      "cell_type": "code",
      "metadata": {
        "id": "sQQgwB91DgX5"
      },
      "source": [
        "\n",
        "# f_pval =[]\n",
        "# m_pval = []#pd.DataFrame()\n",
        "# f_pval = np.array(f_pval, dtype = np.float32)\n",
        "# m_pval = np.array(m_pval, dtype = np.float32)\n",
        "\n",
        "# for i, col in enumerate(TF_diffNull.columns):\n",
        "#   t0f, p0f=stats.ttest_ind(mmm['diff'],TF_diffNull[col],nan_policy='omit',equal_var=False)\n",
        "#   t0m, p0m=stats.ttest_ind(nnn['diff'],TF_diffNull[col],nan_policy='omit',equal_var=False)\n",
        "#   f_pval=np.append(f_pval,p0f)\n",
        "#   m_pval=np.append(m_pval,p0m)\n",
        "# plt.hist([m_pval])"
      ],
      "execution_count": null,
      "outputs": []
    },
    {
      "cell_type": "code",
      "metadata": {
        "id": "wDIiYfRYbt9W"
      },
      "source": [
        ""
      ],
      "execution_count": null,
      "outputs": []
    },
    {
      "cell_type": "code",
      "metadata": {
        "id": "pQ4gbUvU1M9b"
      },
      "source": [
        "TF_diffNull=pd.read_csv('drive/My Drive/Colab Notebooks/model_output/TF_zscore_rand_1000.txt',sep='\\t',header=0)\n",
        "gene_diffNull=pd.read_csv('drive/My Drive/Colab Notebooks/model_output/gene_zscore_rand_1000.txt',sep='\\t',header=0)\n",
        "TF_diffNull=TF_diffNull.T\n",
        "gene_diffNull=gene_diffNull.T\n",
        "gene_diffNull.shape\n",
        "\n",
        "# TF_diffNull=pd.read_csv('drive/My Drive/TF_zscore_rand_camb.txt',sep='\\t',header=0)\n",
        "# gene_diffNull=pd.read_csv('drive/My Drive/gene_zscore_rand_camb.txt',sep='\\t',header=0)\n",
        "# TF_diffNull=TF_diffNull.T\n",
        "# gene_diffNull=gene_diffNull.T\n",
        "# gene_diffNull.shape"
      ],
      "execution_count": null,
      "outputs": []
    },
    {
      "cell_type": "code",
      "metadata": {
        "id": "eqenM27mA42h"
      },
      "source": [
        "male=pd.DataFrame()\n",
        "for i in range(0,200,2):\n",
        "  xx=pd.DataFrame([TF_diffNull[TF_diffNull[i]>.5].index,TF_diffNull[TF_diffNull[i]<-.5].index])\n",
        "  if not xx.empty:\n",
        "    print(xx)\n",
        "    male=np.append(male,xx)"
      ],
      "execution_count": null,
      "outputs": []
    },
    {
      "cell_type": "code",
      "metadata": {
        "id": "76h18hrGGunV"
      },
      "source": [
        "male"
      ],
      "execution_count": null,
      "outputs": []
    },
    {
      "cell_type": "code",
      "metadata": {
        "id": "Zs3xPwYTcNuZ"
      },
      "source": [
        "for i in range(1,201,2):\n",
        "  xx=pd.DataFrame([TF_diffNull[TF_diffNull[i]>.5][0],TF_diffNull[TF_diffNull[i]<-.5][0]])\n",
        "  if not xx.empty:\n",
        "    print(i)"
      ],
      "execution_count": null,
      "outputs": []
    },
    {
      "cell_type": "code",
      "metadata": {
        "id": "naQsEEwR_4Ju"
      },
      "source": [
        "TF_diffNull"
      ],
      "execution_count": null,
      "outputs": []
    },
    {
      "cell_type": "code",
      "metadata": {
        "id": "87hASlQ_1Bbw"
      },
      "source": [
        "[sex_tf_diff[(sex_tf_diff['diff_y'])>.4].tf.values,sex_tf_diff[(sex_tf_diff['diff_y'])<-0.4].tf.values] #,sex_tf_diff[np.abs(sex_tf_diff['diff_y'])>.4].tf]"
      ],
      "execution_count": null,
      "outputs": []
    },
    {
      "cell_type": "code",
      "metadata": {
        "id": "IfA5aKCmEBgc"
      },
      "source": [
        "for i, col in enumerate(TF_diffNull.columns):\n",
        "    # plt.figure(i)\n",
        "    tmp=sns.distplot(TF_diffNull[col])"
      ],
      "execution_count": null,
      "outputs": []
    },
    {
      "cell_type": "code",
      "metadata": {
        "id": "E7aaqYvZAu2e"
      },
      "source": [
        "for i, col in enumerate(gene_diffNull.columns):\n",
        "    # plt.figure(i)\n",
        "    tmp=sns.distplot(gene_diffNull[col])"
      ],
      "execution_count": null,
      "outputs": []
    },
    {
      "cell_type": "code",
      "metadata": {
        "id": "4nQRblCiCPlS"
      },
      "source": [
        "hist=np.histogram(np.array(TF_diffNull).flatten())#,log=False)\n",
        "stats.rv_histogram(hist)"
      ],
      "execution_count": null,
      "outputs": []
    },
    {
      "cell_type": "code",
      "metadata": {
        "id": "sqNqvYuZ3wMG"
      },
      "source": [
        "plt.hist(TF_diffNull.unstack(),log=True)"
      ],
      "execution_count": null,
      "outputs": []
    },
    {
      "cell_type": "code",
      "metadata": {
        "id": "-CeKcgiv39wk"
      },
      "source": [
        "plt.hist(TF_diffNull.unstack())"
      ],
      "execution_count": null,
      "outputs": []
    },
    {
      "cell_type": "code",
      "metadata": {
        "id": "aDKhmWpVEML9"
      },
      "source": [
        "sns.distplot(np.median(TF_diffNull,axis=1))\n",
        "sns.distplot(np.mean(TF_diffNull,axis=1))"
      ],
      "execution_count": null,
      "outputs": []
    },
    {
      "cell_type": "code",
      "metadata": {
        "id": "JpEgv6Rbt1LF"
      },
      "source": [
        ""
      ],
      "execution_count": null,
      "outputs": []
    },
    {
      "cell_type": "code",
      "metadata": {
        "id": "7ciWDHa9ockC"
      },
      "source": [
        "hist=np.histogram(np.array(TF_diffNull).flatten(),100)#,log=False)\n",
        "TF_dNull=stats.rv_histogram(hist)\n",
        "sampled_list = random.sample(set(mmm['diff']), 100)\n",
        "stat2, pvalue2 = stats.kstest(sampled_list, cdf=TF_dNull.cdf)#,args=(weight1, mean1, stdv1, mean2, stdv2))\n",
        "pvalue2"
      ],
      "execution_count": null,
      "outputs": []
    },
    {
      "cell_type": "code",
      "metadata": {
        "id": "ZVC3Qd7xzL8y"
      },
      "source": [
        "TFpvalue=pd.DataFrame()\n",
        "for i, col in enumerate(TF_diffNull.columns):\n",
        "  hist=np.histogram(np.array(TF_diffNull[col]))#.flatten())#,log=False)\n",
        "  TF_dNull=stats.rv_histogram(hist)\n",
        "  sampled_list = random.sample(set(mmm['diff']), 100)\n",
        "  stat2, pvalue2 = stats.kstest(sampled_list, cdf=TF_dNull.cdf)#,args=(weight1, mean1, stdv1, mean2, stdv2))\n",
        "  TFpvalue[i+1]=[pvalue2] #np.concatenate([pvalue,pvalue2],axis=0)\n",
        "TFpvalue=TFpvalue.T\n",
        "print(TFpvalue)"
      ],
      "execution_count": null,
      "outputs": []
    },
    {
      "cell_type": "code",
      "metadata": {
        "id": "hkEQPcqx2Eep"
      },
      "source": [
        "TFpvalue[TFpvalue<.005].dropna()"
      ],
      "execution_count": null,
      "outputs": []
    },
    {
      "cell_type": "code",
      "metadata": {
        "id": "4hbX_mwJ3vBH"
      },
      "source": [
        "Gpvalue=pd.DataFrame()\n",
        "for i, col in enumerate(gene_diffNull.columns):\n",
        "  hist=np.histogram(np.array(gene_diffNull[col]))#.flatten())#,log=False)\n",
        "  gene_dNull=stats.rv_histogram(hist)\n",
        "  sampled_list = random.sample(set(mmmm['diff']), 100)\n",
        "  stat2, pvalue2 = stats.kstest(sampled_list, cdf=gene_dNull.cdf)#,args=(weight1, mean1, stdv1, mean2, stdv2))\n",
        "  Gpvalue[i+1]=[pvalue2] #np.concatenate([pvalue,pvalue2],axis=0)\n",
        "Gpvalue=Gpvalue.T\n",
        "print(Gpvalue)"
      ],
      "execution_count": null,
      "outputs": []
    },
    {
      "cell_type": "code",
      "metadata": {
        "id": "OGbvrnEW6-C2"
      },
      "source": [
        "Gpvalue[Gpvalue<.005].dropna()"
      ],
      "execution_count": null,
      "outputs": []
    },
    {
      "cell_type": "markdown",
      "metadata": {
        "id": "dX4Ud-HNLTSV"
      },
      "source": [
        "#Age case v control (65yo)"
      ]
    },
    {
      "cell_type": "code",
      "metadata": {
        "id": "XFchVEvpMNto"
      },
      "source": [
        "# del data1['loc']\n",
        "# Age=(gse.phenotype_data['characteristics_ch1.0.age'].values).astype('float')>64\n",
        "# len(Age.astype('str'))\n",
        "# data1=pd.read_csv('drive/My Drive/Colab Notebooks/GSE76925.txt',sep='\\t',index_col=0)\n",
        "# data1\n",
        "# data1.columns=[Age.astype('str')+gse.phenotype_data['characteristics_ch1.5.copd'].values]\n",
        "\n",
        "# data1.loc[:,'Truecase'].to_csv('OldCase.txt',sep='\\t',index=True,header=False)\n",
        "# data1.loc[:,'Truecont'].to_csv('OldCont.txt',sep='\\t',index=True,header=False)\n",
        "[data1.loc[:,'Truecase'].shape,#.to_csv('OldCase.txt',sep='\\t',index=True,header=False)\n",
        "data1.loc[:,'Truecont'].shape,\n",
        "\n",
        "# # data4=data1[data1['age']<=65]\n",
        "# # del  data4['loc']\n",
        "# # data4.columns=[gse.phenotype_data['characteristics_ch1.1.Sex']+gse.phenotype_data['characteristics_ch1.5.copd']]\n",
        "# data1.loc[:,'Falsecase'].to_csv('YoungCase.txt',sep='\\t',index=True,header=False)\n",
        "# data1.loc[:,'Falsecont'].to_csv('YoungCont.txt',sep='\\t',index=True,header=False)\n",
        "data1.loc[:,'Falsecase'].shape,#.to_csv('YoungCase.txt',sep='\\t',index=True,header=False)\n",
        "data1.loc[:,'Falsecont'].shape]"
      ],
      "execution_count": null,
      "outputs": []
    },
    {
      "cell_type": "code",
      "metadata": {
        "id": "gzNNCvGPMRWh"
      },
      "source": [
        "LCL_ppi=pd.read_csv('https://granddb.s3.amazonaws.com/optPANDA/ppi/ppi_complete.txt',sep='\\t',header=None)\n",
        "LCL_ppi.to_csv('ppi_complete.txt',sep='\\t',index=False,header=False)\n",
        "\n",
        "coding_LCL_motif=pd.read_csv('https://granddb.s3.amazonaws.com/optPANDA/motifs/Hugo_motifCellLine.txt',sep='\\t',header=None)\n",
        "coding_LCL_motif.to_csv('coding_LCL_motif.txt',sep='\\t',index=False,header=False)\n",
        "\n",
        "motif_data='coding_LCL_motif.txt'\n",
        "ppi_data='ppi_complete.txt'"
      ],
      "execution_count": null,
      "outputs": []
    },
    {
      "cell_type": "code",
      "metadata": {
        "id": "PU39axBX7Q77"
      },
      "source": [
        "panda_obj1 = Panda('OldCase.txt', motif_data, ppi_data,computing='gpu',precision='single',save_tmp=False,save_memory = False, remove_missing=False, keep_expression_matrix = True,modeProcess = 'intersection')\n",
        "np.save('drive/My Drive/Panda_OldCase.npy',panda_obj1.export_panda_results)\n",
        "del panda_obj1\n",
        "panda_obj2 = Panda('OldCont.txt', motif_data, ppi_data,computing='gpu',precision='single',save_tmp=False,save_memory = False, remove_missing=False, keep_expression_matrix = True,modeProcess = 'intersection')\n",
        "np.save('drive/My Drive/Panda_OldCont.npy',panda_obj2.export_panda_results)\n",
        "del panda_obj2\n",
        "panda_obj3 = Panda('YoungCase.txt', motif_data, ppi_data,computing='gpu',precision='single',save_tmp=False,save_memory = False, remove_missing=False, keep_expression_matrix = True,modeProcess = 'intersection')\n",
        "np.save('drive/My Drive/Panda_YoungCase.npy',panda_obj3.export_panda_results)\n",
        "del panda_obj3\n",
        "panda_obj4 = Panda('YoungCont.txt', motif_data, ppi_data,computing='gpu',precision='single',save_tmp=False,save_memory = False, remove_missing=False, keep_expression_matrix = True,modeProcess = 'intersection')\n",
        "np.save('drive/My Drive/Panda_YoungCont.npy',panda_obj4.export_panda_results)\n",
        "del panda_obj4\n"
      ],
      "execution_count": null,
      "outputs": []
    },
    {
      "cell_type": "code",
      "metadata": {
        "id": "EmA2YJXYTFcM"
      },
      "source": [
        "Panda_OldCase=np.load('drive/My Drive/Colab Notebooks/Panda_OldCase.npy',allow_pickle=True)#,sep='\\t',index_col=0,header=None,names=['loc','symbol'])\n",
        "Panda_OldCont=np.load('drive/My Drive/Colab Notebooks/Panda_OldCont.npy',allow_pickle=True)#,sep='\\t',index_col=0,header=None,names=['loc','symbol'])\n",
        "Panda_OldCont=pd.DataFrame(Panda_OldCont)\n",
        "Panda_OldCont.columns=['tf','gene','motif','force']\n",
        "Panda_OldCase=pd.DataFrame(Panda_OldCase)\n",
        "Panda_OldCase.columns=['tf','gene','motif','force']\n",
        "\n",
        "Panda_YoungCase=np.load('drive/My Drive/Colab Notebooks/Panda_YoungCase.npy',allow_pickle=True)#,sep='\\t',index_col=0,header=None,names=['loc','symbol'])\n",
        "Panda_YoungCont=np.load('drive/My Drive/Colab Notebooks/Panda_YoungCont.npy',allow_pickle=True)#,sep='\\t',index_col=0,header=None,names=['loc','symbol'])\n",
        "Panda_YoungCont=pd.DataFrame(Panda_YoungCont)\n",
        "Panda_YoungCont.columns=['tf','gene','motif','force']\n",
        "Panda_YoungCase=pd.DataFrame(Panda_YoungCase)\n",
        "Panda_YoungCase.columns=['tf','gene','motif','force']"
      ],
      "execution_count": null,
      "outputs": []
    },
    {
      "cell_type": "markdown",
      "metadata": {
        "id": "T3jSwAJVRT71"
      },
      "source": [
        "#TF and gene specific zscore diff OLD, YOUNG"
      ]
    },
    {
      "cell_type": "code",
      "metadata": {
        "id": "d5KtPm3PQ6UR"
      },
      "source": [
        "from scipy.stats import zscore\n",
        "# Panda_nullA.panda_results = pd.DataFrame(Panda_nullA.export_panda_results, columns=['tf','gene','motif','force'])\n",
        "subset_panda_results3 = Panda_OldCase.sort_values(by=['force'], ascending=False)\n",
        "# subset_panda_results3['merge']=subset_panda_results3.tf+'-'+subset_panda_results3.gene\n",
        "\n",
        "# Panda_nullB.panda_results = pd.DataFrame(Panda_nullB.export_panda_results, columns=['tf','gene','motif','force'])\n",
        "subset_panda_results1 = Panda_OldCont.sort_values(by=['force'], ascending=False)\n",
        "# subset_panda_results1['merge']=subset_panda_results1.tf+'-'+subset_panda_results1.gene\n",
        "del subset_panda_results3['motif'],subset_panda_results1['motif']\n",
        "TFsum_3=subset_panda_results3.groupby(['tf']).agg({'force':sum})\n",
        "TFsum_1=subset_panda_results1.groupby(['tf']).agg({'force':sum})\n",
        "TFsum_1['force']=zscore(TFsum_1['force'])\n",
        "TFsum_3['force']=zscore(TFsum_3['force']) ##reduces range from 1500 to 3\n",
        "\n",
        "geneSum_3=subset_panda_results3.groupby(['gene']).agg({'force':sum})\n",
        "geneSum_1=subset_panda_results1.groupby(['gene']).agg({'force':sum})\n",
        "geneSum_3['force']=zscore(geneSum_3['force'])\n",
        "geneSum_1['force']=zscore(geneSum_1['force'])\n",
        "\n",
        "mmm=TFsum_3.merge(TFsum_1, left_on=['tf'], right_on=['tf'])\n",
        "mmmm=geneSum_3.merge(geneSum_1, left_on=['gene'], right_on=['gene'])\n",
        "\n",
        "del [[subset_panda_results3, subset_panda_results1,Panda_OldCont,Panda_OldCase]]\n",
        "gc.collect()\n",
        "subset_panda_results3=pd.DataFrame()\n",
        "subset_panda_results1=pd.DataFrame()\n",
        "Panda_FcontFULL=pd.DataFrame()\n",
        "Panda_FcontFULL=pd.DataFrame()\n",
        "\n",
        "\n",
        "mmm['diff']=mmm.force_x-mmm.force_y\n",
        "mmm = mmm.sort_values(by ='diff' )\n",
        "\n",
        "\n",
        "mmmm['diff']=mmmm.force_x-mmmm.force_y\n",
        "mmmm = mmmm.sort_values(by ='diff' )\n",
        "mmm.to_csv('drive/My Drive/TF_zscore_O.txt',sep='\\t')\n",
        "mmmm.to_csv('drive/My Drive/gene_zscore_O.txt',sep='\\t',index=0)"
      ],
      "execution_count": null,
      "outputs": []
    },
    {
      "cell_type": "code",
      "metadata": {
        "id": "a5I7BBWARcjJ"
      },
      "source": [
        "\n",
        "# Panda_nullA.panda_results = pd.DataFrame(Panda_nullA.export_panda_results, columns=['tf','gene','motif','force'])\n",
        "subset_panda_results3 = Panda_YoungCase.sort_values(by=['force'], ascending=False)\n",
        "# subset_panda_results3['merge']=subset_panda_results3.tf+'-'+subset_panda_results3.gene\n",
        "\n",
        "# Panda_nullB.panda_results = pd.DataFrame(Panda_nullB.export_panda_results, columns=['tf','gene','motif','force'])\n",
        "subset_panda_results1 = Panda_YoungCont.sort_values(by=['force'], ascending=False)\n",
        "# subset_panda_results1['merge']=subset_panda_results1.tf+'-'+subset_panda_results1.gene\n",
        "del subset_panda_results3['motif'],subset_panda_results1['motif']\n",
        "TFsum_3=subset_panda_results3.groupby(['tf']).agg({'force':sum})\n",
        "TFsum_1=subset_panda_results1.groupby(['tf']).agg({'force':sum})\n",
        "TFsum_1['force']=zscore(TFsum_1['force'])\n",
        "TFsum_3['force']=zscore(TFsum_3['force'])\n",
        "\n",
        "geneSum_3=subset_panda_results3.groupby(['gene']).agg({'force':sum})\n",
        "geneSum_1=subset_panda_results1.groupby(['gene']).agg({'force':sum})\n",
        "geneSum_3['force']=zscore(geneSum_3['force'])\n",
        "geneSum_1['force']=zscore(geneSum_1['force'])\n",
        "\n",
        "nnn=TFsum_3.merge(TFsum_1, left_on=['tf'], right_on=['tf'])\n",
        "nnnn=geneSum_3.merge(geneSum_1, left_on=['gene'], right_on=['gene'])\n",
        "\n",
        "del [[subset_panda_results3, subset_panda_results1,Panda_YoungCase,Panda_YoungCont]]\n",
        "gc.collect()\n",
        "subset_panda_results3=pd.DataFrame()\n",
        "subset_panda_results1=pd.DataFrame()\n",
        "Panda_Mcont=pd.DataFrame()\n",
        "Panda_Mcase=pd.DataFrame()\n",
        "\n",
        "\n",
        "nnn['diff']=nnn.force_x-nnn.force_y\n",
        "nnn = nnn.sort_values(by ='diff' )\n",
        "\n",
        "\n",
        "nnnn['diff']=nnnn.force_x-nnnn.force_y\n",
        "nnnn = nnnn.sort_values(by ='diff' )\n",
        "nnn.to_csv('drive/My Drive/TF_zscore_Y.txt',sep='\\t')\n",
        "nnnn.to_csv('drive/My Drive/gene_zscore_Y.txt',sep='\\t')\n"
      ],
      "execution_count": null,
      "outputs": []
    },
    {
      "cell_type": "code",
      "metadata": {
        "id": "84sc0fr-VVJh"
      },
      "source": [
        "ff=pd.read_csv('drive/My Drive/TF_zscore_O.txt',sep='\\t',header=0)\n",
        "fff=pd.read_csv('drive/My Drive/gene_zscore_O.txt',sep='\\t',header=0)\n",
        "mm=pd.read_csv('drive/My Drive/TF_zscore_Y.txt',sep='\\t',header=0)\n",
        "mmm=pd.read_csv('drive/My Drive/gene_zscore_Y.txt',sep='\\t',header=0)\n",
        "sex_tf_diff=ff.merge(mm,on='tf')\n",
        "# sex_gene_diff=fff.merge(mmm,on='gene')\n",
        " \n",
        "plt.figure(figsize=(15,6))\n",
        "sex_tf_diff['sexdiff']=sex_tf_diff['diff_x']-sex_tf_diff['diff_y']\n",
        "# sex_tf_diff=sex_tf_diff.sort_values(by=['sexdiff'])\n",
        "sex_tf_diff=sex_tf_diff.sort_values(by=['tf'])\n",
        "sns.barplot(data=sex_tf_diff,y='sexdiff',x='tf')"
      ],
      "execution_count": null,
      "outputs": []
    },
    {
      "cell_type": "code",
      "metadata": {
        "id": "zLMHwaMBRsmc"
      },
      "source": [
        "a=plt.hist(sex_tf_diff['diff_x'],bins=100,label='<65',color='c')\n",
        "b=plt.hist(sex_tf_diff['diff_y'],bins=100,label='>=65',color='m')\n",
        "plt.title('Age-specific Ca-Co TF degree diff')\n",
        "plt.legend(loc=\"best\")"
      ],
      "execution_count": null,
      "outputs": []
    },
    {
      "cell_type": "code",
      "metadata": {
        "id": "5RCpdCYeUPg-"
      },
      "source": [
        "# [sex_tf_diff[np.abs(sex_tf_diff['diff_x'])>.4].tf,\n",
        "sex_tf_diff#[np.abs(sex_tf_diff['diff_y'])>.4].tf]"
      ],
      "execution_count": null,
      "outputs": []
    },
    {
      "cell_type": "markdown",
      "metadata": {
        "id": "GPFgR6DHv4zS"
      },
      "source": [
        "#LTCOPD combat"
      ]
    },
    {
      "cell_type": "code",
      "metadata": {
        "id": "YnTeKi6Qv3_B"
      },
      "source": [
        "LTCOPD_exp=pd.read_csv('drive/MyDrive/harvard/LARGE_COPD/LTCOPD_combat.txt',sep='\\t',index_col=0)\n",
        "# LTRC_exp=pd.read_csv('drive/MyDrive/harvard/LARGE_COPD/LTRC_qsmooth_combat.txt',sep='\\t',index_col=0)\n",
        "LTCOPD_exp=LTCOPD_exp.reset_index().dropna().set_index('index')\n",
        "dd=pd.read_csv('drive/MyDrive/harvard/LARGE_COPD/LTCOPD_genes.txt',sep='\\t',index_col=0)\n",
        "LTCOPD_exp.index=dd['x']"
      ],
      "execution_count": null,
      "outputs": []
    },
    {
      "cell_type": "code",
      "metadata": {
        "id": "2saG3_e1cVsg"
      },
      "source": [
        "# LTCOPD_genes=pd.read_csv('drive/My Drive/Colab Notebooks/LTCOPD_genes.txt',index_col=None,header=None,sep='\\t')\n",
        "LTCOPD_exp=(LTCOPD_exp.dropna(how='all'))\n",
        "data2=LTCOPD_exp.merge(pd.DataFrame(data1.index.tolist()),left_index=True,right_on=0)\n",
        "data2.index=data2[0]\n",
        "data2.replace([np.inf, -np.inf], np.nan,inplace=True)\n",
        "data2.replace(np.nan, 0,inplace=True)\n",
        "data2=data2.groupby(data2.index).mean()"
      ],
      "execution_count": null,
      "outputs": []
    },
    {
      "cell_type": "code",
      "metadata": {
        "id": "P9x9Kp94wlY1"
      },
      "source": [
        "\n",
        "FC=data2.iloc[:,data2.columns.str.contains('_F_case')]\n",
        "FNC=data2.iloc[:,data2.columns.str.contains('_F_cont')]\n",
        "MC=data2.iloc[:,data2.columns.str.contains('_M_case')]\n",
        "MNC=data2.iloc[:,data2.columns.str.contains('_M_cont')]\n",
        "print([FC.shape,FNC.shape,MC.shape,MNC.shape])\n",
        "\n",
        "FC.to_csv('Fcase.txt',sep='\\t',index=True,header=False)\n",
        "FNC.to_csv('Fcont.txt',sep='\\t',index=True,header=False)\n",
        "MC.to_csv('Mcase.txt',sep='\\t',index=True,header=False)\n",
        "MNC.to_csv('Mcont.txt',sep='\\t',index=True,header=False)"
      ],
      "execution_count": null,
      "outputs": []
    },
    {
      "cell_type": "code",
      "metadata": {
        "id": "U2F-vxR2ALZf"
      },
      "source": [
        "panda_obj1 = Panda('Fcase.txt', F_motif_data, ppi_data,computing='gpu',precision='single',save_tmp=False,save_memory = False, remove_missing=False, keep_expression_matrix = False,modeProcess = 'intersection')\n",
        "np.save('drive/My Drive/Colab Notebooks/model_output/FC_LTCOPD.npy',np.round(panda_obj1.export_panda_results,decimals=3))\n",
        "del panda_obj1\n",
        "panda_obj2 = Panda('Mcase.txt', motif_data, ppi_data,computing='gpu',precision='single',save_tmp=False,save_memory = False, remove_missing=False, keep_expression_matrix = False,modeProcess = 'intersection')\n",
        "np.save('drive/My Drive/Colab Notebooks/model_output/MC_LTCOPD.npy',np.round(panda_obj2.export_panda_results,decimals=3))\n",
        "del panda_obj2\n",
        "panda_obj3 = Panda('Fcont.txt', F_motif_data, ppi_data,computing='gpu',precision='single',save_tmp=False,save_memory = False, remove_missing=False, keep_expression_matrix = False,modeProcess = 'intersection')\n",
        "np.save('drive/My Drive/Colab Notebooks/model_output/FNC_LTCOPD.npy',np.round(panda_obj3.export_panda_results,decimals=3))\n",
        "del panda_obj3\n",
        "panda_obj4 = Panda('Mcont.txt', motif_data, ppi_data,computing='gpu',precision='single',save_tmp=False,save_memory = False, remove_missing=False, keep_expression_matrix = False,modeProcess = 'intersection')\n",
        "np.save('drive/My Drive/Colab Notebooks/model_output/MNC_LTCOPD.npy',np.round(panda_obj4.export_panda_results,decimals=3))\n",
        "del panda_obj4\n",
        "# panda_obj5 = Panda('FcaseFULL.txt', motif_data, ppi_data,computing='gpu',precision='single',save_tmp=False,save_memory = False, remove_missing=False, keep_expression_matrix = True,modeProcess = 'intersection')\n",
        "# np.save('drive/My Drive/Panda_FcaseFULL.npy',panda_obj5.export_panda_results)\n",
        "# del panda_obj5\n",
        "# panda_obj6 = Panda('FcontFULL.txt', motif_data, ppi_data,computing='gpu',precision='single',save_tmp=False,save_memory = False, remove_missing=False, keep_expression_matrix = True,modeProcess = 'intersection')\n",
        "# np.save('drive/My Drive/Panda_FcontFULL.npy',panda_obj6.export_panda_results)\n",
        "# del panda_obj6\n"
      ],
      "execution_count": null,
      "outputs": []
    },
    {
      "cell_type": "code",
      "metadata": {
        "id": "dGd2D_24BEDu"
      },
      "source": [
        "MC=np.load('drive/My Drive/Colab Notebooks/model_output/MC_LTCOPD.npy',allow_pickle=True)#,sep='\\t',index_col=0,header=None,names=['loc','symbol'])\n",
        "MNC=np.load('drive/My Drive/Colab Notebooks/model_output/MNC_LTCOPD.npy',allow_pickle=True)#,sep='\\t',index_col=0,header=None,names=['loc','symbol'])\n",
        "MNC=pd.DataFrame(MNC)\n",
        "MNC.columns=['tf','gene','motif','force']\n",
        "MC=pd.DataFrame(MC)\n",
        "MC.columns=['tf','gene','motif','force']\n",
        "\n",
        "TFsum_3=MC.groupby(['tf']).agg({'force':sum})\n",
        "TFsum_1=MNC.groupby(['tf']).agg({'force':sum})\n",
        "TFsum_1['force']=zscore(TFsum_1['force'])\n",
        "TFsum_3['force']=zscore(TFsum_3['force']) ##reduces range from 1500 to 3\n",
        "\n",
        "geneSum_3=MC.groupby(['gene']).agg({'force':sum})\n",
        "geneSum_1=MNC.groupby(['gene']).agg({'force':sum})\n",
        "geneSum_3['force']=zscore(geneSum_3['force'])\n",
        "geneSum_1['force']=zscore(geneSum_1['force'])\n",
        "\n",
        "mmm=TFsum_3.merge(TFsum_1, left_on=['tf'], right_on=['tf'])\n",
        "mmmm=geneSum_3.merge(geneSum_1, left_on=['gene'], right_on=['gene'])\n",
        "\n",
        "# del [[MC, MNC]]\n",
        "# gc.collect()\n",
        "MC=pd.DataFrame()\n",
        "MNC=pd.DataFrame()\n",
        "# Panda_FcontFULL=pd.DataFrame()\n",
        "# Panda_FcontFULL=pd.DataFrame()\n",
        "\n",
        "\n",
        "mmm['diff']=mmm.force_x-mmm.force_y\n",
        "mmm = mmm.sort_values(by ='diff' )\n",
        "\n",
        "\n",
        "mmmm['diff']=mmmm.force_x-mmmm.force_y\n",
        "mmmm = mmmm.sort_values(by ='diff' )\n",
        "mmm.to_csv('drive/My Drive/TF_zscore_M.txt',sep='\\t')\n",
        "mmmm.to_csv('drive/My Drive/gene_zscore_M.txt',sep='\\t')"
      ],
      "execution_count": null,
      "outputs": []
    },
    {
      "cell_type": "code",
      "metadata": {
        "id": "m2FxW2_mDWgc"
      },
      "source": [
        "FC=np.load('drive/My Drive/Colab Notebooks/model_output/FC_LTCOPD.npy',allow_pickle=True)#,sep='\\t',index_col=0,header=None,names=['loc','symbol'])\n",
        "FNC=np.load('drive/My Drive/Colab Notebooks/model_output/FNC_LTCOPD.npy',allow_pickle=True)#,sep='\\t',index_col=0,header=None,names=['loc','symbol'])\n",
        "FNC=pd.DataFrame(FNC)\n",
        "FNC.columns=['tf','gene','motif','force']\n",
        "FC=pd.DataFrame(FC)\n",
        "FC.columns=['tf','gene','motif','force']\n",
        "\n",
        "TFsum_4=FC.groupby(['tf']).agg({'force':sum})\n",
        "TFsum_2=FNC.groupby(['tf']).agg({'force':sum})\n",
        "TFsum_2['force']=zscore(TFsum_2['force'])\n",
        "TFsum_4['force']=zscore(TFsum_4['force']) ##reduces range from 2500 to 4\n",
        "\n",
        "geneSum_4=FC.groupby(['gene']).agg({'force':sum})\n",
        "geneSum_2=FNC.groupby(['gene']).agg({'force':sum})\n",
        "geneSum_4['force']=zscore(geneSum_4['force'])\n",
        "geneSum_2['force']=zscore(geneSum_2['force'])\n",
        "\n",
        "nnn=TFsum_4.merge(TFsum_2, left_on=['tf'], right_on=['tf'])\n",
        "nnnn=geneSum_4.merge(geneSum_2, left_on=['gene'], right_on=['gene'])\n",
        "\n",
        "# del [[FC, FNC]]\n",
        "# gc.collect()\n",
        "FC=pd.DataFrame()\n",
        "FNC=pd.DataFrame()\n",
        "Panda_FcontFULL=pd.DataFrame()\n",
        "Panda_FcontFULL=pd.DataFrame()\n",
        "\n",
        "\n",
        "nnn['diff']=nnn.force_x-nnn.force_y\n",
        "nnn = nnn.sort_values(by ='diff' )\n",
        "\n",
        "\n",
        "nnnn['diff']=mmmm.force_x-nnnn.force_y\n",
        "nnnn = nnnn.sort_values(by ='diff' )\n",
        "nnn.to_csv('drive/My Drive/TF_zscore_F.txt',sep='\\t')\n",
        "nnnn.to_csv('drive/My Drive/gene_zscore_F.txt',sep='\\t')"
      ],
      "execution_count": null,
      "outputs": []
    },
    {
      "cell_type": "markdown",
      "metadata": {
        "id": "BqkpNZ_qZmzL"
      },
      "source": [
        "###load and compare Clue-Reg results"
      ]
    },
    {
      "cell_type": "code",
      "metadata": {
        "id": "EdUTYAZ8b0Y3"
      },
      "source": [
        "LTRC_male=pd.read_csv('drive/My Drive/harvard/LARGE_COPD/LTRC_Monly_clueReg.csv',header=0)\n",
        "LTRC_female=pd.read_csv('drive/My Drive/harvard/LARGE_COPD/LTRC_Fonly_clueReg.csv',header=0)\n",
        "LTCOPD_male=pd.read_csv('drive/My Drive/harvard/LARGE_COPD/LTCOPD_Monly_clueReg.csv',header=0)\n",
        "LTCOPD_female=pd.read_csv('drive/My Drive/harvard/LARGE_COPD/LTCOPD_Fonly_clueReg.csv',header=0)\n",
        "\n",
        "female=LTRC_female[['Drug','Overlap','Cosine','P-value']].merge(LTCOPD_female[['Drug','Overlap','Cosine','P-value']],right_on='Drug',left_on='Drug')\n",
        "male=LTRC_male[['Drug','Overlap','Cosine','P-value']].merge(LTCOPD_male[['Drug','Overlap','Cosine','P-value']],right_on='Drug',left_on='Drug')\n",
        "\n",
        "LTRC_rx=LTRC_female[['Drug','Overlap','Cosine','P-value']].merge(LTRC_male[['Drug','Overlap','Cosine','P-value']],right_on='Drug',left_on='Drug')\n",
        "LTCOPD_rx=LTCOPD_female[['Drug','Overlap','Cosine','P-value']].merge(LTCOPD_male[['Drug','Overlap','Cosine','P-value']],right_on='Drug',left_on='Drug')\n",
        "\n",
        "plt.figure(figsize=(8,8))\n",
        "\n",
        "plt.scatter(male.Cosine_x,male.Cosine_y,label='male'),\n",
        "plt.scatter(female.Cosine_x,female.Cosine_y,label='female')\n",
        "\n",
        "# plt.scatter(LTRC_rx.Cosine_x,LTRC_rx.Cosine_y,label='LTRC'),\n",
        "# plt.scatter(LTCOPD_rx.Cosine_x,LTCOPD_rx.Cosine_y,label='LTCOPD')\n",
        "\n",
        "plt.legend(loc='best')\n",
        "# plt.ylim(-.4,0)\n",
        "# plt.xlim(-.4,0)\n",
        "# plt.plot([-1, 0], [-1, 0], 'k--')\n",
        "plt.xlabel('LTRC cosine')\n",
        "plt.ylabel('LTCOPD cosine')\n",
        "\n",
        "rhoM, pvalM = np.corrcoef(female.Cosine_x,female.Cosine_y)\n",
        "# pvalM\n",
        "rhoF, pvalF = np.corrcoef(male.Cosine_x,male.Cosine_y)\n",
        "# pvalF\n",
        "print([rhoM[1],rhoF[1]])\n",
        "\n",
        "rhoM, pvalM = stats.spearmanr(female.Cosine_x,female.Cosine_y)\n",
        "# pvalM\n",
        "rhoF, pvalF = stats.spearmanr(male.Cosine_x,male.Cosine_y)\n",
        "# pvalF\n",
        "print([rhoM,rhoF])\n",
        "\n",
        "# rhoM, pvalM = stats.spearmanr(LTRC_rx.Cosine_x,LTRC_rx.Cosine_y)\n",
        "# # pvalM\n",
        "# rhoF, pvalF = stats.spearmanr(LTCOPD_rx.Cosine_x,LTCOPD_rx.Cosine_y)\n",
        "# # pvalF\n",
        "# print([rhoM,rhoF])\n",
        "\n",
        "# rhoM, pvalM = stats.spearmanr(LTRC_rx.Cosine_x,LTRC_rx.Cosine_y)\n",
        "# # pvalM\n",
        "# rhoF, pvalF = stats.spearmanr(LTCOPD_rx.Cosine_x,LTCOPD_rx.Cosine_y)\n",
        "# # pval\n",
        "# print([rhoM,rhoF])"
      ],
      "execution_count": null,
      "outputs": []
    },
    {
      "cell_type": "code",
      "metadata": {
        "id": "UvSmURQR4oz8"
      },
      "source": [
        ""
      ],
      "execution_count": null,
      "outputs": []
    },
    {
      "cell_type": "code",
      "metadata": {
        "id": "3ki3KNwAR8Ns"
      },
      "source": [
        "!pip install chart_studio\n",
        "import chart_studio.plotly as py\n",
        "import plotly.graph_objects as go\n",
        "\n",
        "import plotly.io as pio\n",
        "pio.renderers.default='notebook'\n",
        "\n",
        "\n",
        "trace_men = go.Scatter(x=male['Cosine_x'],\n",
        "                  y=male['Cosine_y'],text=male['Drug'],\n",
        "                  name='male',mode='markers',\n",
        "                  marker=dict(color='#A2D5F2'))\n",
        "\n",
        "trace_women = go.Scatter(x=female['Cosine_x'],\n",
        "                y=female['Cosine_y'],text=female['Drug'],\n",
        "                name='female',mode='markers',\n",
        "                marker=dict(color='#ffcdd2'))\n",
        "\n",
        "trace_ltrc = go.Scatter(x=LTRC_rx['Cosine_x'],\n",
        "                y=LTRC_rx['Cosine_y'],text=LTRC_rx['Drug'],\n",
        "                name='LTRC_rx',mode='markers')#,\n",
        "                # marker=dict(color='#ffcdd2'))\n",
        "\n",
        "trace_ltcopd = go.Scatter(x=LTCOPD_rx['Cosine_x'],\n",
        "                y=LTCOPD_rx['Cosine_y'],text=LTCOPD_rx['Drug'],\n",
        "                name='LTCOPD_rx',mode='markers')#,\n",
        "                # marker=dict(color='#ffcdd2'))\n",
        "\n",
        "data = [trace_men, trace_women,trace_ltrc,trace_ltcopd]\n",
        "\n",
        "layout = go.Layout(title=\"cosine\",\n",
        "                xaxis=dict(title='cosine'),\n",
        "                yaxis=dict(title='cosine'))\n",
        "\n",
        "fig = go.Figure(data=data, layout=layout,layout_yaxis_range=[-.6,0],layout_xaxis_range=[-.6,0])\n",
        "fig.add_trace(go.Scatter(\n",
        "    x=[-1,0,],\n",
        "    y=[-1,0],name='',\n",
        "))\n",
        "fig.update_layout(\n",
        "    autosize=False,\n",
        "    width=500,\n",
        "    height=500)\n",
        "fig.show(renderer=\"colab\")"
      ],
      "execution_count": null,
      "outputs": []
    },
    {
      "cell_type": "code",
      "metadata": {
        "id": "1pGSODnG4o2q"
      },
      "source": [
        "LTRC_male=pd.read_csv('drive/My Drive/harvard/LARGE_COPD/LTRC_Monly_clueReg.csv',header=0)\n",
        "LTRC_female=pd.read_csv('drive/My Drive/harvard/LARGE_COPD/LTRC_Fonly_clueReg.csv',header=0)\n",
        "LTCOPD_male=pd.read_csv('drive/My Drive/harvard/LARGE_COPD/LTCOPD_Monly_clueReg.csv',header=0)\n",
        "LTCOPD_female=pd.read_csv('drive/My Drive/harvard/LARGE_COPD/LTCOPD_Fonly_clueReg.csv',header=0)\n",
        "\n",
        "female=LTRC_female[['Drug','Overlap','Cosine','P-value']].merge(LTCOPD_female[['Drug','Overlap','Cosine','P-value']],right_on='Drug',left_on='Drug')\n",
        "male=LTRC_male[['Drug','Overlap','Cosine','P-value']].merge(LTCOPD_male[['Drug','Overlap','Cosine','P-value']],right_on='Drug',left_on='Drug')\n",
        "\n",
        "LTRC_rx=LTRC_female[['Drug','Overlap','Cosine','P-value']].merge(LTRC_male[['Drug','Overlap','Cosine','P-value']],right_on='Drug',left_on='Drug')\n",
        "LTCOPD_rx=LTCOPD_female[['Drug','Overlap','Cosine','P-value']].merge(LTCOPD_male[['Drug','Overlap','Cosine','P-value']],right_on='Drug',left_on='Drug')\n",
        "\n",
        "plt.figure(figsize=(8,8))\n",
        "\n",
        "plt.scatter(male.Cosine_x,male.Cosine_y,label='male'),\n",
        "plt.scatter(female.Cosine_x,female.Cosine_y,label='female')\n",
        "\n",
        "plt.scatter(LTRC_rx.Cosine_x,LTRC_rx.Cosine_y,label='LTRC'),\n",
        "plt.scatter(LTCOPD_rx.Cosine_x,LTCOPD_rx.Cosine_y,label='LTCOPD')\n",
        "\n",
        "plt.legend(loc='best')\n",
        "# plt.ylim(-.4,0)\n",
        "# plt.xlim(-.4,0)\n",
        "# plt.plot([-1, 0], [-1, 0], 'k--')\n",
        "plt.xlabel('LTRC cosine')\n",
        "plt.ylabel('LTCOPD cosine')\n",
        "\n",
        "rhoM, pvalM = np.corrcoef(female.Cosine_x,female.Cosine_y)\n",
        "# pvalM\n",
        "rhoF, pvalF = np.corrcoef(male.Cosine_x,male.Cosine_y)\n",
        "# pvalF\n",
        "print([rhoM[1],rhoF[1]])\n",
        "\n",
        "rhoM, pvalM = stats.spearmanr(female.Cosine_x,female.Cosine_y)\n",
        "# pvalM\n",
        "rhoF, pvalF = stats.spearmanr(male.Cosine_x,male.Cosine_y)\n",
        "# pvalF\n",
        "print([rhoM,rhoF])\n",
        "\n",
        "rhoM, pvalM = stats.spearmanr(LTRC_rx.Cosine_x,LTRC_rx.Cosine_y)\n",
        "# pvalM\n",
        "rhoF, pvalF = stats.spearmanr(LTCOPD_rx.Cosine_x,LTCOPD_rx.Cosine_y)\n",
        "# pvalF\n",
        "print([rhoM,rhoF])\n",
        "\n",
        "rhoM, pvalM = stats.spearmanr(LTRC_rx.Cosine_x,LTRC_rx.Cosine_y)\n",
        "# pvalM\n",
        "rhoF, pvalF = stats.spearmanr(LTCOPD_rx.Cosine_x,LTCOPD_rx.Cosine_y)\n",
        "# pval\n",
        "print([rhoM,rhoF])"
      ],
      "execution_count": null,
      "outputs": []
    },
    {
      "cell_type": "code",
      "metadata": {
        "id": "PTC2jalo4o9X"
      },
      "source": [
        "!pip install chart_studio\n",
        "import chart_studio.plotly as py\n",
        "import plotly.graph_objects as go\n",
        "\n",
        "import plotly.io as pio\n",
        "pio.renderers.default='notebook'\n",
        "\n",
        "\n",
        "trace_men = go.Scatter(x=male['Cosine_x'],\n",
        "                  y=male['Cosine_y'],text=male['Drug'],\n",
        "                  name='male',mode='markers',\n",
        "                  marker=dict(color='#A2D5F2'))\n",
        "\n",
        "trace_women = go.Scatter(x=female['Cosine_x'],\n",
        "                y=female['Cosine_y'],text=female['Drug'],\n",
        "                name='female',mode='markers',\n",
        "                marker=dict(color='#ffcdd2'))\n",
        "\n",
        "trace_ltrc = go.Scatter(x=LTRC_rx['Cosine_x'],\n",
        "                y=LTRC_rx['Cosine_y'],text=LTRC_rx['Drug'],\n",
        "                name='LTRC_rx',mode='markers')#,\n",
        "                # marker=dict(color='#ffcdd2'))\n",
        "\n",
        "trace_ltcopd = go.Scatter(x=LTCOPD_rx['Cosine_x'],\n",
        "                y=LTCOPD_rx['Cosine_y'],text=LTCOPD_rx['Drug'],\n",
        "                name='LTCOPD_rx',mode='markers')#,\n",
        "                # marker=dict(color='#ffcdd2'))\n",
        "\n",
        "data = [trace_men, trace_women,trace_ltrc,trace_ltcopd]\n",
        "\n",
        "layout = go.Layout(title=\"cosine\",\n",
        "                xaxis=dict(title='cosine'),\n",
        "                yaxis=dict(title='cosine'))\n",
        "\n",
        "fig = go.Figure(data=data, layout=layout,layout_yaxis_range=[-.4,0],layout_xaxis_range=[-.4,0])\n",
        "fig.add_trace(go.Scatter(\n",
        "    x=[-1,0,],\n",
        "    y=[-1,0],name='',\n",
        "))\n",
        "fig.update_layout(\n",
        "    autosize=False,\n",
        "    width=500,\n",
        "    height=500)\n",
        "fig.show(renderer=\"colab\")"
      ],
      "execution_count": null,
      "outputs": []
    },
    {
      "cell_type": "code",
      "metadata": {
        "id": "XbAZWxry4o_3"
      },
      "source": [
        ""
      ],
      "execution_count": null,
      "outputs": []
    },
    {
      "cell_type": "code",
      "metadata": {
        "id": "UE-053h2Lpj-"
      },
      "source": [
        ""
      ],
      "execution_count": null,
      "outputs": []
    },
    {
      "cell_type": "code",
      "metadata": {
        "id": "fg51UNwqOaQT"
      },
      "source": [
        "\n",
        "LTRC_male=pd.read_csv('drive/My Drive/harvard/LARGE_COPD/ltrc_M_copd_io.txt',header=0,sep='\\t')\n",
        "LTRC_female=pd.read_csv('drive/My Drive/harvard/LARGE_COPD/ltrc_F_copd_io.txt',header=0,sep='\\t')\n",
        "LTCOPD_male=pd.read_csv('drive/My Drive/harvard/LARGE_COPD/ltcopd_M_copd_io.txt',header=0,sep='\\t')\n",
        "LTCOPD_female=pd.read_csv('drive/My Drive/harvard/LARGE_COPD/ltcopd_F_copd_io.txt',header=0,sep='\\t')\n",
        "\n",
        "female=LTRC_female.merge(LTCOPD_female,right_on='Name',left_on='Name')\n",
        "male=LTRC_male.merge(LTCOPD_male,right_on='Name',left_on='Name')\n",
        "\n",
        "LTRC_rx=LTRC_female.merge(LTRC_male,right_on='Name',left_on='Name')\n",
        "LTCOPD_rx=LTCOPD_female.merge(LTCOPD_male,right_on='Name',left_on='Name')\n",
        "\n"
      ],
      "execution_count": null,
      "outputs": []
    },
    {
      "cell_type": "code",
      "metadata": {
        "id": "Qzrx7JCwqs7G"
      },
      "source": [
        "jeff11=[set(LTRC_female.Name),\n",
        "set(LTRC_male.Name),\n",
        "set(LTCOPD_female.Name),\n",
        "set(LTCOPD_male.Name)]\n",
        "\n",
        "plt.figure(figsize=(20, 10))\n",
        "species_names=['LTRC_F','LTRC_M','LTCOPD_F','LTCOPD_M']\n",
        "\n",
        "supervenn(jeff11, species_names, rotate_col_annotations=True)#,\n",
        "          # col_annotations_area_height=1.2, sets_ordering='minimize gaps',\n",
        "          # min_width_for_annotation=180)"
      ],
      "execution_count": null,
      "outputs": []
    },
    {
      "cell_type": "code",
      "metadata": {
        "id": "1GVK1YNZtyss"
      },
      "source": [
        "jeff33=[set(LTRC_female.Name),\n",
        "set(LTRC_male.Name),\n",
        "set(LTCOPD_female.Name),\n",
        "set(LTCOPD_male.Name),\n",
        "set(sex_tf_diffA.sort_values(by='Fdiff')['TF'].values[0:50]),\n",
        "set(sex_tf_diffA.sort_values(by='Fdiff')['TF'].values[586:636]),\n",
        "set(sex_tf_diffA.sort_values(by='Mdiff')['TF'].values[0:50]),\n",
        "set(sex_tf_diffA.sort_values(by='Mdiff')['TF'].values[586:636]),\n",
        "set(sex_tf_diffB.sort_values(by='Fdiff')['TF'].values[0:50]),\n",
        "set(sex_tf_diffB.sort_values(by='Fdiff')['TF'].values[586:636]),\n",
        "set(sex_tf_diffB.sort_values(by='Mdiff')['TF'].values[0:50]),\n",
        "set(sex_tf_diffB.sort_values(by='Mdiff')['TF'].values[586:636])]"
      ],
      "execution_count": null,
      "outputs": []
    },
    {
      "cell_type": "code",
      "metadata": {
        "id": "hU0DVKVb-RZA"
      },
      "source": [
        "plt.figure(figsize=(20, 10))\n",
        "species_names=['LTRC_F_io','LTRC_M_io','LTCOPD_F_io','LTCOPD_M_io',\n",
        "               'LTCOPD_F_up','LTCOPD_F_down','LTCOPD_M_up','LTCOPD_M_down',\n",
        "               'LTRC_F_down','LTRC_F_up','LTCOPD_M_down','LTRC_M_up',]\n",
        "\n",
        "supervenn(jeff33, species_names, rotate_col_annotations=True)#,\n",
        "          # col_annotations_area_height=1.2, sets_ordering='minimize gaps',\n",
        "          # min_width_for_annotation=180)"
      ],
      "execution_count": null,
      "outputs": []
    },
    {
      "cell_type": "markdown",
      "metadata": {
        "id": "VhN6EZrY8PyV"
      },
      "source": [
        "#Diff Exp"
      ]
    },
    {
      "cell_type": "code",
      "metadata": {
        "id": "Zzhk7VQzEGIC"
      },
      "source": [
        "ltrc_F_copd=pd.read_csv('drive/My Drive/harvard/LARGE_COPD/F_LTRC_de_061821.txt',sep='\\t')#,names=['ensemble','AveExpr','logFC','P.Value','adj.P.Val'],skiprows=1)\n",
        "ltrc_M_copd=pd.read_csv('drive/My Drive/harvard/LARGE_COPD/M_LTRC_de_061821.txt',sep='\\t')#,names=['ensemble','AveExpr','logFC','P.Value','adj.P.Val'],skiprows=1)\n",
        "ltrc_genes=pd.read_csv('drive/My Drive/harvard/LARGE_COPD/LTRC_genes_chr.txt',sep='\\t',names=['ensemble','ID','chr'],skiprows=1)\n",
        "ltrc_F_copd.index=(ltrc_F_copd.index).str.split('.').str[0].tolist()\n",
        "ltrc_M_copd.index=(ltrc_M_copd.index).str.split('.').str[0].tolist()\n",
        "ltrc_F_copd=ltrc_F_copd.merge(ltrc_genes,left_index=True,right_on='ensemble')\n",
        "ltrc_M_copd=ltrc_M_copd.merge(ltrc_genes,left_index=True,right_on='ensemble')\n",
        "# ltrc_F_copd['ID']=ltrc_F_copd.index\n",
        "# ltrc_M_copd['ID']=ltrc_M_copd.index\n",
        "\n",
        "\n",
        "ltcopd_F_copd=pd.read_csv('drive/My Drive/harvard/LARGE_COPD/F_LTCOPD_de_062221.txt',sep='\\t')\n",
        "ltcopd_M_copd=pd.read_csv('drive/My Drive/harvard/LARGE_COPD/M_LTCOPD_de_062221.txt',sep='\\t')#,nrows=1500"
      ],
      "execution_count": null,
      "outputs": []
    },
    {
      "cell_type": "code",
      "metadata": {
        "id": "-844Av5t-IE1"
      },
      "source": [
        "from natsort import index_natsorted\n",
        "plt.figure(figsize=(20,5))\n",
        "# print(len(ltrc_M_copd.chr[ltrc_M_copd['adj.P.Val']<0.01]))\n",
        "# ltrc_M_copd['chrm']=ltrc_M_copd.chr.str.split('chr').str[1].tolist()\n",
        "cc=(ltrc_M_copd[ltrc_M_copd['adj.P.Val']<0.01])\n",
        "cc=cc.sort_values(by=\"chr\",key=lambda x: np.argsort(index_natsorted(cc[\"chr\"])))\n",
        "# cc.sort(lambda x,y: x-y, key=lambda x: Set_Chr_Nr_(x))#_values()\n",
        "print(len(cc))\n",
        "pp=len(np.unique(cc.chr))\n",
        "zz=plt.hist(cc.chr,bins=pp)"
      ],
      "execution_count": null,
      "outputs": []
    },
    {
      "cell_type": "code",
      "metadata": {
        "id": "jxwBcmoQ9y7y"
      },
      "source": [
        "# from natsort import index_natsorted\n",
        "plt.figure(figsize=(20,5))\n",
        "# print(len(ltrc_M_copd.chr[ltrc_M_copd['adj.P.Val']<0.01]))\n",
        "# ltrc_M_copd['chrm']=ltrc_M_copd.chr.str.split('chr').str[1].tolist()\n",
        "cc=(ltrc_F_copd[ltrc_F_copd['adj.P.Val']<0.01])\n",
        "cc=cc.sort_values(by=\"chr\",key=lambda x: np.argsort(index_natsorted(cc[\"chr\"])))\n",
        "# cc.sort(lambda x,y: x-y, key=lambda x: Set_Chr_Nr_(x))#_values()\n",
        "print(len(cc))\n",
        "pp=len(np.unique(cc.chr))\n",
        "zz=plt.hist(cc.chr,bins=pp)"
      ],
      "execution_count": null,
      "outputs": []
    },
    {
      "cell_type": "code",
      "metadata": {
        "id": "607g8IXvCwLd"
      },
      "source": [
        "cc"
      ],
      "execution_count": null,
      "outputs": []
    },
    {
      "cell_type": "code",
      "metadata": {
        "id": "BVTtKsphB0Iq"
      },
      "source": [
        "from natsort import index_natsorted\n",
        "plt.figure(figsize=(20,5))\n",
        "# print(len(ltrc_M_copd.chr[ltrc_M_copd['adj.P.Val']<0.01]))\n",
        "# ltrc_M_copd['chrm']=ltrc_M_copd.chr.str.split('chr').str[1].tolist()\n",
        "cc=(ltcopd_F_copd[ltcopd_F_copd['adj.P.Val']<0.05])\n",
        "# cc=cc.sort_values(by=\"chr\",key=lambda x: np.argsort(index_natsorted(cc[\"chr\"])))\n",
        "# cc.sort(lambda x,y: x-y, key=lambda x: Set_Chr_Nr_(x))#_values()\n",
        "print(len(cc))\n",
        "# pp=len(np.unique(cc.chr))\n",
        "zz=plt.hist(cc['adj.P.Val'],bins=50)"
      ],
      "execution_count": null,
      "outputs": []
    },
    {
      "cell_type": "code",
      "metadata": {
        "id": "0I5XDue7B0Nm"
      },
      "source": [
        "from natsort import index_natsorted\n",
        "plt.figure(figsize=(20,5))\n",
        "# print(len(ltrc_M_copd.chr[ltrc_M_copd['adj.P.Val']<0.01]))\n",
        "# ltrc_M_copd['chrm']=ltrc_M_copd.chr.str.split('chr').str[1].tolist()\n",
        "cc=(ltcopd_M_copd[ltcopd_M_copd['adj.P.Val']<0.05])\n",
        "# cc=cc.sort_values(by=\"chr\",key=lambda x: np.argsort(index_natsorted(cc[\"chr\"])))\n",
        "# cc.sort(lambda x,y: x-y, key=lambda x: Set_Chr_Nr_(x))#_values()\n",
        "print(len(cc))\n",
        "# pp=len(np.unique(cc.chr))\n",
        "zz=plt.hist(cc['adj.P.Val'],bins=50)"
      ],
      "execution_count": null,
      "outputs": []
    },
    {
      "cell_type": "code",
      "metadata": {
        "id": "ViusNN8D9B--"
      },
      "source": [
        "female_DE=ltrc_F_copd.merge(ltcopd_F_copd,on='ID')\n",
        "male_DE=ltrc_M_copd.merge(ltcopd_M_copd,on='ID')\n",
        "female_DE=female_DE.dropna()\n",
        "male_DE=male_DE.dropna()\n",
        "[len(male_DE),len(female_DE)]"
      ],
      "execution_count": null,
      "outputs": []
    },
    {
      "cell_type": "code",
      "metadata": {
        "id": "Cg_wHr3I7XeA"
      },
      "source": [
        "!pip install chart_studio\n",
        "import chart_studio.plotly as py\n",
        "import plotly.graph_objects as go\n",
        "\n",
        "import plotly.io as pio\n",
        "pio.renderers.default='notebook'\n",
        "import plotly"
      ],
      "execution_count": null,
      "outputs": []
    },
    {
      "cell_type": "code",
      "metadata": {
        "id": "b026LkmbgHEC"
      },
      "source": [
        "plt.figure(figsize=(5,5))\n",
        "plt.scatter(male_DE['AveExpr_x'],male_DE['AveExpr_y'],label='male'),\n",
        "plt.scatter(female_DE['AveExpr_x'],female_DE['AveExpr_y'],label='female')\n",
        "plt.legend(loc='best')\n",
        "plt.ylim(0,14)\n",
        "plt.xlim(0,14)\n",
        "# plt.ylim(-.4,0)\n",
        "# plt.xlim(-.4,0)\n",
        "plt.plot([0, 14], [0, 14], 'k--')\n",
        "plt.xlabel('LTRC Avg_Expr')\n",
        "plt.ylabel('LTCOPD Avg_Expr')"
      ],
      "execution_count": null,
      "outputs": []
    },
    {
      "cell_type": "code",
      "metadata": {
        "id": "t-0KHK0jSgpc"
      },
      "source": [
        "trace_men = go.Scatter(x=male_DE['AveExpr_x'],\n",
        "                  y=male_DE['AveExpr_y'],text=male_DE['ID'],\n",
        "                  name='male',mode='markers',\n",
        "                  marker=dict(color='#A2D5F2'))\n",
        "\n",
        "trace_women = go.Scatter(x=female_DE['AveExpr_x'],\n",
        "                y=female_DE['AveExpr_y'],text=female_DE['ID'],\n",
        "                name='female',mode='markers',\n",
        "                marker=dict(color='#ffcdd2'))\n",
        "\n",
        "data = [trace_men, trace_women]\n",
        "\n",
        "layout = go.Layout(title=\"avg_exp\",\n",
        "                xaxis=dict(title='LTRC avg_exp'),\n",
        "                yaxis=dict(title='LTCOPD avg_exp'))\n",
        "\n",
        "fig = go.Figure(data=data, layout=layout,layout_yaxis_range=[0,14],layout_xaxis_range=[0,14])\n",
        "fig.add_trace(go.Scatter(\n",
        "    x=[0, 14],\n",
        "    y=[0, 14],name='',\n",
        "))\n",
        "fig.update_layout(\n",
        "    autosize=False,\n",
        "    width=500,\n",
        "    height=500)\n",
        "fig.show(renderer=\"colab\")"
      ],
      "execution_count": null,
      "outputs": []
    },
    {
      "cell_type": "code",
      "metadata": {
        "id": "jqflOBXwkLR8"
      },
      "source": [
        "plt.figure(figsize=(5,5))\n",
        "plt.scatter(male_DE['P.Value_x'],male_DE['P.Value_y'],label='male'),\n",
        "plt.scatter(female_DE['P.Value_x'],female_DE['P.Value_y'],label='female')\n",
        "plt.legend(loc='best')\n",
        "\n",
        "plt.plot([0, 0.02], [0, .02], 'k--')\n",
        "plt.ylim(0,.025)\n",
        "plt.xlim(0,.0015)\n",
        "plt.xlabel('LTRC P.val')\n",
        "plt.ylabel('LTCOPD P.val')"
      ],
      "execution_count": null,
      "outputs": []
    },
    {
      "cell_type": "code",
      "metadata": {
        "id": "3j9zQ3XtkSeh"
      },
      "source": [
        "plt.figure(figsize=(5,5))\n",
        "plt.scatter(male_DE['adj.P.Val_x'],male_DE['adj.P.Val_y'],label='male'),\n",
        "plt.scatter(female_DE['adj.P.Val_x'],female_DE['adj.P.Val_y'],label='female')\n",
        "plt.legend(loc='best')\n",
        "# plt.ylim(0,14)\n",
        "# plt.xlim(0,14)\n",
        "plt.plot([0, .5], [0, .5], 'k--')\n",
        "plt.xlabel('LTRC adj.p.val')\n",
        "plt.ylabel('LTCOPD adj.p.val')"
      ],
      "execution_count": null,
      "outputs": []
    },
    {
      "cell_type": "code",
      "metadata": {
        "id": "0Kb21Pe2gHJg"
      },
      "source": [
        "plt.figure(figsize=(5,5))\n",
        "plt.scatter(male_DE['t_x'],male_DE['t_y'],label='male'),\n",
        "plt.scatter(female_DE['t_x'],female_DE['t_y'],label='female')\n",
        "plt.legend(loc='best')\n",
        "# plt.ylim(-.4,0)\n",
        "# plt.xlim(-.4,0)\n",
        "plt.plot([-6, 6], [-6, 6], 'k--')\n",
        "plt.xlabel('LTRC direction of effect (t)')\n",
        "plt.ylabel('LTCOPD direction of effect (t)')"
      ],
      "execution_count": null,
      "outputs": []
    },
    {
      "cell_type": "code",
      "metadata": {
        "id": "Um7BJT-s3i-5"
      },
      "source": [
        ""
      ],
      "execution_count": null,
      "outputs": []
    },
    {
      "cell_type": "code",
      "metadata": {
        "id": "RH2cK4dSS8Xp"
      },
      "source": [
        "trace_men = go.Scatter(x=male_DE['t_x'],\n",
        "                  y=-male_DE['t_y'],text=male_DE['ID'],\n",
        "                  name='male',mode='markers',\n",
        "                  marker=dict(color='#A2D5F2',size=np.abs(np.log((male_DE['adj.P.Val_x']*male_DE['adj.P.Val_y'])))))\n",
        "\n",
        "trace_women = go.Scatter(x=female_DE['t_x'],\n",
        "                y=-female_DE['t_y'],text=female_DE['ID'],\n",
        "                name='female',mode='markers',\n",
        "                marker=dict(color='#ffcdd2',size=np.abs(np.log(female_DE['adj.P.Val_x']*female_DE['adj.P.Val_y']))))\n",
        "\n",
        "data = [trace_men, trace_women]\n",
        "\n",
        "layout = go.Layout(title=\"direction & magnitude of effect \",\n",
        "                xaxis=dict(title='LTRC t'),\n",
        "                yaxis=dict(title='LTCOPD t'))\n",
        "\n",
        "fig = go.Figure(data=data, layout=layout,layout_yaxis_range=[-6,6],layout_xaxis_range=[-6,6])\n",
        "fig.add_trace(go.Scatter(\n",
        "    x=[-6, 6],\n",
        "    y=[-6, 6],name='',\n",
        "))\n",
        "fig.update_layout(#title={ 'xanchor': 'center'},#'text': 'direction & magnitude of effect '},#\\n (size=abs(log(male p-val * female p-val)'},\n",
        "    autosize=False,\n",
        "    width=500,\n",
        "    height=500)\n",
        "fig.show(renderer=\"colab\")"
      ],
      "execution_count": null,
      "outputs": []
    },
    {
      "cell_type": "code",
      "metadata": {
        "id": "KG6AaaC8-9VH"
      },
      "source": [
        "LTRC_men = go.Scatter(x=male_DE['B_x'],\n",
        "                  y=male_DE['P.Value_x'],text=male_DE['ID'],\n",
        "                  name='LTRC male',mode='markers',\n",
        "                  marker=dict(color='#A2D5F2'),yaxis='y2')#,size=np.abs(np.log(male_DE['adj.P.Val_x']))),yaxis='y2')\n",
        "\n",
        "LTRC_women = go.Scatter(x=female_DE['B_x'],\n",
        "                y=female_DE['P.Value_x'],text=female_DE['ID'],\n",
        "                name='LTRC female',mode='markers',\n",
        "                marker=dict(color='#ffcdd2'),yaxis='y2')#,size=np.abs(np.log(female_DE['adj.P.Val_x']))))\n",
        "\n",
        "\n",
        "LTCOPD_men = go.Scatter(x=male_DE['B_y'],\n",
        "                  y=male_DE['P.Value_y'],text=male_DE['ID'],\n",
        "                  name='LTCOPD male',mode='markers',\n",
        "                  marker=dict(color='#A2D5F2',symbol='square-dot'))#,size=(male_DE['adj.P.Val_y'])))\n",
        "\n",
        "LTCOPD_women = go.Scatter(x=female_DE['B_y'],\n",
        "                y=female_DE['P.Value_y'],text=female_DE['ID'],\n",
        "                name='LTCOPD female',mode='markers',\n",
        "                marker=dict(color='#ffcdd2',symbol='square-dot'))#,size=(female_DE['adj.P.Val_y']))))\n",
        "\n",
        "\n",
        "\n",
        "data = [LTRC_men, LTRC_women,LTCOPD_men,LTCOPD_women]\n",
        "\n",
        "layout = go.Layout(title=\"avg_exp\",\n",
        "                xaxis=dict(title='direcion of effect (t)'),\n",
        "                yaxis=dict(title='p-val'),\n",
        "                yaxis2=dict(title='log p-val',type='log',overlaying='y',side='right'))\n",
        "\n",
        "fig = go.Figure(data=data, layout=layout)#,layout_yaxis_range=[-6,6],layout_xaxis_range=[-6,6])\n",
        "# fig.add_trace(go.Scatter(\n",
        "#     x=[-6, 6],\n",
        "#     y=[-6, 6],name='',\n",
        "# ))\n",
        "fig.update_layout(\n",
        "    autosize=False,\n",
        "    width=500,\n",
        "    height=500)\n",
        "fig.show(renderer=\"colab\")\n",
        "\n",
        "# plotly.sign_in('dcolinmorgan', 'nAZ6TvqQqkrkAN7lpV6v')\n",
        "# plot_url = plotly.plotly.plot(fig)"
      ],
      "execution_count": null,
      "outputs": []
    },
    {
      "cell_type": "code",
      "metadata": {
        "id": "9iwVMgPlEfRT"
      },
      "source": [
        "trace_men = go.Scatter(x=male_DE['P.Value_x'],\n",
        "                  y=male_DE['P.Value_y'],text=male_DE['ID'],\n",
        "                  name='male',mode='markers',\n",
        "                  marker=dict(color='#A2D5F2',symbol=((male_DE['t_x']*male_DE['t_y'])>1)))\n",
        "\n",
        "trace_women = go.Scatter(x=female_DE['P.Value_x'],\n",
        "                y=female_DE['P.Value_y'],text=female_DE['ID'],\n",
        "                name='female',mode='markers',\n",
        "                marker=dict(color='#ffcdd2',symbol=((female_DE['t_x']*female_DE['t_y'])>1)))\n",
        "\n",
        "data = [trace_men, trace_women]\n",
        "\n",
        "layout = go.Layout(title=\"direction & magnitude of effect \",\n",
        "                xaxis=dict(title='LTRC p-val'),\n",
        "                yaxis=dict(title='LTCOPD p-val'))\n",
        "\n",
        "fig = go.Figure(data=data, layout=layout)#,layout_yaxis_range=[-6,6],layout_xaxis_range=[-6,6])\n",
        "# fig.add_trace(go.Scatter(\n",
        "#     x=[-6, 6],\n",
        "#     y=[-6, 6],name='',\n",
        "# ))\n",
        "fig.update_layout(#title={ 'xanchor': 'center'},#'text': 'direction & magnitude of effect '},#\\n (size=abs(log(male p-val * female p-val)'},\n",
        "    autosize=False,\n",
        "    width=500,\n",
        "    height=500)\n",
        "fig.show(renderer=\"colab\")"
      ],
      "execution_count": null,
      "outputs": []
    },
    {
      "cell_type": "code",
      "metadata": {
        "id": "I_EalmlKOFZR"
      },
      "source": [
        "jeff3=[set(ltcopd_F_copd['ID']),\n",
        "set(ltcopd_M_copd['ID']),\n",
        "set(ltrc_F_copd['ID']),\n",
        "set(ltrc_M_copd['ID'])]"
      ],
      "execution_count": null,
      "outputs": []
    },
    {
      "cell_type": "code",
      "metadata": {
        "id": "int0xYXxOs5U"
      },
      "source": [
        "plt.figure(figsize=(20, 10))\n",
        "species_names=['ltcopd_Fdiff','ltcopd_Mdiff','ltrc_Fdiff','ltrc_Mdiff']\n",
        "\n",
        "supervenn(jeff3, species_names, rotate_col_annotations=True)#,\n",
        "          # col_annotations_area_height=1.2, sets_ordering='minimize gaps',\n",
        "          # min_width_for_annotation=180)"
      ],
      "execution_count": null,
      "outputs": []
    },
    {
      "cell_type": "code",
      "metadata": {
        "id": "q9rS-EORYq6j"
      },
      "source": [
        "jeff4=pd.DataFrame([ltcopd_F_copd.sort_values('P.Value')['ID'].values[0:100],\n",
        "                    ltcopd_M_copd.sort_values('P.Value')['ID'].values[0:100],\n",
        "                    ltrc_F_copd.sort_values('P.Value')['ID'].values[0:100],\n",
        "                    ltrc_M_copd.sort_values('P.Value')['ID'].values[0:100]])\n",
        "\n",
        "jeff4.T"
      ],
      "execution_count": null,
      "outputs": []
    },
    {
      "cell_type": "code",
      "metadata": {
        "id": "c6bTbuflZJMD"
      },
      "source": [
        "\n",
        "pp=jeff4.iloc[3].dropna().tolist()\n",
        "\n",
        "print(*pp, sep='\\n')"
      ],
      "execution_count": null,
      "outputs": []
    },
    {
      "cell_type": "code",
      "metadata": {
        "id": "Qw3TTOszZllD"
      },
      "source": [
        "jeff22=[set(LTRC_female.Name),\n",
        "set(LTRC_male.Name),\n",
        "set(LTCOPD_female.Name),\n",
        "set(LTCOPD_male.Name),\n",
        "\n",
        "set(ltcopd_F_copd['ID'][1:100]),\n",
        "set(ltcopd_M_copd['ID'][1:100]),\n",
        "set(ltrc_F_copd['ID'][1:100]),\n",
        "set(ltrc_M_copd['ID'][1:100])]"
      ],
      "execution_count": null,
      "outputs": []
    },
    {
      "cell_type": "code",
      "metadata": {
        "id": "RIlB8f8ruCq6"
      },
      "source": [
        "plt.figure(figsize=(20, 10))\n",
        "species_names=['reg_LTRC_F','reg_LTRC_M','reg_LTCOPD_F','reg_LTCOPD_M','io_ltcopd_F','io_ltcopd_F','io_ltrc_large_M','io_ltrc_M',]\n",
        "supervenn(jeff22, species_names, rotate_col_annotations=True)#,\n",
        "          # col_annotations_area_height=1.2, sets_ordering='minimize gaps',\n",
        "          # min_width_for_annotation=180)"
      ],
      "execution_count": null,
      "outputs": []
    },
    {
      "cell_type": "code",
      "metadata": {
        "id": "dB4RPTfQuxIt"
      },
      "source": [
        "j=-1\n",
        "jeff=pd.DataFrame()\n",
        "# titleArray=['Binary network 100 genes','Continous network 1 100 genes','Continous network 2 100 genes','Continous network 3 100 genes']\n",
        "# traces= glob.glob('drive/My Drive/harvard/LARGE_COPD/*_de_061821.txt')\n",
        "# traces=np.sort(traces)\n",
        "for j in range(0,4):\n",
        "\n",
        "\n",
        "    # for net in #[KRCCNetBin1,KRCCNetCont1,KRCCNetCont2,KRCCNetCont3]:\n",
        "    # j=j+1\n",
        "    # if '.txt' in(file):\n",
        "        # net=pd.read_csv(file,sep='\\t',usecols=[3,8,9])\n",
        "    # else:\n",
        "    #     net=pd.read_csv(file,sep=',',usecols=[3,8,9])\n",
        "    # net=net.sort_values('adj.P.Val').dropna()[0:500]\n",
        "    # c=net['GencodeBasicV12_NAME'].dropna().astype(object)\n",
        "    c=jeff4.T[j].dropna().astype(object)\n",
        "    genes_str='\\n'.join(c)\n",
        "    ENRICHR_URL = 'http://maayanlab.cloud/Enrichr/addList'\n",
        "    query_string = '?userListId=%s&backgroundType=%s'\n",
        "\n",
        "    description = 'Example gene list'\n",
        "    payload = {\n",
        "        'list': (None, genes_str),\n",
        "        'description': (None, description)\n",
        "    }\n",
        "\n",
        "    response = requests.post(ENRICHR_URL, files=payload)\n",
        "    if not response.ok:\n",
        "        raise Exception('Error analyzing gene list')\n",
        "\n",
        "    data = json.loads(response.text)\n",
        "\n",
        "    user_list_id = data['userListId']\n",
        "    gene_set_library = 'GO_Biological_Process_2018'\n",
        "    ENRICHR_URL = 'http://maayanlab.cloud/Enrichr/enrich'\n",
        "    response = requests.get(\n",
        "        ENRICHR_URL + query_string % (user_list_id, gene_set_library)\n",
        "     )\n",
        "    if not response.ok:\n",
        "        raise Exception('Error fetching enrichment results')\n",
        "\n",
        "    data = json.loads(response.text);\n",
        "    processBio=[]\n",
        "    pvals=[]\n",
        "    for i in range(1,10):\n",
        "        processBio.append(data['GO_Biological_Process_2018'][i][1])\n",
        "        pvals.append(data['GO_Biological_Process_2018'][i][2])\n",
        "    plt.figure()\n",
        "    y_pos = np.arange(len(processBio))\n",
        "    plt.barh(y_pos, -np.log10(pvals))\n",
        "    plt.yticks(ticks=y_pos,labels=processBio);\n",
        "    plt.gca().invert_yaxis()  \n",
        "    plt.xlabel('-log(p-value)')\n",
        "#     plt.title(file.split('/')[3])\n",
        "#     pd.DataFrame(processBio).to_csv('~/analyses/LTRC/bench/GEO/'+file.split('/')[3])\n",
        "# #     except ValueError:\n",
        "# #         pass\n",
        "\n",
        "#     jeff=jeff.append(['~/analyses/LTRC/bench/GEO/'+file.split('/')[3]])\n",
        "#     jeff=jeff.append(pd.DataFrame(processBio))\n",
        "# jeff.to_csv('~/analyses/LTRC/bench/overall_enrich.txt',sep='\\t')\n"
      ],
      "execution_count": null,
      "outputs": []
    },
    {
      "cell_type": "code",
      "metadata": {
        "id": "AMPbEKzXt-4g"
      },
      "source": [
        ""
      ],
      "execution_count": null,
      "outputs": []
    }
  ]
}