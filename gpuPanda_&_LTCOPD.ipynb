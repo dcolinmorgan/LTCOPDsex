{
  "nbformat": 4,
  "nbformat_minor": 0,
  "metadata": {
    "colab": {
      "name": "gpuPanda & LTCOPD.ipynb",
      "provenance": [],
      "collapsed_sections": [],
      "machine_shape": "hm",
      "include_colab_link": true
    },
    "kernelspec": {
      "name": "python3",
      "display_name": "Python 3"
    },
    "accelerator": "GPU"
  },
  "cells": [
    {
      "cell_type": "markdown",
      "metadata": {
        "id": "view-in-github",
        "colab_type": "text"
      },
      "source": [
        "<a href=\"https://colab.research.google.com/github/dcolinmorgan/LTCOPDsex/blob/master/gpuPanda_%26_LTCOPD.ipynb\" target=\"_parent\"><img src=\"https://colab.research.google.com/assets/colab-badge.svg\" alt=\"Open In Colab\"/></a>"
      ]
    },
    {
      "cell_type": "markdown",
      "metadata": {
        "id": "S6C7PBz3e8Tb",
        "colab_type": "text"
      },
      "source": [
        "##### 0.5: Change colab runtime type to \"GPU\""
      ]
    },
    {
      "cell_type": "markdown",
      "metadata": {
        "id": "RaDKNFlku6d6",
        "colab_type": "text"
      },
      "source": [
        "# NetZooPy Tutorial: running Panda and Lioness using GPU and precision flags"
      ]
    },
    {
      "cell_type": "markdown",
      "metadata": {
        "id": "CWHop1VSe8Fp",
        "colab_type": "text"
      },
      "source": [
        "#1. Setup Environment: download, install & import latest packages"
      ]
    },
    {
      "cell_type": "code",
      "metadata": {
        "id": "gGbB1syJekAh",
        "colab_type": "code",
        "colab": {
          "base_uri": "https://localhost:8080/",
          "height": 72
        },
        "outputId": "ea67d5c7-a857-4658-aaa9-9087e9879cd5"
      },
      "source": [
        "import os\n",
        "import s3fs\n",
        "import pandas as pd\n",
        "import seaborn as sns\n",
        "import numpy as np\n",
        "from psutil import *\n",
        "import matplotlib.pyplot as plt"
      ],
      "execution_count": null,
      "outputs": [
        {
          "output_type": "stream",
          "text": [
            "/usr/local/lib/python3.6/dist-packages/statsmodels/tools/_testing.py:19: FutureWarning: pandas.util.testing is deprecated. Use the functions in the public API at pandas.testing instead.\n",
            "  import pandas.util.testing as tm\n"
          ],
          "name": "stderr"
        }
      ]
    },
    {
      "cell_type": "code",
      "metadata": {
        "id": "ogmMRRhqewZq",
        "colab_type": "code",
        "colab": {}
      },
      "source": [
        "!nvcc --version"
      ],
      "execution_count": null,
      "outputs": []
    },
    {
      "cell_type": "markdown",
      "metadata": {
        "id": "8LtkmrxtfNXT",
        "colab_type": "text"
      },
      "source": [
        "###  \n",
        "##1.1 Configure cupy for installed Cuda version\n",
        "1.   use cuda version based on above release (*e.g.* release 10.1= cuda101)\n",
        "2.   install cupy version 7.4.0 or above "
      ]
    },
    {
      "cell_type": "code",
      "metadata": {
        "id": "Ix7nCFlZfOwr",
        "colab_type": "code",
        "colab": {
          "base_uri": "https://localhost:8080/",
          "height": 245
        },
        "outputId": "3d52ba15-0a05-4c28-e1f4-0d905b22587a"
      },
      "source": [
        "!pip install cupy-cuda101==7.4.0\n",
        "import cupy as cp\n",
        "# print(cp.__version__)\n",
        "!pip freeze | grep cupy"
      ],
      "execution_count": null,
      "outputs": [
        {
          "output_type": "stream",
          "text": [
            "Collecting cupy-cuda101==7.4.0\n",
            "\u001b[?25l  Downloading https://files.pythonhosted.org/packages/e3/ea/bef39342236e3b89587443842f0fdee48a468e9420ed6aad8a481bca02a9/cupy_cuda101-7.4.0-cp36-cp36m-manylinux1_x86_64.whl (361.9MB)\n",
            "\u001b[K     |████████████████████████████████| 361.9MB 42kB/s \n",
            "\u001b[?25hRequirement already satisfied: six>=1.9.0 in /usr/local/lib/python3.6/dist-packages (from cupy-cuda101==7.4.0) (1.12.0)\n",
            "Requirement already satisfied: fastrlock>=0.3 in /usr/local/lib/python3.6/dist-packages (from cupy-cuda101==7.4.0) (0.4)\n",
            "Requirement already satisfied: numpy>=1.9.0 in /usr/local/lib/python3.6/dist-packages (from cupy-cuda101==7.4.0) (1.18.4)\n",
            "Installing collected packages: cupy-cuda101\n",
            "  Found existing installation: cupy-cuda101 6.5.0\n",
            "    Uninstalling cupy-cuda101-6.5.0:\n",
            "      Successfully uninstalled cupy-cuda101-6.5.0\n",
            "Successfully installed cupy-cuda101-7.4.0\n",
            "cupy-cuda101==7.4.0\n"
          ],
          "name": "stdout"
        }
      ]
    },
    {
      "cell_type": "code",
      "metadata": {
        "id": "xRjfbYFd7I3B",
        "colab_type": "code",
        "colab": {}
      },
      "source": [
        "!rm -rf netZooPy"
      ],
      "execution_count": null,
      "outputs": []
    },
    {
      "cell_type": "code",
      "metadata": {
        "id": "x5-MkWXGfQuY",
        "colab_type": "code",
        "colab": {}
      },
      "source": [
        "# !git clone https://github.com/netZoo/netZooPy.git\n",
        "!git clone --single-branch --branch devel https://github.com/netZoo/netZooPy.git\n",
        "os.chdir('netZooPy')\n",
        "!pip install -e ./"
      ],
      "execution_count": null,
      "outputs": []
    },
    {
      "cell_type": "code",
      "metadata": {
        "id": "k0h_SJjYf2O9",
        "colab_type": "code",
        "colab": {}
      },
      "source": [
        "import netZooPy\n",
        "from netZooPy.panda import Panda\n",
        "from netZooPy.lioness import Lioness\n",
        "os.chdir('..')"
      ],
      "execution_count": null,
      "outputs": []
    },
    {
      "cell_type": "markdown",
      "metadata": {
        "id": "eiMr4wpkgDy_",
        "colab_type": "text"
      },
      "source": [
        "#2. Load test data we fetch the data from the [GRAND database](https://grand.networkmedicine.org/download/) "
      ]
    },
    {
      "cell_type": "code",
      "metadata": {
        "id": "q7s_Ea6hf6ov",
        "colab_type": "code",
        "colab": {}
      },
      "source": [
        "LCL_ppi=pd.read_csv('https://granddb.s3.amazonaws.com/cells/ppi/LCL_ppi.txt',sep='\\t',header=None)\n",
        "LCL_expression=pd.read_csv('https://granddb.s3.amazonaws.com/optPANDA/expression/Hugo_exp1_lcl.txt',sep='\\t',header=None)\n",
        "coding_LCL_motif=pd.read_csv('https://granddb.s3.amazonaws.com/gpuPANDA/Hugo_motifCellLine_reduced.txt',sep='\\t',header=None)\n",
        "LCL_ppi.to_csv('LCL_ppi.txt',sep='\\t',index=False)\n",
        "LCL_expression.to_csv('Hugo_exp1_lcl.txt',sep='\\t',index=False)\n",
        "coding_LCL_motif.to_csv('Hugo_motifCellLine.txt',sep='\\t',index=False)"
      ],
      "execution_count": null,
      "outputs": []
    },
    {
      "cell_type": "code",
      "metadata": {
        "id": "M5JqR6R4f9zE",
        "colab_type": "code",
        "colab": {}
      },
      "source": [
        "# os.getcwd()\n",
        "expression_data='Hugo_exp1_lcl.txt'\n",
        "motif_data='Hugo_motifCellLine.txt'\n",
        "ppi_data='LCL_ppi.txt'\n"
      ],
      "execution_count": null,
      "outputs": []
    },
    {
      "cell_type": "markdown",
      "metadata": {
        "id": "c6ydrGxdgI9B",
        "colab_type": "text"
      },
      "source": [
        "#3. Run Panda with GPU flag as 4th arguement & single precision to save memory"
      ]
    },
    {
      "cell_type": "code",
      "metadata": {
        "id": "yqZCQubJf_By",
        "colab_type": "code",
        "colab": {}
      },
      "source": [
        "panda_obj = Panda(expression_data, motif_data, ppi_data,computing='cpu',precision='single',save_tmp=False,save_memory = False, remove_missing=True, keep_expression_matrix = True,modeProcess = 'intersection')"
      ],
      "execution_count": null,
      "outputs": []
    },
    {
      "cell_type": "code",
      "metadata": {
        "id": "PxbaQwqh30eG",
        "colab_type": "code",
        "colab": {}
      },
      "source": [
        "panda_obj2= Panda(expression_data, motif_data, ppi_data,computing='gpu',precision='single',save_tmp=False,save_memory = False, remove_missing=True, keep_expression_matrix = True,modeProcess = 'intersection')"
      ],
      "execution_count": null,
      "outputs": []
    },
    {
      "cell_type": "code",
      "metadata": {
        "id": "fgskt_cDBhAN",
        "colab_type": "code",
        "colab": {}
      },
      "source": [
        "# import matplotlib.pyplot as plt\n",
        "\n",
        "plt.hist(np.abs(lioness_obj2.export_lioness_results[1]-lioness_obj.export_lioness_results[1]),bins=100,log=True)"
      ],
      "execution_count": null,
      "outputs": []
    },
    {
      "cell_type": "code",
      "metadata": {
        "id": "jhAY4HoABXvM",
        "colab_type": "code",
        "colab": {}
      },
      "source": [
        "lioness_obj2 = Lioness(panda_obj2,start=1, end=5, save_dir='lioness_output', save_fmt='txt')#,save_tmp=False,save_memory = True, remove_missing=True, keep_expression_matrix = False,modeProcess = 'intersection')"
      ],
      "execution_count": null,
      "outputs": []
    },
    {
      "cell_type": "code",
      "metadata": {
        "id": "n5Y4dQivGUvh",
        "colab_type": "code",
        "colab": {}
      },
      "source": [
        "lioness_obj = Lioness(panda_obj2,computing='gpu',start=1, end=5, save_dir='lioness_output', save_fmt='txt')#,save_tmp=False,save_memory = True, remove_missing=True, keep_expression_matrix = False,modeProcess = 'intersection')"
      ],
      "execution_count": null,
      "outputs": []
    },
    {
      "cell_type": "code",
      "metadata": {
        "id": "FLaZ8W1vpk9I",
        "colab_type": "code",
        "colab": {}
      },
      "source": [
        "i=1\n",
        "#normalize\n",
        "panda_obj2.expression_matrix=np.random.randn(100,5)\n",
        "expression_matrix=zscore(panda_obj2.expression_matrix,axis=1)\n",
        "#orig corr\n",
        "correlation_matrix0 = np.corrcoef(panda_obj2.expression_matrix)\n",
        "np.fill_diagonal(correlation_matrix0, 1)\n",
        "\n",
        "##subject normalized expression\n",
        "subj_exp=expression_matrix[:, i]\n",
        "n_conditions = expression_matrix.shape[1]\n",
        "\n",
        "##not subject correlation\n",
        "idx = [x for x in range(n_conditions) if x != i]\n",
        "correlation_matrix1 = np.corrcoef(panda_obj2.expression_matrix[:, idx])\n",
        "np.fill_diagonal(correlation_matrix1, 1)\n",
        "\n",
        "##not subject correlation\n",
        "correlation_matrix2 = ((((n_conditions-1) * (correlation_matrix0)) - (np.array([subj_exp]).T * subj_exp)) /(n_conditions-2))\n",
        "np.fill_diagonal(correlation_matrix2, 1)\n",
        "plt.hist(np.abs(correlation_matrix1.flatten()-correlation_matrix2.flatten()),log=True)"
      ],
      "execution_count": null,
      "outputs": []
    },
    {
      "cell_type": "code",
      "metadata": {
        "id": "C0snKd4odRSj",
        "colab_type": "code",
        "colab": {}
      },
      "source": [
        "plt.hist(panda_obj2.expression_matrix.flatten())"
      ],
      "execution_count": null,
      "outputs": []
    },
    {
      "cell_type": "code",
      "metadata": {
        "id": "A6jxESJhm3w0",
        "colab_type": "code",
        "colab": {}
      },
      "source": [
        "from matplotlib_venn import venn3, venn3_circles\n",
        "\n",
        "\n",
        "\n"
      ],
      "execution_count": null,
      "outputs": []
    },
    {
      "cell_type": "code",
      "metadata": {
        "id": "_pQUH1_AnKAK",
        "colab_type": "code",
        "colab": {
          "base_uri": "https://localhost:8080/",
          "height": 34
        },
        "outputId": "85b85c53-87bd-46f0-e3f1-048c1716de4a"
      },
      "source": [
        "panda_obj2.expression_matrix.shape"
      ],
      "execution_count": null,
      "outputs": [
        {
          "output_type": "execute_result",
          "data": {
            "text/plain": [
              "(1000, 127)"
            ]
          },
          "metadata": {
            "tags": []
          },
          "execution_count": 90
        }
      ]
    },
    {
      "cell_type": "markdown",
      "metadata": {
        "id": "UvHH1Eb7vj6I",
        "colab_type": "text"
      },
      "source": [
        "##GPU and CPU info:"
      ]
    },
    {
      "cell_type": "code",
      "metadata": {
        "id": "_BPEYAGrhB5L",
        "colab_type": "code",
        "colab": {}
      },
      "source": [
        "!nvidia-smi"
      ],
      "execution_count": null,
      "outputs": []
    },
    {
      "cell_type": "code",
      "metadata": {
        "id": "ZH8EQvZ2hEtV",
        "colab_type": "code",
        "colab": {}
      },
      "source": [
        "!cat /proc/cpuinfo"
      ],
      "execution_count": null,
      "outputs": []
    },
    {
      "cell_type": "code",
      "metadata": {
        "id": "BkJcFPrN_e6d",
        "colab_type": "code",
        "colab": {}
      },
      "source": [
        ""
      ],
      "execution_count": null,
      "outputs": []
    },
    {
      "cell_type": "markdown",
      "metadata": {
        "id": "Fu7w4C9T_0wR",
        "colab_type": "text"
      },
      "source": [
        "# LTCOPD sex analysis (GSE76925)"
      ]
    },
    {
      "cell_type": "code",
      "metadata": {
        "id": "rXE52fZ__nNx",
        "colab_type": "code",
        "colab": {}
      },
      "source": [
        "!pip install GEOparse"
      ],
      "execution_count": null,
      "outputs": []
    },
    {
      "cell_type": "code",
      "metadata": {
        "id": "FjcDcwabDhch",
        "colab_type": "code",
        "colab": {}
      },
      "source": [
        "# https://geoparse.readthedocs.io/en/latest/Analyse_hsa-miR-124a-3p_transfection_time-course.html#\n",
        "import GEOparse\n",
        "gse = GEOparse.get_GEO(geo=\"GSE76925\", destdir=\"./\")\n",
        "# gse = GEOparse.get_GEO(filepath=\"GSE76925_family.soft.gz\")"
      ],
      "execution_count": null,
      "outputs": []
    },
    {
      "cell_type": "code",
      "metadata": {
        "id": "sGcNsm82RW3J",
        "colab_type": "code",
        "colab": {
          "base_uri": "https://localhost:8080/",
          "height": 124
        },
        "outputId": "d2d40ae8-7db6-44a0-c521-ea52d9c3f92d"
      },
      "source": [
        "from google.colab import drive\n",
        "drive.mount('/content/drive')"
      ],
      "execution_count": null,
      "outputs": [
        {
          "output_type": "stream",
          "text": [
            "Go to this URL in a browser: https://accounts.google.com/o/oauth2/auth?client_id=947318989803-6bn6qk8qdgf4n4g3pfee6491hc0brc4i.apps.googleusercontent.com&redirect_uri=urn%3aietf%3awg%3aoauth%3a2.0%3aoob&response_type=code&scope=email%20https%3a%2f%2fwww.googleapis.com%2fauth%2fdocs.test%20https%3a%2f%2fwww.googleapis.com%2fauth%2fdrive%20https%3a%2f%2fwww.googleapis.com%2fauth%2fdrive.photos.readonly%20https%3a%2f%2fwww.googleapis.com%2fauth%2fpeopleapi.readonly\n",
            "\n",
            "Enter your authorization code:\n",
            "··········\n",
            "Mounted at /content/drive\n"
          ],
          "name": "stdout"
        }
      ]
    },
    {
      "cell_type": "code",
      "metadata": {
        "id": "o8wCWMH6SR3c",
        "colab_type": "code",
        "colab": {}
      },
      "source": [
        "# illumina_labels=pd.read_csv('drive/My Drive/Colab Notebooks/illumina_labels.txt',sep=';',header=0)\n",
        "illumina_labels=pd.read_csv('drive/My Drive/Colab Notebooks/GPL10558_illumina_prb_loc.txt',sep='\\t',index_col=0,header=None,names=['loc','symbol'])"
      ],
      "execution_count": null,
      "outputs": []
    },
    {
      "cell_type": "code",
      "metadata": {
        "id": "2ceKqxbjdXAi",
        "colab_type": "code",
        "colab": {}
      },
      "source": [
        "gpl = gse.gpls[next(iter(gse.gpls))]\n",
        "data = gse.pivot_samples(values=\"VALUE\")#, gpl=gpl, annotation_column=\"Symbol\")\n",
        "data.sort_index"
      ],
      "execution_count": null,
      "outputs": []
    },
    {
      "cell_type": "code",
      "metadata": {
        "id": "tu--JIOrI-iU",
        "colab_type": "code",
        "colab": {}
      },
      "source": [
        "# import seaborn as sns\n",
        "# sns.set(rc={'figure.figsize':(100,80)})\n",
        "# data.hist()\n",
        "# sns.despine(offset=10, trim=True)"
      ],
      "execution_count": null,
      "outputs": []
    },
    {
      "cell_type": "code",
      "metadata": {
        "id": "yt5WJkQ8KdzK",
        "colab_type": "code",
        "colab": {}
      },
      "source": [
        "pheno=gse.phenotype_data.rename(columns={'characteristics_ch1.0.age': 'age',\"characteristics_ch1.1.Sex\":\"sex\",\"characteristics_ch1.3.bmi\":\"bmi\",\"characteristics_ch1.6.fev1.pp\":\"fev1\",\"characteristics_ch1.4.packyears\":\"PY\"})\n",
        "pheno[['age',\"sex\",\"bmi\",\"fev1\",\"PY\"]].to_csv('pheno_data.txt',sep='\\t',index=True,header=True)\n"
      ],
      "execution_count": null,
      "outputs": []
    },
    {
      "cell_type": "code",
      "metadata": {
        "id": "JItdhXvhRoPg",
        "colab_type": "code",
        "colab": {}
      },
      "source": [
        "# data.to_csv('GPL10558.txt',sep='\\t',index=True,header=False)\n",
        "\n",
        "data2=data.merge(illumina_labels['symbol'],left_index=True,right_index=True)\n",
        "data2.index=data2['symbol']\n",
        "del data2['symbol']\n",
        "data2.columns=[gse.phenotype_data['characteristics_ch1.1.Sex']+gse.phenotype_data['characteristics_ch1.5.copd']]\n",
        "\n",
        "data2.loc[:,'Mcase'].to_csv('Mcase.txt',sep='\\t',index=True,header=False)\n",
        "data2.loc[:,'Mcont'].to_csv('Mcont.txt',sep='\\t',index=True,header=False)\n",
        "\n",
        "data3=data.merge(illumina_labels,left_index=True,right_index=True)\n",
        "data3.index=data3['symbol']\n",
        "data3=data3[data3['loc']!='Y']\n",
        "del data3['symbol'], data3['loc']\n",
        "data3.columns=[gse.phenotype_data['characteristics_ch1.1.Sex']+gse.phenotype_data['characteristics_ch1.5.copd']]\n",
        "\n",
        "\n",
        "data3.loc[:,'Fcase'].to_csv('Fcase.txt',sep='\\t',index=True,header=False)\n",
        "data3.loc[:,'Fcont'].to_csv('Fcont.txt',sep='\\t',index=True,header=False)\n"
      ],
      "execution_count": null,
      "outputs": []
    },
    {
      "cell_type": "code",
      "metadata": {
        "id": "H0bODbO7MR99",
        "colab_type": "code",
        "colab": {}
      },
      "source": [
        "LCL_ppi=pd.read_csv('https://granddb.s3.amazonaws.com/optPANDA/ppi/ppi_complete.txt',sep='\\t',header=None)\n",
        "LCL_ppi.to_csv('ppi_complete.txt',sep='\\t',index=False,header=False)\n",
        "\n",
        "coding_LCL_motif=pd.read_csv('https://granddb.s3.amazonaws.com/optPANDA/motifs/Hugo_motifCellLine.txt',sep='\\t',header=None)\n",
        "coding_LCL_motif.to_csv('coding_LCL_motif.txt',sep='\\t',index=False,header=False)\n",
        "\n",
        "# expression_data='GPL10558.txt'\n",
        "motif_data='coding_LCL_motif.txt'\n",
        "ppi_data='ppi_complete.txt'"
      ],
      "execution_count": null,
      "outputs": []
    },
    {
      "cell_type": "code",
      "metadata": {
        "id": "a8EFuBHCMSCB",
        "colab_type": "code",
        "colab": {}
      },
      "source": [
        ""
      ],
      "execution_count": null,
      "outputs": []
    },
    {
      "cell_type": "code",
      "metadata": {
        "id": "ZCCw1e2CJfSB",
        "colab_type": "code",
        "colab": {}
      },
      "source": [
        "# panda_obj = Panda(expression_data, motif_data, ppi_data,computing='gpu',precision='single',save_tmp=False,save_memory = False, remove_missing=True, keep_expression_matrix = True,modeProcess = 'intersection')\n",
        "# panda_obj11 = Panda('Fcase.txt', motif_data, ppi_data,computing='cpu',save_tmp=False,save_memory = False, remove_missing=True, keep_expression_matrix = False,modeProcess = 'intersection')\n",
        "# panda_obj22 = Panda('Mcase.txt', motif_data, ppi_data,computing='cpu',save_tmp=False,save_memory = False, remove_missing=True, keep_expression_matrix = False,modeProcess = 'intersection')\n",
        "\n",
        "panda_obj1 = Panda('Fcase.txt', motif_data, ppi_data,computing='gpu',precision='single',save_tmp=False,save_memory = False, remove_missing=True, keep_expression_matrix = False,modeProcess = 'intersection')\n",
        "panda_obj2 = Panda('Mcase.txt', motif_data, ppi_data,computing='gpu',precision='single',save_tmp=False,save_memory = False, remove_missing=True, keep_expression_matrix = False,modeProcess = 'intersection')\n",
        "panda_obj3 = Panda('Fcont.txt', motif_data, ppi_data,computing='gpu',precision='single',save_tmp=False,save_memory = False, remove_missing=True, keep_expression_matrix = False,modeProcess = 'intersection')\n",
        "panda_obj4 = Panda('Mcont.txt', motif_data, ppi_data,computing='gpu',precision='single',save_tmp=False,save_memory = False, remove_missing=True, keep_expression_matrix = False,modeProcess = 'intersection')"
      ],
      "execution_count": null,
      "outputs": []
    },
    {
      "cell_type": "code",
      "metadata": {
        "id": "mGRIF4oDW9Oi",
        "colab_type": "code",
        "colab": {}
      },
      "source": [
        "# [panda_obj22.expression.shape,panda_obj11.expression.shape]\n",
        "# panda_obj.save_panda_results('single_gpu_GSE76925_panda.txt')\n",
        "# panda_obj1.export_panda_results\n",
        "np.save('Panda_Fcase.npy',panda_obj1.export_panda_results)\n",
        "np.save('Panda_Mcase.npy',panda_obj2.export_panda_results)\n",
        "np.save('Panda_Fcont.npy',panda_obj3.export_panda_results)\n",
        "np.save('Panda_Mcont.npy',panda_obj4.export_panda_results)"
      ],
      "execution_count": null,
      "outputs": []
    },
    {
      "cell_type": "markdown",
      "metadata": {
        "id": "pjVJwMsb-bGX",
        "colab_type": "text"
      },
      "source": [
        "M V F control"
      ]
    },
    {
      "cell_type": "code",
      "metadata": {
        "id": "pg6ovV4Zm5UW",
        "colab_type": "code",
        "colab": {}
      },
      "source": [
        "# panda_obj3.panda_results = pd.DataFrame(panda_obj3.export_panda_results, columns=['tf','gene','motif','force'])\n",
        "\n",
        "# subset_panda_results3 = panda_obj3.panda_results.sort_values(by=['force'], ascending=False)\n",
        "# # subset_panda_results3 = subset_panda_results3[subset_panda_results3.tf != subset_panda_results3.gene]\n",
        "# # subset_panda_results3 = subset_panda_results3[0:500]\n",
        "# subset_panda_results3['merge']=subset_panda_results3.tf+'-'+subset_panda_results3.gene\n",
        "\n",
        "# panda_obj4.panda_results = pd.DataFrame(panda_obj4.export_panda_results, columns=['tf','gene','motif','force'])\n",
        "\n",
        "# subset_panda_results4 = panda_obj4.panda_results.sort_values(by=['force'], ascending=False)\n",
        "# # subset_panda_results4 = subset_panda_results4[subset_panda_results4.tf != subset_panda_results4.gene]\n",
        "# # subset_panda_results4 = subset_panda_results4[0:500]\n",
        "# subset_panda_results4['merge']=subset_panda_results4.tf+'-'+subset_panda_results4.gene\n",
        "\n",
        "# www=subset_panda_results3.merge(subset_panda_results4, left_on='merge', right_on='merge')\n",
        "# www['diff']=www.force_x-www.force_y\n",
        "# www = www.sort_values(by ='diff' )\n",
        "# plt.bar(www['diff'])\n",
        "wwww=www[np.abs(www['diff'])>3]\n",
        "\n",
        "# len(pd.unique(wwww['gene_x']))\n",
        "# import seaborn as sns\n",
        "# plt.figure(figsize=(12, 30))\n",
        "\n",
        "# g=sns.barplot(x=\"diff\", y=\"merge\", data=wwww)\n",
        "# g.set(xlim=(-4.5, 4.5))"
      ],
      "execution_count": null,
      "outputs": []
    },
    {
      "cell_type": "markdown",
      "metadata": {
        "id": "9hwAamEH-fO8",
        "colab_type": "text"
      },
      "source": [
        "M V F cases"
      ]
    },
    {
      "cell_type": "code",
      "metadata": {
        "id": "5hafWBqhmY54",
        "colab_type": "code",
        "colab": {}
      },
      "source": [
        "# ##CPU compare\n",
        "# panda_obj1.panda_results = pd.DataFrame(panda_obj1.export_panda_results, columns=['tf','gene','motif','force'])\n",
        "\n",
        "# subset_panda_results1 = panda_obj1.panda_results.sort_values(by=['force'], ascending=False)\n",
        "# # subset_panda_results1 = subset_panda_results1[subset_panda_results1.tf != subset_panda_results1.gene]\n",
        "# # subset_panda_results1 = subset_panda_results1[0:500]\n",
        "# subset_panda_results1['merge']=subset_panda_results1.tf+'-'+subset_panda_results1.gene\n",
        "\n",
        "# panda_obj2.panda_results = pd.DataFrame(panda_obj2.export_panda_results, columns=['tf','gene','motif','force'])\n",
        "\n",
        "# subset_panda_results2 = panda_obj2.panda_results.sort_values(by=['force'], ascending=False)\n",
        "# # subset_panda_results2 = subset_panda_results2[subset_panda_results2.tf != subset_panda_results2.gene]\n",
        "# # subset_panda_results2 = subset_panda_results2[0:500]\n",
        "# subset_panda_results2['merge']=subset_panda_results2.tf+'-'+subset_panda_results2.gene\n",
        "\n",
        "# ww=subset_panda_results1.merge(subset_panda_results2, left_on='merge', right_on='merge')\n",
        "# ww['diff']=ww.force_x-ww.force_y\n",
        "# ww = ww.sort_values(by ='diff' )\n",
        "# ww\n",
        "# zzzz=ww[np.abs(ww['diff'])>3]\n",
        "# zzzz\n",
        "# len(pd.unique(zzzz['tf_x']))\n",
        "# import seaborn as sns\n",
        "plt.figure(figsize=(12, 30))\n",
        "\n",
        "g=sns.barplot(x=\"diff\", y=\"merge\", data=zzzz)\n",
        "g.set(xlim=(-4.5, 4.5))\n"
      ],
      "execution_count": null,
      "outputs": []
    },
    {
      "cell_type": "code",
      "metadata": {
        "id": "sWH0-tPwLmDw",
        "colab_type": "code",
        "colab": {}
      },
      "source": [
        "Panda_Fcase=np.load('drive/My Drive/Panda_Fcase.npy',allow_pickle=True)#,sep='\\t',index_col=0,header=None,names=['loc','symbol'])\n",
        "Panda_Mcase=np.load('drive/My Drive/Panda_Mcase.npy',allow_pickle=True)#,sep='\\t',index_col=0,header=None,names=['loc','symbol'])\n",
        "Panda_Fcont=np.load('drive/My Drive/Panda_Fcont.npy',allow_pickle=True)#,sep='\\t',index_col=0,header=None,names=['loc','symbol'])\n",
        "Panda_Mcont=np.load('drive/My Drive/Panda_Mcont.npy',allow_pickle=True)#,sep='\\t',index_col=0,header=None,names=['loc','symbol'])\n",
        "\n"
      ],
      "execution_count": null,
      "outputs": []
    },
    {
      "cell_type": "markdown",
      "metadata": {
        "id": "Owf7lLIf-zs2",
        "colab_type": "text"
      },
      "source": [
        "F Cases V F Controls"
      ]
    },
    {
      "cell_type": "code",
      "metadata": {
        "id": "ElChHyXN-ift",
        "colab_type": "code",
        "colab": {}
      },
      "source": [
        "##RUN ABOVE\n",
        "# panda_obj3.panda_results = pd.DataFrame(panda_obj3.export_panda_results, columns=['tf','gene','motif','force'])\n",
        "# subset_panda_results3 = panda_obj3.panda_results.sort_values(by=['force'], ascending=False)\n",
        "# subset_panda_results3['merge']=subset_panda_results3.tf+'-'+subset_panda_results3.gene\n",
        "\n",
        "# panda_obj1.panda_results = pd.DataFrame(panda_obj1.export_panda_results, columns=['tf','gene','motif','force'])\n",
        "# subset_panda_results1 = panda_obj1.panda_results.sort_values(by=['force'], ascending=False)\n",
        "# subset_panda_results1['merge']=subset_panda_results1.tf+'-'+subset_panda_results1.gene\n",
        "\n",
        "# www=subset_panda_results3.merge(subset_panda_results1, left_on='merge', right_on='merge')\n",
        "# www['diff']=www.force_x-www.force_y\n",
        "# www = www.sort_values(by ='diff' )\n",
        "# # plt.bar(www['diff'])\n",
        "# wwww=www[np.abs(www['diff'])>3]\n",
        "# wwww\n",
        "# len(pd.unique(wwww['tf_x']))\n",
        "# import seaborn as sns\n",
        "# plt.figure(figsize=(12, 30))\n",
        "\n",
        "# g=sns.barplot(x=\"diff\", y=\"merge\", data=wwww)\n",
        "# g.set(xlim=(-4.5, 4.5))\n",
        "# wwww.to_csv('female_caVco.txt')\n",
        "# pd.DataFrame([pd.unique(wwww['tf_x']),pd.unique(wwww['gene_x'])]).to_csv('unqiue_female_caVco.txt',sep='\\t',header=None,index=None)\n",
        "\n",
        "\n",
        "##loaded from save npy\n",
        "Panda_Fcase=pd.DataFrame(Panda_Fcase,columns=['tf','gene','motif','force'])\n",
        "Panda_Fcase_results = Panda_Fcase.sort_values(by=['force'], ascending=False)\n",
        "Panda_Fcase_results['link']=Panda_Fcase_results.tf+'-'+Panda_Fcase_results.gene\n",
        "\n",
        "Panda_Fcont=pd.DataFrame(Panda_Fcont,columns=['tf','gene','motif','force'])\n",
        "Panda_Fcont_results = Panda_Fcont.sort_values(by=['force'], ascending=False)\n",
        "Panda_Fcont_results['link']=Panda_Fcont_results.tf+'-'+Panda_Fcont_results.gene\n",
        "##Female now lack Y chr links\n",
        "ww=Panda_Fcase_results.merge(Panda_Fcont_results, left_on='link', right_on='link')\n",
        "ww['diff']=ww.force_x-ww.force_y\n",
        "ww = ww.sort_values(by ='diff' )\n"
      ],
      "execution_count": null,
      "outputs": []
    },
    {
      "cell_type": "code",
      "metadata": {
        "id": "hSwJ1s9D04aG",
        "colab_type": "code",
        "colab": {
          "base_uri": "https://localhost:8080/",
          "height": 34
        },
        "outputId": "9c4ac744-283b-4f5d-e929-1d36065466de"
      },
      "source": [
        "[www.size,ww.size]"
      ],
      "execution_count": null,
      "outputs": [
        {
          "output_type": "execute_result",
          "data": {
            "text/plain": [
              "[91335960, 91329600]"
            ]
          },
          "metadata": {
            "tags": []
          },
          "execution_count": 27
        }
      ]
    },
    {
      "cell_type": "code",
      "metadata": {
        "id": "ugGHOVK8SAVr",
        "colab_type": "code",
        "colab": {}
      },
      "source": [
        "# www.to_csv('female_noY_caVco.txt')\n",
        "np.save('female_noY_caVco.npy',ww[['tf_x','gene_x','diff']])\n",
        "# ww[['tf_x','gene_x','diff']].to_csv('female_noY_caVcoDiff.txt')\n",
        "\n"
      ],
      "execution_count": null,
      "outputs": []
    },
    {
      "cell_type": "markdown",
      "metadata": {
        "id": "zUTwaE8W-18k",
        "colab_type": "text"
      },
      "source": [
        "M Cases V M Controls"
      ]
    },
    {
      "cell_type": "code",
      "metadata": {
        "id": "FuD1FWOP-ipJ",
        "colab_type": "code",
        "colab": {}
      },
      "source": [
        "##RUN ABOVE\n",
        "# panda_obj4.panda_results = pd.DataFrame(panda_obj4.export_panda_results, columns=['tf','gene','motif','force'])\n",
        "# subset_panda_results4 = panda_obj4.panda_results.sort_values(by=['force'], ascending=False)\n",
        "# subset_panda_results4['merge']=subset_panda_results4.tf+'-'+subset_panda_results4.gene\n",
        "\n",
        "# panda_obj2.panda_results = pd.DataFrame(panda_obj2.export_panda_results, columns=['tf','gene','motif','force'])\n",
        "# subset_panda_results2 = panda_obj2.panda_results.sort_values(by=['force'], ascending=False)\n",
        "# subset_panda_results2['merge']=subset_panda_results2.tf+'-'+subset_panda_results2.gene\n",
        "\n",
        "# ww=subset_panda_results4.merge(subset_panda_results2, left_on='merge', right_on='merge')\n",
        "# ww['diff']=ww.force_x-ww.force_y\n",
        "# ww = ww.sort_values(by ='diff' )\n",
        "\n",
        "# zzzz=ww[np.abs(ww['diff'])>3]\n",
        "# zzzz\n",
        "# len(pd.unique(zzzz['gene_x']))\n",
        "# import seaborn as sns\n",
        "# plt.figure(figsize=(12, 30))\n",
        "\n",
        "# g=sns.barplot(x=\"diff\", y=\"merge\", data=zzzz)\n",
        "# g.set(xlim=(-4.5, 4.5))\n",
        "# zzzz.to_csv('male_caVco.txt')\n",
        "# [pd.unique(zzzz['tf_x']),pd.unique(zzzz['gene_x'])]\n",
        "# pd.DataFrame([pd.unique(zzzz['tf_x']),pd.unique(zzzz['gene_x'])]).to_csv('unqiue_male_caVco.txt',sep='\\t',header=None,index=None)\n",
        "\n",
        "\n",
        "##loaded from save npy\n",
        "Panda_Mcase=pd.DataFrame(Panda_Mcase,columns=['tf','gene','motif','force'])\n",
        "Panda_Mcase_results = Panda_Mcase.sort_values(by=['force'], ascending=False)\n",
        "Panda_Mcase_results['link']=Panda_Mcase_results.tf+'-'+Panda_Mcase_results.gene\n",
        "\n",
        "Panda_Mcont=pd.DataFrame(Panda_Mcont,columns=['tf','gene','motif','force'])\n",
        "Panda_Mcont_results = Panda_Mcont.sort_values(by=['force'], ascending=False)\n",
        "Panda_Mcont_results['link']=Panda_Mcont_results.tf+'-'+Panda_Mcont_results.gene\n",
        "##Female now lack Y chr links\n",
        "www=Panda_Mcase_results.merge(Panda_Mcont_results, left_on='link', right_on='link')\n",
        "www['diff']=www.force_x-www.force_y\n",
        "www = www.sort_values(by ='diff' )"
      ],
      "execution_count": null,
      "outputs": []
    },
    {
      "cell_type": "code",
      "metadata": {
        "id": "7qjkJ8grR6jn",
        "colab_type": "code",
        "colab": {}
      },
      "source": [
        "# www[['tf_x','gene_x','diff']].to_csv('male_yesY_caVcoDiff.txt')\n",
        "np.save('male_yesY_caVco.npy',www[['tf_x','gene_x','diff']])\n"
      ],
      "execution_count": null,
      "outputs": []
    },
    {
      "cell_type": "code",
      "metadata": {
        "id": "NiXLXBvYzqAm",
        "colab_type": "code",
        "colab": {
          "base_uri": "https://localhost:8080/",
          "height": 72
        },
        "outputId": "81e51fb8-e1ca-433b-a91b-2530aec11dc0"
      },
      "source": [
        "# male=www[['tf_x','gene_x','diff']]\n",
        "# female=ww[['tf_x','gene_x','diff']]\n",
        "# DIFF=male.merge(female, left_on=['tf_x','gene_x'], right_on=['tf_x','gene_x'])\n",
        "# DIFF.to_csv('M2F_caVcoDiff.txt')\n",
        "\n"
      ],
      "execution_count": null,
      "outputs": [
        {
          "output_type": "stream",
          "text": [
            "/usr/local/lib/python3.6/dist-packages/numpy/lib/arraysetops.py:569: FutureWarning: elementwise comparison failed; returning scalar instead, but in the future will perform elementwise comparison\n",
            "  mask |= (ar1 == a)\n"
          ],
          "name": "stderr"
        }
      ]
    },
    {
      "cell_type": "code",
      "metadata": {
        "id": "PzKcgtzk2jHz",
        "colab_type": "code",
        "colab": {}
      },
      "source": [
        "plt.scatter(DIFF.diff_x,DIFF.diff_y)"
      ],
      "execution_count": null,
      "outputs": []
    },
    {
      "cell_type": "code",
      "metadata": {
        "id": "tKP6DQ78P6gl",
        "colab_type": "code",
        "colab": {}
      },
      "source": [
        "\n",
        "wwww=www[np.abs(www['diff'])>3]\n",
        "# wwww\n",
        "# len(pd.unique(wwww['tf_x']))\n",
        "plt.figure(figsize=(12, 30))\n",
        "# plt.bar(wwww['diff'])\n",
        "g=sns.barplot(x=\"diff\", y=\"link\", data=wwww)\n",
        "g.set(xlim=(-4.5, 4.5))\n"
      ],
      "execution_count": null,
      "outputs": []
    },
    {
      "cell_type": "code",
      "metadata": {
        "id": "NIivRHy4-isW",
        "colab_type": "code",
        "colab": {}
      },
      "source": [
        "# sexdiff=wwww.merge(zzzz,left_on='merge', right_on='merge')\n",
        "plt.figure(figsize=(6, 15))\n",
        "sexdiff['sexdiff']=sexdiff['diff_x']-sexdiff['diff_y']\n",
        "sns.barplot(data=sexdiff,x='sexdiff',y='merge')\n",
        "# g=sns.barplot(x=\"diff\", y=\"merge\", data=wwww)\n",
        "# g.set(xlim=(-4.5, 4.5))"
      ],
      "execution_count": null,
      "outputs": []
    },
    {
      "cell_type": "code",
      "metadata": {
        "id": "vDqkUJ_mL6ha",
        "colab_type": "code",
        "colab": {}
      },
      "source": [
        "import networkx as nx\n",
        "import collections"
      ],
      "execution_count": null,
      "outputs": []
    },
    {
      "cell_type": "code",
      "metadata": {
        "id": "7nfQ_U7p-YFE",
        "colab_type": "code",
        "colab": {
          "base_uri": "https://localhost:8080/",
          "height": 72
        },
        "outputId": "23550daa-f423-4a3d-bb96-5e4578204e35"
      },
      "source": [
        "DIFF=pd.read_csv('drive/My Drive/M2F_caVcoDiff.txt',sep=',',index_col=0)#header=None,names=['tf','gene','Mdiff','Fdiff'])"
      ],
      "execution_count": null,
      "outputs": [
        {
          "output_type": "stream",
          "text": [
            "/usr/local/lib/python3.6/dist-packages/numpy/lib/arraysetops.py:569: FutureWarning: elementwise comparison failed; returning scalar instead, but in the future will perform elementwise comparison\n",
            "  mask |= (ar1 == a)\n"
          ],
          "name": "stderr"
        }
      ]
    },
    {
      "cell_type": "code",
      "metadata": {
        "id": "tBwJOKgzSCf5",
        "colab_type": "code",
        "colab": {}
      },
      "source": [
        "Fmax=DIFF[np.abs(DIFF.diff_y)>1]\n",
        "Mmax=DIFF[np.abs(DIFF.diff_x)>1]"
      ],
      "execution_count": null,
      "outputs": []
    },
    {
      "cell_type": "code",
      "metadata": {
        "id": "4HmlZqUZDbFl",
        "colab_type": "code",
        "colab": {}
      },
      "source": [
        "plt.hist(DIFF.diff_y,bins=100)\n",
        "plt.hist(DIFF.diff_x,bins=100)"
      ],
      "execution_count": null,
      "outputs": []
    },
    {
      "cell_type": "code",
      "metadata": {
        "id": "PkJOkB6w-c3a",
        "colab_type": "code",
        "colab": {}
      },
      "source": [
        "female=nx.from_pandas_edgelist(Fmax, source='tf_x', target='gene_x', edge_attr='diff_y')\n",
        "\n",
        "male=nx.from_pandas_edgelist(Mmax, source='tf_x', target='gene_x', edge_attr='diff_x')\n",
        "\n",
        "# COPD_GWAS_genes = pd.read_csv('drive/My Drive/Colab Notebooks/COPD_gwas_genes.txt',usecols=[0],header=None)\n",
        "# pos = nx.draw_kamada_kawai(female)\n",
        "# pos = nx.draw_spectral(female)\n",
        "\n",
        "# nx.draw_networkx(female, pos=pos,mfont_size=4, node_color='blue',node_size=300, font_color='white',edge_color='black')\n",
        "# COPD_GWAS_genes"
      ],
      "execution_count": null,
      "outputs": []
    },
    {
      "cell_type": "code",
      "metadata": {
        "id": "sZzlPf_5vxN7",
        "colab_type": "code",
        "colab": {
          "base_uri": "https://localhost:8080/",
          "height": 352
        },
        "outputId": "beca80c5-2d1c-4758-843b-297bd1b8320e"
      },
      "source": [
        "ff=pd.DataFrame(female.degree).sort_values(by=1)\n",
        "mm=pd.DataFrame(male.degree).sort_values(by=1)\n",
        "data1=mm.merge(ff,on=[0])\n",
        "data1['deg_diff']=data1['1_x']-data1['1_y']\n",
        "plt.hist(np.abs(data1.deg_diff),log=True)"
      ],
      "execution_count": null,
      "outputs": [
        {
          "output_type": "execute_result",
          "data": {
            "text/plain": [
              "(array([2.592e+03, 8.850e+02, 2.100e+02, 6.200e+01, 2.200e+01, 9.000e+00,\n",
              "        3.000e+00, 2.000e+00, 1.000e+00, 4.000e+00]),\n",
              " array([   0. ,  136.2,  272.4,  408.6,  544.8,  681. ,  817.2,  953.4,\n",
              "        1089.6, 1225.8, 1362. ]),\n",
              " <a list of 10 Patch objects>)"
            ]
          },
          "metadata": {
            "tags": []
          },
          "execution_count": 17
        },
        {
          "output_type": "display_data",
          "data": {
            "image/png": "[encoded data removed]",
            "text/plain": [
              "<Figure size 432x288 with 1 Axes>"
            ]
          },
          "metadata": {
            "tags": [],
            "needs_background": "light"
          }
        }
      ]
    },
    {
      "cell_type": "code",
      "metadata": {
        "id": "cw501kkewMcN",
        "colab_type": "code",
        "colab": {
          "base_uri": "https://localhost:8080/",
          "height": 424
        },
        "outputId": "78ef0c3a-55d2-4f73-f27c-c89dca695dd3"
      },
      "source": [
        "data1"
      ],
      "execution_count": null,
      "outputs": [
        {
          "output_type": "execute_result",
          "data": {
            "text/html": [
              "<div>\n",
              "<style scoped>\n",
              "    .dataframe tbody tr th:only-of-type {\n",
              "        vertical-align: middle;\n",
              "    }\n",
              "\n",
              "    .dataframe tbody tr th {\n",
              "        vertical-align: top;\n",
              "    }\n",
              "\n",
              "    .dataframe thead th {\n",
              "        text-align: right;\n",
              "    }\n",
              "</style>\n",
              "<table border=\"1\" class=\"dataframe\">\n",
              "  <thead>\n",
              "    <tr style=\"text-align: right;\">\n",
              "      <th></th>\n",
              "      <th>0</th>\n",
              "      <th>1_x</th>\n",
              "      <th>1_y</th>\n",
              "      <th>deg_diff</th>\n",
              "    </tr>\n",
              "  </thead>\n",
              "  <tbody>\n",
              "    <tr>\n",
              "      <th>0</th>\n",
              "      <td>FGFBP3</td>\n",
              "      <td>1</td>\n",
              "      <td>8</td>\n",
              "      <td>-7</td>\n",
              "    </tr>\n",
              "    <tr>\n",
              "      <th>1</th>\n",
              "      <td>ABHD16A</td>\n",
              "      <td>1</td>\n",
              "      <td>3</td>\n",
              "      <td>-2</td>\n",
              "    </tr>\n",
              "    <tr>\n",
              "      <th>2</th>\n",
              "      <td>TNFRSF12A</td>\n",
              "      <td>1</td>\n",
              "      <td>313</td>\n",
              "      <td>-312</td>\n",
              "    </tr>\n",
              "    <tr>\n",
              "      <th>3</th>\n",
              "      <td>RTEL1</td>\n",
              "      <td>1</td>\n",
              "      <td>13</td>\n",
              "      <td>-12</td>\n",
              "    </tr>\n",
              "    <tr>\n",
              "      <th>4</th>\n",
              "      <td>CASKIN1</td>\n",
              "      <td>1</td>\n",
              "      <td>1</td>\n",
              "      <td>0</td>\n",
              "    </tr>\n",
              "    <tr>\n",
              "      <th>...</th>\n",
              "      <td>...</td>\n",
              "      <td>...</td>\n",
              "      <td>...</td>\n",
              "      <td>...</td>\n",
              "    </tr>\n",
              "    <tr>\n",
              "      <th>3785</th>\n",
              "      <td>ZNF263</td>\n",
              "      <td>4828</td>\n",
              "      <td>3636</td>\n",
              "      <td>1192</td>\n",
              "    </tr>\n",
              "    <tr>\n",
              "      <th>3786</th>\n",
              "      <td>MAZ</td>\n",
              "      <td>5030</td>\n",
              "      <td>4012</td>\n",
              "      <td>1018</td>\n",
              "    </tr>\n",
              "    <tr>\n",
              "      <th>3787</th>\n",
              "      <td>ZNF148</td>\n",
              "      <td>5041</td>\n",
              "      <td>3782</td>\n",
              "      <td>1259</td>\n",
              "    </tr>\n",
              "    <tr>\n",
              "      <th>3788</th>\n",
              "      <td>SP3</td>\n",
              "      <td>5448</td>\n",
              "      <td>4201</td>\n",
              "      <td>1247</td>\n",
              "    </tr>\n",
              "    <tr>\n",
              "      <th>3789</th>\n",
              "      <td>SP1</td>\n",
              "      <td>5757</td>\n",
              "      <td>4470</td>\n",
              "      <td>1287</td>\n",
              "    </tr>\n",
              "  </tbody>\n",
              "</table>\n",
              "<p>3790 rows × 4 columns</p>\n",
              "</div>"
            ],
            "text/plain": [
              "              0   1_x   1_y  deg_diff\n",
              "0        FGFBP3     1     8        -7\n",
              "1       ABHD16A     1     3        -2\n",
              "2     TNFRSF12A     1   313      -312\n",
              "3         RTEL1     1    13       -12\n",
              "4       CASKIN1     1     1         0\n",
              "...         ...   ...   ...       ...\n",
              "3785     ZNF263  4828  3636      1192\n",
              "3786        MAZ  5030  4012      1018\n",
              "3787     ZNF148  5041  3782      1259\n",
              "3788        SP3  5448  4201      1247\n",
              "3789        SP1  5757  4470      1287\n",
              "\n",
              "[3790 rows x 4 columns]"
            ]
          },
          "metadata": {
            "tags": []
          },
          "execution_count": 22
        }
      ]
    },
    {
      "cell_type": "code",
      "metadata": {
        "id": "l_d39RyQcGki",
        "colab_type": "code",
        "colab": {
          "base_uri": "https://localhost:8080/",
          "height": 424
        },
        "outputId": "4881bdde-895f-4d9a-80d8-ed4aeaa78ba9"
      },
      "source": [
        "data2 = data1.rename({0: 'gene', '1_x': 'male','1_y':'female'}, axis=1)\n",
        "data2"
      ],
      "execution_count": null,
      "outputs": [
        {
          "output_type": "execute_result",
          "data": {
            "text/html": [
              "<div>\n",
              "<style scoped>\n",
              "    .dataframe tbody tr th:only-of-type {\n",
              "        vertical-align: middle;\n",
              "    }\n",
              "\n",
              "    .dataframe tbody tr th {\n",
              "        vertical-align: top;\n",
              "    }\n",
              "\n",
              "    .dataframe thead th {\n",
              "        text-align: right;\n",
              "    }\n",
              "</style>\n",
              "<table border=\"1\" class=\"dataframe\">\n",
              "  <thead>\n",
              "    <tr style=\"text-align: right;\">\n",
              "      <th></th>\n",
              "      <th>gene</th>\n",
              "      <th>male</th>\n",
              "      <th>female</th>\n",
              "      <th>deg_diff</th>\n",
              "    </tr>\n",
              "  </thead>\n",
              "  <tbody>\n",
              "    <tr>\n",
              "      <th>0</th>\n",
              "      <td>FGFBP3</td>\n",
              "      <td>1</td>\n",
              "      <td>8</td>\n",
              "      <td>-7</td>\n",
              "    </tr>\n",
              "    <tr>\n",
              "      <th>1</th>\n",
              "      <td>ABHD16A</td>\n",
              "      <td>1</td>\n",
              "      <td>3</td>\n",
              "      <td>-2</td>\n",
              "    </tr>\n",
              "    <tr>\n",
              "      <th>2</th>\n",
              "      <td>TNFRSF12A</td>\n",
              "      <td>1</td>\n",
              "      <td>313</td>\n",
              "      <td>-312</td>\n",
              "    </tr>\n",
              "    <tr>\n",
              "      <th>3</th>\n",
              "      <td>RTEL1</td>\n",
              "      <td>1</td>\n",
              "      <td>13</td>\n",
              "      <td>-12</td>\n",
              "    </tr>\n",
              "    <tr>\n",
              "      <th>4</th>\n",
              "      <td>CASKIN1</td>\n",
              "      <td>1</td>\n",
              "      <td>1</td>\n",
              "      <td>0</td>\n",
              "    </tr>\n",
              "    <tr>\n",
              "      <th>...</th>\n",
              "      <td>...</td>\n",
              "      <td>...</td>\n",
              "      <td>...</td>\n",
              "      <td>...</td>\n",
              "    </tr>\n",
              "    <tr>\n",
              "      <th>3785</th>\n",
              "      <td>ZNF263</td>\n",
              "      <td>4828</td>\n",
              "      <td>3636</td>\n",
              "      <td>1192</td>\n",
              "    </tr>\n",
              "    <tr>\n",
              "      <th>3786</th>\n",
              "      <td>MAZ</td>\n",
              "      <td>5030</td>\n",
              "      <td>4012</td>\n",
              "      <td>1018</td>\n",
              "    </tr>\n",
              "    <tr>\n",
              "      <th>3787</th>\n",
              "      <td>ZNF148</td>\n",
              "      <td>5041</td>\n",
              "      <td>3782</td>\n",
              "      <td>1259</td>\n",
              "    </tr>\n",
              "    <tr>\n",
              "      <th>3788</th>\n",
              "      <td>SP3</td>\n",
              "      <td>5448</td>\n",
              "      <td>4201</td>\n",
              "      <td>1247</td>\n",
              "    </tr>\n",
              "    <tr>\n",
              "      <th>3789</th>\n",
              "      <td>SP1</td>\n",
              "      <td>5757</td>\n",
              "      <td>4470</td>\n",
              "      <td>1287</td>\n",
              "    </tr>\n",
              "  </tbody>\n",
              "</table>\n",
              "<p>3790 rows × 4 columns</p>\n",
              "</div>"
            ],
            "text/plain": [
              "           gene  male  female  deg_diff\n",
              "0        FGFBP3     1       8        -7\n",
              "1       ABHD16A     1       3        -2\n",
              "2     TNFRSF12A     1     313      -312\n",
              "3         RTEL1     1      13       -12\n",
              "4       CASKIN1     1       1         0\n",
              "...         ...   ...     ...       ...\n",
              "3785     ZNF263  4828    3636      1192\n",
              "3786        MAZ  5030    4012      1018\n",
              "3787     ZNF148  5041    3782      1259\n",
              "3788        SP3  5448    4201      1247\n",
              "3789        SP1  5757    4470      1287\n",
              "\n",
              "[3790 rows x 4 columns]"
            ]
          },
          "metadata": {
            "tags": []
          },
          "execution_count": 23
        }
      ]
    },
    {
      "cell_type": "code",
      "metadata": {
        "id": "dFgUHVphgaW6",
        "colab_type": "code",
        "colab": {
          "base_uri": "https://localhost:8080/",
          "height": 424
        },
        "outputId": "aac9d682-eded-4c6d-8d6d-788d04a52e10"
      },
      "source": [
        "cc=pd.melt(data2, id_vars='gene', value_vars=['male', 'female'])\n",
        "cc['log']=np.log(cc.value)\n",
        "cc"
      ],
      "execution_count": null,
      "outputs": [
        {
          "output_type": "execute_result",
          "data": {
            "text/html": [
              "<div>\n",
              "<style scoped>\n",
              "    .dataframe tbody tr th:only-of-type {\n",
              "        vertical-align: middle;\n",
              "    }\n",
              "\n",
              "    .dataframe tbody tr th {\n",
              "        vertical-align: top;\n",
              "    }\n",
              "\n",
              "    .dataframe thead th {\n",
              "        text-align: right;\n",
              "    }\n",
              "</style>\n",
              "<table border=\"1\" class=\"dataframe\">\n",
              "  <thead>\n",
              "    <tr style=\"text-align: right;\">\n",
              "      <th></th>\n",
              "      <th>gene</th>\n",
              "      <th>variable</th>\n",
              "      <th>value</th>\n",
              "      <th>log</th>\n",
              "    </tr>\n",
              "  </thead>\n",
              "  <tbody>\n",
              "    <tr>\n",
              "      <th>0</th>\n",
              "      <td>FGFBP3</td>\n",
              "      <td>male</td>\n",
              "      <td>1</td>\n",
              "      <td>0.000000</td>\n",
              "    </tr>\n",
              "    <tr>\n",
              "      <th>1</th>\n",
              "      <td>ABHD16A</td>\n",
              "      <td>male</td>\n",
              "      <td>1</td>\n",
              "      <td>0.000000</td>\n",
              "    </tr>\n",
              "    <tr>\n",
              "      <th>2</th>\n",
              "      <td>TNFRSF12A</td>\n",
              "      <td>male</td>\n",
              "      <td>1</td>\n",
              "      <td>0.000000</td>\n",
              "    </tr>\n",
              "    <tr>\n",
              "      <th>3</th>\n",
              "      <td>RTEL1</td>\n",
              "      <td>male</td>\n",
              "      <td>1</td>\n",
              "      <td>0.000000</td>\n",
              "    </tr>\n",
              "    <tr>\n",
              "      <th>4</th>\n",
              "      <td>CASKIN1</td>\n",
              "      <td>male</td>\n",
              "      <td>1</td>\n",
              "      <td>0.000000</td>\n",
              "    </tr>\n",
              "    <tr>\n",
              "      <th>...</th>\n",
              "      <td>...</td>\n",
              "      <td>...</td>\n",
              "      <td>...</td>\n",
              "      <td>...</td>\n",
              "    </tr>\n",
              "    <tr>\n",
              "      <th>7575</th>\n",
              "      <td>ZNF263</td>\n",
              "      <td>female</td>\n",
              "      <td>3636</td>\n",
              "      <td>8.198639</td>\n",
              "    </tr>\n",
              "    <tr>\n",
              "      <th>7576</th>\n",
              "      <td>MAZ</td>\n",
              "      <td>female</td>\n",
              "      <td>4012</td>\n",
              "      <td>8.297045</td>\n",
              "    </tr>\n",
              "    <tr>\n",
              "      <th>7577</th>\n",
              "      <td>ZNF148</td>\n",
              "      <td>female</td>\n",
              "      <td>3782</td>\n",
              "      <td>8.238008</td>\n",
              "    </tr>\n",
              "    <tr>\n",
              "      <th>7578</th>\n",
              "      <td>SP3</td>\n",
              "      <td>female</td>\n",
              "      <td>4201</td>\n",
              "      <td>8.343078</td>\n",
              "    </tr>\n",
              "    <tr>\n",
              "      <th>7579</th>\n",
              "      <td>SP1</td>\n",
              "      <td>female</td>\n",
              "      <td>4470</td>\n",
              "      <td>8.405144</td>\n",
              "    </tr>\n",
              "  </tbody>\n",
              "</table>\n",
              "<p>7580 rows × 4 columns</p>\n",
              "</div>"
            ],
            "text/plain": [
              "           gene variable  value       log\n",
              "0        FGFBP3     male      1  0.000000\n",
              "1       ABHD16A     male      1  0.000000\n",
              "2     TNFRSF12A     male      1  0.000000\n",
              "3         RTEL1     male      1  0.000000\n",
              "4       CASKIN1     male      1  0.000000\n",
              "...         ...      ...    ...       ...\n",
              "7575     ZNF263   female   3636  8.198639\n",
              "7576        MAZ   female   4012  8.297045\n",
              "7577     ZNF148   female   3782  8.238008\n",
              "7578        SP3   female   4201  8.343078\n",
              "7579        SP1   female   4470  8.405144\n",
              "\n",
              "[7580 rows x 4 columns]"
            ]
          },
          "metadata": {
            "tags": []
          },
          "execution_count": 24
        }
      ]
    },
    {
      "cell_type": "code",
      "metadata": {
        "id": "HTckNQkzeV1H",
        "colab_type": "code",
        "colab": {
          "base_uri": "https://localhost:8080/",
          "height": 514
        },
        "outputId": "20399c46-fa0e-47f3-b055-51f4d0b77ace"
      },
      "source": [
        "plt.figure(figsize=(8, 8))\n",
        "chart = sns.barplot(x=\"gene\", y=\"log\", hue=\"variable\", data=cc)\n",
        "plt.xlabel(\"gene\")\n",
        "plt.ylabel(\"log degree\")\n",
        "# plt.title(\"\")\n",
        "# chart.set_xticklabels(chart.get_xticklabels(), rotation=45)"
      ],
      "execution_count": null,
      "outputs": [
        {
          "output_type": "execute_result",
          "data": {
            "text/plain": [
              "Text(0, 0.5, 'log degree')"
            ]
          },
          "metadata": {
            "tags": []
          },
          "execution_count": 25
        },
        {
          "output_type": "display_data",
          "data": {
            "image/png": "[encoded data removed]",
            "text/plain": [
              "<Figure size 576x576 with 1 Axes>"
            ]
          },
          "metadata": {
            "tags": [],
            "needs_background": "light"
          }
        }
      ]
    },
    {
      "cell_type": "code",
      "metadata": {
        "id": "xTSSWXHdhe5M",
        "colab_type": "code",
        "colab": {}
      },
      "source": [
        "# nx.density(sexdiff)\n",
        "# nx.number_of_edges(sexdiff)\n",
        "# nx.number_strongly_connected_components(sexdiff)\n",
        "nx.number_of_cliques(sexdiff)"
      ],
      "execution_count": null,
      "outputs": []
    },
    {
      "cell_type": "code",
      "metadata": {
        "id": "X1K0A9tP-ivt",
        "colab_type": "code",
        "colab": {}
      },
      "source": [
        "female=nx.from_pandas_edgelist(zzzz, source='tf_x', target='gene_x', edge_attr='diff')\n",
        "# COPD_GWAS_genes = pd.read_csv('drive/My Drive/Colab Notebooks/COPD_gwas_genes.txt',usecols=[0],header=None)\n",
        "# pos = nx.draw_kamada_kawai(female)\n",
        "pos = nx.draw_spectral(female)\n",
        "\n",
        "nx.draw_networkx(female, pos=pos,mfont_size=4, node_color='blue',node_size=300, font_color='white',edge_color='black')\n",
        "# COPD_GWAS_genes"
      ],
      "execution_count": null,
      "outputs": []
    },
    {
      "cell_type": "code",
      "metadata": {
        "id": "2pNlY8WF-iyl",
        "colab_type": "code",
        "colab": {}
      },
      "source": [
        "male=nx.from_pandas_edgelist(wwww, source='tf_x', target='gene_x', edge_attr='diff')\n",
        "# COPD_GWAS_genes = pd.read_csv('drive/My Drive/Colab Notebooks/COPD_gwas_genes.txt',usecols=[0],header=None)\n",
        "pos = nx.draw_spectral(male)\n",
        "nx.draw_networkx(male, pos=pos,font_size=4, node_color='blue',node_size=300, font_color='white',edge_color='black')\n",
        "# COPD_GWAS_genes"
      ],
      "execution_count": null,
      "outputs": []
    },
    {
      "cell_type": "code",
      "metadata": {
        "id": "2d6vN8I7CJPX",
        "colab_type": "code",
        "colab": {}
      },
      "source": [
        ""
      ],
      "execution_count": null,
      "outputs": []
    },
    {
      "cell_type": "markdown",
      "metadata": {
        "id": "jucC1SbXCNzh",
        "colab_type": "text"
      },
      "source": [
        "# VENN DIAGRAM for methylation benchmark"
      ]
    },
    {
      "cell_type": "code",
      "metadata": {
        "id": "pVrIB-czCJS6",
        "colab_type": "code",
        "colab": {}
      },
      "source": [
        ""
      ],
      "execution_count": null,
      "outputs": []
    },
    {
      "cell_type": "code",
      "metadata": {
        "id": "aP9TrRgSxHxw",
        "colab_type": "code",
        "colab": {
          "base_uri": "https://localhost:8080/",
          "height": 34
        },
        "outputId": "eb4d37cc-c5d5-45fd-c2d1-384965334e77"
      },
      "source": [
        "from matplotlib import pyplot as plt\n",
        "import numpy as np\n",
        "import pandas as pd\n",
        "from matplotlib_venn import venn3, venn3_circles\n",
        "plt.figure(figsize=(18,18))\n",
        "\n",
        "from google.colab import drive\n",
        "drive.mount('/content/drive')"
      ],
      "execution_count": null,
      "outputs": [
        {
          "output_type": "display_data",
          "data": {
            "text/plain": [
              "<Figure size 1296x1296 with 0 Axes>"
            ]
          },
          "metadata": {
            "tags": []
          }
        }
      ]
    },
    {
      "cell_type": "code",
      "metadata": {
        "id": "udtllYbt0-Jr",
        "colab_type": "code",
        "colab": {}
      },
      "source": [
        "A549=pd.read_csv('drive/My Drive/Colab Notebooks/all12345.txt',sep='\\t',names=['chr','start','end','type'])\n"
      ],
      "execution_count": null,
      "outputs": []
    },
    {
      "cell_type": "code",
      "metadata": {
        "id": "a-wVixnC0-My",
        "colab_type": "code",
        "colab": {}
      },
      "source": [
        "a=A549[A549['type']=='me']\n",
        "b=A549[A549['type']=='chip']\n",
        "c=A549[A549['type']=='wg']\n",
        "new_df1 = pd.merge(a, b, left_on=['chr','start','end'], right_on = ['chr','start','end'])\n",
        "new_df2 = pd.merge(a, c, left_on=['chr','start','end'], right_on = ['chr','start','end'])\n",
        "new_df3 = pd.merge(b, c, left_on=['chr','start','end'], right_on = ['chr','start','end'])\n",
        "new_df4 = pd.merge(new_df1, c, left_on=['chr','start','end'], right_on = ['chr','start','end'])\n"
      ],
      "execution_count": null,
      "outputs": []
    },
    {
      "cell_type": "code",
      "metadata": {
        "id": "69ADNbCd0-Qv",
        "colab_type": "code",
        "colab": {}
      },
      "source": [
        "from matplotlib_venn import venn3\n",
        "from matplotlib import pyplot as plt\n",
        "plt.figure(figsize=(10,10))\n",
        "v3 = venn3(subsets = {'100':len(a.drop_duplicates()), '010':len(b.drop_duplicates()), '110':len(new_df1.drop_duplicates()),\n",
        "                      '001':len(c.drop_duplicates()), '101':len(new_df2.drop_duplicates()), '011':len(new_df3.drop_duplicates()), '111':len(new_df4.drop_duplicates())},\n",
        "           set_labels = ('', '', ''))\n",
        "# plt.figure( figsize =(7,7) )\n",
        "v3.get_patch_by_id('100').set_color('red')\n",
        "v3.get_patch_by_id('010').set_color('yellow')\n",
        "v3.get_patch_by_id('001').set_color('blue')\n",
        "v3.get_patch_by_id('110').set_color('orange')\n",
        "v3.get_patch_by_id('101').set_color('purple')\n",
        "v3.get_patch_by_id('011').set_color('green')\n",
        "v3.get_patch_by_id('111').set_color('grey')\n",
        "\n",
        "v3.get_label_by_id('100').set_text('MEarray=\\n'+str(len(a.drop_duplicates())))\n",
        "v3.get_label_by_id('010').set_text('ChIP=\\n'+str(len(b.drop_duplicates())))\n",
        "v3.get_label_by_id('001').set_text('WGBS=\\n'+str(len(c.drop_duplicates())))\n",
        "# v3.get_label_by_id('110').set_text('MEarray V ChIP=\\n'+str(len(new_df1.drop_duplicates())))\n",
        "# v3.get_label_by_id('101').set_text('MEarray V WGBS=\\n'+str(len(new_df2.drop_duplicates())))\n",
        "# v3.get_label_by_id('011').set_text('wgbs V ChIP=\\n'+str(len(new_df3.drop_duplicates())))\n",
        "# v3.get_label_by_id('111').set_text('intersect='+str(len(new_df4.drop_duplicates()))+'\\n')\n",
        "plt.title(\"Overlap Venn diagram\")\n",
        "plt.tight_layout()\n",
        "\n",
        "for text in v3.subset_labels:\n",
        "    text.set_fontsize(13)\n",
        "\n",
        "plt.show()"
      ],
      "execution_count": null,
      "outputs": []
    },
    {
      "cell_type": "code",
      "metadata": {
        "id": "UPZvU0ea31Pj",
        "colab_type": "code",
        "colab": {}
      },
      "source": [
        "import pandas as pd\n",
        "import cupy as cp\n",
        "import numpy as np\n",
        "a=LCL_expression.iloc[:,1:127]\n",
        "aa=cp.array(a)\n",
        "z=cp.asnumpy(cp.linalg.matrix_rank(aa))\n",
        "zz=np.linalg.matrix_rank(a)\n",
        "b=cp.corrcoef(aa)\n",
        "ww=cp.linalg.cond(b, p='fro')"
      ],
      "execution_count": null,
      "outputs": []
    },
    {
      "cell_type": "code",
      "metadata": {
        "id": "cmo0J0padS0k",
        "colab_type": "code",
        "colab": {}
      },
      "source": [
        ""
      ],
      "execution_count": null,
      "outputs": []
    },
    {
      "cell_type": "code",
      "metadata": {
        "id": "rkOYXt7S5CzK",
        "colab_type": "code",
        "colab": {}
      },
      "source": [
        ""
      ],
      "execution_count": null,
      "outputs": []
    },
    {
      "cell_type": "code",
      "metadata": {
        "id": "hxnMtjnf5C2m",
        "colab_type": "code",
        "colab": {}
      },
      "source": [
        "from google.colab import drive\n",
        "drive.mount('/content/drive')"
      ],
      "execution_count": null,
      "outputs": []
    },
    {
      "cell_type": "code",
      "metadata": {
        "id": "KemULiOv5C41",
        "colab_type": "code",
        "colab": {
          "base_uri": "https://localhost:8080/",
          "height": 315
        },
        "outputId": "31ed441d-5d69-4d40-9def-eb862f5a98ce"
      },
      "source": [
        "!pip install cmapPy"
      ],
      "execution_count": null,
      "outputs": [
        {
          "output_type": "stream",
          "text": [
            "Collecting cmapPy\n",
            "\u001b[?25l  Downloading https://files.pythonhosted.org/packages/e8/e1/9e90b0dc2051f4a3a2b9553b254889e93a2a3c7a3b925433c6298d99d596/cmapPy-4.0.1-py2.py3-none-any.whl (150kB)\n",
            "\r\u001b[K     |██▏                             | 10kB 19.5MB/s eta 0:00:01\r\u001b[K     |████▍                           | 20kB 2.8MB/s eta 0:00:01\r\u001b[K     |██████▌                         | 30kB 3.7MB/s eta 0:00:01\r\u001b[K     |████████▊                       | 40kB 4.0MB/s eta 0:00:01\r\u001b[K     |███████████                     | 51kB 3.2MB/s eta 0:00:01\r\u001b[K     |█████████████                   | 61kB 3.7MB/s eta 0:00:01\r\u001b[K     |███████████████▎                | 71kB 3.9MB/s eta 0:00:01\r\u001b[K     |█████████████████▌              | 81kB 4.3MB/s eta 0:00:01\r\u001b[K     |███████████████████▋            | 92kB 4.6MB/s eta 0:00:01\r\u001b[K     |█████████████████████▉          | 102kB 4.4MB/s eta 0:00:01\r\u001b[K     |████████████████████████        | 112kB 4.4MB/s eta 0:00:01\r\u001b[K     |██████████████████████████▏     | 122kB 4.4MB/s eta 0:00:01\r\u001b[K     |████████████████████████████▍   | 133kB 4.4MB/s eta 0:00:01\r\u001b[K     |██████████████████████████████▌ | 143kB 4.4MB/s eta 0:00:01\r\u001b[K     |████████████████████████████████| 153kB 4.4MB/s \n",
            "\u001b[?25hRequirement already satisfied: requests>=2.13.0 in /usr/local/lib/python3.6/dist-packages (from cmapPy) (2.23.0)\n",
            "Requirement already satisfied: pandas>=0.18 in /usr/local/lib/python3.6/dist-packages (from cmapPy) (1.0.4)\n",
            "Requirement already satisfied: numpy>=1.11.2 in /usr/local/lib/python3.6/dist-packages (from cmapPy) (1.18.4)\n",
            "Requirement already satisfied: h5py>=2.6.0 in /usr/local/lib/python3.6/dist-packages (from cmapPy) (2.10.0)\n",
            "Requirement already satisfied: six in /usr/local/lib/python3.6/dist-packages (from cmapPy) (1.12.0)\n",
            "Requirement already satisfied: certifi>=2017.4.17 in /usr/local/lib/python3.6/dist-packages (from requests>=2.13.0->cmapPy) (2020.4.5.1)\n",
            "Requirement already satisfied: chardet<4,>=3.0.2 in /usr/local/lib/python3.6/dist-packages (from requests>=2.13.0->cmapPy) (3.0.4)\n",
            "Requirement already satisfied: idna<3,>=2.5 in /usr/local/lib/python3.6/dist-packages (from requests>=2.13.0->cmapPy) (2.9)\n",
            "Requirement already satisfied: urllib3!=1.25.0,!=1.25.1,<1.26,>=1.21.1 in /usr/local/lib/python3.6/dist-packages (from requests>=2.13.0->cmapPy) (1.24.3)\n",
            "Requirement already satisfied: pytz>=2017.2 in /usr/local/lib/python3.6/dist-packages (from pandas>=0.18->cmapPy) (2018.9)\n",
            "Requirement already satisfied: python-dateutil>=2.6.1 in /usr/local/lib/python3.6/dist-packages (from pandas>=0.18->cmapPy) (2.8.1)\n",
            "Installing collected packages: cmapPy\n",
            "Successfully installed cmapPy-4.0.1\n"
          ],
          "name": "stdout"
        }
      ]
    },
    {
      "cell_type": "code",
      "metadata": {
        "id": "2_5SS-qh5C8c",
        "colab_type": "code",
        "colab": {}
      },
      "source": [
        "import cmapPy.pandasGEXpress.parse_gct as pg"
      ],
      "execution_count": null,
      "outputs": []
    },
    {
      "cell_type": "code",
      "metadata": {
        "id": "tf7kyFOH5bSQ",
        "colab_type": "code",
        "colab": {}
      },
      "source": [
        "female=pg.parse('drive/My Drive/Colab Notebooks/female_panda_ltcopd.gct')\n",
        "male=pg.parse('drive/My Drive/Colab Notebooks/male_panda_ltcopd.gct')"
      ],
      "execution_count": null,
      "outputs": []
    },
    {
      "cell_type": "code",
      "metadata": {
        "id": "dtq7vjAC5giC",
        "colab_type": "code",
        "colab": {}
      },
      "source": [
        "female.row_metadata_df.to_csv('female_ltcopd_cluereg.csv',sep='\\t',index='name')"
      ],
      "execution_count": null,
      "outputs": []
    },
    {
      "cell_type": "code",
      "metadata": {
        "id": "2LsWc26m5-1_",
        "colab_type": "code",
        "colab": {}
      },
      "source": [
        "male.row_metadata_df.to_csv('male_ltcopd_cluereg.csv',sep='\\t',index='name')"
      ],
      "execution_count": null,
      "outputs": []
    },
    {
      "cell_type": "code",
      "metadata": {
        "id": "jwnr-2hJ7C-y",
        "colab_type": "code",
        "colab": {}
      },
      "source": [
        ""
      ],
      "execution_count": null,
      "outputs": []
    }
  ]
}