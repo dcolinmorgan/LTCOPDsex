{
  "nbformat": 4,
  "nbformat_minor": 0,
  "metadata": {
    "colab": {
      "name": "gpuMilipeed & ltcopd_sex.ipynb",
      "provenance": [],
      "collapsed_sections": [],
      "machine_shape": "hm",
      "authorship_tag": "ABX9TyObFD20YE4wUSxgSBbo5blG",
      "include_colab_link": true
    },
    "kernelspec": {
      "name": "python3",
      "display_name": "Python 3"
    },
    "accelerator": "GPU"
  },
  "cells": [
    {
      "cell_type": "markdown",
      "metadata": {
        "id": "view-in-github",
        "colab_type": "text"
      },
      "source": [
        "<a href=\"https://colab.research.google.com/github/dcolinmorgan/LTCOPDsex/blob/master/gpuMilipeed_%26_ltcopd_sex.ipynb\" target=\"_parent\"><img src=\"https://colab.research.google.com/assets/colab-badge.svg\" alt=\"Open In Colab\"/></a>"
      ]
    },
    {
      "cell_type": "code",
      "metadata": {
        "id": "PWuPbSuG91Xv",
        "colab_type": "code",
        "colab": {
          "base_uri": "https://localhost:8080/",
          "height": 72
        },
        "outputId": "2de5f300-c306-42c5-8846-5b0c9fdb49ec"
      },
      "source": [
        "import os,gc\n",
        "import s3fs\n",
        "import matplotlib.pyplot as plt\n",
        "import pandas as pd\n",
        "import seaborn as sns\n",
        "import numpy as np\n",
        "from psutil import *\n",
        "from scipy.stats import zscore"
      ],
      "execution_count": 3,
      "outputs": [
        {
          "output_type": "stream",
          "text": [
            "/usr/local/lib/python3.6/dist-packages/statsmodels/tools/_testing.py:19: FutureWarning: pandas.util.testing is deprecated. Use the functions in the public API at pandas.testing instead.\n",
            "  import pandas.util.testing as tm\n"
          ],
          "name": "stderr"
        }
      ]
    },
    {
      "cell_type": "code",
      "metadata": {
        "id": "OzVwQFBH92TO",
        "colab_type": "code",
        "colab": {
          "base_uri": "https://localhost:8080/",
          "height": 104
        },
        "outputId": "7052b775-e244-442a-c63a-e9f6f3959af6"
      },
      "source": [
        "!pip install cupy-cuda101==7.4.0\n",
        "import cupy as cp\n",
        "# print(cp.__version__)\n",
        "!pip freeze | grep cupy"
      ],
      "execution_count": 37,
      "outputs": [
        {
          "output_type": "stream",
          "text": [
            "Requirement already satisfied: cupy-cuda101==7.4.0 in /usr/local/lib/python3.6/dist-packages (7.4.0)\n",
            "Requirement already satisfied: fastrlock>=0.3 in /usr/local/lib/python3.6/dist-packages (from cupy-cuda101==7.4.0) (0.5)\n",
            "Requirement already satisfied: numpy>=1.9.0 in /usr/local/lib/python3.6/dist-packages (from cupy-cuda101==7.4.0) (1.18.5)\n",
            "Requirement already satisfied: six>=1.9.0 in /usr/local/lib/python3.6/dist-packages (from cupy-cuda101==7.4.0) (1.15.0)\n",
            "cupy-cuda101==7.4.0\n"
          ],
          "name": "stdout"
        }
      ]
    },
    {
      "cell_type": "code",
      "metadata": {
        "id": "3GovW9SCYkTt",
        "colab_type": "code",
        "colab": {}
      },
      "source": [
        "# !rm -rf netZooPy"
      ],
      "execution_count": 38,
      "outputs": []
    },
    {
      "cell_type": "code",
      "metadata": {
        "id": "1YH2WsWI_VJ8",
        "colab_type": "code",
        "colab": {
          "base_uri": "https://localhost:8080/",
          "height": 541
        },
        "outputId": "b0b7e34a-76bc-4741-d177-9e4aa2d17f61"
      },
      "source": [
        "# !git clone https://github.com/netZoo/netZooPy.git\n",
        "!git clone --single-branch --branch milipeed https://github.com/dcolinmorgan/netZooPy.git\n",
        "os.chdir('netZooPy')\n",
        "!pip install -e ./"
      ],
      "execution_count": 39,
      "outputs": [
        {
          "output_type": "stream",
          "text": [
            "Cloning into 'netZooPy'...\n",
            "remote: Enumerating objects: 104, done.\u001b[K\n",
            "remote: Counting objects: 100% (104/104), done.\u001b[K\n",
            "remote: Compressing objects: 100% (46/46), done.\u001b[K\n",
            "remote: Total 3335 (delta 70), reused 69 (delta 58), pack-reused 3231\u001b[K\n",
            "Receiving objects: 100% (3335/3335), 192.03 MiB | 20.44 MiB/s, done.\n",
            "Resolving deltas: 100% (1411/1411), done.\n",
            "Checking out files: 100% (358/358), done.\n",
            "Obtaining file:///content/netZooPy\n",
            "Requirement already satisfied: pandas in /usr/local/lib/python3.6/dist-packages (from netZooPy==0.5) (1.0.5)\n",
            "Requirement already satisfied: numpy in /usr/local/lib/python3.6/dist-packages (from netZooPy==0.5) (1.18.5)\n",
            "Requirement already satisfied: networkx in /usr/local/lib/python3.6/dist-packages (from netZooPy==0.5) (2.5)\n",
            "Requirement already satisfied: matplotlib in /usr/local/lib/python3.6/dist-packages (from netZooPy==0.5) (3.2.2)\n",
            "Requirement already satisfied: scipy in /usr/local/lib/python3.6/dist-packages (from netZooPy==0.5) (1.4.1)\n",
            "Collecting python-igraph\n",
            "\u001b[?25l  Downloading https://files.pythonhosted.org/packages/8b/74/24a1afbf3abaf1d5f393b668192888d04091d1a6d106319661cd4af05406/python_igraph-0.8.2-cp36-cp36m-manylinux2010_x86_64.whl (3.2MB)\n",
            "\u001b[K     |████████████████████████████████| 3.2MB 3.0MB/s \n",
            "\u001b[?25hRequirement already satisfied: pytz>=2017.2 in /usr/local/lib/python3.6/dist-packages (from pandas->netZooPy==0.5) (2018.9)\n",
            "Requirement already satisfied: python-dateutil>=2.6.1 in /usr/local/lib/python3.6/dist-packages (from pandas->netZooPy==0.5) (2.8.1)\n",
            "Requirement already satisfied: decorator>=4.3.0 in /usr/local/lib/python3.6/dist-packages (from networkx->netZooPy==0.5) (4.4.2)\n",
            "Requirement already satisfied: pyparsing!=2.0.4,!=2.1.2,!=2.1.6,>=2.0.1 in /usr/local/lib/python3.6/dist-packages (from matplotlib->netZooPy==0.5) (2.4.7)\n",
            "Requirement already satisfied: cycler>=0.10 in /usr/local/lib/python3.6/dist-packages (from matplotlib->netZooPy==0.5) (0.10.0)\n",
            "Requirement already satisfied: kiwisolver>=1.0.1 in /usr/local/lib/python3.6/dist-packages (from matplotlib->netZooPy==0.5) (1.2.0)\n",
            "Collecting texttable>=1.6.2\n",
            "  Downloading https://files.pythonhosted.org/packages/ec/b1/8a1c659ce288bf771d5b1c7cae318ada466f73bd0e16df8d86f27a2a3ee7/texttable-1.6.2-py2.py3-none-any.whl\n",
            "Requirement already satisfied: six>=1.5 in /usr/local/lib/python3.6/dist-packages (from python-dateutil>=2.6.1->pandas->netZooPy==0.5) (1.15.0)\n",
            "Installing collected packages: texttable, python-igraph, netZooPy\n",
            "  Running setup.py develop for netZooPy\n",
            "Successfully installed netZooPy python-igraph-0.8.2 texttable-1.6.2\n"
          ],
          "name": "stdout"
        }
      ]
    },
    {
      "cell_type": "code",
      "metadata": {
        "id": "JzalsogzY_bR",
        "colab_type": "code",
        "colab": {}
      },
      "source": [
        "# from importlib import reload  \n",
        "# reload(netZooPy)"
      ],
      "execution_count": 40,
      "outputs": []
    },
    {
      "cell_type": "code",
      "metadata": {
        "id": "atbUTAbP_VNg",
        "colab_type": "code",
        "colab": {}
      },
      "source": [
        "import netZooPy\n",
        "from netZooPy.panda import Panda\n",
        "from netZooPy.lioness import Lioness\n",
        "from netZooPy.milipeed import Milipeed\n",
        "os.chdir('..')"
      ],
      "execution_count": 41,
      "outputs": []
    },
    {
      "cell_type": "code",
      "metadata": {
        "id": "GazyQALYKWCx",
        "colab_type": "code",
        "colab": {}
      },
      "source": [
        "# !pip install GEOparse"
      ],
      "execution_count": null,
      "outputs": []
    },
    {
      "cell_type": "code",
      "metadata": {
        "id": "TvWCvp-k-4cf",
        "colab_type": "code",
        "colab": {}
      },
      "source": [
        "# https://geoparse.readthedocs.io/en/latest/Analyse_hsa-miR-124a-3p_transfection_time-course.html#\n",
        "# import GEOparse\n",
        "# gsem = GEOparse.get_GEO(geo=\"GSE92511\", destdir=\"./\")\n",
        "# gsem = GEOparse.get_GEO(filepath=\"GSE92511_family.soft.gz\")\n",
        "\n",
        "##expression\n",
        "# gsee = GEOparse.get_GEO(geo=\"GSE76925\", destdir=\"./\")\n",
        "# gsee = GEOparse.get_GEO(filepath=\"GSE76925_family.soft.gz\")"
      ],
      "execution_count": null,
      "outputs": []
    },
    {
      "cell_type": "code",
      "metadata": {
        "id": "pAyp3WRs_Isv",
        "colab_type": "code",
        "colab": {
          "base_uri": "https://localhost:8080/",
          "height": 124
        },
        "outputId": "38f02666-2b4e-463a-d8fa-2750fbd56263"
      },
      "source": [
        "from google.colab import drive\n",
        "drive.mount('/content/drive')"
      ],
      "execution_count": 6,
      "outputs": [
        {
          "output_type": "stream",
          "text": [
            "Go to this URL in a browser: https://accounts.google.com/o/oauth2/auth?client_id=947318989803-6bn6qk8qdgf4n4g3pfee6491hc0brc4i.apps.googleusercontent.com&redirect_uri=urn%3aietf%3awg%3aoauth%3a2.0%3aoob&scope=email%20https%3a%2f%2fwww.googleapis.com%2fauth%2fdocs.test%20https%3a%2f%2fwww.googleapis.com%2fauth%2fdrive%20https%3a%2f%2fwww.googleapis.com%2fauth%2fdrive.photos.readonly%20https%3a%2f%2fwww.googleapis.com%2fauth%2fpeopleapi.readonly&response_type=code\n",
            "\n",
            "Enter your authorization code:\n",
            "··········\n",
            "Mounted at /content/drive\n"
          ],
          "name": "stdout"
        }
      ]
    },
    {
      "cell_type": "code",
      "metadata": {
        "id": "1Tj_uZOi_Ixi",
        "colab_type": "code",
        "colab": {}
      },
      "source": [
        "# illumina_labels=pd.read_csv('drive/My Drive/Colab Notebooks/illumina_labels.txt',sep=';',header=0)\n",
        "labels=pd.read_csv('drive/My Drive/Colab Notebooks dcm/v14bexp.txt',sep='\\t',header=0)"
      ],
      "execution_count": 5,
      "outputs": []
    },
    {
      "cell_type": "code",
      "metadata": {
        "id": "NMcy1VHw_PbD",
        "colab_type": "code",
        "colab": {}
      },
      "source": [
        "# expression = gsee.pivot_samples('VALUE')\n",
        "# expression.index=illumina_labels['Gene']\n",
        "# expression=expression[expression.index.notnull()]\n",
        "# expression.columns=labels.columns[1:]"
      ],
      "execution_count": null,
      "outputs": []
    },
    {
      "cell_type": "code",
      "metadata": {
        "id": "UD1FfzL6-4f6",
        "colab_type": "code",
        "colab": {}
      },
      "source": [
        "# LCL_ppi=pd.read_csv('https://granddb.s3.amazonaws.com/gpuPANDA/ppi2015_freezeCellLine.txt',sep='\\t',header=None)\n",
        "# LCL_ppi.to_csv('ppi_complete.txt',sep='\\t',index=False)\n",
        "# # expression.to_csv('GPL10558.txt',sep='\\t',index=True,header=True)\n",
        "# # methylation.to_csv('GSE76925.txt',sep='\\t',index=True,header=True)\n",
        "# # # LCL_motif=pd.read_csv('https://granddb.s3.amazonaws.com/gpuPANDA/Hugo_motifCellLine_reduced.txt',sep='\\t',header=None)\n",
        "# # # LCL_motif.to_csv('Hugo_motifCellLine_reduced.txt',sep='\\t',index=False)\n",
        "# # coding_LCL_motif=pd.read_csv('https://granddb.s3.amazonaws.com/optPANDA/motifs/Hugo_motifCellLine.txt',sep='\\t',header=None)\n",
        "# # coding_LCL_motif[coding_LCL_motif[2]!=0].to_csv('one_coding_LCL_motif.txt',sep='\\t',index=False,header=False)\n",
        "# milipeed_test_motif=pd.read_csv('drive/My Drive/Colab Notebooks dcm/milipeed_test_tr.txt',sep='\\t',header=0,index_col=0)\n",
        "# milipeed_test_motif.columns = milipeed_test_motif.columns.str.replace(\"-\", \".\")\n",
        "# milipeed_test_motif.to_csv('milipeed_test_motif.txt',sep='\\t',index=True,header=True)\n"
      ],
      "execution_count": null,
      "outputs": []
    },
    {
      "cell_type": "code",
      "metadata": {
        "id": "VgUoIeb6qqrG",
        "colab_type": "code",
        "colab": {}
      },
      "source": [
        "# tmp_expdata = expression#pd.read_csv(expression_file,sep='\\t',header=0,nrows=0)\n",
        "# tmp_betadata = milipeed_test_motif#pd.read_csv(methylation_file,sep='\\t',header=0,nrows=0)\n",
        "# b_subj=tmp_betadata.columns[(tmp_betadata.columns).isin(tmp_expdata)].dropna().tolist()\n",
        "# e_subj=tmp_expdata.columns[(tmp_expdata.columns).isin(tmp_betadata)].dropna().tolist()\n",
        "# # tmp_betadata2[pd.DataFrame(tmp_betadata2).isin(tmp_expdata2),]\n",
        "# print('Number of subjects:', len(b_subj))\n",
        "\n"
      ],
      "execution_count": null,
      "outputs": []
    },
    {
      "cell_type": "code",
      "metadata": {
        "id": "Qg6AorRD-4q6",
        "colab_type": "code",
        "colab": {}
      },
      "source": [
        "# # milipeed_obj2=Milipeed('GPL10558.txt','milipeed_test_motif.txt','ppi_complete.txt',\n",
        "\n",
        "# milipeed_obj=Milipeed('drive/My Drive/Colab Notebooks dcm/gene_exp_v14b.txt','milipeed_test_motif.txt','ppi_complete.txt',\n",
        "#     computing='gpu',save_dir='milipeed_output/',\n",
        "#     save_fmt='npy',map_file='netZooPy/tests/milipeed/MotifPrior_CGmap.txt')\n",
        "# # milipeed_obj.save_milipeed_results(file='LTCOPDmilipeed_02232020.txt')\n",
        "\n"
      ],
      "execution_count": null,
      "outputs": []
    },
    {
      "cell_type": "code",
      "metadata": {
        "id": "bLT9Q3VAaYD1",
        "colab_type": "code",
        "colab": {}
      },
      "source": [
        "# !zip -r milipeed_output.zip milipeed_output"
      ],
      "execution_count": null,
      "outputs": []
    },
    {
      "cell_type": "code",
      "metadata": {
        "id": "uCPKpddxKEvQ",
        "colab_type": "code",
        "colab": {}
      },
      "source": [
        "# !cp -R milipeed_output.zip \"/content/drive/My Drive/\""
      ],
      "execution_count": null,
      "outputs": []
    },
    {
      "cell_type": "code",
      "metadata": {
        "id": "J7QKzGfh8aio",
        "colab_type": "code",
        "colab": {}
      },
      "source": [
        "# from google.colab import files\n",
        "# files.download('milipeed_output.zip')"
      ],
      "execution_count": null,
      "outputs": []
    },
    {
      "cell_type": "code",
      "metadata": {
        "id": "o3Pe4DfeJFGo",
        "colab_type": "code",
        "colab": {}
      },
      "source": [
        ""
      ],
      "execution_count": null,
      "outputs": []
    },
    {
      "cell_type": "code",
      "metadata": {
        "id": "6ndv6wubqEw-",
        "colab_type": "code",
        "colab": {}
      },
      "source": [
        ""
      ],
      "execution_count": null,
      "outputs": []
    },
    {
      "cell_type": "code",
      "metadata": {
        "id": "KMr_AetbqE0N",
        "colab_type": "code",
        "colab": {}
      },
      "source": [
        ""
      ],
      "execution_count": null,
      "outputs": []
    },
    {
      "cell_type": "code",
      "metadata": {
        "id": "Fv_5uKSKqE4x",
        "colab_type": "code",
        "colab": {}
      },
      "source": [
        ""
      ],
      "execution_count": null,
      "outputs": []
    },
    {
      "cell_type": "code",
      "metadata": {
        "id": "dUytpu_GqE93",
        "colab_type": "code",
        "colab": {}
      },
      "source": [
        ""
      ],
      "execution_count": null,
      "outputs": []
    },
    {
      "cell_type": "code",
      "metadata": {
        "id": "T55yhFNaqFBk",
        "colab_type": "code",
        "colab": {}
      },
      "source": [
        "!pip install GEOparse"
      ],
      "execution_count": null,
      "outputs": []
    },
    {
      "cell_type": "code",
      "metadata": {
        "id": "lt-QFVG7qE8P",
        "colab_type": "code",
        "colab": {}
      },
      "source": [
        "import GEOparse\n",
        "gse = GEOparse.get_GEO(geo=\"GSE76925\", destdir=\"./\")"
      ],
      "execution_count": null,
      "outputs": []
    },
    {
      "cell_type": "code",
      "metadata": {
        "id": "acmyazVkqE3T",
        "colab_type": "code",
        "colab": {}
      },
      "source": [
        "# illumina_labels=pd.read_csv('drive/My Drive/Colab Notebooks/illumina_labels.txt',sep=';',header=0)\n",
        "illumina_labels=pd.read_csv('drive/My Drive/Colab Notebooks dcm/GPL10558_illumina_prb_loc.txt',sep='\\t',index_col=0,header=None,names=['loc','symbol'])"
      ],
      "execution_count": 7,
      "outputs": []
    },
    {
      "cell_type": "code",
      "metadata": {
        "id": "crJiU1uuqJSq",
        "colab_type": "code",
        "colab": {
          "base_uri": "https://localhost:8080/",
          "height": 278
        },
        "outputId": "9759e2a5-73b0-4859-b697-051b90c37f0b"
      },
      "source": [
        "gpl = gse.gpls[next(iter(gse.gpls))]\n",
        "data = gse.pivot_samples(values=\"VALUE\")#, gpl=gpl, annotation_column=\"Symbol\")\n",
        "data.sort_index"
      ],
      "execution_count": 8,
      "outputs": [
        {
          "output_type": "execute_result",
          "data": {
            "text/plain": [
              "<bound method DataFrame.sort_index of name          GSM2040792  GSM2040793  ...  GSM2040941  GSM2040942\n",
              "ID_REF                                ...                        \n",
              "ILMN_1343291   14.716834   14.638305  ...   14.899412   14.854133\n",
              "ILMN_1343295   11.324115   11.701110  ...   12.050576   12.018367\n",
              "ILMN_1651209    3.001078    3.129692  ...    3.657480    3.009667\n",
              "ILMN_1651221    3.207901    4.586259  ...    4.358128    3.009667\n",
              "ILMN_1651228   11.775397   10.800366  ...   11.595252   12.374196\n",
              "...                  ...         ...  ...         ...         ...\n",
              "ILMN_3311145    3.101326    2.908517  ...    4.617594    4.575824\n",
              "ILMN_3311155    3.425322    3.659397  ...    3.420438    3.341996\n",
              "ILMN_3311165    2.810761    3.593618  ...    3.950109    3.564369\n",
              "ILMN_3311180    3.515478    3.107415  ...    4.167176    3.334542\n",
              "ILMN_3311190    3.445564    4.075027  ...    2.995176    4.263345\n",
              "\n",
              "[32831 rows x 151 columns]>"
            ]
          },
          "metadata": {
            "tags": []
          },
          "execution_count": 8
        }
      ]
    },
    {
      "cell_type": "code",
      "metadata": {
        "id": "z5ccnouzqJVi",
        "colab_type": "code",
        "colab": {}
      },
      "source": [
        "pheno=gse.phenotype_data.rename(columns={'characteristics_ch1.0.age': 'age',\"characteristics_ch1.1.Sex\":\"sex\",\"characteristics_ch1.3.bmi\":\"bmi\",\"characteristics_ch1.6.fev1.pp\":\"fev1\",\"characteristics_ch1.4.packyears\":\"PY\"})\n",
        "pheno[['age',\"sex\",\"bmi\",\"fev1\",\"PY\"]].to_csv('pheno_data.txt',sep='\\t',index=True,header=True)"
      ],
      "execution_count": 9,
      "outputs": []
    },
    {
      "cell_type": "markdown",
      "metadata": {
        "id": "aoh7P5SBfBmT",
        "colab_type": "text"
      },
      "source": [
        "create M and F subpopulations for case and control"
      ]
    },
    {
      "cell_type": "code",
      "metadata": {
        "id": "th51ifuqqJYu",
        "colab_type": "code",
        "colab": {}
      },
      "source": [
        "data2=data.merge(illumina_labels['symbol'],left_index=True,right_index=True)\n",
        "data2.index=data2['symbol']\n",
        "del data2['symbol']\n",
        "data2.columns=[gse.phenotype_data['characteristics_ch1.1.Sex']+gse.phenotype_data['characteristics_ch1.5.copd']]\n",
        "data2.loc[:,'Mcase'].to_csv('Mcase.txt',sep='\\t',index=True,header=False)\n",
        "data2.loc[:,'Mcont'].to_csv('Mcont.txt',sep='\\t',index=True,header=False)\n",
        "\n",
        "data3=data.merge(illumina_labels,left_index=True,right_index=True)\n",
        "data3.index=data3['symbol']\n",
        "data3=data3[data3['loc']!='Y']\n",
        "del data3['symbol'], data3['loc']\n",
        "data3.columns=[gse.phenotype_data['characteristics_ch1.1.Sex']+gse.phenotype_data['characteristics_ch1.5.copd']]\n",
        "data3.loc[:,'Fcase'].to_csv('Fcase.txt',sep='\\t',index=True,header=False)\n",
        "data3.loc[:,'Fcont'].to_csv('Fcont.txt',sep='\\t',index=True,header=False)\n",
        "\n",
        "\n",
        "data4=data.merge(illumina_labels,left_index=True,right_index=True)\n",
        "data4.index=data4['symbol']\n",
        "# data4=data4[data4['loc']!='Y']\n",
        "del data4['symbol'], data4['loc']\n",
        "data4.columns=[gse.phenotype_data['characteristics_ch1.1.Sex']+gse.phenotype_data['characteristics_ch1.5.copd']]\n",
        "data4.loc[:,'Fcase'].to_csv('FcaseFULL.txt',sep='\\t',index=True,header=False)\n",
        "data4.loc[:,'Fcont'].to_csv('FcontFULL.txt',sep='\\t',index=True,header=False)"
      ],
      "execution_count": 10,
      "outputs": []
    },
    {
      "cell_type": "code",
      "metadata": {
        "id": "z-ovwivK9wWN",
        "colab_type": "code",
        "colab": {
          "base_uri": "https://localhost:8080/",
          "height": 34
        },
        "outputId": "910bbe6f-36a2-4f72-c42a-0ee090dc1939"
      },
      "source": [
        "[data2.loc[:,'Mcase'].shape,data2.loc[:,'Mcont'].shape,data3.loc[:,'Fcase'].shape,data3.loc[:,'Fcont'].shape]\n",
        "\n",
        "\n"
      ],
      "execution_count": 12,
      "outputs": [
        {
          "output_type": "execute_result",
          "data": {
            "text/plain": [
              "[(32831, 52), (32831, 15), (32794, 59), (32794, 25)]"
            ]
          },
          "metadata": {
            "tags": []
          },
          "execution_count": 12
        }
      ]
    },
    {
      "cell_type": "code",
      "metadata": {
        "id": "z0NvaV3oqO5k",
        "colab_type": "code",
        "colab": {}
      },
      "source": [
        "LCL_ppi=pd.read_csv('https://granddb.s3.amazonaws.com/optPANDA/ppi/ppi_complete.txt',sep='\\t',header=None)\n",
        "LCL_ppi.to_csv('ppi_complete.txt',sep='\\t',index=False,header=False)\n",
        "\n",
        "coding_LCL_motif=pd.read_csv('https://granddb.s3.amazonaws.com/optPANDA/motifs/Hugo_motifCellLine.txt',sep='\\t',header=None)\n",
        "coding_LCL_motif.to_csv('coding_LCL_motif.txt',sep='\\t',index=False,header=False)\n",
        "\n",
        "motif_data='coding_LCL_motif.txt'\n",
        "ppi_data='ppi_complete.txt'"
      ],
      "execution_count": 43,
      "outputs": []
    },
    {
      "cell_type": "code",
      "metadata": {
        "id": "BtyZG3yDqO8f",
        "colab_type": "code",
        "colab": {}
      },
      "source": [
        "panda_obj1 = Panda('Fcase.txt', motif_data, ppi_data,computing='gpu',precision='single',save_tmp=False,save_memory = False, remove_missing=False, keep_expression_matrix = True,modeProcess = 'intersection')\n",
        "np.save('drive/My Drive/Panda_Fcase.npy',panda_obj1.export_panda_results)\n",
        "del panda_obj1\n",
        "# panda_obj2 = Panda('Mcase.txt', motif_data, ppi_data,computing='gpu',precision='single',save_tmp=False,save_memory = True, remove_missing=False, keep_expression_matrix = True,modeProcess = 'intersection')\n",
        "# np.save('drive/My Drive/Panda_Mcase.npy',panda_obj2.export_panda_results)\n",
        "# del panda_obj2\n",
        "panda_obj3 = Panda('Fcont.txt', motif_data, ppi_data,computing='gpu',precision='single',save_tmp=False,save_memory = False, remove_missing=False, keep_expression_matrix = True,modeProcess = 'intersection')\n",
        "np.save('drive/My Drive/Panda_Fcont.npy',panda_obj3.export_panda_results)\n",
        "del panda_obj3\n",
        "# panda_obj4 = Panda('Mcont.txt', motif_data, ppi_data,computing='gpu',precision='single',save_tmp=False,save_memory = True, remove_missing=False, keep_expression_matrix = True,modeProcess = 'intersection')\n",
        "# np.save('drive/My Drive/Panda_Mcont.npy',panda_obj4.export_panda_results)\n",
        "# del panda_obj4\n",
        "panda_obj5 = Panda('FcaseFULL.txt', motif_data, ppi_data,computing='gpu',precision='single',save_tmp=False,save_memory = False, remove_missing=False, keep_expression_matrix = True,modeProcess = 'intersection')\n",
        "np.save('drive/My Drive/Panda_FcaseFULL.npy',panda_obj5.export_panda_results)\n",
        "del panda_obj5\n",
        "panda_obj6 = Panda('FcontFULL.txt', motif_data, ppi_data,computing='gpu',precision='single',save_tmp=False,save_memory = False, remove_missing=False, keep_expression_matrix = True,modeProcess = 'intersection')\n",
        "np.save('drive/My Drive/Panda_FcontFULL.npy',panda_obj6.export_panda_results)\n",
        "del panda_obj6\n"
      ],
      "execution_count": null,
      "outputs": []
    },
    {
      "cell_type": "code",
      "metadata": {
        "id": "VM25VrY-qJc6",
        "colab_type": "code",
        "colab": {}
      },
      "source": [
        ""
      ],
      "execution_count": null,
      "outputs": []
    },
    {
      "cell_type": "markdown",
      "metadata": {
        "id": "HHGjudlvIf_I",
        "colab_type": "text"
      },
      "source": [
        "LTCOPD sex analysis (needed more RAM) (Fcase v Fcont)"
      ]
    },
    {
      "cell_type": "code",
      "metadata": {
        "id": "Sp0wXPoEIvXg",
        "colab_type": "code",
        "colab": {}
      },
      "source": [
        "Panda_Fcase=np.load('drive/My Drive/Colab Notebooks dcm/Panda_Fcase.npy',allow_pickle=True)#,sep='\\t',index_col=0,header=None,names=['loc','symbol'])\n",
        "Panda_Mcase=np.load('drive/My Drive/Colab Notebooks dcm/Panda_Mcase.npy',allow_pickle=True)#,sep='\\t',index_col=0,header=None,names=['loc','symbol'])\n",
        "Panda_Fcont=np.load('drive/My Drive/Colab Notebooks dcm/Panda_Fcont.npy',allow_pickle=True)#,sep='\\t',index_col=0,header=None,names=['loc','symbol'])\n",
        "Panda_Mcont=np.load('drive/My Drive/Colab Notebooks dcm/Panda_Mcont.npy',allow_pickle=True)#,sep='\\t',index_col=0,header=None,names=['loc','symbol'])\n",
        "\n",
        "Panda_FcaseFULL=np.load('drive/My Drive/Panda_FcaseFULL.npy',allow_pickle=True)#,sep='\\t',index_col=0,header=None,names=['loc','symbol'])\n",
        "Panda_FcontFULL=np.load('drive/My Drive/Panda_FcontFULL.npy',allow_pickle=True)#,sep='\\t',index_col=0,header=None,names=['loc','symbol'])\n",
        "\n",
        "\n",
        "\n",
        "Panda_Fcont=pd.DataFrame(Panda_Fcont)\n",
        "Panda_Fcont.columns=['tf','gene','motif','force']\n",
        "Panda_Fcase=pd.DataFrame(Panda_Fcase)\n",
        "Panda_Fcase.columns=['tf','gene','motif','force']\n",
        "\n",
        "Panda_FcontFULL=pd.DataFrame(Panda_FcontFULL)\n",
        "Panda_FcontFULL.columns=['tf','gene','motif','force']\n",
        "Panda_FcaseFULL=pd.DataFrame(Panda_FcaseFULL)\n",
        "Panda_FcaseFULL.columns=['tf','gene','motif','force']\n",
        "\n",
        "Panda_Mcont=pd.DataFrame(Panda_Mcont)\n",
        "Panda_Mcont.columns=['tf','gene','motif','force']\n",
        "Panda_Mcase=pd.DataFrame(Panda_Mcase)\n",
        "Panda_Mcase.columns=['tf','gene','motif','force']"
      ],
      "execution_count": null,
      "outputs": []
    },
    {
      "cell_type": "code",
      "metadata": {
        "id": "rdBLBStu0Jiq",
        "colab_type": "code",
        "colab": {}
      },
      "source": [
        "# Panda_Fcont.panda_results = pd.DataFrame(Panda_Fcont.export_panda_results, columns=['tf','gene','motif','force'])\n",
        "subset_panda_results3 = Panda_Fcont.sort_values(by=['force'], ascending=False)\n",
        "subset_panda_results3['merge']=subset_panda_results3.tf+'-'+subset_panda_results3.gene\n",
        "\n",
        "# Panda_Fcase.panda_results = pd.DataFrame(Panda_Fcase.export_panda_results, columns=['tf','gene','motif','force'])\n",
        "subset_panda_results1 = Panda_Fcase.sort_values(by=['force'], ascending=False)\n",
        "subset_panda_results1['merge']=subset_panda_results1.tf+'-'+subset_panda_results1.gene\n",
        "\n",
        "www=subset_panda_results3.merge(subset_panda_results1, left_on='merge', right_on='merge')\n",
        "\n",
        "del [[subset_panda_results3, subset_panda_results1]]\n",
        "gc.collect()\n",
        "subset_panda_results3=pd.DataFrame()\n",
        "subset_panda_results1=pd.DataFrame()\n",
        "\n",
        "www['diff']=www.force_x-www.force_y\n",
        "www = www.sort_values(by ='diff' )\n",
        "\n",
        "wwww=www[np.abs(www['diff'])>2]\n",
        "del [[www]]\n",
        "gc.collect()\n",
        "www=pd.DataFrame()\n",
        "\n",
        "\n",
        "# len(pd.unique(wwww['tf_x']))\n",
        "# import seaborn as sns\n",
        "# plt.figure(figsize=(12, 30))\n",
        "\n",
        "# g=sns.barplot(x=\"diff\", y=\"merge\", data=wwww)\n",
        "# g.set(xlim=(-4.5, 4.5))\n",
        "# wwww.to_csv('female_caVco.txt')\n",
        "pd.DataFrame([pd.unique(wwww['tf_x']),pd.unique(wwww['gene_x'])]).to_csv('drive/My Drive/unqiue_female_caVco.txt',sep='\\t',header=None,index=None)"
      ],
      "execution_count": null,
      "outputs": []
    },
    {
      "cell_type": "code",
      "metadata": {
        "id": "tOh6KlDgIzwe",
        "colab_type": "code",
        "colab": {}
      },
      "source": [
        "del [[Panda_Fcont,Panda_Fcase]]\n",
        "gc.collect()\n",
        "Panda_Fcont=pd.DataFrame()\n",
        "Panda_Fcase=pd.DataFrame()"
      ],
      "execution_count": null,
      "outputs": []
    },
    {
      "cell_type": "markdown",
      "metadata": {
        "id": "n-4HIZfEI2DB",
        "colab_type": "text"
      },
      "source": [
        "LTCOPD sex analysis (needed more RAM) (FcaseFULL v FcontFULL)"
      ]
    },
    {
      "cell_type": "code",
      "metadata": {
        "id": "ujgjsCnCIkkw",
        "colab_type": "code",
        "colab": {}
      },
      "source": [
        "# Panda_Fcont.panda_results = pd.DataFrame(Panda_Fcont.export_panda_results, columns=['tf','gene','motif','force'])\n",
        "subset_panda_results5 = Panda_FcontFULL.sort_values(by=['force'], ascending=False)\n",
        "subset_panda_results5['merge']=subset_panda_results5.tf+'-'+subset_panda_results5.gene\n",
        "\n",
        "# Panda_Fcase.panda_results = pd.DataFrame(Panda_Fcase.export_panda_results, columns=['tf','gene','motif','force'])\n",
        "subset_panda_results6 = Panda_FcaseFULL.sort_values(by=['force'], ascending=False)\n",
        "subset_panda_results6['merge']=subset_panda_results6.tf+'-'+subset_panda_results6.gene\n",
        "\n",
        "zzz=subset_panda_results5.merge(subset_panda_results6, left_on='merge', right_on='merge')\n",
        "\n",
        "del [[subset_panda_results5, subset_panda_results6]]\n",
        "gc.collect()\n",
        "subset_panda_results5=pd.DataFrame()\n",
        "subset_panda_results6=pd.DataFrame()\n",
        "\n",
        "zzz['diff']=zzz.force_x-zzz.force_y\n",
        "zzz = zzz.sort_values(by ='diff' )\n",
        "\n",
        "zzzz=zzz[np.abs(zzz['diff'])>2]\n",
        "del [[zzz]]\n",
        "gc.collect()\n",
        "zzz=pd.DataFrame()\n",
        "\n",
        "\n",
        "# len(pd.unique(zzzz['tf_x']))\n",
        "# import seaborn as sns\n",
        "# plt.figure(figsize=(62, 50))\n",
        "\n",
        "# g=sns.barplot(x=\"diff\", y=\"merge\", data=zzzz)\n",
        "# g.set(xlim=(-6.5, 6.5))\n",
        "# zzzz.to_csv('female_caVco.txt')\n",
        "# pd.DataFrame([pd.unique(zzzz['tf_x']),pd.unique(zzzz['gene_x'])]).to_csv('drive/My Drive/unqiue_femaleFULL_caVco.txt',sep='\\t',header=None,index=None)"
      ],
      "execution_count": null,
      "outputs": []
    },
    {
      "cell_type": "code",
      "metadata": {
        "colab_type": "code",
        "id": "UjrBryTXJBd7",
        "colab": {}
      },
      "source": [
        "del [[Panda_FcontFULL,Panda_FcaseFULL]]\n",
        "gc.collect()\n",
        "Panda_FcontFULL=pd.DataFrame()\n",
        "Panda_FcaseFULL=pd.DataFrame()"
      ],
      "execution_count": null,
      "outputs": []
    },
    {
      "cell_type": "code",
      "metadata": {
        "id": "OJbhEiJMIr8J",
        "colab_type": "code",
        "colab": {}
      },
      "source": [
        "# panda_obj4.panda_results = pd.DataFrame(panda_obj4.export_panda_results, columns=['tf','gene','motif','force'])\n",
        "subset_panda_results4 = Panda_Mcase.sort_values(by=['force'], ascending=False)\n",
        "subset_panda_results4['merge']=subset_panda_results4.tf+'-'+subset_panda_results4.gene\n",
        "\n",
        "# panda_obj2.panda_results = pd.DataFrame(Panda_Mcont.export_panda_results, columns=['tf','gene','motif','force'])\n",
        "subset_panda_results2 = Panda_Mcont.sort_values(by=['force'], ascending=False)\n",
        "subset_panda_results2['merge']=subset_panda_results2.tf+'-'+subset_panda_results2.gene\n",
        "\n",
        "ww=subset_panda_results4.merge(subset_panda_results2, left_on='merge', right_on='merge')\n",
        "\n",
        "del [[subset_panda_results4, subset_panda_results2]]\n",
        "gc.collect()\n",
        "subset_panda_results4=pd.DataFrame()\n",
        "subset_panda_results2=pd.DataFrame()\n",
        "\n",
        "ww['diff']=ww.force_x-ww.force_y\n",
        "ww = ww.sort_values(by ='diff' )\n",
        "pppp=ww[np.abs(ww['diff'])>2]\n",
        "\n",
        "del [[ww]]\n",
        "gc.collect()\n",
        "ww=pd.DataFrame()\n",
        "\n",
        "# zzzz\n",
        "# len(pd.unique(zzzz['gene_x']))\n",
        "# import seaborn as sns\n",
        "# plt.figure(figsize=(12, 30))\n",
        "\n",
        "# g=sns.barplot(x=\"diff\", y=\"merge\", data=zzzz)\n",
        "# g.set(xlim=(-4.5, 4.5))\n",
        "# zzzz.to_csv('male_caVco.txt')\n",
        "# [pd.unique(zzzz['tf_x']),pd.unique(zzzz['gene_x'])]\n",
        "# pd.DataFrame([pd.unique(zzzz['tf_x']),pd.unique(zzzz['gene_x'])]).to_csv('drive/My Drive/unqiue_male_caVco.txt',sep='\\t',header=None,index=None)"
      ],
      "execution_count": null,
      "outputs": []
    },
    {
      "cell_type": "code",
      "metadata": {
        "id": "venv2-eDJBOh",
        "colab_type": "code",
        "colab": {}
      },
      "source": [
        "del [[Panda_Mcont,Panda_Mcase]]\n",
        "gc.collect()\n",
        "Panda_Mcont=pd.DataFrame()\n",
        "Panda_Mcase=pd.DataFrame()"
      ],
      "execution_count": null,
      "outputs": []
    },
    {
      "cell_type": "markdown",
      "metadata": {
        "id": "UEX46Yd--6me",
        "colab_type": "text"
      },
      "source": [
        "Female V Female Full"
      ]
    },
    {
      "cell_type": "code",
      "metadata": {
        "id": "NiN5Xg7cuWFH",
        "colab_type": "code",
        "colab": {}
      },
      "source": [
        "sexdiff=wwww.merge(zzzz,left_on='merge', right_on='merge')\n",
        "\n",
        "plt.figure(figsize=(6, 15))\n",
        "sexdiff['sexdiff']=sexdiff['diff_x']-sexdiff['diff_y']\n",
        "sexdiff=sexdiff.sort_values(by=['sexdiff'])\n",
        "sns.barplot(data=sexdiff,x='sexdiff',y='merge')\n",
        "# g=sns.barplot(x=\"diff\", y=\"merge\", data=wwww)\n",
        "# g.set(xlim=(-4.5, 4.5))"
      ],
      "execution_count": null,
      "outputs": []
    },
    {
      "cell_type": "markdown",
      "metadata": {
        "id": "_pYbOHDK-5Qx",
        "colab_type": "text"
      },
      "source": [
        "Female FULL V Male"
      ]
    },
    {
      "cell_type": "code",
      "metadata": {
        "id": "WGT5Aq2ewbWY",
        "colab_type": "code",
        "colab": {}
      },
      "source": [
        "sexdiff=zzzz.merge(pppp,left_on='merge', right_on='merge')\n",
        "\n",
        "plt.figure(figsize=(6, 15))\n",
        "sexdiff['sexdiff']=sexdiff['diff_x']-sexdiff['diff_y']\n",
        "sexdiff=sexdiff.sort_values(by=['sexdiff'])\n",
        "sns.barplot(data=sexdiff,x='sexdiff',y='merge')\n",
        "# g=sns.barplot(x=\"diff\", y=\"merge\", data=wwww)\n",
        "# g.set(xlim=(-4.5, 4.5))"
      ],
      "execution_count": null,
      "outputs": []
    },
    {
      "cell_type": "markdown",
      "metadata": {
        "id": "kZ45sFdT-2Uu",
        "colab_type": "text"
      },
      "source": [
        "Female V Male"
      ]
    },
    {
      "cell_type": "code",
      "metadata": {
        "id": "GAzaKfBlA3b1",
        "colab_type": "code",
        "colab": {}
      },
      "source": [
        "sexdiff=wwww.merge(pppp,left_on='merge', right_on='merge')\n",
        "\n",
        "plt.figure(figsize=(6, 15))\n",
        "sexdiff['sexdiff']=sexdiff['diff_x']-sexdiff['diff_y']\n",
        "sexdiff=sexdiff.sort_values(by=['sexdiff'])\n",
        "sns.barplot(data=sexdiff,x='sexdiff',y='merge')\n",
        "# g=sns.barplot(x=\"diff\", y=\"merge\", data=wwww)\n",
        "# g.set(xlim=(-4.5, 4.5))"
      ],
      "execution_count": null,
      "outputs": []
    },
    {
      "cell_type": "code",
      "metadata": {
        "id": "-nUBcr0u2ywW",
        "colab_type": "code",
        "colab": {}
      },
      "source": [
        "from scipy.stats import zscore"
      ],
      "execution_count": null,
      "outputs": []
    },
    {
      "cell_type": "code",
      "metadata": {
        "id": "jiqOsFA1-_k-",
        "colab_type": "code",
        "colab": {}
      },
      "source": [
        "PZ=pd.DataFrame()\n",
        "PZ['TF']=Panda_FcontFULL['tf']\n",
        "PZ['gene']=Panda_FcontFULL['gene']\n",
        "Panda_FcontFULL['force']=Panda_FcontFULL['force'].astype('float')\n",
        "numeric_cols = Panda_FcontFULL.select_dtypes(include=[np.number]).columns\n",
        "PZ['FcoF']=Panda_FcontFULL[numeric_cols].apply(zscore)\n",
        "\n",
        "Panda_FcaseFULL['force']=Panda_FcaseFULL['force'].astype('float')\n",
        "numeric_cols = Panda_FcaseFULL.select_dtypes(include=[np.number]).columns\n",
        "PZ['FcaF']=Panda_FcaseFULL[numeric_cols].apply(zscore)\n",
        "\n",
        "Panda_Mcont['force']=Panda_Mcont['force'].astype('float')\n",
        "numeric_cols = Panda_Mcont.select_dtypes(include=[np.number]).columns\n",
        "PZ['Mco']=Panda_Mcont[numeric_cols].apply(zscore)\n",
        "\n",
        "Panda_Mcase['force']=Panda_Mcase['force'].astype('float')\n",
        "numeric_cols = Panda_Mcase.select_dtypes(include=[np.number]).columns\n",
        "PZ['Mca']=Panda_Mcase[numeric_cols].apply(zscore)"
      ],
      "execution_count": null,
      "outputs": []
    },
    {
      "cell_type": "code",
      "metadata": {
        "id": "E1V2vEP_D8ZS",
        "colab_type": "code",
        "colab": {}
      },
      "source": [
        "PZZ=pd.DataFrame()\n",
        "PZZ['TF']=Panda_Fcont['tf']\n",
        "PZZ['gene']=Panda_Fcont['gene']\n",
        "Panda_Fcont['force']=Panda_Fcont['force'].astype('float')\n",
        "numeric_cols = Panda_Fcont.select_dtypes(include=[np.number]).columns\n",
        "PZZ['Fco']=Panda_Fcont[numeric_cols].apply(zscore)\n",
        "\n",
        "Panda_Fcase['force']=Panda_Fcase['force'].astype('float')\n",
        "numeric_cols = Panda_Fcase.select_dtypes(include=[np.number]).columns\n",
        "PZZ['Fca']=Panda_Fcase[numeric_cols].apply(zscore)"
      ],
      "execution_count": null,
      "outputs": []
    },
    {
      "cell_type": "code",
      "metadata": {
        "id": "RomNRxjdEEVB",
        "colab_type": "code",
        "colab": {}
      },
      "source": [
        "PZZZ=PZ.merge(PZZ,how='outer',left_on=['TF','gene'],right_on=['TF','gene'])"
      ],
      "execution_count": null,
      "outputs": []
    },
    {
      "cell_type": "code",
      "metadata": {
        "id": "MycpcVy0EeTG",
        "colab_type": "code",
        "colab": {}
      },
      "source": [
        "PZZZ"
      ],
      "execution_count": null,
      "outputs": []
    },
    {
      "cell_type": "code",
      "metadata": {
        "id": "guA9oaQoER3S",
        "colab_type": "code",
        "colab": {}
      },
      "source": [
        "PZZZ.dropna(how='any')"
      ],
      "execution_count": null,
      "outputs": []
    },
    {
      "cell_type": "code",
      "metadata": {
        "id": "nBhvvKoG91nf",
        "colab_type": "code",
        "colab": {}
      },
      "source": [
        "PZZZ.to_csv('drive/My Drive/Panda_zscore_6sex.txt',sep='\\t',index=True,header=False)"
      ],
      "execution_count": null,
      "outputs": []
    },
    {
      "cell_type": "code",
      "metadata": {
        "id": "TCf27_DP-PmI",
        "colab_type": "code",
        "colab": {}
      },
      "source": [
        "pd.read_csv('drive/My Drive/Panda_zscore_6sex.txt',sep='\\t',index=True,header=False)"
      ],
      "execution_count": null,
      "outputs": []
    },
    {
      "cell_type": "code",
      "metadata": {
        "id": "i-06id13Dk9X",
        "colab_type": "code",
        "colab": {}
      },
      "source": [
        "PZ=PZZZ\n",
        "PZ['FFdiff']=PZ['FcoF']-PZ['FcaF']\n",
        "PZ['Fdiff']=PZ['Fco']-PZ['Fca']\n",
        "PZ['Mdiff']=PZ['Mco']-PZ['Mca']\n",
        "PZ"
      ],
      "execution_count": null,
      "outputs": []
    },
    {
      "cell_type": "code",
      "metadata": {
        "id": "F36K9WRzBvEx",
        "colab_type": "code",
        "colab": {}
      },
      "source": [
        "a=plt.hist(PZ['FFdiff'],log=True,alpha=.5,bins=100)\n",
        "# a=plt.hist(PZ['Fdiff'],log=True,alpha=.5,bins=100)\n",
        "a=plt.hist(PZ['Mdiff'],log=True,alpha=.5,bins=100)"
      ],
      "execution_count": null,
      "outputs": []
    },
    {
      "cell_type": "code",
      "metadata": {
        "id": "4IVVg5SGDbJE",
        "colab_type": "code",
        "colab": {}
      },
      "source": [
        "sum((pd.unique(PZ[np.abs(PZ['FFdiff'])>2]['TF']))==(pd.unique(PZ[np.abs(PZ['Fdiff'])>2]['TF'])))"
      ],
      "execution_count": null,
      "outputs": []
    },
    {
      "cell_type": "code",
      "metadata": {
        "id": "Mc0CpXeZMdXs",
        "colab_type": "code",
        "colab": {}
      },
      "source": [
        "pd.unique(PZ[(PZ['FFdiff'])>2]['TF'])"
      ],
      "execution_count": null,
      "outputs": []
    },
    {
      "cell_type": "code",
      "metadata": {
        "id": "hXnJhZ7nMgrY",
        "colab_type": "code",
        "colab": {}
      },
      "source": [
        "pd.unique(PZ[(PZ['FFdiff'])<-2]['TF'])"
      ],
      "execution_count": null,
      "outputs": []
    },
    {
      "cell_type": "code",
      "metadata": {
        "id": "rNIWiqvhGPHW",
        "colab_type": "code",
        "colab": {}
      },
      "source": [
        "(pd.unique(PZ[(PZ['Mdiff'])>2]['TF'])).shape"
      ],
      "execution_count": null,
      "outputs": []
    },
    {
      "cell_type": "code",
      "metadata": {
        "id": "M1Qd1k8rHqVZ",
        "colab_type": "code",
        "colab": {}
      },
      "source": [
        "(pd.unique(PZ[(PZ['Mdiff'])<-2]['TF']))"
      ],
      "execution_count": null,
      "outputs": []
    },
    {
      "cell_type": "code",
      "metadata": {
        "id": "J25JXfjzGark",
        "colab_type": "code",
        "colab": {}
      },
      "source": [
        "pd.unique(PZ[(PZ['FFdiff'])>2.5]['gene'])#)==(pd.unique(PZ[np.abs(PZ['Fdiff'])>2.5]['gene'])))"
      ],
      "execution_count": null,
      "outputs": []
    },
    {
      "cell_type": "code",
      "metadata": {
        "id": "wcnbGn37MwXE",
        "colab_type": "code",
        "colab": {}
      },
      "source": [
        "pd.unique(PZ[(PZ['FFdiff'])<-2.5]['gene'])"
      ],
      "execution_count": null,
      "outputs": []
    },
    {
      "cell_type": "code",
      "metadata": {
        "id": "0pFZBSHwGQfC",
        "colab_type": "code",
        "colab": {}
      },
      "source": [
        "(pd.unique(PZ[(PZ['Mdiff'])>2.5]['gene']))"
      ],
      "execution_count": null,
      "outputs": []
    },
    {
      "cell_type": "code",
      "metadata": {
        "id": "1MCfaoubGV6Y",
        "colab_type": "code",
        "colab": {}
      },
      "source": [
        "(pd.unique(PZ[(PZ['Mdiff'])<-2.5]['gene']))"
      ],
      "execution_count": null,
      "outputs": []
    },
    {
      "cell_type": "code",
      "metadata": {
        "id": "MiE77y1BJZtR",
        "colab_type": "code",
        "colab": {}
      },
      "source": [
        ""
      ],
      "execution_count": null,
      "outputs": []
    },
    {
      "cell_type": "code",
      "metadata": {
        "id": "pIyxsksZAdbC",
        "colab_type": "code",
        "colab": {}
      },
      "source": [
        ""
      ],
      "execution_count": null,
      "outputs": []
    },
    {
      "cell_type": "code",
      "metadata": {
        "id": "ZQ-0Ql7AAdd_",
        "colab_type": "code",
        "colab": {}
      },
      "source": [
        ""
      ],
      "execution_count": null,
      "outputs": []
    },
    {
      "cell_type": "markdown",
      "metadata": {
        "id": "ZwMceDgcAsQ-",
        "colab_type": "text"
      },
      "source": [
        "##negative control\n",
        "create 4 randomly chosen subsets to test difference of differences between panda nets\n",
        "\n",
        "\n",
        "\n",
        "\n",
        "\n"
      ]
    },
    {
      "cell_type": "code",
      "metadata": {
        "id": "_83c902HY_3M",
        "colab_type": "code",
        "colab": {}
      },
      "source": [
        ""
      ],
      "execution_count": null,
      "outputs": []
    },
    {
      "cell_type": "code",
      "metadata": {
        "id": "TEElcJ6vcl5G",
        "colab_type": "code",
        "colab": {}
      },
      "source": [
        "!pip install GEOparse\n",
        "import GEOparse\n",
        "gse = GEOparse.get_GEO(geo=\"GSE76925\", destdir=\"./\")\n",
        "illumina_labels=pd.read_csv('drive/My Drive/Colab Notebooks dcm/GPL10558_illumina_prb_loc.txt',sep='\\t',index_col=0,header=None,names=['loc','symbol'])\n",
        "\n",
        "gpl = gse.gpls[next(iter(gse.gpls))]\n",
        "data = gse.pivot_samples(values=\"VALUE\")#, gpl=gpl, annotation_column=\"Symbol\")\n",
        "data.sort_index\n",
        "\n",
        "LCL_ppi=pd.read_csv('https://granddb.s3.amazonaws.com/optPANDA/ppi/ppi_complete.txt',sep='\\t',header=None)\n",
        "LCL_ppi.to_csv('ppi_complete.txt',sep='\\t',index=False,header=False)\n",
        "\n",
        "coding_LCL_motif=pd.read_csv('https://granddb.s3.amazonaws.com/optPANDA/motifs/Hugo_motifCellLine.txt',sep='\\t',header=None)\n",
        "coding_LCL_motif.to_csv('coding_LCL_motif.txt',sep='\\t',index=False,header=False)\n",
        "\n",
        "motif_data='coding_LCL_motif.txt'\n",
        "ppi_data='ppi_complete.txt'\n",
        "\n",
        "# plt.hist(nullA.values.flatten(),alpha=.5,log=True)\n",
        "# plt.hist(nullB.values.flatten(),alpha=.5,log=True)\n",
        "# plt.hist(nullC.values.flatten(),alpha=.5,log=True)\n",
        "# plt.hist(nullD.values.flatten(),alpha=.5,log=True)\n",
        "# plt.xlabel('test')\n"
      ],
      "execution_count": 7,
      "outputs": []
    },
    {
      "cell_type": "code",
      "metadata": {
        "id": "4WnPt-M_dlax",
        "colab_type": "code",
        "colab": {}
      },
      "source": [
        "null=data.merge(illumina_labels,left_index=True,right_index=True)\n",
        "null.index=null['symbol']\n",
        "del null['loc'], null['symbol']"
      ],
      "execution_count": 8,
      "outputs": []
    },
    {
      "cell_type": "markdown",
      "metadata": {
        "id": "DlMAKsEjcm56",
        "colab_type": "text"
      },
      "source": [
        "function to run negative control 1000x"
      ]
    },
    {
      "cell_type": "code",
      "metadata": {
        "id": "wS_rwFkacl74",
        "colab_type": "code",
        "colab": {
          "base_uri": "https://localhost:8080/",
          "height": 450
        },
        "outputId": "81416054-846b-4284-e528-484038d3788b"
      },
      "source": [
        "def negCont(nullA,nullB,i):\n",
        "  panda_nullA = Panda(nullA, motif_data, ppi_data,computing='gpu',precision='single',save_tmp=False,save_memory = False, remove_missing=False, keep_expression_matrix = True,modeProcess = 'intersection')\n",
        "  # np.save('drive/My Drive/Panda_nullA.npy',panda_nullA.export_panda_results)\n",
        "  # @blockPrinting\n",
        "  panda_nullB = Panda(nullB, motif_data, ppi_data,computing='gpu',precision='single',save_tmp=False,save_memory = False, remove_missing=False, keep_expression_matrix = True,modeProcess = 'intersection')\n",
        "  # np.save('drive/My Drive/Panda_nullB.npy',panda_nullB.export_panda_results)\n",
        "\n",
        "  subset_panda_results3 = panda_nullA.export_panda_results.sort_values(by=['force'], ascending=False)\n",
        "  subset_panda_results1 = panda_nullB.export_panda_results.sort_values(by=['force'], ascending=False)\n",
        "  del subset_panda_results3['motif'],subset_panda_results1['motif']\n",
        "  del panda_nullA, panda_nullB\n",
        "\n",
        "  ##aggregate TF link sum and zscore\n",
        "  TFsum_3=subset_panda_results3.groupby(['tf']).agg({'force':sum})\n",
        "  TFsum_1=subset_panda_results1.groupby(['tf']).agg({'force':sum})\n",
        "  TFsum_1['force']=zscore(TFsum_1['force'])\n",
        "  TFsum_3['force']=zscore(TFsum_3['force'])\n",
        "\n",
        "  ##aggregate gene link sum and zscore\n",
        "  geneSum_3=subset_panda_results3.groupby(['gene']).agg({'force':sum})\n",
        "  geneSum_1=subset_panda_results1.groupby(['gene']).agg({'force':sum})\n",
        "  geneSum_3['force']=zscore(geneSum_3['force'])\n",
        "  geneSum_1['force']=zscore(geneSum_1['force'])\n",
        "\n",
        "  ##merge\n",
        "  nnn=TFsum_3.merge(TFsum_1, left_on=['tf'], right_on=['tf'])\n",
        "  nnnn=geneSum_3.merge(geneSum_1, left_on=['gene'], right_on=['gene'])\n",
        "\n",
        "  del [[subset_panda_results3, subset_panda_results1]]\n",
        "  gc.collect()\n",
        "  subset_panda_results3=pd.DataFrame()\n",
        "  subset_panda_results1=pd.DataFrame()\n",
        "\n",
        "  ##diff\n",
        "  nnn['diff']=nnn.force_x-nnn.force_y\n",
        "  # nnn = nnn.sort_values(by ='diff' )\n",
        "  del nnn['force_x'], nnn['force_y']\n",
        "  nnn=nnn.sort_index(axis=0)\n",
        "  nnn=nnn.T\n",
        "  nnnn['diff']=nnnn.force_x-nnnn.force_y\n",
        "  # nnnn = nnnn.sort_values(by ='diff' )\n",
        "  del nnnn['force_x'], nnnn['force_y']\n",
        "  nnnn=nnnn.sort_index(axis=0)\n",
        "  nnnn=nnnn.T\n",
        "  if i==1:\n",
        "    nnn.to_csv('drive/My Drive/TF_zscore_rand_1000.txt',sep='\\t',header=True,index=None)\n",
        "    nnnn.to_csv('drive/My Drive/gene_zscore_rand_1000.txt',sep='\\t',header=True,index=None)\n",
        "  elif i!=1:\n",
        "    nnn.to_csv('drive/My Drive/TF_zscore_rand_1000.txt',sep='\\t',header=None,index=None,mode='a')\n",
        "    nnnn.to_csv('drive/My Drive/gene_zscore_rand_1000.txt',sep='\\t',header=None,index=None,mode='a')\n",
        "\n",
        "for i in range(1,1000):\n",
        "  ## four random group exact same size as LTCOPD cases and controls\n",
        "  null=data.merge(illumina_labels,left_index=True,right_index=True)\n",
        "  null.index=null['symbol']\n",
        "  del null['loc'], null['symbol']\n",
        "  j=np.random.choice(151, size=(67, ),replace=False) ##67 total males\n",
        "  nullA=null.iloc[:,j.tolist()] ##reduce to random 68\n",
        "  null2=null.drop(nullA.columns,axis=1) ## create second group without these 68\n",
        "\n",
        "  k=np.random.choice(j,15,replace=False) ##15 male controls\n",
        "  nullB=null.iloc[:,k.tolist()] ##take 15 of 68 for male control random\n",
        "  nullA=nullA.drop(nullB.columns,axis=1) ## remove these 15 from male cases\n",
        "\n",
        "  l=np.random.choice(null2.shape[1], size=(84, ),replace=False) ##84 total females\n",
        "  nullC=null2.iloc[:,l.tolist()] ##subset leftover from first null to 85\n",
        "  m=np.random.choice(l[l<85],25,replace=False) ##25 controls\n",
        "  nullD=nullC.iloc[:,m.tolist()] ##take 25 for female random control\n",
        "  nullC=nullC.drop(nullD.columns,axis=1)\n",
        "\n",
        "  negCont(nullA,nullB,i)\n",
        "  negCont(nullC,nullD,i+1)\n",
        "\n",
        "  print('saved iteration='+str(i))"
      ],
      "execution_count": 43,
      "outputs": [
        {
          "output_type": "error",
          "ename": "KeyboardInterrupt",
          "evalue": "ignored",
          "traceback": [
            "\u001b[0;31m---------------------------------------------------------------------------\u001b[0m",
            "\u001b[0;31mKeyboardInterrupt\u001b[0m                         Traceback (most recent call last)",
            "\u001b[0;32m<ipython-input-43-ace2d91d746d>\u001b[0m in \u001b[0;36m<module>\u001b[0;34m()\u001b[0m\n\u001b[1;32m     24\u001b[0m   \u001b[0;31m# np.save('drive/My Drive/Panda_nullA.npy',panda_nullA.export_panda_results)\u001b[0m\u001b[0;34m\u001b[0m\u001b[0;34m\u001b[0m\u001b[0;34m\u001b[0m\u001b[0m\n\u001b[1;32m     25\u001b[0m   \u001b[0;31m# @blockPrinting\u001b[0m\u001b[0;34m\u001b[0m\u001b[0;34m\u001b[0m\u001b[0;34m\u001b[0m\u001b[0m\n\u001b[0;32m---> 26\u001b[0;31m   \u001b[0mpanda_nullB\u001b[0m \u001b[0;34m=\u001b[0m \u001b[0mPanda\u001b[0m\u001b[0;34m(\u001b[0m\u001b[0;34m'nullB.txt'\u001b[0m\u001b[0;34m,\u001b[0m \u001b[0mmotif_data\u001b[0m\u001b[0;34m,\u001b[0m \u001b[0mppi_data\u001b[0m\u001b[0;34m,\u001b[0m\u001b[0mcomputing\u001b[0m\u001b[0;34m=\u001b[0m\u001b[0;34m'gpu'\u001b[0m\u001b[0;34m,\u001b[0m\u001b[0mprecision\u001b[0m\u001b[0;34m=\u001b[0m\u001b[0;34m'single'\u001b[0m\u001b[0;34m,\u001b[0m\u001b[0msave_tmp\u001b[0m\u001b[0;34m=\u001b[0m\u001b[0;32mFalse\u001b[0m\u001b[0;34m,\u001b[0m\u001b[0msave_memory\u001b[0m \u001b[0;34m=\u001b[0m \u001b[0;32mFalse\u001b[0m\u001b[0;34m,\u001b[0m \u001b[0mremove_missing\u001b[0m\u001b[0;34m=\u001b[0m\u001b[0;32mFalse\u001b[0m\u001b[0;34m,\u001b[0m \u001b[0mkeep_expression_matrix\u001b[0m \u001b[0;34m=\u001b[0m \u001b[0;32mTrue\u001b[0m\u001b[0;34m,\u001b[0m\u001b[0mmodeProcess\u001b[0m \u001b[0;34m=\u001b[0m \u001b[0;34m'intersection'\u001b[0m\u001b[0;34m)\u001b[0m\u001b[0;34m\u001b[0m\u001b[0;34m\u001b[0m\u001b[0m\n\u001b[0m\u001b[1;32m     27\u001b[0m   \u001b[0;31m# np.save('drive/My Drive/Panda_nullB.npy',panda_nullB.export_panda_results)\u001b[0m\u001b[0;34m\u001b[0m\u001b[0;34m\u001b[0m\u001b[0;34m\u001b[0m\u001b[0m\n\u001b[1;32m     28\u001b[0m \u001b[0;34m\u001b[0m\u001b[0m\n",
            "\u001b[0;32m/content/netZooPy/netZooPy/panda/panda.py\u001b[0m in \u001b[0;36m__init__\u001b[0;34m(self, expression_file, motif_file, ppi_file, computing, precision, save_memory, save_tmp, remove_missing, keep_expression_matrix, modeProcess)\u001b[0m\n\u001b[1;32m     90\u001b[0m         \"\"\"\n\u001b[1;32m     91\u001b[0m         \u001b[0;31m# Read data\u001b[0m\u001b[0;34m\u001b[0m\u001b[0;34m\u001b[0m\u001b[0;34m\u001b[0m\u001b[0m\n\u001b[0;32m---> 92\u001b[0;31m         \u001b[0mself\u001b[0m\u001b[0;34m.\u001b[0m\u001b[0mprocessData\u001b[0m\u001b[0;34m(\u001b[0m\u001b[0mmodeProcess\u001b[0m\u001b[0;34m,\u001b[0m \u001b[0mmotif_file\u001b[0m\u001b[0;34m,\u001b[0m \u001b[0mexpression_file\u001b[0m\u001b[0;34m,\u001b[0m \u001b[0mppi_file\u001b[0m\u001b[0;34m,\u001b[0m \u001b[0mremove_missing\u001b[0m\u001b[0;34m,\u001b[0m \u001b[0mkeep_expression_matrix\u001b[0m\u001b[0;34m)\u001b[0m\u001b[0;34m\u001b[0m\u001b[0;34m\u001b[0m\u001b[0m\n\u001b[0m\u001b[1;32m     93\u001b[0m         \u001b[0;32mif\u001b[0m \u001b[0mhasattr\u001b[0m\u001b[0;34m(\u001b[0m\u001b[0mself\u001b[0m\u001b[0;34m,\u001b[0m \u001b[0;34m'export_panda_results'\u001b[0m\u001b[0;34m)\u001b[0m\u001b[0;34m:\u001b[0m\u001b[0;34m\u001b[0m\u001b[0;34m\u001b[0m\u001b[0m\n\u001b[1;32m     94\u001b[0m             \u001b[0;32mreturn\u001b[0m\u001b[0;34m\u001b[0m\u001b[0;34m\u001b[0m\u001b[0m\n",
            "\u001b[0;32m/content/netZooPy/netZooPy/panda/panda.py\u001b[0m in \u001b[0;36mprocessData\u001b[0;34m(self, modeProcess, motif_file, expression_file, ppi_file, remove_missing, keep_expression_matrix)\u001b[0m\n\u001b[1;32m    322\u001b[0m             \u001b[0midx_tfs\u001b[0m \u001b[0;34m=\u001b[0m \u001b[0;34m[\u001b[0m\u001b[0mtf2idx\u001b[0m\u001b[0;34m.\u001b[0m\u001b[0mget\u001b[0m\u001b[0;34m(\u001b[0m\u001b[0mx\u001b[0m\u001b[0;34m,\u001b[0m \u001b[0;36m0\u001b[0m\u001b[0;34m)\u001b[0m \u001b[0;32mfor\u001b[0m \u001b[0mx\u001b[0m \u001b[0;32min\u001b[0m \u001b[0mself\u001b[0m\u001b[0;34m.\u001b[0m\u001b[0mmotif_data\u001b[0m\u001b[0;34m[\u001b[0m\u001b[0;36m0\u001b[0m\u001b[0;34m]\u001b[0m\u001b[0;34m]\u001b[0m\u001b[0;34m\u001b[0m\u001b[0;34m\u001b[0m\u001b[0m\n\u001b[1;32m    323\u001b[0m             \u001b[0midx_genes\u001b[0m \u001b[0;34m=\u001b[0m \u001b[0;34m[\u001b[0m\u001b[0mgene2idx\u001b[0m\u001b[0;34m.\u001b[0m\u001b[0mget\u001b[0m\u001b[0;34m(\u001b[0m\u001b[0mx\u001b[0m\u001b[0;34m,\u001b[0m \u001b[0;36m0\u001b[0m\u001b[0;34m)\u001b[0m \u001b[0;32mfor\u001b[0m \u001b[0mx\u001b[0m \u001b[0;32min\u001b[0m \u001b[0mself\u001b[0m\u001b[0;34m.\u001b[0m\u001b[0mmotif_data\u001b[0m\u001b[0;34m[\u001b[0m\u001b[0;36m1\u001b[0m\u001b[0;34m]\u001b[0m\u001b[0;34m]\u001b[0m\u001b[0;34m\u001b[0m\u001b[0;34m\u001b[0m\u001b[0m\n\u001b[0;32m--> 324\u001b[0;31m             \u001b[0midx\u001b[0m \u001b[0;34m=\u001b[0m \u001b[0mnp\u001b[0m\u001b[0;34m.\u001b[0m\u001b[0mravel_multi_index\u001b[0m\u001b[0;34m(\u001b[0m\u001b[0;34m(\u001b[0m\u001b[0midx_tfs\u001b[0m\u001b[0;34m,\u001b[0m \u001b[0midx_genes\u001b[0m\u001b[0;34m)\u001b[0m\u001b[0;34m,\u001b[0m \u001b[0mself\u001b[0m\u001b[0;34m.\u001b[0m\u001b[0mmotif_matrix_unnormalized\u001b[0m\u001b[0;34m.\u001b[0m\u001b[0mshape\u001b[0m\u001b[0;34m)\u001b[0m\u001b[0;34m\u001b[0m\u001b[0;34m\u001b[0m\u001b[0m\n\u001b[0m\u001b[1;32m    325\u001b[0m             \u001b[0mself\u001b[0m\u001b[0;34m.\u001b[0m\u001b[0mmotif_matrix_unnormalized\u001b[0m\u001b[0;34m.\u001b[0m\u001b[0mravel\u001b[0m\u001b[0;34m(\u001b[0m\u001b[0;34m)\u001b[0m\u001b[0;34m[\u001b[0m\u001b[0midx\u001b[0m\u001b[0;34m]\u001b[0m \u001b[0;34m=\u001b[0m \u001b[0mself\u001b[0m\u001b[0;34m.\u001b[0m\u001b[0mmotif_data\u001b[0m\u001b[0;34m[\u001b[0m\u001b[0;36m2\u001b[0m\u001b[0;34m]\u001b[0m\u001b[0;34m\u001b[0m\u001b[0;34m\u001b[0m\u001b[0m\n\u001b[1;32m    326\u001b[0m \u001b[0;34m\u001b[0m\u001b[0m\n",
            "\u001b[0;32m<__array_function__ internals>\u001b[0m in \u001b[0;36mravel_multi_index\u001b[0;34m(*args, **kwargs)\u001b[0m\n",
            "\u001b[0;31mKeyboardInterrupt\u001b[0m: "
          ]
        }
      ]
    },
    {
      "cell_type": "code",
      "metadata": {
        "id": "aCNjdWgB9uAk",
        "colab_type": "code",
        "colab": {}
      },
      "source": [
        ""
      ],
      "execution_count": null,
      "outputs": []
    }
  ]
}