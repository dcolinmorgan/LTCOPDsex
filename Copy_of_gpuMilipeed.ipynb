{
  "nbformat": 4,
  "nbformat_minor": 0,
  "metadata": {
    "colab": {
      "name": "Copy of gpuMilipeed.ipynb",
      "provenance": [],
      "collapsed_sections": [],
      "machine_shape": "hm",
      "include_colab_link": true
    },
    "kernelspec": {
      "name": "python3",
      "display_name": "Python 3"
    },
    "accelerator": "GPU"
  },
  "cells": [
    {
      "cell_type": "markdown",
      "metadata": {
        "id": "view-in-github",
        "colab_type": "text"
      },
      "source": [
        "<a href=\"https://colab.research.google.com/github/dcolinmorgan/LTCOPDsex/blob/master/Copy_of_gpuMilipeed.ipynb\" target=\"_parent\"><img src=\"https://colab.research.google.com/assets/colab-badge.svg\" alt=\"Open In Colab\"/></a>"
      ]
    },
    {
      "cell_type": "code",
      "metadata": {
        "id": "PWuPbSuG91Xv",
        "colab_type": "code",
        "colab": {}
      },
      "source": [
        "import os\n",
        "import s3fs\n",
        "import pandas as pd\n",
        "import numpy as np\n",
        "from psutil import *"
      ],
      "execution_count": null,
      "outputs": []
    },
    {
      "cell_type": "code",
      "metadata": {
        "id": "OzVwQFBH92TO",
        "colab_type": "code",
        "colab": {
          "base_uri": "https://localhost:8080/",
          "height": 124
        },
        "outputId": "48e05b33-20c3-4822-d8c6-e78bd0303eff"
      },
      "source": [
        "!pip install cupy-cuda101==7.4.0\n",
        "import cupy as cp\n",
        "# print(cp.__version__)\n",
        "!pip freeze | grep cupy"
      ],
      "execution_count": null,
      "outputs": [
        {
          "output_type": "stream",
          "text": [
            "Requirement already satisfied: cupy-cuda101==7.4.0 in /usr/local/lib/python3.6/dist-packages (7.4.0)\n",
            "Requirement already satisfied: six>=1.9.0 in /usr/local/lib/python3.6/dist-packages (from cupy-cuda101==7.4.0) (1.12.0)\n",
            "Requirement already satisfied: numpy>=1.9.0 in /usr/local/lib/python3.6/dist-packages (from cupy-cuda101==7.4.0) (1.18.5)\n",
            "Requirement already satisfied: fastrlock>=0.3 in /usr/local/lib/python3.6/dist-packages (from cupy-cuda101==7.4.0) (0.5)\n",
            "cupy-cuda101==7.4.0\n"
          ],
          "name": "stdout"
        }
      ]
    },
    {
      "cell_type": "code",
      "metadata": {
        "id": "3GovW9SCYkTt",
        "colab_type": "code",
        "colab": {}
      },
      "source": [
        "# !rm -rf netZooPy"
      ],
      "execution_count": null,
      "outputs": []
    },
    {
      "cell_type": "code",
      "metadata": {
        "id": "1YH2WsWI_VJ8",
        "colab_type": "code",
        "colab": {}
      },
      "source": [
        "# !git clone https://github.com/netZoo/netZooPy.git\n",
        "!git clone --single-branch --branch milipeed https://github.com/dcolinmorgan/netZooPy.git\n",
        "os.chdir('netZooPy')\n",
        "!pip install -e ./"
      ],
      "execution_count": null,
      "outputs": []
    },
    {
      "cell_type": "code",
      "metadata": {
        "id": "JzalsogzY_bR",
        "colab_type": "code",
        "colab": {}
      },
      "source": [
        "# from importlib import reload  \n",
        "# reload(netZooPy)"
      ],
      "execution_count": null,
      "outputs": []
    },
    {
      "cell_type": "code",
      "metadata": {
        "id": "atbUTAbP_VNg",
        "colab_type": "code",
        "colab": {}
      },
      "source": [
        "import netZooPy\n",
        "from netZooPy.panda import Panda\n",
        "# from netZooPy.lioness import Lioness\n",
        "from netZooPy.milipeed import Milipeed\n",
        "os.chdir('..')"
      ],
      "execution_count": null,
      "outputs": []
    },
    {
      "cell_type": "code",
      "metadata": {
        "id": "GazyQALYKWCx",
        "colab_type": "code",
        "colab": {}
      },
      "source": [
        "# !pip install GEOparse"
      ],
      "execution_count": null,
      "outputs": []
    },
    {
      "cell_type": "code",
      "metadata": {
        "id": "TvWCvp-k-4cf",
        "colab_type": "code",
        "colab": {}
      },
      "source": [
        "# https://geoparse.readthedocs.io/en/latest/Analyse_hsa-miR-124a-3p_transfection_time-course.html#\n",
        "# import GEOparse\n",
        "# gsem = GEOparse.get_GEO(geo=\"GSE92511\", destdir=\"./\")\n",
        "# gsem = GEOparse.get_GEO(filepath=\"GSE92511_family.soft.gz\")\n",
        "\n",
        "##expression\n",
        "# gsee = GEOparse.get_GEO(geo=\"GSE76925\", destdir=\"./\")\n",
        "# gsee = GEOparse.get_GEO(filepath=\"GSE76925_family.soft.gz\")"
      ],
      "execution_count": null,
      "outputs": []
    },
    {
      "cell_type": "code",
      "metadata": {
        "id": "pAyp3WRs_Isv",
        "colab_type": "code",
        "colab": {
          "base_uri": "https://localhost:8080/",
          "height": 54
        },
        "outputId": "a0227c78-fe3f-4c86-b32c-74c90302a05e"
      },
      "source": [
        "from google.colab import drive\n",
        "drive.mount('/content/drive')"
      ],
      "execution_count": null,
      "outputs": [
        {
          "output_type": "stream",
          "text": [
            "Drive already mounted at /content/drive; to attempt to forcibly remount, call drive.mount(\"/content/drive\", force_remount=True).\n"
          ],
          "name": "stdout"
        }
      ]
    },
    {
      "cell_type": "code",
      "metadata": {
        "id": "1Tj_uZOi_Ixi",
        "colab_type": "code",
        "colab": {}
      },
      "source": [
        "illumina_labels=pd.read_csv('drive/My Drive/Colab Notebooks dcm/illumina_labels.txt',sep=';',header=0)\n",
        "labels=pd.read_csv('drive/My Drive/Colab Notebooks dcm/v14bexp.txt',sep='\\t',header=0)"
      ],
      "execution_count": null,
      "outputs": []
    },
    {
      "cell_type": "code",
      "metadata": {
        "id": "NMcy1VHw_PbD",
        "colab_type": "code",
        "colab": {}
      },
      "source": [
        "# expression = gsee.pivot_samples('VALUE')\n",
        "# expression.index=illumina_labels['Gene']\n",
        "# expression=expression[expression.index.notnull()]\n",
        "# expression.columns=labels.columns[1:]"
      ],
      "execution_count": null,
      "outputs": []
    },
    {
      "cell_type": "code",
      "metadata": {
        "id": "UD1FfzL6-4f6",
        "colab_type": "code",
        "colab": {}
      },
      "source": [
        "# expression.to_csv('GPL10558.txt',sep='\\t',index=True,header=True)\n",
        "# methylation.to_csv('GSE76925.txt',sep='\\t',index=True,header=True)\n",
        "# gen_motif=pd.read_csv('https://granddb.s3.amazonaws.com/optPANDA/motifs/Hugo_motifCellLine.txt',sep='\\t',header=None)\n",
        "# gen_motif[gen_motif[2]!=0].to_csv('gen_motif.txt',sep='\\t',index=False,header=False)\n",
        "\n",
        "##current tests load files below >>\n",
        "# gen_motif=pd.read_csv('https://granddb.s3.amazonaws.com/gpuPANDA/Hugo_motifCellLine_reduced.txt',sep='\\t',header=None)\n",
        "# gen_motif[gen_motif[2]!=0].to_csv('gen_motif.txt',sep='\\t',index=False)\n",
        "# LCL_ppi=pd.read_csv('https://granddb.s3.amazonaws.com/gpuPANDA/ppi2015_freezeCellLine.txt',sep='\\t',header=None)\n",
        "# LCL_ppi.to_csv('ppi_complete.txt',sep='\\t',index=False)\n",
        "# milipeed_test_motif=pd.read_csv('drive/My Drive/Colab Notebooks dcm/milipeed_test_tr.txt',sep='\\t',header=0,index_col=0)\n",
        "# milipeed_test_motif.columns = milipeed_test_motif.columns.str.replace(\"-\", \".\")\n",
        "# milipeed_test_motif.to_csv('milipeed_test_motif.txt',sep='\\t',index=True,header=True)\n"
      ],
      "execution_count": null,
      "outputs": []
    },
    {
      "cell_type": "code",
      "metadata": {
        "id": "Qg6AorRD-4q6",
        "colab_type": "code",
        "colab": {
          "base_uri": "https://localhost:8080/",
          "height": 1000
        },
        "outputId": "2707ac7a-dc6a-47c2-f521-2866e7afc387"
      },
      "source": [
        "# milipeed_obj2=Milipeed('GPL10558.txt','milipeed_test_motif.txt','ppi_complete.txt',\n",
        "\n",
        "milipeed_obj=Milipeed(expression_file='drive/My Drive/Colab Notebooks dcm/gene_exp_v14b.txt',\n",
        "                      motif_file='gen_motif.txt',methylation_file='milipeed_test_motif.txt',ppi_file='ppi_complete.txt',\n",
        "                      map_file='netZooPy/tests/milipeed/MotifPrior_CGmap.txt',\n",
        "                      computing='gpu',save_dir='drive/My Drive/milipeed_output2/',\n",
        "                      save_fmt='npy',start=1,end=4)\n",
        "# milipeed_obj.save_milipeed_results(file='LTCOPDmilipeed_02232020.txt')\n",
        "\n"
      ],
      "execution_count": null,
      "outputs": [
        {
          "output_type": "stream",
          "text": [
            "Finding common subjects ...\n",
            "  Elapsed time: 0.08 sec.\n",
            "Number of subjects: 147\n",
            "Loading PPI data ...\n",
            "Number of PPIs: 85315\n",
            "  Elapsed time: 0.04 sec.\n",
            "Loading expression data ...\n",
            "Expression matrix: (25627, 147)\n",
            "  Elapsed time: 0.82 sec.\n",
            "Creating motif ...\n",
            "  Elapsed time: 10.61 sec.\n",
            "Number of PPIs: 85315\n",
            "Remove expression not in motif:\n",
            "   11030 rows removed from the initial 25627\n",
            "Remove motif not in expression data:\n",
            "   136859 rows removed from the initial 608404\n",
            "Remove ppi not in motif:\n",
            "   1 rows removed from the initial 85315\n",
            "(14597, 147)\n",
            "(14597, 147)\n",
            "Calculating coexpression network ...\n",
            "  Elapsed time: 2.64 sec.\n",
            "Creating motif network ...\n",
            "  Elapsed time: 0.36 sec.\n",
            "Creating PPI network ...\n",
            "  Elapsed time: 0.07 sec.\n",
            "Running MILIPEED for subject ST.01013639:\n",
            "Calculating coexpression network ...\n",
            "mem check1\n",
            "mem check2\n",
            "  Elapsed time: 9.94 sec.\n",
            "step: 0, hamming: 1.4973560003989363\n",
            "step: 1, hamming: 0.39999409316941154\n",
            "step: 2, hamming: 0.25504925084290253\n",
            "step: 3, hamming: 0.21211107649468075\n",
            "step: 4, hamming: 0.18808490971072647\n",
            "step: 5, hamming: 0.1696643082861601\n",
            "step: 6, hamming: 0.15326034067398273\n",
            "step: 7, hamming: 0.1378060722107271\n",
            "step: 8, hamming: 0.12306634657414824\n",
            "step: 9, hamming: 0.10908919437774961\n",
            "step: 10, hamming: 0.09599640113049213\n",
            "step: 11, hamming: 0.08389943583609512\n",
            "step: 12, hamming: 0.07286964382908814\n",
            "step: 13, hamming: 0.06293333997280974\n",
            "step: 14, hamming: 0.0540771683474352\n",
            "step: 15, hamming: 0.04625695313424844\n",
            "step: 16, hamming: 0.039407416899328744\n",
            "step: 17, hamming: 0.033450370408678015\n",
            "step: 18, hamming: 0.02830140178053188\n",
            "step: 19, hamming: 0.02387487550649201\n",
            "step: 20, hamming: 0.020087466969645865\n",
            "step: 21, hamming: 0.016860475975086678\n",
            "step: 22, hamming: 0.014121196461568203\n",
            "step: 23, hamming: 0.011803632542423106\n",
            "step: 24, hamming: 0.00984869098055376\n",
            "step: 25, hamming: 0.00820404571769414\n",
            "step: 26, hamming: 0.006823788174971278\n",
            "step: 27, hamming: 0.005667952565925523\n",
            "step: 28, hamming: 0.004701974222493485\n",
            "step: 29, hamming: 0.0038961290288189406\n",
            "step: 30, hamming: 0.003224981571462377\n",
            "step: 31, hamming: 0.0026668601534757656\n",
            "step: 32, hamming: 0.002203370353474197\n",
            "step: 33, hamming: 0.0018189524421416876\n",
            "step: 34, hamming: 0.001500484575384824\n",
            "step: 35, hamming: 0.0012369310600070748\n",
            "step: 36, hamming: 0.0010190335896877872\n",
            "step: 37, hamming: 0.0008390422690284668\n",
            "Running panda took: 13.84 seconds!\n",
            "Saving MILIPEED network ST.01013639 to drive/My Drive/milipeed_output2/ using npy format:\n",
            "  Elapsed time: 0.47 sec.\n",
            "Creating motif ...\n",
            "  Elapsed time: 10.93 sec.\n",
            "Number of PPIs: 85314\n",
            "Remove expression not in motif:\n",
            "   14597 rows removed from the initial 14597\n",
            "Remove motif not in expression data:\n",
            "   608404 rows removed from the initial 608404\n",
            "Remove ppi not in motif:\n",
            "   85314 rows removed from the initial 85314\n",
            "(0, 147)\n",
            "(0, 147)\n",
            "Calculating coexpression network ...\n",
            "  Elapsed time: 0.00 sec.\n",
            "Creating motif network ...\n",
            "  Elapsed time: 0.00 sec.\n"
          ],
          "name": "stdout"
        },
        {
          "output_type": "error",
          "ename": "TypeError",
          "evalue": "ignored",
          "traceback": [
            "\u001b[0;31m---------------------------------------------------------------------------\u001b[0m",
            "\u001b[0;31mTypeError\u001b[0m                                 Traceback (most recent call last)",
            "\u001b[0;32m<ipython-input-13-7fce78095074>\u001b[0m in \u001b[0;36m<module>\u001b[0;34m()\u001b[0m\n\u001b[1;32m      5\u001b[0m                       \u001b[0mmap_file\u001b[0m\u001b[0;34m=\u001b[0m\u001b[0;34m'netZooPy/tests/milipeed/MotifPrior_CGmap.txt'\u001b[0m\u001b[0;34m,\u001b[0m\u001b[0;34m\u001b[0m\u001b[0;34m\u001b[0m\u001b[0m\n\u001b[1;32m      6\u001b[0m                       \u001b[0mcomputing\u001b[0m\u001b[0;34m=\u001b[0m\u001b[0;34m'gpu'\u001b[0m\u001b[0;34m,\u001b[0m\u001b[0msave_dir\u001b[0m\u001b[0;34m=\u001b[0m\u001b[0;34m'drive/My Drive/milipeed_output2/'\u001b[0m\u001b[0;34m,\u001b[0m\u001b[0;34m\u001b[0m\u001b[0;34m\u001b[0m\u001b[0m\n\u001b[0;32m----> 7\u001b[0;31m                       save_fmt='npy',start=1,end=4)\n\u001b[0m\u001b[1;32m      8\u001b[0m \u001b[0;31m# milipeed_obj.save_milipeed_results(file='LTCOPDmilipeed_02232020.txt')\u001b[0m\u001b[0;34m\u001b[0m\u001b[0;34m\u001b[0m\u001b[0;34m\u001b[0m\u001b[0m\n\u001b[1;32m      9\u001b[0m \u001b[0;34m\u001b[0m\u001b[0m\n",
            "\u001b[0;32m/content/netZooPy/netZooPy/milipeed/milipeed.py\u001b[0m in \u001b[0;36m__init__\u001b[0;34m(self, expression_file, methylation_file, ppi_file, motif_file, map_file, computing, precision, start, end, save_dir, save_fmt)\u001b[0m\n\u001b[1;32m    157\u001b[0m \u001b[0;34m\u001b[0m\u001b[0m\n\u001b[1;32m    158\u001b[0m         \u001b[0;31m# Run MILIPEED\u001b[0m\u001b[0;34m\u001b[0m\u001b[0;34m\u001b[0m\u001b[0;34m\u001b[0m\u001b[0m\n\u001b[0;32m--> 159\u001b[0;31m         \u001b[0mself\u001b[0m\u001b[0;34m.\u001b[0m\u001b[0mtotal_milipeed_network\u001b[0m \u001b[0;34m=\u001b[0m \u001b[0mself\u001b[0m\u001b[0;34m.\u001b[0m\u001b[0mmilipeed_loop\u001b[0m\u001b[0;34m(\u001b[0m\u001b[0mb_subj\u001b[0m\u001b[0;34m,\u001b[0m\u001b[0me_subj\u001b[0m\u001b[0;34m,\u001b[0m\u001b[0mexpression_file\u001b[0m\u001b[0;34m,\u001b[0m\u001b[0mmotif_file\u001b[0m\u001b[0;34m,\u001b[0m\u001b[0mmethylation_file\u001b[0m\u001b[0;34m,\u001b[0m \u001b[0mmap_file\u001b[0m\u001b[0;34m,\u001b[0m\u001b[0mstart\u001b[0m\u001b[0;34m,\u001b[0m\u001b[0mend\u001b[0m\u001b[0;34m)\u001b[0m\u001b[0;34m\u001b[0m\u001b[0;34m\u001b[0m\u001b[0m\n\u001b[0m\u001b[1;32m    160\u001b[0m \u001b[0;34m\u001b[0m\u001b[0m\n\u001b[1;32m    161\u001b[0m         \u001b[0;31m# # create result data frame\u001b[0m\u001b[0;34m\u001b[0m\u001b[0;34m\u001b[0m\u001b[0;34m\u001b[0m\u001b[0m\n",
            "\u001b[0;32m/content/netZooPy/netZooPy/milipeed/milipeed.py\u001b[0m in \u001b[0;36mmilipeed_loop\u001b[0;34m(self, b_subj, e_subj, expression_file, motif_file, methylation_file, map_file, start, end)\u001b[0m\n\u001b[1;32m    241\u001b[0m             \u001b[0;31m#         if self.precision=='single':\u001b[0m\u001b[0;34m\u001b[0m\u001b[0;34m\u001b[0m\u001b[0;34m\u001b[0m\u001b[0m\n\u001b[1;32m    242\u001b[0m             \u001b[0;31m#             self.ppi_matrix=np.float32(self.ppi_matrix)\u001b[0m\u001b[0;34m\u001b[0m\u001b[0;34m\u001b[0m\u001b[0;34m\u001b[0m\u001b[0m\n\u001b[0;32m--> 243\u001b[0;31m             \u001b[0mself\u001b[0m\u001b[0;34m.\u001b[0m\u001b[0mprocessData\u001b[0m\u001b[0;34m(\u001b[0m\u001b[0mmodeProcess\u001b[0m\u001b[0;34m=\u001b[0m\u001b[0;34m'intersection'\u001b[0m\u001b[0;34m,\u001b[0m \u001b[0mexpression_file\u001b[0m\u001b[0;34m=\u001b[0m\u001b[0mself\u001b[0m\u001b[0;34m.\u001b[0m\u001b[0mexpression_data\u001b[0m\u001b[0;34m,\u001b[0m \u001b[0mmotif_file\u001b[0m\u001b[0;34m=\u001b[0m\u001b[0mself\u001b[0m\u001b[0;34m.\u001b[0m\u001b[0mmdata\u001b[0m\u001b[0;34m,\u001b[0m \u001b[0mppi_file\u001b[0m\u001b[0;34m=\u001b[0m\u001b[0mself\u001b[0m\u001b[0;34m.\u001b[0m\u001b[0mppi_data\u001b[0m\u001b[0;34m,\u001b[0m\u001b[0mremove_missing\u001b[0m\u001b[0;34m=\u001b[0m\u001b[0;32mTrue\u001b[0m\u001b[0;34m,\u001b[0m\u001b[0mkeep_expression_matrix\u001b[0m\u001b[0;34m=\u001b[0m\u001b[0;32mTrue\u001b[0m\u001b[0;34m)\u001b[0m\u001b[0;34m\u001b[0m\u001b[0;34m\u001b[0m\u001b[0m\n\u001b[0m\u001b[1;32m    244\u001b[0m             \u001b[0mpd\u001b[0m\u001b[0;34m.\u001b[0m\u001b[0mDataFrame\u001b[0m\u001b[0;34m(\u001b[0m\u001b[0mself\u001b[0m\u001b[0;34m.\u001b[0m\u001b[0mexpression_matrix\u001b[0m\u001b[0;34m)\u001b[0m\u001b[0;34m.\u001b[0m\u001b[0mto_csv\u001b[0m\u001b[0;34m(\u001b[0m\u001b[0mself\u001b[0m\u001b[0;34m.\u001b[0m\u001b[0msave_dir\u001b[0m\u001b[0;34m+\u001b[0m\u001b[0;34m'exp_tmp.txt'\u001b[0m\u001b[0;34m,\u001b[0m\u001b[0msep\u001b[0m\u001b[0;34m=\u001b[0m\u001b[0;34m'\\t'\u001b[0m\u001b[0;34m,\u001b[0m\u001b[0mfloat_format\u001b[0m\u001b[0;34m=\u001b[0m\u001b[0;34m'%1.4f'\u001b[0m\u001b[0;34m,\u001b[0m\u001b[0mindex\u001b[0m\u001b[0;34m=\u001b[0m\u001b[0;32mFalse\u001b[0m\u001b[0;34m,\u001b[0m\u001b[0mheader\u001b[0m\u001b[0;34m=\u001b[0m\u001b[0;32mFalse\u001b[0m\u001b[0;34m)\u001b[0m\u001b[0;34m\u001b[0m\u001b[0;34m\u001b[0m\u001b[0m\n\u001b[1;32m    245\u001b[0m             \u001b[0;32mdel\u001b[0m \u001b[0mself\u001b[0m\u001b[0;34m.\u001b[0m\u001b[0mexpression_matrix\u001b[0m\u001b[0;34m,\u001b[0m \u001b[0mself\u001b[0m\u001b[0;34m.\u001b[0m\u001b[0mmdata\u001b[0m\u001b[0;31m#, self.ppi_data\u001b[0m\u001b[0;34m\u001b[0m\u001b[0;34m\u001b[0m\u001b[0m\n",
            "\u001b[0;32m/content/netZooPy/netZooPy/panda/panda.py\u001b[0m in \u001b[0;36mprocessData\u001b[0;34m(self, modeProcess, motif_file, expression_file, ppi_file, remove_missing, keep_expression_matrix)\u001b[0m\n\u001b[1;32m    254\u001b[0m             \u001b[0midx_tfs\u001b[0m \u001b[0;34m=\u001b[0m \u001b[0;34m[\u001b[0m\u001b[0mtf2idx\u001b[0m\u001b[0;34m.\u001b[0m\u001b[0mget\u001b[0m\u001b[0;34m(\u001b[0m\u001b[0mx\u001b[0m\u001b[0;34m,\u001b[0m \u001b[0;36m0\u001b[0m\u001b[0;34m)\u001b[0m \u001b[0;32mfor\u001b[0m \u001b[0mx\u001b[0m \u001b[0;32min\u001b[0m \u001b[0mself\u001b[0m\u001b[0;34m.\u001b[0m\u001b[0mmotif_data\u001b[0m\u001b[0;34m[\u001b[0m\u001b[0;36m0\u001b[0m\u001b[0;34m]\u001b[0m\u001b[0;34m]\u001b[0m\u001b[0;34m\u001b[0m\u001b[0;34m\u001b[0m\u001b[0m\n\u001b[1;32m    255\u001b[0m             \u001b[0midx_genes\u001b[0m \u001b[0;34m=\u001b[0m \u001b[0;34m[\u001b[0m\u001b[0mgene2idx\u001b[0m\u001b[0;34m.\u001b[0m\u001b[0mget\u001b[0m\u001b[0;34m(\u001b[0m\u001b[0mx\u001b[0m\u001b[0;34m,\u001b[0m \u001b[0;36m0\u001b[0m\u001b[0;34m)\u001b[0m \u001b[0;32mfor\u001b[0m \u001b[0mx\u001b[0m \u001b[0;32min\u001b[0m \u001b[0mself\u001b[0m\u001b[0;34m.\u001b[0m\u001b[0mmotif_data\u001b[0m\u001b[0;34m[\u001b[0m\u001b[0;36m1\u001b[0m\u001b[0;34m]\u001b[0m\u001b[0;34m]\u001b[0m\u001b[0;34m\u001b[0m\u001b[0;34m\u001b[0m\u001b[0m\n\u001b[0;32m--> 256\u001b[0;31m             \u001b[0midx\u001b[0m \u001b[0;34m=\u001b[0m \u001b[0mnp\u001b[0m\u001b[0;34m.\u001b[0m\u001b[0mravel_multi_index\u001b[0m\u001b[0;34m(\u001b[0m\u001b[0;34m(\u001b[0m\u001b[0midx_tfs\u001b[0m\u001b[0;34m,\u001b[0m \u001b[0midx_genes\u001b[0m\u001b[0;34m)\u001b[0m\u001b[0;34m,\u001b[0m \u001b[0mself\u001b[0m\u001b[0;34m.\u001b[0m\u001b[0mmotif_matrix_unnormalized\u001b[0m\u001b[0;34m.\u001b[0m\u001b[0mshape\u001b[0m\u001b[0;34m)\u001b[0m\u001b[0;34m\u001b[0m\u001b[0;34m\u001b[0m\u001b[0m\n\u001b[0m\u001b[1;32m    257\u001b[0m             \u001b[0mself\u001b[0m\u001b[0;34m.\u001b[0m\u001b[0mmotif_matrix_unnormalized\u001b[0m\u001b[0;34m.\u001b[0m\u001b[0mravel\u001b[0m\u001b[0;34m(\u001b[0m\u001b[0;34m)\u001b[0m\u001b[0;34m[\u001b[0m\u001b[0midx\u001b[0m\u001b[0;34m]\u001b[0m \u001b[0;34m=\u001b[0m \u001b[0mself\u001b[0m\u001b[0;34m.\u001b[0m\u001b[0mmotif_data\u001b[0m\u001b[0;34m[\u001b[0m\u001b[0;36m2\u001b[0m\u001b[0;34m]\u001b[0m\u001b[0;34m\u001b[0m\u001b[0;34m\u001b[0m\u001b[0m\n\u001b[1;32m    258\u001b[0m \u001b[0;34m\u001b[0m\u001b[0m\n",
            "\u001b[0;32m<__array_function__ internals>\u001b[0m in \u001b[0;36mravel_multi_index\u001b[0;34m(*args, **kwargs)\u001b[0m\n",
            "\u001b[0;31mTypeError\u001b[0m: indices must be integral: the provided empty sequence was inferred as float. Wrap it with 'np.array(indices, dtype=np.intp)'"
          ]
        }
      ]
    },
    {
      "cell_type": "code",
      "metadata": {
        "id": "guZVZtoSY9hO",
        "colab_type": "code",
        "colab": {}
      },
      "source": [
        "# milipeed_obj.total_milipeed_network.size-9517244\n",
        "# milipeed_obj.total_milipeed_network.size\n",
        "9517244/652"
      ],
      "execution_count": null,
      "outputs": []
    },
    {
      "cell_type": "code",
      "metadata": {
        "id": "ZQVzLAaUSw9o",
        "colab_type": "code",
        "colab": {}
      },
      "source": [
        "# total_milipeed_network=np.column_stack(milipeed_obj.total_milipeed_network ,\n",
        "# np.fromstring(np.transpose(milipeed_obj.export_milipeed_results).tostring(),dtype=milipeed_network.dtype))\n",
        "# milipeed_obj.export_milipeed_results\n",
        "np.column_stack(([pd.DataFrame(milipeed_obj.total_milipeed_network)],[milipeed_obj.export_milipeed_results]))"
      ],
      "execution_count": null,
      "outputs": []
    },
    {
      "cell_type": "code",
      "metadata": {
        "id": "mvL7xPAfUsS4",
        "colab_type": "code",
        "colab": {}
      },
      "source": [
        "# np.column_stack([pd.DataFrame(milipeed_obj.total_milipeed_network),(milipeed_obj.export_milipeed_results)]).size\n",
        "\n",
        "v=np.concatenate((pd.DataFrame(milipeed_obj.total_milipeed_network).T,milipeed_obj.export_milipeed_results.T), axis=1)\n",
        "v.size"
      ],
      "execution_count": null,
      "outputs": []
    },
    {
      "cell_type": "code",
      "metadata": {
        "id": "po5PjuxDOjuj",
        "colab_type": "code",
        "colab": {}
      },
      "source": [
        "##test code for building robust methyl_motif+ orig_motif\n",
        "# expression_file='drive/My Drive/Colab Notebooks dcm/gene_exp_v14b.txt'\n",
        "# motif_file='gen_motif.txt'\n",
        "# methylation_file='milipeed_test_motif.txt'\n",
        "# ppi_file='ppi_complete.txt'\n",
        "# map_file='netZooPy/tests/milipeed/MotifPrior_CGmap.txt'\n",
        "\n",
        "# mdata=pd.read_csv(methylation_file,sep='\\t',index_col=0,header=0,usecols=[0,1+1])##this matches held-out expression sample in lioness\n",
        "# methylation_map = pd.read_csv(map_file, sep='\\t', index_col=2,names=['source','target'])\n",
        "# mdata=methylation_map.merge(mdata,left_index=True, right_index=True)\n",
        "# if motif_file is not None:\n",
        "#     tmp_motif = pd.read_csv(motif_file, sep='\\t',names=['source','target','w'])\n",
        "\n",
        "#     tmp_motif['link']=tmp_motif['source']+'_'+tmp_motif['target']\n",
        "#     tmp_motif.index=tmp_motif['link']\n",
        "#     del tmp_motif['source'], tmp_motif['target'], tmp_motif['link']\n",
        "#     tmp_motif.astype(int)\n",
        "#     mdata['link']=mdata['source']+'_'+mdata['target']\n",
        "#     mdata.index=mdata['link']\n",
        "#     del mdata['source'], mdata['target'],mdata['link']\n",
        "#     mdata.astype(float)\n",
        "#     mdata=mdata.combine(tmp_motif, np.minimum, fill_value=1)#right_index=True,left_index=True,how='outer',suffixes=('_methyl', '_motif'))\n",
        "#     # mdata=mdata.groupby(level=\"link\").min()\n",
        "#     mdata['source']=mdata.index.str.split('_').str[0].tolist()\n",
        "#     mdata['target']=mdata.index.str.split('_').str[1].tolist()"
      ],
      "execution_count": null,
      "outputs": []
    },
    {
      "cell_type": "code",
      "metadata": {
        "id": "fpXHFBPZ6pGl",
        "colab_type": "code",
        "colab": {}
      },
      "source": [
        "# mdata=milipeed_test_motif['ST.01016305']\n",
        "# map_file='netZooPy/tests/milipeed/MotifPrior_CGmap.txt'\n",
        "# methylation_map = pd.read_csv(map_file, sep='\\t', index_col=2,names=['source','target'])\n",
        "# mdata=methylation_map.merge(mdata,left_index=True, right_index=True)\n",
        "# mdata.to_csv('milipeed_panda_test_motif.txt',sep='\\t',index=False,header=False)\n",
        "# mdata\n",
        "\n",
        "# cc=pd.read_csv('drive/My Drive/Colab Notebooks dcm/gene_exp_v14b.txt',sep='\\t',index_col=0)\n",
        "# cc.to_csv('drive/My Drive/Colab Notebooks dcm/gene_exp_v14.txt',sep='\\t',index=True,header=False)"
      ],
      "execution_count": null,
      "outputs": []
    },
    {
      "cell_type": "code",
      "metadata": {
        "id": "ivcHxUVf_AF9",
        "colab_type": "code",
        "colab": {}
      },
      "source": [
        "# milipeed_obj2=Milipeed('GPL10558.txt','milipeed_test_motif.txt','ppi_complete.txt',\n",
        "\n",
        "panda_obj=Panda('drive/My Drive/Colab Notebooks dcm/gene_exp_v14.txt',\n",
        "                   'milipeed_panda_test_motif.txt','ppi_complete.txt',\n",
        "    computing='gpu',precision='double',save_memory = False, save_tmp=False, \n",
        "    remove_missing= True, keep_expression_matrix = False,\n",
        "     modeProcess = 'intersection')\n",
        "# milipeed_obj.save_milipeed_results(file='LTCOPDmilipeed_02232020.txt')\n",
        "\n"
      ],
      "execution_count": null,
      "outputs": []
    },
    {
      "cell_type": "code",
      "metadata": {
        "id": "SigDBfxLEB1M",
        "colab_type": "code",
        "colab": {}
      },
      "source": [
        "panda_obj.export_panda_results[['tf','gene']].to_csv('drive/My Drive/milipeed_output/milipeed_links.txt',index=False)"
      ],
      "execution_count": null,
      "outputs": []
    },
    {
      "cell_type": "code",
      "metadata": {
        "id": "Uv7Y9Bg1EqxE",
        "colab_type": "code",
        "colab": {}
      },
      "source": [
        "xx=pd.read_csv('drive/My Drive/milipeed_output/milipeed_links.txt')"
      ],
      "execution_count": null,
      "outputs": []
    },
    {
      "cell_type": "code",
      "metadata": {
        "id": "hQinFP3uYEMl",
        "colab_type": "code",
        "colab": {}
      },
      "source": [
        "# os.chdir('drive/My Drive/')\n",
        "os.getcwd()"
      ],
      "execution_count": null,
      "outputs": []
    },
    {
      "cell_type": "code",
      "metadata": {
        "id": "bLT9Q3VAaYD1",
        "colab_type": "code",
        "colab": {}
      },
      "source": [
        "!zip -r milipeed_output.zip milipeed_output"
      ],
      "execution_count": null,
      "outputs": []
    },
    {
      "cell_type": "code",
      "metadata": {
        "id": "o3Pe4DfeJFGo",
        "colab_type": "code",
        "colab": {}
      },
      "source": [
        "##gdown https://drive.google.com/uc?id=16J5hquNoREGYETDFrOGRdMzXNaZGO9zo\n",
        "##gdown https://drive.google.com/uc?id=1-KJQi3Z0FJZBljCdPt9-UmdAxPkENQlu\n"
      ],
      "execution_count": null,
      "outputs": []
    },
    {
      "cell_type": "code",
      "metadata": {
        "id": "q-lIGdR635UO",
        "colab_type": "code",
        "colab": {}
      },
      "source": [
        "from __future__ import print_function\n",
        "\n",
        "import os, os.path,sys,gc\n",
        "import numpy as np\n",
        "import pandas as pd\n",
        "# from .timer import Timer\n",
        "from netZooPy.panda.timer import Timer\n",
        "sys.path.insert(1,'../panda')\n",
        "from netZooPy.panda.panda import Panda\n",
        "# import cupy as cp\n",
        "# xp=np.get_array_module\n",
        "\n",
        "class Milipeed(Panda):\n",
        "    \"\"\"\n",
        "    Description:\n",
        "       Using MILIPEED to infer single-sample gene regulatory networks.\n",
        "\n",
        "    Usage:\n",
        "        1. Reading in input data (expression data, motif prior, methylation data, TF PPI data)\n",
        "        2. Computing lioness-style coexpression and motif network\n",
        "        3. Normalizing networks\n",
        "        4. Running PANDA algorithm\n",
        "        5. Writing out MILIPEED networks\n",
        "\n",
        "\n",
        "    Inputs:\n",
        "        expression_file:    path to file containing the mRNA expression levels in the form of samples or subjects X genes\n",
        "                            if None: lionish networks are all identity\n",
        "                            ##unlinke other NetZoo methods, expression file needs subject header\n",
        "        methylation_file:   path to file containing methylation beta coefficients for specific CpG sites if CGMap file is provided, or \n",
        "                            file containing methylation beta coefficients for specific TF-gene pairs\n",
        "                            ##similarly methylation file needs subject header\n",
        "        ppi_file:           path to file containing STRING or FunCoup PPI (square).\n",
        "        map_file:              path to file listing TF - gene - CG in that order\n",
        "\n",
        "    Outputs:\n",
        "        total_milipeed_network: keep default format 'txt' to use AnalyzeMilipeed on normal memory machine\n",
        "\n",
        "    Authors: \n",
        "       dcolinmorgan, bmarouen,\n",
        "    \"\"\"\n",
        "######\n",
        "## add full motif to complement non-methylation-characterized TF-gene\n",
        "######\n",
        "    def __init__(self, expression_file, methylation_file,ppi_file,motif_file=None, map_file='tests/milipeed/MotifPrior_CGmap.txt', computing='cpu',precision='double', start=1, end=None,save_dir='milipeed_output/', save_fmt='txt'):\n",
        "        # =====================================================================\n",
        "        # Data loading\n",
        "        # =====================================================================\n",
        "        \n",
        "\n",
        "        if methylation_file is not None and expression_file is not None:\n",
        "            with Timer('Finding common subjects ...'):\n",
        "\n",
        "                tmp_expdata = pd.read_csv(expression_file,sep='\\t',header=0,nrows=0)\n",
        "                # expdata.columns\n",
        "                tmp_betadata = pd.read_csv(methylation_file,sep='\\t',header=0,nrows=0)\n",
        "\n",
        "                # [list(set(expdata.columns).intersection(betadata.columns))]\n",
        "                # expdata[,(expdata.columns.isin(betadata.columns))]\n",
        "                b_subj=tmp_betadata.columns[(tmp_betadata.columns).isin(tmp_expdata)].dropna().tolist()\n",
        "                e_subj=tmp_expdata.columns[(tmp_expdata.columns).isin(tmp_betadata)].dropna().tolist()\n",
        "        print('Number of subjects:', len(b_subj))#.shape[1])\n",
        "\n",
        "        # if methylation_file is not None and map_file is not None: ## if CGs need to map to TF-genes\n",
        "        #     with Timer('Parsing methylation data ...'):\n",
        "                \n",
        "        # b_subj=b_subj\n",
        "        # e_subj=e_subj\n",
        "                # tmp_m_subj = pd.read_csv(methylation_file, sep=' ', header=0,index_col=0,nrows=0)\n",
        "\n",
        "                # self.cgs = pd.read_csv(methylation_file, sep=' ', header=0,index_col=0,usecols=0)\n",
        "        self.methylation_map = pd.read_csv(map_file, sep='\\t', index_col=2,names=['source','target'])\n",
        "                # self.mdata=self.methylation_map.merge(self.cgs,left_index=True, right_index=True)\n",
        "\n",
        "                # self.mdata=self.mdata.groupby([self.mdata.source,self.mdata.target],as_index=False).mean()\n",
        "                # self.methylation_genes = sorted(set(self.mdata['target'].tolist()))\n",
        "                # self.methylation_tfs = sorted(set(self.mdata['source'].tolist()))\n",
        "\n",
        "                # print('Methylation matrix:', self.mdata.shape)\n",
        "        # elif methylation_file is not None and map_file is None: ## if methylation is already in TF-gene x subject matrix\n",
        "        #     ##read in per iteration for lower memory allocation\n",
        "        #     # self.mdata=pd.read_csv(methylation_file,sep='\\t',header=0)\n",
        "        #     # self.mdata['source']=self.mdata.iloc[0]\n",
        "        #     # self.mdata['target']=self.mdata.iloc[1]\n",
        "        #     self.methylation_genes = self.mdata.iloc[:,1].tolist()\n",
        "        #     self.methylation_tfs = self.mdata.iloc[:,0].tolist()\n",
        "        #     self.methylation_subjects = sorted(set(self.mdata.columns))[2:len(self.mdata.columns)]\n",
        "        #     print('Methylation matrix:', self.mdata.shape)\n",
        "            \n",
        "        if ppi_file:\n",
        "            with Timer('Loading PPI data ...'):\n",
        "                self.ppi_data = pd.read_csv(ppi_file, sep='\\t', header=None)\n",
        "                self.ppi_tfs = sorted(set(self.ppi_data[0]))\n",
        "                print('Number of PPIs:', self.ppi_data.shape[0])\n",
        "        else:\n",
        "            print('No PPI data given: ppi matrix will be an identity matrix of size', self.num_tfs)\n",
        "            self.ppi_data = None\n",
        "\n",
        "        if expression_file is None and methylation_file is not None:\n",
        "            self.expression_genes=self.methylation_map['target']\n",
        "            self.expression_subjects=self.tmp_betadata\n",
        "            self.expression_data=None #np.zeros(self.mdata.shape) ##place holder for dim calc below, not run\n",
        "            print('No Expression data given: correlation matrix will be an identity matrix of size', len(self.methylation_genes))\n",
        "        elif expression_file is not None and methylation_file is None: ##LIONESS\n",
        "            self.expression_data = pd.read_csv(expression_file, sep='\\t', header=0, index_col=0)\n",
        "            self.expression_genes = self.expression_data.index.tolist()\n",
        "            self.num_genes = len(self.expression_genes)\n",
        "            panda_obj=Panda(self)\n",
        "            Lioness(panda_obj)\n",
        "            return 0\n",
        "        else:\n",
        "            with Timer('Loading expression data ...'):\n",
        "                self.expression_data = pd.read_csv(expression_file, sep='\\t', header=0, index_col=0)\n",
        "                self.expression_genes= self.expression_data.index.tolist()\n",
        "                self.expression_data=self.expression_data[e_subj]\n",
        "                self.expression_subjects = self.expression_data.columns\n",
        "                print('Expression matrix:', self.expression_data.shape)\n",
        "\n",
        "        # self.subjects   = sorted(np.unique( list(set(self.expression_subjects).intersection(set(self.methylation_subjects)) )))\n",
        "\n",
        "        # self.expression_data = self.expression_data[self.e_subj]\n",
        "        # # self.mdata = self.mdata['source','target',self.subjects]\n",
        "\n",
        "        # self.gene_names   = sorted(np.unique( list(set(self.expression_genes).intersection(set(self.methylation_genes))) ))\n",
        "        # # self.gene_names = sorted(np.unique( list(set(self.me_genes).intersection(set(self.motif_genes))) ))\n",
        "        # self.unique_tfs = sorted(np.unique( list(set(self.ppi_tfs).intersection(set(self.methylation_tfs)) )))\n",
        "        # # self.unique_tfs = sorted(np.unique( list(set(self.me_tfs).intersection(set(self.motif_tfs)) )))\n",
        "        # self.num_genes  = len(self.gene_names)\n",
        "        # self.num_tfs    = len(self.unique_tfs)\n",
        "        # len(b_subj)   = len(self.subjects)\n",
        "        # self.indexes    = range(len(b_subj.columns))#range(len(b_subj))[start-1:end] \n",
        "\n",
        "        self.computing=computing\n",
        "        self.precision=precision\n",
        "        self.total_milipeed_network = None\n",
        "        # Initialize expression data\n",
        "        # self.expression = np.zeros((self.num_genes, self.expression_data.shape[1]))\n",
        "        # # Auxiliary dicts\n",
        "        # self.gene2idx = {x: i for i, x in enumerate(self.gene_names)}\n",
        "        # self.tf2idx = {x: i for i, x in enumerate(self.unique_tfs)}\n",
        "        # # Populate gene expression\n",
        "        # idx_geneEx = [self.gene2idx.get(x, 0) for x in self.expression_genes]\n",
        "        # print(self.expression.shape)\n",
        "        # # print(self.expression_data.shape)\n",
        "        # self.expression[idx_geneEx, :] = self.expression_data.values ##if empty need to nest\n",
        "        # self.expression_data = pd.DataFrame(data=self.expression)\n",
        "        # self.computing=computing\n",
        "        # self.precision=precision\n",
        "\n",
        "        # Create the output folder if not exists\n",
        "        self.save_dir = save_dir\n",
        "        self.save_fmt = save_fmt\n",
        "        if not os.path.exists(save_dir):\n",
        "            os.makedirs(save_dir)\n",
        "        \n",
        "        # print('Number of subjects:', len(b_subj))\n",
        "        \n",
        "        # Run MILIPEED\n",
        "        self.total_milipeed_network = self.milipeed_loop(b_subj,e_subj,expression_file,motif_file,methylation_file, map_file,start,end)\n",
        "\n",
        "        # # create result data frame\n",
        "        self.export_milipeed_results = pd.DataFrame(self.total_milipeed_network)\n",
        "        # pd.DataFrame(self.subjects).to_csv('mili_subj.txt',index=False)\n",
        "###\n",
        "    def milipeed_loop(self,b_subj,e_subj, expression_file, motif_file,methylation_file, map_file,start,end):\n",
        "        # if self.expression_data is None:\n",
        "        #     correlation_matrix = np.identity(self.num_genes, dtype=int)\n",
        "        # elif self.expression_data is not None and self.computing=='gpu':\n",
        "        #     import cupy as cp\n",
        "        #     correlation_matrix = cp.asnumpy(cp.corrcoef(cp.array(self.expression_data)))\n",
        "        #     # if cp.isnan(correlation_matrix).any():\n",
        "        #     #     cp.fill_diagonal(correlation_matrix, 1)\n",
        "        #     #     selfcorrelation_matrix = cp.nan_to_num(correlation_matrix)\n",
        "        #     # correlation_matrix = self._normalize_network(cp.asnumpy(correlation_matrix))\n",
        "        # elif self.expression_data is not None and self.computing=='cpu':\n",
        "        #     correlation_matrix = np.corrcoef(self.expression_data)\n",
        "\n",
        "        for iii in (b_subj[start:end]): #self.indexes:\n",
        "            # print(iii)\n",
        "            with Timer('Creating motif ...'):\n",
        "                # Restrict methylation data\n",
        "                \n",
        "                mdata=pd.read_csv(methylation_file,sep='\\t',index_col=0,header=0,usecols=[0,list(b_subj).index(iii)+1])##this matches held-out expression sample in lioness\n",
        "                methylation_map = pd.read_csv(map_file, sep='\\t', index_col=2,names=['source','target'])\n",
        "                self.mdata=methylation_map.merge(mdata,left_index=True, right_index=True)\n",
        "                if motif_file is not None:\n",
        "                    tmp_motif = pd.read_csv(motif_file, sep='\\t',names=['source','target','w'])\n",
        "\n",
        "                    tmp_motif['link']=tmp_motif['source']+'_'+tmp_motif['target']\n",
        "                    tmp_motif.index=tmp_motif['link']\n",
        "                    del tmp_motif['source'], tmp_motif['target'], tmp_motif['link']\n",
        "                    tmp_motif.astype(int)\n",
        "                    self.mdata['link']=self.mdata['source']+'_'+self.mdata['target']\n",
        "                    self.mdata.index=self.mdata['link']\n",
        "                    del self.mdata['source'], self.mdata['target'],self.mdata['link']\n",
        "                    self.mdata.astype(float)\n",
        "                    self.mdata=self.mdata.combine(tmp_motif, np.minimum, fill_value=1)#right_index=True,left_index=True,how='outer',suffixes=('_methyl', '_motif'))\n",
        "                    # self.mdata=self.mdata.groupby(level=\"link\").min()\n",
        "                    self.mdata['source']=self.mdata.index.str.split('_').str[0].tolist()\n",
        "                    self.mdata['target']=self.mdata.index.str.split('_').str[1].tolist()\n",
        "                    self.mdata=self.mdata.reset_index()\n",
        "                    del self.mdata['link'], self.mdata['w']\n",
        "                    subj=mdata.columns[0]\n",
        "                    self.mdata=self.mdata[['source','target',subj]]\n",
        "                # self.subMtf=self.mdata[self.unique_tfs.isin(self.mdata['source'])]\n",
        "                # self.subMtf=self.subMtf[self.gene_names.isin(self.mdata['target'])]\n",
        "                # self.subMtf=self.mdata[self.mdata['source'].isin(self.unique_tfs)]\n",
        "                # self.subMtf=self.subMtf[self.subMtf['target'].isin(self.gene_names)]\n",
        "                \n",
        "                # self.motif_matrix_unnormalized = np.zeros((self.num_tfs, self.num_genes))\n",
        "                # idx_tfs = [self.tf2idx.get(x, 0) for x in self.subMtf['source']]\n",
        "                # idx_genes = [self.gene2idx.get(x, 0) for x in self.subMtf['target']]\n",
        "                # idx = np.ravel_multi_index((idx_tfs, idx_genes), self.motif_matrix_unnormalized.shape)\n",
        "                # self.motif_matrix_unnormalized.ravel()[idx] = self.subMtf[iii].values#[self.subjects[iii]]\n",
        "\n",
        "\n",
        "                # self.motif_matrix = self._normalize_network(1-self.motif_matrix_unnormalized) ## wehre to insert sign parameter, hardcoded and user-assigned\n",
        "                # self.motif_matrix=pd.DataFrame(self.motif_matrix).fillna(0.5)\n",
        "                # self.motif_matrix=pd.DataFrame(self.motif_matrix).dropna(how='all',axis=1)\n",
        "                # pd.DataFrame(self.motif_matrix).dropna(how='all',axis=1)\n",
        "\n",
        "            if self.precision=='single':\n",
        "                self.mdata=np.float32(self.mdata)\n",
        "\n",
        "            # with Timer('Creating PPI network ...'):\n",
        "            #     if self.ppi_data is None:\n",
        "            #         self.ppi_matrix = np.identity(self.num_tfs, dtype=int)\n",
        "            #         self.ppi_matrix = self._normalize_network(self.ppi_matrix)\n",
        "            #         if self.precision=='single':\n",
        "            #             self.ppi_matrix=np.float32(self.ppi_matrix)\n",
        "\n",
        "            #     else:\n",
        "            #         self.ppi_matrix = np.identity(self.num_tfs)\n",
        "            #         idx_tf1 = [self.tf2idx.get(x, 0) for x in self.ppi_data[0]]\n",
        "            #         idx_tf2 = [self.tf2idx.get(x, 0) for x in self.ppi_data[1]]\n",
        "            #         idx = np.ravel_multi_index((idx_tf1, idx_tf2), self.ppi_matrix.shape)\n",
        "            #         self.ppi_matrix.ravel()[idx] = self.ppi_data[2]\n",
        "            #         idx = np.ravel_multi_index((idx_tf2, idx_tf1), self.ppi_matrix.shape)\n",
        "            #         self.ppi_matrix.ravel()[idx] = self.ppi_data[2]\n",
        "            #         self.ppi_matrix = self._normalize_network(self.ppi_matrix)\n",
        "            #         if self.precision=='single':\n",
        "            #             self.ppi_matrix=np.float32(self.ppi_matrix)\n",
        "            self.processData(modeProcess='intersection', expression_file=self.expression_data, motif_file=self.mdata, ppi_file=self.ppi_data,remove_missing=True,keep_expression_matrix=True)\n",
        "            pd.DataFrame(self.expression_matrix).to_csv(self.save_dir+'exp_tmp.txt',sep='\\t',float_format='%1.4f',index=False,header=False)\n",
        "            del self.expression_matrix, self.mdata#, self.ppi_data\n",
        "\n",
        "            gc.collect()\n",
        "            print(\"Running MILIPEED for subject %s:\" % (iii))\n",
        "            idx = [x for x in b_subj if x != iii] # all samples except iii\n",
        "            # =====================================================================\n",
        "            # Network construction\n",
        "            # =====================================================================\n",
        "            with Timer('Calculating coexpression network ...'):\n",
        "                \n",
        "                # elif self.expression_data is not None and self.computing=='gpu':\n",
        "                #     if cp.isnan(correlation_matrix).any():\n",
        "                #         cp.fill_diagonal(correlation_matrix, 1)\n",
        "                #         self.correlation_matrix = cp.nan_to_num(correlation_matrix)\n",
        "                #     # subset_correlation_network = self._normalize_network(cp.asnumpy(cp.corrcoef(cp.array(self.expression_data.values[:, idx]))))\n",
        "                #     subj_exp=cp.array(self.expression_data.values[:, iii])\n",
        "                #     subset_correlation_network = ((len(b_subj)-1) * (correlation_matrix) - subj_exp.T * subj_exp) /(len(b_subj)-2)\n",
        "\n",
        "                #     self.lionish_network = len(b_subj) * (correlation_matrix - subset_correlation_network) + subset_correlation_network\n",
        "                #     if self.precision=='single':\n",
        "                #         self.lionish_network=np.float32(self.lionish_network)\n",
        "                if self.correlation_matrix is not None: # and self.computing=='cpu':\n",
        "                    # subj_exp=self.expression_data[iii]\n",
        "                    subj_exp=pd.read_csv(self.save_dir+'exp_tmp.txt',sep='\\t',header=None,usecols=[list(e_subj).index(iii)+1])\n",
        "                    # if np.isnan(self.correlation_matrix).any():\n",
        "                    #     np.fill_diagonal(self.correlation_matrix, 1)\n",
        "                    #     self.correlation_matrix = np.nan_to_num(self.correlation_matrix)\n",
        "                    # correlation_matrix = self._normalize_network(correlation_matrix)\n",
        "                    #classic\n",
        "                    # if self.computing='gpu':\n",
        "                        # correlation_matrix = self._normalize_network(cp.asnumpy(cp.corrcoef(cp.array(self.expression_data[idx].values))))\n",
        "                    # else:\n",
        "                        # subset_correlation_network = self._normalize_network(np.corrcoef(self.expression_data[idx].values))\n",
        "                    #faster and no gpu\n",
        "                    subset_correlation_network = ((len(b_subj)-1) * (self.correlation_matrix) - subj_exp.values.T * subj_exp.values) /(len(b_subj)-2)\n",
        "                    # subset_correlation_network= self._normalize_network(subset_correlation_network)\n",
        "                    self.lionish_network = len(b_subj) * (self.correlation_matrix - subset_correlation_network) + subset_correlation_network\n",
        "                    del subset_correlation_network\n",
        "                    gc.collect()\n",
        "                    if self.precision=='single':\n",
        "                        self.lionish_network=np.float32(self.lionish_network)\n",
        "\n",
        "                if self.correlation_matrix is None:\n",
        "                    self.lionish_network=np.identity(self.num_genes, dtype=int)\n",
        "                    if self.precision=='single':\n",
        "                        self.lionish_network=np.float32(self.lionish_network)\n",
        "                print('mem check1')\n",
        "                self.lionish_network=self._normalize_network(self.lionish_network)\n",
        "                self.motif_matrix_unnormalized = self._normalize_network(self.motif_matrix_unnormalized)\n",
        "                self.ppi_matrix = self._normalize_network(self.ppi_matrix)\n",
        "                del self.unique_tfs, self.gene_names#, self.motif_matrix_unnormalized\n",
        "                print('mem check2')\n",
        "                \n",
        "            milipeed_network = self.panda_loop(self.lionish_network, np.copy(self.motif_matrix_unnormalized), np.copy(self.ppi_matrix),computing=self.computing)\n",
        "            # net=pd.DataFrame(milipeed_network)\n",
        "            # net.columns=self.gene_names\n",
        "            # net['index']=self.unique_tfs\n",
        "            # meta_path = os.path.join(self.save_dir,\"milipeed_meta.txt\")\n",
        "            # pd.melt(net,id_vars=['index']).to_csv(meta_path,sep='\\t',float_format='%1.4f',index=False,header=False)\n",
        "\n",
        "            with Timer(\"Saving MILIPEED network %s to %s using %s format:\" % (iii, self.save_dir, self.save_fmt)):\n",
        "                path = os.path.join(self.save_dir, \"milipeed.%s.%s\" % (iii, self.save_fmt))\n",
        "                if self.save_fmt == 'txt':\n",
        "                    # np.savetxt(path, pd.melt(milipeed_network),fmt='%1.3f')\n",
        "                    pd.melt(pd.DataFrame(milipeed_network)).value.to_csv(path,sep='\\t',float_format='%1.4f',index=False,header=False)\n",
        "                elif self.save_fmt == 'npy':\n",
        "                    np.save(path, pd.melt(pd.DataFrame(milipeed_network)))\n",
        "                elif self.save_fmt == 'mat':\n",
        "                    from scipy.io import savemat\n",
        "                    savemat(path, {'PredNet': milipeed_network})\n",
        "                else:\n",
        "                    print(\"Unknown format %s! Use npy format instead.\" % self.save_fmt)\n",
        "                    np.save(path, milipeed_network)\n",
        "            if self.total_milipeed_network is None: #    iii == 0:\n",
        "                self.total_milipeed_network = np.fromstring(np.transpose(milipeed_network).tostring(),dtype=milipeed_network.dtype)\n",
        "                if hasattr(self,'unique_tfs'):\n",
        "                    self.export_panda_results[['tf','gene']].to_csv(self.save_dir+'link_names.txt',sep='_',index=False,header=False)\n",
        "                    pd.DataFrame(b_subj).to_csv(self.save_dir+str(len(b_subj))+'_subject_IDs.txt',sep='\\t',index=False,header=False)\n",
        "            # else:\n",
        "                # self.total_milipeed_network=np.column_stack((self.total_milipeed_network ,np.fromstring(np.transpose(milipeed_network).tostring(),dtype=milipeed_network.dtype)))\n",
        "\n",
        "        return self.total_milipeed_network\n",
        "\n",
        "    def save_milipeed_results(self, file='all_milipeed_nets'):\n",
        "        '''Write milipeed results to file.'''\n",
        "        np.savetxt(file, self.total_milipeed_network, delimiter=\"\\t\",header=\"\")\n",
        "        return None\n"
      ],
      "execution_count": null,
      "outputs": []
    },
    {
      "cell_type": "code",
      "metadata": {
        "id": "3dWPCn9p38HZ",
        "colab_type": "code",
        "colab": {}
      },
      "source": [
        ""
      ],
      "execution_count": null,
      "outputs": []
    }
  ]
}