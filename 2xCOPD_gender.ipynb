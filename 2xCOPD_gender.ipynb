{
  "nbformat": 4,
  "nbformat_minor": 0,
  "metadata": {
    "accelerator": "GPU",
    "colab": {
      "name": "2xCOPD_gender",
      "provenance": [],
      "collapsed_sections": [
        "s__pesv2DbAt",
        "ZE7LZlKhENto",
        "-IwHRfXWMGpi",
        "t-GfiKxM14s1",
        "Uif2YCiRPfgI",
        "MjWLN5s8P_00",
        "BqkpNZ_qZmzL",
        "z6adI-dq2nLT",
        "IXHNorl32sG4",
        "O2i3O_AeS-ht",
        "oW_96Huk4uxJ",
        "dX4Ud-HNLTSV",
        "T3jSwAJVRT71"
      ],
      "include_colab_link": true
    },
    "kernelspec": {
      "display_name": "Python 3",
      "name": "python3"
    }
  },
  "cells": [
    {
      "cell_type": "markdown",
      "metadata": {
        "id": "view-in-github",
        "colab_type": "text"
      },
      "source": [
        "<a href=\"https://colab.research.google.com/github/dcolinmorgan/LTCOPDsex/blob/master/2xCOPD_gender.ipynb\" target=\"_parent\"><img src=\"https://colab.research.google.com/assets/colab-badge.svg\" alt=\"Open In Colab\"/></a>"
      ]
    },
    {
      "cell_type": "code",
      "metadata": {
        "id": "tqU5e6cD0X1i"
      },
      "source": [
        "# !pip install s3fs\n",
        "import os,time\n",
        "# import s3fs\n",
        "import pandas as pd\n",
        "import numpy as np\n",
        "from psutil import *\n",
        "import matplotlib.pyplot as plt\n",
        "import gc\n",
        "import random\n",
        "from scipy import stats\n",
        "import seaborn as sns\n",
        "from IPython.display import Image\n",
        "from scipy.stats import zscore\n",
        "timestr = time.strftime(\"%Y%m%d\")"
      ],
      "execution_count": 1,
      "outputs": []
    },
    {
      "cell_type": "code",
      "metadata": {
        "id": "QVqEHJuQ0bOd",
        "colab": {
          "base_uri": "https://localhost:8080/"
        },
        "outputId": "f63fd0e4-63b8-4fe3-e3f0-30ee94a6d336"
      },
      "source": [
        "from google.colab import drive\n",
        "drive.mount('/content/drive')"
      ],
      "execution_count": 2,
      "outputs": [
        {
          "output_type": "stream",
          "text": [
            "Drive already mounted at /content/drive; to attempt to forcibly remount, call drive.mount(\"/content/drive\", force_remount=True).\n"
          ],
          "name": "stdout"
        }
      ]
    },
    {
      "cell_type": "code",
      "metadata": {
        "id": "BP_2NmhEC-xH"
      },
      "source": [
        "# data=np.load('/content/drive/MyDrive/LARGE_PANDA/LTRCcase.npy')\n",
        "# plt.hist(data.flatten())"
      ],
      "execution_count": null,
      "outputs": []
    },
    {
      "cell_type": "code",
      "metadata": {
        "id": "OxqvrbnT0bFB"
      },
      "source": [
        "# !git clone https://github.com/netZoo/netZooPy.git\n",
        "!git clone --single-branch --branch devel https://github.com/netZoo/netZooPy.git\n",
        "os.chdir('netZooPy')\n",
        "!pip install -e ./"
      ],
      "execution_count": null,
      "outputs": []
    },
    {
      "cell_type": "code",
      "metadata": {
        "id": "dVVyHKaL0bIX"
      },
      "source": [
        "import netZooPy\n",
        "from netZooPy.panda import Panda\n",
        "from netZooPy.lioness import Lioness\n",
        "# from netZooPy import condor\n",
        "# os.chdir('..')"
      ],
      "execution_count": 3,
      "outputs": []
    },
    {
      "cell_type": "code",
      "metadata": {
        "id": "iX09NjiD0bKc"
      },
      "source": [
        "!pip install GEOparse\n",
        "# !pip install pycombat"
      ],
      "execution_count": null,
      "outputs": []
    },
    {
      "cell_type": "code",
      "metadata": {
        "id": "a2nb5HDJ0bMV"
      },
      "source": [
        "import GEOparse\n",
        "gse = GEOparse.get_GEO(geo=\"GSE76925\", destdir=\"./\")"
      ],
      "execution_count": null,
      "outputs": []
    },
    {
      "cell_type": "code",
      "metadata": {
        "id": "2pExQ9Pu0let"
      },
      "source": [
        "ww=pd.unique(gse.gpls['GPL10558'].table['Chromosome'])"
      ],
      "execution_count": null,
      "outputs": []
    },
    {
      "cell_type": "code",
      "metadata": {
        "id": "l28nDQImS5zk"
      },
      "source": [
        "# data1=pd.read_csv('drive/My Drive/Colab Notebooks/GSE76925.txt',sep='\\t',index_col=0)"
      ],
      "execution_count": null,
      "outputs": []
    },
    {
      "cell_type": "code",
      "metadata": {
        "id": "ddOON1xsaGBw"
      },
      "source": [
        "# largeCOPD=pd.read_csv('drive/My Drive/Colab Notebooks/LARGE_COPD_crossLTCOPD.txt',sep='\\t',index_col=0)"
      ],
      "execution_count": null,
      "outputs": []
    },
    {
      "cell_type": "markdown",
      "metadata": {
        "id": "s__pesv2DbAt"
      },
      "source": [
        "###this data is same as clean expression per Jarrett"
      ]
    },
    {
      "cell_type": "code",
      "metadata": {
        "id": "GCWOMJFkXtZw",
        "colab": {
          "base_uri": "https://localhost:8080/",
          "height": 456
        },
        "outputId": "07e7e597-4828-4bf7-8178-9eda65770f81"
      },
      "source": [
        "del data1['loc']\n",
        "plot=pd.melt(data1)['value']\n",
        "# plot=np.array(plot.astype(float))\n",
        "plt.hist(plot,bins=26)"
      ],
      "execution_count": null,
      "outputs": [
        {
          "output_type": "execute_result",
          "data": {
            "text/plain": [
              "(array([ 49562., 383964., 543655., 376433., 258462., 209012., 191210.,\n",
              "        187397., 187620., 194343., 203225., 212293., 217659., 214960.,\n",
              "        198194., 171715., 144220., 114421.,  85028.,  60959.,  41408.,\n",
              "         31360.,  22740.,  17207.,  13377.,   7051.]),\n",
              " array([ 1.99184613,  2.49559272,  2.99933931,  3.5030859 ,  4.00683249,\n",
              "         4.51057908,  5.01432566,  5.51807225,  6.02181884,  6.52556543,\n",
              "         7.02931202,  7.53305861,  8.0368052 ,  8.54055178,  9.04429837,\n",
              "         9.54804496, 10.05179155, 10.55553814, 11.05928473, 11.56303131,\n",
              "        12.0667779 , 12.57052449, 13.07427108, 13.57801767, 14.08176426,\n",
              "        14.58551085, 15.08925743]),\n",
              " <a list of 26 Patch objects>)"
            ]
          },
          "metadata": {
            "tags": []
          },
          "execution_count": 47
        },
        {
          "output_type": "display_data",
          "data": {
            "image/png": "[encoded data removed]",
            "text/plain": [
              "<Figure size 432x288 with 1 Axes>"
            ]
          },
          "metadata": {
            "tags": [],
            "needs_background": "light"
          }
        }
      ]
    },
    {
      "cell_type": "code",
      "metadata": {
        "id": "UrKxN_VGhZND",
        "colab": {
          "base_uri": "https://localhost:8080/",
          "height": 355
        },
        "outputId": "29c6fc4d-8f69-4a41-b042-330813cf859c"
      },
      "source": [
        "Image(filename='drive/My Drive/Colab Notebooks/clean_LTCOPD.png',width=500)"
      ],
      "execution_count": null,
      "outputs": [
        {
          "output_type": "execute_result",
          "data": {
            "image/png": "[encoded data removed]",
            "text/plain": [
              "<IPython.core.display.Image object>"
            ]
          },
          "metadata": {
            "tags": [],
            "image/png": {
              "width": 500
            }
          },
          "execution_count": 48
        }
      ]
    },
    {
      "cell_type": "code",
      "metadata": {
        "id": "AXHRAdABeyRv"
      },
      "source": [
        "plt.rcParams.update(plt.rcParamsDefault)\n",
        "cc=plt.hist(np.log(data1.values.flatten()),bins=100)"
      ],
      "execution_count": null,
      "outputs": []
    },
    {
      "cell_type": "markdown",
      "metadata": {
        "id": "ZE7LZlKhENto"
      },
      "source": [
        "##test merged lung tissue datasets in PCA and heirarchical clustering"
      ]
    },
    {
      "cell_type": "code",
      "metadata": {
        "colab": {
          "base_uri": "https://localhost:8080/",
          "height": 259
        },
        "id": "eaDQb-c8EU-x",
        "outputId": "6990c3ee-9ba3-4515-e7b5-40c26723a7e2"
      },
      "source": [
        "X=largeCOPD#.merge(data1,left_index=True, right_index=True)\n",
        "X=X.T\n",
        "y=(pd.DataFrame(np.zeros(largeCOPD.shape[1]))).astype('int').to_numpy().flatten()\n",
        "# from sklearn.cluster import AgglomerativeClustering\n",
        "X.fillna(0, inplace=True)\n",
        "# model = AgglomerativeClustering(distance_threshold=0, n_clusters=None)\n",
        "from sklearn.decomposition import PCA\n",
        "lw = 2\n",
        "pca = PCA(n_components=lw)\n",
        "X_r=pca.fit(X).transform(X)\n",
        "# model = model.fit(data1)\n",
        "from sklearn import datasets\n",
        "iris = datasets.load_iris()\n",
        "target_names = ['large','small']#iris.target_names\n",
        "\n",
        "plt.figure(figsize=(20, 4))\n",
        "\n",
        "colors = ['turquoise', 'darkorange']\n",
        "\n",
        "\n",
        "for color, i, target_name in zip(colors, [0, 1], target_names):\n",
        "    plt.scatter(X_r[y == i, 0], X_r[y == i, 1], color=color, alpha=.8, lw=lw,\n",
        "                label=target_name)\n",
        "plt.legend(loc='best', shadow=False, scatterpoints=1)\n",
        "plt.title('PCA of LT-RC datasets')"
      ],
      "execution_count": null,
      "outputs": [
        {
          "output_type": "execute_result",
          "data": {
            "text/plain": [
              "Text(0.5, 1.0, 'PCA of LT-RC datasets')"
            ]
          },
          "metadata": {
            "tags": []
          },
          "execution_count": 67
        },
        {
          "output_type": "display_data",
          "data": {
            "image/png": "[encoded data removed]",
            "text/plain": [
              "<Figure size 1440x288 with 1 Axes>"
            ]
          },
          "metadata": {
            "tags": [],
            "needs_background": "light"
          }
        }
      ]
    },
    {
      "cell_type": "code",
      "metadata": {
        "colab": {
          "base_uri": "https://localhost:8080/",
          "height": 248
        },
        "id": "Uw_agMGsFcyA",
        "outputId": "232b1be1-47ee-469f-90a1-a283a24f371e"
      },
      "source": [
        "X=data1#,left_index=True, right_index=True)\n",
        "X=X.T\n",
        "y=(pd.DataFrame(np.zeros(data1.shape[1]))).astype('int').to_numpy().flatten()\n",
        "# from sklearn.cluster import AgglomerativeClustering\n",
        "X.fillna(0, inplace=True)\n",
        "# model = AgglomerativeClustering(distance_threshold=0, n_clusters=None)\n",
        "from sklearn.decomposition import PCA\n",
        "lw = 2\n",
        "pca = PCA(n_components=lw)\n",
        "X_r=pca.fit(X).transform(X)\n",
        "# model = model.fit(data1)\n",
        "from sklearn import datasets\n",
        "iris = datasets.load_iris()\n",
        "target_names = ['large','small']#iris.target_names\n",
        "\n",
        "plt.figure(figsize=(20, 4))\n",
        "\n",
        "colors = ['turquoise', 'darkorange']\n",
        "\n",
        "\n",
        "for color, i, target_name in zip(colors, [0, 1], target_names):\n",
        "    plt.scatter(X_r[y == i, 0], X_r[y == i, 1], color=color, alpha=.8, lw=lw,\n",
        "                label=target_name)\n",
        "plt.legend(loc='best', shadow=False, scatterpoints=1)\n",
        "plt.title('PCA of LT-RC datasets')"
      ],
      "execution_count": null,
      "outputs": [
        {
          "output_type": "execute_result",
          "data": {
            "text/plain": [
              "Text(0.5, 1.0, 'PCA of LT-RC datasets')"
            ]
          },
          "metadata": {
            "tags": []
          },
          "execution_count": 68
        },
        {
          "output_type": "display_data",
          "data": {
            "image/png": "[encoded data removed]",
            "text/plain": [
              "<Figure size 1440x288 with 1 Axes>"
            ]
          },
          "metadata": {
            "tags": [],
            "needs_background": "light"
          }
        }
      ]
    },
    {
      "cell_type": "code",
      "metadata": {
        "colab": {
          "base_uri": "https://localhost:8080/",
          "height": 943
        },
        "id": "uMgIa5N0dq32",
        "outputId": "3dc07632-9797-4eef-eb24-300d74892673"
      },
      "source": [
        "X=largeCOPD.merge(data1,left_index=True, right_index=True)\n",
        "X=X.T\n",
        "y=(pd.DataFrame(np.zeros(largeCOPD.shape[1])).append(pd.DataFrame(np.ones(data1.shape[1])))).astype('int').to_numpy().flatten()\n",
        "# from sklearn.cluster import AgglomerativeClustering\n",
        "X.fillna(0, inplace=True)\n",
        "# model = AgglomerativeClustering(distance_threshold=0, n_clusters=None)\n",
        "from sklearn.decomposition import PCA\n",
        "lw = 2\n",
        "pca = PCA(n_components=lw)\n",
        "X_r=pca.fit(X).transform(X)\n",
        "# model = model.fit(data1)\n",
        "from sklearn import datasets\n",
        "iris = datasets.load_iris()\n",
        "target_names = ['large','small']#iris.target_names\n",
        "\n",
        "plt.figure(figsize=(20, 20))\n",
        "\n",
        "colors = ['turquoise', 'darkorange']\n",
        "\n",
        "\n",
        "for color, i, target_name in zip(colors, [0, 1], target_names):\n",
        "    plt.scatter(X_r[y == i, 0], X_r[y == i, 1], color=color, alpha=.5, lw=lw,\n",
        "                label=target_name, )\n",
        "plt.legend(loc='best', shadow=False, scatterpoints=1)\n",
        "plt.title('PCA of LT-RC and LT-COPD datasets')"
      ],
      "execution_count": null,
      "outputs": [
        {
          "output_type": "execute_result",
          "data": {
            "text/plain": [
              "Text(0.5, 1.0, 'PCA of LT-RC and LT-COPD datasets')"
            ]
          },
          "metadata": {
            "tags": []
          },
          "execution_count": 73
        },
        {
          "output_type": "display_data",
          "data": {
            "image/png": "[encoded data removed]",
            "text/plain": [
              "<Figure size 1440x1440 with 1 Axes>"
            ]
          },
          "metadata": {
            "tags": [],
            "needs_background": "light"
          }
        }
      ]
    },
    {
      "cell_type": "code",
      "metadata": {
        "id": "wDzY3Lyok3mg"
      },
      "source": [
        "from scipy.cluster.hierarchy import dendrogram\n",
        "def plot_dendrogram(model, **kwargs):\n",
        "    # Create linkage matrix and then plot the dendrogram\n",
        "\n",
        "    # create the counts of samples under each node\n",
        "    counts = np.zeros(model.children_.shape[0])\n",
        "    n_samples = len(model.labels_)\n",
        "    for i, merge in enumerate(model.children_):\n",
        "        current_count = 0\n",
        "        for child_idx in merge:\n",
        "            if child_idx < n_samples:\n",
        "                current_count += 1  # leaf node\n",
        "            else:\n",
        "                current_count += counts[child_idx - n_samples]\n",
        "        counts[i] = current_count\n",
        "\n",
        "    linkage_matrix = np.column_stack([model.children_, model.distances_,\n",
        "                                      counts]).astype(float)\n",
        "\n",
        "    # Plot the corresponding dendrogram\n",
        "    dendrogram(linkage_matrix, **kwargs)\n"
      ],
      "execution_count": null,
      "outputs": []
    },
    {
      "cell_type": "code",
      "metadata": {
        "colab": {
          "base_uri": "https://localhost:8080/",
          "height": 245
        },
        "id": "rAlxMoO7kfqp",
        "outputId": "02d9ad5f-dee8-4f70-f776-b1ed8783e6b9"
      },
      "source": [
        "plt.figure(figsize=(20, 4))\n",
        "plt.title('Hierarchical Clustering Dendrogram')\n",
        "# plot the top three levels of the dendrogram\n",
        "plot_dendrogram(model, truncate_mode='level', p=3,)\n",
        "plt.xlabel(\"Number of points in node (or index of point if no parenthesis).\")\n",
        "plt.show()"
      ],
      "execution_count": null,
      "outputs": [
        {
          "output_type": "display_data",
          "data": {
            "image/png": "[encoded data removed]",
            "text/plain": [
              "<Figure size 1440x288 with 1 Axes>"
            ]
          },
          "metadata": {
            "tags": [],
            "needs_background": "light"
          }
        }
      ]
    },
    {
      "cell_type": "code",
      "metadata": {
        "id": "cfBn-tUXqUeI"
      },
      "source": [
        "plt.xkcd();\n",
        "from scipy import stats, spatial, cluster\n",
        "Z = cluster.hierarchy.linkage(cc, \"complete\")"
      ],
      "execution_count": null,
      "outputs": []
    },
    {
      "cell_type": "code",
      "metadata": {
        "id": "W9Ydp2TgvVlI"
      },
      "source": [
        "plt.style.use('classic')\n",
        "plt.figure(figsize=(70, 4))\n",
        "plt.title(\"Here's a dendrogram of our hierarchical clustering\")\n",
        "cluster.hierarchy.dendrogram(Z);"
      ],
      "execution_count": null,
      "outputs": []
    },
    {
      "cell_type": "markdown",
      "metadata": {
        "id": "-IwHRfXWMGpi"
      },
      "source": [
        "#create and run PANDA"
      ]
    },
    {
      "cell_type": "code",
      "metadata": {
        "colab": {
          "base_uri": "https://localhost:8080/"
        },
        "id": "3rjHBE15Tqes",
        "outputId": "3dc50316-8a2e-4aad-9f50-94575d9a0a7e"
      },
      "source": [
        "gse.pivot_samples\n"
      ],
      "execution_count": null,
      "outputs": [
        {
          "output_type": "execute_result",
          "data": {
            "text/plain": [
              "{'GPL10558': <d: GPL10558>}"
            ]
          },
          "metadata": {
            "tags": []
          },
          "execution_count": 49
        }
      ]
    },
    {
      "cell_type": "code",
      "metadata": {
        "id": "hJ92A0TC0lht"
      },
      "source": [
        "expression1 = gse.pivot_samples('VALUE')\n",
        "gpl = gse.gpls[next(iter(gse.gpls))]\n",
        "data = gse.pivot_samples(values=\"VALUE\")#, gpl=gpl, annotation_column=\"Symbol\")\n",
        "pheno=gse.phenotype_data.rename(columns={'characteristics_ch1.0.age': 'age',\"characteristics_ch1.1.Sex\":\"sex\",\"characteristics_ch1.3.bmi\":\"bmi\",\"characteristics_ch1.6.fev1.pp\":\"fev1\",\"characteristics_ch1.4.packyears\":\"PY\"})\n",
        "pheno[['age',\"sex\",\"bmi\",\"fev1\",\"PY\"]].to_csv('pheno_data.txt',sep='\\t',index=True,header=True)\n",
        "\n",
        "names=pd.DataFrame([gse.gpls['GPL10558'].table['ID'],gse.gpls['GPL10558'].table['ILMN_Gene']]).transpose()\n",
        "data1=pd.merge(expression1,names,left_index=True,right_on='ID')\n",
        "\n",
        "data1['loc']=gse.gpls['GPL10558'].table['Chromosome']\n",
        "\n",
        "data1.index=data1['ILMN_Gene']\n",
        "data1=data1.dropna(how='any')\n",
        "del data1['ID'], data1['ILMN_Gene']\n",
        "\n",
        "# data1.to_csv('drive/My Drive/Colab Notebooks/GSE76925.txt',sep='\\t')"
      ],
      "execution_count": null,
      "outputs": []
    },
    {
      "cell_type": "code",
      "metadata": {
        "id": "wl4G2MG2UkUx"
      },
      "source": [
        "jeff=(data1)\n",
        "cc=jeff[jeff['loc']=='Y'].index"
      ],
      "execution_count": null,
      "outputs": []
    },
    {
      "cell_type": "code",
      "metadata": {
        "id": "Fp0Hi228cVy-"
      },
      "source": [
        "ltrc_genes=pd.read_csv('drive/My Drive/Colab Notebooks/LTRC_genes_chr.txt',sep='\\t')\n",
        "data2=data1.merge(ltrc_genes,left_index=True,right_on='gene')"
      ],
      "execution_count": null,
      "outputs": []
    },
    {
      "cell_type": "code",
      "metadata": {
        "colab": {
          "base_uri": "https://localhost:8080/"
        },
        "id": "Z1rdvcsWc1Cc",
        "outputId": "d365d4a6-0b0f-4a23-9254-c147b75fbc45"
      },
      "source": [
        "pd.unique(data2.gene).shape"
      ],
      "execution_count": null,
      "outputs": [
        {
          "output_type": "execute_result",
          "data": {
            "text/plain": [
              "(14212,)"
            ]
          },
          "metadata": {
            "tags": []
          },
          "execution_count": 7
        }
      ]
    },
    {
      "cell_type": "code",
      "metadata": {
        "id": "ATyuL5NK8txw"
      },
      "source": [
        "cc=pd.unique(data2['gene'][data2['chr']=='chrY'].tolist())"
      ],
      "execution_count": null,
      "outputs": []
    },
    {
      "cell_type": "code",
      "metadata": {
        "id": "9ospROvRBNRu"
      },
      "source": [
        "data2.index=data2.gene\n",
        "data2=data2.groupby(data2.index).mean()\n",
        "del data2['GSM2040941'],data2['GSM2040942'] ##remove rather than combat adjusting, only two samples from seperate batch\n",
        "# combat.fit(Y=data2, b=b, X=X, C=C)"
      ],
      "execution_count": null,
      "outputs": []
    },
    {
      "cell_type": "code",
      "metadata": {
        "id": "VCJz6JJ-ZfkQ"
      },
      "source": [
        "pd.DataFrame(data2.index).to_csv('drive/My Drive/Colab Notebooks/LTCOPD_genes.txt',index=False,header=False,sep='\\t')"
      ],
      "execution_count": null,
      "outputs": []
    },
    {
      "cell_type": "code",
      "metadata": {
        "id": "Nu6tHmPo0q5I",
        "colab": {
          "base_uri": "https://localhost:8080/"
        },
        "outputId": "ff322bbb-8b6a-4884-b9f2-fc2001f683d4"
      },
      "source": [
        "# data3=data1data1[data1['loc']!='Y']\n",
        "\n",
        "# del data2['loc'], data2['ensg'], data2['gene'], data2['chr']\n",
        "\n",
        "data2.columns=[gse.phenotype_data['characteristics_ch1.1.Sex'][:-2]+gse.phenotype_data['characteristics_ch1.5.copd'][:-2]]\n",
        "data2.loc[:,'Fcase'].to_csv('Fcase.txt',sep='\\t',index=True,header=False)\n",
        "data2.loc[:,'Fcont'].to_csv('Fcont.txt',sep='\\t',index=True,header=False)\n",
        "print([data2.loc[:,'Fcase'].shape,data2.loc[:,'Fcont'].shape])\n",
        "\n",
        "# data4=data1 #pd.DataFrame(np.copy(data1)) #data4[data4['loc']!='Y']\n",
        "# del data4['loc']\n",
        "# data2.columns=[gse.phenotype_data['characteristics_ch1.1.Sex']+gse.phenotype_data['characteristics_ch1.5.copd']]\n",
        "data2.loc[:,'Mcase'].to_csv('Mcase.txt',sep='\\t',index=True,header=False)\n",
        "data2.loc[:,'Mcont'].to_csv('Mcont.txt',sep='\\t',index=True,header=False)\n",
        "print([data2.loc[:,'Mcase'].shape,data2.loc[:,'Mcont'].shape])"
      ],
      "execution_count": null,
      "outputs": [
        {
          "output_type": "stream",
          "text": [
            "[(14212, 57), (14212, 25)]\n",
            "[(14212, 52), (14212, 15)]\n"
          ],
          "name": "stdout"
        }
      ]
    },
    {
      "cell_type": "code",
      "metadata": {
        "id": "MP5s05AN0q7Z"
      },
      "source": [
        "# LCL_ppi=pd.read_csv('https://granddb.s3.amazonaws.com/optPANDA/ppi/ppi_complete.txt',sep='\\t',header=None)\n",
        "# LCL_ppi.to_csv('drive/My Drive/Colab Notebooks/ppi_complete.txt',sep='\\t',index=False,header=False)\n",
        "\n",
        "# coding_LCL_motif=pd.read_csv('https://granddb.s3.amazonaws.com/optPANDA/motifs/Hugo_motifCellLine.txt',sep='\\t',header=None)\n",
        "# coding_LCL_motif.to_csv('drive/My Drive/Colab Notebooks/coding_LCL_motif.txt',sep='\\t',index=False,header=False)\n",
        "\n",
        "motif_data='drive/My Drive/Colab Notebooks/coding_LCL_motif.txt'\n",
        "ppi_data='drive/My Drive/Colab Notebooks/ppi_complete.txt'\n",
        "F_motif_data='drive/My Drive/Colab Notebooks/F_coding_LCL_motif.txt'"
      ],
      "execution_count": null,
      "outputs": []
    },
    {
      "cell_type": "code",
      "metadata": {
        "id": "9zQEQyRe5e60"
      },
      "source": [
        ""
      ],
      "execution_count": null,
      "outputs": []
    },
    {
      "cell_type": "code",
      "metadata": {
        "id": "Ga3_ySlaVWvB"
      },
      "source": [
        "# coding_LCL_motif.columns=['TF','gene','W']\n",
        "# aa=coding_LCL_motif[~coding_LCL_motif['TF'].isin(cc)]\n",
        "# bb=coding_LCL_motif[coding_LCL_motif['TF'].isin(cc)]\n",
        "# bb['W']=0\n",
        "# F_coding_LCL_motif=aa.append(bb)\n",
        "\n",
        "# aa=coding_LCL_motif[~coding_LCL_motif['gene'].isin(cc)]\n",
        "# bb=coding_LCL_motif[coding_LCL_motif['gene'].isin(cc)]\n",
        "# bb['W']=0\n",
        "# F_coding_LCL_motif=aa.append(bb)\n",
        "# coding_LCL_motif.to_csv('drive/My Drive/Colab Notebooks/F_coding_LCL_motif.txt',sep='\\t',index=False,header=False)\n",
        "# F_motif_data='drive/My Drive/Colab Notebooks/F_coding_LCL_motif.txt'"
      ],
      "execution_count": null,
      "outputs": []
    },
    {
      "cell_type": "code",
      "metadata": {
        "id": "vh0eSqHB0q95"
      },
      "source": [
        "panda_obj1 = Panda('Fcase.txt', F_motif_data, ppi_data,computing='gpu',precision='single',save_tmp=False,save_memory = False, remove_missing=False, keep_expression_matrix = False,modeProcess = 'intersection')\n",
        "np.save('drive/My Drive/Colab Notebooks/model_output/Panda_F0case.npy',panda_obj1.export_panda_results)\n",
        "del panda_obj1\n",
        "panda_obj2 = Panda('Mcase.txt', motif_data, ppi_data,computing='gpu',precision='single',save_tmp=False,save_memory = False, remove_missing=False, keep_expression_matrix = False,modeProcess = 'intersection')\n",
        "np.save('drive/My Drive/Colab Notebooks/model_output/Panda_Mcase.npy',panda_obj2.export_panda_results)\n",
        "del panda_obj2\n",
        "panda_obj3 = Panda('Fcont.txt', F_motif_data, ppi_data,computing='gpu',precision='single',save_tmp=False,save_memory = False, remove_missing=False, keep_expression_matrix = False,modeProcess = 'intersection')\n",
        "np.save('drive/My Drive/Colab Notebooks/model_output/Panda_F0cont.npy',panda_obj3.export_panda_results)\n",
        "del panda_obj3\n",
        "panda_obj4 = Panda('Mcont.txt', motif_data, ppi_data,computing='gpu',precision='single',save_tmp=False,save_memory = False, remove_missing=False, keep_expression_matrix = False,modeProcess = 'intersection')\n",
        "np.save('drive/My Drive/Colab Notebooks/model_output/Panda_Mcont.npy',panda_obj4.export_panda_results)\n",
        "del panda_obj4\n",
        "# panda_obj5 = Panda('FcaseFULL.txt', motif_data, ppi_data,computing='gpu',precision='single',save_tmp=False,save_memory = False, remove_missing=False, keep_expression_matrix = True,modeProcess = 'intersection')\n",
        "# np.save('drive/My Drive/Panda_FcaseFULL.npy',panda_obj5.export_panda_results)\n",
        "# del panda_obj5\n",
        "# panda_obj6 = Panda('FcontFULL.txt', motif_data, ppi_data,computing='gpu',precision='single',save_tmp=False,save_memory = False, remove_missing=False, keep_expression_matrix = True,modeProcess = 'intersection')\n",
        "# np.save('drive/My Drive/Panda_FcontFULL.npy',panda_obj6.export_panda_results)\n",
        "# del panda_obj6\n"
      ],
      "execution_count": null,
      "outputs": []
    },
    {
      "cell_type": "markdown",
      "metadata": {
        "id": "t-GfiKxM14s1"
      },
      "source": [
        "##Load Panda nets"
      ]
    },
    {
      "cell_type": "code",
      "metadata": {
        "id": "6AFg-bA00loh"
      },
      "source": [
        "# Panda_Fcase=np.load('drive/My Drive/Colab Notebooks dcm/Panda_Fcase.npy',allow_pickle=True)#,sep='\\t',index_col=0,header=None,names=['loc','symbol'])\n",
        "# Panda_Fcont=np.load('drive/My Drive/Colab Notebooks dcm/Panda_Fcont.npy',allow_pickle=True)#,sep='\\t',index_col=0,header=None,names=['loc','symbol'])\n",
        "# Panda_Fcont=pd.DataFrame(Panda_Fcont)\n",
        "# Panda_Fcont.columns=['tf','gene','motif','force']\n",
        "# Panda_Fcase=pd.DataFrame(Panda_Fcase)\n",
        "# Panda_Fcase.columns=['tf','gene','motif','force']\n",
        "\n",
        "Panda_Mcase=np.load('drive/My Drive/Colab Notebooks/model_output/Panda_Mcase.npy',allow_pickle=True)#,sep='\\t',index_col=0,header=None,names=['loc','symbol'])\n",
        "Panda_Mcont=np.load('drive/My Drive/Colab Notebooks/model_output/Panda_Mcont.npy',allow_pickle=True)#,sep='\\t',index_col=0,header=None,names=['loc','symbol'])\n",
        "Panda_Mcont=pd.DataFrame(Panda_Mcont)\n",
        "Panda_Mcont.columns=['tf','gene','motif','force']\n",
        "Panda_Mcase=pd.DataFrame(Panda_Mcase)\n",
        "Panda_Mcase.columns=['tf','gene','motif','force']\n",
        "\n",
        "Panda_FcaseFULL=np.load('drive/My Drive/Colab Notebooks/model_output/Panda_F0case.npy',allow_pickle=True)#,sep='\\t',index_col=0,header=None,names=['loc','symbol'])\n",
        "Panda_FcontFULL=np.load('drive/My Drive/Colab Notebooks/model_output/Panda_F0cont.npy',allow_pickle=True)#,sep='\\t',index_col=0,header=None,names=['loc','symbol'])\n",
        "Panda_FcontFULL=pd.DataFrame(Panda_FcontFULL)\n",
        "Panda_FcontFULL.columns=['tf','gene','motif','force']\n",
        "Panda_FcaseFULL=pd.DataFrame(Panda_FcaseFULL)\n",
        "Panda_FcaseFULL.columns=['tf','gene','motif','force']\n"
      ],
      "execution_count": null,
      "outputs": []
    },
    {
      "cell_type": "markdown",
      "metadata": {
        "id": "Uif2YCiRPfgI"
      },
      "source": [
        "##TF and gene specific zscore diff F\n",
        "\n"
      ]
    },
    {
      "cell_type": "code",
      "metadata": {
        "id": "HYHlMqcwOJ8y"
      },
      "source": [
        "from scipy.stats import zscore\n",
        "# Panda_nullA.panda_results = pd.DataFrame(Panda_nullA.export_panda_results, columns=['tf','gene','motif','force'])\n",
        "subset_panda_results3 = Panda_FcontFULL.sort_values(by=['force'], ascending=False)\n",
        "# subset_panda_results3['merge']=subset_panda_results3.tf+'-'+subset_panda_results3.gene\n",
        "\n",
        "# Panda_nullB.panda_results = pd.DataFrame(Panda_nullB.export_panda_results, columns=['tf','gene','motif','force'])\n",
        "subset_panda_results1 = Panda_FcaseFULL.sort_values(by=['force'], ascending=False)\n",
        "# subset_panda_results1['merge']=subset_panda_results1.tf+'-'+subset_panda_results1.gene\n",
        "del subset_panda_results3['motif'],subset_panda_results1['motif']\n",
        "TFsum_3=subset_panda_results3.groupby(['tf']).agg({'force':sum})\n",
        "TFsum_1=subset_panda_results1.groupby(['tf']).agg({'force':sum})\n",
        "TFsum_1['force']=zscore(TFsum_1['force'])\n",
        "TFsum_3['force']=zscore(TFsum_3['force']) ##reduces range from 1500 to 3\n",
        "\n",
        "geneSum_3=subset_panda_results3.groupby(['gene']).agg({'force':sum})\n",
        "geneSum_1=subset_panda_results1.groupby(['gene']).agg({'force':sum})\n",
        "geneSum_3['force']=zscore(geneSum_3['force'])\n",
        "geneSum_1['force']=zscore(geneSum_1['force'])\n",
        "\n",
        "mmm=TFsum_3.merge(TFsum_1, left_on=['tf'], right_on=['tf'])\n",
        "mmmm=geneSum_3.merge(geneSum_1, left_on=['gene'], right_on=['gene'])\n",
        "\n",
        "del [[subset_panda_results3, subset_panda_results1,Panda_FcontFULL,Panda_FcaseFULL]]\n",
        "gc.collect()\n",
        "subset_panda_results3=pd.DataFrame()\n",
        "subset_panda_results1=pd.DataFrame()\n",
        "Panda_FcontFULL=pd.DataFrame()\n",
        "Panda_FcontFULL=pd.DataFrame()\n",
        "\n",
        "\n",
        "mmm['diff']=mmm.force_x-mmm.force_y\n",
        "mmm = mmm.sort_values(by ='diff' )\n",
        "\n",
        "\n",
        "mmmm['diff']=mmmm.force_x-mmmm.force_y\n",
        "mmmm = mmmm.sort_values(by ='diff' )\n",
        "mmm.to_csv('drive/My Drive/TF_zscore_F.txt',sep='\\t')\n",
        "mmmm.to_csv('drive/My Drive/gene_zscore_F.txt',sep='\\t')"
      ],
      "execution_count": null,
      "outputs": []
    },
    {
      "cell_type": "markdown",
      "metadata": {
        "id": "MjWLN5s8P_00"
      },
      "source": [
        "##TF and gene specific zscore diff M"
      ]
    },
    {
      "cell_type": "code",
      "metadata": {
        "id": "jDy-eg-IPuGE"
      },
      "source": [
        "# Panda_nullA.panda_results = pd.DataFrame(Panda_nullA.export_panda_results, columns=['tf','gene','motif','force'])\n",
        "subset_panda_results3 = Panda_Mcont.sort_values(by=['force'], ascending=False)\n",
        "# subset_panda_results3['merge']=subset_panda_results3.tf+'-'+subset_panda_results3.gene\n",
        "\n",
        "# Panda_nullB.panda_results = pd.DataFrame(Panda_nullB.export_panda_results, columns=['tf','gene','motif','force'])\n",
        "subset_panda_results1 = Panda_Mcase.sort_values(by=['force'], ascending=False)\n",
        "# subset_panda_results1['merge']=subset_panda_results1.tf+'-'+subset_panda_results1.gene\n",
        "del subset_panda_results3['motif'],subset_panda_results1['motif']\n",
        "TFsum_3=subset_panda_results3.groupby(['tf']).agg({'force':sum})\n",
        "TFsum_1=subset_panda_results1.groupby(['tf']).agg({'force':sum})\n",
        "TFsum_1['force']=zscore(TFsum_1['force'])\n",
        "TFsum_3['force']=zscore(TFsum_3['force'])\n",
        "\n",
        "geneSum_3=subset_panda_results3.groupby(['gene']).agg({'force':sum})\n",
        "geneSum_1=subset_panda_results1.groupby(['gene']).agg({'force':sum})\n",
        "geneSum_3['force']=zscore(geneSum_3['force'])\n",
        "geneSum_1['force']=zscore(geneSum_1['force'])\n",
        "\n",
        "nnn=TFsum_3.merge(TFsum_1, left_on=['tf'], right_on=['tf'])\n",
        "nnnn=geneSum_3.merge(geneSum_1, left_on=['gene'], right_on=['gene'])\n",
        "\n",
        "del [[subset_panda_results3, subset_panda_results1,Panda_Mcont,Panda_Mcase]]\n",
        "gc.collect()\n",
        "subset_panda_results3=pd.DataFrame()\n",
        "subset_panda_results1=pd.DataFrame()\n",
        "Panda_Mcont=pd.DataFrame()\n",
        "Panda_Mcase=pd.DataFrame()\n",
        "\n",
        "nnn['diff']=nnn.force_x-nnn.force_y\n",
        "nnn = nnn.sort_values(by ='diff' )\n",
        "\n",
        "nnnn['diff']=nnnn.force_x-nnnn.force_y\n",
        "nnnn = nnnn.sort_values(by ='diff' )\n",
        "nnn.to_csv('drive/My Drive/TF_zscore_M.txt',sep='\\t')\n",
        "nnnn.to_csv('drive/My Drive/gene_zscore_M.txt',sep='\\t')"
      ],
      "execution_count": null,
      "outputs": []
    },
    {
      "cell_type": "code",
      "metadata": {
        "id": "zpinAPt6XgjN",
        "colab": {
          "base_uri": "https://localhost:8080/",
          "height": 299
        },
        "outputId": "27ec4273-84b0-4a4d-c3e3-ce3e8ff28b92"
      },
      "source": [
        "sex_tf_diff=mmm.merge(nnn,on='tf')\n",
        "a=plt.hist(sex_tf_diff['diff_x'],bins=100,label='male')\n",
        "b=plt.hist(sex_tf_diff['diff_y'],bins=100,label='female')\n",
        "plt.title('Sex-specific Ca-Co TF degree diff')\n",
        "plt.legend(loc=\"best\")"
      ],
      "execution_count": null,
      "outputs": [
        {
          "output_type": "execute_result",
          "data": {
            "text/plain": [
              "<matplotlib.legend.Legend at 0x7fc8c41cb910>"
            ]
          },
          "metadata": {
            "tags": []
          },
          "execution_count": 13
        },
        {
          "output_type": "display_data",
          "data": {
            "image/png": "[encoded data removed]",
            "text/plain": [
              "<Figure size 432x288 with 1 Axes>"
            ]
          },
          "metadata": {
            "tags": [],
            "needs_background": "light"
          }
        }
      ]
    },
    {
      "cell_type": "code",
      "metadata": {
        "colab": {
          "base_uri": "https://localhost:8080/"
        },
        "id": "6o_WFyXK_jOR",
        "outputId": "e82b29af-ee91-4c5c-8c9a-2043d54da6ad"
      },
      "source": [
        "[sex_tf_diff[(sex_tf_diff['diff_y'])>.4].index.values,sex_tf_diff[(sex_tf_diff['diff_y'])<-0.5].index.values] #,sex_tf_diff[np.abs(sex_tf_diff['diff_y'])>.4].tf]"
      ],
      "execution_count": null,
      "outputs": [
        {
          "output_type": "execute_result",
          "data": {
            "text/plain": [
              "[array(['MEF2A', 'ZFHX3', 'POU2F2', 'HOXD9', 'POU4F1', 'DMRTC2', 'HMG20B',\n",
              "        'POU1F1', 'POU3F1', 'LHX3', 'NKX6-1', 'LIN54', 'MSX2', 'ZNF32',\n",
              "        'MSX1', 'DMRT2', 'POU3F3', 'BARX1', 'LHX1', 'POU3F2', 'FOXD2',\n",
              "        'FOXB1', 'TBPL2'], dtype=object),\n",
              " array(['KLF5', 'KLF15', 'KLF1', 'ZEB1', 'MAZ', 'ZNF281', 'ZNF263', 'PURA',\n",
              "        'KLF4', 'SMAD1'], dtype=object)]"
            ]
          },
          "metadata": {
            "tags": []
          },
          "execution_count": 21
        }
      ]
    },
    {
      "cell_type": "code",
      "metadata": {
        "id": "6bJVKb2CX1VJ",
        "colab": {
          "base_uri": "https://localhost:8080/",
          "height": 299
        },
        "outputId": "f42bdbe9-0299-4446-fa20-417bc0a01d74"
      },
      "source": [
        "sex_gene_diff=mmmm.merge(nnnn,on='gene')\n",
        "a=plt.hist(sex_gene_diff['diff_x'],bins=100,label='male')\n",
        "b=plt.hist(sex_gene_diff['diff_y'],bins=100,label='female')\n",
        "plt.title('Sex-specific Ca-Co gene degree diff')\n",
        "plt.legend(loc=\"best\")"
      ],
      "execution_count": null,
      "outputs": [
        {
          "output_type": "execute_result",
          "data": {
            "text/plain": [
              "<matplotlib.legend.Legend at 0x7fc8c30a3090>"
            ]
          },
          "metadata": {
            "tags": []
          },
          "execution_count": 24
        },
        {
          "output_type": "display_data",
          "data": {
            "image/png": "[encoded data removed]",
            "text/plain": [
              "<Figure size 432x288 with 1 Axes>"
            ]
          },
          "metadata": {
            "tags": [],
            "needs_background": "light"
          }
        }
      ]
    },
    {
      "cell_type": "code",
      "metadata": {
        "id": "5OVnHA9AnxI9",
        "colab": {
          "base_uri": "https://localhost:8080/"
        },
        "outputId": "d2e66a6c-b8a4-4f7a-d9c3-3b919141beaf"
      },
      "source": [
        "[sex_gene_diff[(sex_gene_diff['diff_y'])>1].index.values,sex_gene_diff[(sex_gene_diff['diff_y'])<-1].index.values] #,sex_tf_diff[np.abs(sex_tf_diff['diff_y'])>.4].tf]"
      ],
      "execution_count": null,
      "outputs": [
        {
          "output_type": "execute_result",
          "data": {
            "text/plain": [
              "[array(['EFR3B', 'ULK4', 'SYT13', 'PDPN', 'SV2B', 'GRM5', 'RAVER2',\n",
              "        'PTPRN2', 'ZBTB32', 'CPLX2', 'PCDHA1', 'SYN2', 'ADRB2', 'BBS12',\n",
              "        'NR6A1', 'CAMP', 'TMEM9', 'CHRNB3', 'TNP1', 'MUL1', 'PSMG3',\n",
              "        'TSPAN31', 'RPS19', 'TMEM159', 'BTBD9', 'ZNF706', 'CRIPT',\n",
              "        'MRPS36', 'HIRIP3', 'SNAPIN', 'CHRNB4', 'TMEM18', 'BCDIN3D',\n",
              "        'RNF121', 'CXCR1', 'COL9A3', 'CEACAM3', 'TCL6', 'RBP2', 'NAIF1',\n",
              "        'FKBP1B', 'FETUB', 'LOH12CR2', 'SNIP1', 'TP53RK', 'CARD6', 'GZMM',\n",
              "        'ARHGEF3', 'CCR9'], dtype=object),\n",
              " array(['SNORA6', 'HSD17B13', 'PLGLB1', 'FGD2', 'ZMAT3', 'BTAF1',\n",
              "        'DNAJC5B', 'ATF4', 'HNRNPA2B1', 'FCRL4', 'KIF11', 'SNORA4',\n",
              "        'ETFDH', 'GREM1', 'ACO2', 'CD4', 'NBPF10', 'OLAH', 'SNORD10',\n",
              "        'BTN2A1', 'YBX1', 'SFXN3', 'SH2B3', 'CD74', 'CD37', 'CCR4', 'MED1',\n",
              "        'TSTD2', 'NCF1B'], dtype=object)]"
            ]
          },
          "metadata": {
            "tags": []
          },
          "execution_count": 26
        }
      ]
    },
    {
      "cell_type": "code",
      "metadata": {
        "id": "UGv0ho-UzZCg"
      },
      "source": [
        ""
      ],
      "execution_count": null,
      "outputs": []
    },
    {
      "cell_type": "markdown",
      "metadata": {
        "id": "li6B2LG0UJeH"
      },
      "source": [
        "#Run larger COPD panda nets"
      ]
    },
    {
      "cell_type": "code",
      "metadata": {
        "id": "yD18G0Igjoyk"
      },
      "source": [
        "# LTRC_exp=pd.read_csv('drive/MyDrive/harvard/LARGE_COPD/LTRC_XXX_060521.txt',sep='\\t',index_col=0)\n",
        "# LTRC_exp_key=pd.read_csv('drive/MyDrive/harvard/LARGE_COPD/LTRC_XXXkey_060521.txt',sep='\\t',index_col=0)\n",
        "# data=np.multiply(LTRC_exp,LTRC_exp_key)\n",
        "LTRC_exp=pd.read_csv('drive/MyDrive/harvard/LARGE_COPD/LTRC_qsmooth_combat.txt',sep='\\t',index_col=0)\n",
        "ltrc_genes=pd.read_csv('drive/My Drive/Colab Notebooks/LTRC_genes_chr.txt',sep='\\t')\n",
        "LTRC_exp.index=LTRC_exp.index.str.split('.').str[0].tolist()\n",
        "data1=LTRC_exp.merge(ltrc_genes,left_index=True,right_on='ensg')\n",
        "data1.index=data1['gene']\n",
        "del data1['ensg'], data1['chr']\n",
        "data1=data1.groupby(data1.index).mean()"
      ],
      "execution_count": 22,
      "outputs": []
    },
    {
      "cell_type": "code",
      "metadata": {
        "colab": {
          "base_uri": "https://localhost:8080/"
        },
        "id": "1YXUi3ZaYTog",
        "outputId": "847bfe37-f5c7-47b3-e24e-31dea19c2d35"
      },
      "source": [
        "LTCOPD_genes=pd.read_csv('drive/My Drive/Colab Notebooks/LTCOPD_genes.txt',index_col=None,header=None,sep='\\t')\n",
        "data1=np.log2(data1.dropna(how='all'))\n",
        "data1=data1.merge(LTCOPD_genes,left_index=True,right_on=0)\n",
        "data1.index=data1[0]\n",
        "data1.replace([np.inf, -np.inf], np.nan,inplace=True)\n",
        "data1.replace(np.nan, 0,inplace=True)"
      ],
      "execution_count": 23,
      "outputs": [
        {
          "output_type": "stream",
          "text": [
            "/usr/local/lib/python3.7/dist-packages/ipykernel_launcher.py:2: RuntimeWarning: divide by zero encountered in log2\n",
            "  \n",
            "/usr/local/lib/python3.7/dist-packages/ipykernel_launcher.py:2: RuntimeWarning: invalid value encountered in log2\n",
            "  \n"
          ],
          "name": "stderr"
        }
      ]
    },
    {
      "cell_type": "code",
      "metadata": {
        "colab": {
          "base_uri": "https://localhost:8080/"
        },
        "id": "WwUF5dWjWckC",
        "outputId": "4d93cafb-baf8-4a99-e870-3d97d0003f9d"
      },
      "source": [
        "del data1[0]\n",
        "FC=data1.iloc[:,data1.columns.str.contains('_0_1')]\n",
        "FNC=data1.iloc[:,data1.columns.str.contains('_0_0')]\n",
        "MC=data1.iloc[:,data1.columns.str.contains('_1_1')]\n",
        "MNC=data1.iloc[:,data1.columns.str.contains('_1_0')]\n",
        "print([FC.shape,FNC.shape,MC.shape,MNC.shape])\n",
        "FC.to_csv('drive/My Drive/harvard/LARGE_COPD/FC_exp.txt',sep='\\t',index=True,header=False)\n",
        "FNC.to_csv('drive/My Drive/harvard/LARGE_COPD/FNC_exp.txt',sep='\\t',index=True,header=False)\n",
        "MC.to_csv('drive/My Drive/harvard/LARGE_COPD/MC_exp.txt',sep='\\t',index=True,header=False)\n",
        "MNC.to_csv('drive/My Drive/harvard/LARGE_COPD/MNC_exp.txt',sep='\\t',index=True,header=False)"
      ],
      "execution_count": 15,
      "outputs": [
        {
          "output_type": "stream",
          "text": [
            "[(14212, 176), (14212, 162), (14212, 201), (14212, 105)]\n"
          ],
          "name": "stdout"
        }
      ]
    },
    {
      "cell_type": "code",
      "metadata": {
        "id": "tP0h3_dK4wd8"
      },
      "source": [
        "# LCL_ppi=pd.read_csv('https://granddb.s3.amazonaws.com/optPANDA/ppi/ppi_complete.txt',sep='\\t',header=None)\n",
        "# LCL_ppi.to_csv('drive/My Drive/Colab Notebooks/ppi_complete.txt',sep='\\t',index=False,header=False)\n",
        "\n",
        "# coding_LCL_motif=pd.read_csv('https://granddb.s3.amazonaws.com/optPANDA/motifs/Hugo_motifCellLine.txt',sep='\\t',header=None)\n",
        "# coding_LCL_motif.to_csv('drive/My Drive/Colab Notebooks/coding_LCL_motif.txt',sep='\\t',index=False,header=False)\n",
        "\n",
        "# drive/My Drive/Colab Notebooks/coding_LCL_motif.txt\n",
        "motif_data='drive/My Drive/Colab Notebooks/coding_LCL_motif.txt'\n",
        "ppi_data='drive/My Drive/Colab Notebooks/ppi_complete.txt'\n",
        "F_motif_data='drive/My Drive/Colab Notebooks/F_coding_LCL_motif.txt'"
      ],
      "execution_count": 36,
      "outputs": []
    },
    {
      "cell_type": "code",
      "metadata": {
        "id": "YpwuKCutUNYk"
      },
      "source": [
        "panda_obj1 = Panda('drive/My Drive/harvard/LARGE_COPD/FC_exp.txt', F_motif_data, ppi_data,computing='gpu',precision='single',save_tmp=False,save_memory = False, remove_missing=False, keep_expression_matrix = False,modeProcess = 'intersection')\n",
        "np.save('drive/My Drive/Colab Notebooks/model_output/FC_LTRC.npy',panda_obj1.export_panda_results)\n",
        "del panda_obj1\n",
        "panda_obj2 = Panda('drive/My Drive/harvard/LARGE_COPD/MC_exp.txt', motif_data, ppi_data,computing='gpu',precision='single',save_tmp=False,save_memory = False, remove_missing=False, keep_expression_matrix = False,modeProcess = 'intersection')\n",
        "np.save('drive/My Drive/Colab Notebooks/model_output/MC_LTRC.npy',panda_obj2.export_panda_results)\n",
        "del panda_obj2\n",
        "panda_obj3 = Panda('drive/My Drive/harvard/LARGE_COPD/FNC_exp.txt', F_motif_data, ppi_data,computing='gpu',precision='single',save_tmp=False,save_memory = False, remove_missing=False, keep_expression_matrix = False,modeProcess = 'intersection')\n",
        "np.save('drive/My Drive/Colab Notebooks/model_output/FNC_LTRC.npy',panda_obj3.export_panda_results)\n",
        "del panda_obj3\n",
        "panda_obj4 = Panda('drive/My Drive/harvard/LARGE_COPD/MNC_exp.txt', motif_data, ppi_data,computing='gpu',precision='single',save_tmp=False,save_memory = False, remove_missing=False, keep_expression_matrix = False,modeProcess = 'intersection')\n",
        "np.save('drive/My Drive/Colab Notebooks/model_output/MNC_LTRC.npy',panda_obj4.export_panda_results)\n",
        "del panda_obj4\n",
        "# panda_obj5 = Panda('FcaseFULL.txt', motif_data, ppi_data,computing='gpu',precision='single',save_tmp=False,save_memory = False, remove_missing=False, keep_expression_matrix = True,modeProcess = 'intersection')\n",
        "# np.save('drive/My Drive/Panda_FcaseFULL.npy',panda_obj5.export_panda_results)\n",
        "# del panda_obj5\n",
        "# panda_obj6 = Panda('FcontFULL.txt', motif_data, ppi_data,computing='gpu',precision='single',save_tmp=False,save_memory = False, remove_missing=False, keep_expression_matrix = True,modeProcess = 'intersection')\n",
        "# np.save('drive/My Drive/Panda_FcontFULL.npy',panda_obj6.export_panda_results)\n",
        "# del panda_obj6\n"
      ],
      "execution_count": null,
      "outputs": []
    },
    {
      "cell_type": "markdown",
      "metadata": {
        "id": "Zxe3WSTC1-DT"
      },
      "source": [
        "##MALE"
      ]
    },
    {
      "cell_type": "code",
      "metadata": {
        "id": "vHJnKTZs18US"
      },
      "source": [
        "from scipy.stats import zscore"
      ],
      "execution_count": 18,
      "outputs": []
    },
    {
      "cell_type": "code",
      "metadata": {
        "id": "ip6P12IlHUL1"
      },
      "source": [
        "MC=np.load('drive/My Drive/Colab Notebooks/model_output/MC_LTRC.npy',allow_pickle=True)#,sep='\\t',index_col=0,header=None,names=['loc','symbol'])\n",
        "MNC=np.load('drive/My Drive/Colab Notebooks/model_output/MNC_LTRC.npy',allow_pickle=True)#,sep='\\t',index_col=0,header=None,names=['loc','symbol'])\n",
        "MNC=pd.DataFrame(MNC)\n",
        "MNC.columns=['tf','gene','motif','force']\n",
        "MC=pd.DataFrame(MC)\n",
        "MC.columns=['tf','gene','motif','force']"
      ],
      "execution_count": 19,
      "outputs": []
    },
    {
      "cell_type": "code",
      "metadata": {
        "id": "PJ0AF5Yk18Wv"
      },
      "source": [
        "TFsum_3=MC.groupby(['tf']).agg({'force':sum})\n",
        "TFsum_1=MNC.groupby(['tf']).agg({'force':sum})\n",
        "TFsum_1['force']=zscore(TFsum_1['force'])\n",
        "TFsum_3['force']=zscore(TFsum_3['force']) ##reduces range from 1500 to 3\n",
        "\n",
        "geneSum_3=MC.groupby(['gene']).agg({'force':sum})\n",
        "geneSum_1=MNC.groupby(['gene']).agg({'force':sum})\n",
        "geneSum_3['force']=zscore(geneSum_3['force'])\n",
        "geneSum_1['force']=zscore(geneSum_1['force'])\n",
        "\n",
        "mmm=TFsum_3.merge(TFsum_1, left_on=['tf'], right_on=['tf'])\n",
        "mmmm=geneSum_3.merge(geneSum_1, left_on=['gene'], right_on=['gene'])\n",
        "\n",
        "# del [[MC, MNC]]\n",
        "# gc.collect()\n",
        "MC=pd.DataFrame()\n",
        "MNC=pd.DataFrame()\n",
        "# Panda_FcontFULL=pd.DataFrame()\n",
        "# Panda_FcontFULL=pd.DataFrame()\n",
        "\n",
        "\n",
        "mmm['diff']=mmm.force_x-mmm.force_y\n",
        "mmm = mmm.sort_values(by ='diff' )\n",
        "\n",
        "\n",
        "mmmm['diff']=mmmm.force_x-mmmm.force_y\n",
        "mmmm = mmmm.sort_values(by ='diff' )\n",
        "mmm.to_csv('drive/My Drive/TF_zscore_M_large.txt',sep='\\t')\n",
        "mmmm.to_csv('drive/My Drive/gene_zscore_M_large.txt',sep='\\t')"
      ],
      "execution_count": 20,
      "outputs": []
    },
    {
      "cell_type": "markdown",
      "metadata": {
        "id": "YuTypM6n2O4m"
      },
      "source": [
        "##FEMALE"
      ]
    },
    {
      "cell_type": "code",
      "metadata": {
        "id": "0I2e9ghc2NxO"
      },
      "source": [
        "FC=np.load('drive/My Drive/Colab Notebooks/model_output/FC_LTRC.npy',allow_pickle=True)#,sep='\\t',index_col=0,header=None,names=['loc','symbol'])\n",
        "FNC=np.load('drive/My Drive/Colab Notebooks/model_output/FNC_LTRC.npy',allow_pickle=True)#,sep='\\t',index_col=0,header=None,names=['loc','symbol'])\n",
        "FNC=pd.DataFrame(FNC)\n",
        "FNC.columns=['tf','gene','motif','force']\n",
        "FC=pd.DataFrame(FC)\n",
        "FC.columns=['tf','gene','motif','force']"
      ],
      "execution_count": 21,
      "outputs": []
    },
    {
      "cell_type": "code",
      "metadata": {
        "id": "j8RTpBG718ZT"
      },
      "source": [
        "TFsum_4=FC.groupby(['tf']).agg({'force':sum})\n",
        "TFsum_2=FNC.groupby(['tf']).agg({'force':sum})\n",
        "TFsum_2['force']=zscore(TFsum_2['force'])\n",
        "TFsum_4['force']=zscore(TFsum_4['force']) ##reduces range from 2500 to 4\n",
        "\n",
        "geneSum_4=FC.groupby(['gene']).agg({'force':sum})\n",
        "geneSum_2=FNC.groupby(['gene']).agg({'force':sum})\n",
        "geneSum_4['force']=zscore(geneSum_4['force'])\n",
        "geneSum_2['force']=zscore(geneSum_2['force'])\n",
        "\n",
        "nnn=TFsum_4.merge(TFsum_2, left_on=['tf'], right_on=['tf'])\n",
        "nnnn=geneSum_4.merge(geneSum_2, left_on=['gene'], right_on=['gene'])\n",
        "\n",
        "# del [[FC, FNC]]\n",
        "# gc.collect()\n",
        "FC=pd.DataFrame()\n",
        "FNC=pd.DataFrame()\n",
        "Panda_FcontFULL=pd.DataFrame()\n",
        "Panda_FcontFULL=pd.DataFrame()\n",
        "\n",
        "\n",
        "nnn['diff']=nnn.force_x-nnn.force_y\n",
        "nnn = nnn.sort_values(by ='diff' )\n",
        "\n",
        "\n",
        "nnnn['diff']=mmmm.force_x-nnnn.force_y\n",
        "nnnn = nnnn.sort_values(by ='diff' )\n",
        "nnn.to_csv('drive/My Drive/TF_zscore_F_large.txt',sep='\\t')\n",
        "nnnn.to_csv('drive/My Drive/gene_zscore_F_large.txt',sep='\\t')"
      ],
      "execution_count": 22,
      "outputs": []
    },
    {
      "cell_type": "code",
      "metadata": {
        "colab": {
          "base_uri": "https://localhost:8080/",
          "height": 299
        },
        "id": "yfzCpS_Vh-8i",
        "outputId": "f7d944e0-4e7e-4d2a-f437-dceac8cdf43d"
      },
      "source": [
        "sex_tf_diff=mmm.merge(nnn,on='tf')\n",
        "a=plt.hist(sex_tf_diff['diff_x'],bins=100,label='male')\n",
        "b=plt.hist(sex_tf_diff['diff_y'],bins=100,label='female')\n",
        "plt.title('Sex-specific Ca-Co TF degree diff')\n",
        "plt.legend(loc=\"best\")"
      ],
      "execution_count": 20,
      "outputs": [
        {
          "output_type": "execute_result",
          "data": {
            "text/plain": [
              "<matplotlib.legend.Legend at 0x7fd674becc50>"
            ]
          },
          "metadata": {
            "tags": []
          },
          "execution_count": 20
        },
        {
          "output_type": "display_data",
          "data": {
            "image/png": "[encoded data removed]",
            "text/plain": [
              "<Figure size 432x288 with 1 Axes>"
            ]
          },
          "metadata": {
            "tags": [],
            "needs_background": "light"
          }
        }
      ]
    },
    {
      "cell_type": "code",
      "metadata": {
        "colab": {
          "base_uri": "https://localhost:8080/"
        },
        "id": "iKttBxA2inFY",
        "outputId": "868daa43-db5f-4bf3-968a-8122cdd7f7e6"
      },
      "source": [
        "[sex_tf_diff[(sex_tf_diff['diff_y'])>.15].index.values,sex_tf_diff[(sex_tf_diff['diff_y'])<-0.15].index.values] #,sex_tf_diff[np.abs(sex_tf_diff['diff_y'])>.4].tf]"
      ],
      "execution_count": null,
      "outputs": [
        {
          "output_type": "execute_result",
          "data": {
            "text/plain": [
              "[array(['THAP1', 'ZBTB7B', 'ZNF740', 'ZFX', 'SP4', 'WT1', 'ESR2', 'ELK3',\n",
              "        'KLF5', 'IKZF1', 'PURA', 'SMAD5', 'RREB1', 'ZNF281', 'RXRB',\n",
              "        'ZSCAN4', 'MYOG', 'SP3', 'ZNF148', 'KLF16', 'ZEB1', 'EPAS1',\n",
              "        'MYOD1', 'PLAGL1', 'HNF4A', 'SP1', 'NR2C2', 'NKX2-3'], dtype=object),\n",
              " array(['ZKSCAN1', 'ELF5', 'RELB', 'OVOL1', 'TLX1', 'CIC', 'BHLHE22',\n",
              "        'NRL', 'FOXD2', 'HBP1', 'RORA', 'NFYB'], dtype=object)]"
            ]
          },
          "metadata": {
            "tags": []
          },
          "execution_count": 15
        }
      ]
    },
    {
      "cell_type": "code",
      "metadata": {
        "colab": {
          "base_uri": "https://localhost:8080/",
          "height": 299
        },
        "id": "aF1WWreTiv0q",
        "outputId": "f8e5cb48-3a6c-4e39-820b-0955a773604a"
      },
      "source": [
        "sex_gene_diff=mmmm.merge(nnnn,on='gene')\n",
        "a=plt.hist(sex_gene_diff['diff_x'],bins=100,label='male')\n",
        "b=plt.hist(sex_gene_diff['diff_y'],bins=100,label='female')\n",
        "plt.title('Sex-specific Ca-Co gene degree diff')\n",
        "# plt.xlim(.1,-0.1)\n",
        "plt.legend(loc=\"best\")"
      ],
      "execution_count": null,
      "outputs": [
        {
          "output_type": "execute_result",
          "data": {
            "text/plain": [
              "<matplotlib.legend.Legend at 0x7ff88c75bf50>"
            ]
          },
          "metadata": {
            "tags": []
          },
          "execution_count": 16
        },
        {
          "output_type": "display_data",
          "data": {
            "image/png": "[encoded data removed]",
            "text/plain": [
              "<Figure size 432x288 with 1 Axes>"
            ]
          },
          "metadata": {
            "tags": [],
            "needs_background": "light"
          }
        }
      ]
    },
    {
      "cell_type": "code",
      "metadata": {
        "colab": {
          "base_uri": "https://localhost:8080/"
        },
        "id": "ghzaypLjiv3d",
        "outputId": "7da0f883-b1a3-4fee-8d2e-63b15da6652a"
      },
      "source": [
        "[sex_gene_diff[(sex_gene_diff['diff_y'])>1].index.values,sex_gene_diff[(sex_gene_diff['diff_y'])<-1].index.values] #,sex_tf_diff[np.abs(sex_tf_diff['diff_y'])>.4].tf]"
      ],
      "execution_count": null,
      "outputs": [
        {
          "output_type": "execute_result",
          "data": {
            "text/plain": [
              "[array(['RAB22A', 'NOS2', 'RNF34', 'CHST10', 'DNAJC16', 'SERF1A', 'ZNF583',\n",
              "        'PSMC1', 'FXR2', 'TNK1', 'MLLT1', 'NTRK2', 'ERBB2', 'ZNF502',\n",
              "        'GRK1'], dtype=object),\n",
              " array(['RAP2A', 'NOTCH2', 'SPATA5', 'ATP6V0D2', 'FAM8A1', 'ZYG11B',\n",
              "        'H2AFV', 'ERP44', 'EIF3A', 'FOXJ2', 'MTPN', 'ZSWIM6', 'ACSM5',\n",
              "        'GOLT1B', 'AK3', 'PPP1R3B', 'MS4A6A', 'GPX5', 'CLEC5A', 'SYS1',\n",
              "        'GTF2A1', 'HTR2B', 'PRG4', 'GSG1', 'ANXA6', 'KIF26B', 'REEP3',\n",
              "        'PNKD', 'MELK', 'CRH', 'MS4A4A', 'CTSB', 'FOXM1', 'IGSF6', 'ARL5B',\n",
              "        'MPV17L2', 'CTSA', 'HABP2', 'CXCL16', 'MTHFD2', 'SLC16A6', 'WISP1',\n",
              "        'ITGA11', 'CD3E', 'SNORA31', 'CA3', 'CHID1', 'RAD23A', 'COX6B1',\n",
              "        'RGS20'], dtype=object)]"
            ]
          },
          "metadata": {
            "tags": []
          },
          "execution_count": 17
        }
      ]
    },
    {
      "cell_type": "code",
      "metadata": {
        "id": "BYBNb5uC18b9"
      },
      "source": [
        "ff=pd.read_csv('drive/My Drive/TF_zscore_F_large.txt',sep='\\t',header=0)\n",
        "fff=pd.read_csv('drive/My Drive/gene_zscore_F_large.txt',sep='\\t',header=0)\n",
        "mm=pd.read_csv('drive/My Drive/TF_zscore_M_large.txt',sep='\\t',header=0)\n",
        "mmm=pd.read_csv('drive/My Drive/gene_zscore_M_large.txt',sep='\\t',header=0)\n",
        "sex_tf_diff=ff.merge(mm,on='tf')\n",
        "\n",
        "# a=plt.hist(sex_tf_diff['diff_x'],bins=100,label='female')\n",
        "# b=plt.hist(sex_tf_diff['diff_y'],bins=100,label='male')\n",
        "# plt.title('LTRC Sex-specific Ca-Co TF degree diff')\n",
        "# plt.legend(loc=\"best\")\n",
        "\n",
        "# [sex_tf_diff[(sex_tf_diff['diff_y'])>.1].TF.values,sex_tf_diff[(sex_tf_diff['diff_y'])<-0.1].TF.values] #,sex_tf_diff[np.abs(sex_tf_diff['diff_y'])>.4].tf]\n",
        "\n",
        "sex_tf_diff.columns=['TF','F_case','F_cont','Fdiff','M_case','M_cont','Mdiff']\n",
        "sex_tf_diff.to_csv('drive/My Drive/TF_sex_diff.txt',sep='\\t',index=0)\n",
        "\n",
        "\n",
        "sex_gene_diff=fff.merge(mmm,on='gene')\n",
        "sex_gene_diff.columns=['gene','F_case','F_cont','Fdiff','M_case','M_cont','Mdiff']\n",
        "sex_gene_diff.to_csv('drive/My Drive/gene_sex_diff.txt',sep='\\t',index=0)\n"
      ],
      "execution_count": 21,
      "outputs": []
    },
    {
      "cell_type": "markdown",
      "metadata": {
        "id": "GVU9Aj9nKFMi"
      },
      "source": [
        "##Compare All"
      ]
    },
    {
      "cell_type": "code",
      "metadata": {
        "id": "C48pnadvmaSn"
      },
      "source": [
        "ff=pd.read_csv('drive/My Drive/TF_zscore_F.txt',sep='\\t',header=0)\n",
        "fff=pd.read_csv('drive/My Drive/gene_zscore_F.txt',sep='\\t',header=0)\n",
        "mm=pd.read_csv('drive/My Drive/TF_zscore_M.txt',sep='\\t',header=0)\n",
        "mmm=pd.read_csv('drive/My Drive/gene_zscore_M.txt',sep='\\t',header=0)\n",
        "\n",
        "sex_tf_diffB=ff.merge(mm,on='tf')\n",
        "sex_tf_diffB.columns=['TF','F_case','F_cont','Fdiff','M_case','M_cont','Mdiff']\n",
        "# sex_tf_diffB.to_csv('drive/My Drive/TF_sex_diff.txt',sep='\\t',index=0)\n",
        "\n",
        "\n",
        "sex_gene_diffB=fff.merge(mmm,on='gene')\n",
        "sex_gene_diffB.columns=['gene','F_case','F_cont','Fdiff','M_case','M_cont','Mdiff']\n",
        "# sex_gene_diffB.to_csv('drive/My Drive/gene_sex_diff.txt',sep='\\t',index=0)"
      ],
      "execution_count": 39,
      "outputs": []
    },
    {
      "cell_type": "code",
      "metadata": {
        "id": "NveSiy0iPzrV"
      },
      "source": [
        "ff=pd.read_csv('drive/My Drive/TF_zscore_F_large.txt',sep='\\t',header=0)\n",
        "fff=pd.read_csv('drive/My Drive/gene_zscore_F_large.txt',sep='\\t',header=0)\n",
        "mm=pd.read_csv('drive/My Drive/TF_zscore_M_large.txt',sep='\\t',header=0)\n",
        "mmm=pd.read_csv('drive/My Drive/gene_zscore_M_large.txt',sep='\\t',header=0)\n",
        "\n",
        "sex_tf_diffA=ff.merge(mm,on='tf')\n",
        "sex_tf_diffA.columns=['TF','F_case','F_cont','Fdiff','M_case','M_cont','Mdiff']\n",
        "# sex_tf_diffA.to_csv('drive/My Drive/TF_sex_diff.txt',sep='\\t',index=0)\n",
        "\n",
        "\n",
        "sex_gene_diffA=fff.merge(mmm,on='gene')\n",
        "sex_gene_diffA.columns=['gene','F_case','F_cont','Fdiff','M_case','M_cont','Mdiff']\n",
        "# sex_gene_diffA.to_csv('drive/My Drive/gene_sex_diff.txt',sep='\\t',index=0)"
      ],
      "execution_count": 40,
      "outputs": []
    },
    {
      "cell_type": "code",
      "metadata": {
        "id": "RfMTLa5oSOWb"
      },
      "source": [
        "sex_tf_diffA=sex_tf_diffA.sort_values('TF')\n",
        "sex_tf_diffB=sex_tf_diffB.sort_values('TF')\n",
        "sex_gene_diffA=sex_gene_diffA.sort_values('gene')\n",
        "sex_gene_diffB=sex_gene_diffB.sort_values('gene')"
      ],
      "execution_count": 41,
      "outputs": []
    },
    {
      "cell_type": "code",
      "metadata": {
        "id": "UuHf6a_xRWiH",
        "colab": {
          "base_uri": "https://localhost:8080/",
          "height": 297
        },
        "outputId": "db7dd62a-f85e-47c9-a4b9-e1b1cab7f467"
      },
      "source": [
        "# plt.figure(figsize=(20, 4))\n",
        "# p1=plt.bar(sex_tf_diffB.index,sex_tf_diffB['Mdiff'])\n",
        "# p2=plt.bar(sex_tf_diffA.index,sex_tf_diffA['Mdiff'],bottom=sex_tf_diffB['Mdiff']) \n",
        "# p3=plt.bar(sex_tf_diffB.index,sex_tf_diffB['Fdiff'])\n",
        "# p4=plt.bar(sex_tf_diffA.index,sex_tf_diffA['Fdiff'],bottom=sex_tf_diffB['Fdiff'])\n",
        "# plt.legend((p1[0], p2[0],p3[0],p4[0]), ('smallMen', 'largeMen','smallWomen','largeWomen'))\n",
        "\n",
        "p1=plt.scatter(sex_tf_diffB['Mdiff'],sex_tf_diffA['Mdiff'],alpha=.5) ## minus because one is case-control, other control-case!!\n",
        "p2=plt.scatter(sex_tf_diffB['Fdiff'],sex_tf_diffA['Fdiff'],alpha=.25)\n",
        "plt.ylabel('LTRC control-case TF targeting diff')\n",
        "plt.xlabel('LTCOPD control-case TF targeting diff')\n",
        "plt.legend((p1, p2),('Male','Female'))"
      ],
      "execution_count": 42,
      "outputs": [
        {
          "output_type": "execute_result",
          "data": {
            "text/plain": [
              "<matplotlib.legend.Legend at 0x7f1b8e7d7410>"
            ]
          },
          "metadata": {
            "tags": []
          },
          "execution_count": 42
        },
        {
          "output_type": "display_data",
          "data": {
            "image/png": "[encoded data removed]",
            "text/plain": [
              "<Figure size 432x288 with 1 Axes>"
            ]
          },
          "metadata": {
            "tags": [],
            "needs_background": "light"
          }
        }
      ]
    },
    {
      "cell_type": "code",
      "metadata": {
        "id": "W3hk1uI371MZ"
      },
      "source": [
        "# from scipy.stats import spearmanr\n",
        "# from scipy.stats import zscore"
      ],
      "execution_count": null,
      "outputs": []
    },
    {
      "cell_type": "code",
      "metadata": {
        "colab": {
          "base_uri": "https://localhost:8080/"
        },
        "id": "Isfn3xR68MG5",
        "outputId": "e5c590e7-8449-4066-97e1-10a341f86312"
      },
      "source": [
        "rhoM, pvalM = np.corrcoef(sex_tf_diffB['Mdiff'], sex_tf_diffA['Mdiff'])\n",
        "# pvalM\n",
        "rhoF, pvalF = np.corrcoef(sex_tf_diffB['Fdiff'], sex_tf_diffA['Fdiff'])\n",
        "# pvalF\n",
        "print([rhoM[1],rhoF[1]])\n",
        "\n",
        "rhoM, pvalM = stats.spearmanr(sex_tf_diffB['Mdiff'], sex_tf_diffA['Mdiff'])\n",
        "# pvalM\n",
        "rhoF, pvalF = stats.spearmanr(sex_tf_diffB['Fdiff'], sex_tf_diffA['Fdiff'])\n",
        "# pvalF\n",
        "print([rhoM,rhoF])"
      ],
      "execution_count": 43,
      "outputs": [
        {
          "output_type": "stream",
          "text": [
            "[0.2842054411508454, 0.7943677345966892]\n",
            "[0.28666123867006776, 0.8280561342853084]\n"
          ],
          "name": "stdout"
        }
      ]
    },
    {
      "cell_type": "code",
      "metadata": {
        "colab": {
          "base_uri": "https://localhost:8080/"
        },
        "id": "Bb1nkHAEyjef",
        "outputId": "c77f8cdd-5c57-4e27-a4fe-6b43c1ef095e"
      },
      "source": [
        "[sex_tf_diffA.sort_values(by='Fdiff')['TF'].values.tolist()[0:5],\n",
        "sex_tf_diffA.sort_values(by='Fdiff')['TF'].values.tolist()[631:636],\n",
        " sex_tf_diffA.sort_values(by='Mdiff')['TF'].values.tolist()[0:5],\n",
        "sex_tf_diffA.sort_values(by='Mdiff')['TF'].values.tolist()[631:636],\n",
        "sex_tf_diffB.sort_values(by='Fdiff')['TF'].values.tolist()[0:5],\n",
        "sex_tf_diffB.sort_values(by='Fdiff')['TF'].values.tolist()[631:636],\n",
        " sex_tf_diffB.sort_values(by='Mdiff')['TF'].values.tolist()[0:5],\n",
        "sex_tf_diffB.sort_values(by='Mdiff')['TF'].values.tolist()[631:636]]"
      ],
      "execution_count": null,
      "outputs": [
        {
          "output_type": "execute_result",
          "data": {
            "text/plain": [
              "[['TLX1', 'NFYB', 'CIC', 'RORA', 'FOXD2'],\n",
              " ['WT1', 'THAP1', 'ZNF281', 'SMAD5', 'NKX2-3'],\n",
              " ['ZNF143', 'THAP1', 'ZNF333', 'MAFK', 'MITF'],\n",
              " ['PPARD', 'VSX1', 'SOX17', 'RFX5', 'MXI1'],\n",
              " ['ZFX', 'KLF5', 'KLF15', 'SP1', 'WT1'],\n",
              " ['LHX1', 'POU3F2', 'FOXD2', 'FOXB1', 'TBPL2'],\n",
              " ['KLF1', 'PURA', 'KLF5', 'KLF15', 'KLF4'],\n",
              " ['DMRTC2', 'BARX1', 'POU3F3', 'HMG20B', 'TBPL2']]"
            ]
          },
          "metadata": {
            "tags": []
          },
          "execution_count": 25
        }
      ]
    },
    {
      "cell_type": "code",
      "metadata": {
        "colab": {
          "base_uri": "https://localhost:8080/"
        },
        "id": "e7Tr_3ehESjY",
        "outputId": "bdf6442c-2fd9-4ed8-dd10-e45c79a5d51f"
      },
      "source": [
        "[sex_gene_diffB.shape,sex_gene_diffA.shape]"
      ],
      "execution_count": null,
      "outputs": [
        {
          "output_type": "execute_result",
          "data": {
            "text/plain": [
              "[(13020, 7), (13012, 7)]"
            ]
          },
          "metadata": {
            "tags": []
          },
          "execution_count": 26
        }
      ]
    },
    {
      "cell_type": "code",
      "metadata": {
        "id": "X6_SxMfvEWMB"
      },
      "source": [
        "bb=pd.merge(sex_gene_diffB,sex_gene_diffA,on='gene')\n",
        "# sex_gene_diffB"
      ],
      "execution_count": null,
      "outputs": []
    },
    {
      "cell_type": "code",
      "metadata": {
        "id": "BX-fd7LAWKqu",
        "colab": {
          "base_uri": "https://localhost:8080/",
          "height": 297
        },
        "outputId": "5c7b3be8-673c-449f-958d-697ef607cda7"
      },
      "source": [
        "p1=plt.scatter(bb['Mdiff_x'],bb['Mdiff_y'],alpha=.5)\n",
        "p2=plt.scatter(bb['Fdiff_x'],bb['Fdiff_y'],alpha=.25)\n",
        "plt.ylabel('LTRC control-case gene targeting diff')\n",
        "plt.xlabel('LTCOPD control-case gene targeting diff')\n",
        "plt.legend((p1, p2),('Male','Female'))"
      ],
      "execution_count": null,
      "outputs": [
        {
          "output_type": "execute_result",
          "data": {
            "text/plain": [
              "<matplotlib.legend.Legend at 0x7ffae2148d90>"
            ]
          },
          "metadata": {
            "tags": []
          },
          "execution_count": 28
        },
        {
          "output_type": "display_data",
          "data": {
            "image/png": "[encoded data removed]",
            "text/plain": [
              "<Figure size 432x288 with 1 Axes>"
            ]
          },
          "metadata": {
            "tags": [],
            "needs_background": "light"
          }
        }
      ]
    },
    {
      "cell_type": "code",
      "metadata": {
        "id": "sy02iSVqVD5Z",
        "colab": {
          "base_uri": "https://localhost:8080/"
        },
        "outputId": "966c54e0-c982-448f-b278-a58175d5b57f"
      },
      "source": [
        "[sex_gene_diffB['Mdiff'].shape,sex_tf_diffB['Mdiff'].shape]"
      ],
      "execution_count": null,
      "outputs": [
        {
          "output_type": "execute_result",
          "data": {
            "text/plain": [
              "[(13020,), (636,)]"
            ]
          },
          "metadata": {
            "tags": []
          },
          "execution_count": 29
        }
      ]
    },
    {
      "cell_type": "code",
      "metadata": {
        "id": "YZwh6lgMV0nU",
        "colab": {
          "base_uri": "https://localhost:8080/"
        },
        "outputId": "be61b2e4-fec4-4d0f-efb5-ba4cce22ac0e"
      },
      "source": [
        "sex_tf_diffB.sort_values(by='Mdiff')['TF']#['Mdiff']"
      ],
      "execution_count": null,
      "outputs": [
        {
          "output_type": "execute_result",
          "data": {
            "text/plain": [
              "5        KLF1\n",
              "14       PURA\n",
              "1        KLF5\n",
              "2       KLF15\n",
              "15       KLF4\n",
              "        ...  \n",
              "615    DMRTC2\n",
              "630     BARX1\n",
              "629    POU3F3\n",
              "616    HMG20B\n",
              "635     TBPL2\n",
              "Name: TF, Length: 636, dtype: object"
            ]
          },
          "metadata": {
            "tags": []
          },
          "execution_count": 30
        }
      ]
    },
    {
      "cell_type": "code",
      "metadata": {
        "id": "AHs2Ek1tV-GY",
        "colab": {
          "base_uri": "https://localhost:8080/"
        },
        "outputId": "6a0d3005-a9a6-4019-87e2-b7d428487592"
      },
      "source": [
        "sex_tf_diffA.sort_values(by='Mdiff')['TF']#['Mdiff']"
      ],
      "execution_count": null,
      "outputs": [
        {
          "output_type": "execute_result",
          "data": {
            "text/plain": [
              "606    ZNF143\n",
              "632     THAP1\n",
              "80     ZNF333\n",
              "82       MAFK\n",
              "558      MITF\n",
              "        ...  \n",
              "449     PPARD\n",
              "158      VSX1\n",
              "480     SOX17\n",
              "234      RFX5\n",
              "457      MXI1\n",
              "Name: TF, Length: 636, dtype: object"
            ]
          },
          "metadata": {
            "tags": []
          },
          "execution_count": 31
        }
      ]
    },
    {
      "cell_type": "code",
      "metadata": {
        "id": "hKBhxSYiWJnD",
        "colab": {
          "base_uri": "https://localhost:8080/"
        },
        "outputId": "bd14ca23-606e-45c7-d6c7-25985a98efe2"
      },
      "source": [
        "sex_tf_diffB.sort_values(by='Fdiff')['TF']#['Mdiff']"
      ],
      "execution_count": null,
      "outputs": [
        {
          "output_type": "execute_result",
          "data": {
            "text/plain": [
              "0         ZFX\n",
              "1        KLF5\n",
              "2       KLF15\n",
              "3         SP1\n",
              "4         WT1\n",
              "        ...  \n",
              "631      LHX1\n",
              "632    POU3F2\n",
              "633     FOXD2\n",
              "634     FOXB1\n",
              "635     TBPL2\n",
              "Name: TF, Length: 636, dtype: object"
            ]
          },
          "metadata": {
            "tags": []
          },
          "execution_count": 32
        }
      ]
    },
    {
      "cell_type": "code",
      "metadata": {
        "id": "c5S3wD9ZW-Jl",
        "colab": {
          "base_uri": "https://localhost:8080/"
        },
        "outputId": "45d47f47-8635-4380-de84-2449173a57df"
      },
      "source": [
        "sex_tf_diffA.sort_values(by='Fdiff')['TF']#['Mdiff']"
      ],
      "execution_count": null,
      "outputs": [
        {
          "output_type": "execute_result",
          "data": {
            "text/plain": [
              "0        TLX1\n",
              "1        NFYB\n",
              "2         CIC\n",
              "3        RORA\n",
              "4       FOXD2\n",
              "        ...  \n",
              "631       WT1\n",
              "632     THAP1\n",
              "633    ZNF281\n",
              "634     SMAD5\n",
              "635    NKX2-3\n",
              "Name: TF, Length: 636, dtype: object"
            ]
          },
          "metadata": {
            "tags": []
          },
          "execution_count": 33
        }
      ]
    },
    {
      "cell_type": "markdown",
      "metadata": {
        "id": "BqkpNZ_qZmzL"
      },
      "source": [
        "####load and compare Clue-Reg results"
      ]
    },
    {
      "cell_type": "code",
      "metadata": {
        "id": "uIiQNdGTZmGP"
      },
      "source": [
        "# LTRC_male=pd.read_csv('drive/My Drive/LARGE_sex_panda/clue-reg_output/LTRC_male.csv',header=0)\n",
        "# LTRC_female=pd.read_csv('drive/My Drive/LARGE_sex_panda/clue-reg_output/LTRC_female.csv',header=0)\n",
        "# LTCOPD_male=pd.read_csv('drive/My Drive/LARGE_sex_panda/clue-reg_output/LTCOPD_male.csv',header=0)\n",
        "# LTCOPD_female=pd.read_csv('drive/My Drive/LARGE_sex_panda/clue-reg_output/LTCOPD_female.csv',header=0)\n",
        "\n",
        "LTRC_male=pd.read_csv('drive/My Drive/Colab Notebooks/GRAND_LTRC_M.csv',header=0)\n",
        "LTRC_female=pd.read_csv('drive/My Drive/Colab Notebooks/GRAND_LTRC_F.csv',header=0)\n",
        "LTCOPD_male=pd.read_csv('drive/My Drive/Colab Notebooks/GRAND_LTCOPD_M.csv',header=0)\n",
        "LTCOPD_female=pd.read_csv('drive/My Drive/Colab Notebooks/GRAND_LTCOPD_F.csv',header=0)\n",
        "female=LTRC_female[['Drug','Overlap','Cosine','P-value']].merge(LTCOPD_female[['Drug','Overlap','Cosine','P-value']],right_on='Drug',left_on='Drug')\n",
        "male=LTRC_male[['Drug','Overlap','Cosine','P-value']].merge(LTCOPD_male[['Drug','Overlap','Cosine','P-value']],right_on='Drug',left_on='Drug')\n"
      ],
      "execution_count": null,
      "outputs": []
    },
    {
      "cell_type": "code",
      "metadata": {
        "id": "p4R_xVN1ZmOA",
        "colab": {
          "base_uri": "https://localhost:8080/",
          "height": 112
        },
        "outputId": "464bae53-40e4-4f8a-ae82-43784ff3b8f5"
      },
      "source": [
        "female[female['Cosine_x']<-0.15]"
      ],
      "execution_count": null,
      "outputs": [
        {
          "output_type": "execute_result",
          "data": {
            "text/html": [
              "<div>\n",
              "<style scoped>\n",
              "    .dataframe tbody tr th:only-of-type {\n",
              "        vertical-align: middle;\n",
              "    }\n",
              "\n",
              "    .dataframe tbody tr th {\n",
              "        vertical-align: top;\n",
              "    }\n",
              "\n",
              "    .dataframe thead th {\n",
              "        text-align: right;\n",
              "    }\n",
              "</style>\n",
              "<table border=\"1\" class=\"dataframe\">\n",
              "  <thead>\n",
              "    <tr style=\"text-align: right;\">\n",
              "      <th></th>\n",
              "      <th>Drug</th>\n",
              "      <th>Overlap_x</th>\n",
              "      <th>Cosine_x</th>\n",
              "      <th>P-value_x</th>\n",
              "      <th>Overlap_y</th>\n",
              "      <th>Cosine_y</th>\n",
              "      <th>P-value_y</th>\n",
              "    </tr>\n",
              "  </thead>\n",
              "  <tbody>\n",
              "    <tr>\n",
              "      <th>0</th>\n",
              "      <td>SA-1938219</td>\n",
              "      <td>2.0</td>\n",
              "      <td>-0.1754</td>\n",
              "      <td>0.0023</td>\n",
              "      <td>3.0</td>\n",
              "      <td>-0.2631</td>\n",
              "      <td>0.0</td>\n",
              "    </tr>\n",
              "    <tr>\n",
              "      <th>1</th>\n",
              "      <td>MD-II-051</td>\n",
              "      <td>6.0</td>\n",
              "      <td>-0.1747</td>\n",
              "      <td>0.0000</td>\n",
              "      <td>4.0</td>\n",
              "      <td>-0.1164</td>\n",
              "      <td>0.0</td>\n",
              "    </tr>\n",
              "  </tbody>\n",
              "</table>\n",
              "</div>"
            ],
            "text/plain": [
              "         Drug  Overlap_x  Cosine_x  P-value_x  Overlap_y  Cosine_y  P-value_y\n",
              "0  SA-1938219        2.0   -0.1754     0.0023        3.0   -0.2631        0.0\n",
              "1   MD-II-051        6.0   -0.1747     0.0000        4.0   -0.1164        0.0"
            ]
          },
          "metadata": {
            "tags": []
          },
          "execution_count": 35
        }
      ]
    },
    {
      "cell_type": "code",
      "metadata": {
        "id": "EdUTYAZ8b0Y3",
        "colab": {
          "base_uri": "https://localhost:8080/",
          "height": 238
        },
        "outputId": "133428a7-f103-40ce-ce73-53f7cc93de7e"
      },
      "source": [
        "male[male['Cosine_x']<-0.15]"
      ],
      "execution_count": null,
      "outputs": [
        {
          "output_type": "execute_result",
          "data": {
            "text/html": [
              "<div>\n",
              "<style scoped>\n",
              "    .dataframe tbody tr th:only-of-type {\n",
              "        vertical-align: middle;\n",
              "    }\n",
              "\n",
              "    .dataframe tbody tr th {\n",
              "        vertical-align: top;\n",
              "    }\n",
              "\n",
              "    .dataframe thead th {\n",
              "        text-align: right;\n",
              "    }\n",
              "</style>\n",
              "<table border=\"1\" class=\"dataframe\">\n",
              "  <thead>\n",
              "    <tr style=\"text-align: right;\">\n",
              "      <th></th>\n",
              "      <th>Drug</th>\n",
              "      <th>Overlap_x</th>\n",
              "      <th>Cosine_x</th>\n",
              "      <th>P-value_x</th>\n",
              "      <th>Overlap_y</th>\n",
              "      <th>Cosine_y</th>\n",
              "      <th>P-value_y</th>\n",
              "    </tr>\n",
              "  </thead>\n",
              "  <tbody>\n",
              "    <tr>\n",
              "      <th>0</th>\n",
              "      <td>Flumequine</td>\n",
              "      <td>3.0</td>\n",
              "      <td>-0.2449</td>\n",
              "      <td>0.0000</td>\n",
              "      <td>2.0</td>\n",
              "      <td>-0.1721</td>\n",
              "      <td>0.0022</td>\n",
              "    </tr>\n",
              "    <tr>\n",
              "      <th>1</th>\n",
              "      <td>Acetohexamide</td>\n",
              "      <td>1.0</td>\n",
              "      <td>-0.1826</td>\n",
              "      <td>0.0000</td>\n",
              "      <td>2.0</td>\n",
              "      <td>-0.3849</td>\n",
              "      <td>0.0000</td>\n",
              "    </tr>\n",
              "    <tr>\n",
              "      <th>2</th>\n",
              "      <td>Flumethasone</td>\n",
              "      <td>3.0</td>\n",
              "      <td>-0.1762</td>\n",
              "      <td>0.0000</td>\n",
              "      <td>4.0</td>\n",
              "      <td>-0.2476</td>\n",
              "      <td>0.0000</td>\n",
              "    </tr>\n",
              "    <tr>\n",
              "      <th>3</th>\n",
              "      <td>SA-1938219</td>\n",
              "      <td>2.0</td>\n",
              "      <td>-0.1754</td>\n",
              "      <td>0.0044</td>\n",
              "      <td>3.0</td>\n",
              "      <td>-0.2774</td>\n",
              "      <td>0.0000</td>\n",
              "    </tr>\n",
              "    <tr>\n",
              "      <th>4</th>\n",
              "      <td>Trimethadione</td>\n",
              "      <td>2.0</td>\n",
              "      <td>-0.1690</td>\n",
              "      <td>0.0000</td>\n",
              "      <td>4.0</td>\n",
              "      <td>-0.3563</td>\n",
              "      <td>0.0000</td>\n",
              "    </tr>\n",
              "    <tr>\n",
              "      <th>5</th>\n",
              "      <td>Chlorhexidine</td>\n",
              "      <td>1.0</td>\n",
              "      <td>-0.1581</td>\n",
              "      <td>0.0010</td>\n",
              "      <td>2.0</td>\n",
              "      <td>-0.3333</td>\n",
              "      <td>0.0028</td>\n",
              "    </tr>\n",
              "  </tbody>\n",
              "</table>\n",
              "</div>"
            ],
            "text/plain": [
              "            Drug  Overlap_x  Cosine_x  ...  Overlap_y  Cosine_y  P-value_y\n",
              "0     Flumequine        3.0   -0.2449  ...        2.0   -0.1721     0.0022\n",
              "1  Acetohexamide        1.0   -0.1826  ...        2.0   -0.3849     0.0000\n",
              "2   Flumethasone        3.0   -0.1762  ...        4.0   -0.2476     0.0000\n",
              "3     SA-1938219        2.0   -0.1754  ...        3.0   -0.2774     0.0000\n",
              "4  Trimethadione        2.0   -0.1690  ...        4.0   -0.3563     0.0000\n",
              "5  Chlorhexidine        1.0   -0.1581  ...        2.0   -0.3333     0.0028\n",
              "\n",
              "[6 rows x 7 columns]"
            ]
          },
          "metadata": {
            "tags": []
          },
          "execution_count": 36
        }
      ]
    },
    {
      "cell_type": "code",
      "metadata": {
        "id": "fPk0WY7zcMOu"
      },
      "source": [
        ""
      ],
      "execution_count": null,
      "outputs": []
    },
    {
      "cell_type": "markdown",
      "metadata": {
        "id": "z6adI-dq2nLT"
      },
      "source": [
        "##MALE V FEMALE CASE"
      ]
    },
    {
      "cell_type": "code",
      "metadata": {
        "id": "3c1UpZUA2r6I",
        "colab": {
          "base_uri": "https://localhost:8080/",
          "height": 470
        },
        "outputId": "b5f33698-7d54-48ef-e6ff-78aa6f55d5f8"
      },
      "source": [
        "MC=pd.read_csv('drive/My Drive/LARGE_sex_panda/MC_LTRC.txt',names=['TF','gene','motif','force'],sep=' ')\n",
        "FC=pd.read_csv('drive/My Drive/LARGE_sex_panda/FC_LTRC.txt',names=['TF','gene','motif','force'],sep='\\t')\n"
      ],
      "execution_count": null,
      "outputs": [
        {
          "output_type": "error",
          "ename": "FileNotFoundError",
          "evalue": "ignored",
          "traceback": [
            "\u001b[0;31m---------------------------------------------------------------------------\u001b[0m",
            "\u001b[0;31mFileNotFoundError\u001b[0m                         Traceback (most recent call last)",
            "\u001b[0;32m<ipython-input-37-62014fef5d4b>\u001b[0m in \u001b[0;36m<module>\u001b[0;34m()\u001b[0m\n\u001b[0;32m----> 1\u001b[0;31m \u001b[0mMC\u001b[0m\u001b[0;34m=\u001b[0m\u001b[0mpd\u001b[0m\u001b[0;34m.\u001b[0m\u001b[0mread_csv\u001b[0m\u001b[0;34m(\u001b[0m\u001b[0;34m'drive/My Drive/LARGE_sex_panda/MC_LTRC.txt'\u001b[0m\u001b[0;34m,\u001b[0m\u001b[0mnames\u001b[0m\u001b[0;34m=\u001b[0m\u001b[0;34m[\u001b[0m\u001b[0;34m'TF'\u001b[0m\u001b[0;34m,\u001b[0m\u001b[0;34m'gene'\u001b[0m\u001b[0;34m,\u001b[0m\u001b[0;34m'motif'\u001b[0m\u001b[0;34m,\u001b[0m\u001b[0;34m'force'\u001b[0m\u001b[0;34m]\u001b[0m\u001b[0;34m,\u001b[0m\u001b[0msep\u001b[0m\u001b[0;34m=\u001b[0m\u001b[0;34m' '\u001b[0m\u001b[0;34m)\u001b[0m\u001b[0;34m\u001b[0m\u001b[0;34m\u001b[0m\u001b[0m\n\u001b[0m\u001b[1;32m      2\u001b[0m \u001b[0mFC\u001b[0m\u001b[0;34m=\u001b[0m\u001b[0mpd\u001b[0m\u001b[0;34m.\u001b[0m\u001b[0mread_csv\u001b[0m\u001b[0;34m(\u001b[0m\u001b[0;34m'drive/My Drive/LARGE_sex_panda/FC_LTRC.txt'\u001b[0m\u001b[0;34m,\u001b[0m\u001b[0mnames\u001b[0m\u001b[0;34m=\u001b[0m\u001b[0;34m[\u001b[0m\u001b[0;34m'TF'\u001b[0m\u001b[0;34m,\u001b[0m\u001b[0;34m'gene'\u001b[0m\u001b[0;34m,\u001b[0m\u001b[0;34m'motif'\u001b[0m\u001b[0;34m,\u001b[0m\u001b[0;34m'force'\u001b[0m\u001b[0;34m]\u001b[0m\u001b[0;34m,\u001b[0m\u001b[0msep\u001b[0m\u001b[0;34m=\u001b[0m\u001b[0;34m'\\t'\u001b[0m\u001b[0;34m)\u001b[0m\u001b[0;34m\u001b[0m\u001b[0;34m\u001b[0m\u001b[0m\n",
            "\u001b[0;32m/usr/local/lib/python3.7/dist-packages/pandas/io/parsers.py\u001b[0m in \u001b[0;36mread_csv\u001b[0;34m(filepath_or_buffer, sep, delimiter, header, names, index_col, usecols, squeeze, prefix, mangle_dupe_cols, dtype, engine, converters, true_values, false_values, skipinitialspace, skiprows, skipfooter, nrows, na_values, keep_default_na, na_filter, verbose, skip_blank_lines, parse_dates, infer_datetime_format, keep_date_col, date_parser, dayfirst, cache_dates, iterator, chunksize, compression, thousands, decimal, lineterminator, quotechar, quoting, doublequote, escapechar, comment, encoding, dialect, error_bad_lines, warn_bad_lines, delim_whitespace, low_memory, memory_map, float_precision)\u001b[0m\n\u001b[1;32m    686\u001b[0m     )\n\u001b[1;32m    687\u001b[0m \u001b[0;34m\u001b[0m\u001b[0m\n\u001b[0;32m--> 688\u001b[0;31m     \u001b[0;32mreturn\u001b[0m \u001b[0m_read\u001b[0m\u001b[0;34m(\u001b[0m\u001b[0mfilepath_or_buffer\u001b[0m\u001b[0;34m,\u001b[0m \u001b[0mkwds\u001b[0m\u001b[0;34m)\u001b[0m\u001b[0;34m\u001b[0m\u001b[0;34m\u001b[0m\u001b[0m\n\u001b[0m\u001b[1;32m    689\u001b[0m \u001b[0;34m\u001b[0m\u001b[0m\n\u001b[1;32m    690\u001b[0m \u001b[0;34m\u001b[0m\u001b[0m\n",
            "\u001b[0;32m/usr/local/lib/python3.7/dist-packages/pandas/io/parsers.py\u001b[0m in \u001b[0;36m_read\u001b[0;34m(filepath_or_buffer, kwds)\u001b[0m\n\u001b[1;32m    452\u001b[0m \u001b[0;34m\u001b[0m\u001b[0m\n\u001b[1;32m    453\u001b[0m     \u001b[0;31m# Create the parser.\u001b[0m\u001b[0;34m\u001b[0m\u001b[0;34m\u001b[0m\u001b[0;34m\u001b[0m\u001b[0m\n\u001b[0;32m--> 454\u001b[0;31m     \u001b[0mparser\u001b[0m \u001b[0;34m=\u001b[0m \u001b[0mTextFileReader\u001b[0m\u001b[0;34m(\u001b[0m\u001b[0mfp_or_buf\u001b[0m\u001b[0;34m,\u001b[0m \u001b[0;34m**\u001b[0m\u001b[0mkwds\u001b[0m\u001b[0;34m)\u001b[0m\u001b[0;34m\u001b[0m\u001b[0;34m\u001b[0m\u001b[0m\n\u001b[0m\u001b[1;32m    455\u001b[0m \u001b[0;34m\u001b[0m\u001b[0m\n\u001b[1;32m    456\u001b[0m     \u001b[0;32mif\u001b[0m \u001b[0mchunksize\u001b[0m \u001b[0;32mor\u001b[0m \u001b[0miterator\u001b[0m\u001b[0;34m:\u001b[0m\u001b[0;34m\u001b[0m\u001b[0;34m\u001b[0m\u001b[0m\n",
            "\u001b[0;32m/usr/local/lib/python3.7/dist-packages/pandas/io/parsers.py\u001b[0m in \u001b[0;36m__init__\u001b[0;34m(self, f, engine, **kwds)\u001b[0m\n\u001b[1;32m    946\u001b[0m             \u001b[0mself\u001b[0m\u001b[0;34m.\u001b[0m\u001b[0moptions\u001b[0m\u001b[0;34m[\u001b[0m\u001b[0;34m\"has_index_names\"\u001b[0m\u001b[0;34m]\u001b[0m \u001b[0;34m=\u001b[0m \u001b[0mkwds\u001b[0m\u001b[0;34m[\u001b[0m\u001b[0;34m\"has_index_names\"\u001b[0m\u001b[0;34m]\u001b[0m\u001b[0;34m\u001b[0m\u001b[0;34m\u001b[0m\u001b[0m\n\u001b[1;32m    947\u001b[0m \u001b[0;34m\u001b[0m\u001b[0m\n\u001b[0;32m--> 948\u001b[0;31m         \u001b[0mself\u001b[0m\u001b[0;34m.\u001b[0m\u001b[0m_make_engine\u001b[0m\u001b[0;34m(\u001b[0m\u001b[0mself\u001b[0m\u001b[0;34m.\u001b[0m\u001b[0mengine\u001b[0m\u001b[0;34m)\u001b[0m\u001b[0;34m\u001b[0m\u001b[0;34m\u001b[0m\u001b[0m\n\u001b[0m\u001b[1;32m    949\u001b[0m \u001b[0;34m\u001b[0m\u001b[0m\n\u001b[1;32m    950\u001b[0m     \u001b[0;32mdef\u001b[0m \u001b[0mclose\u001b[0m\u001b[0;34m(\u001b[0m\u001b[0mself\u001b[0m\u001b[0;34m)\u001b[0m\u001b[0;34m:\u001b[0m\u001b[0;34m\u001b[0m\u001b[0;34m\u001b[0m\u001b[0m\n",
            "\u001b[0;32m/usr/local/lib/python3.7/dist-packages/pandas/io/parsers.py\u001b[0m in \u001b[0;36m_make_engine\u001b[0;34m(self, engine)\u001b[0m\n\u001b[1;32m   1178\u001b[0m     \u001b[0;32mdef\u001b[0m \u001b[0m_make_engine\u001b[0m\u001b[0;34m(\u001b[0m\u001b[0mself\u001b[0m\u001b[0;34m,\u001b[0m \u001b[0mengine\u001b[0m\u001b[0;34m=\u001b[0m\u001b[0;34m\"c\"\u001b[0m\u001b[0;34m)\u001b[0m\u001b[0;34m:\u001b[0m\u001b[0;34m\u001b[0m\u001b[0;34m\u001b[0m\u001b[0m\n\u001b[1;32m   1179\u001b[0m         \u001b[0;32mif\u001b[0m \u001b[0mengine\u001b[0m \u001b[0;34m==\u001b[0m \u001b[0;34m\"c\"\u001b[0m\u001b[0;34m:\u001b[0m\u001b[0;34m\u001b[0m\u001b[0;34m\u001b[0m\u001b[0m\n\u001b[0;32m-> 1180\u001b[0;31m             \u001b[0mself\u001b[0m\u001b[0;34m.\u001b[0m\u001b[0m_engine\u001b[0m \u001b[0;34m=\u001b[0m \u001b[0mCParserWrapper\u001b[0m\u001b[0;34m(\u001b[0m\u001b[0mself\u001b[0m\u001b[0;34m.\u001b[0m\u001b[0mf\u001b[0m\u001b[0;34m,\u001b[0m \u001b[0;34m**\u001b[0m\u001b[0mself\u001b[0m\u001b[0;34m.\u001b[0m\u001b[0moptions\u001b[0m\u001b[0;34m)\u001b[0m\u001b[0;34m\u001b[0m\u001b[0;34m\u001b[0m\u001b[0m\n\u001b[0m\u001b[1;32m   1181\u001b[0m         \u001b[0;32melse\u001b[0m\u001b[0;34m:\u001b[0m\u001b[0;34m\u001b[0m\u001b[0;34m\u001b[0m\u001b[0m\n\u001b[1;32m   1182\u001b[0m             \u001b[0;32mif\u001b[0m \u001b[0mengine\u001b[0m \u001b[0;34m==\u001b[0m \u001b[0;34m\"python\"\u001b[0m\u001b[0;34m:\u001b[0m\u001b[0;34m\u001b[0m\u001b[0;34m\u001b[0m\u001b[0m\n",
            "\u001b[0;32m/usr/local/lib/python3.7/dist-packages/pandas/io/parsers.py\u001b[0m in \u001b[0;36m__init__\u001b[0;34m(self, src, **kwds)\u001b[0m\n\u001b[1;32m   2008\u001b[0m         \u001b[0mkwds\u001b[0m\u001b[0;34m[\u001b[0m\u001b[0;34m\"usecols\"\u001b[0m\u001b[0;34m]\u001b[0m \u001b[0;34m=\u001b[0m \u001b[0mself\u001b[0m\u001b[0;34m.\u001b[0m\u001b[0musecols\u001b[0m\u001b[0;34m\u001b[0m\u001b[0;34m\u001b[0m\u001b[0m\n\u001b[1;32m   2009\u001b[0m \u001b[0;34m\u001b[0m\u001b[0m\n\u001b[0;32m-> 2010\u001b[0;31m         \u001b[0mself\u001b[0m\u001b[0;34m.\u001b[0m\u001b[0m_reader\u001b[0m \u001b[0;34m=\u001b[0m \u001b[0mparsers\u001b[0m\u001b[0;34m.\u001b[0m\u001b[0mTextReader\u001b[0m\u001b[0;34m(\u001b[0m\u001b[0msrc\u001b[0m\u001b[0;34m,\u001b[0m \u001b[0;34m**\u001b[0m\u001b[0mkwds\u001b[0m\u001b[0;34m)\u001b[0m\u001b[0;34m\u001b[0m\u001b[0;34m\u001b[0m\u001b[0m\n\u001b[0m\u001b[1;32m   2011\u001b[0m         \u001b[0mself\u001b[0m\u001b[0;34m.\u001b[0m\u001b[0munnamed_cols\u001b[0m \u001b[0;34m=\u001b[0m \u001b[0mself\u001b[0m\u001b[0;34m.\u001b[0m\u001b[0m_reader\u001b[0m\u001b[0;34m.\u001b[0m\u001b[0munnamed_cols\u001b[0m\u001b[0;34m\u001b[0m\u001b[0;34m\u001b[0m\u001b[0m\n\u001b[1;32m   2012\u001b[0m \u001b[0;34m\u001b[0m\u001b[0m\n",
            "\u001b[0;32mpandas/_libs/parsers.pyx\u001b[0m in \u001b[0;36mpandas._libs.parsers.TextReader.__cinit__\u001b[0;34m()\u001b[0m\n",
            "\u001b[0;32mpandas/_libs/parsers.pyx\u001b[0m in \u001b[0;36mpandas._libs.parsers.TextReader._setup_parser_source\u001b[0;34m()\u001b[0m\n",
            "\u001b[0;31mFileNotFoundError\u001b[0m: [Errno 2] No such file or directory: 'drive/My Drive/LARGE_sex_panda/MC_LTRC.txt'"
          ]
        }
      ]
    },
    {
      "cell_type": "code",
      "metadata": {
        "id": "naPwoh9u2r8y"
      },
      "source": [
        "TFsum_3=MC.groupby(['TF']).agg({'force':sum})\n",
        "TFsum_1=FC.groupby(['TF']).agg({'force':sum})\n",
        "TFsum_1['force']=zscore(TFsum_1['force'])\n",
        "TFsum_3['force']=zscore(TFsum_3['force']) ##reduces range from 1500 to 3\n",
        "\n",
        "geneSum_3=MC.groupby(['gene']).agg({'force':sum})\n",
        "geneSum_1=FC.groupby(['gene']).agg({'force':sum})\n",
        "geneSum_3['force']=zscore(geneSum_3['force'])\n",
        "geneSum_1['force']=zscore(geneSum_1['force'])\n",
        "\n",
        "mmm=TFsum_3.merge(TFsum_1, left_on=['TF'], right_on=['TF'])\n",
        "mmmm=geneSum_3.merge(geneSum_1, left_on=['gene'], right_on=['gene'])\n",
        "\n",
        "# del [[MC, MNC]]\n",
        "# gc.collect()\n",
        "MC=pd.DataFrame()\n",
        "MNC=pd.DataFrame()\n",
        "Panda_FcontFULL=pd.DataFrame()\n",
        "Panda_FcontFULL=pd.DataFrame()\n",
        "\n",
        "\n",
        "mmm['diff']=mmm.force_x-mmm.force_y\n",
        "mmm = mmm.sort_values(by ='diff' )\n",
        "\n",
        "\n",
        "mmmm['diff']=mmmm.force_x-mmmm.force_y\n",
        "mmmm = mmmm.sort_values(by ='diff' )\n",
        "mmm.to_csv('drive/My Drive/LARGE_sex_panda/TF_zscore_Case.txt',sep='\\t')\n",
        "mmmm.to_csv('drive/My Drive/LARGE_sex_panda/gene_zscore_Case.txt',sep='\\t',index=0)"
      ],
      "execution_count": null,
      "outputs": []
    },
    {
      "cell_type": "markdown",
      "metadata": {
        "id": "IXHNorl32sG4"
      },
      "source": [
        "##MALE V FEMALE CONTROL\n"
      ]
    },
    {
      "cell_type": "code",
      "metadata": {
        "id": "-oQfUjiA2uK_"
      },
      "source": [
        "MNC=pd.read_csv('data/LTRC/sex/MNC_LTRC.txt',names=['TF','gene','motif','force'],sep=' ')\n",
        "FNC=pd.read_csv('data/LTRC/sex/FNC_LTRC.txt',names=['TF','gene','motif','force'],sep=' ')"
      ],
      "execution_count": null,
      "outputs": []
    },
    {
      "cell_type": "code",
      "metadata": {
        "id": "PgMYW-dG2uNz"
      },
      "source": [
        "TFsum_4=MNC.groupby(['TF']).agg({'force':sum})\n",
        "TFsum_2=FNC.groupby(['TF']).agg({'force':sum})\n",
        "TFsum_2['force']=zscore(TFsum_2['force'])\n",
        "TFsum_4['force']=zscore(TFsum_4['force']) ##reduces range from 2500 to 4\n",
        "\n",
        "geneSum_4=FNC.groupby(['gene']).agg({'force':sum})\n",
        "geneSum_2=MNC.groupby(['gene']).agg({'force':sum})\n",
        "geneSum_4['force']=zscore(geneSum_4['force'])\n",
        "geneSum_2['force']=zscore(geneSum_2['force'])\n",
        "\n",
        "mmm=TFsum_4.merge(TFsum_2, left_on=['TF'], right_on=['TF'])\n",
        "mmmm=geneSum_4.merge(geneSum_2, left_on=['gene'], right_on=['gene'])\n",
        "\n",
        "# del [[FC, FNC]]\n",
        "# gc.collect()\n",
        "FC=pd.DataFrame()\n",
        "FNC=pd.DataFrame()\n",
        "Panda_FcontFULL=pd.DataFrame()\n",
        "Panda_FcontFULL=pd.DataFrame()\n",
        "\n",
        "\n",
        "mmm['diff']=mmm.force_x-mmm.force_y\n",
        "mmm = mmm.sort_values(by ='diff' )\n",
        "\n",
        "\n",
        "mmmm['diff']=mmmm.force_x-mmmm.force_y\n",
        "mmmm = mmmm.sort_values(by ='diff' )\n",
        "mmm.to_csv('drive/My Drive/LARGE_sex_panda/TF_zscore_Control.txt',sep='\\t')\n",
        "mmmm.to_csv('drive/My Drive/LARGE_sex_panda/gene_zscore_Control.txt',sep='\\t',index=0)"
      ],
      "execution_count": null,
      "outputs": []
    },
    {
      "cell_type": "code",
      "metadata": {
        "id": "TND_Ihrg20_e"
      },
      "source": [
        "ff=pd.read_csv('data/LTRC/sex/TF_zscore_Case.txt',sep='\\t',header=0)\n",
        "fff=pd.read_csv('data/LTRC/sex/gene_zscore_Case.txt',sep='\\t',header=0)\n",
        "mm=pd.read_csv('data/LTRC/sex/TF_zscore_Control.txt',sep='\\t',header=0)\n",
        "mmm=pd.read_csv('data/LTRC/sex/gene_zscore_Control.txt',sep='\\t',header=0)\n",
        "sex_tf_diff=ff.merge(mm,on='TF')\n",
        "\n",
        "a=plt.hist(sex_tf_diff['diff_x'],bins=100,label='Case')\n",
        "b=plt.hist(sex_tf_diff['diff_y'],bins=100,label='Control')\n",
        "plt.title('LTRC Sex-specific Male-Female TF degree diff')\n",
        "plt.legend(loc=\"best\")\n"
      ],
      "execution_count": null,
      "outputs": []
    },
    {
      "cell_type": "code",
      "metadata": {
        "id": "aS_zESgI21Bl"
      },
      "source": [
        ""
      ],
      "execution_count": null,
      "outputs": []
    },
    {
      "cell_type": "markdown",
      "metadata": {
        "id": "O2i3O_AeS-ht"
      },
      "source": [
        "#negative control\n",
        "create 4 randomly chosen subsets to test difference of differences between panda nets\n",
        "\n",
        "use other colab for more memory:\n",
        "https://colab.research.google.com/drive/1ebLeRX6Gwywgs1Yn_gcL8TYufgkfbchX#scrollTo=wS_rwFkacl74\n",
        "\n",
        "\n",
        "\n",
        "\n"
      ]
    },
    {
      "cell_type": "code",
      "metadata": {
        "id": "voahkf1Mxs26"
      },
      "source": [
        "# !pip install GEOparse\n",
        "# import GEOparse\n",
        "# gse = GEOparse.get_GEO(geo=\"GSE76925\", destdir=\"./\")\n",
        "# illumina_labels=pd.read_csv('drive/My Drive/Colab Notebooks dcm/GPL10558_illumina_prb_loc.txt',sep='\\t',index_col=0,header=None,names=['loc','symbol'])\n",
        "\n",
        "# gpl = gse.gpls[next(iter(gse.gpls))]\n",
        "# data = gse.pivot_samples(values=\"VALUE\")#, gpl=gpl, annotation_column=\"Symbol\")\n",
        "# data.sort_index\n",
        "\n",
        "LCL_ppi=pd.read_csv('https://granddb.s3.amazonaws.com/optPANDA/ppi/ppi_complete.txt',sep='\\t',header=None)\n",
        "LCL_ppi.to_csv('drive/My Drive/ppi_complete.txt',sep='\\t',index=False,header=False)\n",
        "\n",
        "coding_LCL_motif=pd.read_csv('https://granddb.s3.amazonaws.com/optPANDA/motifs/Hugo_motifCellLine.txt',sep='\\t',header=None)\n",
        "coding_LCL_motif.to_csv('drive/My Drive/coding_LCL_motif.txt',sep='\\t',index=False,header=False)\n",
        "\n",
        "motif_data='drive/My Drive/Colab Notebooks/coding_LCL_motif.txt'\n",
        "ppi_data='drive/My Drive/Colab Notebooks/ppi_complete.txt'\n",
        "\n",
        "# plt.hist(nullA.values.flatten(),alpha=.5,log=True)\n",
        "# plt.hist(nullB.values.flatten(),alpha=.5,log=True)\n",
        "# plt.hist(nullC.values.flatten(),alpha=.5,log=True)\n",
        "# plt.hist(nullD.values.flatten(),alpha=.5,log=True)\n",
        "# plt.xlabel('test')\n"
      ],
      "execution_count": null,
      "outputs": []
    },
    {
      "cell_type": "code",
      "metadata": {
        "id": "id-MeAb2xupv"
      },
      "source": [
        "null=data.merge(illumina_labels,left_index=True,right_index=True)\n",
        "null.index=null['symbol']\n",
        "del null['loc'], null['symbol']"
      ],
      "execution_count": null,
      "outputs": []
    },
    {
      "cell_type": "code",
      "metadata": {
        "id": "XE4_CjD6xw33"
      },
      "source": [
        "def negCont(nullA,nullB,i):\n",
        "  panda_nullA = Panda(nullA, motif_data, ppi_data,computing='gpu',precision='single',save_tmp=False,save_memory = True, remove_missing=False, keep_expression_matrix = False,modeProcess = 'intersection')\n",
        "  # np.save('drive/My Drive/Panda_nullA.npy',panda_nullA.export_panda_results)\n",
        "  panda_nullB = Panda(nullB, motif_data, ppi_data,computing='gpu',precision='single',save_tmp=False,save_memory = True, remove_missing=False, keep_expression_matrix = False,modeProcess = 'intersection')\n",
        "  # np.save('drive/My Drive/Panda_nullB.npy',panda_nullB.export_panda_results)\n",
        "\n",
        "  subset_panda_results3 = panda_nullA.export_panda_results.sort_values(by=['force'], ascending=False)\n",
        "  subset_panda_results1 = panda_nullB.export_panda_results.sort_values(by=['force'], ascending=False)\n",
        "  del subset_panda_results3['motif'],subset_panda_results1['motif']\n",
        "  del panda_nullA, panda_nullB\n",
        "\n",
        "  ##aggregate TF link sum and zscore\n",
        "  TFsum_3=subset_panda_results3.groupby(['tf']).agg({'force':sum})\n",
        "  TFsum_1=subset_panda_results1.groupby(['tf']).agg({'force':sum})\n",
        "  TFsum_1['force']=zscore(TFsum_1['force'])\n",
        "  TFsum_3['force']=zscore(TFsum_3['force'])\n",
        "\n",
        "  ##aggregate gene link sum and zscore\n",
        "  geneSum_3=subset_panda_results3.groupby(['gene']).agg({'force':sum})\n",
        "  geneSum_1=subset_panda_results1.groupby(['gene']).agg({'force':sum})\n",
        "  geneSum_3['force']=zscore(geneSum_3['force'])\n",
        "  geneSum_1['force']=zscore(geneSum_1['force'])\n",
        "\n",
        "  ##merge\n",
        "  nnn=TFsum_3.merge(TFsum_1, left_on=['tf'], right_on=['tf'])\n",
        "  nnnn=geneSum_3.merge(geneSum_1, left_on=['gene'], right_on=['gene'])\n",
        "\n",
        "  del [[subset_panda_results3, subset_panda_results1]]\n",
        "  gc.collect()\n",
        "  subset_panda_results3=pd.DataFrame()\n",
        "  subset_panda_results1=pd.DataFrame()\n",
        "\n",
        "  ##diff\n",
        "  nnn['diff']=nnn.force_x-nnn.force_y\n",
        "  # nnn = nnn.sort_values(by ='diff' )\n",
        "  del nnn['force_x'], nnn['force_y']\n",
        "  nnn=nnn.sort_index(axis=0)\n",
        "  nnn=nnn.T\n",
        "  nnnn['diff']=nnnn.force_x-nnnn.force_y\n",
        "  # nnnn = nnnn.sort_values(by ='diff' )\n",
        "  del nnnn['force_x'], nnnn['force_y']\n",
        "  nnnn=nnnn.sort_index(axis=0)\n",
        "  nnnn=nnnn.T\n",
        "  if i==1:\n",
        "    nnn.to_csv('drive/My Drive/Colab Notebooks/model_output/TF_zscore_rand_CLE.txt',sep='\\t',header=True,index=None)\n",
        "    nnnn.to_csv('drive/My Drive/Colab Notebooks/model_output/gene_zscore_rand_CLE.txt',sep='\\t',header=True,index=None)\n",
        "  elif i!=1:\n",
        "    nnn.to_csv('drive/My Drive/Colab Notebooks/model_output/TF_zscore_rand_CLE.txt',sep='\\t',header=None,index=None,mode='a')\n",
        "    nnnn.to_csv('drive/My Drive/Colab Notebooks/model_output/gene_zscore_rand_CLE.txt',sep='\\t',header=None,index=None,mode='a')\n",
        "  \n",
        "  del nnn, nnnn\n",
        "  gc.collect()\n",
        "\n"
      ],
      "execution_count": null,
      "outputs": []
    },
    {
      "cell_type": "code",
      "metadata": {
        "id": "nJzX1xvI3FrZ"
      },
      "source": [
        "for i in range(1,10):\n",
        "  ## four random group exact same size as LTCOPD cases and controls\n",
        "  null=data.merge(illumina_labels,left_index=True,right_index=True)\n",
        "  null.index=null['symbol']\n",
        "  del null['loc'], null['symbol']\n",
        "  j=np.random.choice(151, size=(67, ),replace=False) ##67 total males\n",
        "  nullA=null.iloc[:,j.tolist()] ##reduce to random 68\n",
        "  null2=null.drop(nullA.columns,axis=1) ## create second group without these 68\n",
        "\n",
        "  k=np.random.choice(j,15,replace=False) ##15 male controls\n",
        "  nullB=null.iloc[:,k.tolist()] ##take 15 of 68 for male control random\n",
        "  nullA=nullA.drop(nullB.columns,axis=1) ## remove these 15 from male cases\n",
        "\n",
        "  l=np.random.choice(null2.shape[1], size=(84, ),replace=False) ##84 total females\n",
        "  nullC=null2.iloc[:,l.tolist()] ##subset leftover from first null to 85\n",
        "  m=np.random.choice(l[l<85],25,replace=False) ##25 controls\n",
        "  nullD=nullC.iloc[:,m.tolist()] ##take 25 for female random control\n",
        "  nullC=nullC.drop(nullD.columns,axis=1)\n",
        "\n",
        "  negCont(nullA,nullB,i)\n",
        "  negCont(nullC,nullD,i+1)\n",
        "\n",
        "  print('saved iteration='+str(i))"
      ],
      "execution_count": null,
      "outputs": []
    },
    {
      "cell_type": "code",
      "metadata": {
        "id": "4BcUH_ZJF1sB"
      },
      "source": [
        "TF_diffNull=pd.read_csv('drive/My Drive/Colab Notebooks/model_output/TF_zscore_rand_CLE.txt',sep='\\t')\n",
        "gene_diffNull=pd.read_csv('drive/My Drive/Colab Notebooks/model_output/gene_zscore_rand_CLE.txt',sep='\\t')\n",
        "TF_diffNull=TF_diffNull.T\n",
        "gene_diffNull=gene_diffNull.T"
      ],
      "execution_count": null,
      "outputs": []
    },
    {
      "cell_type": "code",
      "metadata": {
        "id": "0nmbS0NsHL6r"
      },
      "source": [
        "for i, col in enumerate(TF_diffNull.columns):\n",
        "    # plt.figure(i)\n",
        "    tmp=sns.kdeplot(TF_diffNull[col])"
      ],
      "execution_count": null,
      "outputs": []
    },
    {
      "cell_type": "code",
      "metadata": {
        "id": "1Q31dYw5QqbE"
      },
      "source": [
        "for i, col in enumerate(gene_diffNull.columns):\n",
        "    # plt.figure(i)\n",
        "    tmp=sns.kdeplot(gene_diffNull[col])"
      ],
      "execution_count": null,
      "outputs": []
    },
    {
      "cell_type": "markdown",
      "metadata": {
        "id": "oW_96Huk4uxJ"
      },
      "source": [
        "# LTRC negCont"
      ]
    },
    {
      "cell_type": "code",
      "metadata": {
        "id": "liaGW2Oi4uAd"
      },
      "source": [
        "LTRC_exp=pd.read_csv('drive/My Drive/harvard/LARGE_COPD/age_sex_LTRC_XXX.txt',sep='\\t',index_col=0)\n",
        "LTRC_exp_key=pd.read_csv('drive/My Drive/harvard/LARGE_COPD/age_sex_LTRC_XXXkey.txt',sep='\\t')\n",
        "data=np.divide(LTRC_exp,LTRC_exp_key)\n",
        "data=data.groupby(data.index).mean()\n",
        "\n",
        "motif_data='drive/My Drive/coding_LCL_motif.txt'\n",
        "ppi_data='drive/My Drive/ppi_complete.txt'\n",
        "\n",
        "LTCOPD_genes=pd.read_csv('drive/My Drive/Colab Notebooks/LTCOPD_genes.txt',index_col=None,header=None,sep='\\t')\n",
        "data1=np.log2(data.dropna(how='all'))\n",
        "data1=data1.merge(LTCOPD_genes,left_index=True,right_on=0)\n",
        "data1.index=data1[0]\n",
        "data1.replace([np.inf, -np.inf], np.nan,inplace=True)\n",
        "data1.replace(np.nan, 0,inplace=True)\n",
        "del data1[0]"
      ],
      "execution_count": null,
      "outputs": []
    },
    {
      "cell_type": "code",
      "metadata": {
        "id": "Q1cVpQUL9t4m"
      },
      "source": [
        "FC=data1.iloc[:,data1.columns.str.contains('_0_1')]\n",
        "FNC=data1.iloc[:,data1.columns.str.contains('_0_0')]\n",
        "MC=data1.iloc[:,data1.columns.str.contains('_1_1')]\n",
        "MNC=data1.iloc[:,data1.columns.str.contains('_1_0')]"
      ],
      "execution_count": null,
      "outputs": []
    },
    {
      "cell_type": "code",
      "metadata": {
        "id": "Uogxf4Fv-SKg"
      },
      "source": [
        "def negCont(nullA,nullB,i,timestr,motif_data,ppi_data):\n",
        "  panda_nullA = Panda(nullA, motif_data, ppi_data,computing='gpu',precision='single',save_tmp=False,save_memory = True, remove_missing=True, keep_expression_matrix = False,modeProcess = 'intersection')\n",
        "  # np.save('drive/My Drive/Panda_nullA.npy',panda_nullA.export_panda_results)\n",
        "  gc.collect()\n",
        "  panda_nullB = Panda(nullB, motif_data, ppi_data,computing='gpu',precision='single',save_tmp=False,save_memory = True, remove_missing=True, keep_expression_matrix = False,modeProcess = 'intersection')\n",
        "  # np.save('drive/My Drive/Panda_nullB.npy',panda_nullB.export_panda_results)\n",
        "  uniq_tfs=np.intersect1d(panda_nullA.ppi_tfs,panda_nullA.motif_tfs)\n",
        "  uniq_genes=np.intersect1d(panda_nullA.motif_genes,panda_nullA.expression_genes)\n",
        "  tfs = np.tile(uniq_tfs, (len(uniq_genes), 1)).flatten()\n",
        "  genes = np.repeat(uniq_genes,panda_nullA.num_tfs)\n",
        "  forceA = panda_nullA.motif_matrix.flatten(order='F')\n",
        "  forceB = panda_nullB.motif_matrix.flatten(order='F')\n",
        "  export_panda_results = pd.DataFrame({'tf':tfs, 'gene': genes,'forceA': forceA,'forceB': forceB})#.sort_values(by=['force'], ascending=False)\n",
        "\n",
        "  # subset_panda_resultsA = panda_nullA.export_panda_results.sort_values(by=['force'], ascending=False)\n",
        "  # subset_panda_resultsB = panda_nullB.export_panda_results.sort_values(by=['force'], ascending=False)\n",
        "  # del subset_panda_resultsA['motif'],subset_panda_resultsB['motif']\n",
        "  del panda_nullA, panda_nullB, forceA, forceB\n",
        "\n",
        "  ##aggregate TF link sum and zscore\n",
        "  TFsum_A=export_panda_results.groupby(['tf']).agg({'forceA':sum})\n",
        "  TFsum_B=export_panda_results.groupby(['tf']).agg({'forceB':sum})\n",
        "  TFsum_B['force']=zscore(TFsum_B['forceB'])\n",
        "  TFsum_A['force']=zscore(TFsum_A['forceA'])\n",
        "\n",
        "  ##aggregate gene link sum and zscore\n",
        "  geneSum_A=export_panda_results.groupby(['gene']).agg({'forceA':sum})\n",
        "  geneSum_B=export_panda_results.groupby(['gene']).agg({'forceB':sum})\n",
        "  geneSum_A['force']=zscore(geneSum_A['forceA'])\n",
        "  geneSum_B['force']=zscore(geneSum_B['forceB'])\n",
        "\n",
        "  ##merge\n",
        "  sumTFdiff=TFsum_A.merge(TFsum_B, left_on=['tf'], right_on=['tf'])\n",
        "  sumGenediff=geneSum_A.merge(geneSum_B, left_on=['gene'], right_on=['gene'])\n",
        "\n",
        "  del export_panda_results, tfs, genes,forceA,forceB #[[subset_panda_resultsA, subset_panda_resultsB]]\n",
        "  gc.collect()\n",
        "  export_panda_results=pd.DataFrame()\n",
        "  # subset_panda_resultsA=pd.DataFrame()\n",
        "  # subset_panda_resultsB=pd.DataFrame()\n",
        "\n",
        "  ##diff\n",
        "  sumTFdiff['diff']=sumTFdiff.force_x-sumTFdiff.force_y\n",
        "  # sumTFdiff = sumTFdiff.sort_values(by ='diff' )\n",
        "  del sumTFdiff['force_x'], sumTFdiff['force_y']\n",
        "  sumTFdiff=sumTFdiff.sort_index(axis=0)\n",
        "  sumTFdiff=sumTFdiff.T\n",
        "  sumGenediff['diff']=sumGenediff.force_x-sumGenediff.force_y\n",
        "  # sumGenediff = sumGenediff.sort_values(by ='diff' )\n",
        "  del sumGenediff['force_x'], sumGenediff['force_y']\n",
        "  sumGenediff=sumGenediff.sort_index(axis=0)\n",
        "  sumGenediff=sumGenediff.T\n",
        "  if i==1:\n",
        "    sumTFdiff.to_csv('drive/My Drive/Colab Notebooks/model_output/null/TF_zscore_rand_'+timestr+'.txt',sep='\\t',header=True,index=None)\n",
        "    sumGenediff.to_csv('drive/My Drive/Colab Notebooks/model_output/null/gene_zscore_rand_'+timestr+'.txt',sep='\\t',header=True,index=None)\n",
        "  elif i!=1:\n",
        "    sumTFdiff.to_csv('drive/My Drive/Colab Notebooks/model_output/null/TF_zscore_rand_'+timestr+'.txt',sep='\\t',header=None,index=None,mode='a')\n",
        "    sumGenediff.to_csv('drive/My Drive/Colab Notebooks/model_output/null/gene_zscore_rand_'+timestr+'.txt',sep='\\t',header=None,index=None,mode='a')\n",
        "  del sumTFdiff, sumGenediff\n",
        "  gc.collect()"
      ],
      "execution_count": null,
      "outputs": []
    },
    {
      "cell_type": "code",
      "metadata": {
        "id": "eYBdSOZO3GPN"
      },
      "source": [
        "inits=100\n",
        "for i in range(1,inits):\n",
        "    ## form two random groups of exact size as initial cases and controls\n",
        "    # data=pd.read_csv(expression_file,sep='\\t',index_col=0)\n",
        "    j=np.random.choice(data1.shape[1], size=(MC.shape[1]+MNC.shape[1], ),replace=False) ## total males\n",
        "    nullA=data1.iloc[:,j.tolist()] ##reduce to random set\n",
        "    # null2=data.drop(nullA.columns,axis=1) ## create second group without these\n",
        "\n",
        "    k=np.random.choice(j,MNC.shape[1],replace=False) ## male controls\n",
        "    nullB=data1.iloc[:,k.tolist()] ##remove controls from male pop\n",
        "    nullA=nullA.drop(nullB.columns,axis=1) ## remove these from male cases\n",
        "\n",
        "    # l=np.random.choice(null2.shape[1], size=(FC.shape[1]+FNC.shape[1], ),replace=False) ##84 total females\n",
        "    # nullC=null2.iloc[:,l.tolist()] ##subset leftover from first null to 85\n",
        "    # m=np.random.choice(l[l<FC.shape[1]+1+FNC.shape[1]],FNC.shape[1],replace=False) ##25 controls\n",
        "    # nullD=nullC.iloc[:,m.tolist()] ##take 25 for female random control\n",
        "    # nullC=nullC.drop(nullD.columns,axis=1)\n",
        "\n",
        "    sumTFdiff,sumGenediff=negCont(nullA,nullB,i,timestr,motif_data,ppi_data)\n",
        "    # negCont(nullC,nullD,i+1)\n",
        "\n",
        "    print('saved iteration='+str(i))"
      ],
      "execution_count": null,
      "outputs": []
    },
    {
      "cell_type": "code",
      "metadata": {
        "id": "sQQgwB91DgX5"
      },
      "source": [
        "\n",
        "# f_pval =[]\n",
        "# m_pval = []#pd.DataFrame()\n",
        "# f_pval = np.array(f_pval, dtype = np.float32)\n",
        "# m_pval = np.array(m_pval, dtype = np.float32)\n",
        "\n",
        "# for i, col in enumerate(TF_diffNull.columns):\n",
        "#   t0f, p0f=stats.ttest_ind(mmm['diff'],TF_diffNull[col],nan_policy='omit',equal_var=False)\n",
        "#   t0m, p0m=stats.ttest_ind(nnn['diff'],TF_diffNull[col],nan_policy='omit',equal_var=False)\n",
        "#   f_pval=np.append(f_pval,p0f)\n",
        "#   m_pval=np.append(m_pval,p0m)\n",
        "# plt.hist([m_pval])"
      ],
      "execution_count": null,
      "outputs": []
    },
    {
      "cell_type": "code",
      "metadata": {
        "id": "wDIiYfRYbt9W"
      },
      "source": [
        ""
      ],
      "execution_count": null,
      "outputs": []
    },
    {
      "cell_type": "code",
      "metadata": {
        "id": "pQ4gbUvU1M9b"
      },
      "source": [
        "TF_diffNull=pd.read_csv('drive/My Drive/Colab Notebooks/model_output/TF_zscore_rand_1000.txt',sep='\\t',header=0)\n",
        "gene_diffNull=pd.read_csv('drive/My Drive/Colab Notebooks/model_output/gene_zscore_rand_1000.txt',sep='\\t',header=0)\n",
        "TF_diffNull=TF_diffNull.T\n",
        "gene_diffNull=gene_diffNull.T\n",
        "gene_diffNull.shape\n",
        "\n",
        "# TF_diffNull=pd.read_csv('drive/My Drive/TF_zscore_rand_camb.txt',sep='\\t',header=0)\n",
        "# gene_diffNull=pd.read_csv('drive/My Drive/gene_zscore_rand_camb.txt',sep='\\t',header=0)\n",
        "# TF_diffNull=TF_diffNull.T\n",
        "# gene_diffNull=gene_diffNull.T\n",
        "# gene_diffNull.shape"
      ],
      "execution_count": null,
      "outputs": []
    },
    {
      "cell_type": "code",
      "metadata": {
        "id": "eqenM27mA42h"
      },
      "source": [
        "male=pd.DataFrame()\n",
        "for i in range(0,200,2):\n",
        "  xx=pd.DataFrame([TF_diffNull[TF_diffNull[i]>.5].index,TF_diffNull[TF_diffNull[i]<-.5].index])\n",
        "  if not xx.empty:\n",
        "    print(xx)\n",
        "    male=np.append(male,xx)"
      ],
      "execution_count": null,
      "outputs": []
    },
    {
      "cell_type": "code",
      "metadata": {
        "id": "76h18hrGGunV"
      },
      "source": [
        "male"
      ],
      "execution_count": null,
      "outputs": []
    },
    {
      "cell_type": "code",
      "metadata": {
        "id": "Zs3xPwYTcNuZ"
      },
      "source": [
        "for i in range(1,201,2):\n",
        "  xx=pd.DataFrame([TF_diffNull[TF_diffNull[i]>.5][0],TF_diffNull[TF_diffNull[i]<-.5][0]])\n",
        "  if not xx.empty:\n",
        "    print(i)"
      ],
      "execution_count": null,
      "outputs": []
    },
    {
      "cell_type": "code",
      "metadata": {
        "id": "naQsEEwR_4Ju"
      },
      "source": [
        "TF_diffNull"
      ],
      "execution_count": null,
      "outputs": []
    },
    {
      "cell_type": "code",
      "metadata": {
        "id": "87hASlQ_1Bbw"
      },
      "source": [
        "[sex_tf_diff[(sex_tf_diff['diff_y'])>.4].tf.values,sex_tf_diff[(sex_tf_diff['diff_y'])<-0.4].tf.values] #,sex_tf_diff[np.abs(sex_tf_diff['diff_y'])>.4].tf]"
      ],
      "execution_count": null,
      "outputs": []
    },
    {
      "cell_type": "code",
      "metadata": {
        "id": "IfA5aKCmEBgc"
      },
      "source": [
        "for i, col in enumerate(TF_diffNull.columns):\n",
        "    # plt.figure(i)\n",
        "    tmp=sns.distplot(TF_diffNull[col])"
      ],
      "execution_count": null,
      "outputs": []
    },
    {
      "cell_type": "code",
      "metadata": {
        "id": "E7aaqYvZAu2e"
      },
      "source": [
        "for i, col in enumerate(gene_diffNull.columns):\n",
        "    # plt.figure(i)\n",
        "    tmp=sns.distplot(gene_diffNull[col])"
      ],
      "execution_count": null,
      "outputs": []
    },
    {
      "cell_type": "code",
      "metadata": {
        "id": "4nQRblCiCPlS"
      },
      "source": [
        "hist=np.histogram(np.array(TF_diffNull).flatten())#,log=False)\n",
        "stats.rv_histogram(hist)"
      ],
      "execution_count": null,
      "outputs": []
    },
    {
      "cell_type": "code",
      "metadata": {
        "id": "sqNqvYuZ3wMG"
      },
      "source": [
        "plt.hist(TF_diffNull.unstack(),log=True)"
      ],
      "execution_count": null,
      "outputs": []
    },
    {
      "cell_type": "code",
      "metadata": {
        "id": "-CeKcgiv39wk"
      },
      "source": [
        "plt.hist(TF_diffNull.unstack())"
      ],
      "execution_count": null,
      "outputs": []
    },
    {
      "cell_type": "code",
      "metadata": {
        "id": "aDKhmWpVEML9"
      },
      "source": [
        "sns.distplot(np.median(TF_diffNull,axis=1))\n",
        "sns.distplot(np.mean(TF_diffNull,axis=1))"
      ],
      "execution_count": null,
      "outputs": []
    },
    {
      "cell_type": "code",
      "metadata": {
        "id": "JpEgv6Rbt1LF"
      },
      "source": [
        ""
      ],
      "execution_count": null,
      "outputs": []
    },
    {
      "cell_type": "code",
      "metadata": {
        "id": "7ciWDHa9ockC"
      },
      "source": [
        "hist=np.histogram(np.array(TF_diffNull).flatten(),100)#,log=False)\n",
        "TF_dNull=stats.rv_histogram(hist)\n",
        "sampled_list = random.sample(set(mmm['diff']), 100)\n",
        "stat2, pvalue2 = stats.kstest(sampled_list, cdf=TF_dNull.cdf)#,args=(weight1, mean1, stdv1, mean2, stdv2))\n",
        "pvalue2"
      ],
      "execution_count": null,
      "outputs": []
    },
    {
      "cell_type": "code",
      "metadata": {
        "id": "ZVC3Qd7xzL8y"
      },
      "source": [
        "TFpvalue=pd.DataFrame()\n",
        "for i, col in enumerate(TF_diffNull.columns):\n",
        "  hist=np.histogram(np.array(TF_diffNull[col]))#.flatten())#,log=False)\n",
        "  TF_dNull=stats.rv_histogram(hist)\n",
        "  sampled_list = random.sample(set(mmm['diff']), 100)\n",
        "  stat2, pvalue2 = stats.kstest(sampled_list, cdf=TF_dNull.cdf)#,args=(weight1, mean1, stdv1, mean2, stdv2))\n",
        "  TFpvalue[i+1]=[pvalue2] #np.concatenate([pvalue,pvalue2],axis=0)\n",
        "TFpvalue=TFpvalue.T\n",
        "print(TFpvalue)"
      ],
      "execution_count": null,
      "outputs": []
    },
    {
      "cell_type": "code",
      "metadata": {
        "id": "hkEQPcqx2Eep"
      },
      "source": [
        "TFpvalue[TFpvalue<.005].dropna()"
      ],
      "execution_count": null,
      "outputs": []
    },
    {
      "cell_type": "code",
      "metadata": {
        "id": "4hbX_mwJ3vBH"
      },
      "source": [
        "Gpvalue=pd.DataFrame()\n",
        "for i, col in enumerate(gene_diffNull.columns):\n",
        "  hist=np.histogram(np.array(gene_diffNull[col]))#.flatten())#,log=False)\n",
        "  gene_dNull=stats.rv_histogram(hist)\n",
        "  sampled_list = random.sample(set(mmmm['diff']), 100)\n",
        "  stat2, pvalue2 = stats.kstest(sampled_list, cdf=gene_dNull.cdf)#,args=(weight1, mean1, stdv1, mean2, stdv2))\n",
        "  Gpvalue[i+1]=[pvalue2] #np.concatenate([pvalue,pvalue2],axis=0)\n",
        "Gpvalue=Gpvalue.T\n",
        "print(Gpvalue)"
      ],
      "execution_count": null,
      "outputs": []
    },
    {
      "cell_type": "code",
      "metadata": {
        "id": "OGbvrnEW6-C2"
      },
      "source": [
        "Gpvalue[Gpvalue<.005].dropna()"
      ],
      "execution_count": null,
      "outputs": []
    },
    {
      "cell_type": "markdown",
      "metadata": {
        "id": "dX4Ud-HNLTSV"
      },
      "source": [
        "#Age case v control (65yo)"
      ]
    },
    {
      "cell_type": "code",
      "metadata": {
        "id": "XFchVEvpMNto"
      },
      "source": [
        "# del data1['loc']\n",
        "# Age=(gse.phenotype_data['characteristics_ch1.0.age'].values).astype('float')>64\n",
        "# len(Age.astype('str'))\n",
        "# data1=pd.read_csv('drive/My Drive/Colab Notebooks/GSE76925.txt',sep='\\t',index_col=0)\n",
        "# data1\n",
        "# data1.columns=[Age.astype('str')+gse.phenotype_data['characteristics_ch1.5.copd'].values]\n",
        "\n",
        "# data1.loc[:,'Truecase'].to_csv('OldCase.txt',sep='\\t',index=True,header=False)\n",
        "# data1.loc[:,'Truecont'].to_csv('OldCont.txt',sep='\\t',index=True,header=False)\n",
        "[data1.loc[:,'Truecase'].shape,#.to_csv('OldCase.txt',sep='\\t',index=True,header=False)\n",
        "data1.loc[:,'Truecont'].shape,\n",
        "\n",
        "# # data4=data1[data1['age']<=65]\n",
        "# # del  data4['loc']\n",
        "# # data4.columns=[gse.phenotype_data['characteristics_ch1.1.Sex']+gse.phenotype_data['characteristics_ch1.5.copd']]\n",
        "# data1.loc[:,'Falsecase'].to_csv('YoungCase.txt',sep='\\t',index=True,header=False)\n",
        "# data1.loc[:,'Falsecont'].to_csv('YoungCont.txt',sep='\\t',index=True,header=False)\n",
        "data1.loc[:,'Falsecase'].shape,#.to_csv('YoungCase.txt',sep='\\t',index=True,header=False)\n",
        "data1.loc[:,'Falsecont'].shape]"
      ],
      "execution_count": null,
      "outputs": []
    },
    {
      "cell_type": "code",
      "metadata": {
        "id": "gzNNCvGPMRWh"
      },
      "source": [
        "LCL_ppi=pd.read_csv('https://granddb.s3.amazonaws.com/optPANDA/ppi/ppi_complete.txt',sep='\\t',header=None)\n",
        "LCL_ppi.to_csv('ppi_complete.txt',sep='\\t',index=False,header=False)\n",
        "\n",
        "coding_LCL_motif=pd.read_csv('https://granddb.s3.amazonaws.com/optPANDA/motifs/Hugo_motifCellLine.txt',sep='\\t',header=None)\n",
        "coding_LCL_motif.to_csv('coding_LCL_motif.txt',sep='\\t',index=False,header=False)\n",
        "\n",
        "motif_data='coding_LCL_motif.txt'\n",
        "ppi_data='ppi_complete.txt'"
      ],
      "execution_count": null,
      "outputs": []
    },
    {
      "cell_type": "code",
      "metadata": {
        "id": "PU39axBX7Q77"
      },
      "source": [
        "panda_obj1 = Panda('OldCase.txt', motif_data, ppi_data,computing='gpu',precision='single',save_tmp=False,save_memory = False, remove_missing=False, keep_expression_matrix = True,modeProcess = 'intersection')\n",
        "np.save('drive/My Drive/Panda_OldCase.npy',panda_obj1.export_panda_results)\n",
        "del panda_obj1\n",
        "panda_obj2 = Panda('OldCont.txt', motif_data, ppi_data,computing='gpu',precision='single',save_tmp=False,save_memory = False, remove_missing=False, keep_expression_matrix = True,modeProcess = 'intersection')\n",
        "np.save('drive/My Drive/Panda_OldCont.npy',panda_obj2.export_panda_results)\n",
        "del panda_obj2\n",
        "panda_obj3 = Panda('YoungCase.txt', motif_data, ppi_data,computing='gpu',precision='single',save_tmp=False,save_memory = False, remove_missing=False, keep_expression_matrix = True,modeProcess = 'intersection')\n",
        "np.save('drive/My Drive/Panda_YoungCase.npy',panda_obj3.export_panda_results)\n",
        "del panda_obj3\n",
        "panda_obj4 = Panda('YoungCont.txt', motif_data, ppi_data,computing='gpu',precision='single',save_tmp=False,save_memory = False, remove_missing=False, keep_expression_matrix = True,modeProcess = 'intersection')\n",
        "np.save('drive/My Drive/Panda_YoungCont.npy',panda_obj4.export_panda_results)\n",
        "del panda_obj4\n"
      ],
      "execution_count": null,
      "outputs": []
    },
    {
      "cell_type": "code",
      "metadata": {
        "id": "EmA2YJXYTFcM"
      },
      "source": [
        "Panda_OldCase=np.load('drive/My Drive/Colab Notebooks/Panda_OldCase.npy',allow_pickle=True)#,sep='\\t',index_col=0,header=None,names=['loc','symbol'])\n",
        "Panda_OldCont=np.load('drive/My Drive/Colab Notebooks/Panda_OldCont.npy',allow_pickle=True)#,sep='\\t',index_col=0,header=None,names=['loc','symbol'])\n",
        "Panda_OldCont=pd.DataFrame(Panda_OldCont)\n",
        "Panda_OldCont.columns=['tf','gene','motif','force']\n",
        "Panda_OldCase=pd.DataFrame(Panda_OldCase)\n",
        "Panda_OldCase.columns=['tf','gene','motif','force']\n",
        "\n",
        "Panda_YoungCase=np.load('drive/My Drive/Colab Notebooks/Panda_YoungCase.npy',allow_pickle=True)#,sep='\\t',index_col=0,header=None,names=['loc','symbol'])\n",
        "Panda_YoungCont=np.load('drive/My Drive/Colab Notebooks/Panda_YoungCont.npy',allow_pickle=True)#,sep='\\t',index_col=0,header=None,names=['loc','symbol'])\n",
        "Panda_YoungCont=pd.DataFrame(Panda_YoungCont)\n",
        "Panda_YoungCont.columns=['tf','gene','motif','force']\n",
        "Panda_YoungCase=pd.DataFrame(Panda_YoungCase)\n",
        "Panda_YoungCase.columns=['tf','gene','motif','force']"
      ],
      "execution_count": null,
      "outputs": []
    },
    {
      "cell_type": "markdown",
      "metadata": {
        "id": "T3jSwAJVRT71"
      },
      "source": [
        "#TF and gene specific zscore diff OLD, YOUNG"
      ]
    },
    {
      "cell_type": "code",
      "metadata": {
        "id": "d5KtPm3PQ6UR"
      },
      "source": [
        "from scipy.stats import zscore\n",
        "# Panda_nullA.panda_results = pd.DataFrame(Panda_nullA.export_panda_results, columns=['tf','gene','motif','force'])\n",
        "subset_panda_results3 = Panda_OldCase.sort_values(by=['force'], ascending=False)\n",
        "# subset_panda_results3['merge']=subset_panda_results3.tf+'-'+subset_panda_results3.gene\n",
        "\n",
        "# Panda_nullB.panda_results = pd.DataFrame(Panda_nullB.export_panda_results, columns=['tf','gene','motif','force'])\n",
        "subset_panda_results1 = Panda_OldCont.sort_values(by=['force'], ascending=False)\n",
        "# subset_panda_results1['merge']=subset_panda_results1.tf+'-'+subset_panda_results1.gene\n",
        "del subset_panda_results3['motif'],subset_panda_results1['motif']\n",
        "TFsum_3=subset_panda_results3.groupby(['tf']).agg({'force':sum})\n",
        "TFsum_1=subset_panda_results1.groupby(['tf']).agg({'force':sum})\n",
        "TFsum_1['force']=zscore(TFsum_1['force'])\n",
        "TFsum_3['force']=zscore(TFsum_3['force']) ##reduces range from 1500 to 3\n",
        "\n",
        "geneSum_3=subset_panda_results3.groupby(['gene']).agg({'force':sum})\n",
        "geneSum_1=subset_panda_results1.groupby(['gene']).agg({'force':sum})\n",
        "geneSum_3['force']=zscore(geneSum_3['force'])\n",
        "geneSum_1['force']=zscore(geneSum_1['force'])\n",
        "\n",
        "mmm=TFsum_3.merge(TFsum_1, left_on=['tf'], right_on=['tf'])\n",
        "mmmm=geneSum_3.merge(geneSum_1, left_on=['gene'], right_on=['gene'])\n",
        "\n",
        "del [[subset_panda_results3, subset_panda_results1,Panda_OldCont,Panda_OldCase]]\n",
        "gc.collect()\n",
        "subset_panda_results3=pd.DataFrame()\n",
        "subset_panda_results1=pd.DataFrame()\n",
        "Panda_FcontFULL=pd.DataFrame()\n",
        "Panda_FcontFULL=pd.DataFrame()\n",
        "\n",
        "\n",
        "mmm['diff']=mmm.force_x-mmm.force_y\n",
        "mmm = mmm.sort_values(by ='diff' )\n",
        "\n",
        "\n",
        "mmmm['diff']=mmmm.force_x-mmmm.force_y\n",
        "mmmm = mmmm.sort_values(by ='diff' )\n",
        "mmm.to_csv('drive/My Drive/TF_zscore_O.txt',sep='\\t')\n",
        "mmmm.to_csv('drive/My Drive/gene_zscore_O.txt',sep='\\t',index=0)"
      ],
      "execution_count": null,
      "outputs": []
    },
    {
      "cell_type": "code",
      "metadata": {
        "id": "a5I7BBWARcjJ"
      },
      "source": [
        "\n",
        "# Panda_nullA.panda_results = pd.DataFrame(Panda_nullA.export_panda_results, columns=['tf','gene','motif','force'])\n",
        "subset_panda_results3 = Panda_YoungCase.sort_values(by=['force'], ascending=False)\n",
        "# subset_panda_results3['merge']=subset_panda_results3.tf+'-'+subset_panda_results3.gene\n",
        "\n",
        "# Panda_nullB.panda_results = pd.DataFrame(Panda_nullB.export_panda_results, columns=['tf','gene','motif','force'])\n",
        "subset_panda_results1 = Panda_YoungCont.sort_values(by=['force'], ascending=False)\n",
        "# subset_panda_results1['merge']=subset_panda_results1.tf+'-'+subset_panda_results1.gene\n",
        "del subset_panda_results3['motif'],subset_panda_results1['motif']\n",
        "TFsum_3=subset_panda_results3.groupby(['tf']).agg({'force':sum})\n",
        "TFsum_1=subset_panda_results1.groupby(['tf']).agg({'force':sum})\n",
        "TFsum_1['force']=zscore(TFsum_1['force'])\n",
        "TFsum_3['force']=zscore(TFsum_3['force'])\n",
        "\n",
        "geneSum_3=subset_panda_results3.groupby(['gene']).agg({'force':sum})\n",
        "geneSum_1=subset_panda_results1.groupby(['gene']).agg({'force':sum})\n",
        "geneSum_3['force']=zscore(geneSum_3['force'])\n",
        "geneSum_1['force']=zscore(geneSum_1['force'])\n",
        "\n",
        "nnn=TFsum_3.merge(TFsum_1, left_on=['tf'], right_on=['tf'])\n",
        "nnnn=geneSum_3.merge(geneSum_1, left_on=['gene'], right_on=['gene'])\n",
        "\n",
        "del [[subset_panda_results3, subset_panda_results1,Panda_YoungCase,Panda_YoungCont]]\n",
        "gc.collect()\n",
        "subset_panda_results3=pd.DataFrame()\n",
        "subset_panda_results1=pd.DataFrame()\n",
        "Panda_Mcont=pd.DataFrame()\n",
        "Panda_Mcase=pd.DataFrame()\n",
        "\n",
        "\n",
        "nnn['diff']=nnn.force_x-nnn.force_y\n",
        "nnn = nnn.sort_values(by ='diff' )\n",
        "\n",
        "\n",
        "nnnn['diff']=nnnn.force_x-nnnn.force_y\n",
        "nnnn = nnnn.sort_values(by ='diff' )\n",
        "nnn.to_csv('drive/My Drive/TF_zscore_Y.txt',sep='\\t')\n",
        "nnnn.to_csv('drive/My Drive/gene_zscore_Y.txt',sep='\\t')\n"
      ],
      "execution_count": null,
      "outputs": []
    },
    {
      "cell_type": "code",
      "metadata": {
        "id": "84sc0fr-VVJh"
      },
      "source": [
        "ff=pd.read_csv('drive/My Drive/TF_zscore_O.txt',sep='\\t',header=0)\n",
        "fff=pd.read_csv('drive/My Drive/gene_zscore_O.txt',sep='\\t',header=0)\n",
        "mm=pd.read_csv('drive/My Drive/TF_zscore_Y.txt',sep='\\t',header=0)\n",
        "mmm=pd.read_csv('drive/My Drive/gene_zscore_Y.txt',sep='\\t',header=0)\n",
        "sex_tf_diff=ff.merge(mm,on='tf')\n",
        "# sex_gene_diff=fff.merge(mmm,on='gene')\n",
        " \n",
        "plt.figure(figsize=(15,6))\n",
        "sex_tf_diff['sexdiff']=sex_tf_diff['diff_x']-sex_tf_diff['diff_y']\n",
        "# sex_tf_diff=sex_tf_diff.sort_values(by=['sexdiff'])\n",
        "sex_tf_diff=sex_tf_diff.sort_values(by=['tf'])\n",
        "sns.barplot(data=sex_tf_diff,y='sexdiff',x='tf')"
      ],
      "execution_count": null,
      "outputs": []
    },
    {
      "cell_type": "code",
      "metadata": {
        "id": "zLMHwaMBRsmc"
      },
      "source": [
        "a=plt.hist(sex_tf_diff['diff_x'],bins=100,label='<65',color='c')\n",
        "b=plt.hist(sex_tf_diff['diff_y'],bins=100,label='>=65',color='m')\n",
        "plt.title('Age-specific Ca-Co TF degree diff')\n",
        "plt.legend(loc=\"best\")"
      ],
      "execution_count": null,
      "outputs": []
    },
    {
      "cell_type": "code",
      "metadata": {
        "id": "5RCpdCYeUPg-"
      },
      "source": [
        "# [sex_tf_diff[np.abs(sex_tf_diff['diff_x'])>.4].tf,\n",
        "sex_tf_diff#[np.abs(sex_tf_diff['diff_y'])>.4].tf]"
      ],
      "execution_count": null,
      "outputs": []
    },
    {
      "cell_type": "markdown",
      "metadata": {
        "id": "GPFgR6DHv4zS"
      },
      "source": [
        "#LTCOPD combat"
      ]
    },
    {
      "cell_type": "code",
      "metadata": {
        "id": "YnTeKi6Qv3_B"
      },
      "source": [
        "LTCOPD_exp=pd.read_csv('drive/MyDrive/harvard/LARGE_COPD/LTCOPD_qsmooth_combat.txt',sep='\\t',index_col=0)\n",
        "LTRC_exp=pd.read_csv('drive/MyDrive/harvard/LARGE_COPD/LTRC_qsmooth_combat.txt',sep='\\t',index_col=0)\n",
        "LTCOPD_exp=LTCOPD_exp.reset_index().dropna().set_index('index')\n",
        "dd=pd.read_csv('drive/MyDrive/harvard/LARGE_COPD/LTCOPD_genes.txt',sep='\\t',index_col=0)\n",
        "LTCOPD_exp.index=dd['x']"
      ],
      "execution_count": 24,
      "outputs": []
    },
    {
      "cell_type": "code",
      "metadata": {
        "colab": {
          "base_uri": "https://localhost:8080/",
          "height": 475
        },
        "id": "f4iMd2Gud_Bx",
        "outputId": "b8075258-323d-4b57-d1b8-7dd7884b40e0"
      },
      "source": [
        "LTCOPD_exp"
      ],
      "execution_count": 25,
      "outputs": [
        {
          "output_type": "execute_result",
          "data": {
            "text/html": [
              "<div>\n",
              "<style scoped>\n",
              "    .dataframe tbody tr th:only-of-type {\n",
              "        vertical-align: middle;\n",
              "    }\n",
              "\n",
              "    .dataframe tbody tr th {\n",
              "        vertical-align: top;\n",
              "    }\n",
              "\n",
              "    .dataframe thead th {\n",
              "        text-align: right;\n",
              "    }\n",
              "</style>\n",
              "<table border=\"1\" class=\"dataframe\">\n",
              "  <thead>\n",
              "    <tr style=\"text-align: right;\">\n",
              "      <th></th>\n",
              "      <th>67_F_cont</th>\n",
              "      <th>65_M_cont</th>\n",
              "      <th>68_M_cont</th>\n",
              "      <th>74_F_cont</th>\n",
              "      <th>56_M_case</th>\n",
              "      <th>63_F_case</th>\n",
              "      <th>66.51_F_cont</th>\n",
              "      <th>61_M_case</th>\n",
              "      <th>69_F_case</th>\n",
              "      <th>62_F_case</th>\n",
              "      <th>63_F_case.1</th>\n",
              "      <th>61_M_case.1</th>\n",
              "      <th>65_F_case</th>\n",
              "      <th>74_M_case</th>\n",
              "      <th>67_M_case</th>\n",
              "      <th>66_F_case</th>\n",
              "      <th>73.69_M_cont</th>\n",
              "      <th>59_M_case</th>\n",
              "      <th>72_M_cont</th>\n",
              "      <th>61_F_case</th>\n",
              "      <th>65_F_case.1</th>\n",
              "      <th>65_M_case</th>\n",
              "      <th>68_M_case</th>\n",
              "      <th>69_M_case</th>\n",
              "      <th>58_F_case</th>\n",
              "      <th>67_M_case.1</th>\n",
              "      <th>55.49_F_cont</th>\n",
              "      <th>66_F_case.1</th>\n",
              "      <th>61_F_case.1</th>\n",
              "      <th>61_M_case.2</th>\n",
              "      <th>71_F_cont</th>\n",
              "      <th>63_M_case</th>\n",
              "      <th>86_M_cont</th>\n",
              "      <th>63_F_case.2</th>\n",
              "      <th>56_M_case.1</th>\n",
              "      <th>48_F_case</th>\n",
              "      <th>54_F_case</th>\n",
              "      <th>64_M_case</th>\n",
              "      <th>61_M_case.3</th>\n",
              "      <th>56_F_case</th>\n",
              "      <th>...</th>\n",
              "      <th>56_M_cont.1</th>\n",
              "      <th>67_F_cont.4</th>\n",
              "      <th>82_F_cont</th>\n",
              "      <th>63.99_M_cont</th>\n",
              "      <th>67_M_case.3</th>\n",
              "      <th>66_F_case.3</th>\n",
              "      <th>59_M_case.1</th>\n",
              "      <th>60_F_case</th>\n",
              "      <th>65_F_case.4</th>\n",
              "      <th>62_M_case.3</th>\n",
              "      <th>63_M_case.5</th>\n",
              "      <th>68_F_case.2</th>\n",
              "      <th>62_M_case.4</th>\n",
              "      <th>65_F_case.5</th>\n",
              "      <th>54_F_cont</th>\n",
              "      <th>77_F_cont</th>\n",
              "      <th>84_F_case</th>\n",
              "      <th>76_F_case</th>\n",
              "      <th>60_M_cont</th>\n",
              "      <th>78_F_cont</th>\n",
              "      <th>63_M_cont</th>\n",
              "      <th>86_F_case</th>\n",
              "      <th>74_M_cont</th>\n",
              "      <th>61_F_case.3</th>\n",
              "      <th>69_M_case.4</th>\n",
              "      <th>62_F_case.3</th>\n",
              "      <th>76_F_cont</th>\n",
              "      <th>66_M_case.2</th>\n",
              "      <th>72_F_case</th>\n",
              "      <th>65_M_case.2</th>\n",
              "      <th>64_F_case</th>\n",
              "      <th>62_F_case.4</th>\n",
              "      <th>67_F_case</th>\n",
              "      <th>65_M_case.3</th>\n",
              "      <th>67_F_case.1</th>\n",
              "      <th>72_F_case.1</th>\n",
              "      <th>68_M_case.1</th>\n",
              "      <th>75_F_case</th>\n",
              "      <th>53_F_case.1</th>\n",
              "      <th>82_F_case</th>\n",
              "    </tr>\n",
              "    <tr>\n",
              "      <th>x</th>\n",
              "      <th></th>\n",
              "      <th></th>\n",
              "      <th></th>\n",
              "      <th></th>\n",
              "      <th></th>\n",
              "      <th></th>\n",
              "      <th></th>\n",
              "      <th></th>\n",
              "      <th></th>\n",
              "      <th></th>\n",
              "      <th></th>\n",
              "      <th></th>\n",
              "      <th></th>\n",
              "      <th></th>\n",
              "      <th></th>\n",
              "      <th></th>\n",
              "      <th></th>\n",
              "      <th></th>\n",
              "      <th></th>\n",
              "      <th></th>\n",
              "      <th></th>\n",
              "      <th></th>\n",
              "      <th></th>\n",
              "      <th></th>\n",
              "      <th></th>\n",
              "      <th></th>\n",
              "      <th></th>\n",
              "      <th></th>\n",
              "      <th></th>\n",
              "      <th></th>\n",
              "      <th></th>\n",
              "      <th></th>\n",
              "      <th></th>\n",
              "      <th></th>\n",
              "      <th></th>\n",
              "      <th></th>\n",
              "      <th></th>\n",
              "      <th></th>\n",
              "      <th></th>\n",
              "      <th></th>\n",
              "      <th></th>\n",
              "      <th></th>\n",
              "      <th></th>\n",
              "      <th></th>\n",
              "      <th></th>\n",
              "      <th></th>\n",
              "      <th></th>\n",
              "      <th></th>\n",
              "      <th></th>\n",
              "      <th></th>\n",
              "      <th></th>\n",
              "      <th></th>\n",
              "      <th></th>\n",
              "      <th></th>\n",
              "      <th></th>\n",
              "      <th></th>\n",
              "      <th></th>\n",
              "      <th></th>\n",
              "      <th></th>\n",
              "      <th></th>\n",
              "      <th></th>\n",
              "      <th></th>\n",
              "      <th></th>\n",
              "      <th></th>\n",
              "      <th></th>\n",
              "      <th></th>\n",
              "      <th></th>\n",
              "      <th></th>\n",
              "      <th></th>\n",
              "      <th></th>\n",
              "      <th></th>\n",
              "      <th></th>\n",
              "      <th></th>\n",
              "      <th></th>\n",
              "      <th></th>\n",
              "      <th></th>\n",
              "      <th></th>\n",
              "      <th></th>\n",
              "      <th></th>\n",
              "      <th></th>\n",
              "      <th></th>\n",
              "    </tr>\n",
              "  </thead>\n",
              "  <tbody>\n",
              "    <tr>\n",
              "      <th>EEF1A1</th>\n",
              "      <td>14.708</td>\n",
              "      <td>14.627</td>\n",
              "      <td>14.727</td>\n",
              "      <td>14.984</td>\n",
              "      <td>14.984</td>\n",
              "      <td>14.984</td>\n",
              "      <td>14.758</td>\n",
              "      <td>15.095</td>\n",
              "      <td>15.095</td>\n",
              "      <td>14.868</td>\n",
              "      <td>14.966</td>\n",
              "      <td>14.966</td>\n",
              "      <td>14.637</td>\n",
              "      <td>14.886</td>\n",
              "      <td>14.935</td>\n",
              "      <td>14.921</td>\n",
              "      <td>14.950</td>\n",
              "      <td>14.950</td>\n",
              "      <td>15.095</td>\n",
              "      <td>14.746</td>\n",
              "      <td>14.966</td>\n",
              "      <td>15.009</td>\n",
              "      <td>14.910</td>\n",
              "      <td>14.921</td>\n",
              "      <td>15.095</td>\n",
              "      <td>14.834</td>\n",
              "      <td>14.910</td>\n",
              "      <td>15.095</td>\n",
              "      <td>15.009</td>\n",
              "      <td>14.935</td>\n",
              "      <td>15.095</td>\n",
              "      <td>14.984</td>\n",
              "      <td>15.038</td>\n",
              "      <td>15.009</td>\n",
              "      <td>15.009</td>\n",
              "      <td>15.095</td>\n",
              "      <td>14.966</td>\n",
              "      <td>15.095</td>\n",
              "      <td>14.950</td>\n",
              "      <td>14.898</td>\n",
              "      <td>...</td>\n",
              "      <td>14.812</td>\n",
              "      <td>15.083</td>\n",
              "      <td>15.004</td>\n",
              "      <td>15.031</td>\n",
              "      <td>14.520</td>\n",
              "      <td>14.981</td>\n",
              "      <td>15.004</td>\n",
              "      <td>14.867</td>\n",
              "      <td>14.950</td>\n",
              "      <td>14.850</td>\n",
              "      <td>14.950</td>\n",
              "      <td>14.891</td>\n",
              "      <td>14.867</td>\n",
              "      <td>15.083</td>\n",
              "      <td>15.083</td>\n",
              "      <td>14.711</td>\n",
              "      <td>14.831</td>\n",
              "      <td>14.858</td>\n",
              "      <td>14.964</td>\n",
              "      <td>14.981</td>\n",
              "      <td>14.981</td>\n",
              "      <td>14.738</td>\n",
              "      <td>14.652</td>\n",
              "      <td>15.004</td>\n",
              "      <td>14.981</td>\n",
              "      <td>15.004</td>\n",
              "      <td>14.981</td>\n",
              "      <td>15.031</td>\n",
              "      <td>14.913</td>\n",
              "      <td>14.902</td>\n",
              "      <td>14.950</td>\n",
              "      <td>15.083</td>\n",
              "      <td>14.964</td>\n",
              "      <td>15.004</td>\n",
              "      <td>14.843</td>\n",
              "      <td>14.923</td>\n",
              "      <td>15.031</td>\n",
              "      <td>15.031</td>\n",
              "      <td>14.902</td>\n",
              "      <td>14.858</td>\n",
              "    </tr>\n",
              "    <tr>\n",
              "      <th>GAPDH</th>\n",
              "      <td>11.362</td>\n",
              "      <td>11.784</td>\n",
              "      <td>11.261</td>\n",
              "      <td>10.918</td>\n",
              "      <td>12.222</td>\n",
              "      <td>11.385</td>\n",
              "      <td>11.129</td>\n",
              "      <td>11.642</td>\n",
              "      <td>11.376</td>\n",
              "      <td>11.508</td>\n",
              "      <td>11.378</td>\n",
              "      <td>11.117</td>\n",
              "      <td>11.483</td>\n",
              "      <td>11.810</td>\n",
              "      <td>11.278</td>\n",
              "      <td>11.250</td>\n",
              "      <td>11.918</td>\n",
              "      <td>11.278</td>\n",
              "      <td>11.062</td>\n",
              "      <td>10.413</td>\n",
              "      <td>11.848</td>\n",
              "      <td>11.007</td>\n",
              "      <td>10.612</td>\n",
              "      <td>11.646</td>\n",
              "      <td>10.826</td>\n",
              "      <td>11.741</td>\n",
              "      <td>11.033</td>\n",
              "      <td>10.928</td>\n",
              "      <td>10.941</td>\n",
              "      <td>10.894</td>\n",
              "      <td>10.503</td>\n",
              "      <td>11.150</td>\n",
              "      <td>11.553</td>\n",
              "      <td>11.049</td>\n",
              "      <td>11.319</td>\n",
              "      <td>11.443</td>\n",
              "      <td>11.387</td>\n",
              "      <td>11.301</td>\n",
              "      <td>10.943</td>\n",
              "      <td>10.796</td>\n",
              "      <td>...</td>\n",
              "      <td>10.803</td>\n",
              "      <td>10.924</td>\n",
              "      <td>11.066</td>\n",
              "      <td>10.799</td>\n",
              "      <td>10.290</td>\n",
              "      <td>11.414</td>\n",
              "      <td>11.321</td>\n",
              "      <td>11.233</td>\n",
              "      <td>11.702</td>\n",
              "      <td>11.289</td>\n",
              "      <td>11.343</td>\n",
              "      <td>11.158</td>\n",
              "      <td>11.980</td>\n",
              "      <td>11.135</td>\n",
              "      <td>10.929</td>\n",
              "      <td>11.035</td>\n",
              "      <td>10.929</td>\n",
              "      <td>10.856</td>\n",
              "      <td>11.212</td>\n",
              "      <td>10.945</td>\n",
              "      <td>11.030</td>\n",
              "      <td>11.538</td>\n",
              "      <td>11.400</td>\n",
              "      <td>11.064</td>\n",
              "      <td>11.171</td>\n",
              "      <td>11.064</td>\n",
              "      <td>11.578</td>\n",
              "      <td>11.523</td>\n",
              "      <td>11.088</td>\n",
              "      <td>11.072</td>\n",
              "      <td>11.194</td>\n",
              "      <td>11.521</td>\n",
              "      <td>11.584</td>\n",
              "      <td>11.962</td>\n",
              "      <td>11.745</td>\n",
              "      <td>11.368</td>\n",
              "      <td>11.458</td>\n",
              "      <td>11.976</td>\n",
              "      <td>11.942</td>\n",
              "      <td>11.913</td>\n",
              "    </tr>\n",
              "    <tr>\n",
              "      <th>SLC35E2</th>\n",
              "      <td>3.031</td>\n",
              "      <td>3.157</td>\n",
              "      <td>3.774</td>\n",
              "      <td>4.425</td>\n",
              "      <td>2.833</td>\n",
              "      <td>2.820</td>\n",
              "      <td>4.573</td>\n",
              "      <td>3.367</td>\n",
              "      <td>2.974</td>\n",
              "      <td>3.543</td>\n",
              "      <td>2.870</td>\n",
              "      <td>3.335</td>\n",
              "      <td>2.633</td>\n",
              "      <td>2.963</td>\n",
              "      <td>3.577</td>\n",
              "      <td>2.968</td>\n",
              "      <td>2.575</td>\n",
              "      <td>3.059</td>\n",
              "      <td>3.061</td>\n",
              "      <td>3.243</td>\n",
              "      <td>2.704</td>\n",
              "      <td>3.494</td>\n",
              "      <td>2.981</td>\n",
              "      <td>2.941</td>\n",
              "      <td>3.419</td>\n",
              "      <td>2.751</td>\n",
              "      <td>3.083</td>\n",
              "      <td>4.245</td>\n",
              "      <td>3.332</td>\n",
              "      <td>2.945</td>\n",
              "      <td>2.975</td>\n",
              "      <td>3.517</td>\n",
              "      <td>2.959</td>\n",
              "      <td>3.016</td>\n",
              "      <td>3.413</td>\n",
              "      <td>3.155</td>\n",
              "      <td>3.593</td>\n",
              "      <td>3.224</td>\n",
              "      <td>2.972</td>\n",
              "      <td>3.154</td>\n",
              "      <td>...</td>\n",
              "      <td>2.942</td>\n",
              "      <td>3.647</td>\n",
              "      <td>3.181</td>\n",
              "      <td>2.835</td>\n",
              "      <td>4.256</td>\n",
              "      <td>3.457</td>\n",
              "      <td>3.226</td>\n",
              "      <td>2.711</td>\n",
              "      <td>3.936</td>\n",
              "      <td>3.278</td>\n",
              "      <td>3.868</td>\n",
              "      <td>3.660</td>\n",
              "      <td>2.759</td>\n",
              "      <td>3.328</td>\n",
              "      <td>3.687</td>\n",
              "      <td>3.537</td>\n",
              "      <td>2.757</td>\n",
              "      <td>3.456</td>\n",
              "      <td>2.515</td>\n",
              "      <td>3.247</td>\n",
              "      <td>3.451</td>\n",
              "      <td>3.227</td>\n",
              "      <td>3.629</td>\n",
              "      <td>2.989</td>\n",
              "      <td>3.014</td>\n",
              "      <td>2.528</td>\n",
              "      <td>2.850</td>\n",
              "      <td>3.256</td>\n",
              "      <td>3.058</td>\n",
              "      <td>2.746</td>\n",
              "      <td>3.005</td>\n",
              "      <td>3.209</td>\n",
              "      <td>3.050</td>\n",
              "      <td>3.849</td>\n",
              "      <td>3.618</td>\n",
              "      <td>3.387</td>\n",
              "      <td>3.377</td>\n",
              "      <td>2.896</td>\n",
              "      <td>3.630</td>\n",
              "      <td>2.974</td>\n",
              "    </tr>\n",
              "    <tr>\n",
              "      <th>NaN</th>\n",
              "      <td>3.235</td>\n",
              "      <td>4.777</td>\n",
              "      <td>3.212</td>\n",
              "      <td>2.899</td>\n",
              "      <td>2.833</td>\n",
              "      <td>3.392</td>\n",
              "      <td>4.377</td>\n",
              "      <td>3.061</td>\n",
              "      <td>4.348</td>\n",
              "      <td>3.111</td>\n",
              "      <td>3.524</td>\n",
              "      <td>2.836</td>\n",
              "      <td>4.012</td>\n",
              "      <td>2.722</td>\n",
              "      <td>3.004</td>\n",
              "      <td>3.151</td>\n",
              "      <td>3.500</td>\n",
              "      <td>2.841</td>\n",
              "      <td>2.948</td>\n",
              "      <td>3.775</td>\n",
              "      <td>3.642</td>\n",
              "      <td>3.145</td>\n",
              "      <td>3.023</td>\n",
              "      <td>3.227</td>\n",
              "      <td>3.346</td>\n",
              "      <td>2.986</td>\n",
              "      <td>2.540</td>\n",
              "      <td>3.180</td>\n",
              "      <td>3.392</td>\n",
              "      <td>3.148</td>\n",
              "      <td>3.091</td>\n",
              "      <td>2.868</td>\n",
              "      <td>3.359</td>\n",
              "      <td>3.006</td>\n",
              "      <td>2.323</td>\n",
              "      <td>2.830</td>\n",
              "      <td>2.904</td>\n",
              "      <td>2.583</td>\n",
              "      <td>2.413</td>\n",
              "      <td>3.180</td>\n",
              "      <td>...</td>\n",
              "      <td>2.751</td>\n",
              "      <td>2.663</td>\n",
              "      <td>2.723</td>\n",
              "      <td>2.961</td>\n",
              "      <td>4.315</td>\n",
              "      <td>3.429</td>\n",
              "      <td>2.824</td>\n",
              "      <td>3.529</td>\n",
              "      <td>3.464</td>\n",
              "      <td>3.664</td>\n",
              "      <td>2.981</td>\n",
              "      <td>2.814</td>\n",
              "      <td>2.984</td>\n",
              "      <td>2.574</td>\n",
              "      <td>3.245</td>\n",
              "      <td>3.539</td>\n",
              "      <td>2.670</td>\n",
              "      <td>3.045</td>\n",
              "      <td>2.734</td>\n",
              "      <td>2.970</td>\n",
              "      <td>2.980</td>\n",
              "      <td>3.509</td>\n",
              "      <td>5.344</td>\n",
              "      <td>3.102</td>\n",
              "      <td>2.943</td>\n",
              "      <td>3.030</td>\n",
              "      <td>3.082</td>\n",
              "      <td>3.095</td>\n",
              "      <td>3.234</td>\n",
              "      <td>4.622</td>\n",
              "      <td>2.567</td>\n",
              "      <td>2.685</td>\n",
              "      <td>3.204</td>\n",
              "      <td>3.291</td>\n",
              "      <td>3.249</td>\n",
              "      <td>3.430</td>\n",
              "      <td>3.381</td>\n",
              "      <td>2.765</td>\n",
              "      <td>4.215</td>\n",
              "      <td>3.006</td>\n",
              "    </tr>\n",
              "    <tr>\n",
              "      <th>RPS28</th>\n",
              "      <td>11.611</td>\n",
              "      <td>10.564</td>\n",
              "      <td>10.613</td>\n",
              "      <td>10.587</td>\n",
              "      <td>10.656</td>\n",
              "      <td>10.957</td>\n",
              "      <td>11.495</td>\n",
              "      <td>12.035</td>\n",
              "      <td>12.079</td>\n",
              "      <td>11.936</td>\n",
              "      <td>11.878</td>\n",
              "      <td>11.951</td>\n",
              "      <td>11.989</td>\n",
              "      <td>11.518</td>\n",
              "      <td>11.528</td>\n",
              "      <td>13.611</td>\n",
              "      <td>13.707</td>\n",
              "      <td>13.286</td>\n",
              "      <td>13.512</td>\n",
              "      <td>13.573</td>\n",
              "      <td>13.622</td>\n",
              "      <td>13.274</td>\n",
              "      <td>13.656</td>\n",
              "      <td>13.487</td>\n",
              "      <td>13.330</td>\n",
              "      <td>13.851</td>\n",
              "      <td>13.333</td>\n",
              "      <td>13.506</td>\n",
              "      <td>13.567</td>\n",
              "      <td>13.635</td>\n",
              "      <td>13.274</td>\n",
              "      <td>13.583</td>\n",
              "      <td>13.779</td>\n",
              "      <td>13.704</td>\n",
              "      <td>13.556</td>\n",
              "      <td>13.506</td>\n",
              "      <td>13.326</td>\n",
              "      <td>13.487</td>\n",
              "      <td>13.618</td>\n",
              "      <td>13.755</td>\n",
              "      <td>...</td>\n",
              "      <td>13.498</td>\n",
              "      <td>13.768</td>\n",
              "      <td>13.658</td>\n",
              "      <td>11.239</td>\n",
              "      <td>10.733</td>\n",
              "      <td>10.970</td>\n",
              "      <td>11.013</td>\n",
              "      <td>11.554</td>\n",
              "      <td>12.182</td>\n",
              "      <td>11.622</td>\n",
              "      <td>11.462</td>\n",
              "      <td>11.452</td>\n",
              "      <td>11.230</td>\n",
              "      <td>11.856</td>\n",
              "      <td>13.703</td>\n",
              "      <td>13.554</td>\n",
              "      <td>13.667</td>\n",
              "      <td>13.661</td>\n",
              "      <td>13.661</td>\n",
              "      <td>13.782</td>\n",
              "      <td>13.811</td>\n",
              "      <td>13.628</td>\n",
              "      <td>13.756</td>\n",
              "      <td>11.446</td>\n",
              "      <td>11.434</td>\n",
              "      <td>11.855</td>\n",
              "      <td>11.627</td>\n",
              "      <td>11.119</td>\n",
              "      <td>11.559</td>\n",
              "      <td>11.888</td>\n",
              "      <td>11.922</td>\n",
              "      <td>10.992</td>\n",
              "      <td>11.382</td>\n",
              "      <td>10.861</td>\n",
              "      <td>11.528</td>\n",
              "      <td>11.224</td>\n",
              "      <td>11.547</td>\n",
              "      <td>11.452</td>\n",
              "      <td>11.771</td>\n",
              "      <td>12.490</td>\n",
              "    </tr>\n",
              "    <tr>\n",
              "      <th>...</th>\n",
              "      <td>...</td>\n",
              "      <td>...</td>\n",
              "      <td>...</td>\n",
              "      <td>...</td>\n",
              "      <td>...</td>\n",
              "      <td>...</td>\n",
              "      <td>...</td>\n",
              "      <td>...</td>\n",
              "      <td>...</td>\n",
              "      <td>...</td>\n",
              "      <td>...</td>\n",
              "      <td>...</td>\n",
              "      <td>...</td>\n",
              "      <td>...</td>\n",
              "      <td>...</td>\n",
              "      <td>...</td>\n",
              "      <td>...</td>\n",
              "      <td>...</td>\n",
              "      <td>...</td>\n",
              "      <td>...</td>\n",
              "      <td>...</td>\n",
              "      <td>...</td>\n",
              "      <td>...</td>\n",
              "      <td>...</td>\n",
              "      <td>...</td>\n",
              "      <td>...</td>\n",
              "      <td>...</td>\n",
              "      <td>...</td>\n",
              "      <td>...</td>\n",
              "      <td>...</td>\n",
              "      <td>...</td>\n",
              "      <td>...</td>\n",
              "      <td>...</td>\n",
              "      <td>...</td>\n",
              "      <td>...</td>\n",
              "      <td>...</td>\n",
              "      <td>...</td>\n",
              "      <td>...</td>\n",
              "      <td>...</td>\n",
              "      <td>...</td>\n",
              "      <td>...</td>\n",
              "      <td>...</td>\n",
              "      <td>...</td>\n",
              "      <td>...</td>\n",
              "      <td>...</td>\n",
              "      <td>...</td>\n",
              "      <td>...</td>\n",
              "      <td>...</td>\n",
              "      <td>...</td>\n",
              "      <td>...</td>\n",
              "      <td>...</td>\n",
              "      <td>...</td>\n",
              "      <td>...</td>\n",
              "      <td>...</td>\n",
              "      <td>...</td>\n",
              "      <td>...</td>\n",
              "      <td>...</td>\n",
              "      <td>...</td>\n",
              "      <td>...</td>\n",
              "      <td>...</td>\n",
              "      <td>...</td>\n",
              "      <td>...</td>\n",
              "      <td>...</td>\n",
              "      <td>...</td>\n",
              "      <td>...</td>\n",
              "      <td>...</td>\n",
              "      <td>...</td>\n",
              "      <td>...</td>\n",
              "      <td>...</td>\n",
              "      <td>...</td>\n",
              "      <td>...</td>\n",
              "      <td>...</td>\n",
              "      <td>...</td>\n",
              "      <td>...</td>\n",
              "      <td>...</td>\n",
              "      <td>...</td>\n",
              "      <td>...</td>\n",
              "      <td>...</td>\n",
              "      <td>...</td>\n",
              "      <td>...</td>\n",
              "      <td>...</td>\n",
              "    </tr>\n",
              "    <tr>\n",
              "      <th>NaN</th>\n",
              "      <td>3.149</td>\n",
              "      <td>2.954</td>\n",
              "      <td>2.791</td>\n",
              "      <td>4.373</td>\n",
              "      <td>3.845</td>\n",
              "      <td>3.586</td>\n",
              "      <td>3.799</td>\n",
              "      <td>3.885</td>\n",
              "      <td>3.490</td>\n",
              "      <td>5.997</td>\n",
              "      <td>3.241</td>\n",
              "      <td>3.952</td>\n",
              "      <td>3.525</td>\n",
              "      <td>4.087</td>\n",
              "      <td>3.373</td>\n",
              "      <td>3.360</td>\n",
              "      <td>3.437</td>\n",
              "      <td>3.599</td>\n",
              "      <td>3.958</td>\n",
              "      <td>3.228</td>\n",
              "      <td>4.789</td>\n",
              "      <td>3.788</td>\n",
              "      <td>2.974</td>\n",
              "      <td>3.355</td>\n",
              "      <td>3.531</td>\n",
              "      <td>3.712</td>\n",
              "      <td>4.066</td>\n",
              "      <td>3.510</td>\n",
              "      <td>3.790</td>\n",
              "      <td>3.443</td>\n",
              "      <td>3.518</td>\n",
              "      <td>3.316</td>\n",
              "      <td>2.961</td>\n",
              "      <td>3.867</td>\n",
              "      <td>3.794</td>\n",
              "      <td>3.713</td>\n",
              "      <td>3.102</td>\n",
              "      <td>3.693</td>\n",
              "      <td>4.450</td>\n",
              "      <td>3.350</td>\n",
              "      <td>...</td>\n",
              "      <td>3.386</td>\n",
              "      <td>4.108</td>\n",
              "      <td>3.060</td>\n",
              "      <td>4.017</td>\n",
              "      <td>3.229</td>\n",
              "      <td>3.032</td>\n",
              "      <td>3.686</td>\n",
              "      <td>3.740</td>\n",
              "      <td>2.866</td>\n",
              "      <td>3.084</td>\n",
              "      <td>3.557</td>\n",
              "      <td>3.586</td>\n",
              "      <td>3.828</td>\n",
              "      <td>3.674</td>\n",
              "      <td>3.538</td>\n",
              "      <td>4.255</td>\n",
              "      <td>3.510</td>\n",
              "      <td>4.465</td>\n",
              "      <td>3.517</td>\n",
              "      <td>3.203</td>\n",
              "      <td>3.385</td>\n",
              "      <td>3.176</td>\n",
              "      <td>3.320</td>\n",
              "      <td>4.377</td>\n",
              "      <td>5.109</td>\n",
              "      <td>4.680</td>\n",
              "      <td>3.594</td>\n",
              "      <td>4.222</td>\n",
              "      <td>2.818</td>\n",
              "      <td>2.850</td>\n",
              "      <td>3.668</td>\n",
              "      <td>3.149</td>\n",
              "      <td>3.081</td>\n",
              "      <td>3.887</td>\n",
              "      <td>3.533</td>\n",
              "      <td>3.008</td>\n",
              "      <td>3.877</td>\n",
              "      <td>4.072</td>\n",
              "      <td>4.535</td>\n",
              "      <td>4.494</td>\n",
              "    </tr>\n",
              "    <tr>\n",
              "      <th>NaN</th>\n",
              "      <td>3.425</td>\n",
              "      <td>3.659</td>\n",
              "      <td>3.111</td>\n",
              "      <td>2.890</td>\n",
              "      <td>3.358</td>\n",
              "      <td>2.901</td>\n",
              "      <td>3.337</td>\n",
              "      <td>3.102</td>\n",
              "      <td>3.519</td>\n",
              "      <td>4.320</td>\n",
              "      <td>3.348</td>\n",
              "      <td>3.026</td>\n",
              "      <td>2.629</td>\n",
              "      <td>3.522</td>\n",
              "      <td>3.305</td>\n",
              "      <td>2.944</td>\n",
              "      <td>3.381</td>\n",
              "      <td>3.064</td>\n",
              "      <td>3.533</td>\n",
              "      <td>3.232</td>\n",
              "      <td>3.340</td>\n",
              "      <td>3.040</td>\n",
              "      <td>2.582</td>\n",
              "      <td>2.639</td>\n",
              "      <td>2.815</td>\n",
              "      <td>2.635</td>\n",
              "      <td>3.386</td>\n",
              "      <td>3.042</td>\n",
              "      <td>2.982</td>\n",
              "      <td>2.597</td>\n",
              "      <td>3.311</td>\n",
              "      <td>3.513</td>\n",
              "      <td>3.031</td>\n",
              "      <td>2.990</td>\n",
              "      <td>2.813</td>\n",
              "      <td>3.430</td>\n",
              "      <td>3.021</td>\n",
              "      <td>3.346</td>\n",
              "      <td>2.726</td>\n",
              "      <td>3.415</td>\n",
              "      <td>...</td>\n",
              "      <td>3.129</td>\n",
              "      <td>3.100</td>\n",
              "      <td>3.094</td>\n",
              "      <td>2.950</td>\n",
              "      <td>2.944</td>\n",
              "      <td>2.988</td>\n",
              "      <td>3.031</td>\n",
              "      <td>2.831</td>\n",
              "      <td>3.020</td>\n",
              "      <td>3.028</td>\n",
              "      <td>3.031</td>\n",
              "      <td>3.263</td>\n",
              "      <td>3.072</td>\n",
              "      <td>2.887</td>\n",
              "      <td>3.246</td>\n",
              "      <td>2.507</td>\n",
              "      <td>3.090</td>\n",
              "      <td>3.294</td>\n",
              "      <td>2.952</td>\n",
              "      <td>2.559</td>\n",
              "      <td>3.004</td>\n",
              "      <td>3.424</td>\n",
              "      <td>3.480</td>\n",
              "      <td>3.470</td>\n",
              "      <td>3.195</td>\n",
              "      <td>2.769</td>\n",
              "      <td>3.358</td>\n",
              "      <td>3.653</td>\n",
              "      <td>2.997</td>\n",
              "      <td>4.511</td>\n",
              "      <td>3.643</td>\n",
              "      <td>2.907</td>\n",
              "      <td>4.042</td>\n",
              "      <td>3.244</td>\n",
              "      <td>3.354</td>\n",
              "      <td>2.951</td>\n",
              "      <td>3.057</td>\n",
              "      <td>3.269</td>\n",
              "      <td>3.419</td>\n",
              "      <td>3.342</td>\n",
              "    </tr>\n",
              "    <tr>\n",
              "      <th>LINC00173</th>\n",
              "      <td>2.857</td>\n",
              "      <td>3.596</td>\n",
              "      <td>4.923</td>\n",
              "      <td>4.104</td>\n",
              "      <td>4.293</td>\n",
              "      <td>4.255</td>\n",
              "      <td>6.464</td>\n",
              "      <td>5.311</td>\n",
              "      <td>4.647</td>\n",
              "      <td>4.612</td>\n",
              "      <td>4.150</td>\n",
              "      <td>3.971</td>\n",
              "      <td>6.049</td>\n",
              "      <td>3.230</td>\n",
              "      <td>3.319</td>\n",
              "      <td>3.066</td>\n",
              "      <td>3.541</td>\n",
              "      <td>3.356</td>\n",
              "      <td>2.461</td>\n",
              "      <td>3.637</td>\n",
              "      <td>2.993</td>\n",
              "      <td>3.607</td>\n",
              "      <td>2.538</td>\n",
              "      <td>2.905</td>\n",
              "      <td>3.626</td>\n",
              "      <td>3.164</td>\n",
              "      <td>3.310</td>\n",
              "      <td>3.001</td>\n",
              "      <td>3.362</td>\n",
              "      <td>2.842</td>\n",
              "      <td>3.473</td>\n",
              "      <td>3.199</td>\n",
              "      <td>3.397</td>\n",
              "      <td>3.575</td>\n",
              "      <td>2.880</td>\n",
              "      <td>3.487</td>\n",
              "      <td>3.128</td>\n",
              "      <td>3.151</td>\n",
              "      <td>3.277</td>\n",
              "      <td>3.349</td>\n",
              "      <td>...</td>\n",
              "      <td>2.690</td>\n",
              "      <td>3.665</td>\n",
              "      <td>3.082</td>\n",
              "      <td>3.853</td>\n",
              "      <td>6.017</td>\n",
              "      <td>3.171</td>\n",
              "      <td>3.690</td>\n",
              "      <td>2.798</td>\n",
              "      <td>2.715</td>\n",
              "      <td>3.648</td>\n",
              "      <td>3.618</td>\n",
              "      <td>3.668</td>\n",
              "      <td>3.562</td>\n",
              "      <td>3.901</td>\n",
              "      <td>3.519</td>\n",
              "      <td>4.275</td>\n",
              "      <td>3.545</td>\n",
              "      <td>3.019</td>\n",
              "      <td>3.509</td>\n",
              "      <td>3.805</td>\n",
              "      <td>2.992</td>\n",
              "      <td>4.839</td>\n",
              "      <td>3.030</td>\n",
              "      <td>3.593</td>\n",
              "      <td>3.396</td>\n",
              "      <td>3.027</td>\n",
              "      <td>3.651</td>\n",
              "      <td>4.704</td>\n",
              "      <td>3.592</td>\n",
              "      <td>4.583</td>\n",
              "      <td>3.282</td>\n",
              "      <td>3.633</td>\n",
              "      <td>4.054</td>\n",
              "      <td>3.112</td>\n",
              "      <td>4.417</td>\n",
              "      <td>3.658</td>\n",
              "      <td>4.020</td>\n",
              "      <td>3.072</td>\n",
              "      <td>3.971</td>\n",
              "      <td>3.560</td>\n",
              "    </tr>\n",
              "    <tr>\n",
              "      <th>NaN</th>\n",
              "      <td>3.527</td>\n",
              "      <td>3.112</td>\n",
              "      <td>3.049</td>\n",
              "      <td>3.208</td>\n",
              "      <td>3.084</td>\n",
              "      <td>3.068</td>\n",
              "      <td>3.317</td>\n",
              "      <td>3.381</td>\n",
              "      <td>3.025</td>\n",
              "      <td>3.489</td>\n",
              "      <td>3.410</td>\n",
              "      <td>3.715</td>\n",
              "      <td>5.619</td>\n",
              "      <td>3.107</td>\n",
              "      <td>2.660</td>\n",
              "      <td>4.145</td>\n",
              "      <td>3.758</td>\n",
              "      <td>3.100</td>\n",
              "      <td>3.754</td>\n",
              "      <td>4.843</td>\n",
              "      <td>3.649</td>\n",
              "      <td>3.078</td>\n",
              "      <td>2.990</td>\n",
              "      <td>3.335</td>\n",
              "      <td>3.099</td>\n",
              "      <td>2.933</td>\n",
              "      <td>2.928</td>\n",
              "      <td>3.191</td>\n",
              "      <td>3.472</td>\n",
              "      <td>3.481</td>\n",
              "      <td>2.891</td>\n",
              "      <td>3.594</td>\n",
              "      <td>3.145</td>\n",
              "      <td>2.597</td>\n",
              "      <td>2.912</td>\n",
              "      <td>2.468</td>\n",
              "      <td>3.321</td>\n",
              "      <td>3.216</td>\n",
              "      <td>3.615</td>\n",
              "      <td>2.837</td>\n",
              "      <td>...</td>\n",
              "      <td>2.858</td>\n",
              "      <td>3.592</td>\n",
              "      <td>2.909</td>\n",
              "      <td>3.034</td>\n",
              "      <td>5.188</td>\n",
              "      <td>2.774</td>\n",
              "      <td>3.466</td>\n",
              "      <td>2.949</td>\n",
              "      <td>4.492</td>\n",
              "      <td>3.226</td>\n",
              "      <td>2.892</td>\n",
              "      <td>2.881</td>\n",
              "      <td>3.141</td>\n",
              "      <td>3.010</td>\n",
              "      <td>3.813</td>\n",
              "      <td>2.699</td>\n",
              "      <td>3.678</td>\n",
              "      <td>3.325</td>\n",
              "      <td>2.957</td>\n",
              "      <td>3.039</td>\n",
              "      <td>3.897</td>\n",
              "      <td>2.730</td>\n",
              "      <td>4.523</td>\n",
              "      <td>3.022</td>\n",
              "      <td>3.537</td>\n",
              "      <td>3.218</td>\n",
              "      <td>4.026</td>\n",
              "      <td>3.668</td>\n",
              "      <td>3.406</td>\n",
              "      <td>4.384</td>\n",
              "      <td>3.465</td>\n",
              "      <td>3.739</td>\n",
              "      <td>3.286</td>\n",
              "      <td>3.012</td>\n",
              "      <td>3.074</td>\n",
              "      <td>3.013</td>\n",
              "      <td>3.158</td>\n",
              "      <td>2.803</td>\n",
              "      <td>4.135</td>\n",
              "      <td>3.325</td>\n",
              "    </tr>\n",
              "    <tr>\n",
              "      <th>LINC00173</th>\n",
              "      <td>3.447</td>\n",
              "      <td>4.063</td>\n",
              "      <td>2.911</td>\n",
              "      <td>3.704</td>\n",
              "      <td>3.878</td>\n",
              "      <td>2.780</td>\n",
              "      <td>5.622</td>\n",
              "      <td>4.107</td>\n",
              "      <td>3.489</td>\n",
              "      <td>2.783</td>\n",
              "      <td>3.207</td>\n",
              "      <td>2.663</td>\n",
              "      <td>3.230</td>\n",
              "      <td>3.478</td>\n",
              "      <td>2.782</td>\n",
              "      <td>3.284</td>\n",
              "      <td>2.814</td>\n",
              "      <td>3.364</td>\n",
              "      <td>2.916</td>\n",
              "      <td>3.807</td>\n",
              "      <td>2.617</td>\n",
              "      <td>3.868</td>\n",
              "      <td>2.901</td>\n",
              "      <td>2.474</td>\n",
              "      <td>2.802</td>\n",
              "      <td>2.764</td>\n",
              "      <td>2.839</td>\n",
              "      <td>2.997</td>\n",
              "      <td>3.234</td>\n",
              "      <td>3.120</td>\n",
              "      <td>3.644</td>\n",
              "      <td>3.223</td>\n",
              "      <td>3.221</td>\n",
              "      <td>3.254</td>\n",
              "      <td>2.950</td>\n",
              "      <td>3.051</td>\n",
              "      <td>3.033</td>\n",
              "      <td>2.661</td>\n",
              "      <td>2.793</td>\n",
              "      <td>3.138</td>\n",
              "      <td>...</td>\n",
              "      <td>3.233</td>\n",
              "      <td>2.926</td>\n",
              "      <td>2.706</td>\n",
              "      <td>3.562</td>\n",
              "      <td>4.879</td>\n",
              "      <td>2.433</td>\n",
              "      <td>2.767</td>\n",
              "      <td>3.243</td>\n",
              "      <td>4.709</td>\n",
              "      <td>3.721</td>\n",
              "      <td>3.359</td>\n",
              "      <td>3.386</td>\n",
              "      <td>3.219</td>\n",
              "      <td>3.497</td>\n",
              "      <td>3.574</td>\n",
              "      <td>3.016</td>\n",
              "      <td>2.920</td>\n",
              "      <td>3.057</td>\n",
              "      <td>3.044</td>\n",
              "      <td>3.150</td>\n",
              "      <td>3.133</td>\n",
              "      <td>2.757</td>\n",
              "      <td>2.888</td>\n",
              "      <td>3.171</td>\n",
              "      <td>3.376</td>\n",
              "      <td>3.129</td>\n",
              "      <td>2.990</td>\n",
              "      <td>3.114</td>\n",
              "      <td>3.821</td>\n",
              "      <td>3.193</td>\n",
              "      <td>3.055</td>\n",
              "      <td>3.442</td>\n",
              "      <td>2.725</td>\n",
              "      <td>3.805</td>\n",
              "      <td>3.132</td>\n",
              "      <td>2.806</td>\n",
              "      <td>2.568</td>\n",
              "      <td>3.355</td>\n",
              "      <td>2.983</td>\n",
              "      <td>4.274</td>\n",
              "    </tr>\n",
              "  </tbody>\n",
              "</table>\n",
              "<p>32831 rows × 151 columns</p>\n",
              "</div>"
            ],
            "text/plain": [
              "           67_F_cont  65_M_cont  68_M_cont  ...  75_F_case  53_F_case.1  82_F_case\n",
              "x                                           ...                                   \n",
              "EEF1A1        14.708     14.627     14.727  ...     15.031       14.902     14.858\n",
              "GAPDH         11.362     11.784     11.261  ...     11.976       11.942     11.913\n",
              "SLC35E2        3.031      3.157      3.774  ...      2.896        3.630      2.974\n",
              "NaN            3.235      4.777      3.212  ...      2.765        4.215      3.006\n",
              "RPS28         11.611     10.564     10.613  ...     11.452       11.771     12.490\n",
              "...              ...        ...        ...  ...        ...          ...        ...\n",
              "NaN            3.149      2.954      2.791  ...      4.072        4.535      4.494\n",
              "NaN            3.425      3.659      3.111  ...      3.269        3.419      3.342\n",
              "LINC00173      2.857      3.596      4.923  ...      3.072        3.971      3.560\n",
              "NaN            3.527      3.112      3.049  ...      2.803        4.135      3.325\n",
              "LINC00173      3.447      4.063      2.911  ...      3.355        2.983      4.274\n",
              "\n",
              "[32831 rows x 151 columns]"
            ]
          },
          "metadata": {
            "tags": []
          },
          "execution_count": 25
        }
      ]
    },
    {
      "cell_type": "code",
      "metadata": {
        "id": "Td0iemcdeJVc"
      },
      "source": [
        "data1.index.tolist()"
      ],
      "execution_count": null,
      "outputs": []
    },
    {
      "cell_type": "code",
      "metadata": {
        "id": "2saG3_e1cVsg"
      },
      "source": [
        "# LTCOPD_genes=pd.read_csv('drive/My Drive/Colab Notebooks/LTCOPD_genes.txt',index_col=None,header=None,sep='\\t')\n",
        "LTCOPD_exp=(LTCOPD_exp.dropna(how='all'))\n",
        "data2=LTCOPD_exp.merge(pd.DataFrame(data1.index.tolist()),left_index=True,right_on=0)\n",
        "data2.index=data2[0]\n",
        "data2.replace([np.inf, -np.inf], np.nan,inplace=True)\n",
        "data2.replace(np.nan, 0,inplace=True)\n",
        "data2=data2.groupby(data2.index).mean()"
      ],
      "execution_count": 32,
      "outputs": []
    },
    {
      "cell_type": "code",
      "metadata": {
        "id": "P9x9Kp94wlY1",
        "colab": {
          "base_uri": "https://localhost:8080/"
        },
        "outputId": "dda4af7c-4a95-46f4-96c6-09650f655a15"
      },
      "source": [
        "\n",
        "FC=data2.iloc[:,data2.columns.str.contains('_F_case')]\n",
        "FNC=data2.iloc[:,data2.columns.str.contains('_F_cont')]\n",
        "MC=data2.iloc[:,data2.columns.str.contains('_M_case')]\n",
        "MNC=data2.iloc[:,data2.columns.str.contains('_M_cont')]\n",
        "print([FC.shape,FNC.shape,MC.shape,MNC.shape])\n",
        "\n",
        "FC.to_csv('Fcase.txt',sep='\\t',index=True,header=False)\n",
        "FNC.to_csv('Fcont.txt',sep='\\t',index=True,header=False)\n",
        "MC.to_csv('Mcase.txt',sep='\\t',index=True,header=False)\n",
        "MNC.to_csv('Mcont.txt',sep='\\t',index=True,header=False)"
      ],
      "execution_count": 34,
      "outputs": [
        {
          "output_type": "stream",
          "text": [
            "[(13968, 59), (13968, 25), (13968, 52), (13968, 15)]\n"
          ],
          "name": "stdout"
        }
      ]
    },
    {
      "cell_type": "code",
      "metadata": {
        "id": "U2F-vxR2ALZf"
      },
      "source": [
        "panda_obj1 = Panda('Fcase.txt', F_motif_data, ppi_data,computing='gpu',precision='single',save_tmp=False,save_memory = False, remove_missing=False, keep_expression_matrix = False,modeProcess = 'intersection')\n",
        "np.save('drive/My Drive/Colab Notebooks/model_output/FC_LTCOPD.npy',panda_obj1.export_panda_results)\n",
        "del panda_obj1\n",
        "panda_obj2 = Panda('Mcase.txt', motif_data, ppi_data,computing='gpu',precision='single',save_tmp=False,save_memory = False, remove_missing=False, keep_expression_matrix = False,modeProcess = 'intersection')\n",
        "np.save('drive/My Drive/Colab Notebooks/model_output/MC_LTCOPD.npy',panda_obj2.export_panda_results)\n",
        "del panda_obj2\n",
        "panda_obj3 = Panda('Fcont.txt', F_motif_data, ppi_data,computing='gpu',precision='single',save_tmp=False,save_memory = False, remove_missing=False, keep_expression_matrix = False,modeProcess = 'intersection')\n",
        "np.save('drive/My Drive/Colab Notebooks/model_output/FNC_LTCOPD.npy',panda_obj3.export_panda_results)\n",
        "del panda_obj3\n",
        "panda_obj4 = Panda('Mcont.txt', motif_data, ppi_data,computing='gpu',precision='single',save_tmp=False,save_memory = False, remove_missing=False, keep_expression_matrix = False,modeProcess = 'intersection')\n",
        "np.save('drive/My Drive/Colab Notebooks/model_output/MNC_LTCOPD.npy',panda_obj4.export_panda_results)\n",
        "del panda_obj4\n",
        "# panda_obj5 = Panda('FcaseFULL.txt', motif_data, ppi_data,computing='gpu',precision='single',save_tmp=False,save_memory = False, remove_missing=False, keep_expression_matrix = True,modeProcess = 'intersection')\n",
        "# np.save('drive/My Drive/Panda_FcaseFULL.npy',panda_obj5.export_panda_results)\n",
        "# del panda_obj5\n",
        "# panda_obj6 = Panda('FcontFULL.txt', motif_data, ppi_data,computing='gpu',precision='single',save_tmp=False,save_memory = False, remove_missing=False, keep_expression_matrix = True,modeProcess = 'intersection')\n",
        "# np.save('drive/My Drive/Panda_FcontFULL.npy',panda_obj6.export_panda_results)\n",
        "# del panda_obj6\n"
      ],
      "execution_count": null,
      "outputs": []
    },
    {
      "cell_type": "code",
      "metadata": {
        "id": "dGd2D_24BEDu"
      },
      "source": [
        "MC=np.load('drive/My Drive/Colab Notebooks/model_output/MC_LTCOPD.npy',allow_pickle=True)#,sep='\\t',index_col=0,header=None,names=['loc','symbol'])\n",
        "MNC=np.load('drive/My Drive/Colab Notebooks/model_output/MNC_LTCOPD.npy',allow_pickle=True)#,sep='\\t',index_col=0,header=None,names=['loc','symbol'])\n",
        "MNC=pd.DataFrame(MNC)\n",
        "MNC.columns=['tf','gene','motif','force']\n",
        "MC=pd.DataFrame(MC)\n",
        "MC.columns=['tf','gene','motif','force']\n",
        "\n",
        "TFsum_3=MC.groupby(['tf']).agg({'force':sum})\n",
        "TFsum_1=MNC.groupby(['tf']).agg({'force':sum})\n",
        "TFsum_1['force']=zscore(TFsum_1['force'])\n",
        "TFsum_3['force']=zscore(TFsum_3['force']) ##reduces range from 1500 to 3\n",
        "\n",
        "geneSum_3=MC.groupby(['gene']).agg({'force':sum})\n",
        "geneSum_1=MNC.groupby(['gene']).agg({'force':sum})\n",
        "geneSum_3['force']=zscore(geneSum_3['force'])\n",
        "geneSum_1['force']=zscore(geneSum_1['force'])\n",
        "\n",
        "mmm=TFsum_3.merge(TFsum_1, left_on=['tf'], right_on=['tf'])\n",
        "mmmm=geneSum_3.merge(geneSum_1, left_on=['gene'], right_on=['gene'])\n",
        "\n",
        "# del [[MC, MNC]]\n",
        "# gc.collect()\n",
        "MC=pd.DataFrame()\n",
        "MNC=pd.DataFrame()\n",
        "# Panda_FcontFULL=pd.DataFrame()\n",
        "# Panda_FcontFULL=pd.DataFrame()\n",
        "\n",
        "\n",
        "mmm['diff']=mmm.force_x-mmm.force_y\n",
        "mmm = mmm.sort_values(by ='diff' )\n",
        "\n",
        "\n",
        "mmmm['diff']=mmmm.force_x-mmmm.force_y\n",
        "mmmm = mmmm.sort_values(by ='diff' )\n",
        "mmm.to_csv('drive/My Drive/TF_zscore_M.txt',sep='\\t')\n",
        "mmmm.to_csv('drive/My Drive/gene_zscore_M.txt',sep='\\t')"
      ],
      "execution_count": 38,
      "outputs": []
    },
    {
      "cell_type": "code",
      "metadata": {
        "id": "m2FxW2_mDWgc"
      },
      "source": [
        "FC=np.load('drive/My Drive/Colab Notebooks/model_output/FC_LTCOPD.npy',allow_pickle=True)#,sep='\\t',index_col=0,header=None,names=['loc','symbol'])\n",
        "FNC=np.load('drive/My Drive/Colab Notebooks/model_output/FNC_LTCOPD.npy',allow_pickle=True)#,sep='\\t',index_col=0,header=None,names=['loc','symbol'])\n",
        "FNC=pd.DataFrame(FNC)\n",
        "FNC.columns=['tf','gene','motif','force']\n",
        "FC=pd.DataFrame(FC)\n",
        "FC.columns=['tf','gene','motif','force']\n",
        "\n",
        "TFsum_4=FC.groupby(['tf']).agg({'force':sum})\n",
        "TFsum_2=FNC.groupby(['tf']).agg({'force':sum})\n",
        "TFsum_2['force']=zscore(TFsum_2['force'])\n",
        "TFsum_4['force']=zscore(TFsum_4['force']) ##reduces range from 2500 to 4\n",
        "\n",
        "geneSum_4=FC.groupby(['gene']).agg({'force':sum})\n",
        "geneSum_2=FNC.groupby(['gene']).agg({'force':sum})\n",
        "geneSum_4['force']=zscore(geneSum_4['force'])\n",
        "geneSum_2['force']=zscore(geneSum_2['force'])\n",
        "\n",
        "nnn=TFsum_4.merge(TFsum_2, left_on=['tf'], right_on=['tf'])\n",
        "nnnn=geneSum_4.merge(geneSum_2, left_on=['gene'], right_on=['gene'])\n",
        "\n",
        "# del [[FC, FNC]]\n",
        "# gc.collect()\n",
        "FC=pd.DataFrame()\n",
        "FNC=pd.DataFrame()\n",
        "Panda_FcontFULL=pd.DataFrame()\n",
        "Panda_FcontFULL=pd.DataFrame()\n",
        "\n",
        "\n",
        "nnn['diff']=nnn.force_x-nnn.force_y\n",
        "nnn = nnn.sort_values(by ='diff' )\n",
        "\n",
        "\n",
        "nnnn['diff']=mmmm.force_x-nnnn.force_y\n",
        "nnnn = nnnn.sort_values(by ='diff' )\n",
        "nnn.to_csv('drive/My Drive/TF_zscore_F.txt',sep='\\t')\n",
        "nnnn.to_csv('drive/My Drive/gene_zscore_F.txt',sep='\\t')"
      ],
      "execution_count": 14,
      "outputs": []
    },
    {
      "cell_type": "code",
      "metadata": {
        "id": "Zzhk7VQzEGIC"
      },
      "source": [
        ""
      ],
      "execution_count": null,
      "outputs": []
    }
  ]
}